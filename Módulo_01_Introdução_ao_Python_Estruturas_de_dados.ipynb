{
  "nbformat": 4,
  "nbformat_minor": 0,
  "metadata": {
    "colab": {
      "provenance": [],
      "collapsed_sections": [
        "YAwN0rkpKide",
        "MLMfhtQ4LzNJ",
        "zQELV7CjSS3-",
        "hTVBcEdO4XVd"
      ],
      "authorship_tag": "ABX9TyOLONdmKXOxay15PJx0TTrO",
      "include_colab_link": true
    },
    "kernelspec": {
      "name": "python3",
      "display_name": "Python 3"
    },
    "language_info": {
      "name": "python"
    }
  },
  "cells": [
    {
      "cell_type": "markdown",
      "metadata": {
        "id": "view-in-github",
        "colab_type": "text"
      },
      "source": [
        "<a href=\"https://colab.research.google.com/github/rafaeltsimon/PythonQuant/blob/main/M%C3%B3dulo_01_Introdu%C3%A7%C3%A3o_ao_Python_Estruturas_de_dados.ipynb\" target=\"_parent\"><img src=\"https://colab.research.google.com/assets/colab-badge.svg\" alt=\"Open In Colab\"/></a>"
      ]
    },
    {
      "cell_type": "code",
      "execution_count": null,
      "metadata": {
        "id": "eUapDDoWeoh4"
      },
      "outputs": [],
      "source": []
    },
    {
      "cell_type": "markdown",
      "source": [
        "# Módulo 1 - Introdução ao Python\n",
        "\n",
        "\n"
      ],
      "metadata": {
        "id": "9rPmxMRuev91"
      }
    },
    {
      "cell_type": "markdown",
      "source": [
        "<center><img src = https://upload.wikimedia.org/wikipedia/commons/0/0a/Python.svg>\n"
      ],
      "metadata": {
        "id": "M6DKIhd0gli2"
      }
    },
    {
      "cell_type": "markdown",
      "source": [
        "## 0. Hello World!"
      ],
      "metadata": {
        "id": "V5FpZ3sLjLOO"
      }
    },
    {
      "cell_type": "code",
      "source": [
        "print (\"Hello World!\")"
      ],
      "metadata": {
        "colab": {
          "base_uri": "https://localhost:8080/"
        },
        "id": "BSz7v177hmPn",
        "outputId": "2f633d92-847a-4de1-b422-de8023f6187d"
      },
      "execution_count": null,
      "outputs": [
        {
          "output_type": "stream",
          "name": "stdout",
          "text": [
            "Hello World!\n"
          ]
        }
      ]
    },
    {
      "cell_type": "markdown",
      "source": [
        "## 1. Strings\n"
      ],
      "metadata": {
        "id": "YAwN0rkpKide"
      }
    },
    {
      "cell_type": "code",
      "source": [
        "type(\"12\")"
      ],
      "metadata": {
        "colab": {
          "base_uri": "https://localhost:8080/"
        },
        "id": "MYnw2mByKlV3",
        "outputId": "50364b25-8a24-4af5-d9dc-d52a8446fc67"
      },
      "execution_count": null,
      "outputs": [
        {
          "output_type": "execute_result",
          "data": {
            "text/plain": [
              "str"
            ]
          },
          "metadata": {},
          "execution_count": 1
        }
      ]
    },
    {
      "cell_type": "code",
      "source": [
        "pi = 3.14\n",
        "pi_str =\"3.14\""
      ],
      "metadata": {
        "id": "RYJBY8MpK_K0"
      },
      "execution_count": null,
      "outputs": []
    },
    {
      "cell_type": "code",
      "source": [
        "pi"
      ],
      "metadata": {
        "colab": {
          "base_uri": "https://localhost:8080/"
        },
        "id": "2LW3sBJALs-L",
        "outputId": "7f87cc66-1982-4c39-ce87-97d7ed017e97"
      },
      "execution_count": null,
      "outputs": [
        {
          "output_type": "execute_result",
          "data": {
            "text/plain": [
              "3.14"
            ]
          },
          "metadata": {},
          "execution_count": 3
        }
      ]
    },
    {
      "cell_type": "code",
      "source": [
        "pi_str"
      ],
      "metadata": {
        "colab": {
          "base_uri": "https://localhost:8080/",
          "height": 35
        },
        "id": "W8jziSOqLwja",
        "outputId": "5803c809-3fd8-45e2-a3f6-4e9d452d8363"
      },
      "execution_count": null,
      "outputs": [
        {
          "output_type": "execute_result",
          "data": {
            "text/plain": [
              "'3.14'"
            ],
            "application/vnd.google.colaboratory.intrinsic+json": {
              "type": "string"
            }
          },
          "metadata": {},
          "execution_count": 4
        }
      ]
    },
    {
      "cell_type": "markdown",
      "source": [
        "### 2. Operações de indexação"
      ],
      "metadata": {
        "id": "MLMfhtQ4LzNJ"
      }
    },
    {
      "cell_type": "code",
      "source": [
        "manchete =\"Lula sanciona com vetos Marco Legal das Garantias; Texto é uma das apostas da Fazenda para destravar crédito\""
      ],
      "metadata": {
        "id": "pEzj6WS3L_nY"
      },
      "execution_count": null,
      "outputs": []
    },
    {
      "cell_type": "code",
      "source": [
        "print(manchete)"
      ],
      "metadata": {
        "colab": {
          "base_uri": "https://localhost:8080/"
        },
        "id": "bAYU6NCdMQge",
        "outputId": "3342b14a-8eff-4a0d-887d-dcabdf084824"
      },
      "execution_count": null,
      "outputs": [
        {
          "output_type": "stream",
          "name": "stdout",
          "text": [
            "Lula sanciona com vetos Marco Legal das Garantias; Texto é uma das apostas da Fazenda para destravar crédito\n"
          ]
        }
      ]
    },
    {
      "cell_type": "code",
      "source": [
        "len(manchete)"
      ],
      "metadata": {
        "colab": {
          "base_uri": "https://localhost:8080/"
        },
        "id": "RQd4qWZyMd4u",
        "outputId": "d8f36396-b30f-4094-94b2-605153dcb051"
      },
      "execution_count": null,
      "outputs": [
        {
          "output_type": "execute_result",
          "data": {
            "text/plain": [
              "108"
            ]
          },
          "metadata": {},
          "execution_count": 8
        }
      ]
    },
    {
      "cell_type": "code",
      "source": [
        "manchete[0]"
      ],
      "metadata": {
        "colab": {
          "base_uri": "https://localhost:8080/",
          "height": 35
        },
        "id": "5p1lBQBmMsPy",
        "outputId": "718b7d12-e2e4-4374-ebfd-07836fd82039"
      },
      "execution_count": null,
      "outputs": [
        {
          "output_type": "execute_result",
          "data": {
            "text/plain": [
              "'L'"
            ],
            "application/vnd.google.colaboratory.intrinsic+json": {
              "type": "string"
            }
          },
          "metadata": {},
          "execution_count": 9
        }
      ]
    },
    {
      "cell_type": "code",
      "source": [
        "manchete[4]"
      ],
      "metadata": {
        "colab": {
          "base_uri": "https://localhost:8080/",
          "height": 35
        },
        "id": "zxT1RkvCNcra",
        "outputId": "b6ce95d0-1c44-4272-f739-7b0b31edcd55"
      },
      "execution_count": null,
      "outputs": [
        {
          "output_type": "execute_result",
          "data": {
            "text/plain": [
              "' '"
            ],
            "application/vnd.google.colaboratory.intrinsic+json": {
              "type": "string"
            }
          },
          "metadata": {},
          "execution_count": 10
        }
      ]
    },
    {
      "cell_type": "code",
      "source": [
        "manchete[0:4]"
      ],
      "metadata": {
        "colab": {
          "base_uri": "https://localhost:8080/",
          "height": 35
        },
        "id": "azi4e_S7Nf8T",
        "outputId": "75910790-4e2c-4fa1-966d-16d1bf799305"
      },
      "execution_count": null,
      "outputs": [
        {
          "output_type": "execute_result",
          "data": {
            "text/plain": [
              "'Lula'"
            ],
            "application/vnd.google.colaboratory.intrinsic+json": {
              "type": "string"
            }
          },
          "metadata": {},
          "execution_count": 11
        }
      ]
    },
    {
      "cell_type": "code",
      "source": [
        "manchete[80:86]"
      ],
      "metadata": {
        "colab": {
          "base_uri": "https://localhost:8080/",
          "height": 35
        },
        "id": "Beb04RFaOD0F",
        "outputId": "e71a694b-909e-46ba-ad39-cb10f7d9f8bd"
      },
      "execution_count": null,
      "outputs": [
        {
          "output_type": "execute_result",
          "data": {
            "text/plain": [
              "'zenda '"
            ],
            "application/vnd.google.colaboratory.intrinsic+json": {
              "type": "string"
            }
          },
          "metadata": {},
          "execution_count": 12
        }
      ]
    },
    {
      "cell_type": "code",
      "source": [
        "manchete[78:84]"
      ],
      "metadata": {
        "colab": {
          "base_uri": "https://localhost:8080/",
          "height": 35
        },
        "id": "P8KI0uVOOcyZ",
        "outputId": "36d7e0ac-0606-4b03-9a59-919f2503477b"
      },
      "execution_count": null,
      "outputs": [
        {
          "output_type": "execute_result",
          "data": {
            "text/plain": [
              "'Fazend'"
            ],
            "application/vnd.google.colaboratory.intrinsic+json": {
              "type": "string"
            }
          },
          "metadata": {},
          "execution_count": 13
        }
      ]
    },
    {
      "cell_type": "code",
      "source": [
        "manchete[78:85]"
      ],
      "metadata": {
        "colab": {
          "base_uri": "https://localhost:8080/",
          "height": 35
        },
        "id": "JYXk9iuGO_ZD",
        "outputId": "95054238-70d3-462b-daa6-ad996eb7f9f1"
      },
      "execution_count": null,
      "outputs": [
        {
          "output_type": "execute_result",
          "data": {
            "text/plain": [
              "'Fazenda'"
            ],
            "application/vnd.google.colaboratory.intrinsic+json": {
              "type": "string"
            }
          },
          "metadata": {},
          "execution_count": 14
        }
      ]
    },
    {
      "cell_type": "code",
      "source": [
        "manchete[0:-7]"
      ],
      "metadata": {
        "colab": {
          "base_uri": "https://localhost:8080/",
          "height": 35
        },
        "id": "Dv6eSZwXPCgd",
        "outputId": "2f159cb6-90ac-42e3-ff62-c8598435aaea"
      },
      "execution_count": null,
      "outputs": [
        {
          "output_type": "execute_result",
          "data": {
            "text/plain": [
              "'Lula sanciona com vetos Marco Legal das Garantias; Texto é uma das apostas da Fazenda para destravar '"
            ],
            "application/vnd.google.colaboratory.intrinsic+json": {
              "type": "string"
            }
          },
          "metadata": {},
          "execution_count": 15
        }
      ]
    },
    {
      "cell_type": "code",
      "source": [
        "manchete[0:-60:13]"
      ],
      "metadata": {
        "colab": {
          "base_uri": "https://localhost:8080/",
          "height": 35
        },
        "id": "-Y5LDi13RbtV",
        "outputId": "fd8626b0-2d8b-4238-fd78-12eaa7b00b10"
      },
      "execution_count": null,
      "outputs": [
        {
          "output_type": "execute_result",
          "data": {
            "text/plain": [
              "'L r '"
            ],
            "application/vnd.google.colaboratory.intrinsic+json": {
              "type": "string"
            }
          },
          "metadata": {},
          "execution_count": 16
        }
      ]
    },
    {
      "cell_type": "markdown",
      "source": [],
      "metadata": {
        "id": "rqA-PakYpwcv"
      }
    },
    {
      "cell_type": "markdown",
      "source": [
        "## 3. Propriedades das Strings"
      ],
      "metadata": {
        "id": "zQELV7CjSS3-"
      }
    },
    {
      "cell_type": "code",
      "source": [
        "novafrase = manchete[0:4]"
      ],
      "metadata": {
        "id": "XhZZy2f6TRA_"
      },
      "execution_count": null,
      "outputs": []
    },
    {
      "cell_type": "code",
      "source": [
        "novafrase"
      ],
      "metadata": {
        "colab": {
          "base_uri": "https://localhost:8080/",
          "height": 35
        },
        "id": "jyrvklF_UYG0",
        "outputId": "7f45f31d-9437-435f-99e9-c84a153ef848"
      },
      "execution_count": null,
      "outputs": [
        {
          "output_type": "execute_result",
          "data": {
            "text/plain": [
              "'Lula'"
            ],
            "application/vnd.google.colaboratory.intrinsic+json": {
              "type": "string"
            }
          },
          "metadata": {},
          "execution_count": 18
        }
      ]
    },
    {
      "cell_type": "code",
      "source": [
        "novafrase = manchete[4:]"
      ],
      "metadata": {
        "id": "xDgnAuNOUZLL"
      },
      "execution_count": null,
      "outputs": []
    },
    {
      "cell_type": "code",
      "source": [
        "novafrase"
      ],
      "metadata": {
        "colab": {
          "base_uri": "https://localhost:8080/",
          "height": 35
        },
        "id": "inRBTJIvUuxA",
        "outputId": "c448bbc0-3677-4b41-a986-194b3f8f8db5"
      },
      "execution_count": null,
      "outputs": [
        {
          "output_type": "execute_result",
          "data": {
            "text/plain": [
              "' sanciona com vetos Marco Legal das Garantias; Texto é uma das apostas da Fazenda para destravar crédito'"
            ],
            "application/vnd.google.colaboratory.intrinsic+json": {
              "type": "string"
            }
          },
          "metadata": {},
          "execution_count": 20
        }
      ]
    },
    {
      "cell_type": "code",
      "source": [
        "comeconovo = \"Rafael\""
      ],
      "metadata": {
        "id": "99ToZJCQUwCw"
      },
      "execution_count": null,
      "outputs": []
    },
    {
      "cell_type": "code",
      "source": [
        "comeconovo + novafrase"
      ],
      "metadata": {
        "colab": {
          "base_uri": "https://localhost:8080/",
          "height": 35
        },
        "id": "rTChLpG0U9Dm",
        "outputId": "e17f9168-eba1-430f-f79a-1a461b3b2835"
      },
      "execution_count": null,
      "outputs": [
        {
          "output_type": "execute_result",
          "data": {
            "text/plain": [
              "'Rafael sanciona com vetos Marco Legal das Garantias; Texto é uma das apostas da Fazenda para destravar crédito'"
            ],
            "application/vnd.google.colaboratory.intrinsic+json": {
              "type": "string"
            }
          },
          "metadata": {},
          "execution_count": 22
        }
      ]
    },
    {
      "cell_type": "code",
      "source": [
        "frasecompleta = comeconovo + novafrase"
      ],
      "metadata": {
        "id": "wRTg7vp0VC2A"
      },
      "execution_count": null,
      "outputs": []
    },
    {
      "cell_type": "code",
      "source": [
        "frasecompleta.upper()"
      ],
      "metadata": {
        "colab": {
          "base_uri": "https://localhost:8080/",
          "height": 35
        },
        "id": "jx9FDyVxVaKS",
        "outputId": "7e206c95-2383-4a38-af6c-8cb477f510f6"
      },
      "execution_count": null,
      "outputs": [
        {
          "output_type": "execute_result",
          "data": {
            "text/plain": [
              "'RAFAEL SANCIONA COM VETOS MARCO LEGAL DAS GARANTIAS; TEXTO É UMA DAS APOSTAS DA FAZENDA PARA DESTRAVAR CRÉDITO'"
            ],
            "application/vnd.google.colaboratory.intrinsic+json": {
              "type": "string"
            }
          },
          "metadata": {},
          "execution_count": 25
        }
      ]
    },
    {
      "cell_type": "code",
      "source": [
        "frasecompleta.split()"
      ],
      "metadata": {
        "colab": {
          "base_uri": "https://localhost:8080/"
        },
        "id": "41tWxnj0VdzJ",
        "outputId": "4fd02e60-fb67-4c94-e3be-5c8625ae6a72"
      },
      "execution_count": null,
      "outputs": [
        {
          "output_type": "execute_result",
          "data": {
            "text/plain": [
              "['Rafael',\n",
              " 'sanciona',\n",
              " 'com',\n",
              " 'vetos',\n",
              " 'Marco',\n",
              " 'Legal',\n",
              " 'das',\n",
              " 'Garantias;',\n",
              " 'Texto',\n",
              " 'é',\n",
              " 'uma',\n",
              " 'das',\n",
              " 'apostas',\n",
              " 'da',\n",
              " 'Fazenda',\n",
              " 'para',\n",
              " 'destravar',\n",
              " 'crédito']"
            ]
          },
          "metadata": {},
          "execution_count": 26
        }
      ]
    },
    {
      "cell_type": "code",
      "source": [
        "fraseseparada = frasecompleta.split()"
      ],
      "metadata": {
        "id": "UUghITRkYGzQ"
      },
      "execution_count": null,
      "outputs": []
    },
    {
      "cell_type": "code",
      "source": [
        "fraseseparada[2]"
      ],
      "metadata": {
        "colab": {
          "base_uri": "https://localhost:8080/",
          "height": 35
        },
        "id": "8iGLnPPJYWv_",
        "outputId": "c38a802d-7346-48ab-f97f-0b5106b60dc8"
      },
      "execution_count": null,
      "outputs": [
        {
          "output_type": "execute_result",
          "data": {
            "text/plain": [
              "'com'"
            ],
            "application/vnd.google.colaboratory.intrinsic+json": {
              "type": "string"
            }
          },
          "metadata": {},
          "execution_count": 28
        }
      ]
    },
    {
      "cell_type": "code",
      "source": [
        "frasecompleta.split(\";\")"
      ],
      "metadata": {
        "colab": {
          "base_uri": "https://localhost:8080/"
        },
        "id": "dCHevSUHYbI3",
        "outputId": "571358ed-dde0-439d-a2dc-d4940a2c5074"
      },
      "execution_count": null,
      "outputs": [
        {
          "output_type": "execute_result",
          "data": {
            "text/plain": [
              "['Rafael sanciona com vetos Marco Legal das Garantias',\n",
              " ' Texto é uma das apostas da Fazenda para destravar crédito']"
            ]
          },
          "metadata": {},
          "execution_count": 30
        }
      ]
    },
    {
      "cell_type": "code",
      "source": [
        "frasecompleta.split(\" \")"
      ],
      "metadata": {
        "colab": {
          "base_uri": "https://localhost:8080/"
        },
        "id": "Y3QH72KRYjeC",
        "outputId": "7b5ad168-5227-456c-cc33-4296e22bcede"
      },
      "execution_count": null,
      "outputs": [
        {
          "output_type": "execute_result",
          "data": {
            "text/plain": [
              "['Rafael',\n",
              " 'sanciona',\n",
              " 'com',\n",
              " 'vetos',\n",
              " 'Marco',\n",
              " 'Legal',\n",
              " 'das',\n",
              " 'Garantias;',\n",
              " 'Texto',\n",
              " 'é',\n",
              " 'uma',\n",
              " 'das',\n",
              " 'apostas',\n",
              " 'da',\n",
              " 'Fazenda',\n",
              " 'para',\n",
              " 'destravar',\n",
              " 'crédito']"
            ]
          },
          "metadata": {},
          "execution_count": 31
        }
      ]
    },
    {
      "cell_type": "markdown",
      "source": [
        "## 4. Listas"
      ],
      "metadata": {
        "id": "T2jpziNnYr_5"
      }
    },
    {
      "cell_type": "code",
      "source": [
        "numeros = [1 , 2, 3]"
      ],
      "metadata": {
        "id": "pyGV1FayjkBl"
      },
      "execution_count": null,
      "outputs": []
    },
    {
      "cell_type": "code",
      "source": [
        "type(numeros)"
      ],
      "metadata": {
        "colab": {
          "base_uri": "https://localhost:8080/"
        },
        "id": "GAbgng3QvpEW",
        "outputId": "13dc09c1-3889-472f-995f-6d24b0f90b26"
      },
      "execution_count": null,
      "outputs": [
        {
          "output_type": "execute_result",
          "data": {
            "text/plain": [
              "list"
            ]
          },
          "metadata": {},
          "execution_count": 2
        }
      ]
    },
    {
      "cell_type": "code",
      "source": [
        "list([4, 5, 6])"
      ],
      "metadata": {
        "colab": {
          "base_uri": "https://localhost:8080/"
        },
        "id": "OMxxJYXDvvVz",
        "outputId": "c4fc3d89-f8f0-4c76-f3c4-bfc35c009dd1"
      },
      "execution_count": null,
      "outputs": [
        {
          "output_type": "execute_result",
          "data": {
            "text/plain": [
              "[4, 5, 6]"
            ]
          },
          "metadata": {},
          "execution_count": 3
        }
      ]
    },
    {
      "cell_type": "code",
      "source": [
        "moedas = [\"BTC\", \"ADA\", \"ETH\"]"
      ],
      "metadata": {
        "id": "Z2ax2zHBwLaP"
      },
      "execution_count": null,
      "outputs": []
    },
    {
      "cell_type": "code",
      "source": [
        "moedas[0]"
      ],
      "metadata": {
        "colab": {
          "base_uri": "https://localhost:8080/",
          "height": 35
        },
        "id": "xgX7BE6swo9B",
        "outputId": "27131eec-047c-4967-88a0-212e7176852d"
      },
      "execution_count": null,
      "outputs": [
        {
          "output_type": "execute_result",
          "data": {
            "text/plain": [
              "'BTC'"
            ],
            "application/vnd.google.colaboratory.intrinsic+json": {
              "type": "string"
            }
          },
          "metadata": {},
          "execution_count": 5
        }
      ]
    },
    {
      "cell_type": "code",
      "source": [
        "moedas[-1]"
      ],
      "metadata": {
        "colab": {
          "base_uri": "https://localhost:8080/",
          "height": 35
        },
        "id": "VEcsnwPWwtbI",
        "outputId": "10f6c882-acbb-429d-bb4b-f81eff20bb35"
      },
      "execution_count": null,
      "outputs": [
        {
          "output_type": "execute_result",
          "data": {
            "text/plain": [
              "'ETH'"
            ],
            "application/vnd.google.colaboratory.intrinsic+json": {
              "type": "string"
            }
          },
          "metadata": {},
          "execution_count": 6
        }
      ]
    },
    {
      "cell_type": "code",
      "source": [
        "frase = \"Hoje comprei 10 \" + moedas[1] + \" para diversificar, estava 100% em \" + moedas[0]"
      ],
      "metadata": {
        "id": "A3dahhd9wwEP"
      },
      "execution_count": null,
      "outputs": []
    },
    {
      "cell_type": "code",
      "source": [
        "frase"
      ],
      "metadata": {
        "colab": {
          "base_uri": "https://localhost:8080/",
          "height": 35
        },
        "id": "Sopyr5BRxneV",
        "outputId": "5ae9ebcb-c29b-4b63-9f0a-3e22e51d48e7"
      },
      "execution_count": null,
      "outputs": [
        {
          "output_type": "execute_result",
          "data": {
            "text/plain": [
              "'Hoje comprei 10 ADA para diversificar, estava 100% em BTC'"
            ],
            "application/vnd.google.colaboratory.intrinsic+json": {
              "type": "string"
            }
          },
          "metadata": {},
          "execution_count": 10
        }
      ]
    },
    {
      "cell_type": "code",
      "source": [
        "moedas[1] = \"NFT\""
      ],
      "metadata": {
        "id": "MSCFa9hnxo28"
      },
      "execution_count": null,
      "outputs": []
    },
    {
      "cell_type": "code",
      "source": [
        "moedas[1]"
      ],
      "metadata": {
        "colab": {
          "base_uri": "https://localhost:8080/",
          "height": 35
        },
        "id": "gFajETUE0eBh",
        "outputId": "b380e175-0100-40b3-c6f8-37be43aecf7d"
      },
      "execution_count": null,
      "outputs": [
        {
          "output_type": "execute_result",
          "data": {
            "text/plain": [
              "'NFT'"
            ],
            "application/vnd.google.colaboratory.intrinsic+json": {
              "type": "string"
            }
          },
          "metadata": {},
          "execution_count": 12
        }
      ]
    },
    {
      "cell_type": "code",
      "source": [
        "papeis = [\"BBAS\", \"CMINE\", \"PETR\"]"
      ],
      "metadata": {
        "id": "CU2buOSZ0f3R"
      },
      "execution_count": null,
      "outputs": []
    },
    {
      "cell_type": "code",
      "source": [
        "carteira = moedas + papeis"
      ],
      "metadata": {
        "id": "ssWzCYYY0xfe"
      },
      "execution_count": null,
      "outputs": []
    },
    {
      "cell_type": "code",
      "source": [
        "carteira"
      ],
      "metadata": {
        "colab": {
          "base_uri": "https://localhost:8080/"
        },
        "id": "Obl8s1II0208",
        "outputId": "5282243f-426a-49f9-af70-3d109a838772"
      },
      "execution_count": null,
      "outputs": [
        {
          "output_type": "execute_result",
          "data": {
            "text/plain": [
              "['BTC', 'NFT', 'ETH', 'BBAS', 'CMINE', 'PETR']"
            ]
          },
          "metadata": {},
          "execution_count": 15
        }
      ]
    },
    {
      "cell_type": "code",
      "source": [
        "carteira.append(\"VALE\")"
      ],
      "metadata": {
        "id": "1MczJjbi031E"
      },
      "execution_count": null,
      "outputs": []
    },
    {
      "cell_type": "code",
      "source": [
        "carteira"
      ],
      "metadata": {
        "colab": {
          "base_uri": "https://localhost:8080/"
        },
        "id": "xu_sPYkc13nY",
        "outputId": "3426ff72-72cf-429d-9e21-182d373fffa3"
      },
      "execution_count": null,
      "outputs": [
        {
          "output_type": "execute_result",
          "data": {
            "text/plain": [
              "['BTC', 'NFT', 'ETH', 'BBAS', 'CMINE', 'PETR', 'VALE']"
            ]
          },
          "metadata": {},
          "execution_count": 17
        }
      ]
    },
    {
      "cell_type": "code",
      "source": [
        "precos = [1000, 200, 500, 35, 20, 40, 65]"
      ],
      "metadata": {
        "id": "4CLH0p7m14jr"
      },
      "execution_count": null,
      "outputs": []
    },
    {
      "cell_type": "code",
      "source": [
        "precos.sort()"
      ],
      "metadata": {
        "id": "9rgrDapG25La"
      },
      "execution_count": null,
      "outputs": []
    },
    {
      "cell_type": "code",
      "source": [
        "precos"
      ],
      "metadata": {
        "colab": {
          "base_uri": "https://localhost:8080/"
        },
        "id": "EJfKYZ4Y29s6",
        "outputId": "1af901cf-3271-40eb-eff5-f157f0fdcaff"
      },
      "execution_count": null,
      "outputs": [
        {
          "output_type": "execute_result",
          "data": {
            "text/plain": [
              "[20, 35, 40, 65, 200, 500, 1000]"
            ]
          },
          "metadata": {},
          "execution_count": 20
        }
      ]
    },
    {
      "cell_type": "code",
      "source": [
        "precos.reverse()"
      ],
      "metadata": {
        "id": "gMh5uv692_cJ"
      },
      "execution_count": null,
      "outputs": []
    },
    {
      "cell_type": "code",
      "source": [
        "precos"
      ],
      "metadata": {
        "colab": {
          "base_uri": "https://localhost:8080/"
        },
        "id": "GlofOxA63MX2",
        "outputId": "3ebbb35f-330a-4860-c7cd-2e672f9ed39e"
      },
      "execution_count": null,
      "outputs": [
        {
          "output_type": "execute_result",
          "data": {
            "text/plain": [
              "[1000, 500, 200, 65, 40, 35, 20]"
            ]
          },
          "metadata": {},
          "execution_count": 24
        }
      ]
    },
    {
      "cell_type": "code",
      "source": [
        "carteirapreco = [carteira, precos]"
      ],
      "metadata": {
        "id": "xXDn1V-E3NmP"
      },
      "execution_count": null,
      "outputs": []
    },
    {
      "cell_type": "code",
      "source": [
        "carteirapreco"
      ],
      "metadata": {
        "colab": {
          "base_uri": "https://localhost:8080/"
        },
        "id": "U1b9K2kK360c",
        "outputId": "bab3abaa-ac82-4504-8ac3-84cab4b3ba5d"
      },
      "execution_count": null,
      "outputs": [
        {
          "output_type": "execute_result",
          "data": {
            "text/plain": [
              "[['BTC', 'NFT', 'ETH', 'BBAS', 'CMINE', 'PETR', 'VALE'],\n",
              " [1000, 200, 500, 35, 20, 40, 65]]"
            ]
          },
          "metadata": {},
          "execution_count": 27
        }
      ]
    },
    {
      "cell_type": "code",
      "source": [
        "carteirapreco[1]"
      ],
      "metadata": {
        "colab": {
          "base_uri": "https://localhost:8080/"
        },
        "id": "K9oL650q38KK",
        "outputId": "f86094ff-8fd5-41bb-f7ee-1ef221589cc7"
      },
      "execution_count": null,
      "outputs": [
        {
          "output_type": "execute_result",
          "data": {
            "text/plain": [
              "[1000, 200, 500, 35, 20, 40, 65]"
            ]
          },
          "metadata": {},
          "execution_count": 28
        }
      ]
    },
    {
      "cell_type": "code",
      "source": [
        "carteirapreco[0]"
      ],
      "metadata": {
        "colab": {
          "base_uri": "https://localhost:8080/"
        },
        "id": "PGE7wOpq4A0x",
        "outputId": "1e986b52-20ad-4cb0-a1dd-5cfe2fb771ec"
      },
      "execution_count": null,
      "outputs": [
        {
          "output_type": "execute_result",
          "data": {
            "text/plain": [
              "['BTC', 'NFT', 'ETH', 'BBAS', 'CMINE', 'PETR', 'VALE']"
            ]
          },
          "metadata": {},
          "execution_count": 34
        }
      ]
    },
    {
      "cell_type": "code",
      "source": [
        "carteirapreco[1][0]"
      ],
      "metadata": {
        "colab": {
          "base_uri": "https://localhost:8080/"
        },
        "id": "QPUJlAc-4DLn",
        "outputId": "8b1a7e38-d553-4351-9299-031c93a5447e"
      },
      "execution_count": null,
      "outputs": [
        {
          "output_type": "execute_result",
          "data": {
            "text/plain": [
              "1000"
            ]
          },
          "metadata": {},
          "execution_count": 32
        }
      ]
    },
    {
      "cell_type": "markdown",
      "source": [
        "## 5. Dicionários"
      ],
      "metadata": {
        "id": "hTVBcEdO4XVd"
      }
    },
    {
      "cell_type": "code",
      "source": [
        "listacarteira = {\"BTC\":1000, \"NFT\":200, 'ETH':500, 'BBAS':35, 'CMINE':20, 'PETR':40, 'VALE':65}"
      ],
      "metadata": {
        "id": "ro6QsFvq5oyE"
      },
      "execution_count": null,
      "outputs": []
    },
    {
      "cell_type": "code",
      "source": [
        "listacarteira"
      ],
      "metadata": {
        "colab": {
          "base_uri": "https://localhost:8080/"
        },
        "id": "3wPHfUz_7B20",
        "outputId": "89e51af0-4fdd-4551-9df9-60f90c0133de"
      },
      "execution_count": null,
      "outputs": [
        {
          "output_type": "execute_result",
          "data": {
            "text/plain": [
              "{'BTC': 1000,\n",
              " 'NFT': 200,\n",
              " 'ETH': 500,\n",
              " 'BBAS': 35,\n",
              " 'CMINE': 20,\n",
              " 'PETR': 40,\n",
              " 'VALE': 65}"
            ]
          },
          "metadata": {},
          "execution_count": 36
        }
      ]
    },
    {
      "cell_type": "code",
      "source": [
        "listacarteira.keys()"
      ],
      "metadata": {
        "colab": {
          "base_uri": "https://localhost:8080/"
        },
        "id": "ZHlvjbP97Dbz",
        "outputId": "ed2abdb5-f877-46d5-c01f-1b5a880c0c7c"
      },
      "execution_count": null,
      "outputs": [
        {
          "output_type": "execute_result",
          "data": {
            "text/plain": [
              "dict_keys(['BTC', 'NFT', 'ETH', 'BBAS', 'CMINE', 'PETR', 'VALE'])"
            ]
          },
          "metadata": {},
          "execution_count": 37
        }
      ]
    },
    {
      "cell_type": "code",
      "source": [
        "listacarteira.values()"
      ],
      "metadata": {
        "colab": {
          "base_uri": "https://localhost:8080/"
        },
        "id": "60M-Uq2e7hl3",
        "outputId": "7586a309-eede-4fa0-e8f3-ec49dc3faca0"
      },
      "execution_count": null,
      "outputs": [
        {
          "output_type": "execute_result",
          "data": {
            "text/plain": [
              "dict_values([1000, 200, 500, 35, 20, 40, 65])"
            ]
          },
          "metadata": {},
          "execution_count": 38
        }
      ]
    },
    {
      "cell_type": "code",
      "source": [
        "listacarteira.items()"
      ],
      "metadata": {
        "colab": {
          "base_uri": "https://localhost:8080/"
        },
        "id": "_My3wL8e8rOE",
        "outputId": "c6e66ebf-05d8-4a90-ff22-9306f9ee15ec"
      },
      "execution_count": null,
      "outputs": [
        {
          "output_type": "execute_result",
          "data": {
            "text/plain": [
              "dict_items([('BTC', 1000), ('NFT', 200), ('ETH', 500), ('BBAS', 35), ('CMINE', 20), ('PETR', 40), ('VALE', 65)])"
            ]
          },
          "metadata": {},
          "execution_count": 41
        }
      ]
    },
    {
      "cell_type": "markdown",
      "source": [
        "## 6. Tuplas"
      ],
      "metadata": {
        "id": "x0GSVHnv8zh-"
      }
    },
    {
      "cell_type": "code",
      "source": [
        "tupla = ()"
      ],
      "metadata": {
        "id": "dAEoZksE0Sqh"
      },
      "execution_count": null,
      "outputs": []
    },
    {
      "cell_type": "code",
      "source": [
        "lista =[1, 2, 3]"
      ],
      "metadata": {
        "id": "jdz6gJHS0zUK"
      },
      "execution_count": null,
      "outputs": []
    },
    {
      "cell_type": "code",
      "source": [
        "tuple(lista)"
      ],
      "metadata": {
        "colab": {
          "base_uri": "https://localhost:8080/"
        },
        "id": "gqF7OpkH0-rQ",
        "outputId": "1fd2b8c2-3602-4466-f621-5269cc96d2fe"
      },
      "execution_count": null,
      "outputs": [
        {
          "output_type": "execute_result",
          "data": {
            "text/plain": [
              "(1, 2, 3)"
            ]
          },
          "metadata": {},
          "execution_count": 3
        }
      ]
    },
    {
      "cell_type": "code",
      "source": [
        "tupla_acoes = (\"PETR4\", \"BBAS3\", \"VALE3\")"
      ],
      "metadata": {
        "id": "CdrvxG421BAo"
      },
      "execution_count": null,
      "outputs": []
    },
    {
      "cell_type": "code",
      "source": [
        "tupla_acoes[0]"
      ],
      "metadata": {
        "colab": {
          "base_uri": "https://localhost:8080/",
          "height": 35
        },
        "id": "xp2DxLyC1N2m",
        "outputId": "27b2184f-46b9-40d0-9886-dfc86f407c89"
      },
      "execution_count": null,
      "outputs": [
        {
          "output_type": "execute_result",
          "data": {
            "text/plain": [
              "'PETR4'"
            ],
            "application/vnd.google.colaboratory.intrinsic+json": {
              "type": "string"
            }
          },
          "metadata": {},
          "execution_count": 5
        }
      ]
    },
    {
      "cell_type": "code",
      "source": [
        "len(tupla_acoes)"
      ],
      "metadata": {
        "colab": {
          "base_uri": "https://localhost:8080/"
        },
        "id": "azrUnpNc1ZkF",
        "outputId": "39573674-1b6c-4555-8bc8-1c8324c8eb2c"
      },
      "execution_count": null,
      "outputs": [
        {
          "output_type": "execute_result",
          "data": {
            "text/plain": [
              "3"
            ]
          },
          "metadata": {},
          "execution_count": 6
        }
      ]
    },
    {
      "cell_type": "code",
      "source": [
        "tupla1 = (1, 1, 1, 3, 3)"
      ],
      "metadata": {
        "id": "Dy2-9WJr1cmW"
      },
      "execution_count": null,
      "outputs": []
    },
    {
      "cell_type": "code",
      "source": [
        "tupla1"
      ],
      "metadata": {
        "colab": {
          "base_uri": "https://localhost:8080/"
        },
        "id": "xWEG9_Lk1k4a",
        "outputId": "942a5711-7329-4736-af58-963549598779"
      },
      "execution_count": null,
      "outputs": [
        {
          "output_type": "execute_result",
          "data": {
            "text/plain": [
              "(1, 1, 1, 3, 3)"
            ]
          },
          "metadata": {},
          "execution_count": 8
        }
      ]
    },
    {
      "cell_type": "code",
      "source": [
        "tupla_acoes.index(\"BBAS3\")"
      ],
      "metadata": {
        "colab": {
          "base_uri": "https://localhost:8080/"
        },
        "id": "GoVasHeY1mQ6",
        "outputId": "39e1b023-068b-489b-a328-8e612debcd2c"
      },
      "execution_count": null,
      "outputs": [
        {
          "output_type": "execute_result",
          "data": {
            "text/plain": [
              "1"
            ]
          },
          "metadata": {},
          "execution_count": 9
        }
      ]
    },
    {
      "cell_type": "code",
      "source": [
        "tupla_acoes.count(\"BBAS3\")"
      ],
      "metadata": {
        "colab": {
          "base_uri": "https://localhost:8080/"
        },
        "id": "M-bjfDn52i5D",
        "outputId": "f693f694-5af2-4afe-cf6c-2e116759ffbf"
      },
      "execution_count": null,
      "outputs": [
        {
          "output_type": "execute_result",
          "data": {
            "text/plain": [
              "1"
            ]
          },
          "metadata": {},
          "execution_count": 10
        }
      ]
    },
    {
      "cell_type": "code",
      "source": [],
      "metadata": {
        "id": "eWzrG6Qy2opW"
      },
      "execution_count": null,
      "outputs": []
    },
    {
      "cell_type": "markdown",
      "source": [
        "## 7. Conjuntos"
      ],
      "metadata": {
        "id": "lE1DqyGY288I"
      }
    },
    {
      "cell_type": "code",
      "source": [
        "{1, 2, 3}"
      ],
      "metadata": {
        "colab": {
          "base_uri": "https://localhost:8080/"
        },
        "id": "p9TSE4Hq3CAc",
        "outputId": "2fdad95e-9a6b-49d7-f277-309c54fd0d77"
      },
      "execution_count": null,
      "outputs": [
        {
          "output_type": "execute_result",
          "data": {
            "text/plain": [
              "{1, 2, 3}"
            ]
          },
          "metadata": {},
          "execution_count": 11
        }
      ]
    },
    {
      "cell_type": "code",
      "source": [
        "set([4,5,6])"
      ],
      "metadata": {
        "colab": {
          "base_uri": "https://localhost:8080/"
        },
        "id": "ZXlQOl4l3qSI",
        "outputId": "b9fc61e4-96ca-4e28-cf05-1e46a050d26c"
      },
      "execution_count": null,
      "outputs": [
        {
          "output_type": "execute_result",
          "data": {
            "text/plain": [
              "{4, 5, 6}"
            ]
          },
          "metadata": {},
          "execution_count": 12
        }
      ]
    },
    {
      "cell_type": "code",
      "source": [
        "tupla = (3, 2, 5)"
      ],
      "metadata": {
        "id": "DY_La8VW4GfJ"
      },
      "execution_count": null,
      "outputs": []
    },
    {
      "cell_type": "code",
      "source": [
        "conjunto1 = set(tupla)"
      ],
      "metadata": {
        "id": "pDXHwdo74NPJ"
      },
      "execution_count": null,
      "outputs": []
    },
    {
      "cell_type": "code",
      "source": [
        "conjunto1"
      ],
      "metadata": {
        "colab": {
          "base_uri": "https://localhost:8080/"
        },
        "id": "CqIZxoKK4UQg",
        "outputId": "b246fb02-4638-4670-841f-76f60c2d9171"
      },
      "execution_count": null,
      "outputs": [
        {
          "output_type": "execute_result",
          "data": {
            "text/plain": [
              "{2, 3, 5}"
            ]
          },
          "metadata": {},
          "execution_count": 15
        }
      ]
    },
    {
      "cell_type": "code",
      "source": [
        "acoes = {\"BBAS3\",\"BBAS3\",\"VALE3\",\"CMINE\",\"WEG3\",\"PETR4\"}"
      ],
      "metadata": {
        "id": "GMDowo0r4Wuu"
      },
      "execution_count": null,
      "outputs": []
    },
    {
      "cell_type": "code",
      "source": [
        "acoes"
      ],
      "metadata": {
        "colab": {
          "base_uri": "https://localhost:8080/"
        },
        "id": "93DW9kNt4w5j",
        "outputId": "33cb0ea3-151b-4e81-e0ba-fd73a3f25adf"
      },
      "execution_count": null,
      "outputs": [
        {
          "output_type": "execute_result",
          "data": {
            "text/plain": [
              "{'BBAS3', 'CMINE', 'PETR4', 'VALE3', 'WEG3'}"
            ]
          },
          "metadata": {},
          "execution_count": 19
        }
      ]
    },
    {
      "cell_type": "code",
      "source": [
        "tupla_inicial = (1,1,1,1,1,1,1,1,2,3,4,5)"
      ],
      "metadata": {
        "id": "w0r10cMQ42pc"
      },
      "execution_count": null,
      "outputs": []
    },
    {
      "cell_type": "code",
      "source": [
        "conjunto2 = set(tupla_inicial)"
      ],
      "metadata": {
        "id": "wJDsDVWF5Edx"
      },
      "execution_count": null,
      "outputs": []
    },
    {
      "cell_type": "code",
      "source": [
        "conjunto2"
      ],
      "metadata": {
        "colab": {
          "base_uri": "https://localhost:8080/"
        },
        "id": "GFvwoSNF5LCG",
        "outputId": "8cee31cc-1afd-4f38-c5cb-6e954d312a7d"
      },
      "execution_count": null,
      "outputs": [
        {
          "output_type": "execute_result",
          "data": {
            "text/plain": [
              "{1, 2, 3, 4, 5}"
            ]
          },
          "metadata": {},
          "execution_count": 22
        }
      ]
    },
    {
      "cell_type": "code",
      "source": [
        "conjunto2.add(6)"
      ],
      "metadata": {
        "id": "WJXDlK0Q5Mue"
      },
      "execution_count": null,
      "outputs": []
    },
    {
      "cell_type": "code",
      "source": [
        "conjunto2"
      ],
      "metadata": {
        "colab": {
          "base_uri": "https://localhost:8080/"
        },
        "id": "cg9Tv2h55Tx9",
        "outputId": "929587e6-9756-4b4c-e9b7-03b0885f06de"
      },
      "execution_count": null,
      "outputs": [
        {
          "output_type": "execute_result",
          "data": {
            "text/plain": [
              "{1, 2, 3, 4, 5, 6}"
            ]
          },
          "metadata": {},
          "execution_count": 24
        }
      ]
    },
    {
      "cell_type": "code",
      "source": [
        "acoes.add(\"PRIO3\")"
      ],
      "metadata": {
        "id": "vOUhqFfX5VuF"
      },
      "execution_count": null,
      "outputs": []
    },
    {
      "cell_type": "code",
      "source": [
        "acoes"
      ],
      "metadata": {
        "colab": {
          "base_uri": "https://localhost:8080/"
        },
        "id": "fuo4rFZx5v2B",
        "outputId": "711073aa-7a04-46a0-81d7-6e01bf7b9521"
      },
      "execution_count": null,
      "outputs": [
        {
          "output_type": "execute_result",
          "data": {
            "text/plain": [
              "{'BBAS3', 'CMINE', 'PETR4', 'PRIO3', 'VALE3', 'WEG3'}"
            ]
          },
          "metadata": {},
          "execution_count": 26
        }
      ]
    },
    {
      "cell_type": "code",
      "source": [
        "acoes.update([\"\",\"\"])"
      ],
      "metadata": {
        "id": "5fwQerH-5w4o"
      },
      "execution_count": null,
      "outputs": []
    },
    {
      "cell_type": "code",
      "source": [
        "acoes.discard(\"PRIO3\")"
      ],
      "metadata": {
        "id": "vKrPGXyZ6NmU"
      },
      "execution_count": null,
      "outputs": []
    },
    {
      "cell_type": "code",
      "source": [
        "acoes"
      ],
      "metadata": {
        "colab": {
          "base_uri": "https://localhost:8080/"
        },
        "id": "vVBdn_5_6Rj7",
        "outputId": "9faab762-4e15-4d2f-9435-f3772315ff4d"
      },
      "execution_count": null,
      "outputs": [
        {
          "output_type": "execute_result",
          "data": {
            "text/plain": [
              "{'BBAS3', 'CMINE', 'PETR4', 'VALE3', 'WEG3'}"
            ]
          },
          "metadata": {},
          "execution_count": 28
        }
      ]
    },
    {
      "cell_type": "code",
      "source": [
        "acoes.remove(\"PRIO3\")"
      ],
      "metadata": {
        "colab": {
          "base_uri": "https://localhost:8080/",
          "height": 179
        },
        "id": "QBadH3v06S5y",
        "outputId": "5a8a87c5-5cdc-4816-be20-15eb2c3da0f8"
      },
      "execution_count": null,
      "outputs": [
        {
          "output_type": "error",
          "ename": "KeyError",
          "evalue": "ignored",
          "traceback": [
            "\u001b[0;31m---------------------------------------------------------------------------\u001b[0m",
            "\u001b[0;31mKeyError\u001b[0m                                  Traceback (most recent call last)",
            "\u001b[0;32m<ipython-input-29-2d772116ae0e>\u001b[0m in \u001b[0;36m<cell line: 1>\u001b[0;34m()\u001b[0m\n\u001b[0;32m----> 1\u001b[0;31m \u001b[0macoes\u001b[0m\u001b[0;34m.\u001b[0m\u001b[0mremove\u001b[0m\u001b[0;34m(\u001b[0m\u001b[0;34m\"PRIO3\"\u001b[0m\u001b[0;34m)\u001b[0m\u001b[0;34m\u001b[0m\u001b[0;34m\u001b[0m\u001b[0m\n\u001b[0m",
            "\u001b[0;31mKeyError\u001b[0m: 'PRIO3'"
          ]
        }
      ]
    },
    {
      "cell_type": "code",
      "source": [
        "novas_acoes = {\"AMER3\", \"PETR4\", \"WEGE3\", \"GOAU4\", \"BBAS3\"}"
      ],
      "metadata": {
        "id": "JLvyLqE86iXn"
      },
      "execution_count": null,
      "outputs": []
    },
    {
      "cell_type": "code",
      "source": [
        "print(acoes,novas_acoes)"
      ],
      "metadata": {
        "colab": {
          "base_uri": "https://localhost:8080/"
        },
        "id": "BrVngGTL8GkZ",
        "outputId": "b49c4422-da63-474e-c4bb-41b27258eb5f"
      },
      "execution_count": null,
      "outputs": [
        {
          "output_type": "stream",
          "name": "stdout",
          "text": [
            "{'VALE3', 'CMINE', 'WEG3', 'BBAS3', 'PETR4'} {'AMER3', 'GOAU4', 'WEGE3', 'BBAS3', 'PETR4'}\n"
          ]
        }
      ]
    },
    {
      "cell_type": "code",
      "source": [
        "acoes | novas_acoes"
      ],
      "metadata": {
        "colab": {
          "base_uri": "https://localhost:8080/"
        },
        "id": "X2eCSjq88KD3",
        "outputId": "3e345041-bb3e-4831-a9ec-4bd7490b3201"
      },
      "execution_count": null,
      "outputs": [
        {
          "output_type": "execute_result",
          "data": {
            "text/plain": [
              "{'AMER3', 'BBAS3', 'CMINE', 'GOAU4', 'PETR4', 'VALE3', 'WEG3', 'WEGE3'}"
            ]
          },
          "metadata": {},
          "execution_count": 32
        }
      ]
    },
    {
      "cell_type": "code",
      "source": [
        "acoes & novas_acoes"
      ],
      "metadata": {
        "colab": {
          "base_uri": "https://localhost:8080/"
        },
        "id": "qdsE4IHu8OK3",
        "outputId": "563145d8-6512-477d-ab96-e753cdc40286"
      },
      "execution_count": null,
      "outputs": [
        {
          "output_type": "execute_result",
          "data": {
            "text/plain": [
              "{'BBAS3', 'PETR4'}"
            ]
          },
          "metadata": {},
          "execution_count": 33
        }
      ]
    },
    {
      "cell_type": "code",
      "source": [
        "acoes.intersection(novas_acoes)"
      ],
      "metadata": {
        "colab": {
          "base_uri": "https://localhost:8080/"
        },
        "id": "TNQuhdnu8So_",
        "outputId": "066bcef5-0710-4a16-95b9-11ba3007e833"
      },
      "execution_count": null,
      "outputs": [
        {
          "output_type": "execute_result",
          "data": {
            "text/plain": [
              "{'BBAS3', 'PETR4'}"
            ]
          },
          "metadata": {},
          "execution_count": 34
        }
      ]
    },
    {
      "cell_type": "code",
      "source": [
        "acoes.difference(novas_acoes)"
      ],
      "metadata": {
        "colab": {
          "base_uri": "https://localhost:8080/"
        },
        "id": "bq28piSg8fqP",
        "outputId": "a5d54fd8-57ac-4be9-ab3b-d19c4ef32fa7"
      },
      "execution_count": null,
      "outputs": [
        {
          "output_type": "execute_result",
          "data": {
            "text/plain": [
              "{'CMINE', 'VALE3', 'WEG3'}"
            ]
          },
          "metadata": {},
          "execution_count": 35
        }
      ]
    },
    {
      "cell_type": "code",
      "source": [
        "novas_acoes.difference(acoes)"
      ],
      "metadata": {
        "colab": {
          "base_uri": "https://localhost:8080/"
        },
        "id": "Zq3L0te88yVK",
        "outputId": "550ac0f8-88de-4a08-a449-70a36b5178a1"
      },
      "execution_count": null,
      "outputs": [
        {
          "output_type": "execute_result",
          "data": {
            "text/plain": [
              "{'AMER3', 'GOAU4', 'WEGE3'}"
            ]
          },
          "metadata": {},
          "execution_count": 36
        }
      ]
    },
    {
      "cell_type": "code",
      "source": [
        "acoes.symmetric_difference(novas_acoes)"
      ],
      "metadata": {
        "colab": {
          "base_uri": "https://localhost:8080/"
        },
        "id": "sY9uWUAf87_P",
        "outputId": "2d22a0d5-e44d-4dee-a8d2-53db61531b47"
      },
      "execution_count": null,
      "outputs": [
        {
          "output_type": "execute_result",
          "data": {
            "text/plain": [
              "{'AMER3', 'CMINE', 'GOAU4', 'VALE3', 'WEG3', 'WEGE3'}"
            ]
          },
          "metadata": {},
          "execution_count": 37
        }
      ]
    },
    {
      "cell_type": "code",
      "source": [
        "\"NTCO3\" in acoes"
      ],
      "metadata": {
        "colab": {
          "base_uri": "https://localhost:8080/"
        },
        "id": "Zgz9AZsR9B4P",
        "outputId": "626b3ac8-8cb9-497b-f925-e9d44ec4c9da"
      },
      "execution_count": null,
      "outputs": [
        {
          "output_type": "execute_result",
          "data": {
            "text/plain": [
              "False"
            ]
          },
          "metadata": {},
          "execution_count": 38
        }
      ]
    },
    {
      "cell_type": "code",
      "source": [],
      "metadata": {
        "id": "4zYPESxx9OE7"
      },
      "execution_count": null,
      "outputs": []
    },
    {
      "cell_type": "markdown",
      "source": [
        "## 8. Decarações Condicionais"
      ],
      "metadata": {
        "id": "aAZZV4Uh9gVj"
      }
    },
    {
      "cell_type": "code",
      "source": [
        "preco_atual = 12"
      ],
      "metadata": {
        "id": "E1GSbSYZ9k9n"
      },
      "execution_count": null,
      "outputs": []
    },
    {
      "cell_type": "code",
      "source": [
        "if preco_atual < 28:\n",
        "  print(\"Comprar\")"
      ],
      "metadata": {
        "id": "aFer6-LU93Nk"
      },
      "execution_count": null,
      "outputs": []
    },
    {
      "cell_type": "code",
      "source": [
        "if preco_atual < 20:\n",
        "    print(\"Comprar\")\n",
        "else:\n",
        "      print(\"Não Comprar\")"
      ],
      "metadata": {
        "colab": {
          "base_uri": "https://localhost:8080/"
        },
        "id": "iY57XaAc-Fmh",
        "outputId": "d624e45d-fb04-4e94-a8fb-a3f9b0cce403"
      },
      "execution_count": null,
      "outputs": [
        {
          "output_type": "stream",
          "name": "stdout",
          "text": [
            "Comprar\n"
          ]
        }
      ]
    },
    {
      "cell_type": "code",
      "source": [
        "preco_bbas = 33"
      ],
      "metadata": {
        "id": "LuPi8xug-sE0"
      },
      "execution_count": null,
      "outputs": []
    },
    {
      "cell_type": "code",
      "source": [
        "preco_alvo = 30"
      ],
      "metadata": {
        "id": "JneYQ_BbAG77"
      },
      "execution_count": null,
      "outputs": []
    },
    {
      "cell_type": "code",
      "source": [
        "if preco_bbas < 32:\n",
        "  print(\"Compre\")\n",
        "elif preco_bbas < 35:\n",
        "  print(\"Tendencia de queda\")\n",
        "elif preco_bbas < 38:\n",
        "  print (\"Fé\")\n",
        "else:\n",
        "  print(\"Sem movimentações\")"
      ],
      "metadata": {
        "colab": {
          "base_uri": "https://localhost:8080/"
        },
        "id": "y8Qoo6MFAJ1Z",
        "outputId": "3ae1a640-c171-4175-fe39-aa0dd3ad3483"
      },
      "execution_count": null,
      "outputs": [
        {
          "output_type": "stream",
          "name": "stdout",
          "text": [
            "Tendencia de queda\n"
          ]
        }
      ]
    },
    {
      "cell_type": "code",
      "source": [
        "if preco_bbas < (preco_alvo+2):\n",
        "  print(\"Compre\")\n",
        "elif preco_bbas < (preco_alvo+4):\n",
        "  print(\"Tendencia de queda\")\n",
        "elif preco_bbas < (preco_alvo+6):\n",
        "  print (\"Fé\")\n",
        "else:\n",
        "  print(\"Sem movimentações\")"
      ],
      "metadata": {
        "colab": {
          "base_uri": "https://localhost:8080/"
        },
        "id": "9ExVPClSARa4",
        "outputId": "32eeabdc-8de4-4310-a586-8fdc46e81be5"
      },
      "execution_count": null,
      "outputs": [
        {
          "output_type": "stream",
          "name": "stdout",
          "text": [
            "Tendencia de queda\n"
          ]
        }
      ]
    },
    {
      "cell_type": "code",
      "source": [
        "interessecliente = \"BBAS3\""
      ],
      "metadata": {
        "id": "Us71FV-VCHnF"
      },
      "execution_count": null,
      "outputs": []
    },
    {
      "cell_type": "code",
      "source": [
        "if interessecliente == \"PATRA4\":\n",
        "  print(\"Seguiu a recomendação\")\n",
        "else:\n",
        "  print(\"Não seguiu, comprou: \" + interessecliente)"
      ],
      "metadata": {
        "colab": {
          "base_uri": "https://localhost:8080/"
        },
        "id": "uYXDVehcCU-i",
        "outputId": "b250c4e0-80f1-4566-9932-b3b5c6cb7a7a"
      },
      "execution_count": null,
      "outputs": [
        {
          "output_type": "stream",
          "name": "stdout",
          "text": [
            "Não seguiu, comprou: BBAS3\n"
          ]
        }
      ]
    },
    {
      "cell_type": "markdown",
      "source": [
        "## 9. Estruturas de Repetição"
      ],
      "metadata": {
        "id": "gdqCh5GQCqX9"
      }
    },
    {
      "cell_type": "markdown",
      "source": [
        "### 10.1 FOR"
      ],
      "metadata": {
        "id": "98q1nD8HDTsB"
      }
    },
    {
      "cell_type": "code",
      "source": [
        "lista = [1, 2, 3]"
      ],
      "metadata": {
        "id": "Y6heGxkbuluy"
      },
      "execution_count": null,
      "outputs": []
    },
    {
      "cell_type": "code",
      "source": [
        "for item in lista:\n",
        "  print(item)"
      ],
      "metadata": {
        "colab": {
          "base_uri": "https://localhost:8080/"
        },
        "id": "LF_QtCgPuzuk",
        "outputId": "734b8e0a-7d22-4384-ddb4-a3885a522e8c"
      },
      "execution_count": null,
      "outputs": [
        {
          "output_type": "stream",
          "name": "stdout",
          "text": [
            "1\n",
            "2\n",
            "3\n"
          ]
        }
      ]
    },
    {
      "cell_type": "code",
      "source": [
        "acoes = [\"BBAS3\",\"BBAS3\",\"VALE3\",\"CMINE\",\"WEG3\",\"PETR4\"]"
      ],
      "metadata": {
        "id": "OKxw9-g-vbMC"
      },
      "execution_count": null,
      "outputs": []
    },
    {
      "cell_type": "code",
      "source": [
        "for i in acoes:\n",
        "  print(i)"
      ],
      "metadata": {
        "colab": {
          "base_uri": "https://localhost:8080/"
        },
        "id": "9enJ92Ytvrwe",
        "outputId": "c3113fa8-b8ac-4405-a37a-2f2680a00514"
      },
      "execution_count": null,
      "outputs": [
        {
          "output_type": "stream",
          "name": "stdout",
          "text": [
            "VALE3\n",
            "BBAS3\n",
            "CMINE\n",
            "WEG3\n",
            "PETR4\n"
          ]
        }
      ]
    },
    {
      "cell_type": "code",
      "source": [
        "for i in acoes:\n",
        "  lista_sa = i + \".SA\"\n",
        "  print(i,\"- \" + lista_sa)"
      ],
      "metadata": {
        "colab": {
          "base_uri": "https://localhost:8080/"
        },
        "id": "I5JFDc-fv9M7",
        "outputId": "64840a78-435f-41f1-b4a6-7118c2d3aed4"
      },
      "execution_count": null,
      "outputs": [
        {
          "output_type": "stream",
          "name": "stdout",
          "text": [
            "VALE3 - VALE3.SA\n",
            "BBAS3 - BBAS3.SA\n",
            "CMINE - CMINE.SA\n",
            "WEG3 - WEG3.SA\n",
            "PETR4 - PETR4.SA\n"
          ]
        }
      ]
    },
    {
      "cell_type": "code",
      "source": [
        "print(lista_sa)"
      ],
      "metadata": {
        "colab": {
          "base_uri": "https://localhost:8080/"
        },
        "id": "FhWzbTXnwQ3K",
        "outputId": "6f3b37bc-84fc-4b54-b215-6858e5d03c32"
      },
      "execution_count": null,
      "outputs": [
        {
          "output_type": "stream",
          "name": "stdout",
          "text": [
            "PETR4.SA\n"
          ]
        }
      ]
    },
    {
      "cell_type": "code",
      "source": [
        "lista_sa = []"
      ],
      "metadata": {
        "id": "nKNUu_AXxaXi"
      },
      "execution_count": null,
      "outputs": []
    },
    {
      "cell_type": "code",
      "source": [
        "type(lista_sa)"
      ],
      "metadata": {
        "colab": {
          "base_uri": "https://localhost:8080/"
        },
        "id": "YsK_RsWPx0f2",
        "outputId": "7de0f075-a8ca-403d-a146-e674ad0a9483"
      },
      "execution_count": null,
      "outputs": [
        {
          "output_type": "execute_result",
          "data": {
            "text/plain": [
              "list"
            ]
          },
          "metadata": {},
          "execution_count": 15
        }
      ]
    },
    {
      "cell_type": "code",
      "source": [
        "for i in acoes:\n",
        "  lista_sa.append(i + \".SA\")"
      ],
      "metadata": {
        "id": "06ov4pgyx2ys"
      },
      "execution_count": null,
      "outputs": []
    },
    {
      "cell_type": "code",
      "source": [
        "type(i)"
      ],
      "metadata": {
        "colab": {
          "base_uri": "https://localhost:8080/"
        },
        "id": "eCjfTWg3yBwI",
        "outputId": "3133931c-c991-4815-8889-e9a298202ce2"
      },
      "execution_count": null,
      "outputs": [
        {
          "output_type": "execute_result",
          "data": {
            "text/plain": [
              "str"
            ]
          },
          "metadata": {},
          "execution_count": 19
        }
      ]
    },
    {
      "cell_type": "code",
      "source": [
        "lista_sa"
      ],
      "metadata": {
        "colab": {
          "base_uri": "https://localhost:8080/"
        },
        "id": "aOrRP0xUyjTD",
        "outputId": "ae989a9e-88d9-4631-eaee-7b8df04933ac"
      },
      "execution_count": null,
      "outputs": [
        {
          "output_type": "execute_result",
          "data": {
            "text/plain": [
              "['VALE3.SA', 'BBAS3.SA', 'CMINE.SA', 'WEG3.SA', 'PETR4.SA']"
            ]
          },
          "metadata": {},
          "execution_count": 29
        }
      ]
    },
    {
      "cell_type": "code",
      "source": [
        "mensagem = \"É um papel do IBOV\""
      ],
      "metadata": {
        "id": "G609_-S30LE0"
      },
      "execution_count": null,
      "outputs": []
    },
    {
      "cell_type": "code",
      "source": [
        "for acao in acoes:\n",
        "  print(acao,mensagem)"
      ],
      "metadata": {
        "colab": {
          "base_uri": "https://localhost:8080/"
        },
        "id": "d18CN9Km0lUo",
        "outputId": "1c7ae7a6-e4d6-4497-baac-cdc217e486f9"
      },
      "execution_count": null,
      "outputs": [
        {
          "output_type": "stream",
          "name": "stdout",
          "text": [
            "VALE3 É um papel do IBOV\n",
            "BBAS3 É um papel do IBOV\n",
            "CMINE É um papel do IBOV\n",
            "WEG3 É um papel do IBOV\n",
            "PETR4 É um papel do IBOV\n"
          ]
        }
      ]
    },
    {
      "cell_type": "code",
      "source": [
        "acoes.append(\"HCTR11\")"
      ],
      "metadata": {
        "id": "mYcVRmwm1QqD"
      },
      "execution_count": null,
      "outputs": []
    },
    {
      "cell_type": "code",
      "source": [
        "for acao in acoes:\n",
        "  print(acao,mensagem)\n",
        "  if acao == \"COCA34\":\n",
        "    break"
      ],
      "metadata": {
        "colab": {
          "base_uri": "https://localhost:8080/"
        },
        "id": "yV5nTyrP1Qfr",
        "outputId": "031556d3-9a96-483c-ef3f-6a83d923b56b"
      },
      "execution_count": null,
      "outputs": [
        {
          "output_type": "stream",
          "name": "stdout",
          "text": [
            "BBAS3 É um papel do IBOV\n",
            "BBAS3 É um papel do IBOV\n",
            "VALE3 É um papel do IBOV\n",
            "CMINE É um papel do IBOV\n",
            "WEG3 É um papel do IBOV\n",
            "PETR4 É um papel do IBOV\n",
            "COCA34 É um papel do IBOV\n"
          ]
        }
      ]
    },
    {
      "cell_type": "code",
      "source": [
        "precos = {\"PETRA4\":30, \"VALE3\":102, \"WEGE3\":34}"
      ],
      "metadata": {
        "id": "6LkhK8CM1P4B"
      },
      "execution_count": null,
      "outputs": []
    },
    {
      "cell_type": "code",
      "source": [
        "for k in list(precos.keys()):\n",
        "  for v in list(precos.values()):\n",
        "    print (\"A ação \", k, \" esta com o preço de \", str(v), \" neste momento.\")\n"
      ],
      "metadata": {
        "colab": {
          "base_uri": "https://localhost:8080/"
        },
        "id": "3qv05RwN1EwZ",
        "outputId": "df5e044c-8b09-424c-a3a4-f1be86350a2e"
      },
      "execution_count": null,
      "outputs": [
        {
          "output_type": "stream",
          "name": "stdout",
          "text": [
            "A ação  PETRA4  esta com o preço de  30  neste momento.\n",
            "A ação  PETRA4  esta com o preço de  102  neste momento.\n",
            "A ação  PETRA4  esta com o preço de  34  neste momento.\n",
            "A ação  VALE3  esta com o preço de  30  neste momento.\n",
            "A ação  VALE3  esta com o preço de  102  neste momento.\n",
            "A ação  VALE3  esta com o preço de  34  neste momento.\n",
            "A ação  WEGE3  esta com o preço de  30  neste momento.\n",
            "A ação  WEGE3  esta com o preço de  102  neste momento.\n",
            "A ação  WEGE3  esta com o preço de  34  neste momento.\n"
          ]
        }
      ]
    },
    {
      "cell_type": "code",
      "source": [
        "for i in range(0, len(precos)):\n",
        "  print(\"A ação \", list(precos.keys())[i], \" esta com o preço de \", list(precos.values())[i], \" neste momento.\")\n"
      ],
      "metadata": {
        "colab": {
          "base_uri": "https://localhost:8080/"
        },
        "id": "K9rtcYlU4UR-",
        "outputId": "415ce14f-51f3-4407-bc89-bec68ab7eb68"
      },
      "execution_count": null,
      "outputs": [
        {
          "output_type": "stream",
          "name": "stdout",
          "text": [
            "A ação  PETRA4  esta com o preço de  30  neste momento.\n",
            "A ação  VALE3  esta com o preço de  102  neste momento.\n",
            "A ação  WEGE3  esta com o preço de  34  neste momento.\n"
          ]
        }
      ]
    },
    {
      "cell_type": "markdown",
      "source": [
        "### 10.2 While"
      ],
      "metadata": {
        "id": "aFfdFcvN5UQp"
      }
    },
    {
      "cell_type": "code",
      "source": [
        "precovale = 70"
      ],
      "metadata": {
        "id": "gAjgoA7-8VY6"
      },
      "execution_count": null,
      "outputs": []
    },
    {
      "cell_type": "code",
      "source": [
        "while precovale < 100:\n",
        "  print(\"Ainda não atingiu o preço desejado, o preço atual é: \",round(precovale,2))\n",
        "  precovale = precovale*1.01\n",
        "else:\n",
        "  print(\"Hora de vender!\", round(precovale,2))\n"
      ],
      "metadata": {
        "colab": {
          "base_uri": "https://localhost:8080/"
        },
        "id": "rfSKvTAb8oJi",
        "outputId": "9ea40e12-42d9-4efc-db1c-702360cf872d"
      },
      "execution_count": null,
      "outputs": [
        {
          "output_type": "stream",
          "name": "stdout",
          "text": [
            "Ainda não atingiu o preço desejado, o preço atual é:  70\n",
            "Ainda não atingiu o preço desejado, o preço atual é:  70.7\n",
            "Ainda não atingiu o preço desejado, o preço atual é:  71.41\n",
            "Ainda não atingiu o preço desejado, o preço atual é:  72.12\n",
            "Ainda não atingiu o preço desejado, o preço atual é:  72.84\n",
            "Ainda não atingiu o preço desejado, o preço atual é:  73.57\n",
            "Ainda não atingiu o preço desejado, o preço atual é:  74.31\n",
            "Ainda não atingiu o preço desejado, o preço atual é:  75.05\n",
            "Ainda não atingiu o preço desejado, o preço atual é:  75.8\n",
            "Ainda não atingiu o preço desejado, o preço atual é:  76.56\n",
            "Ainda não atingiu o preço desejado, o preço atual é:  77.32\n",
            "Ainda não atingiu o preço desejado, o preço atual é:  78.1\n",
            "Ainda não atingiu o preço desejado, o preço atual é:  78.88\n",
            "Ainda não atingiu o preço desejado, o preço atual é:  79.67\n",
            "Ainda não atingiu o preço desejado, o preço atual é:  80.46\n",
            "Ainda não atingiu o preço desejado, o preço atual é:  81.27\n",
            "Ainda não atingiu o preço desejado, o preço atual é:  82.08\n",
            "Ainda não atingiu o preço desejado, o preço atual é:  82.9\n",
            "Ainda não atingiu o preço desejado, o preço atual é:  83.73\n",
            "Ainda não atingiu o preço desejado, o preço atual é:  84.57\n",
            "Ainda não atingiu o preço desejado, o preço atual é:  85.41\n",
            "Ainda não atingiu o preço desejado, o preço atual é:  86.27\n",
            "Ainda não atingiu o preço desejado, o preço atual é:  87.13\n",
            "Ainda não atingiu o preço desejado, o preço atual é:  88.0\n",
            "Ainda não atingiu o preço desejado, o preço atual é:  88.88\n",
            "Ainda não atingiu o preço desejado, o preço atual é:  89.77\n",
            "Ainda não atingiu o preço desejado, o preço atual é:  90.67\n",
            "Ainda não atingiu o preço desejado, o preço atual é:  91.57\n",
            "Ainda não atingiu o preço desejado, o preço atual é:  92.49\n",
            "Ainda não atingiu o preço desejado, o preço atual é:  93.42\n",
            "Ainda não atingiu o preço desejado, o preço atual é:  94.35\n",
            "Ainda não atingiu o preço desejado, o preço atual é:  95.29\n",
            "Ainda não atingiu o preço desejado, o preço atual é:  96.25\n",
            "Ainda não atingiu o preço desejado, o preço atual é:  97.21\n",
            "Ainda não atingiu o preço desejado, o preço atual é:  98.18\n",
            "Ainda não atingiu o preço desejado, o preço atual é:  99.16\n",
            "Hora de vender! 100.15\n"
          ]
        }
      ]
    },
    {
      "cell_type": "code",
      "source": [
        "investimento = input(\"Insira o papel que deseja investir: \")"
      ],
      "metadata": {
        "colab": {
          "base_uri": "https://localhost:8080/"
        },
        "id": "O11GYYu_9pHI",
        "outputId": "08ed05c6-b48d-4d4a-bd24-93986cb5695d"
      },
      "execution_count": null,
      "outputs": [
        {
          "name": "stdout",
          "output_type": "stream",
          "text": [
            "Insira o papel que deseja investir: BBAS3\n"
          ]
        }
      ]
    },
    {
      "cell_type": "code",
      "source": [
        "numacoes = int(input(\"Qauntos papeis você comprou?\"))"
      ],
      "metadata": {
        "colab": {
          "base_uri": "https://localhost:8080/"
        },
        "id": "W6Fx0ZF9-0TW",
        "outputId": "caa5045d-53c1-4a41-b9b5-b8a114dd5c1c"
      },
      "execution_count": null,
      "outputs": [
        {
          "name": "stdout",
          "output_type": "stream",
          "text": [
            "Qauntos papeis você comprou?10\n"
          ]
        }
      ]
    },
    {
      "cell_type": "code",
      "source": [
        "numacoes"
      ],
      "metadata": {
        "colab": {
          "base_uri": "https://localhost:8080/"
        },
        "id": "TB5Bc1mJ_IF7",
        "outputId": "1336904f-9129-4eb9-e685-8b5d0dd1fc93"
      },
      "execution_count": null,
      "outputs": [
        {
          "output_type": "execute_result",
          "data": {
            "text/plain": [
              "10"
            ]
          },
          "metadata": {},
          "execution_count": 75
        }
      ]
    },
    {
      "cell_type": "code",
      "source": [
        "investimento_unitario = 0\n",
        "investimento_totao = 0"
      ],
      "metadata": {
        "id": "Y73gE5hH_K3L"
      },
      "execution_count": null,
      "outputs": []
    },
    {
      "cell_type": "code",
      "source": [
        "while investimento_totao < 15000:\n",
        "  investimento_unitario = int(input(\"Digite o valor do seu investimento: \"))\n",
        "  investimento_totao = investimento_totao + investimento_unitario\n",
        "  print(\"Este é o total investido neste momento\",investimento_totao)\n",
        "else:\n",
        "  print(\"Total de: \", investimento_totao, \"em investimentos atingidos, parabéns!\")\n"
      ],
      "metadata": {
        "colab": {
          "base_uri": "https://localhost:8080/"
        },
        "id": "i3KwrpeE_t9H",
        "outputId": "67a098d8-b9ba-41ce-8ab7-ea51a17e2e86"
      },
      "execution_count": null,
      "outputs": [
        {
          "output_type": "stream",
          "name": "stdout",
          "text": [
            "Digite o valor do seu investimento: 5000\n",
            "Este é o total investido neste momento 8000\n",
            "Digite o valor do seu investimento: 1000\n",
            "Este é o total investido neste momento 9000\n",
            "Digite o valor do seu investimento: 10000\n",
            "Este é o total investido neste momento 19000\n",
            "Total de:  19000 em investimentos atingidos, parabéns!\n"
          ]
        }
      ]
    },
    {
      "cell_type": "markdown",
      "source": [
        "## 11. Outros Operadores"
      ],
      "metadata": {
        "id": "wIj8WwjBeAJ7"
      }
    },
    {
      "cell_type": "markdown",
      "source": [
        "### 11.1 Range"
      ],
      "metadata": {
        "id": "z0SUKsk8iW2V"
      }
    },
    {
      "cell_type": "code",
      "source": [
        "acoes = [\"BBAS3\",\"BBAS3\",\"VALE3\",\"CMINE\",\"WEG3\",\"PETR4\"]"
      ],
      "metadata": {
        "id": "izdVr1RfgLjk"
      },
      "execution_count": null,
      "outputs": []
    },
    {
      "cell_type": "code",
      "source": [
        "for p in range(0,len(acoes)):\n",
        "  print(acoes[p])"
      ],
      "metadata": {
        "colab": {
          "base_uri": "https://localhost:8080/"
        },
        "id": "Gtm0Ni7lgNZM",
        "outputId": "ed7a6ff0-653f-49f6-9e58-81a226d7cd98"
      },
      "execution_count": null,
      "outputs": [
        {
          "output_type": "stream",
          "name": "stdout",
          "text": [
            "BBAS3\n",
            "BBAS3\n",
            "VALE3\n",
            "CMINE\n",
            "WEG3\n",
            "PETR4\n"
          ]
        }
      ]
    },
    {
      "cell_type": "markdown",
      "source": [
        "### 11.2 Enumerate"
      ],
      "metadata": {
        "id": "f6xRZziujDs5"
      }
    },
    {
      "cell_type": "code",
      "source": [
        "acoes = [\"BBAS3\",\"BBAS3\",\"VALE3\",\"CMINE\",\"WEG3\",\"PETR4\"]"
      ],
      "metadata": {
        "id": "HnVrQV3XjGof"
      },
      "execution_count": null,
      "outputs": []
    },
    {
      "cell_type": "code",
      "source": [
        "type(enumerate(acoes))"
      ],
      "metadata": {
        "colab": {
          "base_uri": "https://localhost:8080/"
        },
        "id": "rG6xC5-Rjgnj",
        "outputId": "a3d74753-9430-4740-944b-52361500afc3"
      },
      "execution_count": null,
      "outputs": [
        {
          "output_type": "execute_result",
          "data": {
            "text/plain": [
              "enumerate"
            ]
          },
          "metadata": {},
          "execution_count": 6
        }
      ]
    },
    {
      "cell_type": "code",
      "source": [
        "list(enumerate(acoes))"
      ],
      "metadata": {
        "colab": {
          "base_uri": "https://localhost:8080/"
        },
        "id": "RsSjZkbQjihC",
        "outputId": "56d382d0-0af9-4a51-b685-a6513cd4064c"
      },
      "execution_count": null,
      "outputs": [
        {
          "output_type": "execute_result",
          "data": {
            "text/plain": [
              "[(0, 'BBAS3'),\n",
              " (1, 'BBAS3'),\n",
              " (2, 'VALE3'),\n",
              " (3, 'CMINE'),\n",
              " (4, 'WEG3'),\n",
              " (5, 'PETR4')]"
            ]
          },
          "metadata": {},
          "execution_count": 7
        }
      ]
    },
    {
      "cell_type": "code",
      "source": [
        "lista_enumerada = list(enumerate(acoes))"
      ],
      "metadata": {
        "id": "1R8EZVgMjyQh"
      },
      "execution_count": null,
      "outputs": []
    },
    {
      "cell_type": "code",
      "source": [
        "lista_enumerada[0]"
      ],
      "metadata": {
        "colab": {
          "base_uri": "https://localhost:8080/"
        },
        "id": "UKjzibA6kHde",
        "outputId": "938a620b-c939-4a45-8c38-199e41fa09bb"
      },
      "execution_count": null,
      "outputs": [
        {
          "output_type": "execute_result",
          "data": {
            "text/plain": [
              "(0, 'BBAS3')"
            ]
          },
          "metadata": {},
          "execution_count": 9
        }
      ]
    },
    {
      "cell_type": "code",
      "source": [
        "papel = \"BBAS3\""
      ],
      "metadata": {
        "id": "n4TmCK-9kKOt"
      },
      "execution_count": null,
      "outputs": []
    },
    {
      "cell_type": "code",
      "source": [
        "papel_enumerado=list(enumerate(papel))"
      ],
      "metadata": {
        "id": "50QEeSUllFjo"
      },
      "execution_count": null,
      "outputs": []
    },
    {
      "cell_type": "code",
      "source": [
        "print(\"No índice:\", papel_enumerado[0][0], \"a letra é:\", papel_enumerado[0][1])"
      ],
      "metadata": {
        "colab": {
          "base_uri": "https://localhost:8080/"
        },
        "id": "3YLrgkmglJ0f",
        "outputId": "0848871b-9ab0-4879-d470-baa13b132b5f"
      },
      "execution_count": null,
      "outputs": [
        {
          "output_type": "stream",
          "name": "stdout",
          "text": [
            "No índice: 0 a letra é: B\n"
          ]
        }
      ]
    },
    {
      "cell_type": "code",
      "source": [
        "print(\"No índice:\", papel_enumerado[1][0], \"a letra é:\", papel_enumerado[1][1])"
      ],
      "metadata": {
        "colab": {
          "base_uri": "https://localhost:8080/"
        },
        "id": "t5TemVMznESY",
        "outputId": "a90892ca-2e32-4c52-8ddf-57926c4ff7fe"
      },
      "execution_count": null,
      "outputs": [
        {
          "output_type": "stream",
          "name": "stdout",
          "text": [
            "No índice: 1 a letra é: B\n"
          ]
        }
      ]
    },
    {
      "cell_type": "code",
      "source": [
        "print(\"No índice:\", papel_enumerado[2][0], \"a letra é:\", papel_enumerado[2][1])"
      ],
      "metadata": {
        "colab": {
          "base_uri": "https://localhost:8080/"
        },
        "id": "Rkhy9bRroB3H",
        "outputId": "e5830083-254b-4eb3-f9b2-277c22ce837f"
      },
      "execution_count": null,
      "outputs": [
        {
          "output_type": "stream",
          "name": "stdout",
          "text": [
            "No índice: 2 a letra é: A\n"
          ]
        }
      ]
    },
    {
      "cell_type": "code",
      "source": [
        "print(\"No índice:\", papel_enumerado[3][0], \"a letra é:\", papel_enumerado[3][1])"
      ],
      "metadata": {
        "colab": {
          "base_uri": "https://localhost:8080/"
        },
        "id": "RmsO0qegoE22",
        "outputId": "71d0bc9d-65e3-4773-9bf9-6aeb98c4ee0e"
      },
      "execution_count": null,
      "outputs": [
        {
          "output_type": "stream",
          "name": "stdout",
          "text": [
            "No índice: 3 a letra é: S\n"
          ]
        }
      ]
    },
    {
      "cell_type": "code",
      "source": [
        "for i in range(len(papel_enumerado)):\n",
        "  print(\"No índice:\", papel_enumerado[i][0], \"a letra é:\", papel_enumerado[i][1])"
      ],
      "metadata": {
        "colab": {
          "base_uri": "https://localhost:8080/"
        },
        "id": "LE6O6tJZoHhH",
        "outputId": "59f55197-faf7-4880-80fc-c5c1447ad983"
      },
      "execution_count": null,
      "outputs": [
        {
          "output_type": "stream",
          "name": "stdout",
          "text": [
            "No índice: 0 a letra é: B\n",
            "No índice: 1 a letra é: B\n",
            "No índice: 2 a letra é: A\n",
            "No índice: 3 a letra é: S\n",
            "No índice: 4 a letra é: 3\n"
          ]
        }
      ]
    },
    {
      "cell_type": "code",
      "source": [
        "acoes = ['PETR4', 'WEGE3', 'MGLU3', 'JHSF3', 'GOAU4']\n",
        "setores = ['Petróleo', 'Motores', 'Varejo', 'Construção', 'Metalurgia']"
      ],
      "metadata": {
        "id": "ojdTIrVkovP6"
      },
      "execution_count": null,
      "outputs": []
    },
    {
      "cell_type": "code",
      "source": [
        "zip(acoes,setores)"
      ],
      "metadata": {
        "colab": {
          "base_uri": "https://localhost:8080/"
        },
        "id": "sOOeY7_ap8zR",
        "outputId": "d30c9449-fb15-4a47-ff56-43874ab9e900"
      },
      "execution_count": null,
      "outputs": [
        {
          "output_type": "execute_result",
          "data": {
            "text/plain": [
              "<zip at 0x794e9ad17f00>"
            ]
          },
          "metadata": {},
          "execution_count": 22
        }
      ]
    },
    {
      "cell_type": "code",
      "source": [
        "empresa_setor = list(zip(acoes,setores))"
      ],
      "metadata": {
        "id": "yDmrOURLqIzh"
      },
      "execution_count": null,
      "outputs": []
    },
    {
      "cell_type": "code",
      "source": [
        "empresa_setor"
      ],
      "metadata": {
        "colab": {
          "base_uri": "https://localhost:8080/"
        },
        "id": "os2dXQNMqZ74",
        "outputId": "cf122df6-2324-483a-ac40-6dd1e5540cf0"
      },
      "execution_count": null,
      "outputs": [
        {
          "output_type": "execute_result",
          "data": {
            "text/plain": [
              "[('PETR4', 'Petróleo'),\n",
              " ('WEGE3', 'Motores'),\n",
              " ('MGLU3', 'Varejo'),\n",
              " ('JHSF3', 'Construção'),\n",
              " ('GOAU4', 'Metalurgia')]"
            ]
          },
          "metadata": {},
          "execution_count": 24
        }
      ]
    },
    {
      "cell_type": "code",
      "source": [
        "for acao, setor in empresa_setor:\n",
        "  print(\"A empresa \", acao, \"pertence ao setor\", setor)"
      ],
      "metadata": {
        "colab": {
          "base_uri": "https://localhost:8080/"
        },
        "id": "NwygUqHvqcLm",
        "outputId": "60b05fd4-3cce-4162-8cb1-8c432ce9ab82"
      },
      "execution_count": null,
      "outputs": [
        {
          "output_type": "stream",
          "name": "stdout",
          "text": [
            "A empresa  PETR4 pertence ao setor Petróleo\n",
            "A empresa  WEGE3 pertence ao setor Motores\n",
            "A empresa  MGLU3 pertence ao setor Varejo\n",
            "A empresa  JHSF3 pertence ao setor Construção\n",
            "A empresa  GOAU4 pertence ao setor Metalurgia\n"
          ]
        }
      ]
    },
    {
      "cell_type": "code",
      "source": [
        "papel = \"WEGE3\"\n",
        "setor = \"Motores\""
      ],
      "metadata": {
        "id": "XqlYqtykrPFo"
      },
      "execution_count": null,
      "outputs": []
    },
    {
      "cell_type": "code",
      "source": [
        "for acao, setor in empresa_setor:\n",
        "  print(f\"A empresa {acao} pertence ao setor {setor}\")"
      ],
      "metadata": {
        "colab": {
          "base_uri": "https://localhost:8080/"
        },
        "id": "hGAmM0unr6gM",
        "outputId": "55c9da58-1574-4808-fd10-06f5494d68e4"
      },
      "execution_count": null,
      "outputs": [
        {
          "output_type": "stream",
          "name": "stdout",
          "text": [
            "A empresa PETR4 pertence ao setor Petróleo\n",
            "A empresa WEGE3 pertence ao setor Motores\n",
            "A empresa MGLU3 pertence ao setor Varejo\n",
            "A empresa JHSF3 pertence ao setor Construção\n",
            "A empresa GOAU4 pertence ao setor Metalurgia\n"
          ]
        }
      ]
    },
    {
      "cell_type": "markdown",
      "source": [
        "## 11.4 Radom"
      ],
      "metadata": {
        "id": "zd23ApeSu8Gg"
      }
    },
    {
      "cell_type": "code",
      "source": [
        "lista_rand = []"
      ],
      "metadata": {
        "id": "xOiv-4rJxnDc"
      },
      "execution_count": 111,
      "outputs": []
    },
    {
      "cell_type": "code",
      "source": [
        "from random import randint\n"
      ],
      "metadata": {
        "id": "lQ0KgXnAyKDe"
      },
      "execution_count": 113,
      "outputs": []
    },
    {
      "cell_type": "code",
      "source": [
        "for x in range(0,10):\n",
        "  lista_rand.append(randint(0,100))\n",
        "  print(lista_rand)\n"
      ],
      "metadata": {
        "colab": {
          "base_uri": "https://localhost:8080/"
        },
        "id": "20sb0lCvwg9y",
        "outputId": "a2c1be3f-304a-424e-e492-3d8c0a129af4"
      },
      "execution_count": 114,
      "outputs": [
        {
          "output_type": "stream",
          "name": "stdout",
          "text": [
            "[61]\n",
            "[61, 8]\n",
            "[61, 8, 89]\n",
            "[61, 8, 89, 83]\n",
            "[61, 8, 89, 83, 56]\n",
            "[61, 8, 89, 83, 56, 29]\n",
            "[61, 8, 89, 83, 56, 29, 99]\n",
            "[61, 8, 89, 83, 56, 29, 99, 22]\n",
            "[61, 8, 89, 83, 56, 29, 99, 22, 62]\n",
            "[61, 8, 89, 83, 56, 29, 99, 22, 62, 74]\n"
          ]
        }
      ]
    },
    {
      "cell_type": "code",
      "source": [
        "lista_rand\n"
      ],
      "metadata": {
        "colab": {
          "base_uri": "https://localhost:8080/"
        },
        "id": "4kMrgu9uxtW1",
        "outputId": "0743d378-a492-4f5d-c666-e57a9f5b692f"
      },
      "execution_count": null,
      "outputs": [
        {
          "output_type": "execute_result",
          "data": {
            "text/plain": [
              "[76, 22, 33, 2, 98, 76, 87, 99, 60, 35]"
            ]
          },
          "metadata": {},
          "execution_count": 58
        }
      ]
    },
    {
      "cell_type": "markdown",
      "source": [
        "### 11.5 Min & Max"
      ],
      "metadata": {
        "id": "qZ5N8d-q1EfM"
      }
    },
    {
      "cell_type": "code",
      "source": [
        "min(lista_rand)"
      ],
      "metadata": {
        "colab": {
          "base_uri": "https://localhost:8080/"
        },
        "id": "ZekQcW8d1IPn",
        "outputId": "8c29e271-b2f2-4107-89a9-4bef6909440b"
      },
      "execution_count": null,
      "outputs": [
        {
          "output_type": "execute_result",
          "data": {
            "text/plain": [
              "2"
            ]
          },
          "metadata": {},
          "execution_count": 59
        }
      ]
    },
    {
      "cell_type": "code",
      "source": [
        "max(lista_rand)"
      ],
      "metadata": {
        "colab": {
          "base_uri": "https://localhost:8080/"
        },
        "id": "JIqUx4R71Tw-",
        "outputId": "8a1ac2f1-49ab-4a4a-be48-5ff5745ab2f9"
      },
      "execution_count": null,
      "outputs": [
        {
          "output_type": "execute_result",
          "data": {
            "text/plain": [
              "99"
            ]
          },
          "metadata": {},
          "execution_count": 60
        }
      ]
    },
    {
      "cell_type": "markdown",
      "source": [
        "## 12. List Comprehension"
      ],
      "metadata": {
        "id": "5aZqjicu1mLr"
      }
    },
    {
      "cell_type": "markdown",
      "source": [],
      "metadata": {
        "id": "zteSashG0TXU"
      }
    },
    {
      "cell_type": "code",
      "source": [
        "acao = \"BBAS3\""
      ],
      "metadata": {
        "id": "0u9-bBiW0ZGA"
      },
      "execution_count": 1,
      "outputs": []
    },
    {
      "cell_type": "code",
      "source": [
        " ativos = \"BBAS VALE3 WEGE\""
      ],
      "metadata": {
        "id": "210lj1tb0dlk"
      },
      "execution_count": 48,
      "outputs": []
    },
    {
      "cell_type": "code",
      "source": [
        "ativos"
      ],
      "metadata": {
        "colab": {
          "base_uri": "https://localhost:8080/",
          "height": 35
        },
        "id": "Voak0zuc2tw5",
        "outputId": "30ecf16e-8267-4db9-a54f-3f633bcc9a59"
      },
      "execution_count": 44,
      "outputs": [
        {
          "output_type": "execute_result",
          "data": {
            "text/plain": [
              "'BBAS VALE3 WEGE'"
            ],
            "application/vnd.google.colaboratory.intrinsic+json": {
              "type": "string"
            }
          },
          "metadata": {},
          "execution_count": 44
        }
      ]
    },
    {
      "cell_type": "code",
      "source": [
        "lista_ativos = ativos.split()"
      ],
      "metadata": {
        "id": "3bMbNWbL2vpf"
      },
      "execution_count": 49,
      "outputs": []
    },
    {
      "cell_type": "code",
      "source": [
        "for a in range(0, len(lista_ativos)):\n",
        "  lista_atualizada = str(lista_ativos[a] + \".SA\")\n",
        "  print(lista_ativos[a])\n",
        ""
      ],
      "metadata": {
        "colab": {
          "base_uri": "https://localhost:8080/"
        },
        "id": "09tkJDhi5UJ2",
        "outputId": "f2d0e858-b00f-495e-e86f-45ab20a233c2"
      },
      "execution_count": 59,
      "outputs": [
        {
          "output_type": "stream",
          "name": "stdout",
          "text": [
            "BBAS\n",
            "VALE3\n",
            "WEGE\n"
          ]
        }
      ]
    },
    {
      "cell_type": "code",
      "source": [
        "len(lista_ativos)"
      ],
      "metadata": {
        "colab": {
          "base_uri": "https://localhost:8080/"
        },
        "id": "bO2xmhkK6A6P",
        "outputId": "9d696c65-c3a6-46ba-b302-42445f9364e6"
      },
      "execution_count": 50,
      "outputs": [
        {
          "output_type": "execute_result",
          "data": {
            "text/plain": [
              "3"
            ]
          },
          "metadata": {},
          "execution_count": 50
        }
      ]
    },
    {
      "cell_type": "code",
      "source": [
        "lista_ativos[0]"
      ],
      "metadata": {
        "colab": {
          "base_uri": "https://localhost:8080/",
          "height": 35
        },
        "id": "VPrXhCEC8cYh",
        "outputId": "49956af4-b08c-434b-cb96-2262f0d32b57"
      },
      "execution_count": 58,
      "outputs": [
        {
          "output_type": "execute_result",
          "data": {
            "text/plain": [
              "'BBAS'"
            ],
            "application/vnd.google.colaboratory.intrinsic+json": {
              "type": "string"
            }
          },
          "metadata": {},
          "execution_count": 58
        }
      ]
    },
    {
      "cell_type": "code",
      "source": [
        "type(lista_ativos)"
      ],
      "metadata": {
        "colab": {
          "base_uri": "https://localhost:8080/"
        },
        "id": "tlyGiq4c9e9W",
        "outputId": "24b305f1-dec8-444c-f904-12f6fc333446"
      },
      "execution_count": 39,
      "outputs": [
        {
          "output_type": "execute_result",
          "data": {
            "text/plain": [
              "list"
            ]
          },
          "metadata": {},
          "execution_count": 39
        }
      ]
    },
    {
      "cell_type": "code",
      "source": [
        "[papel + \".SA\" for papel in lista_ativos]"
      ],
      "metadata": {
        "colab": {
          "base_uri": "https://localhost:8080/"
        },
        "id": "GFyKbMnp-S5H",
        "outputId": "f07b93c9-20ae-4038-abb0-ebc30cb119ce"
      },
      "execution_count": 60,
      "outputs": [
        {
          "output_type": "execute_result",
          "data": {
            "text/plain": [
              "['BBAS.SA', 'VALE3.SA', 'WEGE.SA']"
            ]
          },
          "metadata": {},
          "execution_count": 60
        }
      ]
    },
    {
      "cell_type": "code",
      "source": [
        "[f\"{papel}.SA\" for papel in lista_ativos]"
      ],
      "metadata": {
        "colab": {
          "base_uri": "https://localhost:8080/"
        },
        "id": "oukEqtYeAhh3",
        "outputId": "c4f61991-fbad-4813-b3e7-a3daa21f1828"
      },
      "execution_count": 61,
      "outputs": [
        {
          "output_type": "execute_result",
          "data": {
            "text/plain": [
              "['BBAS.SA', 'VALE3.SA', 'WEGE.SA']"
            ]
          },
          "metadata": {},
          "execution_count": 61
        }
      ]
    },
    {
      "cell_type": "markdown",
      "source": [
        "## 13. Funções e Métodos"
      ],
      "metadata": {
        "id": "_q7ml8W_AxWe"
      }
    },
    {
      "cell_type": "markdown",
      "source": [
        "### 13.1 Funções"
      ],
      "metadata": {
        "id": "aLeM0ZtMBNP9"
      }
    },
    {
      "cell_type": "code",
      "source": [
        "def mensagem_investidor(acao):\n",
        "  print(\"A ação mais negociada hoje é\", acao)"
      ],
      "metadata": {
        "id": "CgxbbbJ7BfF3"
      },
      "execution_count": 64,
      "outputs": []
    },
    {
      "cell_type": "code",
      "source": [
        "mensagem_investidor()"
      ],
      "metadata": {
        "colab": {
          "base_uri": "https://localhost:8080/",
          "height": 179
        },
        "id": "4EljSx9FCH7I",
        "outputId": "836813eb-56d3-4c88-f806-595d679cc4ce"
      },
      "execution_count": 65,
      "outputs": [
        {
          "output_type": "error",
          "ename": "TypeError",
          "evalue": "ignored",
          "traceback": [
            "\u001b[0;31m---------------------------------------------------------------------------\u001b[0m",
            "\u001b[0;31mTypeError\u001b[0m                                 Traceback (most recent call last)",
            "\u001b[0;32m<ipython-input-65-7e842f2dcd41>\u001b[0m in \u001b[0;36m<cell line: 1>\u001b[0;34m()\u001b[0m\n\u001b[0;32m----> 1\u001b[0;31m \u001b[0mmensagem_investidor\u001b[0m\u001b[0;34m(\u001b[0m\u001b[0;34m)\u001b[0m\u001b[0;34m\u001b[0m\u001b[0;34m\u001b[0m\u001b[0m\n\u001b[0m",
            "\u001b[0;31mTypeError\u001b[0m: mensagem_investidor() missing 1 required positional argument: 'acao'"
          ]
        }
      ]
    },
    {
      "cell_type": "code",
      "source": [
        "def mensagem_investidor(acao):\n",
        "  print(\"A ação mais negociada hoje é\", acao)"
      ],
      "metadata": {
        "id": "1Xhfgk9bCO6g"
      },
      "execution_count": 67,
      "outputs": []
    },
    {
      "cell_type": "code",
      "source": [
        "mensagem_investidor(\"BBAS3\")"
      ],
      "metadata": {
        "colab": {
          "base_uri": "https://localhost:8080/"
        },
        "id": "D3uaLW8aDG_A",
        "outputId": "51c23755-8395-4db3-b211-dafb5ea822fd"
      },
      "execution_count": 69,
      "outputs": [
        {
          "output_type": "stream",
          "name": "stdout",
          "text": [
            "A ação mais negociada hoje é BBAS3\n"
          ]
        }
      ]
    },
    {
      "cell_type": "code",
      "source": [
        "def soma(n1, n2):\n",
        "  res = n1 + n2\n",
        "  return res"
      ],
      "metadata": {
        "id": "LaiJeI9-DPQ3"
      },
      "execution_count": 70,
      "outputs": []
    },
    {
      "cell_type": "code",
      "source": [
        "soma(2,3)"
      ],
      "metadata": {
        "colab": {
          "base_uri": "https://localhost:8080/"
        },
        "id": "vz84LTuQECtz",
        "outputId": "74bf3be9-4bf1-40a0-f4f1-fb90b0f803f4"
      },
      "execution_count": 72,
      "outputs": [
        {
          "output_type": "execute_result",
          "data": {
            "text/plain": [
              "5"
            ]
          },
          "metadata": {},
          "execution_count": 72
        }
      ]
    },
    {
      "cell_type": "code",
      "source": [
        "def preco(acao):\n",
        "  if acao == \"PETR4\":\n",
        "    print(\"PETR4 está R$24,50.\")\n",
        "  elif acao == \"MGLU3\":\n",
        "    print(\"MGLU3 está R$2,30.\")\n",
        "  elif acao == \"VALE3\":\n",
        "    print(\"VALE3 está R$2,30.\")\n",
        "  elif acao == \"BBAS3\":\n",
        "    print(\"BBAS3 está R$40,00.\")\n",
        "  else:\n",
        "    print(\"Papel não encontrado\")\n"
      ],
      "metadata": {
        "id": "5caAba-JEEUx"
      },
      "execution_count": 74,
      "outputs": []
    },
    {
      "cell_type": "code",
      "source": [
        "preco(\"BBAS3\")"
      ],
      "metadata": {
        "colab": {
          "base_uri": "https://localhost:8080/"
        },
        "id": "11alteXvF2vn",
        "outputId": "7308fdfe-42c9-4e3f-a92b-f82b3e5f4887"
      },
      "execution_count": 75,
      "outputs": [
        {
          "output_type": "stream",
          "name": "stdout",
          "text": [
            "BBAS3 está R$40,00.\n"
          ]
        }
      ]
    },
    {
      "cell_type": "code",
      "source": [
        "preco(\"VALE3\")"
      ],
      "metadata": {
        "colab": {
          "base_uri": "https://localhost:8080/"
        },
        "id": "e0JOtaZbF9LO",
        "outputId": "c93a41b3-1b30-4c9f-ce86-10fae4ec79a4"
      },
      "execution_count": 77,
      "outputs": [
        {
          "output_type": "stream",
          "name": "stdout",
          "text": [
            "VALE3 está R$2,30.\n"
          ]
        }
      ]
    },
    {
      "cell_type": "code",
      "source": [
        "def preco(acao):\n",
        "\n",
        "  \"\"\" Esta funcão pode ser chamada para retornar o valor de um papel\"\" \"\"\"\n",
        "\n",
        "\n",
        "  if acao == \"PETR4\":\n",
        "    print(\"PETR4 está R$24,50.\")\n",
        "  elif acao == \"MGLU3\":\n",
        "    print(\"MGLU3 está R$2,30.\")\n",
        "  elif acao == \"VALE3\":\n",
        "    print(\"VALE3 está R$2,30.\")\n",
        "  elif acao == \"BBAS3\":\n",
        "    print(\"BBAS3 está R$40,00.\")\n",
        "  else:\n",
        "    print(\"Papel não encontrado\")\n"
      ],
      "metadata": {
        "id": "YCA55Cv6F_k9"
      },
      "execution_count": 78,
      "outputs": []
    },
    {
      "cell_type": "markdown",
      "source": [
        "### 13.2 Métodos"
      ],
      "metadata": {
        "id": "KXkoo-cTGyZ-"
      }
    },
    {
      "cell_type": "markdown",
      "source": [
        "## 14. Escopo das variáveis"
      ],
      "metadata": {
        "id": "-y8EDysyHBoQ"
      }
    },
    {
      "cell_type": "markdown",
      "source": [
        "Área de ação da variável"
      ],
      "metadata": {
        "id": "OHpgOcMKIi-2"
      }
    },
    {
      "cell_type": "code",
      "source": [
        "def papelcliente(n, papel):\n",
        "  acao = f\"o cliente quer comprar {n} ações do papel {papel}\"\n",
        "  return acao"
      ],
      "metadata": {
        "id": "5gHTXaRZNLvr"
      },
      "execution_count": 81,
      "outputs": []
    },
    {
      "cell_type": "code",
      "source": [
        "papelcliente(200, \"BBAS3\")"
      ],
      "metadata": {
        "colab": {
          "base_uri": "https://localhost:8080/",
          "height": 35
        },
        "id": "M_m6HApZNbJ3",
        "outputId": "33f71ac5-ac92-4577-abe7-5ca24dc769de"
      },
      "execution_count": 82,
      "outputs": [
        {
          "output_type": "execute_result",
          "data": {
            "text/plain": [
              "'o cliente quer comprar 200 do papel BBAS3'"
            ],
            "application/vnd.google.colaboratory.intrinsic+json": {
              "type": "string"
            }
          },
          "metadata": {},
          "execution_count": 82
        }
      ]
    },
    {
      "cell_type": "markdown",
      "source": [
        "## 15. Funções embutidas\n"
      ],
      "metadata": {
        "id": "3aC8JpsfOpxe"
      }
    },
    {
      "cell_type": "markdown",
      "source": [
        "### 15.1 Map"
      ],
      "metadata": {
        "id": "7EGU9J1oOu73"
      }
    },
    {
      "cell_type": "code",
      "source": [
        "def quadrado(n):\n",
        "  return n**2"
      ],
      "metadata": {
        "id": "NTOGjXP9Ow7Y"
      },
      "execution_count": 83,
      "outputs": []
    },
    {
      "cell_type": "code",
      "source": [
        "quadrado(10)"
      ],
      "metadata": {
        "colab": {
          "base_uri": "https://localhost:8080/"
        },
        "id": "ZQJzR7p9O7Qu",
        "outputId": "d6bcba47-9f9e-4bcf-e1e8-dafdfe299b80"
      },
      "execution_count": 84,
      "outputs": [
        {
          "output_type": "execute_result",
          "data": {
            "text/plain": [
              "100"
            ]
          },
          "metadata": {},
          "execution_count": 84
        }
      ]
    },
    {
      "cell_type": "code",
      "source": [
        "def potenciarandom(num, pot = 2):\n",
        "  return num**pot\n",
        ""
      ],
      "metadata": {
        "id": "qTJ31zYtO8tn"
      },
      "execution_count": 88,
      "outputs": []
    },
    {
      "cell_type": "code",
      "source": [
        "potenciarandom(2, 5)"
      ],
      "metadata": {
        "colab": {
          "base_uri": "https://localhost:8080/"
        },
        "id": "cK9g7M6qPxRu",
        "outputId": "909a795b-2931-43a7-c3bc-e02d4d8508a2"
      },
      "execution_count": 86,
      "outputs": [
        {
          "output_type": "execute_result",
          "data": {
            "text/plain": [
              "32"
            ]
          },
          "metadata": {},
          "execution_count": 86
        }
      ]
    },
    {
      "cell_type": "code",
      "source": [
        "lista = [1, 2, 3, 4, 5, 6]"
      ],
      "metadata": {
        "id": "H_RDtZsJP3ml"
      },
      "execution_count": 87,
      "outputs": []
    },
    {
      "cell_type": "code",
      "source": [
        "list(map(potenciarandom, lista))"
      ],
      "metadata": {
        "colab": {
          "base_uri": "https://localhost:8080/"
        },
        "id": "u8vN3kR3P9HG",
        "outputId": "e79e64dd-1cf3-494b-e206-610ac1b10a4c"
      },
      "execution_count": 89,
      "outputs": [
        {
          "output_type": "execute_result",
          "data": {
            "text/plain": [
              "[1, 4, 9, 16, 25, 36]"
            ]
          },
          "metadata": {},
          "execution_count": 89
        }
      ]
    },
    {
      "cell_type": "code",
      "source": [
        "potenciarandom(13)"
      ],
      "metadata": {
        "colab": {
          "base_uri": "https://localhost:8080/"
        },
        "id": "JxUA9XRrRtCM",
        "outputId": "6c05f36c-3fc4-4f13-f377-0211bddadf04"
      },
      "execution_count": 90,
      "outputs": [
        {
          "output_type": "execute_result",
          "data": {
            "text/plain": [
              "169"
            ]
          },
          "metadata": {},
          "execution_count": 90
        }
      ]
    },
    {
      "cell_type": "code",
      "source": [
        "precos = [26.75, 78.98, 25.76]"
      ],
      "metadata": {
        "id": "iGgTUgxRRzVM"
      },
      "execution_count": 91,
      "outputs": []
    },
    {
      "cell_type": "code",
      "source": [
        "def aplicaretorno(valor):\n",
        "  valortransformado = valor*1.01\n",
        "  return round(valortransformado, 2)"
      ],
      "metadata": {
        "id": "F-Zj08QeSMpX"
      },
      "execution_count": 93,
      "outputs": []
    },
    {
      "cell_type": "code",
      "source": [
        "aplicaretorno(200)"
      ],
      "metadata": {
        "colab": {
          "base_uri": "https://localhost:8080/"
        },
        "id": "3Zw38BGxSY3W",
        "outputId": "9377509b-c81c-471c-a9f4-07163d3cb625"
      },
      "execution_count": 94,
      "outputs": [
        {
          "output_type": "execute_result",
          "data": {
            "text/plain": [
              "202.0"
            ]
          },
          "metadata": {},
          "execution_count": 94
        }
      ]
    },
    {
      "cell_type": "code",
      "source": [
        "aplicaretorno(250)"
      ],
      "metadata": {
        "colab": {
          "base_uri": "https://localhost:8080/"
        },
        "id": "ke0aBFdjSltU",
        "outputId": "623fbcdd-18a1-46fe-e7b4-b2be1f39ba36"
      },
      "execution_count": 95,
      "outputs": [
        {
          "output_type": "execute_result",
          "data": {
            "text/plain": [
              "252.5"
            ]
          },
          "metadata": {},
          "execution_count": 95
        }
      ]
    },
    {
      "cell_type": "code",
      "source": [
        "list(map(aplicaretorno, precos))"
      ],
      "metadata": {
        "colab": {
          "base_uri": "https://localhost:8080/"
        },
        "id": "qXpzHtc3So2M",
        "outputId": "f719d941-94b6-43b7-d86d-d36175136515"
      },
      "execution_count": 97,
      "outputs": [
        {
          "output_type": "execute_result",
          "data": {
            "text/plain": [
              "[27.02, 79.77, 26.02]"
            ]
          },
          "metadata": {},
          "execution_count": 97
        }
      ]
    },
    {
      "cell_type": "code",
      "source": [
        "lista = [\"VALE3\", \"BBAS3\", \"CMIN3\", \"ABEV3\"]"
      ],
      "metadata": {
        "id": "9mlZS4F9SvFL"
      },
      "execution_count": 98,
      "outputs": []
    },
    {
      "cell_type": "code",
      "source": [
        "def aplicasa (ativos):\n",
        "  listasa=[ativos + \".SA\" for ativos in ativos]\n",
        "  return listasa"
      ],
      "metadata": {
        "id": "VNdP4R9hTKFK"
      },
      "execution_count": 101,
      "outputs": []
    },
    {
      "cell_type": "code",
      "source": [
        "aplicasa(lista)"
      ],
      "metadata": {
        "colab": {
          "base_uri": "https://localhost:8080/"
        },
        "id": "m_EB6VaPT7j8",
        "outputId": "b240a99b-2c09-44ef-e5cc-6fecae42fcab"
      },
      "execution_count": 102,
      "outputs": [
        {
          "output_type": "execute_result",
          "data": {
            "text/plain": [
              "['VALE3.SA', 'BBAS3.SA', 'CMIN3.SA', 'ABEV3.SA']"
            ]
          },
          "metadata": {},
          "execution_count": 102
        }
      ]
    },
    {
      "cell_type": "code",
      "source": [
        "list(map(aplicasa, lista))"
      ],
      "metadata": {
        "colab": {
          "base_uri": "https://localhost:8080/"
        },
        "id": "3Av7EK1aT-kr",
        "outputId": "c39c6126-3d3e-4ffb-d270-5e8915ad78ac"
      },
      "execution_count": 103,
      "outputs": [
        {
          "output_type": "execute_result",
          "data": {
            "text/plain": [
              "[['V.SA', 'A.SA', 'L.SA', 'E.SA', '3.SA'],\n",
              " ['B.SA', 'B.SA', 'A.SA', 'S.SA', '3.SA'],\n",
              " ['C.SA', 'M.SA', 'I.SA', 'N.SA', '3.SA'],\n",
              " ['A.SA', 'B.SA', 'E.SA', 'V.SA', '3.SA']]"
            ]
          },
          "metadata": {},
          "execution_count": 103
        }
      ]
    },
    {
      "cell_type": "code",
      "source": [
        "lista"
      ],
      "metadata": {
        "colab": {
          "base_uri": "https://localhost:8080/"
        },
        "id": "DUdx7KXNVCma",
        "outputId": "16d76f19-acd5-4730-f64b-fbb24198caaf"
      },
      "execution_count": 104,
      "outputs": [
        {
          "output_type": "execute_result",
          "data": {
            "text/plain": [
              "['VALE3', 'BBAS3', 'CMIN3', 'ABEV3']"
            ]
          },
          "metadata": {},
          "execution_count": 104
        }
      ]
    },
    {
      "cell_type": "markdown",
      "source": [
        "### 15.2 Filter"
      ],
      "metadata": {
        "id": "d8LYEvZ9VFvB"
      }
    },
    {
      "cell_type": "code",
      "source": [
        "def verifica_par(n):\n",
        "  return n % 2 == 0"
      ],
      "metadata": {
        "id": "mgeBFCqjVTpe"
      },
      "execution_count": 108,
      "outputs": []
    },
    {
      "cell_type": "code",
      "source": [
        "verifica_par(2)"
      ],
      "metadata": {
        "colab": {
          "base_uri": "https://localhost:8080/"
        },
        "id": "VXlFis4lV0Fa",
        "outputId": "64ed097b-7e49-4996-9938-bfa9dcdf6170"
      },
      "execution_count": 109,
      "outputs": [
        {
          "output_type": "execute_result",
          "data": {
            "text/plain": [
              "True"
            ]
          },
          "metadata": {},
          "execution_count": 109
        }
      ]
    },
    {
      "cell_type": "code",
      "source": [
        "verifica_par(3)"
      ],
      "metadata": {
        "colab": {
          "base_uri": "https://localhost:8080/"
        },
        "id": "5rhvGsmbV83X",
        "outputId": "d079eb38-4a6a-4262-984d-3dae53cf34c5"
      },
      "execution_count": 110,
      "outputs": [
        {
          "output_type": "execute_result",
          "data": {
            "text/plain": [
              "False"
            ]
          },
          "metadata": {},
          "execution_count": 110
        }
      ]
    },
    {
      "cell_type": "code",
      "source": [
        "lista_rand"
      ],
      "metadata": {
        "colab": {
          "base_uri": "https://localhost:8080/"
        },
        "id": "_7RJG0thV-yy",
        "outputId": "953dba72-0cd0-42cf-8584-a01b9376ae36"
      },
      "execution_count": 115,
      "outputs": [
        {
          "output_type": "execute_result",
          "data": {
            "text/plain": [
              "[61, 8, 89, 83, 56, 29, 99, 22, 62, 74]"
            ]
          },
          "metadata": {},
          "execution_count": 115
        }
      ]
    },
    {
      "cell_type": "code",
      "source": [
        "list(filter(verifica_par, lista_rand))"
      ],
      "metadata": {
        "colab": {
          "base_uri": "https://localhost:8080/"
        },
        "id": "aft8N4JAWWcf",
        "outputId": "09db3403-e4e9-4e5a-d2fd-b0241c3d0f9f"
      },
      "execution_count": 119,
      "outputs": [
        {
          "output_type": "execute_result",
          "data": {
            "text/plain": [
              "[8, 56, 22, 62, 74]"
            ]
          },
          "metadata": {},
          "execution_count": 119
        }
      ]
    },
    {
      "cell_type": "code",
      "source": [
        "IBOV = ['ABEV3', 'PETR4', 'VALE3', 'BBDC4', 'ITUB4']\n",
        "lista_papeis = ['ORVR3', 'ABEV3', 'BAUH4', 'JOPA3', 'JALL3', 'ITUB4']"
      ],
      "metadata": {
        "id": "-SK33ujWWaiV"
      },
      "execution_count": 121,
      "outputs": []
    },
    {
      "cell_type": "code",
      "source": [
        "def pertence_ibov(papel):\n",
        "  return papel in IBOV"
      ],
      "metadata": {
        "id": "SLU01Q_KW27k"
      },
      "execution_count": 122,
      "outputs": []
    },
    {
      "cell_type": "code",
      "source": [
        "pertence_ibov(\"BBAS3\")"
      ],
      "metadata": {
        "colab": {
          "base_uri": "https://localhost:8080/"
        },
        "id": "FiXRhqnLXdce",
        "outputId": "f05de95b-a9d5-4073-d13b-1eb975c3709b"
      },
      "execution_count": 123,
      "outputs": [
        {
          "output_type": "execute_result",
          "data": {
            "text/plain": [
              "False"
            ]
          },
          "metadata": {},
          "execution_count": 123
        }
      ]
    },
    {
      "cell_type": "code",
      "source": [
        "list(filter(pertence_ibov, lista_papeis))"
      ],
      "metadata": {
        "colab": {
          "base_uri": "https://localhost:8080/"
        },
        "id": "BfljZvggXi71",
        "outputId": "f0b6f2a9-5716-4f28-962e-893c28de936f"
      },
      "execution_count": 125,
      "outputs": [
        {
          "output_type": "execute_result",
          "data": {
            "text/plain": [
              "['ABEV3', 'ITUB4']"
            ]
          },
          "metadata": {},
          "execution_count": 125
        }
      ]
    },
    {
      "cell_type": "markdown",
      "source": [
        "## 16. Funções Lambda"
      ],
      "metadata": {
        "id": "oZrPXdR9Xwnz"
      }
    },
    {
      "cell_type": "code",
      "source": [
        "ativos = \"WEGE MGLU VALE PRIO\""
      ],
      "metadata": {
        "id": "R5NARzO7nOUY"
      },
      "execution_count": 1,
      "outputs": []
    },
    {
      "cell_type": "code",
      "source": [
        "lista_ativos = ativos.split()"
      ],
      "metadata": {
        "id": "tEBILmScoMqp"
      },
      "execution_count": 2,
      "outputs": []
    },
    {
      "cell_type": "code",
      "source": [
        "transforma_ticker = lambda ticker: ticker + \"3\""
      ],
      "metadata": {
        "id": "ZQet6BK2oaNe"
      },
      "execution_count": 3,
      "outputs": []
    },
    {
      "cell_type": "code",
      "source": [
        "transforma_ticker(\"BBAS\")"
      ],
      "metadata": {
        "colab": {
          "base_uri": "https://localhost:8080/",
          "height": 35
        },
        "id": "6svvjdjyowCz",
        "outputId": "daf489e0-b953-43a0-f96b-b204ae96dd57"
      },
      "execution_count": 4,
      "outputs": [
        {
          "output_type": "execute_result",
          "data": {
            "text/plain": [
              "'BBAS3'"
            ],
            "application/vnd.google.colaboratory.intrinsic+json": {
              "type": "string"
            }
          },
          "metadata": {},
          "execution_count": 4
        }
      ]
    },
    {
      "cell_type": "code",
      "source": [
        "list(map(transforma_ticker, lista_ativos))"
      ],
      "metadata": {
        "colab": {
          "base_uri": "https://localhost:8080/"
        },
        "id": "4jDo7C1vo1nK",
        "outputId": "0e8265ea-e3ea-487c-e415-d3496d3bd415"
      },
      "execution_count": 6,
      "outputs": [
        {
          "output_type": "execute_result",
          "data": {
            "text/plain": [
              "['WEGE3', 'MGLU3', 'VALE3', 'PRIO3']"
            ]
          },
          "metadata": {},
          "execution_count": 6
        }
      ]
    },
    {
      "cell_type": "code",
      "source": [
        "list(map(lambda ticker: ticker + \"3\", ativos.split()))"
      ],
      "metadata": {
        "colab": {
          "base_uri": "https://localhost:8080/"
        },
        "id": "X1uFYYico6fy",
        "outputId": "54e0d00f-f4ec-46e9-b072-0c0da3e87bdf"
      },
      "execution_count": 8,
      "outputs": [
        {
          "output_type": "execute_result",
          "data": {
            "text/plain": [
              "['WEGE3', 'MGLU3', 'VALE3', 'PRIO3']"
            ]
          },
          "metadata": {},
          "execution_count": 8
        }
      ]
    },
    {
      "cell_type": "code",
      "source": [
        "lista_num = [4, 8, 45, 67, 39, 78, 7, 13, 19, 25]"
      ],
      "metadata": {
        "id": "Agg_N_PRp1i4"
      },
      "execution_count": 10,
      "outputs": []
    },
    {
      "cell_type": "code",
      "source": [
        "list(map(lambda num: num**2, lista_num))"
      ],
      "metadata": {
        "colab": {
          "base_uri": "https://localhost:8080/"
        },
        "id": "3i9JM26AqUhF",
        "outputId": "88218602-07c6-42e0-d4f7-bfb8b8e833ab"
      },
      "execution_count": 12,
      "outputs": [
        {
          "output_type": "execute_result",
          "data": {
            "text/plain": [
              "[16, 64, 2025, 4489, 1521, 6084, 49, 169, 361, 625]"
            ]
          },
          "metadata": {},
          "execution_count": 12
        }
      ]
    },
    {
      "cell_type": "markdown",
      "source": [
        "## 17. Args e Kwargs"
      ],
      "metadata": {
        "id": "0mBw5LQmqwHI"
      }
    },
    {
      "cell_type": "markdown",
      "source": [
        "### 17.1 Args"
      ],
      "metadata": {
        "id": "_UY_9nHRrZeY"
      }
    },
    {
      "cell_type": "code",
      "source": [
        "def soma_nums(*args):\n",
        "  soma = sum(args)\n",
        "  return soma"
      ],
      "metadata": {
        "id": "tAmCN8kYrgbL"
      },
      "execution_count": 15,
      "outputs": []
    },
    {
      "cell_type": "code",
      "source": [
        "soma_nums(100, 300, 566)"
      ],
      "metadata": {
        "colab": {
          "base_uri": "https://localhost:8080/"
        },
        "id": "bsSapDVHsqjd",
        "outputId": "1984ced2-9e92-4b50-8ac8-f932f1b5b1ed"
      },
      "execution_count": 16,
      "outputs": [
        {
          "output_type": "execute_result",
          "data": {
            "text/plain": [
              "966"
            ]
          },
          "metadata": {},
          "execution_count": 16
        }
      ]
    },
    {
      "cell_type": "code",
      "source": [],
      "metadata": {
        "id": "T9bkNrzFtC8d"
      },
      "execution_count": 17,
      "outputs": []
    },
    {
      "cell_type": "markdown",
      "source": [
        "17.2 Kwargs"
      ],
      "metadata": {
        "id": "SwMNwH7LrZo8"
      }
    },
    {
      "cell_type": "code",
      "source": [
        "papeis = {\"PETR4\":25, \"VALE3\":80}"
      ],
      "metadata": {
        "id": "YrE0eC8_rfgZ"
      },
      "execution_count": 18,
      "outputs": []
    },
    {
      "cell_type": "code",
      "source": [
        "def compra_acoes(**k):\n",
        "  print(\"O cliente comrpou o papel\", k[\"acao\"])"
      ],
      "metadata": {
        "id": "ttuMHA3KuDit"
      },
      "execution_count": 20,
      "outputs": []
    },
    {
      "cell_type": "code",
      "source": [],
      "metadata": {
        "colab": {
          "base_uri": "https://localhost:8080/"
        },
        "id": "j0NI4yJDuOpE",
        "outputId": "9ce9eed5-6113-48ef-d255-4e3757b6fec2"
      },
      "execution_count": 22,
      "outputs": [
        {
          "output_type": "stream",
          "name": "stdout",
          "text": [
            "O cliente comrpou o papel PETR4\n"
          ]
        }
      ]
    },
    {
      "cell_type": "code",
      "source": [
        "def compra_acoes(**k):\n",
        "  print(\"O cliente comrpou o papel\", k[\"acao\"], \"com a quatia de\", k[\"quantidade\"])"
      ],
      "metadata": {
        "id": "_us4Dy3lu912"
      },
      "execution_count": 23,
      "outputs": []
    },
    {
      "cell_type": "code",
      "source": [
        "compra_acoes(acao = \"VALE3\", quantidade = 300)"
      ],
      "metadata": {
        "colab": {
          "base_uri": "https://localhost:8080/"
        },
        "id": "8lZ2_ByxvcTN",
        "outputId": "19747588-bdbd-4f74-91f2-f6a9b8d9c333"
      },
      "execution_count": 25,
      "outputs": [
        {
          "output_type": "stream",
          "name": "stdout",
          "text": [
            "O cliente comrpou o papel VALE3 com a quatia de 300\n"
          ]
        }
      ]
    },
    {
      "cell_type": "code",
      "source": [
        "def compra_acoes(**k):\n",
        "  if \"acao\" in k:\n",
        "    print(\"O cliente comrpou o papel\", k[\"acao\"], \"com a quatia de\", k[\"quantidade\"])\n",
        "  else:\n",
        "    print(\"Não comprou ações\")"
      ],
      "metadata": {
        "id": "5Wi0d06LvkMy"
      },
      "execution_count": 26,
      "outputs": []
    },
    {
      "cell_type": "code",
      "source": [
        "compra_acoes(acao = \"BBAS3\", quantidade = 100)"
      ],
      "metadata": {
        "colab": {
          "base_uri": "https://localhost:8080/"
        },
        "id": "mEucOBb3v3-Q",
        "outputId": "a8b89e0d-dfdf-491e-e946-d659c688a3c6"
      },
      "execution_count": 27,
      "outputs": [
        {
          "output_type": "stream",
          "name": "stdout",
          "text": [
            "O cliente comrpou o papel BBAS3 com a quatia de 100\n"
          ]
        }
      ]
    },
    {
      "cell_type": "code",
      "source": [
        "def compra_acoes(nome, *compras, **investimentos):\n",
        "  if \"papel\" in investimentos:\n",
        "    print(\"Cliente\", nome, \"comprou R$\", sum(compras), \"em\", investimentos[\"papel\"], \"e foram feitas\", len(compras), \"operações.\")\n",
        "  else:\n",
        "    print(\"cliente\", nome, \"não quer comprar ações.\")"
      ],
      "metadata": {
        "id": "tf9a67X2wAAB"
      },
      "execution_count": 31,
      "outputs": []
    },
    {
      "cell_type": "code",
      "source": [
        "compra_acoes(\"Rafael\", 1, 2, 10, papel = \"BBAS3\")"
      ],
      "metadata": {
        "colab": {
          "base_uri": "https://localhost:8080/"
        },
        "id": "wH83oYXDyhB1",
        "outputId": "84f0e0b5-7619-4cad-d51d-d7753144c5ef"
      },
      "execution_count": 32,
      "outputs": [
        {
          "output_type": "stream",
          "name": "stdout",
          "text": [
            "Cliente Rafael comprou R$ 13 em BBAS3 e foram feitas 3 operações.\n"
          ]
        }
      ]
    },
    {
      "cell_type": "markdown",
      "source": [
        "## 18. Bibliotecas"
      ],
      "metadata": {
        "id": "2tZ9-PBcyyFQ"
      }
    },
    {
      "cell_type": "code",
      "source": [
        "!pip install numpy"
      ],
      "metadata": {
        "colab": {
          "base_uri": "https://localhost:8080/"
        },
        "id": "kyFu_gv2zwsW",
        "outputId": "8c7b8416-343a-4895-a81b-2254bed02d97"
      },
      "execution_count": 34,
      "outputs": [
        {
          "output_type": "stream",
          "name": "stdout",
          "text": [
            "Requirement already satisfied: numpy in /usr/local/lib/python3.10/dist-packages (1.23.5)\n"
          ]
        }
      ]
    },
    {
      "cell_type": "code",
      "source": [
        "import numpy as np\n",
        "import pandas as pd"
      ],
      "metadata": {
        "id": "F7D_Byk72yuj"
      },
      "execution_count": 35,
      "outputs": []
    },
    {
      "cell_type": "code",
      "source": [
        "np.zeros(10)"
      ],
      "metadata": {
        "colab": {
          "base_uri": "https://localhost:8080/"
        },
        "id": "wPActsvK30Vi",
        "outputId": "ec223197-29d8-415c-d940-896b83b278c9"
      },
      "execution_count": 36,
      "outputs": [
        {
          "output_type": "execute_result",
          "data": {
            "text/plain": [
              "array([0., 0., 0., 0., 0., 0., 0., 0., 0., 0.])"
            ]
          },
          "metadata": {},
          "execution_count": 36
        }
      ]
    },
    {
      "cell_type": "code",
      "source": [
        "import math as mt"
      ],
      "metadata": {
        "id": "alIrWNQm39Qv"
      },
      "execution_count": 37,
      "outputs": []
    },
    {
      "cell_type": "code",
      "source": [
        "mt.pi"
      ],
      "metadata": {
        "colab": {
          "base_uri": "https://localhost:8080/"
        },
        "id": "cI9QRraJ4UXV",
        "outputId": "12fe4ce2-145b-4abf-824d-eeabd84bd774"
      },
      "execution_count": 38,
      "outputs": [
        {
          "output_type": "execute_result",
          "data": {
            "text/plain": [
              "3.141592653589793"
            ]
          },
          "metadata": {},
          "execution_count": 38
        }
      ]
    },
    {
      "cell_type": "code",
      "source": [
        "!pip install yfinance"
      ],
      "metadata": {
        "colab": {
          "base_uri": "https://localhost:8080/"
        },
        "id": "coOg0mWT4Xbo",
        "outputId": "a3b90271-09d3-470f-9231-ef2ab36dfc3d"
      },
      "execution_count": 39,
      "outputs": [
        {
          "output_type": "stream",
          "name": "stdout",
          "text": [
            "Requirement already satisfied: yfinance in /usr/local/lib/python3.10/dist-packages (0.2.31)\n",
            "Requirement already satisfied: pandas>=1.3.0 in /usr/local/lib/python3.10/dist-packages (from yfinance) (1.5.3)\n",
            "Requirement already satisfied: numpy>=1.16.5 in /usr/local/lib/python3.10/dist-packages (from yfinance) (1.23.5)\n",
            "Requirement already satisfied: requests>=2.31 in /usr/local/lib/python3.10/dist-packages (from yfinance) (2.31.0)\n",
            "Requirement already satisfied: multitasking>=0.0.7 in /usr/local/lib/python3.10/dist-packages (from yfinance) (0.0.11)\n",
            "Requirement already satisfied: lxml>=4.9.1 in /usr/local/lib/python3.10/dist-packages (from yfinance) (4.9.3)\n",
            "Requirement already satisfied: appdirs>=1.4.4 in /usr/local/lib/python3.10/dist-packages (from yfinance) (1.4.4)\n",
            "Requirement already satisfied: pytz>=2022.5 in /usr/local/lib/python3.10/dist-packages (from yfinance) (2023.3.post1)\n",
            "Requirement already satisfied: frozendict>=2.3.4 in /usr/local/lib/python3.10/dist-packages (from yfinance) (2.3.8)\n",
            "Requirement already satisfied: peewee>=3.16.2 in /usr/local/lib/python3.10/dist-packages (from yfinance) (3.17.0)\n",
            "Requirement already satisfied: beautifulsoup4>=4.11.1 in /usr/local/lib/python3.10/dist-packages (from yfinance) (4.11.2)\n",
            "Requirement already satisfied: html5lib>=1.1 in /usr/local/lib/python3.10/dist-packages (from yfinance) (1.1)\n",
            "Requirement already satisfied: soupsieve>1.2 in /usr/local/lib/python3.10/dist-packages (from beautifulsoup4>=4.11.1->yfinance) (2.5)\n",
            "Requirement already satisfied: six>=1.9 in /usr/local/lib/python3.10/dist-packages (from html5lib>=1.1->yfinance) (1.16.0)\n",
            "Requirement already satisfied: webencodings in /usr/local/lib/python3.10/dist-packages (from html5lib>=1.1->yfinance) (0.5.1)\n",
            "Requirement already satisfied: python-dateutil>=2.8.1 in /usr/local/lib/python3.10/dist-packages (from pandas>=1.3.0->yfinance) (2.8.2)\n",
            "Requirement already satisfied: charset-normalizer<4,>=2 in /usr/local/lib/python3.10/dist-packages (from requests>=2.31->yfinance) (3.3.2)\n",
            "Requirement already satisfied: idna<4,>=2.5 in /usr/local/lib/python3.10/dist-packages (from requests>=2.31->yfinance) (3.4)\n",
            "Requirement already satisfied: urllib3<3,>=1.21.1 in /usr/local/lib/python3.10/dist-packages (from requests>=2.31->yfinance) (2.0.7)\n",
            "Requirement already satisfied: certifi>=2017.4.17 in /usr/local/lib/python3.10/dist-packages (from requests>=2.31->yfinance) (2023.7.22)\n"
          ]
        }
      ]
    },
    {
      "cell_type": "code",
      "source": [
        "import yfinance as yf"
      ],
      "metadata": {
        "id": "lj9Shj2m5ACD"
      },
      "execution_count": 40,
      "outputs": []
    },
    {
      "cell_type": "code",
      "source": [
        "yf.download(\"BBAS3.SA\", start = \"2022-08-01\")"
      ],
      "metadata": {
        "colab": {
          "base_uri": "https://localhost:8080/",
          "height": 948
        },
        "id": "CBKut6Qu5MyT",
        "outputId": "8cf072e1-fd23-4d5b-9a32-c8727e1108f3"
      },
      "execution_count": 42,
      "outputs": [
        {
          "output_type": "stream",
          "name": "stdout",
          "text": [
            "\r[*********************100%%**********************]  1 of 1 completed\n"
          ]
        },
        {
          "output_type": "execute_result",
          "data": {
            "text/plain": [
              "                 Open       High        Low      Close  Adj Close    Volume\n",
              "Date                                                                       \n",
              "2022-08-01  35.980000  36.220001  35.520000  35.680000  32.327358  11324700\n",
              "2022-08-02  35.700001  36.450001  35.509998  36.160000  32.762257   9827600\n",
              "2022-08-03  36.230000  36.580002  35.880001  36.410000  32.988762   7569400\n",
              "2022-08-04  36.689999  37.119999  36.500000  37.099998  33.613930  11649100\n",
              "2022-08-05  37.099998  37.830002  36.950001  37.790001  34.239098  10877000\n",
              "...               ...        ...        ...        ...        ...       ...\n",
              "2023-11-07  50.450001  51.189999  50.130001  51.020000  51.020000  14527500\n",
              "2023-11-08  51.080002  51.740002  51.020000  51.669998  51.669998   9488000\n",
              "2023-11-09  51.000000  51.360001  49.220001  49.509998  49.509998  31213600\n",
              "2023-11-10  49.770000  50.389999  49.459999  50.240002  50.240002   8916200\n",
              "2023-11-13  50.099998  50.290001  49.830002  50.049999  50.049999   4820800\n",
              "\n",
              "[322 rows x 6 columns]"
            ],
            "text/html": [
              "\n",
              "  <div id=\"df-9a10422f-b90e-4aad-ac43-651b899a53fe\" class=\"colab-df-container\">\n",
              "    <div>\n",
              "<style scoped>\n",
              "    .dataframe tbody tr th:only-of-type {\n",
              "        vertical-align: middle;\n",
              "    }\n",
              "\n",
              "    .dataframe tbody tr th {\n",
              "        vertical-align: top;\n",
              "    }\n",
              "\n",
              "    .dataframe thead th {\n",
              "        text-align: right;\n",
              "    }\n",
              "</style>\n",
              "<table border=\"1\" class=\"dataframe\">\n",
              "  <thead>\n",
              "    <tr style=\"text-align: right;\">\n",
              "      <th></th>\n",
              "      <th>Open</th>\n",
              "      <th>High</th>\n",
              "      <th>Low</th>\n",
              "      <th>Close</th>\n",
              "      <th>Adj Close</th>\n",
              "      <th>Volume</th>\n",
              "    </tr>\n",
              "    <tr>\n",
              "      <th>Date</th>\n",
              "      <th></th>\n",
              "      <th></th>\n",
              "      <th></th>\n",
              "      <th></th>\n",
              "      <th></th>\n",
              "      <th></th>\n",
              "    </tr>\n",
              "  </thead>\n",
              "  <tbody>\n",
              "    <tr>\n",
              "      <th>2022-08-01</th>\n",
              "      <td>35.980000</td>\n",
              "      <td>36.220001</td>\n",
              "      <td>35.520000</td>\n",
              "      <td>35.680000</td>\n",
              "      <td>32.327358</td>\n",
              "      <td>11324700</td>\n",
              "    </tr>\n",
              "    <tr>\n",
              "      <th>2022-08-02</th>\n",
              "      <td>35.700001</td>\n",
              "      <td>36.450001</td>\n",
              "      <td>35.509998</td>\n",
              "      <td>36.160000</td>\n",
              "      <td>32.762257</td>\n",
              "      <td>9827600</td>\n",
              "    </tr>\n",
              "    <tr>\n",
              "      <th>2022-08-03</th>\n",
              "      <td>36.230000</td>\n",
              "      <td>36.580002</td>\n",
              "      <td>35.880001</td>\n",
              "      <td>36.410000</td>\n",
              "      <td>32.988762</td>\n",
              "      <td>7569400</td>\n",
              "    </tr>\n",
              "    <tr>\n",
              "      <th>2022-08-04</th>\n",
              "      <td>36.689999</td>\n",
              "      <td>37.119999</td>\n",
              "      <td>36.500000</td>\n",
              "      <td>37.099998</td>\n",
              "      <td>33.613930</td>\n",
              "      <td>11649100</td>\n",
              "    </tr>\n",
              "    <tr>\n",
              "      <th>2022-08-05</th>\n",
              "      <td>37.099998</td>\n",
              "      <td>37.830002</td>\n",
              "      <td>36.950001</td>\n",
              "      <td>37.790001</td>\n",
              "      <td>34.239098</td>\n",
              "      <td>10877000</td>\n",
              "    </tr>\n",
              "    <tr>\n",
              "      <th>...</th>\n",
              "      <td>...</td>\n",
              "      <td>...</td>\n",
              "      <td>...</td>\n",
              "      <td>...</td>\n",
              "      <td>...</td>\n",
              "      <td>...</td>\n",
              "    </tr>\n",
              "    <tr>\n",
              "      <th>2023-11-07</th>\n",
              "      <td>50.450001</td>\n",
              "      <td>51.189999</td>\n",
              "      <td>50.130001</td>\n",
              "      <td>51.020000</td>\n",
              "      <td>51.020000</td>\n",
              "      <td>14527500</td>\n",
              "    </tr>\n",
              "    <tr>\n",
              "      <th>2023-11-08</th>\n",
              "      <td>51.080002</td>\n",
              "      <td>51.740002</td>\n",
              "      <td>51.020000</td>\n",
              "      <td>51.669998</td>\n",
              "      <td>51.669998</td>\n",
              "      <td>9488000</td>\n",
              "    </tr>\n",
              "    <tr>\n",
              "      <th>2023-11-09</th>\n",
              "      <td>51.000000</td>\n",
              "      <td>51.360001</td>\n",
              "      <td>49.220001</td>\n",
              "      <td>49.509998</td>\n",
              "      <td>49.509998</td>\n",
              "      <td>31213600</td>\n",
              "    </tr>\n",
              "    <tr>\n",
              "      <th>2023-11-10</th>\n",
              "      <td>49.770000</td>\n",
              "      <td>50.389999</td>\n",
              "      <td>49.459999</td>\n",
              "      <td>50.240002</td>\n",
              "      <td>50.240002</td>\n",
              "      <td>8916200</td>\n",
              "    </tr>\n",
              "    <tr>\n",
              "      <th>2023-11-13</th>\n",
              "      <td>50.099998</td>\n",
              "      <td>50.290001</td>\n",
              "      <td>49.830002</td>\n",
              "      <td>50.049999</td>\n",
              "      <td>50.049999</td>\n",
              "      <td>4820800</td>\n",
              "    </tr>\n",
              "  </tbody>\n",
              "</table>\n",
              "<p>322 rows × 6 columns</p>\n",
              "</div>\n",
              "    <div class=\"colab-df-buttons\">\n",
              "\n",
              "  <div class=\"colab-df-container\">\n",
              "    <button class=\"colab-df-convert\" onclick=\"convertToInteractive('df-9a10422f-b90e-4aad-ac43-651b899a53fe')\"\n",
              "            title=\"Convert this dataframe to an interactive table.\"\n",
              "            style=\"display:none;\">\n",
              "\n",
              "  <svg xmlns=\"http://www.w3.org/2000/svg\" height=\"24px\" viewBox=\"0 -960 960 960\">\n",
              "    <path d=\"M120-120v-720h720v720H120Zm60-500h600v-160H180v160Zm220 220h160v-160H400v160Zm0 220h160v-160H400v160ZM180-400h160v-160H180v160Zm440 0h160v-160H620v160ZM180-180h160v-160H180v160Zm440 0h160v-160H620v160Z\"/>\n",
              "  </svg>\n",
              "    </button>\n",
              "\n",
              "  <style>\n",
              "    .colab-df-container {\n",
              "      display:flex;\n",
              "      gap: 12px;\n",
              "    }\n",
              "\n",
              "    .colab-df-convert {\n",
              "      background-color: #E8F0FE;\n",
              "      border: none;\n",
              "      border-radius: 50%;\n",
              "      cursor: pointer;\n",
              "      display: none;\n",
              "      fill: #1967D2;\n",
              "      height: 32px;\n",
              "      padding: 0 0 0 0;\n",
              "      width: 32px;\n",
              "    }\n",
              "\n",
              "    .colab-df-convert:hover {\n",
              "      background-color: #E2EBFA;\n",
              "      box-shadow: 0px 1px 2px rgba(60, 64, 67, 0.3), 0px 1px 3px 1px rgba(60, 64, 67, 0.15);\n",
              "      fill: #174EA6;\n",
              "    }\n",
              "\n",
              "    .colab-df-buttons div {\n",
              "      margin-bottom: 4px;\n",
              "    }\n",
              "\n",
              "    [theme=dark] .colab-df-convert {\n",
              "      background-color: #3B4455;\n",
              "      fill: #D2E3FC;\n",
              "    }\n",
              "\n",
              "    [theme=dark] .colab-df-convert:hover {\n",
              "      background-color: #434B5C;\n",
              "      box-shadow: 0px 1px 3px 1px rgba(0, 0, 0, 0.15);\n",
              "      filter: drop-shadow(0px 1px 2px rgba(0, 0, 0, 0.3));\n",
              "      fill: #FFFFFF;\n",
              "    }\n",
              "  </style>\n",
              "\n",
              "    <script>\n",
              "      const buttonEl =\n",
              "        document.querySelector('#df-9a10422f-b90e-4aad-ac43-651b899a53fe button.colab-df-convert');\n",
              "      buttonEl.style.display =\n",
              "        google.colab.kernel.accessAllowed ? 'block' : 'none';\n",
              "\n",
              "      async function convertToInteractive(key) {\n",
              "        const element = document.querySelector('#df-9a10422f-b90e-4aad-ac43-651b899a53fe');\n",
              "        const dataTable =\n",
              "          await google.colab.kernel.invokeFunction('convertToInteractive',\n",
              "                                                    [key], {});\n",
              "        if (!dataTable) return;\n",
              "\n",
              "        const docLinkHtml = 'Like what you see? Visit the ' +\n",
              "          '<a target=\"_blank\" href=https://colab.research.google.com/notebooks/data_table.ipynb>data table notebook</a>'\n",
              "          + ' to learn more about interactive tables.';\n",
              "        element.innerHTML = '';\n",
              "        dataTable['output_type'] = 'display_data';\n",
              "        await google.colab.output.renderOutput(dataTable, element);\n",
              "        const docLink = document.createElement('div');\n",
              "        docLink.innerHTML = docLinkHtml;\n",
              "        element.appendChild(docLink);\n",
              "      }\n",
              "    </script>\n",
              "  </div>\n",
              "\n",
              "\n",
              "<div id=\"df-fdc2b452-f652-4628-93ce-8171e28e7e76\">\n",
              "  <button class=\"colab-df-quickchart\" onclick=\"quickchart('df-fdc2b452-f652-4628-93ce-8171e28e7e76')\"\n",
              "            title=\"Suggest charts\"\n",
              "            style=\"display:none;\">\n",
              "\n",
              "<svg xmlns=\"http://www.w3.org/2000/svg\" height=\"24px\"viewBox=\"0 0 24 24\"\n",
              "     width=\"24px\">\n",
              "    <g>\n",
              "        <path d=\"M19 3H5c-1.1 0-2 .9-2 2v14c0 1.1.9 2 2 2h14c1.1 0 2-.9 2-2V5c0-1.1-.9-2-2-2zM9 17H7v-7h2v7zm4 0h-2V7h2v10zm4 0h-2v-4h2v4z\"/>\n",
              "    </g>\n",
              "</svg>\n",
              "  </button>\n",
              "\n",
              "<style>\n",
              "  .colab-df-quickchart {\n",
              "      --bg-color: #E8F0FE;\n",
              "      --fill-color: #1967D2;\n",
              "      --hover-bg-color: #E2EBFA;\n",
              "      --hover-fill-color: #174EA6;\n",
              "      --disabled-fill-color: #AAA;\n",
              "      --disabled-bg-color: #DDD;\n",
              "  }\n",
              "\n",
              "  [theme=dark] .colab-df-quickchart {\n",
              "      --bg-color: #3B4455;\n",
              "      --fill-color: #D2E3FC;\n",
              "      --hover-bg-color: #434B5C;\n",
              "      --hover-fill-color: #FFFFFF;\n",
              "      --disabled-bg-color: #3B4455;\n",
              "      --disabled-fill-color: #666;\n",
              "  }\n",
              "\n",
              "  .colab-df-quickchart {\n",
              "    background-color: var(--bg-color);\n",
              "    border: none;\n",
              "    border-radius: 50%;\n",
              "    cursor: pointer;\n",
              "    display: none;\n",
              "    fill: var(--fill-color);\n",
              "    height: 32px;\n",
              "    padding: 0;\n",
              "    width: 32px;\n",
              "  }\n",
              "\n",
              "  .colab-df-quickchart:hover {\n",
              "    background-color: var(--hover-bg-color);\n",
              "    box-shadow: 0 1px 2px rgba(60, 64, 67, 0.3), 0 1px 3px 1px rgba(60, 64, 67, 0.15);\n",
              "    fill: var(--button-hover-fill-color);\n",
              "  }\n",
              "\n",
              "  .colab-df-quickchart-complete:disabled,\n",
              "  .colab-df-quickchart-complete:disabled:hover {\n",
              "    background-color: var(--disabled-bg-color);\n",
              "    fill: var(--disabled-fill-color);\n",
              "    box-shadow: none;\n",
              "  }\n",
              "\n",
              "  .colab-df-spinner {\n",
              "    border: 2px solid var(--fill-color);\n",
              "    border-color: transparent;\n",
              "    border-bottom-color: var(--fill-color);\n",
              "    animation:\n",
              "      spin 1s steps(1) infinite;\n",
              "  }\n",
              "\n",
              "  @keyframes spin {\n",
              "    0% {\n",
              "      border-color: transparent;\n",
              "      border-bottom-color: var(--fill-color);\n",
              "      border-left-color: var(--fill-color);\n",
              "    }\n",
              "    20% {\n",
              "      border-color: transparent;\n",
              "      border-left-color: var(--fill-color);\n",
              "      border-top-color: var(--fill-color);\n",
              "    }\n",
              "    30% {\n",
              "      border-color: transparent;\n",
              "      border-left-color: var(--fill-color);\n",
              "      border-top-color: var(--fill-color);\n",
              "      border-right-color: var(--fill-color);\n",
              "    }\n",
              "    40% {\n",
              "      border-color: transparent;\n",
              "      border-right-color: var(--fill-color);\n",
              "      border-top-color: var(--fill-color);\n",
              "    }\n",
              "    60% {\n",
              "      border-color: transparent;\n",
              "      border-right-color: var(--fill-color);\n",
              "    }\n",
              "    80% {\n",
              "      border-color: transparent;\n",
              "      border-right-color: var(--fill-color);\n",
              "      border-bottom-color: var(--fill-color);\n",
              "    }\n",
              "    90% {\n",
              "      border-color: transparent;\n",
              "      border-bottom-color: var(--fill-color);\n",
              "    }\n",
              "  }\n",
              "</style>\n",
              "\n",
              "  <script>\n",
              "    async function quickchart(key) {\n",
              "      const quickchartButtonEl =\n",
              "        document.querySelector('#' + key + ' button');\n",
              "      quickchartButtonEl.disabled = true;  // To prevent multiple clicks.\n",
              "      quickchartButtonEl.classList.add('colab-df-spinner');\n",
              "      try {\n",
              "        const charts = await google.colab.kernel.invokeFunction(\n",
              "            'suggestCharts', [key], {});\n",
              "      } catch (error) {\n",
              "        console.error('Error during call to suggestCharts:', error);\n",
              "      }\n",
              "      quickchartButtonEl.classList.remove('colab-df-spinner');\n",
              "      quickchartButtonEl.classList.add('colab-df-quickchart-complete');\n",
              "    }\n",
              "    (() => {\n",
              "      let quickchartButtonEl =\n",
              "        document.querySelector('#df-fdc2b452-f652-4628-93ce-8171e28e7e76 button');\n",
              "      quickchartButtonEl.style.display =\n",
              "        google.colab.kernel.accessAllowed ? 'block' : 'none';\n",
              "    })();\n",
              "  </script>\n",
              "</div>\n",
              "    </div>\n",
              "  </div>\n"
            ]
          },
          "metadata": {},
          "execution_count": 42
        },
        {
          "output_type": "display_data",
          "data": {
            "text/plain": [
              "<google.colab._quickchart_helpers.SectionTitle at 0x7ab4c1994cd0>"
            ],
            "text/html": [
              "<h4 class=\"colab-quickchart-section-title\">Distributions</h4>\n",
              "<style>\n",
              "  .colab-quickchart-section-title {\n",
              "      clear: both;\n",
              "  }\n",
              "</style>"
            ]
          },
          "metadata": {}
        },
        {
          "output_type": "display_data",
          "data": {
            "text/plain": [
              "from matplotlib import pyplot as plt\n",
              "_df_0['Open'].plot(kind='hist', bins=20, title='Open')\n",
              "plt.gca().spines[['top', 'right',]].set_visible(False)"
            ],
            "text/html": [
              "      <div class=\"colab-quickchart-chart-with-code\" id=\"chart-75955d73-4e67-4f20-9e8e-5c6bd87b3040\">\n",
              "        <img style=\"width: 180px;\" src=\"data:image/png;base64,iVBORw0KGgoAAAANSUhEUgAAAicAAAGrCAYAAAAbyjfjAAAAOXRFWHRTb2Z0d2FyZQBNYXRwbG90\n",
              "bGliIHZlcnNpb24zLjcuMSwgaHR0cHM6Ly9tYXRwbG90bGliLm9yZy/bCgiHAAAACXBIWXMAAA9h\n",
              "AAAPYQGoP6dpAAAd+klEQVR4nO3df5BV9X3/8deF1TUYEQVUDCxI+KGt4qphS40/kxqjZoSIxqlj\n",
              "BBsLmjjW0baCaSeSOi7OWI394YhOhxRJKaQY42hNYxJ/1NaIKIrRUWQMAopgtSyO1RXW+/3Db7Zu\n",
              "XFOX7OV+1n08Zu7M3nPPnvvGM+4+59yz51Sq1Wo1AACFGFDvAQAA3k+cAABFEScAQFHECQBQFHEC\n",
              "ABRFnAAARREnAEBRxAkAUBRxAgAURZwAAEURJ0Cve+yxx3L66adn3333zaBBg3LIIYfkmmuuyfbt\n",
              "2+s9GtAHiBOgV/3sZz/LMccck9/5nd/JM888k61bt2bBggX57ne/m2nTpuXdd9+t94hA4cQJ0Ksu\n",
              "uuiiTJ8+PfPnz88BBxyQ3XffPccdd1x++MMf5sc//nGWLVuW+++/P5VKJd/73vcyduzYDBkyJF/+\n",
              "8pezZcuWzu28/fbbufLKK/PpT386++yzT4477risWrWq8/WrrroqxxxzTObNm5cRI0Zk3333zezZ\n",
              "s7Njx456/LOBXiROgF6zZs2arFmzJjNnzvzAa4ccckhaWlpy1113dS5bsmRJVq5cmV/+8pd55513\n",
              "cu6553a+duGFF2bFihV54IEH8uqrr+YrX/lKTj755GzdurVznUceeSR77rlnXnzxxfz85z/P97//\n",
              "/dx22221/CcCu4A4AXrNq6++miT51Kc+1e3rI0eO7HJ0pLW1Nfvuu2/22WefXHfddbn33nuzYcOG\n",
              "vPbaa/nHf/zH/P3f/31GjhyZhoaGXHzxxdl77727xM2oUaPyp3/6p9l9990zYcKEfP7zn8+KFStq\n",
              "+48Eaq6h3gMAHx/Dhw9Pkrz00ks55JBDPvD6xo0bc9BBB3U+7+7rDRs2ZODAgUmS3/u93+vy/e+8\n",
              "8042btzY+fzAAw/s8vqee+6ZN95447f8VwD1Jk6AXjNhwoSMGzcuixYtyh/8wR90ee25557LihUr\n",
              "cvHFF3cuW7duXQ499NDOr5P3jq5Uq9UkyerVq9PU1LRrhgeK4WMdoFfddNNNWbZsWa688sps3rw5\n",
              "27dvz0MPPZSpU6fm85//fL7yla90rnvllVfm9ddfz9atW/Nnf/Zn+dznPpempqaMHj0606ZNyze+\n",
              "8Y28+OKLSZI33ngj99xzTzZt2lSvfxqwi4gToFeddNJJ+fd///c89dRTOfjggzN48OB87Wtfy7nn\n",
              "nps777yz8yObJDn77LPzmc98JqNHj86AAQPyve99r/O1f/qnf8pRRx2Vk046KXvttVcmTpyYW2+9\n",
              "tfOoCvDxVan6Px3Yxe6///6ceOKJ2b59exoafLoMdOXICQBQFHECABTFxzoAQFEcOQEAiiJOAICi\n",
              "iBMAoCjiBAAoSp+MkxtvvLHeIwAANdIn4+RXl7MGAD5++mScAAAfX+IEACiKOAEAiiJOAICiiBMA\n",
              "oCjiBAAoijgBAIoiTgCAoogTAKAo4gQAKIo4AQCKIk4AgKKIEwCgKOIEACiKOAEAitJQ7wGA2hkz\n",
              "5+6abXvd/NNqtm2gf3PkBAAoijgBAIoiTgCAoogTAKAo4gQAKIo4AQCKIk4AgKKIEwCgKOIEACiK\n",
              "OAEAiiJOAICiiBMAoCjiBAAoijgBAIoiTgCAoogTAKAo4gQAKIo4AQCKUtM4+cIXvpBJkyalubk5\n",
              "xx57bFatWpUkef7553P00UdnwoQJmTx5cp5++ulajgEA9CE1jZNly5Zl9erVeeKJJ3LZZZdl5syZ\n",
              "SZLZs2dn1qxZWbNmTa644orO5QAANY2TIUOGdH7d1taWSqWSLVu2ZOXKlTn33HOTJNOnT8+GDRuy\n",
              "du3abrfR3t6ebdu2dXl0dHTUcmwAoI4aav0G5513Xu67774kyb/+679mw4YNGTFiRBoa3nvrSqWS\n",
              "pqamrF+/PuPGjfvA97e2tmbevHldlk2ZMqXWYwNQoDFz7q7JdtfNP60m22Xn1PyE2EWLFmXDhg25\n",
              "+uqrc8UVV/T4++fOnZu2trYuj5aWlhpMCgCUoOZHTn5lxowZufDCCzNy5Mhs2rQpO3bsSENDQ6rV\n",
              "atavX5+mpqZuv6+xsTGNjY1dlg0cOHBXjAwA1EHNjpxs3bo1L7/8cufzO+64I0OHDs1+++2XI488\n",
              "MosXL06SLF++PCNHjuz2Ix0AoP+p2ZGTtra2nHXWWXnrrbcyYMCADB8+PHfddVcqlUoWLFiQmTNn\n",
              "5pprrsngwYOzcOHCWo0BAPQxNYuT0aNHZ8WKFd2+NnHixDz88MO1emsAoA9zhVgAoCjiBAAoijgB\n",
              "AIoiTgCAoogTAKAou+wibAD0D7W6xDz9hyMnAEBRxAkAUBRxAgAURZwAAEURJwBAUcQJAFAUcQIA\n",
              "FEWcAABFEScAQFHECQBQFHECABRFnAAARREnAEBRxAkAUBRxAgAURZwAAEURJwBAUcQJAFAUcQIA\n",
              "FEWcAABFEScAQFHECQBQFHECABRFnAAARREnAEBRxAkAUBRxAgAURZwAAEURJwBAUcQJAFAUcQIA\n",
              "FEWcAABFEScAQFHECQBQFHECABRFnAAARREnAEBRxAkAUBRxAgAURZwAAEWpWZy8/fbbmTZtWiZM\n",
              "mJDDDz88J510UtauXZskOeGEE3LQQQelubk5zc3NueGGG2o1BgDQxzTUcuOzZs3KKaeckkqlkr/7\n",
              "u7/LBRdckPvvvz9JcsMNN2TatGm1fHsAoA+q2ZGTPfbYI6eeemoqlUqSZMqUKVm3bl2Pt9Pe3p5t\n",
              "27Z1eXR0dPTytABAKXbZOSc33nhjpk6d2vl8zpw5Oeyww3L22WfnhRde+NDva21tzd57793lsWLF\n",
              "il0xMgBQB7skTq655pqsXbs2ra2tSZLbbrstzz77bFavXp1jjz02X/rSlz70e+fOnZu2trYuj5aW\n",
              "ll0xNgBQBzWPk+uuuy6333577rnnngwaNChJMmrUqCRJpVLJxRdfnBdeeCGvvfZat9/f2NiYwYMH\n",
              "d3kMHDiw1mMDAHVS0zi5/vrrs2TJktx7770ZMmRIkmTHjh3ZvHlz5zrLly/P/vvvn6FDh9ZyFACg\n",
              "j6jZX+ts3Lgxl19+ecaOHZsTTzwxyXtHQX72s5/ltNNOS3t7ewYMGJBhw4blzjvvrNUYAEAfU7M4\n",
              "GTlyZKrVarevrVy5slZvCwD0ca4QCwAURZwAAEURJwBAUcQJAFAUcQIAFKWmN/4DPr7GzLm7Jttd\n",
              "N/+0mmwX6DscOQEAiiJOAICiiBMAoCjiBAAoijgBAIoiTgCAoogTAKAo4gQAKIo4AQCKIk4AgKK4\n",
              "fD0A/V6tbseQuCXDznDkBAAoijgBAIoiTgCAoogTAKAo4gQAKIo4AQCKIk4AgKKIEwCgKOIEACiK\n",
              "OAEAiuLy9UC/UatLlLs8OfQuR04AgKKIEwCgKOIEACiKOAEAiiJOAICiiBMAoCjiBAAoijgBAIoi\n",
              "TgCAoogTAKAo4gQAKIo4AQCKIk4AgKKIEwCgKOIEACiKOAEAiiJOAICiiBMAoCg1i5O3334706ZN\n",
              "y4QJE3L44YfnpJNOytq1a5MkW7ZsyRe/+MWMHz8+hx56aB588MFajQEA9DE1PXIya9asPPfcc3ny\n",
              "ySczderUXHDBBUmSOXPmZMqUKXn++eezcOHCnHPOOdm+fXstRwEA+oiaxckee+yRU089NZVKJUky\n",
              "ZcqUrFu3LkmybNmyXHjhhUmSyZMn58ADD8wDDzzQ7Xba29uzbdu2Lo+Ojo5ajQ0A1FnDrnqjG2+8\n",
              "MVOnTs1rr72W7du354ADDuh8bcyYMVm/fn2339fa2pp58+Z1WTZlypSazgrdGTPn7ppte93802q2\n",
              "bYC+ZpecEHvNNddk7dq1aW1t7fH3zp07N21tbV0eLS0tNZgSAChBzY+cXHfddbn99tvzk5/8JIMG\n",
              "DcqgQYPS0NCQV155pfPoybp169LU1NTt9zc2NqaxsbHLsoEDB9Z6bACgTmp65OT666/PkiVLcu+9\n",
              "92bIkCGdy88666zcfPPNSZJHH300L730Uo4//vhajgIA9BE1O3KycePGXH755Rk7dmxOPPHEJO8d\n",
              "BXnkkUdy7bXX5qtf/WrGjx+f3XffPYsXL85uu+1Wq1EAgD6kZnEycuTIVKvVbl/bf//98+Mf/7hW\n",
              "bw0A9GGuEAsAFEWcAABFEScAQFHECQBQlB7Hyb/927/VYg4AgCQ78dc63/72t3PJJZfk61//es4/\n",
              "//wMHjy4FnPxMedS8F3V8r8HQF/T4yMn//Ef/5F//ud/zi9+8YtMmDAhX//61/PMM8/UYjYAoB/a\n",
              "qXNOjjjiiNx666350Y9+lLvuuiuTJk3KSSedlKeeeqq35wMA+pmdipOf/OQnmTp1as4444x84xvf\n",
              "yCuvvJLZs2fny1/+cm/PBwD0Mz0+5+SQQw7JsGHDcskll+SMM87ovAnfmWeemX/4h3/o9QEBgP6l\n",
              "x3GyePHiHHXUUd2+ds899/zWAwEA/VuPP9Z57LHH8vrrr3c+f+2113Lrrbf26lAAQP/V4zi56aab\n",
              "su+++3Y+Hzp0aG666aZeHQoA6L96HCfd3Wm4o6OjV4YBAOhxnIwYMSLLli3rfL506dKMGDGiV4cC\n",
              "APqvHp8Q+53vfCdTp07Nn//5nydJBg0alB/+8Ie9PhgA0D/1OE4OPvjgPPPMM3nuueeSJBMnTuz8\n",
              "c2KA35ZL+QM9jpMkqVQqGTJkSHbs2JGXXnopSdLU1NSrgwEA/VOP4+S73/1uLrnkkuy2224ZMOC9\n",
              "U1YqlUq2bNnS68MBAP1Pj+Pkr/7qr/Loo49m4sSJtZgHAOjnevzXOsOGDRMmAEDN9DhOpk2blu98\n",
              "5zvZsmVLtm3b1vkAAOgNPf5Y55vf/GaS5LLLLkulUkm1Wk2lUnEhNgCgV/Q4Tt59991azAEAkGQn\n",
              "PtZJ3rv532233ZYk2bp1azZt2tSrQwEA/ddO3fjvj/7oj3LVVVclee+uxOecc05vzwUA9FM9jpNb\n",
              "brklP//5zzN48OAkyac//em8+uqrvT4YANA/9fick8bGxnziE5/oupGGnbrQLAB87NXqlgzr5p9W\n",
              "k+2WoMdHToYPH541a9akUqkkee+KsS5dDwD0lp26K/Ef/uEf5tlnn82oUaMyePDg3HXXXbWYDQDo\n",
              "h3ocJ+PGjcsjjzyS5557LtVq1V2JAYBe1eM4Wb9+fZJkzz33TBJ3JQYAelWP4+Soo47qvDLs22+/\n",
              "nf/5n//J0KFD3ZUYAOgVPY6TX/+z4dtvvz1PPvlkrw0EAPRvO3WF2Pc744wzcvfdtfkzKQCg/+nx\n",
              "kZP334G4o6MjjzzyiLsSAwC9psdxMmTIkM5zTgYOHJjx48fnb/7mb2oxGwDQD7krMQBQlN/6nBMA\n",
              "gN7U4yMnAwYM6Lx0/ftVq9VUKpV0dHT0ymAAQP/U4zj59re/nbfeeisXXXRRkuTmm2/OJz7xiVx6\n",
              "6aW9PRsA0A/1OE5+8IMf5LHHHut8fvXVV+eoo47KN7/5zV4dDADon3p8zskbb7zR5WqwW7ZsyRtv\n",
              "vNGrQwEA/VePj5xcfvnlOfzww3PqqacmSX70ox/lqquu6u25AIB+qsdxMnv27Hz2s5/NfffdlyS5\n",
              "7LLL8ru/+7u9PhgA0D/1OE6SZOjQoTnssMNywgknZMeOHXnnnXey++679/ZsAEA/1ONzTv7lX/4l\n",
              "U6ZMyfnnn58kefrppzNt2rRu173kkksyZsyYVCqVPPHEE53Lx4wZk4kTJ6a5uTnNzc1ZunTpTg0P\n",
              "AHz89DhOWltb8/jjj2fIkCFJksMPPzwvvvhit+ueeeaZeeihhzJ69OgPvLZ06dI88cQTeeKJJ3L2\n",
              "2Wf3dAwA4GOqxx/rDBw4MEOHDu2y7MM+0jnuuON2bqr3aW9vT3t7e5dlLvQGAB9fPY6TvfbaK5s3\n",
              "b+68SuxPf/rT7Lvvvj1+4/POOy/VajUtLS2ZP39+hg8f3u16ra2tmTdvXpdlU6ZM6fH70XNj5txd\n",
              "7xEA6Id6/LHOtddem1NOOSUvvPBCjjnmmJx33nn567/+6x5t48EHH8zq1avz+OOPZ9iwYZkxY8aH\n",
              "rjt37ty0tbV1ebS0tPR0bACgj+jRkZN33303HR0due+++/Kf//mfqVarOfroozvPP/mompqakiS7\n",
              "7bZbLr300kyYMOFD121sbExjY2OXZQMHDuzR+wEAfUeP4mTAgAGZNWtWnnzyyZxyyik79YZvvvlm\n",
              "tm/f3hk0S5YsyRFHHLFT2wIAPn56/LHO+PHjs3bt2o+07uzZszNy5Mhs3LgxJ598csaNG5fNmzfn\n",
              "xBNPzKRJk3LYYYflgQceyKJFi3o8OADw8dTjE2Jff/31NDc35+ijj84nP/nJzuW33377B9ZdsGBB\n",
              "t9tYtWpVT98WAOgnPnKczJo1K7fccktmzJiR008/Pfvss08t5wIA+qmPHCcrV65MksyYMSNHHnlk\n",
              "Hn/88ZoNBQD0Xz0+5yRJqtVqb88BAJCkB0dO3nrrrTz11FOpVqt5++23O7/+lUmTJtVkQACgf+lR\n",
              "nJx++umdz9//daVSyQsvvNC7kwEA/dJHjpN169bVcAwAgPfs1DknAAC1Ik4AgKKIEwCgKOIEACiK\n",
              "OAEAiiJOAICiiBMAoCjiBAAoijgBAIoiTgCAonzky9cD0L0xc+6u2bbXzT+tZtuGUjlyAgAURZwA\n",
              "AEURJwBAUcQJAFAUcQIAFEWcAABFEScAQFHECQBQFHECABRFnAAARXH5eoCC1erS+C6LT8kcOQEA\n",
              "iiJOAICiiBMAoCjiBAAoijgBAIoiTgCAoogTAKAo4gQAKIo4AQCKIk4AgKKIEwCgKOIEACiKOAEA\n",
              "iiJOAICiiBMAoCjiBAAoijgBAIoiTgCAotQ0Ti655JKMGTMmlUolTzzxROfy559/PkcffXQmTJiQ\n",
              "yZMn5+mnn67lGABAH1LTODnzzDPz0EMPZfTo0V2Wz549O7NmzcqaNWtyxRVXZObMmbUcAwDoQ2oa\n",
              "J8cdd1xGjhzZZdmWLVuycuXKnHvuuUmS6dOnZ8OGDVm7dm2322hvb8+2bdu6PDo6Omo5NgBQR7v8\n",
              "nJMNGzZkxIgRaWhoSJJUKpU0NTVl/fr13a7f2tqavffeu8tjxYoVu3JkAGAXKv6E2Llz56atra3L\n",
              "o6Wlpd5jAQA10rCr33DUqFHZtGlTduzYkYaGhlSr1axfvz5NTU3drt/Y2JjGxsYuywYOHLgrRgUA\n",
              "6mCXHznZb7/9cuSRR2bx4sVJkuXLl2fkyJEZN27crh4FAChQTeNk9uzZGTlyZDZu3JiTTz65M0AW\n",
              "LFiQBQsWZMKECZk/f34WLlxYyzEAgD6kph/rLFiwoNvlEydOzMMPP1zLtwYA+qjiT4gFAPoXcQIA\n",
              "FEWcAABFEScAQFHECQBQFHECABRFnAAARREnAEBRxAkAUBRxAgAURZwAAEURJwBAUcQJAFAUcQIA\n",
              "FEWcAABFEScAQFEa6j0A9LYxc+6u9wgA/BYcOQEAiiJOAICiiBMAoCjiBAAoijgBAIoiTgCAoogT\n",
              "AKAo4gQAKIo4AQCKIk4AgKKIEwCgKOIEACiKOAEAiiJOAICiiBMAoCjiBAAoijgBAIoiTgCAoogT\n",
              "AKAo4gQAKIo4AQCK0lDvAfjtjZlzd71HAGAXq+XP/nXzT6vZtj8KR04AgKKIEwCgKOIEACiKOAEA\n",
              "iiJOAICiiBMAoCjiBAAoSt3iZMyYMZk4cWKam5vT3NycpUuX1msUAKAgdb0I29KlS9Pc3FzPEQCA\n",
              "whR/hdj29va0t7d3WdbR0VGnaQCAWqtrnJx33nmpVqtpaWnJ/PnzM3z48A+s09ramnnz5nVZNmXK\n",
              "lF01IsDHktteULK6nXPy4IMPZvXq1Xn88cczbNiwzJgxo9v15s6dm7a2ti6PlpaWXTwtALCr1O3I\n",
              "SVNTU5Jkt912y6WXXpoJEyZ0u15jY2MaGxu7LBs4cGDN5wMA6qMuR07efPPNbN26tfP5kiVLcsQR\n",
              "R9RjFACgMHU5crJ58+ZMnz49HR0dqVarGTt2bBYtWlSPUQCAwtQlTsaOHZtVq1bV460BgMK5QiwA\n",
              "UBRxAgAURZwAAEURJwBAUcQJAFAUcQIAFEWcAABFEScAQFHECQBQFHECABRFnAAARREnAEBRxAkA\n",
              "UBRxAgAURZwAAEURJwBAUcQJAFAUcQIAFEWcAABFEScAQFHECQBQFHECABRFnAAARREnAEBRxAkA\n",
              "UBRxAgAURZwAAEVpqPcApRkz5+56jwAA/ZojJwBAUcQJAFAUcQIAFEWcAABFEScAQFHECQBQFHEC\n",
              "ABRFnAAARREnAEBRxAkAUBRxAgAURZwAAEURJwBAUcQJAFAUcQIAFEWcAABFEScAQFHECQBQlLrF\n",
              "yfPPP5+jjz46EyZMyOTJk/P000/XaxQAoCB1i5PZs2dn1qxZWbNmTa644orMnDmzXqMAAAWpS5xs\n",
              "2bIlK1euzLnnnpskmT59ejZs2JC1a9d+YN329vZs27aty6Ojo2NXjwwA7CIN9XjTDRs2ZMSIEWlo\n",
              "eO/tK5VKmpqasn79+owbN67Luq2trZk3b16XZQcffHAuu+yyD2y3o6MjK1asSEtLSwYOHLhTs52x\n",
              "U9/FzuiN/cWuY3/1LfZX31Hivrrssp/WZLujR4/On/zJn/yf61Wq1Wq1JhP8Bo899ljOOeecPPfc\n",
              "c53LWlpaMn/+/Hzuc5/rsm57e3va29u7LGtsbExjY+MHtrtt27bsvffeaWtry+DBg2szPL3G/upb\n",
              "7K++xf7qO+yrD6rLkZNRo0Zl06ZN2bFjRxoaGlKtVrN+/fo0NTV9YN0PCxEA4OOpLuec7Lfffjny\n",
              "yCOzePHiJMny5cszcuTID3ykAwD0P3U5cpIkCxYsyMyZM3PNNddk8ODBWbhwYb1GAQAKUrc4mThx\n",
              "Yh5++OFe3WZjY2O+9a1v+Rioj7C/+hb7q2+xv/oO++qD6nJCLADAh3H5egCgKOIEACiKOAEAiiJO\n",
              "AICi9Ok4+cIXvpBJkyalubk5xx57bFatWpXEHY9L9WH7a8yYMZk4cWKam5vT3NycpUuX1nlSfmXh\n",
              "woWpVCq54447krx3X6wvfvGLGT9+fA499NA8+OCD9R2QLn59f51wwgk56KCDOv/fuuGGG+o7IEk+\n",
              "/Gee313vU+3D/vu//7vz69tvv706adKkarVarZ544onVhQsXVqvVavX73/9+9TOf+UwdpuPXfdj+\n",
              "Gj16dHXVqlX1GYoP9ctf/rL6+7//+9UpU6ZUf/CDH1Sr1Wr1/PPPr37rW9+qVqvV6ooVK6qf+tSn\n",
              "qu+88079hqRTd/vr+OOP7/yacnzYzzy/u/5Xnz5yMmTIkM6v29raUqlUenTHY3at7vYXZXr33Xdz\n",
              "wQUX5G//9m+7XHth2bJlufDCC5MkkydPzoEHHpgHHnigXmPy/33Y/qLv8Lurqz4dJ0ly3nnnZdSo\n",
              "UfnLv/zL3Hbbbb/xjsfU36/vr/cvP+yww/K1r30tr776ah0nJEmuv/76fPazn81RRx3Vuey1117L\n",
              "9u3bc8ABB3QuGzNmjP+3CtDd/vqVOXPm5LDDDsvZZ5+dF154oQ7T0Z1f/5nnd1dXfT5OFi1alA0b\n",
              "NuTqq6/OFVdcUe9x+D90t78efPDBrF69Oo8//niGDRuWGTNm1HnK/u0Xv/hFli9fnr/4i7+o9yh8\n",
              "BL9pf91222159tlns3r16hx77LH50pe+VIcJ+XV+5n0E9f5cqTftscce1VdeeaW61157Vbdv316t\n",
              "VqvVd999t7r//vtXn3/++TpPx6/bY489qv/1X//VZdnLL79c/eQnP1mniahWq9WbbrqpesABB1RH\n",
              "jx5dHT16dLWxsbE6fPjw6k033VQdNGhQddOmTZ3rTp48uXrvvffWcVp+0/76dY2NjR/4f476+tXP\n",
              "vM2bN/vd9T599sjJ1q1b8/LLL3c+v+OOOzJ06FB3PC7Uh+2vPfbYI1u3bu1cvmTJkhxxxBF1mJBf\n",
              "ueiii7Jp06asW7cu69aty5QpU3LLLbfkoosuyllnnZWbb745SfLoo4/mpZdeyvHHH1/nifu3D9tf\n",
              "f/zHf5zNmzd3rrd8+fLsv//+GTp0aB2n5c033+z2Z57fXV3V7cZ/v622tracddZZeeuttzJgwIAM\n",
              "Hz48d911VyqVijseF+jD9tfmzZszffr0dHR0pFqtZuzYsVm0aFG9x+VDXHvttfnqV7+a8ePHZ/fd\n",
              "d8/ixYuz22671XssutHe3p7TTjst7e3tGTBgQIYNG5Y777yz3mP1e7/pZ57fXf/Ljf8AgKL02Y91\n",
              "AICPJ3ECABRFnAAARREnAEBRxAkAUBRxAgAURZwAAEURJwBAUcQJAFAUcQIAFOX/AXukMSeLoHKC\n",
              "AAAAAElFTkSuQmCC\n",
              "\">\n",
              "      </div>\n",
              "      <script type=\"text/javascript\">\n",
              "        (() => {\n",
              "          const chartElement = document.getElementById(\"chart-75955d73-4e67-4f20-9e8e-5c6bd87b3040\");\n",
              "          async function getCodeForChartHandler(event) {\n",
              "            const chartCodeResponse =  await google.colab.kernel.invokeFunction(\n",
              "                'getCodeForChart', [\"chart-75955d73-4e67-4f20-9e8e-5c6bd87b3040\"], {});\n",
              "            const responseJson = chartCodeResponse.data['application/json'];\n",
              "            await google.colab.notebook.addCell(responseJson.code, 'code');\n",
              "          }\n",
              "          chartElement.onclick = getCodeForChartHandler;\n",
              "        })();\n",
              "      </script>\n",
              "      <style>\n",
              "        .colab-quickchart-chart-with-code  {\n",
              "            display: block;\n",
              "            float: left;\n",
              "            border: 1px solid transparent;\n",
              "        }\n",
              "\n",
              "        .colab-quickchart-chart-with-code:hover {\n",
              "            cursor: pointer;\n",
              "            border: 1px solid #aaa;\n",
              "        }\n",
              "      </style>"
            ]
          },
          "metadata": {}
        },
        {
          "output_type": "display_data",
          "data": {
            "text/plain": [
              "from matplotlib import pyplot as plt\n",
              "_df_1['High'].plot(kind='hist', bins=20, title='High')\n",
              "plt.gca().spines[['top', 'right',]].set_visible(False)"
            ],
            "text/html": [
              "      <div class=\"colab-quickchart-chart-with-code\" id=\"chart-8e458d7b-cb43-4171-a49f-bb84901764ae\">\n",
              "        <img style=\"width: 180px;\" src=\"data:image/png;base64,iVBORw0KGgoAAAANSUhEUgAAAigAAAGrCAYAAADqwWxuAAAAOXRFWHRTb2Z0d2FyZQBNYXRwbG90\n",
              "bGliIHZlcnNpb24zLjcuMSwgaHR0cHM6Ly9tYXRwbG90bGliLm9yZy/bCgiHAAAACXBIWXMAAA9h\n",
              "AAAPYQGoP6dpAAAhzklEQVR4nO3de3BU5f3H8c8mgUUUTCEggdyMJKEtlwAmTUEEdFC5CBRwnCJX\n",
              "RUK1gw7YAuM1yBBsAUUdCiqDhYwICqgFsRVqQYtyRxTLJdKQgEgsSEIpBLJ5fn8w7o+VDWbjnt1n\n",
              "k/dr5sxkz57nnO/DIWc/8+yTc1zGGCMAAACLRIW7AAAAgO8joAAAAOsQUAAAgHUIKAAAwDoEFAAA\n",
              "YB0CCgAAsA4BBQAAWIeAAgAArENAAQAA1iGgAAibvn376umnn67x9k899ZRuuukmBysCYIuYcBcA\n",
              "oG7q1auXbrrpJs2YMcNn/ZgxY1RZWamCggKtW7cuTNUBsB0jKAAAwDoEFABh06tXLz322GPe11u3\n",
              "blVWVpaaNGmiG2+8UXPnzpXL5bqsXV5enuLj49WsWTPl5uaqsrIylGUDCAECCgArnDp1Sn379tWd\n",
              "d96pEydOqKCgQAsWLLhsuy1btujqq6/W4cOH9cknn+iNN97Q0qVLw1AxACcRUAA4Zvbs2YqNjfVZ\n",
              "XnvtNb/brlmzRg0aNNBjjz2mhg0bql27dpo4ceJl2yUmJuqRRx5Rw4YNlZ6erltvvVVbt251uisA\n",
              "QoyAAsAxjzzyiE6dOuWzDB8+3O+2R48eVWJioqKi/v+ylJKSctl2rVu39nl99dVX6/Tp00GtG0D4\n",
              "EVAAWKFNmzYqKSlRVVWVd93hw4fDWBGAcCKgALDCgAEDdP78eeXn5+v8+fM6cOCAnn/++XCXBSBM\n",
              "CCgArBAbG6t3331Xq1evVrNmzTR8+HDde++9crvd4S4NQBi4jDEm3EUAgD/PPfec/vSnP2n//v3h\n",
              "LgVAiDGCAsAaGzZsUElJiYwx2r59u2bPnq177rkn3GUBCANudQ/AGvv27dPIkSN16tQptWzZUiNG\n",
              "jNCUKVPCXRaAMOArHgAAYB2+4gEAANYhoAAAAOsQUAAAgHUIKAAAwDoRGVDmzZsX7hIAAICDIjKg\n",
              "8HwOAADqtogMKAAAoG4joAAAAOsQUAAAgHUIKAAAwDoEFAAAYB0CCgAAsA4BBQAAWIeAAgAArENA\n",
              "AQAA1iGgAAAA6xBQAACAdQgoAADAOgQUAABgHQIKAACwDgEFAABYJybcBQAA6paUqWsd23fRrP6O\n",
              "7Rt2YQQFAABYh4ACAACsQ0ABAADWIaAAAADrEFAAAIB1CCgAAMA6BBQAAGAdAgoAALAOAQUAAFiH\n",
              "gAIAAKxDQAEAANYhoAAAAOsQUAAAgHUIKAAAwDoEFAAAYB0CCgAAsA4BBQAAWIeAAgAArONoQLnt\n",
              "ttvUsWNHZWZmqkePHtq1a5ck6eDBg+rWrZvS09OVlZWlvXv3OlkGAACIMI4GlBUrVmjPnj3avXu3\n",
              "Jk2apDFjxkiScnNzNX78eB04cEBTpkzxrgcAAJAcDiixsbHen8vKyuRyuVRaWqrt27drxIgRkqSh\n",
              "Q4eqpKREhYWFfvdRUVGh8vJyn8Xj8ThZNgAACLMYpw8watQoffDBB5Kkd999VyUlJYqPj1dMzMVD\n",
              "u1wuJSUlqbi4WG3btr2sfX5+vvLy8nzW5eTkOF02AAAII8cnyS5ZskQlJSWaMWOGpkyZEnD7adOm\n",
              "qayszGfJzs52oFIAAGALx0dQvjN69GhNmDBBCQkJOnbsmCorKxUTEyNjjIqLi5WUlOS3ndvtltvt\n",
              "9lkXHR0dipIBAECYODaCcurUKX311Vfe12+99ZaaN2+uli1bqkuXLiooKJAkrVy5UgkJCX6/3gEA\n",
              "APWTYyMoZWVluuuuu3T27FlFRUWpRYsWWrNmjVwulxYuXKgxY8Zo5syZatq0qRYvXuxUGQAAIAI5\n",
              "FlCSk5O1detWv+9lZGTo448/durQAAAgwnEnWQAAYB0CCgAAsA4BBQAAWIeAAgAArENAAQAA1iGg\n",
              "AAAA6xBQAACAdQgoAADAOgQUAABgHQIKAACwDgEFAABYh4ACAACsQ0ABAADWIaAAAADrEFAAAIB1\n",
              "CCgAAMA6MeEuAACAmkqZutaR/RbN6u/IflF7jKAAAADrEFAAAIB1CCgAAMA6BBQAAGAdAgoAALAO\n",
              "AQUAAFiHgAIAAKxDQAEAANYhoAAAAOsQUAAAgHW41T2AeoPbpAORgxEUAABgHQIKAACwDgEFAABY\n",
              "h4ACAACsQ0ABAADWIaAAAADrEFAAAIB1CCgAAMA6BBQAAGAdAgoAALAOt7oH6jCnbu0ucXt3AM5i\n",
              "BAUAAFiHgAIAAKxDQAEAANYhoAAAAOsQUAAAgHUIKAAAwDoEFAAAYB3HAsq5c+c0ePBgpaenq1On\n",
              "TurTp48KCwslSb169dL111+vzMxMZWZm6tlnn3WqDAAAEIEcvVHb+PHj1bdvX7lcLr344osaN26c\n",
              "/vGPf0iSnn32WQ0ePNjJwwMAgAjl2AhKo0aN1K9fP7lcLklSTk6OioqKAt5PRUWFysvLfRaPxxPk\n",
              "agEAgE1Cdqv7efPmadCgQd7XU6dO1eOPP66f/exnys/PV2pqqt92+fn5ysvL81mXk5PjaK1AqDl5\n",
              "S3qnOFUzt9AHIIVokuzMmTNVWFio/Px8SdLSpUu1b98+7dmzRz169NCAAQOqbTtt2jSVlZX5LNnZ\n",
              "2aEoGwAAhInjAWX27NlatWqV1q1bp8aNG0uSEhMTJUkul0u//e1vdejQIZ04ccJve7fbraZNm/os\n",
              "0dHRTpcNAADCyNGAMnfuXC1btkzvv/++YmNjJUmVlZU6fvy4d5uVK1fquuuuU/PmzZ0sBQAARBDH\n",
              "5qAcOXJEkydPVmpqqnr37i3p4mjI3//+d/Xv318VFRWKiopSXFyc3nnnHafKAAAAEcixgJKQkCBj\n",
              "jN/3tm/f7tRhAQBAHcCdZAEAgHUIKAAAwDoEFAAAYB0CCgAAsA4BBQAAWIeAAgAArENAAQAA1iGg\n",
              "AAAA6xBQAACAdQgoAADAOgQUAABgHQIKAACwDgEFAABYh4ACAACsQ0ABAADWIaAAAADrEFAAAIB1\n",
              "CCgAAMA6BBQAAGAdAgoAALAOAQUAAFiHgAIAAKxDQAEAANYhoAAAAOsQUAAAgHUIKAAAwDoEFAAA\n",
              "YB0CCgAAsA4BBQAAWIeAAgAArENAAQAA1iGgAAAA6xBQAACAdQgoAADAOgQUAABgHQIKAACwDgEF\n",
              "AABYh4ACAACsExPuAgAAqMtSpq51ZL9Fs/o7sl9bMIICAACsQ0ABAADWIaAAAADrEFAAAIB1CCgA\n",
              "AMA6BBQAAGAdAgoAALCOYwHl3LlzGjx4sNLT09WpUyf16dNHhYWFkqTS0lLdcccdSktLU/v27bVp\n",
              "0yanygAAABHI0RGU8ePHa//+/fr00081aNAgjRs3TpI0depU5eTk6ODBg1q8eLGGDx+uCxcuOFkK\n",
              "AACIII4FlEaNGqlfv35yuVySpJycHBUVFUmSVqxYoQkTJkiSsrKy1Lp1a23cuNHvfioqKlReXu6z\n",
              "eDwep8oGAAAWCNmt7ufNm6dBgwbpxIkTunDhglq1auV9LyUlRcXFxX7b5efnKy8vz2ddTk6Oo7Xi\n",
              "IqduzyxF5i2anfz3AAD4Cskk2ZkzZ6qwsFD5+fkBt502bZrKysp8luzsbAeqBAAAtnB8BGX27Nla\n",
              "tWqV1q9fr8aNG6tx48aKiYnR119/7R1FKSoqUlJSkt/2brdbbrfbZ110dLTTZQMAgDBydARl7ty5\n",
              "WrZsmd5//33FxsZ61991111asGCBJGnbtm06evSoevbs6WQpAAAggjg2gnLkyBFNnjxZqamp6t27\n",
              "t6SLoyFbtmzRM888o5EjRyotLU0NGzZUQUGBGjRo4FQpAAAgwjgWUBISEmSM8fveddddp7/97W9O\n",
              "HRoAAEQ47iQLAACsQ0ABAADWIaAAAADrEFAAAIB1Ag4of/3rX52oAwAAwCvggDJ9+nRlZGRo3rx5\n",
              "Ki8vd6ImAABQzwUcUP75z3/q9ddf1+eff6709HQ98MAD+uKLL5yoDQAA1FO1moPSuXNnvfzyy3rv\n",
              "vfe0Zs0adezYUX369NFnn30W7PoAAEA9VKuAsn79eg0aNEhDhgzRgw8+qK+//lq5ubn61a9+Fez6\n",
              "AABAPRTwnWR/+tOfKi4uThMnTtSQIUO8D+4bNmyYFi1aFPQCAQBA/RNwQCkoKFDXrl39vrdu3bof\n",
              "XRAAAEDAX/Hs2LFDJ0+e9L4+ceKEXn755aAWBQAA6reAA8r8+fPVrFkz7+vmzZtr/vz5QS0KAADU\n",
              "bwEHFH9PKPZ4PEEpBgAAQKpFQImPj9eKFSu8r5cvX674+PigFgUAAOq3gCfJPvfccxo0aJB+//vf\n",
              "S5IaN26st99+O+iFAQCA+ivggNKuXTt98cUX2r9/vyQpIyPD+6fGAPBjpUxdG+4SAFgg4IAiSS6X\n",
              "S7GxsaqsrNTRo0clSUlJSUEtDAAA1F8BB5RXX31VEydOVIMGDRQVdXEKi8vlUmlpadCLAwAA9VPA\n",
              "AeXpp5/Wtm3blJGR4UQ9AAAAgf8VT1xcHOEEAAA4KuCAMnjwYD333HMqLS1VeXm5dwEAAAiWgL/i\n",
              "efTRRyVJkyZNksvlkjFGLpeLm7UBAICgCTigVFVVOVEHAACAV8Bf8UgXHxi4dOlSSdKpU6d07Nix\n",
              "oBYFAADqt1o9LPDee+/VU089Jeni04yHDx8e7LoAAEA9FnBAeemll/TJJ5+oadOmkqQbbrhB33zz\n",
              "TdALAwAA9VfAc1Dcbreuuuoq353E1OqGtAAAWIFHLNgn4BGUFi1a6MCBA3K5XJIu3lmW29wDAIBg\n",
              "qtXTjH/9619r3759SkxMVNOmTbVmzRonagMAAPVUwAGlbdu22rJli/bv3y9jDE8zBgAAQRdwQCku\n",
              "LpYkXX311ZLE04wBAEDQBRxQunbt6r2D7Llz5/S///1PzZs352nGAAAgaAIOKN//k+JVq1bp008/\n",
              "DVpBAAAAtbqT7KWGDBmitWv58ywAABA8AY+gXPrkYo/Hoy1btvA0YwAAEFQBB5TY2FjvHJTo6Gil\n",
              "paXp+eefd6I2AABQT/E0YwAAYJ0fPQcFAAAg2AIeQYmKivLe5v5Sxhi5XC55PJ6gFAYAAOqvgAPK\n",
              "9OnTdfbsWf3mN7+RJC1YsEBXXXWVHn744WDXBgAA6qmAA8rq1au1Y8cO7+sZM2aoa9euevTRR4Na\n",
              "GAAAqL8CnoNy+vRpn7vGlpaW6vTp00EtCgAA1G8Bj6BMnjxZnTp1Ur9+/SRJ7733np566qlg1wUA\n",
              "AOqxgANKbm6uunfvrg8++ECSNGnSJP385z8PemEAAKD+CjigSFLz5s3VoUMH9erVS5WVlTp//rwa\n",
              "NmwY7NoAAEA9FfAclDfffFM5OTkaO3asJGnv3r0aPHiw320nTpyolJQUuVwu7d6927s+JSVFGRkZ\n",
              "yszMVGZmppYvX16r4gEAQN0UcEDJz8/Xzp07FRsbK0nq1KmTDh8+7HfbYcOG6aOPPlJycvJl7y1f\n",
              "vly7d+/W7t27dffddwdaBgAAqMMC/oonOjpazZs391lX3dc7N998c+2qukRFRYUqKip81nEzOAAA\n",
              "6raAA0qTJk10/Phx791kN2zYoGbNmgV84FGjRskYo+zsbM2aNUstWrTwu11+fr7y8vJ81uXk5AR8\n",
              "PNglZepax/ZdNKu/Y/sGAIRGwF/xPPPMM+rbt68OHTqkm266SaNGjdKcOXMC2semTZu0Z88e7dy5\n",
              "U3FxcRo9enS1206bNk1lZWU+S3Z2dqBlAwCACBLQCEpVVZU8Ho8++OADbd68WcYYdevWzTsfpaaS\n",
              "kpIkSQ0aNNDDDz+s9PT0ard1u91yu90+66KjowM6HgAAiCwBBZSoqCiNHz9en376qfr27VurA545\n",
              "c0YXLlzwhpply5apc+fOtdoXAAComwL+iictLU2FhYU12jY3N1cJCQk6cuSIbr/9drVt21bHjx9X\n",
              "79691bFjR3Xo0EEbN27UkiVLAi4cAADUXQFPkj158qQyMzPVrVs3XXPNNd71q1atumzbhQsX+t3H\n",
              "rl27Aj0sAACoR2ocUMaPH6+XXnpJo0eP1sCBA/WTn/zEyboAAEA9VuOAsn37dknS6NGj1aVLF+3c\n",
              "udOxogAAQP0W8BwUSTLGBLsOAAAArxqPoJw9e1afffaZjDE6d+6c9+fvdOzY0ZECAQBA/RNQQBk4\n",
              "cKD39aU/u1wuHTp0KLiVAQCAeqvGAaWoqMjBMgAAAP5freagAAAAOImAAgAArENAAQAA1iGgAAAA\n",
              "6xBQAACAdQgoAADAOgQUAABgHQIKAACwDgEFAABYh4ACAACsQ0ABAADWIaAAAADrEFAAAIB1CCgA\n",
              "AMA6BBQAAGAdAgoAALAOAQUAAFiHgAIAAKxDQAEAANYhoAAAAOsQUAAAgHUIKAAAwDoEFAAAYB0C\n",
              "CgAAsA4BBQAAWIeAAgAArENAAQAA1iGgAAAA6xBQAACAdQgoAADAOgQUAABgHQIKAACwTky4CwCA\n",
              "SJcyda1j+y6a1d+xfQM2YwQFAABYh4ACAACsQ0ABAADWIaAAAADrEFAAAIB1CCgAAMA6BBQAAGAd\n",
              "RwPKxIkTlZKSIpfLpd27d3vXHzx4UN26dVN6erqysrK0d+9eJ8sAAAARxtGAMmzYMH300UdKTk72\n",
              "WZ+bm6vx48frwIEDmjJlisaMGeNkGQAAIMI4GlBuvvlmJSQk+KwrLS3V9u3bNWLECEnS0KFDVVJS\n",
              "osLCQr/7qKioUHl5uc/i8XicLBsAAIRZyOeglJSUKD4+XjExF++y73K5lJSUpOLiYr/b5+fn69pr\n",
              "r/VZtm7dGsqSAQBAiFk/SXbatGkqKyvzWbKzs8NdFgAAcFDIHxaYmJioY8eOqbKyUjExMTLGqLi4\n",
              "WElJSX63d7vdcrvdPuuio6NDUSoAAAiTkI+gtGzZUl26dFFBQYEkaeXKlUpISFDbtm1DXQoAALCU\n",
              "owElNzdXCQkJOnLkiG6//XZvCFm4cKEWLlyo9PR0zZo1S4sXL3ayDAAAEGEc/Ypn4cKFftdnZGTo\n",
              "448/dvLQAAAgglk/SRYAANQ/BBQAAGAdAgoAALAOAQUAAFiHgAIAAKwT8hu1AQBqLmXqWkf2WzSr\n",
              "vyP7BYKFERQAAGAdAgoAALAOAQUAAFiHgAIAAKxDQAEAANYhoAAAAOsQUAAAgHUIKAAAwDoEFAAA\n",
              "YB0CCgAAsA63ugcAIAI59RgEyY5HITCCAgAArENAAQAA1iGgAAAA6xBQAACAdQgoAADAOgQUAABg\n",
              "HQIKAACwDgEFAABYh4ACAACsQ0ABAADWIaAAAADrEFAAAIB1CCgAAMA6BBQAAGAdAgoAALAOAQUA\n",
              "AFiHgAIAAKxDQAEAANYhoAAAAOsQUAAAgHUIKAAAwDoEFAAAYB0CCgAAsA4BBQAAWIeAAgAArENA\n",
              "AQAA1iGgAAAA6xBQAACAdQgoAADAOmELKCkpKcrIyFBmZqYyMzO1fPnycJUCAAAsExPOgy9fvlyZ\n",
              "mZnhLAEAAFgorAGlJioqKlRRUeGzzuPxhKkaAAAQCmENKKNGjZIxRtnZ2Zo1a5ZatGhx2Tb5+fnK\n",
              "y8vzWZeTkxOqEiNCytS14S4BQIThugHbhW0OyqZNm7Rnzx7t3LlTcXFxGj16tN/tpk2bprKyMp8l\n",
              "Ozs7xNUCAIBQCtsISlJSkiSpQYMGevjhh5Wenu53O7fbLbfb7bMuOjra8foAAED4hGUE5cyZMzp1\n",
              "6pT39bJly9S5c+dwlAIAACwUlhGU48ePa+jQofJ4PDLGKDU1VUuWLAlHKQAAwEJhCSipqanatWtX\n",
              "OA4NAAAiAHeSBQAA1iGgAAAA6xBQAACAdQgoAADAOgQUAABgHeufxVNXcFvp0OHfGgAiHyMoAADA\n",
              "OgQUAABgHQIKAACwDgEFAABYh4ACAACsQ0ABAADWIaAAAADrEFAAAIB1CCgAAMA6BBQAAGAdAgoA\n",
              "ALAOAQUAAFiHgAIAAKxDQAEAANYhoAAAAOsQUAAAgHUIKAAAwDoEFAAAYB0CCgAAsA4BBQAAWIeA\n",
              "AgAArBMT7gJskzJ1bbhLAACg3mMEBQAAWIeAAgAArENAAQAA1iGgAAAA6xBQAACAdQgoAADAOgQU\n",
              "AABgHQIKAACwDgEFAABYh4ACAACsQ0ABAADWIaAAAADrEFAAAIB1CCgAAMA6BBQAAGAdAgoAALAO\n",
              "AQUAAFiHgAIAAKwTtoBy8OBBdevWTenp6crKytLevXvDVQoAALBM2AJKbm6uxo8frwMHDmjKlCka\n",
              "M2ZMuEoBAACWCUtAKS0t1fbt2zVixAhJ0tChQ1VSUqLCwsLLtq2oqFB5ebnP4vF4Ql0yAAAIoZhw\n",
              "HLSkpETx8fGKibl4eJfLpaSkJBUXF6tt27Y+2+bn5ysvL89nXbt27TRp0iRHahsSxH15PB5t3bpV\n",
              "2dnZio6ODuKe7VCX+0ffIhN9i1x1uX+R2LdJkzbUaLtA+5acnKyHHnqoRvt2GWNMjbYMoh07dmj4\n",
              "8OHav3+/d112drZmzZqlW265xWfbiooKVVRU+Kxzu91yu90hqfXHKC8v17XXXquysjI1bdo03OUE\n",
              "XV3uH32LTPQtctXl/tG32gnLCEpiYqKOHTumyspKxcTEyBij4uJiJSUlXbZtpIQRAAAQPGGZg9Ky\n",
              "ZUt16dJFBQUFkqSVK1cqISHhsq93AABA/RSWERRJWrhwocaMGaOZM2eqadOmWrx4cbhKAQAAlglb\n",
              "QMnIyNDHH38crsOHhNvt1pNPPllnv6Kqy/2jb5GJvkWuutw/+lY7YZkkCwAAcCXc6h4AAFiHgAIA\n",
              "AKxDQAEAANYhoAAAAOsQUGrptttuU8eOHZWZmakePXpo165dOnfunAYPHqz09HR16tRJffr08ft8\n",
              "IUkqKipSdHS0MjMzvcuXX34Z4l74569vkpSSkqKMjAxvvcuXL692H4sWLVJaWppuuOEG3X///bpw\n",
              "4UKoyr8if307ceKEz3lIT09XTEyMTp48eVl7m8/bdxYvXiyXy6W33npL0sVnX91xxx1KS0tT+/bt\n",
              "tWnTpmrbrlmzRu3atVNaWpqGDBmi8vLyEFVdM9/v29ixY72/b927d9e2bduqbetyudShQwfvefvw\n",
              "ww9DVHXNfb9/vXr10vXXX++t+dlnn622baSdu1/84hfefrVv314ul0t79uzx29bWc1fdNfHgwYPq\n",
              "1q2b0tPTlZWVpb1791a7D1uvlf76FvLPOINa+fbbb70/r1q1ynTs2NGcPXvWrF271lRVVRljjHnh\n",
              "hRdMz549/bb/97//ba699lrnC60Ff30zxpjk5GSza9euH2x/6NAhEx8fb44dO2aqqqrMnXfeaV58\n",
              "8UWHqg1MdX271B//+EczYMAAv+1tPm/GXKzvl7/8pcnJyTGrV682xhgzduxY8+STTxpjjNm6datp\n",
              "06aNOX/+/GVtT58+bVq2bGn+9a9/GWOMefDBB80jjzwSqtJ/kL++vf322+bChQvGGGP+8pe/mOTk\n",
              "5GrbS/I5/7bx17+ePXt6f76SSDx3l3rjjTdM+/btq21v67mr7prYu3dvs3jxYmPMxb7deOONftvb\n",
              "fK3017dQf8YxglJLsbGx3p/LysrkcrnUqFEj9evXTy6XS5KUk5OjoqKi8BT4I/jrWyDefPNNDRw4\n",
              "UK1atZLL5dKECRO0bNmyIFdZOzXp26JFi3TfffeFsKrgqKqq0rhx4/TCCy/43JNgxYoVmjBhgiQp\n",
              "KytLrVu31saNGy9rv27dOnXu3Fnt2rWTJD3wwAPWnLfq+jZw4EDvQ0dzcnJ09OhRVVZWhqvMWquu\n",
              "fzUViefuUpH6O+dPaWmptm/frhEjRkiShg4dqpKSEr8jDTZfK/0J9WccAeVHGDVqlBITE/X4449r\n",
              "6dKll70/b948DRo0qNr2Z86cUVZWlrp06aLp06fL4/E4WW5AquvbqFGj1KFDB91333365ptv/LYt\n",
              "Li5WcnKy93VKSoqKi4sdr7mmrnTeNm/erG+//VYDBgyotr2t523u3Lnq3r27unbt6l134sQJXbhw\n",
              "Qa1atfKuq+58+Dtv3z0zK9z89e375s2bp379+nkDiz+33nqrOnXqpEmTJunMmTNOlForV+rf1KlT\n",
              "1aFDB9199906dOiQ3/aRfO5KSkq0ceNG7wd6dWw9d9+/JpaUlCg+Pt77/9DlcikpKanGv3O2XSuv\n",
              "dL13+jOOgPIjLFmyRCUlJZoxY4amTJni897MmTNVWFio/Px8v23j4+N19OhRbdu2TevXr9eHH36o\n",
              "OXPmhKLsGvHXt02bNmnPnj3auXOn4uLiNHr06DBXWTtXOm+LFi3SqFGjqv2Qs/W8ff7551q5cqUe\n",
              "e+yxcJcSdDXpW0FBgVasWKGXXnqp2m0OHz6sHTt2aPPmzfrmm2/0u9/9zolyA3al/i1dulT79u3T\n",
              "nj171KNHjysGZxvV5Ny9+uqrGjBggOLi4qrdxtZzV1euif78UN9C8hn3o74gglejRo3Mf/7zH2PM\n",
              "xTkMXbt2Deg709dee63aeQ/hdmnfvvPVV1+Za665xu/2f/jDH0xubq739dq1a0337t0drbG2Lu3b\n",
              "6dOnzTXXXOP9Hr8mbDlv8+fPN61atTLJyckmOTnZuN1u06JFCzN//nzTuHFjc+zYMe+2WVlZ5v33\n",
              "379sHytWrDC333679/XevXtNmzZtQlL/lVypb8YY8/rrr5u2bduaw4cP13ifmzdvvuKch1D6of5d\n",
              "yu12X/a7aEzknruqqipz/fXXm/fee6/G+7Tp3F3qu2vi8ePHTZMmTbxzo6qqqsx1111nDh48eFmb\n",
              "SLlWfv96H6rPOAJKLXz77bfm6NGj3terV682bdq0MVVVVWbOnDmmS5cu5uTJk1fcx/Hjx70TFc+d\n",
              "O2eGDRtmHn/8cUfrronq+vbf//7X5z/jnDlzTI8ePfzu48svv7xs4tcLL7zgdOk/6ErnzRhjXnnl\n",
              "lR+8ONh63r7v0smVo0eP9pkk27p1a7+TZMvLy02LFi18JlpOnjw5VCXX2KV9W758uWnbtq0pKiq6\n",
              "YpuTJ0+aM2fOGGOM8Xg85qGHHjIjR450utRa+a5/Fy5cMF9//bV3/ZtvvmmSkpL8tonEc2eMMevX\n",
              "rzeJiYnG4/FU28bWc3ela2LPnj19Jsl27drV7z5svVZeqW+h/IwL28MCI1lZWZnuuusunT17VlFR\n",
              "UWrRooXWrFmjo0ePavLkyUpNTVXv3r0lXXyQ0pYtWyRJTzzxhFq3bq0JEyboo48+0hNPPKHo6GhV\n",
              "Vlbqlltu0aOPPhrObkmqvm/Hjx/X0KFD5fF4ZIxRamqqlixZ4m03btw4DRw4UAMHDlRqaqry8vLU\n",
              "vXt3SRf/VDI3NzdcXfKqrm/fTfhatGiR7r///svaRcJ5u5JnnnlGI0eOVFpamho2bKiCggI1aNBA\n",
              "km/fmjRpoldeeUWDBw9WZWWl2rdvrz//+c9hrv7K7rnnHrVq1crne/ANGzaoefPmWrBggb766itN\n",
              "nz5d+/btU25urlwulyorK9WlSxfNmzcvjJX/sIqKCvXv318VFRWKiopSXFyc3nnnHe/7kX7upIu/\n",
              "c2PHjlVUlO9sg0g4d1e6Ji5cuFBjxozRzJkz1bRpUy1evNjbLhKuldX17ciRIyH9jONhgQAAwDpM\n",
              "kgUAANYhoAAAAOsQUAAAgHUIKAAAwDoEFAAAYB0CCgAAsA4BBQAAWIeAAgAArENAAQAA1iGgAAAA\n",
              "6/wfR0oowYbdVTcAAAAASUVORK5CYII=\n",
              "\">\n",
              "      </div>\n",
              "      <script type=\"text/javascript\">\n",
              "        (() => {\n",
              "          const chartElement = document.getElementById(\"chart-8e458d7b-cb43-4171-a49f-bb84901764ae\");\n",
              "          async function getCodeForChartHandler(event) {\n",
              "            const chartCodeResponse =  await google.colab.kernel.invokeFunction(\n",
              "                'getCodeForChart', [\"chart-8e458d7b-cb43-4171-a49f-bb84901764ae\"], {});\n",
              "            const responseJson = chartCodeResponse.data['application/json'];\n",
              "            await google.colab.notebook.addCell(responseJson.code, 'code');\n",
              "          }\n",
              "          chartElement.onclick = getCodeForChartHandler;\n",
              "        })();\n",
              "      </script>\n",
              "      <style>\n",
              "        .colab-quickchart-chart-with-code  {\n",
              "            display: block;\n",
              "            float: left;\n",
              "            border: 1px solid transparent;\n",
              "        }\n",
              "\n",
              "        .colab-quickchart-chart-with-code:hover {\n",
              "            cursor: pointer;\n",
              "            border: 1px solid #aaa;\n",
              "        }\n",
              "      </style>"
            ]
          },
          "metadata": {}
        },
        {
          "output_type": "display_data",
          "data": {
            "text/plain": [
              "from matplotlib import pyplot as plt\n",
              "_df_2['Low'].plot(kind='hist', bins=20, title='Low')\n",
              "plt.gca().spines[['top', 'right',]].set_visible(False)"
            ],
            "text/html": [
              "      <div class=\"colab-quickchart-chart-with-code\" id=\"chart-1857fb68-93d2-4afa-96e0-56e44a53a795\">\n",
              "        <img style=\"width: 180px;\" src=\"data:image/png;base64,iVBORw0KGgoAAAANSUhEUgAAAicAAAGrCAYAAAAbyjfjAAAAOXRFWHRTb2Z0d2FyZQBNYXRwbG90\n",
              "bGliIHZlcnNpb24zLjcuMSwgaHR0cHM6Ly9tYXRwbG90bGliLm9yZy/bCgiHAAAACXBIWXMAAA9h\n",
              "AAAPYQGoP6dpAAAf00lEQVR4nO3dfVCVdf7/8dcB9KglUoB3IRAJtDOpR12JtczcTUxt0jKn2W6E\n",
              "NoPcG7fR2YDZ2rL8Cs40mtU4atOwITOu7mJuo5VYa7G73aBpUbalpAQaN2XLoTE86uH6/eGvM50E\n",
              "t2NcXJ/DeT5mzgxcXOe63syl8JzrHK7LZVmWJQAAAENEOT0AAADAdxEnAADAKMQJAAAwCnECAACM\n",
              "QpwAAACjECcAAMAoxAkAADAKcQIAAIxCnAAAAKMQJwAAwCjECQBbXX/99XrooYecHgNAGCFOAACA\n",
              "UYgTAI44efKkCgsLdfnll+uSSy7RlClT9M4770iSLMtSYmKidu7cGVh30KBBuuWWWwLPX7Roke69\n",
              "915HZgdgL+IEgCP+8Ic/6KWXXtKuXbvU0tKiuXPn6oYbbtDRo0flcrn0i1/8QlVVVZKk6upqXXbZ\n",
              "Zdq9e7fOnDkjSdq1a5dycnKc/BYA2IQ4AdDrOjs79dxzz2n58uUaPXq0+vfvr6VLlyotLU0VFRWS\n",
              "pJycnECcVFVV6c4771RKSorefvttHTlyREeOHNENN9zg5LcBwCYxTg8AIPJ8+eWX6ujo0BVXXBG0\n",
              "fPTo0WpoaJB0Nk7uvfdeNTU1qaqqSuvWrdOJEye0c+dOJSUlacKECYqPj3difAA248wJgF6XkJCg\n",
              "AQMG6NNPPw1a/umnnyo5OVmSlJSUpCuvvFLPP/+8jh49qquvvlozZszQzp07VVVVpenTpzsxOoBe\n",
              "QJwAsJ3f79fJkycDj1OnTikvL09/+tOfdPjwYZ06dUqrV69WXV2d7rzzzsDzcnJyVFpaqmnTpik6\n",
              "OlpTpkzRf/7zH95vAvRxxAkA25WWlmrgwIFBj1mzZiknJ0fTpk3T0KFDVVlZqV27dmnUqFGB5+Xk\n",
              "5Mjr9QZCxO1269prr1VnZ6cmT57s1LcDwGYuy7Isp4cAAAD4FmdOAACAUYgTAABgFOIEAAAYhTgB\n",
              "AABGIU4AAIBRiBMAAGAU4gQAABglLONkzZo1To8AAABsEpZx8tlnnzk9AgAAsElYxgkAAOi7iBMA\n",
              "AGAU4gQAABiFOAEAAEYhTgAAgFGIEwAAYBTiBAAAGIU4AQAARiFOAACAUYgTAABgFOIEAAAYhTgB\n",
              "AABGIU4AAIBRiBMAAGAU4gQAABglxukBAAD4oVKLdtiy3frS2bZsFxeGMycAAMAoxAkAADAKcQIA\n",
              "AIxCnAAAAKMQJwAAwCi9EidlZWVyuVzatm2bJKm1tVU33nij0tPTddVVV6m6uro3xgAAAGHA9jip\n",
              "r6/Xs88+q+zs7MCyoqIiZWdn69ChQyorK9Mdd9yh06dP2z0KAAAIA7bGSWdnpxYuXKinn35abrc7\n",
              "sHzLli26//77JUmTJk3SyJEj9cYbb3S5DZ/Pp/b29qCH3++3c2wAAOAgW+Nk1apVuuaaazRx4sTA\n",
              "suPHj+v06dMaPnx4YFlqaqoaGhq63EZJSYmGDBkS9KipqbFzbAAA4CDb4uTDDz9UZWWlHnrooR+1\n",
              "neLiYnm93qBHVlZWD00JAABMY9vl6//5z3+qvr5e6enpkqTm5mbl5+dr2bJliomJUXNzc+DsSX19\n",
              "vZKTk7vcjtvtDnpJSJKio6PtGhsAADjMtjMnixYtUlNTk+rr61VfX6/s7Gxt2LBBixYt0vz587Vu\n",
              "3TpJ0p49e3Ts2DFNnTrVrlEAAEAYceTGfytXrtTdd9+t9PR09e/fXxUVFerXr58TowAAAMP0Wpy8\n",
              "/vrrgY+HDRumqqqq3to1AAAII1whFgAAGIU4AQAARiFOAACAUYgTAABgFOIEAAAYhTgBAABGIU4A\n",
              "AIBRiBMAAGAU4gQAABiFOAEAAEYhTgAAgFGIEwAAYBTiBAAAGIU4AQAARiFOAACAUYgTAABgFOIE\n",
              "AAAYhTgBAABGIU4AAIBRiBMAAGAU4gQAABiFOAEAAEYhTgAAgFGIEwAAYBTiBAAAGIU4AQAARiFO\n",
              "AACAUYgTAABgFOIEAAAYhTgBAABGIU4AAIBRiBMAAGAU4gQAABglxs6N5+TkqLm5WVFRURo8eLCe\n",
              "euopjR8/XqmpqXK73Ro4cKAkqbi4WLfffrudowAAgDBha5xs2bJFcXFxkqQXXnhBeXl5ev/99yVJ\n",
              "mzdvlsfjsXP3AAAgDNn6ss63YSJJXq9XLpfLzt0BAIA+wNYzJ5K0YMEC7d69W5L00ksvBS23LEtZ\n",
              "WVkqLS1VYmJil8/3+Xzy+XxBy/x+v30DAwAAR9n+htjy8nI1NjZq+fLlKiwslCRVV1ertrZW+/bt\n",
              "U0JCgnJzc7t9fklJiYYMGRL0qKmpsXtsAADgEJdlWVZv7WzgwIE6evSo4uPjA8uampqUkZGhr7/+\n",
              "usvndHXm5OGHH9aaNWtsnRUAYJ7Uoh22bLe+dLYt28WFse1lnba2Nn3zzTcaOXKkJGnbtm2Kj4/X\n",
              "gAED1NbWFng/yqZNmzR+/Phut+N2u+V2u4OWRUdH2zU2AABwmG1x4vV6NX/+fHV0dCgqKkqJiYna\n",
              "vn27WlpaNG/ePPn9flmWpbS0NJWXl9s1BgAACDO2xUlKSkq37w3Zv3+/XbsFAABhjivEAgAAoxAn\n",
              "AADAKMQJAAAwCnECAACMQpwAAACjECcAAMAoxAkAADAKcQIAAIxCnAAAAKMQJwAAwCjECQAAMApx\n",
              "AgAAjEKcAAAAoxAnAADAKMQJAAAwCnECAACMQpwAAACjECcAAMAoxAkAADAKcQIAAIxCnAAAAKMQ\n",
              "JwAAwCjECQAAMApxAgAAjEKcAAAAoxAnAADAKMQJAAAwCnECAACMQpwAAACjECcAAMAoxAkAADAK\n",
              "cQIAAIxCnAAAAKMQJwAAwCi2xklOTo7Gjh0rj8ejKVOmaP/+/ZKkQ4cOafLkycrIyNCkSZN04MAB\n",
              "O8cAAABhxNY42bJli2pra/Xee+9pyZIlysvLkyQVFBQoPz9fBw8eVGFhYWA5AACArXESFxcX+Njr\n",
              "9crlcqm1tVV79+7VXXfdJUmaN2+eGhsbVVdXZ+coAAAgTMTYvYMFCxZo9+7dkqSXXnpJjY2NGjFi\n",
              "hGJizu7a5XIpOTlZDQ0NGj169DnP9/l88vl8Qcv8fr/dYwMAAIfYHifl5eWSpOeff16FhYV6/PHH\n",
              "Q3p+SUmJli1bFrQsOzu7x+YD+rLUoh22bbu+dLZt2wYQ2Xrtr3Vyc3O1e/duJSUlqampSWfOnJEk\n",
              "WZalhoYGJScnd/m84uJieb3eoEdWVlZvjQ0AAHqZbXHS1tamzz//PPD5tm3bFB8fr6FDh2rChAmq\n",
              "qKiQJFVWViopKanLl3Qkye12KzY2NugRHR1t19gAAMBhtr2s4/V6NX/+fHV0dCgqKkqJiYnavn27\n",
              "XC6X1q9fr7y8PK1YsUKxsbEqKyuzawwAABBmbIuTlJQU1dTUdPm1zMxMvfXWW3btGgAAhDGuEAsA\n",
              "AIxCnAAAAKMQJwAAwCjECQAAMApxAgAAjEKcAAAAoxAnAADAKMQJAAAwCnECAACMQpwAAACjECcA\n",
              "AMAoxAkAADAKcQIAAIxCnAAAAKMQJwAAwCjECQAAMApxAgAAjEKcAAAAoxAnAADAKMQJAAAwSozT\n",
              "AwAIT6lFO2zZbn3pbFu2CyB8cOYEAAAYhTgBAABGIU4AAIBRiBMAAGAU4gQAABiFOAEAAEYhTgAA\n",
              "gFGIEwAAYBTiBAAAGIU4AQAARiFOAACAUYgTAABgFOIEAAAYxbY4OXnypObOnauMjAyNGzdO06dP\n",
              "V11dnSTp+uuv1+WXXy6PxyOPx6PVq1fbNQYAAAgzMXZuPD8/XzNnzpTL5dIzzzyjhQsX6vXXX5ck\n",
              "rV69WnPnzrVz9wAAIAzZduZkwIABmjVrllwulyQpOztb9fX1du0OAAD0Eb32npM1a9Zozpw5gc+L\n",
              "ioo0ZswY3X777Tp8+HC3z/P5fGpvbw96+P3+3hgZAAA4oFfiZMWKFaqrq1NJSYkkaePGjfr4449V\n",
              "W1urKVOm6Kabbur2uSUlJRoyZEjQo6ampjfGBgAADrA9Tp544glt3bpVL7/8sgYNGiRJGjVqlCTJ\n",
              "5XLpt7/9rQ4fPqzjx493+fzi4mJ5vd6gR1ZWlt1jAwAAh9j6hthVq1Zp06ZNevXVVxUXFydJOnPm\n",
              "jI4fP65hw4ZJkiorKzVs2DDFx8d3uQ232y232x20LDo62s6xAQCAg2yLk6NHj2rp0qVKS0vTtGnT\n",
              "JJ0NjX/84x+aPXu2fD6foqKilJCQoBdffNGuMQAAQJgJOU527typGTNm/M/1kpKSZFlWl1/bu3dv\n",
              "qLsFAAARIuT3nDz22GPKzMzUmjVr1N7ebsdMAAAggoUcJ//+97/1l7/8RR9++KEyMjL061//Wh99\n",
              "9JEdswEAgAh0QX+tM378eD377LN65ZVXtH37do0dO1bTp0/XBx980NPzAQCACHNBcfLqq69qzpw5\n",
              "uvXWW/Wb3/xGzc3NKigo0C233NLT8wEAgAgT8htif/KTnyghIUGLFy/WrbfeGviz3ttuu03PPfdc\n",
              "jw8IAAAiS8hxUlFRoYkTJ3b5tZdffvlHDwQAACJbyC/rvPvuu/rqq68Cnx8/flzPPvtsjw4FAAAi\n",
              "V8hxsnbtWl166aWBz+Pj47V27doeHQoAAESukOOkqwurcZdgAADQU0KOkxEjRmjLli2Bzzdv3qwR\n",
              "I0b06FAAACByhfyG2CeffFJz5szRgw8+KEkaNGiQ/v73v/f4YAAAIDKFHCdXXnmlPvroI33yySeS\n",
              "pMzMTO4SDAAAeswF3ZXY5XIpLi5OZ86c0bFjxyRJycnJPToYAACITCHHyZ///GctXrxY/fr1U1TU\n",
              "2besuFwutba29vhwAAAg8oQcJ48//rj27NmjzMxMO+YBAAARLuS/1klISCBMAACAbUKOk7lz5+rJ\n",
              "J59Ua2ur2tvbAw8AAICeEPLLOn/84x8lSUuWLJHL5ZJlWXK5XFyIDQAA9IiQ46Szs9OOOQAAACRd\n",
              "wMs60tmb/23cuFGS1NbWpqamph4dCgAARK4LuvHfr371Kz366KOSzt6V+I477ujpuQAAQIQKOU42\n",
              "bNigt99+W7GxsZKkK664Ql988UWPDwYAACJTyHHidrs1cODAoGUxMRd0oVkAAIBzhBwniYmJOnjw\n",
              "oFwul6SzV4zl0vUAAKCnXNBdiX/5y1/q448/1qhRoxQbG6vt27fbMRsAAIhAIcfJ6NGj9c477+iT\n",
              "Tz6RZVnclRgAAPSokOOkoaFBknTRRRdJEnclBgAAPSrkOJk4cWLgyrAnT57UN998o/j4eO5KDAAA\n",
              "ekTIcfL9PxveunWr3n///R4bCAAARLYf/TfAt956q1asWKFly5b1xDxAREot2uH0CEBEs/P/YH3p\n",
              "bNu23VeFHCffvQOx3+/XO++8w12JAQBAjwk5TuLi4gLvOYmOjlZ6erqeeuopO2YDAAARiLsSAwAA\n",
              "o1zQXYkBAADsEnKcREVFKTo6+pzHt8u/dfLkSc2dO1cZGRkaN26cpk+frrq6OklSa2urbrzxRqWn\n",
              "p+uqq65SdXV1z31HAAAgrIX8ss5jjz2mjo4OLVq0SJK0bt06DRw4UA888MA56+bn52vmzJlyuVx6\n",
              "5plntHDhQr3++usqKipSdna2XnnlFe3Zs0e33HKLjhw5on79+v3obwgAAIS3kM+cvPDCC/q///s/\n",
              "JSUlKSkpScuXL9fWrVt10UUXBa4aK0kDBgzQrFmzAjcIzM7OVn19vSRpy5Ytuv/++yVJkyZN0siR\n",
              "I/XGG2/0wLcDAADCXchnTr7++mu1trZq6NChks6+RPP111//z+etWbNGc+bM0fHjx3X69GkNHz48\n",
              "8LXU1NTAZfG/z+fzyefzBS3z+/2hjg0AAMJEyHGydOlSjRs3TrNmzZIkvfLKK3r00UfP+5wVK1ao\n",
              "rq5Or732mjo6OkLaX0lJyTkXeMvOzg5pG0BP4EJpANA7Qn5Zp6CgQLt27ZLH45HH41FVVZXuu+++\n",
              "btd/4okntHXrVr388ssaNGiQ4uPjFRMTo+bm5sA69fX13d44sLi4WF6vN+iRlZUV6tgAACBMXNCf\n",
              "EsfHx2vMmDH63e9+p8zMTJ06darL9VatWqVNmzZp165diouLCyyfP3++1q1bJ0nas2ePjh07pqlT\n",
              "p3a5DbfbrdjY2KDHd/8qCAAA9C0hx8nf/vY3ZWdn65577pEkHThwQHPnzj1nvaNHj2rp0qVqa2vT\n",
              "tGnT5PF4dPXVV0uSVq5cqTfffFPp6enKy8tTRUUFf6kDAAAkXcB7TkpKSrRv3z7dcMMNkqRx48bp\n",
              "s88+O2e9pKQkWZbV5TaGDRumqqqqUHcNAAAiQMhnTqKjoxUfHx+0rH///j02EAAAiGwhx8ngwYPV\n",
              "0tISuH7Ja6+9pksvvbTHBwMAAJEp5Jd1Vq5cqZkzZ+rw4cO69tprdeTIEe3YwZ9YAgCAnhFSnHR2\n",
              "dsrv92v37t168803ZVmWJk+eHPSXOACAyMY1gfBjhRQnUVFRys/P1/vvv6+ZM2faNRMAAIhgIb/n\n",
              "JD09PXB3YQAAgJ4W8ntOvvrqK3k8Hk2ePFkXX3xxYPnWrVt7dDAAABCZfnCc5Ofna8OGDcrNzdXN\n",
              "N9+sSy65xM65AABAhPrBcbJ3715JUm5uriZMmKB9+/bZNhQAAIhcF3Rvne6u/AoAAPBj/eAzJx0d\n",
              "Hfrggw9kWZZOnjwZ+PhbY8eOtWVAAAAQWUKKk5tvvjnw+Xc/drlcOnz4cM9OBgAAItIPjpP6+nob\n",
              "x0CksfMiTfWls23bNuwXjhfw4t8czseuf9N9+d/dBb3nBAAAwC7ECQAAMApxAgAAjEKcAAAAoxAn\n",
              "AADAKMQJAAAwCnECAACMQpwAAACjECcAAMAoxAkAADAKcQIAAIxCnAAAAKMQJwAAwCjECQAAMApx\n",
              "AgAAjEKcAAAAoxAnAADAKMQJAAAwCnECAACMQpwAAACjECcAAMAotsbJ4sWLlZqaKpfLpffeey+w\n",
              "PDU1VZmZmfJ4PPJ4PNq8ebOdYwAAgDASY+fGb7vtNj344IO69tprz/na5s2b5fF47Nw9AAAIQ7bG\n",
              "yXXXXfejt+Hz+eTz+YKW+f3+H71dAABgJlvj5HwWLFggy7KUlZWl0tJSJSYmdrleSUmJli1bFrQs\n",
              "Ozu7N0YEgB8ktWiHbduuL51t27YBUznyhtjq6mrV1tZq3759SkhIUG5ubrfrFhcXy+v1Bj2ysrJ6\n",
              "cVoAANCbHDlzkpycLEnq16+fHnjgAWVkZHS7rtvtltvtDloWHR1t63wAAMA5vX7m5MSJE2prawt8\n",
              "vmnTJo0fP763xwAAAIay9cxJQUGBduzYoebmZs2YMUODBw9WVVWV5s2bJ7/fL8uylJaWpvLycjvH\n",
              "AAAAYcTWOFm/fn2Xy/fv32/nbgEAQBjjCrEAAMAoxAkAADAKcQIAAIzi2EXYYD47LywFAEB3OHMC\n",
              "AACMQpwAAACjECcAAMAoxAkAADAKcQIAAIxCnAAAAKMQJwAAwCjECQAAMApxAgAAjEKcAAAAoxAn\n",
              "AADAKMQJAAAwCnECAACMQpwAAACjECcAAMAoxAkAADAKcQIAAIxCnAAAAKMQJwAAwCjECQAAMApx\n",
              "AgAAjEKcAAAAoxAnAADAKMQJAAAwCnECAACMEuP0AACA7qUW7bBlu/Wls23ZLtATOHMCAACMQpwA\n",
              "AACjECcAAMAoxAkAADCKrXGyePFipaamyuVy6b333gssP3TokCZPnqyMjAxNmjRJBw4csHMMAAAQ\n",
              "RmyNk9tuu03/+te/lJKSErS8oKBA+fn5OnjwoAoLC5WXl2fnGAAAIIzYGifXXXedkpKSgpa1trZq\n",
              "7969uuuuuyRJ8+bNU2Njo+rq6rrchs/nU3t7e9DD7/fbOTYAAHBQr7/npLGxUSNGjFBMzNlLrLhc\n",
              "LiUnJ6uhoaHL9UtKSjRkyJCgR01NTW+ODAAAepHxb4gtLi6W1+sNemRlZTk9FgAAsEmvXyF21KhR\n",
              "ampq0pkzZxQTEyPLstTQ0KDk5OQu13e73XK73UHLoqOje2NUAADggF4/czJ06FBNmDBBFRUVkqTK\n",
              "ykolJSVp9OjRvT0KAAAwkK1xUlBQoKSkJB09elQzZswIBMj69eu1fv16ZWRkqLS0VGVlZXaOAQAA\n",
              "woitL+usX7++y+WZmZl666237Nw1AAAIU8a/IRYAAEQW4gQAABiFOAEAAEYhTgAAgFGIEwAAYBTi\n",
              "BAAAGIU4AQAARiFOAACAUYgTAABgFOIEAAAYhTgBAABGIU4AAIBRbL3xH+CE1KIdTo8AAPgROHMC\n",
              "AACMQpwAAACjECcAAMAoxAkAADAKcQIAAIxCnAAAAKMQJwAAwChc56QP4LoeABB57PzZX18627Zt\n",
              "/xCcOQEAAEYhTgAAgFGIEwAAYBTiBAAAGIU4AQAARiFOAACAUYgTAABgFOIEAAAYhTgBAABGIU4A\n",
              "AIBRiBMAAGAU4gQAABiFOAEAAEZxLE5SU1OVmZkpj8cjj8ejzZs3OzUKAAAwSIyTO9+8ebM8Ho+T\n",
              "IwAAAMM4Gic/hM/nk8/nC1rm9/sdmgYAANjN0ThZsGCBLMtSVlaWSktLlZiYeM46JSUlWrZsWdCy\n",
              "7Ozs3hoRAPqk1KIdTo8AdMux95xUV1ertrZW+/btU0JCgnJzc7tcr7i4WF6vN+iRlZXVy9MCAIDe\n",
              "4tiZk+TkZElSv3799MADDygjI6PL9dxut9xud9Cy6Oho2+cDAADOcOTMyYkTJ9TW1hb4fNOmTRo/\n",
              "frwTowAAAMM4cuakpaVF8+bNk9/vl2VZSktLU3l5uROjAAAAwzgSJ2lpadq/f78TuwYAAIbjCrEA\n",
              "AMAoxAkAADAKcQIAAIxCnAAAAKMQJwAAwCjECQAAMApxAgAAjEKcAAAAoxAnAADAKMQJAAAwCnEC\n",
              "AACMQpwAAACjECcAAMAoxAkAADAKcQIAAIxCnAAAAKMQJwAAwCjECQAAMApxAgAAjEKcAAAAo8Q4\n",
              "PYBpUot2OD0CAAARjTMnAADAKMQJAAAwCnECAACMQpwAAACjECcAAMAoxAkAADAKcQIAAIxCnAAA\n",
              "AKMQJwAAwCjECQAAMApxAgAAjEKcAAAAoxAnAADAKI7FyaFDhzR58mRlZGRo0qRJOnDggFOjAAAA\n",
              "gzgWJwUFBcrPz9fBgwdVWFiovLw8p0YBAAAGcSROWltbtXfvXt11112SpHnz5qmxsVF1dXXnrOvz\n",
              "+dTe3h708Pv9vT0yAADoJTFO7LSxsVEjRoxQTMzZ3btcLiUnJ6uhoUGjR48OWrekpETLli0LWnbl\n",
              "lVdqyZIlF7x/v9+vmpoaZWVlKTo6Ouhrt17wVmGn8x0zmIfjFX44ZuHHzmO2ZMlrPbq9b6WkpOj3\n",
              "v//9/1zPZVmWZcsE5/Huu+/qjjvu0CeffBJYlpWVpdLSUv385z8PWtfn88nn8wUtc7vdcrvdF7z/\n",
              "9vZ2DRkyRF6vV7GxsRe8HfQejll44XiFH45Z+OnLx8yRMyejRo1SU1OTzpw5o5iYGFmWpYaGBiUn\n",
              "J5+z7o8NEQAAEF4cec/J0KFDNWHCBFVUVEiSKisrlZSUdM5LOgAAIPI4cuZEktavX6+8vDytWLFC\n",
              "sbGxKisrc2oUAABgEMfiJDMzU2+99ZYj+3a73XrkkUd4uSiMcMzCC8cr/HDMwk9fPmaOvCEWAACg\n",
              "O1y+HgAAGIU4AQAARiFOAACAUYgTAABglIiIk5ycHI0dO1Yej0dTpkzR/v37JXFnZJN1d8xSU1OV\n",
              "mZkpj8cjj8ejzZs3OzwpvqusrEwul0vbtm2TdPY+WjfeeKPS09N11VVXqbq62tkBEeT7x+v666/X\n",
              "5ZdfHvj/tXr1amcHREB3P/v67O8xKwL897//DXy8detWa+zYsZZlWda0adOssrIyy7Is669//av1\n",
              "05/+1IHp0JXujllKSoq1f/9+Z4bCeR05csT62c9+ZmVnZ1svvPCCZVmWdc8991iPPPKIZVmWVVNT\n",
              "Y1122WXWqVOnnBsSAV0dr6lTpwY+hlm6+9nXV3+PRcSZk7i4uMDHXq9XLpcrpDsjo/d1dcxgrs7O\n",
              "Ti1cuFBPP/100DUXtmzZovvvv1+SNGnSJI0cOVJvvPGGU2Pi/+vueCG89OXfYxERJ5K0YMECjRo1\n",
              "Sg8//LA2btx43jsjwwzfP2bfXT5mzBjde++9+uKLLxycEN9atWqVrrnmGk2cODGw7Pjx4zp9+rSG\n",
              "Dx8eWJaamsr/MQN0dby+VVRUpDFjxuj222/X4cOHHZgO3fn+z76+/HssYuKkvLxcjY2NWr58uQoL\n",
              "C50eBz9AV8esurpatbW12rdvnxISEpSbm+vwlPjwww9VWVmphx56yOlR8AOc73ht3LhRH3/8sWpr\n",
              "azVlyhTddNNNDkyIrkTczz6nX1dywoABA6zm5mZr8ODB1unTpy3LsqzOzk5r2LBh1qFDhxyeDl0Z\n",
              "MGCA9eWXXwYt+/zzz62LL77YoYnwrbVr11rDhw+3UlJSrJSUFMvtdluJiYnW2rVrrUGDBllNTU2B\n",
              "dSdNmmTt2rXLwWlxvuP1fW63+5z/d3Detz/7Wlpa+uzvsT5/5qStrU2ff/554PNt27YpPj6eOyMb\n",
              "rLtjNmDAALW1tQWWb9q0SePHj3dgQnzXokWL1NTUpPr6etXX1ys7O1sbNmzQokWLNH/+fK1bt06S\n",
              "tGfPHh07dkxTp051eOLI1t3xuu+++9TS0hJYr7KyUsOGDVN8fLyD00KSTpw40eXPvr78e8yxG//1\n",
              "Fq/Xq/nz56ujo0NRUVFKTEzU9u3b5XK5uDOyobo7Zi0tLZo3b578fr8sy1JaWprKy8udHhfnsXLl\n",
              "St19991KT09X//79VVFRoX79+jk9Frrg8/k0e/Zs+Xw+RUVFKSEhQS+++KLTY0E678++vvp7jBv/\n",
              "AQAAo/T5l3UAAEB4IU4AAIBRiBMAAGAU4gQAABiFOAEAAEYhTgAAgFGIEwAAYBTiBAAAGIU4AQAA\n",
              "RiFOAACAUf4fCMjhtCGcJooAAAAASUVORK5CYII=\n",
              "\">\n",
              "      </div>\n",
              "      <script type=\"text/javascript\">\n",
              "        (() => {\n",
              "          const chartElement = document.getElementById(\"chart-1857fb68-93d2-4afa-96e0-56e44a53a795\");\n",
              "          async function getCodeForChartHandler(event) {\n",
              "            const chartCodeResponse =  await google.colab.kernel.invokeFunction(\n",
              "                'getCodeForChart', [\"chart-1857fb68-93d2-4afa-96e0-56e44a53a795\"], {});\n",
              "            const responseJson = chartCodeResponse.data['application/json'];\n",
              "            await google.colab.notebook.addCell(responseJson.code, 'code');\n",
              "          }\n",
              "          chartElement.onclick = getCodeForChartHandler;\n",
              "        })();\n",
              "      </script>\n",
              "      <style>\n",
              "        .colab-quickchart-chart-with-code  {\n",
              "            display: block;\n",
              "            float: left;\n",
              "            border: 1px solid transparent;\n",
              "        }\n",
              "\n",
              "        .colab-quickchart-chart-with-code:hover {\n",
              "            cursor: pointer;\n",
              "            border: 1px solid #aaa;\n",
              "        }\n",
              "      </style>"
            ]
          },
          "metadata": {}
        },
        {
          "output_type": "display_data",
          "data": {
            "text/plain": [
              "from matplotlib import pyplot as plt\n",
              "_df_3['Close'].plot(kind='hist', bins=20, title='Close')\n",
              "plt.gca().spines[['top', 'right',]].set_visible(False)"
            ],
            "text/html": [
              "      <div class=\"colab-quickchart-chart-with-code\" id=\"chart-a24b5fba-b9ed-4ba6-94dd-58ed39fc5b89\">\n",
              "        <img style=\"width: 180px;\" src=\"data:image/png;base64,iVBORw0KGgoAAAANSUhEUgAAAicAAAGrCAYAAAAbyjfjAAAAOXRFWHRTb2Z0d2FyZQBNYXRwbG90\n",
              "bGliIHZlcnNpb24zLjcuMSwgaHR0cHM6Ly9tYXRwbG90bGliLm9yZy/bCgiHAAAACXBIWXMAAA9h\n",
              "AAAPYQGoP6dpAAAhHElEQVR4nO3df2yV9f338ddpCwcQSrWFAiulIm1dJnCAtetQRJ2giBGkEKZD\n",
              "6BRbcBsSiLaNuq8oo5AYEHWEQgimNMGiRWYAGehA5mRQ5JdiBCoeWqBQxLVFhCMcrvsPbk480qoH\n",
              "ztXrc+jzkVwJvXqd67xPTmieuc51rstlWZYlAAAAQ0Q5PQAAAMD3EScAAMAoxAkAADAKcQIAAIxC\n",
              "nAAAAKMQJwAAwCjECQAAMApxAgAAjEKcAAAAoxAnAJrV66+/rqSkJKfHAGAw4gRA2H3yySf6/e9/\n",
              "r65du6p9+/ZKSUnRQw89pB07djg9GoAIQJwACKtNmzYpMzNTiYmJ2rJli06dOqVdu3ZpyJAhevPN\n",
              "N50eD0AEIE4AhFVeXp5Gjx6t+fPnKyUlRS6XS3FxcXr00UdVVFR02fZnz55Vfn6+brzxRl1//fUa\n",
              "NGiQtm7dGvj97t27NXjwYMXFxen666/XgAEDtG/fvsDvS0pK1LdvX3Xs2FG/+tWv9MYbbzTL6wRg\n",
              "H+IEQNgcOHBA+/fv1/jx43/2Y5566imtXbtWGzZs0PHjxzVy5EjdfffdOnz4sCTpiSee0O9+9zt9\n",
              "9dVXOnHihJYsWaK4uDhJF89fefbZZ7VkyRL973//U3FxsXJzc/Xhhx/a8fIANBPiBEDY1NbWStLP\n",
              "PuH1woULWrJkiWbOnKlevXqpdevWmj59unr27KnS0lJJUuvWrVVVVaVDhw4pJiZGHo9HiYmJkqS5\n",
              "c+fqmWee0a9//WtFRUXptttu09ixY/X666/b8voANA/iBEDYdO7cWZICRz1+yldffaUzZ87opptu\n",
              "Clrfq1cvVVVVSbp4dMTlcumuu+5SUlKSpk6dqm+++UbSxSM106dPV1xcXGBZvny5jh49GsZXBaC5\n",
              "EScAwiY1NVVpaWlatmzZz9o+ISFBbdq00RdffBG0/osvvlBycrIkqUePHlq8eLEOHTqkTZs2acOG\n",
              "DYFzV7p06aIFCxaorq4usHzzzTdau3ZteF8YgGZFnAAIq+LiYr355puaNm2aDh06JMuy1NDQoJKS\n",
              "Ej3zzDNB20ZFRenRRx/VX//6Vx08eFDfffed5s2bp8rKSv3hD3+QdPHIyeHDh2VZlmJjYxUTE6OY\n",
              "mBhJ0tSpU/Xiiy+qoqJCFy5ckM/nU0VFhT7++ONmf90Awoc4ARBWd9xxh7Zu3aojR44oMzNTHTp0\n",
              "UJ8+fbRu3TqNHj36su1feuklDR06VHfeeac6d+6s8vJybdiwQd27d5ckbdy4UZmZmWrfvr369u2r\n",
              "3/72t8rPz5ckPfnkk3r++ec1adIk3XDDDfrFL36hp556SqdPn27W1wwgvFyWZVlODwEAAHAJR04A\n",
              "AIBRiBMAAGAU4gQAABiFOAEAAEYhTgAAgFGIEwAAYBTiBAAAGCUi42T+/PlOjwAAAGwSkXFy6NAh\n",
              "p0cAAAA2icg4AQAA1y7iBAAAGIU4AQAARiFOAACAUYgTAABgFOIEAAAYhTgBAABGIU4AAIBRiBMA\n",
              "AGAU4gQAABiFOAEAAEYhTgAAgFGIEwAAYBTiBAAAGIU4AQAARolxegAAwLUlpWCNbfv2zh5u275h\n",
              "Do6cAAAAoxAnAADAKMQJAAAwCnECAACMQpwAAACjNEucLF26VC6XS6tWrZIk1dbW6t5771Vqaqpu\n",
              "ueUWbd68uTnGAAAAEcD2OPF6vVq8eLGysrIC6woKCpSVlaUDBw5o6dKlevjhh3Xu3Dm7RwEAABHA\n",
              "1ji5cOGCJk6cqFdffVVutzuwfsWKFZo0aZIkKSMjQ926ddMHH3zQ6D58Pp8aGhqCFr/fb+fYAADA\n",
              "QbbGydy5c3XrrbdqwIABgXUnT57UuXPn1KVLl8C6lJQUVVVVNbqPoqIidezYMWjZtm2bnWMDAAAH\n",
              "2RYnn376qcrLy/Xss89e1X4KCwtVX18ftGRmZoZpSgAAYBrbLl//73//W16vV6mpqZKkY8eOKTc3\n",
              "VzNmzFBMTIyOHTsWOHri9XqVnJzc6H7cbnfQR0KSFB0dbdfYAADAYbYdOZk8ebJqamrk9Xrl9XqV\n",
              "lZWlRYsWafLkyRozZowWLlwoSaqoqNCRI0c0ePBgu0YBAAARxJEb/82ZM0ePPPKIUlNT1bp1a5WW\n",
              "lqpVq1ZOjAIAAAzTbHGyadOmwL8TExO1fv365npqAAAQQbhCLAAAMApxAgAAjEKcAAAAoxAnAADA\n",
              "KMQJAAAwCnECAACMQpwAAACjECcAAMAoxAkAADAKcQIAAIxCnAAAAKMQJwAAwCjECQAAMApxAgAA\n",
              "jEKcAAAAoxAnAADAKMQJAAAwCnECAACMQpwAAACjECcAAMAoxAkAADAKcQIAAIxCnAAAAKMQJwAA\n",
              "wCjECQAAMApxAgAAjEKcAAAAoxAnAADAKMQJAAAwCnECAACMQpwAAACjECcAAMAoxAkAADBKjJ07\n",
              "Hzp0qI4dO6aoqCh16NBBr7zyivr166eUlBS53W61bdtWklRYWKixY8faOQoAAIgQtsbJihUrFBcX\n",
              "J0l6++23lZOTo927d0uSysrK5PF47Hx6AAAQgWz9WOdSmEhSfX29XC6XnU8HAACuAbYeOZGk8ePH\n",
              "a+PGjZKktWvXBq23LEuZmZmaPXu2OnXq1OjjfT6ffD5f0Dq/32/fwAAAwFG2nxBbUlKi6upqzZw5\n",
              "U/n5+ZKkzZs3a8+ePdqxY4cSEhI0YcKEJh9fVFSkjh07Bi3btm2ze2wAAOAQl2VZVnM9Wdu2bXX4\n",
              "8GHFx8cH1tXU1CgtLU2nTp1q9DGNHTl57rnnNH/+fFtnBQBcmZSCNbbt2zt7uG37hjls+1inrq5O\n",
              "3377rbp16yZJWrVqleLj49WmTRvV1dUFzkdZvny5+vXr1+R+3G633G530Lro6Gi7xgYAAA6zLU7q\n",
              "6+s1ZswYnTlzRlFRUerUqZNWr16t48ePKzs7W36/X5ZlqWfPniopKbFrDAAAEGFsi5MePXo0eW7I\n",
              "zp077XpaAAAQ4bhCLAAAMApxAgAAjEKcAAAAoxAnAADAKMQJAAAwCnECAACMQpwAAACjECcAAMAo\n",
              "xAkAADAKcQIAAIxCnAAAAKMQJwAAwCjECQAAMApxAgAAjEKcAAAAoxAnAADAKMQJAAAwCnECAACM\n",
              "QpwAAACjECcAAMAoxAkAADAKcQIAAIxCnAAAAKMQJwAAwCjECQAAMApxAgAAjEKcAAAAoxAnAADA\n",
              "KMQJAAAwCnECAACMQpwAAACjECcAAMAoxAkAADAKcQIAAIxia5wMHTpUffr0kcfj0aBBg7Rz505J\n",
              "0oEDBzRw4EClpaUpIyNDe/futXMMAAAQQWyNkxUrVmjPnj3atWuXpk2bppycHElSXl6ecnNztX//\n",
              "fuXn5wfWAwAA2BoncXFxgX/X19fL5XKptrZW27dv17hx4yRJ2dnZqq6uVmVlpZ2jAACACBFj9xOM\n",
              "Hz9eGzdulCStXbtW1dXV6tq1q2JiLj61y+VScnKyqqqq1KtXr8se7/P55PP5gtb5/X67xwYAAA6x\n",
              "/YTYkpISVVdXa+bMmcrPzw/58UVFRerYsWPQsm3bNhsmBQAAJmi2b+tMmDBBGzduVFJSkmpqanT+\n",
              "/HlJkmVZqqqqUnJycqOPKywsVH19fdCSmZnZXGMDAIBmZluc1NXV6ejRo4GfV61apfj4eHXu3Fn9\n",
              "+/dXaWmpJKm8vFxJSUmNfqQjSW63W7GxsUFLdHS0XWMDAACH2XbOSX19vcaMGaMzZ84oKipKnTp1\n",
              "0urVq+VyuVRcXKycnBzNmjVLsbGxWrp0qV1jAACACGNbnPTo0aPJc0PS09O1ZcsWu54aAABEMK4Q\n",
              "CwAAjEKcAAAAoxAnAADAKLZfhA2Ac1IK1ti2b+/s4bbtG0DLxpETAABgFOIEAAAYhTgBAABGIU4A\n",
              "AIBRiBMAAGAU4gQAABiFOAEAAEYhTgAAgFG4CBtgADsvlgYAkYYjJwAAwCjECQAAMApxAgAAjEKc\n",
              "AAAAoxAnAADAKMQJAAAwCnECAACMQpwAAACjECcAAMAoxAkAADAKcQIAAIxCnAAAAKMQJwAAwCjE\n",
              "CQAAMApxAgAAjEKcAAAAoxAnAADAKMQJAAAwCnECAACMQpwAAACjECcAAMAotsXJ2bNnNXLkSKWl\n",
              "palv374aMmSIKisrJUl33HGHbrzxRnk8Hnk8Hs2bN8+uMQAAQISJsXPnubm5GjZsmFwul1577TVN\n",
              "nDhRmzZtkiTNmzdPI0eOtPPpAQBABLLtyEmbNm103333yeVySZKysrLk9XrtejoAAHCNaLZzTubP\n",
              "n68RI0YEfi4oKFDv3r01duxYHTx4sMnH+Xw+NTQ0BC1+v785RgYAAA6w9WOdS2bNmqXKykq9//77\n",
              "kqRly5ape/fusixLf//733X//ffrs88+a/SxRUVFmjFjRtC6rKws22cGcO1JKVhjy369s4fbsl+g\n",
              "pbL9yMlLL72klStX6t1331W7du0kSd27d5ckuVwu/fnPf9bBgwd18uTJRh9fWFio+vr6oCUzM9Pu\n",
              "sQEAgENsPXIyd+5cLV++XO+9957i4uIkSefPn9fJkyeVmJgoSSovL1diYqLi4+Mb3Yfb7Zbb7Q5a\n",
              "Fx0dbefYAADAQbbFyeHDhzV9+nT17NlTd955p6SLofGvf/1Lw4cPl8/nU1RUlBISEvTOO+/YNQYA\n",
              "AIgwIcfJP//5T91zzz0/uV1SUpIsy2r0d9u3bw/1aQEAQAsR8jknL7zwgtLT0zV//nw1NDTYMRMA\n",
              "AGjBQo6T//znP3rjjTf06aefKi0tTU888UST37QBAAAI1RV9W6dfv35avHix1q1bp9WrV6tPnz4a\n",
              "MmSIPvnkk3DPBwAAWpgripP33ntPI0aM0KhRo/SnP/1Jx44dU15enh588MFwzwcAAFqYkE+I/eUv\n",
              "f6mEhARNmTJFo0aNCnytd/To0VqyZEnYBwQAAC1LyHFSWlqqAQMGNPq7d99996oHAgAALVvIH+t8\n",
              "/PHH+vrrrwM/nzx5UosXLw7rUAAAoOUKOU4WLFigG264IfBzfHy8FixYENahAABAyxVynDR2YTXu\n",
              "EgwAAMIl5Djp2rWrVqxYEfi5rKxMXbt2DetQAACg5Qr5hNiXX35ZI0aM0NNPPy1Jateunf7xj3+E\n",
              "fTAAANAyhRwnN998sz777DPt27dPkpSens5dggEAQNhc0V2JXS6X4uLidP78eR05ckSSlJycHNbB\n",
              "AABAyxRynLz++uuaMmWKWrVqpaioi6esuFwu1dbWhn04AADQ8oQcJy+++KIqKiqUnp5uxzwAAKCF\n",
              "C/nbOgkJCYQJAACwTchxMnLkSL388suqra1VQ0NDYAEAAAiHkD/WeeaZZyRJ06ZNk8vlkmVZcrlc\n",
              "XIgNAACERchxcuHCBTvmAAAAkHQFH+tIF2/+t2zZMklSXV2dampqwjoUAABoua7oxn+PPvqonn/+\n",
              "eUkX70r88MMPh3suAADQQoUcJ4sWLdJ///tfxcbGSpJuuukmnThxIuyDAQCAlinkOHG73Wrbtm3Q\n",
              "upiYK7rQLAAAwGVCjpNOnTpp//79crlcki5eMZZL1wMAgHC5orsSP/TQQ/r888/VvXt3xcbGavXq\n",
              "1XbMBgAAWqCQ46RXr17aunWr9u3bJ8uyuCsxAAAIq5DjpKqqSpJ03XXXSRJ3JQYAAGEVcpwMGDAg\n",
              "cGXYs2fP6ttvv1V8fDx3JQYAAGERcpz88GvDK1eu1O7du8M2EAAAaNmu+jvAo0aN0qxZszRjxoxw\n",
              "zAMYK6VgjdMjAC2eXf8PvbOH27JfXJmQ4+T7dyD2+/3aunUrdyUGAABhE3KcxMXFBc45iY6OVmpq\n",
              "ql555RU7ZgMAAC0QdyUGAABGuaK7EgMAANgl5DiJiopSdHT0Zcul9ZecPXtWI0eOVFpamvr27ash\n",
              "Q4aosrJSklRbW6t7771XqampuuWWW7R58+bwvSIAABDRQv5Y54UXXtCZM2c0efJkSdLChQvVtm1b\n",
              "TZ069bJtc3NzNWzYMLlcLr322muaOHGiNm3apIKCAmVlZWndunWqqKjQgw8+qC+//FKtWrW66hcE\n",
              "AAAiW8hHTt5++2397W9/U1JSkpKSkjRz5kytXLlS1113XeCqsZLUpk0b3XfffYEbBGZlZcnr9UqS\n",
              "VqxYoUmTJkmSMjIy1K1bN33wwQdheDkAACDShXzk5NSpU6qtrVXnzp0lXfyI5tSpUz/5uPnz52vE\n",
              "iBE6efKkzp07py5dugR+l5KSErgs/g/5fD75fL6gdX6/P9SxAQBAhAg5TqZPn66+ffvqvvvukySt\n",
              "W7dOzz///I8+ZtasWaqsrNT777+vM2fOhPR8RUVFl13gLSsrK6R94MrYedExLngEAGhKyB/r5OXl\n",
              "acOGDfJ4PPJ4PFq/fr0ef/zxJrd/6aWXtHLlSr377rtq166d4uPjFRMTo2PHjgW28Xq9Td44sLCw\n",
              "UPX19UFLZmZmqGMDAIAIcUVfJY6Pj1fv3r31l7/8Renp6fruu+8a3W7u3Llavny5NmzYoLi4uMD6\n",
              "MWPGaOHChZKkiooKHTlyRIMHD250H263W7GxsUHL978VBAAAri0hx8lbb72lrKws/fGPf5Qk7d27\n",
              "VyNHjrxsu8OHD2v69Omqq6vTnXfeKY/Ho9/85jeSpDlz5uijjz5SamqqcnJyVFpayjd1AACApCs4\n",
              "56SoqEg7duzQ3XffLUnq27evDh06dNl2SUlJsiyr0X0kJiZq/fr1oT41AABoAUI+chIdHa34+Pig\n",
              "da1btw7bQAAAoGULOU46dOig48ePB65f8v777+uGG24I+2AAAKBlCvljnTlz5mjYsGE6ePCgbrvt\n",
              "Nn355Zdas8a+r5wCAICWJaQ4uXDhgvx+vzZu3KiPPvpIlmVp4MCBQd/EAYCrYef1dYCmcF0ns4QU\n",
              "J1FRUcrNzdXu3bs1bNgwu2YCAAAtWMjnnKSmpgbuLgwAABBuIZ9z8vXXX8vj8WjgwIFq3759YP3K\n",
              "lSvDOhgAAGiZfnac5ObmatGiRZowYYIeeOABXX/99XbOBQAAWqifHSfbt2+XJE2YMEH9+/fXjh07\n",
              "bBsKAAC0XFd0b52mrvwKAABwtX72kZMzZ87ok08+kWVZOnv2bODfl/Tp08eWAQEAQMsSUpw88MAD\n",
              "gZ+//2+Xy6WDBw+GdzIAANAi/ew48Xq9No4BINJwsTQAdrmic04AAADsQpwAAACjECcAAMAoxAkA\n",
              "ADAKcQIAAIxCnAAAAKMQJwAAwCjECQAAMApxAgAAjEKcAAAAoxAnAADAKMQJAAAwCnECAACMQpwA\n",
              "AACjECcAAMAoxAkAADAKcQIAAIxCnAAAAKMQJwAAwCjECQAAMApxAgAAjGJrnEyZMkUpKSlyuVza\n",
              "tWtXYH1KSorS09Pl8Xjk8XhUVlZm5xgAACCCxNi589GjR+vpp5/WbbfddtnvysrK5PF47Hx6AAAQ\n",
              "gWyNk9tvv/2q9+Hz+eTz+YLW+f3+q94vAAAwk2PnnIwfP169e/fWY489phMnTjS5XVFRkTp27Bi0\n",
              "bNu2rRknBQAAzcmRONm8ebP27NmjHTt2KCEhQRMmTGhy28LCQtXX1wctmZmZzTgtAABoTrZ+rNOU\n",
              "5ORkSVKrVq00depUpaWlNbmt2+2W2+0OWhcdHW3rfAAAwDnNfuTk9OnTqqurC/y8fPly9evXr7nH\n",
              "AAAAhrL1yEleXp7WrFmjY8eO6Z577lGHDh20fv16ZWdny+/3y7Is9ezZUyUlJXaOAQAAIoitcVJc\n",
              "XNzo+p07d9r5tAAAIIJxhVgAAGAU4gQAABiFOAEAAEYhTgAAgFGIEwAAYBTiBAAAGIU4AQAARiFO\n",
              "AACAUYgTAABgFOIEAAAYhTgBAABGIU4AAIBRbL3xH9CUlII1tu3bO3u4bfsGANiPIycAAMAoxAkA\n",
              "ADAKcQIAAIxCnAAAAKMQJwAAwCjECQAAMApxAgAAjMJ1TgAAsJFd13W6lq/pxJETAABgFOIEAAAY\n",
              "hTgBAABGIU4AAIBRiBMAAGAU4gQAABiFOAEAAEYhTgAAgFG4CBsAXCW7LrIlXdsX2gKawpETAABg\n",
              "FOIEAAAYhTgBAABGIU4AAIBRbI2TKVOmKCUlRS6XS7t27QqsP3DggAYOHKi0tDRlZGRo7969do4B\n",
              "AAAiiK1xMnr0aH344Yfq0aNH0Pq8vDzl5uZq//79ys/PV05Ojp1jAACACGJrnNx+++1KSkoKWldb\n",
              "W6vt27dr3LhxkqTs7GxVV1ersrKy0X34fD41NDQELX6/386xAQCAg5r9OifV1dXq2rWrYmIuPrXL\n",
              "5VJycrKqqqrUq1evy7YvKirSjBkzgtZlZWU1y6wAcK2y89oswNUy/oTYwsJC1dfXBy2ZmZlOjwUA\n",
              "AGzS7EdOunfvrpqaGp0/f14xMTGyLEtVVVVKTk5udHu32y232x20Ljo6ujlGBQAADmj2IyedO3dW\n",
              "//79VVpaKkkqLy9XUlJSox/pAACAlsfWOMnLy1NSUpIOHz6se+65JxAgxcXFKi4uVlpammbPnq2l\n",
              "S5faOQYAAIggtn6sU1xc3Oj69PR0bdmyxc6nBgAAEcr4E2IBAEDLQpwAAACjECcAAMAozf5VYsBu\n",
              "XFwKACIbR04AAIBRiBMAAGAU4gQAABiFOAEAAEYhTgAAgFGIEwAAYBTiBAAAGIU4AQAARiFOAACA\n",
              "UYgTAABgFOIEAAAYhTgBAABGIU4AAIBRiBMAAGAU4gQAABiFOAEAAEaJcXoAAEDTUgrWOD0C0Ow4\n",
              "cgIAAIxCnAAAAKMQJwAAwCjECQAAMApxAgAAjEKcAAAAoxAnAADAKMQJAAAwChdhuwZwkSYAaHns\n",
              "/NvvnT3ctn3/HBw5AQAARiFOAACAUYgTAABgFOIEAAAYxbE4SUlJUXp6ujwejzwej8rKypwaBQAA\n",
              "GMTRb+uUlZXJ4/E4OQIAADCM8V8l9vl88vl8Qev8fr9D0wAAALs5es7J+PHj1bt3bz322GM6ceJE\n",
              "o9sUFRWpY8eOQcu2bduaeVIAANBcHIuTzZs3a8+ePdqxY4cSEhI0YcKERrcrLCxUfX190JKZmdnM\n",
              "0wIAgObi2Mc6ycnJkqRWrVpp6tSpSktLa3Q7t9stt9sdtC46Otr2+QAAgDMcOXJy+vRp1dXVBX5e\n",
              "vny5+vXr58QoAADAMI4cOTl+/Liys7Pl9/tlWZZ69uypkpISJ0YBAACGcSROevbsqZ07dzrx1AAA\n",
              "wHBcIRYAABiFOAEAAEYhTgAAgFGMv0LstSKlYI3TIwAAEBE4cgIAAIxCnAAAAKMQJwAAwCjECQAA\n",
              "MApxAgAAjEKcAAAAoxAnAADAKMQJAAAwChdh+wEulgYAgLM4cgIAAIxCnAAAAKMQJwAAwCjECQAA\n",
              "MApxAgAAjEKcAAAAoxAnAADAKMQJAAAwCnECAACMQpwAAACjECcAAMAoxAkAADAKcQIAAIxCnAAA\n",
              "AKMQJwAAwCjECQAAMApxAgAAjEKcAAAAoxAnAADAKMQJAAAwCnECAACM4licHDhwQAMHDlRaWpoy\n",
              "MjK0d+9ep0YBAAAGcSxO8vLylJubq/379ys/P185OTlOjQIAAAziSJzU1tZq+/btGjdunCQpOztb\n",
              "1dXVqqysvGxbn8+nhoaGoMXv9zf3yAAAoJnEOPGk1dXV6tq1q2JiLj69y+VScnKyqqqq1KtXr6Bt\n",
              "i4qKNGPGjKB1N998s6ZNm2bLbKNs2WvL5Pf7tW3bNmVmZio6OtrpcfATeL8iC+9XZIm092vatPdt\n",
              "2W+PHj305JNP/uR2LsuyLFsm+BEff/yxHn74Ye3bty+wLjMzU7Nnz9Zdd90VtK3P55PP5wta53a7\n",
              "5Xa7m2VWXLmGhgZ17NhR9fX1io2NdXoc/ATer8jC+xVZeL9C48iRk+7du6umpkbnz59XTEyMLMtS\n",
              "VVWVkpOTL9uWEAEAoGVx5JyTzp07q3///iotLZUklZeXKykp6bKPdAAAQMvjyJETSSouLlZOTo5m\n",
              "zZql2NhYLV261KlRAACAQRyLk/T0dG3ZssWpp0czcLvd+r//+z8+losQvF+RhfcrsvB+hcaRE2IB\n",
              "AACawuXrAQCAUYgTAABgFOIEAAAYhTgBAABGIU4QNkOHDlWfPn3k8Xg0aNAg7dy5U5KUkpKi9PR0\n",
              "eTweeTwelZWVOTwpvm/p0qVyuVxatWqVpIv3vrr33nuVmpqqW265RZs3b3Z2QAT54ft1xx136MYb\n",
              "bwz8/5o3b56zA0JS03/3Dhw4oIEDByotLU0ZGRnau3evw5OaybGvEuPas2LFCsXFxUmS3n77beXk\n",
              "5Gj37t2SpLKyMnk8HueGQ6O8Xq8WL16srKyswLqCggJlZWVp3bp1qqio0IMPPqgvv/xSrVq1cnBS\n",
              "SI2/X5I0b948jRw50pmh0KTG/u7l5eUpNzdXOTk5euutt5STk6OKigpnBjQYR04QNpfCRJLq6+vl\n",
              "crmcGwY/6cKFC5o4caJeffXVoGsvrFixQpMmTZIkZWRkqFu3bvrggw+cGhP/X1PvFyJHbW2ttm/f\n",
              "rnHjxkmSsrOzVV1drcrKSocnMw9xgrAaP368unfvrueee07Lli0LWt+7d2899thjOnHihIMT4pK5\n",
              "c+fq1ltv1YABAwLrTp48qXPnzqlLly6BdSkpKaqqqnJiRHxPY+/XJQUFBerdu7fGjh2rgwcPOjAd\n",
              "GvPDv3vV1dXq2rWrYmIufmjhcrmUnJzM/69GECcIq5KSElVXV2vmzJnKz8+XJG3evFl79uzRjh07\n",
              "lJCQoAkTJjg8JT799FOVl5fr2WefdXoU/Aw/9n4tW7ZMn3/+ufbs2aNBgwbp/vvvd2BC/BB/966S\n",
              "BdikTZs21ldffRW07ujRo1b79u0dmgiXLFiwwOrSpYvVo0cPq0ePHpbb7bY6depkLViwwGrXrp1V\n",
              "U1MT2DYjI8PasGGDg9Pix96vH3K73Zf9v4OzLv3dO378uNWhQwfr3LlzlmVZ1oULF6zExETrwIED\n",
              "Dk9oHo6cICzq6up09OjRwM+rVq1SfHy82rRpo7q6usD65cuXq1+/fg5MiO+bPHmyampq5PV65fV6\n",
              "lZWVpUWLFmny5MkaM2aMFi5cKEmqqKjQkSNHNHjwYIcnbtmaer8ef/xxHT9+PLBdeXm5EhMTFR8f\n",
              "7+C0OH36dKN/9zp37qz+/furtLRU0sX3KykpSb169XJoUnPxbR2ERX19vcaMGaMzZ84oKipKnTp1\n",
              "0urVq3X8+HFlZ2fL7/fLsiz17NlTJSUlTo+LHzFnzhw98sgjSk1NVevWrVVaWso3dQzl8/k0fPhw\n",
              "+Xw+RUVFKSEhQe+8847TY7V4P/Z3r7i4WDk5OZo1a5ZiY2O1dOlSh6c1Ezf+AwAARuFjHQAAYBTi\n",
              "BAAAGIU4AQAARiFOAACAUYgTAABgFOIEAAAYhTgBAABGIU4AAIBRiBMAAGAU4gQAABjl/wEnUMPu\n",
              "FJ3b9QAAAABJRU5ErkJggg==\n",
              "\">\n",
              "      </div>\n",
              "      <script type=\"text/javascript\">\n",
              "        (() => {\n",
              "          const chartElement = document.getElementById(\"chart-a24b5fba-b9ed-4ba6-94dd-58ed39fc5b89\");\n",
              "          async function getCodeForChartHandler(event) {\n",
              "            const chartCodeResponse =  await google.colab.kernel.invokeFunction(\n",
              "                'getCodeForChart', [\"chart-a24b5fba-b9ed-4ba6-94dd-58ed39fc5b89\"], {});\n",
              "            const responseJson = chartCodeResponse.data['application/json'];\n",
              "            await google.colab.notebook.addCell(responseJson.code, 'code');\n",
              "          }\n",
              "          chartElement.onclick = getCodeForChartHandler;\n",
              "        })();\n",
              "      </script>\n",
              "      <style>\n",
              "        .colab-quickchart-chart-with-code  {\n",
              "            display: block;\n",
              "            float: left;\n",
              "            border: 1px solid transparent;\n",
              "        }\n",
              "\n",
              "        .colab-quickchart-chart-with-code:hover {\n",
              "            cursor: pointer;\n",
              "            border: 1px solid #aaa;\n",
              "        }\n",
              "      </style>"
            ]
          },
          "metadata": {}
        },
        {
          "output_type": "display_data",
          "data": {
            "text/plain": [
              "<google.colab._quickchart_helpers.SectionTitle at 0x7ab4c1994d30>"
            ],
            "text/html": [
              "<h4 class=\"colab-quickchart-section-title\">2-d distributions</h4>\n",
              "<style>\n",
              "  .colab-quickchart-section-title {\n",
              "      clear: both;\n",
              "  }\n",
              "</style>"
            ]
          },
          "metadata": {}
        },
        {
          "output_type": "display_data",
          "data": {
            "text/plain": [
              "from matplotlib import pyplot as plt\n",
              "_df_4.plot(kind='scatter', x='Open', y='High', s=32, alpha=.8)\n",
              "plt.gca().spines[['top', 'right',]].set_visible(False)"
            ],
            "text/html": [
              "      <div class=\"colab-quickchart-chart-with-code\" id=\"chart-c396f1ea-8fe4-4e9c-a4f8-0fd03540e63d\">\n",
              "        <img style=\"width: 180px;\" src=\"data:image/png;base64,iVBORw0KGgoAAAANSUhEUgAAAjEAAAGkCAYAAADALHSZAAAAOXRFWHRTb2Z0d2FyZQBNYXRwbG90\n",
              "bGliIHZlcnNpb24zLjcuMSwgaHR0cHM6Ly9tYXRwbG90bGliLm9yZy/bCgiHAAAACXBIWXMAAA9h\n",
              "AAAPYQGoP6dpAABtcElEQVR4nO39f3ycdZ3v/z/e13XNXJNk0qRNf1PaQm3BbYGWn63ogrr4AXUB\n",
              "ZasuhwoK1KLsfjjoHtejsIvugXWPC1+EwyrK4YfFLiiKyIE9X91VqUoLLkUsKwvFpinQH2naJplJ\n",
              "5pq5ruv9+WMy0ySdpEmb33neb7doMpmZXNPQ5Nn3+/V+vYy11iIiIiIyzjijfQEiIiIiR0MhRkRE\n",
              "RMYlhRgREREZlxRiREREZFxSiBEREZFxSSFGRERExiWFGBERERmXFGJERERkXJrwIebOO+8c7UsQ\n",
              "ERGRYTDhQ8yOHTtG+xJERERkGEz4ECMiIiITk0KMiIiIjEsKMSIiIjIuDWuIWbhwISeddBLLly9n\n",
              "+fLlPPLII+RyOS699FKWLFnCaaedxgUXXMC2bdsqPr6xsRHXdcuPX758Oa+//vpwXrKIiIiME95w\n",
              "f4FHHnmE5cuXlz/O5XKsXbuWiy66CGMMd999N9dccw0///nPKz6+traWF198cbgvU0RERMaZEd9O\n",
              "SqVSvP/978cYA8DKlStpbGwc6csQERGRcW7YQ8zHP/5xTjnlFK6++mqam5sP+/ydd97JJZdc0ufj\n",
              "s9ksZ511Fqeffjpf/vKXiaKoz/sGQUBbW1uPt/7uLyIiIuPXsIaYZ555hpdeeokXXniB6dOnc+WV\n",
              "V/b4/K233sq2bdu47bbbKj5+zpw5vPnmmzz//PP89Kc/ZePGjfzjP/5jn1/vtttuo66ursfbc889\n",
              "N6SvSURERMYGY621I/GFdu3axZIlS2hvbwfga1/7Gv/8z//MT3/6U+rr6wf0HBs2bOC73/0uP/7x\n",
              "jyt+PggCgiDocdtNN92krr0iIiIT0LAV9mazWQqFQjmgbNiwgRUrVgBw++23s2HDhiMGmL179zJ1\n",
              "6lQSiQRBEPCDH/yg/ByV+L6P7/s9bnNd95hfi4iIiIw9wxZi9uzZw2WXXUYURVhrOfHEE3nooYd4\n",
              "4403+OxnP8uJJ57Iu9/9bqAYPjZv3gzAzTffzNy5c1m3bh2//OUvufnmm3FdlzAMec973sMXv/jF\n",
              "4bpkERGRcSVXiMgEIWnfI5WYfP9oH7HtpNFy4403cvvtt4/2ZYiIiAyZ5vaA9Zsa+Zete+gsRFQl\n",
              "XC5aNpsrVi1geto/8hNMEOrYKyIiMo40twf8xYYtPLy5iWwQ4jmGbBCyfvMOrv/uFvZlgiM/yRDI\n",
              "FSL2ZQJyhdE7BTzsze5ERERk6Kzf1Mi2ve3MSPt4bnEtosaHMIrZtred9c/u4IYLlgzb1x9Lq0Ba\n",
              "iRERERkncoWIf9m6h5TnlgNMiec6+J7L0y/vPqrVkYGsrIyVVaASrcSIiIiME5kgpLMQkfQqr0H4\n",
              "nkNnvljsO9BC38GsrIz2KlBvWokREREZJ9K+R1XCJR/GFT8fhDFVSZe0P7A1isGsrAznKtDRUogR\n",
              "EREZJ1IJlwuXzSIXRoRRzyATRjFBGHHR0tkDXoXpvrIytSZJje8xtSbJjLRfXlkpGcwq0EhRiBER\n",
              "ERlH1qxayNtm1tKcCdifzZMNQvZn8zRnAhbPrOWKVQsG9Dx9razE1oKBpOf0WFkZ6lWgoaAQIyIi\n",
              "Mo5MT/vcffkKrjhnAemURxhb0imPK85ZwF2XrxjwCaHeKythFLOnLce2vRle35uluT1g98FOmvZ3\n",
              "AEO/CjQUVNgrIiIyzkxP+9xwwRLWnb9oUB17u3f4La2sZIOQhBuxc38HQRjjOAZjDHFkyeRDvvTD\n",
              "rdxzxelMT/usWbWQzdsPsG1vO77n4nsOQVgMMINZBRoqCjEiIiLjVCrhDii89HUC6cyFU/nBC2+w\n",
              "qzUmKu4iYSw4WDCGqVUJ/rAvUz51VFoFWv/sDp5+eTed+Yh0ymP10nmj0idGIUZERGQCK51A2ra3\n",
              "nZTnkvQcskHIQ882ko8shcgSdQ0gskAYW0KgOuEwo9anLRfy9Mu7WXf+IlIJ96hXgYaDQoyIiMgE\n",
              "033bqK/eLp2FkGwQUledoK2zgO0WZIyB6qTXdXS6cu+Zga4CDSeFGBERkQmi97ZRKuHQksmTdJ3D\n",
              "TiBlggjHQGc+IuE6xNbiGANAZC3tQcgsawnCmHTKG9FTRwM19q5IREREBq3StlF7LuRARzHE1Fcn\n",
              "ykEmji3WgnEM1kI65XGwI0/YtRxjgdhYOvIhQRixeum8UV91qURHrEVERCaASo3rptUk8RxDPopp\n",
              "yebL9y2eQAIbW0zXakxsi+Gla1eJ2MLO/R0saKgZ8VNHA6UQIyIiMs711bjOMYb66iQArZ2FYiO7\n",
              "rtvTvktswTVQiGJ8z8FzTPmxroGE63DG/PoRP3U0UAoxIiIi41x/IwEa0kmSrkMhimnJHOrwW9pG\n",
              "CsIYa7u2lwy4jqE66fK2mWmm1fj84rV9IzoPaTAUYkRERMa5/kYCeI7D1JokU6uT1FYd6vD78VUL\n",
              "+faVZ1LjezhdKzCOMTTUJFkwrZpkVzO7kZ6HNBgq7BURERnnSiMBHt7cRD6McByDY4pvYRRTiGLW\n",
              "rFxwWG+XXCFiTl0VmVyBKVWJ8uNKxvLJJNBKjIiIyITw/lPm4icctu3N8uruDK/uaaexJcue9kOD\n",
              "IUvN6konjUrhJ+iahdQ9wIzWPKTBUIgREREZ59440MF//+Hv6AhCqpMujlM8XdSRD6lKuNxyydI+\n",
              "i3OHair2aBib60MiIiJyRKXmdus3NXGgI0/CdairSjC3PoVjDLG1tGTzPPXSLpZcUFvxOcbaPKTB\n",
              "UIgREREZh0rN7V7b005rZwFjKIeWbBAyv1yc6/aYfVTJWJqHNBjaThIRERlCuULEvkww6GPJrR15\n",
              "Xt3TTmtH/sh35lBzu2k1ieLRaOPgOgbPQC481NxuMCeMetfMjHVaiRERERkCvecWVSVcLlo2+4hb\n",
              "Mq/sauPmH23lxTdaiWOL4xhWHF/PTR/8I2bXpSquipSa2yUch4MdBcLIYrHQLTe1ZPNMrU6M+RNG\n",
              "x2LivSIREZERVmluUTYIWb95B5u27+fuy1dUDDKv7GrjI998lvZciGOKs4zCMGbz9v1cfPcvmTUl\n",
              "xZRU4rAwlAlCMkFxLlIhtuVRAd1FsaVpfwdVCZfVZ4zN2UfHSttJIiIix6jS3KK66gRTqxO8tred\n",
              "9c/uqPi4m3+0lfZcSNI1JFyH7jEjtnCgq75l/eYdXP/dLezLBAAkHNM1nPHw5nbddRZiqpPemD5h\n",
              "dCy0EiMiInIMus8tchxDrhBxsKNAW66AtcVi2+9s2sHqs+ZxXH11+XF72zrZsvMgAGFsie3hKypB\n",
              "GDOlyqPWemzb2843f/461b7L01t309pZwFJccQEwcNjja1MeqYQzIbeSQCFGRETkmJS2djryIc2Z\n",
              "gHwYYwHHFFv+WywHOvJct/4F/umK00m6Lus3NfKjF9+iEBVjR1RpP4hiKClEllTCxXMc1j/XRHXC\n",
              "JeE6mAr3LTGA68C0mgT5yJIJwgm5naQQIyIicgxyhYj92TxBWKyqLYWJ2EIYFwONtfC7N1r54Nd/\n",
              "SXXSozM/8FCRcE3X1wkJChFVCYcDHXniCsGnGF6KazKu41CILLUTtKgXVBMjIiJyTL73m52AxVAM\n",
              "LobiNOjSx7YrbFjgQEeBtw52kgtjalPeYaspvRkDxhjCOKY9iIgttHYUiK0tD23sLukaPMcAhlrf\n",
              "Ix/GY3pswLGamNFMRERkBJTqYeqrkrTmCnTko+JKTB/bQ6VPBYWY5vYAYw6FnEoMsKctR2tHnq7x\n",
              "RkQW4sjiOgbH0GNFphBZjCl+LgZOGuNjA46VQoyIiMhRygRhsSdM0mVKlce2vZmK9S29w0pkLfs7\n",
              "Ckd8/thCSyZ/WCayFIuBjQHPMYRdScZ1DdUJlxm1Ph88de6YHxtwrIY1xCxcuBDf96mqqgLgC1/4\n",
              "Ah/96Ed57bXXuPLKK9m3bx91dXU88MADLF26tOJz3Hffffz93/89cRzznve8h3vuuYdEIjGcly0i\n",
              "IjIgad+jKuGSDUJq/CTTapLsqxA6+luZ6c4ACRei+FCxb38PtRYsFsdATdLjR9e/gylVyXEzNuBY\n",
              "DXtNzCOPPMKLL77Iiy++yEc/+lEAPvWpT7F27VpeffVVPv/5z3PVVVdVfOz27du56aab2LhxI9u2\n",
              "bWPPnj3ce++9w33JIiIiA5JKuFy4bBa5MCKMYqanfaoSh/9qtXDE+pfS/brX0QxEZIunoGZO8Zlb\n",
              "Xz2uxgYcqxEv7N27dy+/+c1vuOKKKwC47LLL2LlzJ9u2bTvsvt///ve5+OKLmT17NsYY1q1bx4YN\n",
              "G/p87iAIaGtr6/EWRYObXSEiIpPP0c47AlizaiFvm1lLcyagLRcyPe3Tu+bWq1CE25coLq7GwMB/\n",
              "SVclDX966txJE15Khr0m5uMf/zjWWs4++2z+/u//np07dzJnzhw8r/iljTHMnz+fpqYm3va2t/V4\n",
              "bFNTEwsWHCpIWrhwIU1NTX1+rdtuu41bbrmlx20rV64cwlcjIiITydHOO+puetrn7stXsP7ZHTz9\n",
              "8m468xH11Qk6gmIgKvWCGcjiiucUV2K6HorjGOJKZ6l7WTRjYhfw9mVYV2KeeeYZXnrpJV544QWm\n",
              "T5/OlVdeOZxfji984Qu0trb2eDv77LOH9WuKiMj4VJp39PDmJrJBiOeYii3+B2J62ueGC5bwo8+c\n",
              "yw8+/Q4e/MTZNNQmCcKYyNpy4W1vptv/F49mGxxTPHU0xXcHFHyqEg539TGbaaIb1pWY+fPnA5BI\n",
              "JLjhhhtYsmQJxx9/PLt27SIMQzzPw1pLU1NT+b69H//666+XP25sbKx4vxLf9/H9nt9E151cS2si\n",
              "IjIw3ecdeW7x3/Q1PoRRzLaueUc3XLBkUM+ZSri050L+5on/oKWPI9SJrtNEFsqzAizQUJNkeq1P\n",
              "UAh582COVMIjsuGhY9u9OBRXatasXNBjnMFkMmwrMdlsloMHD5Y/3rBhAytWrGDmzJmcfvrprF+/\n",
              "HoDHHnuMefPmHbaVBMV6mSeeeILdu3djreUb3/gGH/vYx4brkkVEZJLoPu+oFGBKPNfB91yefnn3\n",
              "UdXIfPMX23jpjYMUomL33FLH3ZIeU6e7pZPWzgKN+7K0ZAukfY/IxsytS9FQkzysKNgAfsJh+fH1\n",
              "rD1v0aCvcaIYtpWYPXv2cNlllxFFEdZaTjzxRB566CEAvvnNb3LVVVdx6623MmXKFO6///7y4665\n",
              "5houvvhiLr74Yk488URuueUWzj33XADOP/98PvWpTw3XJYuIyCRR6u+S9Cr/W973HDrz0aBnDuUK\n",
              "ET944U1ia0l2haNKW0mlJnW2x22GKI7J5GJm16WYW1/FjpYsfsLl+KlVtGTzdOQjEq5h3tQqLj7t\n",
              "uAnfB+ZIjLWDOcg1/tx4443cfvvto30ZIiIyhuQKEZfc/SuyQcjUmuRhn9+fzZNOefzoM+cOKsS8\n",
              "ebCD8//nz4ltcdsoH8UVZxz5riGyhwKOa7qKeG0xQKU8hz87Yx7VSa9cLFyVdLng5JlcvOI45k+r\n",
              "nnQnkSpRx14REZl0Sv1dHt7cRBjFPbaUwigmCCNWL503+KDQbZ8ojA/NUurxKSAfHdpSMhQDjGMM\n",
              "U6sTNNQkacuF/OK1ffzoM+ey7vxFZIJw0jSwGwyFGBERmZTWrFrI5u0H2La3Hd9z8T2HICwGmMV9\n",
              "zBzKFaJ+A0VD2mdKKsH+jjyljY5K2x1d9bzUV3nMmpIqnkjqCjLQcztrMjWvGyyFGBERGfOOFB6O\n",
              "RqX+LumUx+ql8w6rNRloP5niCs9sHt7cd0+zqVUe6VSCXa2dVCU9kt7hrycIY9Ipj7SvX9P90Z+O\n",
              "iIiMWUPRjK4/pf4u/W3ZlPrJbNvbju86eK5DJlfgO5sa2bhtH1//8+W9jjjb8kpLJa7jEFuYUpUg\n",
              "H8ZDu501ySjEiIjImNQ9PKQ8l6TnlJvRbdq+n7uHsMFbKuH2GRjWb2rk1d1tGAP7snlia4mLkxd5\n",
              "YccBLr7rV6xZuYArVi3oOp30FqZb/5fuXAPtQYjF8menz+OlN9sGtZ0lPSnEiIjImDQczegGK1eI\n",
              "ePK3u8jkI6K4uMISde/zAhzsyPOdTTvYuG0fS2bWEIQRbld9Sz6KezS7iy0UopgTpteV+7sMZDtL\n",
              "KlOIERGRMWegzejWnb9oWLdcMkFIcyYgimISrlPutNt9uyiy0J4r8MKOA7zYdABLMeiEFTqYWGBq\n",
              "VYI7/3x5OaQcaTtL+qYQIyIiY85wNaMbrIRjyIVx8QNTDCcl3YNMXFql6bqhe3zpfj/HwJ+dMe+w\n",
              "MQH9bWdJ34Z1AKSIiMjRSPseVQmXfClA9BKEMVVJ95hP7+QKEfsywWHjBUq3Z4KQVFeQirr1drH0\n",
              "DCqhhcpXenhX3ivPXXhM1yyHaCVGRETGnGFrRtelr1NPF50ym6d+t6t8u+855REB0TE2uDdAbcqj\n",
              "oUa1LkNFIUZERMako2lGNxDdTz0lPYeE69AeFHjo2Ub+96+247kO1YniaahMLqS1M+zzuPRg+J5D\n",
              "ddIb9i2wyUQhRkRExqTBNKMbjPWbGnl1TzsO0JLJYy0YU6yvyIUxDTVJptYkKUQxu1o7jynAlOph\n",
              "HAO1qYQa2A0x/UmKiMiYNZBmdIORK0Q8+dIuMrlCca6RAdM1PTroKmppD0IawoidBzrpLPRV6XJk\n",
              "rqHrRFPc1eAu5qKls7UKM4QUYkREZMwbqtM7mSCkuT0gii0J18F0zSpyHIcojrEUa272ZQKCrgDT\n",
              "X/fd/jiOIbK2ONHawJJZU9TAbogpxIiIyLh0NPOUuh+ZLgWYku59XzJBhHHA9Dy0dFigKX3smkPH\n",
              "qxOuoTrpkg0iYmvxEy5rzpnP2vMWqYHdEFOIERGRceVY5ikVYkvKc8hEMbGNMcZgY0s+6rnWkg9j\n",
              "PNfgOoawqzdMpRUZC6Q8h7rq4hyk6mRxxagQWWZNcTh/yQyufMdCjptajQw9hRgRERk3BjtPqfdq\n",
              "Ta5QHAkQWwjC3t1eDrFAIbK4julxW3euKQ5xrE56pFMeFy0tBqm076n77ghRiBERkXFjoPOUKq3W\n",
              "/PGS6bzQdJBcIcJQLOqNK2QYp9vtpXlJxoDtNtAx7bv889qVvG1mbcXAovAyMtSxV0RExoX+5ik5\n",
              "jsFzHP7P1l28caCDv9iwhYc3N5ENQjzHkA1CHt7UxG93HmT2lBTVSZdKveucrhNFbrdymdKsJNcx\n",
              "uMZQlXBIug4//Y+9pBIu09O+QssoUYgREZFxodI8pUIUs7u1k217M+zLBDTuy/KXG17g1d1tzEj7\n",
              "TK1JUuN71FUnCOOY2FoyQcjcuhT1VYdvRiRch0IU06tEhsgWV2WmVidY2FBDVdLj6Zd3HzauQEaW\n",
              "tpNERGRcKM1TygYhNX4xwDTt7yAI4+J2Dxas4bc7W3Fdh1lAbC1hFJcDjLWwL5PnYEeB7lUupaLd\n",
              "QhQX+8d0+2zSBYOhENviio/rjNgASumfQoyIiIwL3ecp5Qohbx7opKNbLxdjoK46QXtngTCKadyX\n",
              "JegKJZXYCu+X7tv9c65TDCkuMa2dBWbU+gRhrO67Y4C2k0REZNxYs2ohCxpq2L4vWw4wUAwdsYXO\n",
              "QoQxxdNHnWHfASaKLX0MyO7BANaWjlgbrIV8ISIII3XfHQMUYkREZNyYnvY5fX4dXrejzwbwHIPv\n",
              "OeTD4tbRkQxkmIBjis8bxpYwjru671r2d+SPaQClDB2tg4mIyJhUqSNvrhDxzKstNNT47MvmieJi\n",
              "L5cotuTDeEimTUMxvBgDjjFMSXm0dhaw1lJfnWTNygXHNIBSho5CjIiIjJiBjAroryMvFLeM/ITL\n",
              "lJTH/mxhSMNLSRhbXKfYG8Z1HGqriqeSvv6x5eq+O4YoxIiIyFEb6PyigY4K6N6RN+k5JFyH9qBQ\n",
              "7sj7j6tPLZ9Qmp72OdhROOw49FBwKNbAGAO1VR4fWDZHqy9jkEKMiIgM2mDmFw1mVMD6TY28uqcd\n",
              "B2jJ5LG2eOqo1vd4dU873/vNG+UTSono0FyjoeY6xZECl51+HDe+7yQV8I5RKuwVEZFBKYWS3h1x\n",
              "12/ewfXf3cK+TNDj/t1HBZSaz02tSTIj7ZdHBUBxVefJl3aRyRU42FkgtsWGLbG1HOwskMkVePKl\n",
              "t/iTt8/GwbC9uWPIt5FKPNdhyaxa1p63SAFmDFOIERGRQRloKIH+RwUUm8a55c63mSCkuT0gii1e\n",
              "1xgB1xT/3+sq3t3THvDXP3iJvb2C0lDyHMOalQu4q9cwSRl7FGJERGTABhNKoPKogO66d75NOIZc\n",
              "V/MWY0yP+xljsEAmF/LyW21D/8K6zEwnefwz7+C/f+CPFGDGAYUYEREZsMGEEjg0KiDfR2e5IIyp\n",
              "SrqkfY9CbEl1Pa/tNZ0xjouN64Zr+8gAy4+v46kb/phlx9UP01eRoTYiIeb+++/HGMPjjz8OwDnn\n",
              "nMPy5ctZvnw5y5YtwxjDSy+9VPGxxhhOOeWU8v03btw4EpcsIiIVDCaUwKFRAbkwIox6PiaM4h6d\n",
              "b9O+x4xaH9d1KJQazHX9f344jiABroGp1QnOPmEa377yLK2+jDPDfjqpsbGRb33rW6xcubJ82+bN\n",
              "m8vvf//73+eWW27h1FNP7fM5Nm7cSH19/XBepoiIDED3+UVhFPfYUiqFktVL5/Uohl2zaiGbtx9g\n",
              "2952fM/F9xyCsHjf7p1vUwmXD546h+88uwPHGNqDEGuLDeeMKQ5vHGpqXje+DetKTBzHXHPNNdx1\n",
              "1134fuX/OO677z6uvvrqIfl6QRDQ1tbW4y2KNCZdRGQorVm1kLfNrKU5E7A/mycbhOzP5mnOBBXb\n",
              "8U9P+9x9+QquOGcB6ZRHGFvSKY8rzjm8eHbNqoUsmT0FDDTUJJlTl6K+KjEsr2POlBRP/MW53HDB\n",
              "EgWYccrY3huPQ+hrX/sa7e3t3HLLLZx//vnccMMNXHrppeXP79y5k5NOOommpiamT59e+QKN4fTT\n",
              "TycMQ9773vfyla98hZqamor3/du//VtuueWWHretXLmSZ599dshek4iIwL5MwPpnd/D0y7vpzEdU\n",
              "JV0uWlq5T0x3A2mO1/u5/YRDSyZPa0d+yBrbzalL8eAnz2bJrNqheUIZFcMWYrZu3cq1117LM888\n",
              "QyKRqBhivvKVr/C73/2ORx99tM/naWpqYv78+WSzWdatW0dtbS333HNPxfsGQUAQ9Dx2d9NNN3Hn\n",
              "nXcOyWsSEZGeBtqx92ietyUTdK3I+PzTz7fx9X/ddlSFvZ5jsNZijKE25fGhFXP59LsXa/VlAhi2\n",
              "mpiNGzfS2NjI4sWLAdi9ezdr165l165dXHfddVhruf/++/mnf/qnfp9n/vz5ANTU1PDpT3+atWvX\n",
              "9nlf3/cP27ZyXTUpEhEZLqmEO2ThJVeI2NHSwRMvvsFPf99c7gT8x0umczAbDCrAHFefIrbw8DXn\n",
              "MLe+qkcgUvO6iWPYQsx1113HddddV/6490rMv/3bvxGGIRdccEGfz3HgwAF836e6upo4jnnkkUdY\n",
              "sWLFcF2yiIiMgtIIgydf2sUbBzoJ45jqhMe0miStnQXu/1VjsXvvADmmeBR7SlWCufVVpBKuhjZO\n",
              "UKM2O+m+++7jE5/4BI7Ts7b4G9/4Bm+99RZf/vKXeeWVV/jUpz6FMYYwDDn99NO1NSQiMoF0n6sU\n",
              "hDFhFGOMoSMfkQs7iWLLYMcj1VcnyIdx+ei2TFzDWtg7Ftx4443cfvvto30ZIiJSwR0/+U8e3txE\n",
              "Q02SxpYOYmtxjSEI46Oqf0k4UFuV5KRZtRobMAloirWIiIyK7iMMHMd0TawuTqY+mgBTlXA4rr6K\n",
              "D546V31fJgmFGBERGRXdRxgUG9pBFFui2GIY+IiBhGuYU5diw9qVKtydZBRiRERkVJRGGLR1FsgE\n",
              "IWFXgDkSAyQ8hyiKqa9OYIzhwyvmcVy9incnGw2AFBGRUZFKuLxr8XT2ZQNaMgGOKQaU7np/DMUV\n",
              "mjCKcR2DxVTsEiyTg1ZiRERk1ByaiVSMKwnXUIgO1cQYoCGdBAutnXkKcXFoY2lYpOpfJjeFGBER\n",
              "GVZ9dfXNFSKeebWFGWmfyFpaOwtYC0nPdE2vtjiOIe17FCLLFJNkYUMN//PPTmFKVXLIuwTL+KMQ\n",
              "IyIiw6LUxO5ftu4pd9+9aNmh+Uqlwt6qpEtN18pK3BVcYmvZdTBHNh9SiIoDI1cvnadVF+lBIUZE\n",
              "RIZc9yZ2Kc8l6Tlkg5D1m3ewaft+7r58RbmwNxuE1PjgGIPjFreVHGOo8T1mTvG5/xNn6dSRVKTC\n",
              "XhERGXLrNzWybW87M9I+U2uS1PgeU2uSzEj7bNvbzvpnd5BKuFy4bBa5MCKM4h6PD6OYIIx4/7I5\n",
              "HFdfrQAjFSnEiIjIkOrexM5ze/6a8VwH33N5+uXd5AoRa1Yt5G0za2nOBOzP5skGIfuzeZozgU4d\n",
              "yREpxIiIyJAq1bokPEMYx4cNb/Q9h858sdh3etrn7stXcMU5C0inPMK4WP9yxTkLNDZAjkg1MSIi\n",
              "k1xfp4eO5fmyQUhrZ6HcibeuKkFDOonnOARhTDrlkfaLv4Kmp31uuGAJ685fNKTXIROfQoyIyCR1\n",
              "pNNDR/ucn/veS3TkQ2JrMQaspbxVNLc+RRBGrF4677Cgkkq4Ci8yKNpOEhGZhEqnhx7e3EQ2CPEc\n",
              "Uz49dP13t7AvExzV85YKeufVV1GVcClNEXAMdBYi3jyYU62LDBmFGBGRSWggp4cGq3tBbyrpMX9a\n",
              "NQ01SRxjAINjDFUJl6+tPlW1LjIkFGJERCaZwZweGshz7csE5bqa0lTq0nPNmpLibTPTLJpRw7yp\n",
              "VdT4Hr62jGSIqCZGRGSS6R02eut+eqivGpVK9TQXvH0mSdeQK8TUdFtoKTWxK+TCHgW9IsdK/yWJ\n",
              "iEwyvTvl9tb79FBvfXXj/eff7CwGoEJMbRT3WOUpNa+rVNArcrS0nSQiMskMpFPuRUtn9xk2+qun\n",
              "6cxHVCddNa+TEaEQIyIyCR1tp9wj1dNUJT18z+FjZx2v5nUy7LSdJCIyCZU65a5/dgdPv7ybznw0\n",
              "oEnRA6mnKUSWq849gevfs1jN62RYKcSIiExSR9MpdzD1NGpeJ8NN20kiIpNcKuEyPe0PKHAcaz2N\n",
              "yFDSSoyIiAzKmlUL2bz9ANv2tuN7Lr5XnIcUhJGKd2VEaSVGRGQS696sbqA0eVrGCq3EiIhMYH1N\n",
              "qD7S8McjTbbW5GkZCxRiREQmoP5CirVUbFa3fvMOnnltH2csqOeZV/cNaLK1indlNCnEiIhMMH11\n",
              "1F2/eQebtu/nlONqy83qSr1eanzI5UNeeuMgr+xqY1pN8rDH3a2tIhljFGJERCaY7h11u4eUfBjx\n",
              "6u42Xt3dRnXSO6xZ3cHOArG1hHFMXXUCxxhq/OKpo9Jk6xsuWDIaL0mkIhX2iohMIJU66oZRzJ62\n",
              "HI0tHbR2FtjfUaA9V+hxRDq2lrZciDEGMMTWlj832MnWIiNFIUZEZALJBCEd+RDXLQaRMIpp2t/B\n",
              "/mye2FqMKd6vNRfStL+jHGTi2FLMLcX7OKU7duk+2VpkrNB2kojIKDjS6Z+j0dwe8MCv/sCe9oAo\n",
              "sniuwXMMuTDGcwxRbAm79afryEc0twfMqa/CcQzGgI2hripxWIg50mRrkdEwIisx999/P8YYHn/8\n",
              "cQDOP/98TjjhBJYvX87y5cu54447+nzsk08+ycknn8zixYv58Ic/TFtb20hcsojIsGhuD7jjJ//J\n",
              "JXf/ig/f82suuftX/P9+8ir7MsExP+9fbNjCI795A981gCWKY7L5iDi2FKKYMC5uETkGiveAfdk8\n",
              "BzvyHOwo4BhwHUNdVc+gok68MlYNe4hpbGzkW9/6FitXruxx+x133MGLL77Iiy++yH/9r/+14mMz\n",
              "mQxXX301jz/+OK+99hpz587lK1/5ynBfsojIsCgFjYc3N5ENQjzHlE//XP/dLccUZLoX886tr8JP\n",
              "uJTKWiwQHypx6fE+wMGOAumUx5qVCzh1Xj0HOgqDmmwtMlqGNcTEccw111zDXXfdhe8P/lje008/\n",
              "zYoVKzj55JMB+PSnP82GDRv6vH8QBLS1tfV4iyIVoYnI2NA9aEytSVLje0ytSTIj7ZdP/xyNUjFv\n",
              "wnHYlwlobOkgH0bYIz8UgGnpJI+uXcl//8Af8c01Z6gTr4wbwxpibr/9ds4991zOOOOMwz7313/9\n",
              "15xyyil89KMf5Q9/+EPFxzc1NbFgwaHkv3DhQnbt2kUYVi4su+2226irq+vx9txzzw3NixEROQaV\n",
              "Tg2VDOb0T6UxAZkgpLWzwN5MjuZMniCM6TWb8TDdA87BbJ5C1/JMqRPvjz5zLj/49Dv40WfO5YYL\n",
              "lijAyJg0bBVaW7du5bHHHuOZZ5457HPf+c53OP7447HW8r/+1//igx/8IP/xH/9xzF/zC1/4Ajfe\n",
              "eGOP22666aZjfl4RkWOVCUI6CxFJrxhgYmuJY1suTkm4pnz6p1LdSX8deEvBphRcSiW5vbeNKjFA\n",
              "ZxiTcHoW8qoTr4wHwxZiNm7cSGNjI4sXLwZg9+7drF27ll27dnHdddcBYIzh+uuv53Of+xwtLS00\n",
              "NDT0eI758+fzk5/8pPxxY2Mjc+bMwfMqX7bv+4dtW7mu/hKKyOhL+x5VCZe2zmKPltbOAmFksVA+\n",
              "0lxXlSCosBLTvQOv7zp4rkMmVyh30n37nHS5aBc4lGIGuJ+U8pzySozIeDJs20nXXXcdu3btorGx\n",
              "kcbGRlauXMm9997Ltddey549e8r3e+yxx5g1a9ZhAQbgwgsv5IUXXuCVV14B4J577uFjH/vYcF2y\n",
              "iMiwSSVc3rW4geZMQEsmTyGyxBwqug1jS0c+5LPfe+mwAt/1mxp5dXcb1lr2ZfPsas2xL5sHC/+5\n",
              "u5UfbXkLh27ZxYLtJ5MYeuachnRSR6dlXBrx/2qDIOADH/gAQRDgOA7Tp0/niSeeKH/+5ptvZu7c\n",
              "uaxbt47a2lq+/e1vc+mllxKGIcuWLePBBx8c6UsWERkSxhR7sXQvVykddTZAVdI9rL1/rhDx5G93\n",
              "kclHRLHtOh5dbGR3oLOAawyRjXFdg7XFhnXREQJMiWuKX/uCt8/S1pGMS8ba/vL6+HfjjTdy++23\n",
              "j/ZliMgklytEXHL3r2jtzNOcyRPFthwo3K5Gc44xNKST1KYS/Ogz55JKuOzLBLznaz8nG4QkXKdr\n",
              "LECRtZZ8VyFMddIlV4ix1vYbYhwDnuNgsUSxxfdcfvrZP+a4+uphfPUiw0NjB0RkUqt02mc4lAp7\n",
              "fc/FNYaka/ATDn7CKYcT26vAFyDR1XEX6BFgSh+XtoY8x5BwDq3C9LwnJF2DY7q2migGqFTCZc3K\n",
              "+QowMm5pE1REJqX+TvsMx3HiUmFvJlcobinZ4rZQibUWxxgKkaW2W3v/QmxJeQ7ZqLjK0nslBqDa\n",
              "91g0s5bXmzPkokJXUCnyHEi4DvnIdm1nWaZWJ4msZcnMWtaet2jIX6vISNFKjIhMOsPZObcvqYTL\n",
              "hctmEUQxad8ltodCSKmWpdb3yIdxj/b+ad9jZq2P6xjC2BLGMZEt/n8YW1zHMKvW5+t/vpwrzp5P\n",
              "wnVwTXFg44xan8WzalnYUENDTRJDccuqvjrBGjWwkwlAKzEiMul075xbajxX4xdnBPUurB1Ka1Yt\n",
              "ZPP2A7y6uw3XMRS6daRzHUMMnNSrvX8q4fKBU+fwnU1NOEB7EGJtMYzUpjxi4IOnzuW4+mo+d+HJ\n",
              "WGDD8zuZkU6S9A4V6zbUJInimMtOn8eN7ztJhbwyIWglRkQmlaHqnHs0pqd97r58BZefPZ85dSlq\n",
              "fA/XdUj7HvOnVfPxlZVXR9asWsiSWbVgiseh59T7NKSTYOCkWT1DzyfeeQJLZtXSks0fNv9oyawp\n",
              "rD1vkQKMTBhaiRGRSaV359zefM/pt3PusSjV4fzk93uJYsu0miR/8vaZfOSs+cyfVt3n1yuFn/XP\n",
              "7uDpl3fTmY+oTXlctPTwGp5K902nPFYvnTds9T4io0UhRkQmlVKBbTYIqanw+zwIY9LdCmuHSqkO\n",
              "59U97RSimFwhIo7h/l/t4F9e3sP/vuqs4mpLH0ozjdadv4hMEJL2vX5Dz0DvKzKeaTtJRCaVUoFt\n",
              "LowIe01JDKOYIIx6FNYOlfWbGnl1Tzu5fEhnvrhV5brF00JvHujkE/c/P6CC4lTCZXraH9D1Dea+\n",
              "IuORQoyITDprVi3kbTNrac4Eh9WNLO5VWDsUSnU4hTAiiIonijzHwTWGhOviOobdbZ088MvtQ/p1\n",
              "RSY6hRgRmXRKdSNXnLOAdMojjC3plMcVw3TseEdLB7taO2kPiqMD8mFMIYqJre3qDwNghq2gWGSi\n",
              "Uk2MiExKI1U30twecNPjW8l2deCFYiO6Ys8XW56d5BjozEe0ZAL8hKs6FpEBUIgRkUkpV4jK4WU4\n",
              "T+ys39TIH/ZlqKtKsL+jcNjnS511Ywt72wP+/FubsBaqk96wdhAWmQgUYkRkUhmJcQOtHXn2tAfU\n",
              "V3nlnjRVCYcDHQX6m7gbxpam/Z14DlQlPB56tpFN2/dztzrrilSkECMik0bpmPO2ve2kPJek55TH\n",
              "DQxFWHhlVxs3/2grL77RShzb8mTqGbU+rbmwvHV0JGEM2XyxT82ru9uGrYOwyHinwl4RmTS6jxuY\n",
              "WpOkxveYWpNkRtovjxsYiEqTr1/Z1cZHvvkszzceIOo6uh1FliCMefNAJwc7CrhO79nSfTMUe9YU\n",
              "IquCX5E+aCVGRCaFgY4bWHd+3235+9uK+tLjv6M9F5YnVGMPrblYIB/FJNyBh5jYgmssuTCiIwiH\n",
              "pYOwyHinECMik8KxjhvovhWV9BwSrkN7UOChTTt45Dc72NWaB3pkl8OE0UA2kw4xGGILSc8Z8g7C\n",
              "IhOB/laIyKQw0HEDCcewLxMcdsS51HHXAVoyeawFYyCKY8L48OerZHARBmJrwTAsHYRFJgKFGBEZ\n",
              "Ft2PMI+FX8ClcQMPb24ijOIeW0phFNOZD5lXn+Ij39x02FZR2vd48qVdZHIF4q7wYozpalg38Gtw\n",
              "KAaZUoHvkR4aWziuroqr3nnC4F+wyCSgECMiQ2okjjAfrTWrFrJ5+wG27W3H91x8zyEIiwEmjC2v\n",
              "NWepThx+aunLlyyluT0gii0J18EYQ2wHF2AAui/YGNP/1pMB5k6t4n9fddao/7mJjFUKMSIyZIb7\n",
              "CPOxKo0bWP/sDp5+eTed+Yh0ymNefYrXmrPMqvXLKzQ1PuTDiFf3tPO955vIddszyofRoANMiQFc\n",
              "x2CBqoRDTcKlLVegEBWPZKd9j2k1ST546hyuOvcEBRiRfijEiMiQ6X6EuXsYCKO4fIR5tPud9B43\n",
              "kHAMH/nmJqoTh04thVFMSzZPa2eBMLI8+OwOrLXEtlg7c5T5Bc8xRHFxXpIxkC9EeMZQW5VgYUMN\n",
              "//PPTmVKVWLMbMGJjHXqEyMiQ2KgR5jHSr+TVMJletqnENsep5bCKKZpfwf7s3liazEORLbYgG4g\n",
              "dSz9MQY81zC1OonrOIAhiGL+/Mzj+eaaMzhxRprpaV8BRmSAtBIjIkPiWI8wj5bep5ZasnmCMMZz\n",
              "DMYYwjjGdQyF2B5TgIFiAHKNYVZdillAJigQx3DVO7VtJHI0tBIjIkOiFAbyfZw3DsKYqqQ75vqd\n",
              "lE4t5cKIfBjR2lkonz4qbSENptNuXwzFQt66qgSOMTjGEEZQ7Xtj7s9EZLxQiBGRIdE9DIRRzyAT\n",
              "RjFBGI1ov5NKowH6smbVQt42s5bmTJ4wKq64hHFMIbb4nkMYxTjH+NPSGEh5Dg01SWB0/kxEJhrF\n",
              "fxEZMn0dYQ7CiMUza7li1YJhv4ajOeJdOrX0wK+2c+/G7USxxXUMdVUeU6o8du7vxHEcTDz4ot6k\n",
              "W1x1MQZqUwmCMKYtF47on4nIRKUQIyJDpq8jzKuXzhuRPjHHcsR7etrnc//PyWSCkEee20kYx+zP\n",
              "5ovdeYHBlvS6QG2Vy0fOnM+V5y7ke8+/MSp/JiITmUKMiAyp3keYR/K48NEc8e7eWbg9F/K7N9so\n",
              "xLbfUQIOPRvXVeInXWr8JL94bR83vu+kUfszEZnIFGJEZFikEu6I/qLu64h33NUWN+k6PaZUv3Gg\n",
              "gwd/vZ2f/+e+YtFxwqW+ymP7vixTUh4HOgo9nr/7OsxARiUVu/uaHieyRvrPRGSiU4gRkQmh9xHv\n",
              "QhTTkgloy4VYCxZLJgj57c6D/OQ/9vDw5iaCMMIxhrTvkS9EbGtuxzXFo9Wea3DNoVNJYWwJB9Gm\n",
              "N44tuUJMXXVCp49Ehon+ZonIhNC930vSi9m5v4NcGOMYMBji2JLJhVzz0G+6TgYVe8FE1tLWWSDn\n",
              "GQx0BRWL1zUjqcQx4BjbY9xAaZBjJcZAIYq4aOnxWn0RGSYjcsT6/vvvxxjD448/DsAnPvEJlixZ\n",
              "wmmnnca5557L888/3+djjTGccsopLF++nOXLl7Nx48aRuGQRGWe6H/Fubs+RC2MSjsFznGKQMQbf\n",
              "c8jkQoIwxgEKkSWKi9tDubBYB2Nt6a1nPLEUhz96XbmmUoDp3k3GMbBk1hSdPhIZRsO+EtPY2Mi3\n",
              "vvUtVq5cWb7tQx/6EN/61rfwPI8nn3yS1atX09jY2OdzbNy4kfr6+uG+VBEZ59asWsizr+/n35v2\n",
              "g4UYg41jrC0edY5sMVxEtu+6llIwCSOLYyxOt6Z3dSmPmGK/lz1tOaKuOxdXeyh/7DmGj69ayNrz\n",
              "Fun0kcgwGtaVmDiOueaaa7jrrrvw/UN/kS+++GI8r5ifVq5cyZtvvkkYhsf89YIgoK2trcdbFI2N\n",
              "OS0iMvymp33+7kPLSCc9HMeABccYptUkOW5qFdbSY4uoP5Zil+F8GFGIiqMHYms5aVYtD3zybM5Y\n",
              "OI2p1QlqU15XR1+Da2BOXYrHP/0O/vsH/kgBRmSYDetKzO233865557LGWec0ed97rzzTt7//veX\n",
              "Q00l733vewnDkPe+97185StfoaampuL9brvtNm655ZYet3VfARKR8a37cei+6kzmT6tmdl0V7UGh\n",
              "R4v/uGtydBwNrDg34VA+Zl3je8yo9fnTU+eWe7vc819OL/fD6QhCfM/hwmWzuepczUESGSnDFmK2\n",
              "bt3KY489xjPPPNPnfdavX8+jjz7a73127NjB/PnzyWazrFu3jr/6q7/innvuqXjfL3zhC9x44409\n",
              "brvpppuO7gWIyJgxmC68pdqYhzc3FVdiuuYeOcZQk3TZ318DmG7mN1STDWJqUi4PfeJsGnpNlx7N\n",
              "fjgiUjRsIWbjxo00NjayePFiAHbv3s3atWvZtWsX1113HY888gi33HIL//qv/8qsWbP6fJ758+cD\n",
              "UFNTw6c//WnWrl3b53193++xbQXguvqhIjKeHU0X3t7jDzwH9ncUyOYGvm2d9FysNRRCi99Pfxf1\n",
              "fhEZPcNWE3Pdddexa9cuGhsbaWxsZOXKldx7771cd911PProo3zpS1/ipz/9aTmkVHLgwAE6OjqA\n",
              "Yn3NI488wooVK4brkkVkDHrgV9t5dU87DTVJptYkqfE9ptYkmZH2y114eyuNP7jinAVUJRx2twV0\n",
              "5ENqfI959VVH/MHndB09GquTt0WkaNB/MxsbG/nqV7/K66+/3qMY99/+7d8G/Bz/5b/8F2bPns0l\n",
              "l1xSvu1f//VfaWho4Bvf+AZvvfUWX/7yl3nllVf41Kc+hTGGMAw5/fTTufPOOwd7ySIyDjW3Bzzw\n",
              "qz/wrV82EkWWbBBSV5WgIZ3Ecxw818H33B5deLsrbfcUoogNz+1kRm01jjG0ZPN4riHfX22MLX59\n",
              "DKxeOk8rLSJj1KBDzEc+8hHe+973cv311w9qq+bnP/95+f1CodDn/datW1d+f9WqVbz00kuDvUQR\n",
              "GedKW0iv7m4jii3GKY4P2J/Nkw1C5jdU4zkOvuf0aOvfW64Q8dPfN1Od9HCMoWl/B0EY098wx0TX\n",
              "KaQDnXnOnD9NfV5ExrBBh5hcLsdtt902HNciIgJ0G+RY65PNR8TW4jkO1lqCMKYlk2fWlBRBGJNO\n",
              "eRW3e3KFiKb9HXTkQ5KeQ0s2X+7SC4YojstRxgCphEPc1ejOMVCdcPnKh5bppJHIGDboELNs2TKa\n",
              "mpr6rWURETla3Qc5Jj2X2pTHgWyB2MQ4xsEYS2tnganVCXJhxAcWzy4/LhOE5AoR3/vNTv5l6x46\n",
              "8iF72gN81yEfxZiuzr3du/EawHMNsYVFM2qwQGtngdpUgvnTqkfnD0FEBmTAIeZDH/oQxhja29s5\n",
              "7bTTWLVqFalUqvz5H/zgB8NygSIyuZQGOTqOYXdrJ22dBWJrCUJwTHFgYxjHNO3vAAw/evEtvveb\n",
              "nZiu7aWDHQXAUl+VpCrp4ruGTBBiKU6yhmKQKXXudcrBpmuTyUI+jLlo6WzVwoiMcQMOMZdeemn5\n",
              "/SuuuGI4rkVEhLTvkXAMOw92EsUWx1Ae1BjbYm2MoWvbx7HsbQ96bAthwMHQlitQX51g3tRqGluy\n",
              "dBZiClEMOFgslq5TSBiiKMZxDK2dBfJhzOKZtaqFERkHBhxirrzyyuG8DhERoNh3pSGd5A/7siRd\n",
              "g+MUV088IIwiCnFxQrRjoDMf9yjRLa2keB7kwpiWbLF2ZmFDDduaMxSiYnxxjGFqOkldyuNAR4ED\n",
              "nXmqEy61qQQXLa3cRE9Exp5B18R88pOfPOy2+vp6Vq1axerVq4fkokRk/BrIaIAjPX5/Nk+ia2Bj\n",
              "HMcYIIyLKzEAsYWOQlyeGm1McWWmJIqLIae1s8CMWh/PdZhbV8Wu1k6qfY/qrgZ1HYUYDJw5fxpf\n",
              "+dAy5k+r1haSyDgy6BCTTCb59a9/zUc/+lGMMTz66KMsX76cr3/962zZsoVbb711OK5TRMa4wYwG\n",
              "6E8mCAnCmJlTUgSFiLZcSD6My9s/cbewUnrX9joxHcaWhAMWQxxbHNcQxpbjp1Vz0bLZ/OT3e+nM\n",
              "R6RTHquXztPKi8g4NegQ8/vf/55f//rXpNNpAP7yL/+S97///fzf//t/OfPMMxViRCahoxkN0Nfz\n",
              "PPCr7expC4hii+cWJ0MbUyzKNQZyhYHNPirEkHQtjmMIo5ggjFh9xjxuuGAJ179nseYdiUwAgw4x\n",
              "zc3N5QADkE6n2bdvH9XV1YfNLRKRyaHc1yVd3LoBqPEhjOLyaIAbLljS73M0twesW//v/P6tNgpx\n",
              "jLUQhT2PQvfTo64iYwwHOwoEYdSjWFfzjkQmhkHPTjr11FP55Cc/ycaNG9m4cSPXXHMNp5xyCkEQ\n",
              "aNiiyCTUva9LKcCUdB8NkCtE/T7PN3/xOi+9cZAgjPAcU653KQnCmFwYH3Z7JaX7RLGl2ne54pwF\n",
              "3DXA1SARGT8GvRLz7W9/my9/+cvccMMNALznPe/hjjvuwHVdnn766aG+PhEZ40p9XZJezwATW0sc\n",
              "WxKu6Xc0ABSD0A+3vEkU265tI4PrWMLIEnYVwZQWYVzHYAwU+ph9ZAw01BR7xMQxPHDVWRw3VU3r\n",
              "RCaiQYeYdDrNP/zDP1T83IwZM475gkRkfEn7HlUJl2wQUuNDIYrZ156jLReWG8jVVSUI+lmJackE\n",
              "tOUK5Y66AAZDwjVAXA4yCYfyao8hLg9xdAwkXIfalEdD2ifpOuzP5kl3fSwiE9OAQ8yGDRv48z//\n",
              "c77+9a9X/Pxf/uVfDtlFicj4kUq4XLhsFg9vbiKTK7DzQAdhr9rbjiDks997qe8CX3PoHdvrqFHc\n",
              "7eNCDJGNyk3qPKfYdddzDItm1OB29ZQpF/JqArXIhDbgEPPKK68AsGXLlsM+V/qXk4hMTmtWLWTj\n",
              "ay28uPNAjyPQZQZe3d3WZ4FvQ41PTdLlYGdI3O0JKj1VaUhjQ02CqTUJdu7vJB/FHOgoUJVwCcL4\n",
              "sEJeEZmYBhxizjjjDJ544gk+9KEPDef1iMgYM5DmddPTPqcdP4UtTQeAQwsrrmNwHchHFs+xPLV1\n",
              "F6vPmkdDjd/judpzIVVJj4OdYb8HkAyHRgU4jiGV8KivTlKIYmpTHrlCrN4vIpPIgEPMHXfcUX7/\n",
              "3//93znzzDPLy77GGC6++OKhvzoRGTWDaV6XK0RsfHUfjjG4rukKGsW6luL/x2TzIX9ozvCRb2yi\n",
              "Ouny7pNmcOW5Czmuvpr1mxrpLETFmUj9XJOluH1kODTJOoxj1qxcwLrzF6n3i8gkM+AQ87Of/az8\n",
              "/ooVK/i3f/u3YbkgERl9g21eV+qy6zgU/3FjTDnAxNYSxbY81yiTK7CnLcfrzRm+s6mJPz97Hs+8\n",
              "uq847LHraHX5/n2wQD6KaW4POGn2FK5YtUC9X0QmoUGfTgLVwIhMdINtXpcrRHTkI8LYYi2EUTGQ\n",
              "QDGQlFggky8W5nrGEIQRGzbvJILieAADrjHFFZeKxTWHWAsfOXMe1/zxIm0biUxSg252JyIT22Cb\n",
              "1zW3B3zuey/RkQ/LtTClENI7iJRuL9bKOBigM4zJh8Vj1GFkCcL4iAHGAFNSngKMyCQ34JWYl156\n",
              "qfx+Z2cnv/vd73ochTz11FOH9spEZFT01byuxPecHs3rSqs28+qreLM1R0e+/868APlCjDHF+pbu\n",
              "BjpVwAINtUnS/lEtJovIBDHgnwCXXHJJj4+7F/IaY/jDH/4wdFclIqOme/O6qmSx667jGJyubeQg\n",
              "LJ4ASvtej1WbVNKjynMGFGJiGPQcpBLHFLeSLjh5lmpgRCa5AYeY7du3D+d1iMgYkUq4vGtxAw9v\n",
              "bqI5E9BVp0tdVYK6lNejidy+TFBetYmtJZOPcCussBzJkU4ldWe7rvHKcxcO7ouIyISjmhgR6aG5\n",
              "PWDLzlbC2FKIYiJbrFfZlwnY3tLBwoaachO50qpNPoyJu4p6j6bs31LsultJ71tTnsualfM5rl7z\n",
              "kEQmO4UYEelh/aZGdrRkWdhQzfS0j+c4uMbgOYak53D6/PpyMW1p5EAujIitxRiOKsUYiiHGNYc+\n",
              "huLWkecWZygZA1UJl+XH17P2vEVD8VJFZJxTVZzIJNa7G2+PGpeERyrhMaPWJ7YWxxgOdhT4xWv7\n",
              "uLHrZFImCLlkxVx+ua2Fxn0ZEq4hPHJJTGUGjGMwUbFHTE3SJeE6ZIKQ2NryCsza83QiSUSKFGJE\n",
              "JqG+uvG+/9Q5dORDHMeQj2K8roLeUlGv7zlkciH/+P//T/7tlb00twfkwhjfdbpWTBwCEw26JsYC\n",
              "URQTW/ATDtPTPr7nUIgsM6b4vHvJoe6+IiIlCjEik0xf3XgferaRDc/toDmTJ+6qbXEcw9TqBDNq\n",
              "i9tKHfmI1lyB7//7G2SDsNzPpSOKcV2HmqTLtBqf1s4CURxTiPu/lu4iC37CZc05xdWWtO9pjICI\n",
              "9EshRmSSqdSNN+nFtGQD9nccSh2lxnT7Mnk68hHH1ado7cxjKK7MRLbY/M4xBmsthdhisDS3B1Qn\n",
              "XRbNnEIQRry+N3vEk0fTqhP82RnzuPIdCzlu6qHVFoUXEemPQozIJNJXN96WTECu27JJ7yPPHfmI\n",
              "Nw50Fj9nYH82j6U4KqA0qTqOLfs7QqA4WmBPW46p1YkBHZ1+6OpzWHZc3bG/QBGZVBRiRCaRSt14\n",
              "Y2tpy4VHDBsJ15ALLUEY9bhvGFvCCttG+zJ5DnYUBnRdM2uTA7qfiEh3OmItMol07+tSEseW2PaM\n",
              "MJUCTRjFRFGMY0yPGUn9CfuYgdT9JLYxcLAzHMjli4j0oBAjMol07+uSDyPCKAZD+fRRiaEYLrrf\n",
              "nAstVUkXS8/bB6t3AEo4hlm1OjItIoM3IiHm/vvvxxjD448/DsDevXu58MILWbx4McuWLeOZZ57p\n",
              "87FPPvkkJ598MosXL+bDH/4wbW1tI3HJIhPW+0+Zg+85bGvO8OqeDP+5u52g136QpTifqPdSy5RU\n",
              "Agc4wpDpPnXPPq4pfrxi/lTqqrWdJCKDN+whprGxkW9961usXLmyfNtf//Vfs3LlSl577TXuv/9+\n",
              "Lr/8cgqFw/fOM5kMV199NY8//jivvfYac+fO5Stf+cpwX7LIhPXGgQ7++w+30pEv9oaJrO03kJQ+\n",
              "5XedQmrOBET26BKModiB13UMjikGodqUx1cuXXZUzyciMqwhJo5jrrnmGu666y58/9By8aOPPsq6\n",
              "desAOOuss5g7dy6/+MUvDnv8008/zYoVKzj55JMB+PSnP82GDRv6/HpBENDW1tbjLYqOtn2oyMTR\n",
              "3B5wx0/+k4vv+iVbmg6QDUKsLYaKI+0MeY6hrjpBwjUUIovnmEFPFpg3tYozF0zF7ToR5boOZ58w\n",
              "je9f9w6WzKo9qtckIjKsp5Nuv/12zj33XM4444zybS0tLRQKBWbPnl2+beHChTQ1NR32+KamJhYs\n",
              "WNDjfrt27SIMQzzv8Eu/7bbbuOWWW3rc1n0FSGQyKjW3e21PG225EGMMsbVk8wML+GFs2Z/NU+O7\n",
              "RLElsgOfOF1y6Wlz+dyFJ9PakWdPe8CsWl9bSCJyzIZtJWbr1q089thjfOlLXxquL3GYL3zhC7S2\n",
              "tvZ4O/vss0fs64uMRaXmdtOqk8URAgy+piWMLZ1ByMwpKaZVJ3C6DWo80qrMnLoUV73zBADqqpMs\n",
              "mVWrACMiQ2LYVmI2btxIY2MjixcvBmD37t2sXbuWW265Bc/z2L17d3k1prGxkfnz5x/2HPPnz+cn\n",
              "P/lJ+ePGxkbmzJlTcRUGwPf9HttWAK6rjp8yeXVvbpdMuBgDha4Bi4OVj+Gtg8WGd6UQ1N/zGGB2\n",
              "XYoHP3m2BjaKyLAYtpWY6667jl27dtHY2EhjYyMrV67k3nvv5brrrmP16tV84xvfAOD555/nzTff\n",
              "5LzzzjvsOS688EJeeOEFXnnlFQDuuecePvaxjw3XJYtMON2b2znGUOu7RxVgSmLb9ypOynNoqEky\n",
              "e4rPohk1fObdi/jxX7xTNS8iMmxGpWPvV7/6VdasWcPixYtJJpOsX7+eRCIBwM0338zcuXNZt24d\n",
              "tbW1fPvb3+bSSy8lDEOWLVvGgw8+OBqXLDIulZrbZYOQGh+mVidpyRYGFWR6jyCodLsBLj/7eP7b\n",
              "RW/X0EYRGTHG2qM8LzlO3Hjjjdx+++2jfRkiIyZXiHoEiTt+8p88vLmJGWmf2Fpe25sZcE1Mf515\n",
              "u3fcdYzhhBk1/Pj6dyq8iMiI0ewkkQmiuT1g/aZG/mXrHjoLxT4wFy2bzQdOncvm7Qd4dXcbmXzE\n",
              "YP7Z0tddky44xgEDcVycv9QRFMOTQoyIjBSNHRAZB3KFiH2ZgFyh8rHo0jHqhzc3kQ1CPMeQDULW\n",
              "b97BzT96mS9fspTFM9NEkcV1Bjc2wK3QF8YxDsYYDIZSmXC175L29e8iERk5+okjMob1tbpyxaoF\n",
              "PU78lI5Rz0j7eF0N5Wr84tDGbXvbeWLLmxzsDJlV51NXlSC2xefen80f8Rqi2OIYyis4DmC6UpC1\n",
              "ljiGpGf4wLI5WoURkRGlECMyRpVWV7btbS8ekfac8urKpu37ufvyFUxP+z2OUZcCTInnOviey9Mv\n",
              "7yYfxsX7OA6xtUxPJ8nkCoRx/6MHoBhgSoW8FshHEWCw1uIYw9K5dVyxakH/TyIiMsQUYkTGqNLq\n",
              "SkNNEscxOMZQ43vl1ZX1z+7ghguW9DhGXYnvOeTDGN9zyAYRbbkCBzoKxPHh/WJM6X96deU1wFXn\n",
              "LqAQWp7aupu2XHHW2ZSqJJedfhxrz1ukXjAiMuIUYkTGoFwh4smXdhGEMY0tHcWVEAN1VQka0sny\n",
              "6sonzl1IEEakEg4dQURNhRwRhDHplMc7TpzGdzY1Efaz7GLL/1Ocq5RwHcIoxjiGq995IsdNreaL\n",
              "H/wjWjIBGGio8bWFJCKjRiFGZAza0dLBGwc6KYQxjlOsQbEW9mfzZIOQqdVJdh3s5MP/9GsKkSWT\n",
              "K5ArxPhJh2TXxGnHGMIoJggjVi+dRzZfIB7g0SRDMcA4xoAxh1ZogFTC5bip1cP10kVEBkwhRmQM\n",
              "+ufnGgnCGAAbA1hcx+AayIUxu1o7wUA6cEl4Lq4x5MKI1/dmcQ04jiGVcEm4DifNquXi5XO45sHf\n",
              "lGcdHWlcgKVY0GucYvHulKokDZWWeURERpFCjMgY88aBDv75+Td7FNJCcQhjbA61/U+5Di0dBWKb\n",
              "J+w2D8lSvE9HPmRmbYpFM6q59qF/Z0dLB9EAFmK6f71S4e5lpx+nbSMRGXMUYkRGQe+uut09+OtG\n",
              "gjDCcwyR7XlyqPv7uTDGc4onh7q3/3cNnDijhjCOadrfyWMvvMm06mSxN8wg+3MnPIdlc+tYe96i\n",
              "o3mZIiLDSiFGZAQdqe9LrhDxi1ebu2pRIOk4FGJL1EcxbmkgY/dVm8gWxwC056KuHi+G+pok+Sim\n",
              "OXPkvjBQfD7PNVzzzhO46twTdPJIRMYkhRiRETKQvi8AuUJMbcqjPReC6TajiMMXUrpnG9PVkM5a\n",
              "iLG0dhbKt8WxZXrap60zT1C56W8PU1IOa1aewOf+n5OH4qWLiAwLjR0QGSHdu+pOrUlS43tMrUky\n",
              "I+2X+76Upk6nEi6+V1yF6etIdPdRAN2PRhtTDC3Fg0imOKDRMXiuw4kzao94nQb4o7lTueqdJxzb\n",
              "CxYRGWYKMSIjYCBddf/P1l20ZAL+5O0zKUQxc+tTTK1O9JgkXTpdVPq4u9LnE67T9TWKhbl1VYni\n",
              "9lTX1zqhof/j0Zedfhx3dXUDFhEZy7SdJDIC+uuqW4hiskGBve05PvLNTaQSDqmES0u2QCrh4Lmm\n",
              "3F23NMOoz1NGBqoSLm2dIZ7rENuYulTPv+aphMuUlIu10N5tb2n2FJ+v/dmpvHPJzCF85SIiw0ch\n",
              "RmQElLaJskHYo6tuIYrZub+DzkKEYwxJzxAUYjryIVVJj6qEQ1XCJROEGKCrdUwProFpNT7ZfIgF\n",
              "anyPdMrjA6fM5t+bDrKjJYtfKI4dCMJi87ulc+u56/IVxHHM9pYOTmioZuaUqpH64xARGRIKMSIj\n",
              "IJVwuXDZLB7e3EQYxeUtpZZMQK4QY4BpNUnSfgJ8qE15NGcCPrR8Lu9aMoNPPPAcHfkKCYbiqkwY\n",
              "x6x914msPnMefsItH93elwlY/+wOnn55N535iHTKY/XSeT2mYCu8iMh4pRAjchT66/PSlzWrFrJ5\n",
              "+wG27W3H91wSruFARwGLpSrh0pBOEltL3HVmOuE6PLV1F5u376ezjwCTdA2FrmPU685fdNi1TE/7\n",
              "3HDBEtadv2jQ1ysiMtYpxIgMwpH6vPRnetrn7stXlFdGMrkQY2BK1yml5rYc7UFEIYrpPuLorYO5\n",
              "Q83sek2Yjm2xTqYtV6AlE/Q50yjVdeJJRGQiUYgRGaCB9HkZSJAprYy8tredK+97jrZcSGtnR5/N\n",
              "dIPehTBdvWOs7ZpvVDqyZCo8WERkAtMRa5EBGkifl4Fqz4X8j//zCrlCXJxR1M99zWENYXqyFqak\n",
              "EhrQKCKTjkKMyAAMpM/L0y/vJlfovx1urhCxLxPwwK+2s21vO7Pqjhw8uve6sxRDSynMlI5da0Cj\n",
              "iExG2k4SGYD++rwA+J5DZ75Y7FspTHSvpenIh+xpD0i6hvZc4aiup5RrPAeWHz9VAxpFZFJSiBEZ\n",
              "gL76vJQEYUw65ZH2D/8r1b2WxncdjDGEUUw+PLZr8hzDJ89dyNrzFqm7rohMStpOEhmAUp+XXBgR\n",
              "Rj0LbcOo2EDuoqWzK67CrN/UyKu727DWsi+bZ097rsfpo8HoPgzy+GlV3Pi+kxRgRGTS0kqMyAD1\n",
              "7vPSvQPu4pm1XLFqQY/75woRLdmAH//2LTL5iCi2OAYMhv5LeQ/nGEi4BoMhssXhjvnQ9rl9JSIy\n",
              "GSjEiAxQ7z4vpQ64Hzp5LhevOK68ldS9/iUThLx1sBOApGcwxoAtNqnL9zkA6XAJ1ykPcSwt49T4\n",
              "bsXtKxGRyUI/AWXSOJouu7117/OyoyXLEy++xU9+v5cnXtpFVcLlj5dM54WueUUpz8V1DhXhBqHF\n",
              "dH00mHUY11AOMLaro6+fcHn/sjlahRGRSU0hRia8Y+my25f2XMjfPPEfhzW+e3hTE/ko5vipVVT7\n",
              "HnHXFlLc7Uh0qS/dQINMDOSjGChuI7mO4e1zphy2fSUiMtkoxMiENhRddivp3viu1Dcm4cW81dpJ\n",
              "bGHH/g4SrsOU1MD+ivUONZ5juHTFXKo8l6e27qYtVwAMU6oSXHb6cTqRJCKCQoxMcJXCRo1fPFFU\n",
              "6rJ7wwVLBvWclRrfhVHMzv0d5RWX2EIUx7Rk8z2a1XXndq3QpBIO86ZWkw1C/ITDu0+aydXvPKE8\n",
              "B+mLH/wjWrIBWGhI+9pCEhHpohAjE9ZAu+xWmv7cn0qN71qyeYIwLq+oGMBzHKy1BL0KeD3XlDvv\n",
              "+q5hWo3PA588C99zK9brpBIux9VXHuwoIjKZDWuIed/73sfu3btxHIfa2lq+/vWvM3/+fN773veW\n",
              "79PR0cEf/vAH9u7dy7Rp03o8vrGxkUWLFnHKKaeUb3vsscdYtEjdSeXIjrXLbl96N76LraW1s1A8\n",
              "Pu0Ywm5LL8Yc2igygOMUj0k7BuqqEzjGkE55NNRohUVEZLCGNcQ8+uij1NfXA/DDH/6Qq666it/+\n",
              "9re8+OKL5ft87Wtf4xe/+MVhAaaktra2x/1FBupYuuz2p9T47uHNTcXGd6a4qmKMwTGW0tDpyNqu\n",
              "EFN6nMP8hmocDI5jiGNLcybos0meiIj0b1g79pYCDEBra2uPH+gl9913H1dfffVwXoZMUsfSZfdI\n",
              "1qxayNtm1tKcCWjtLGCxRFFMGEN10qWhJlk8Fm2LtS+eY6hKuGRyEUEYc7CjQHMmqNgkT0REBmbY\n",
              "a2I+/vGP87Of/QyAp556qsfnfv3rX3PgwAE++MEP9vn4bDbLWWedRRRFXHrppXzxi1/EdSv/0gmC\n",
              "gCAIetwWRf1PFZaJbbBddgeqd+O7TC4kmw+ZWpVgRm2xiHiWteTDiP0dBS5bcRzVSa9Hk7zVS+cd\n",
              "0zFvEZHJzlh7tFNcBufBBx/kkUce6RFkrr76ahoaGviHf/iHio8JgoDW1lZmzpzJ/v37+ehHP8oF\n",
              "F1zAf/tv/63i/f/2b/+WW265pcdtK1eu5Nlnnx26FyLjzr5M0KPLblXS5aKlx9YnprtcIaJpfwdf\n",
              "+uFW/rAvUzEs3dV1lHsoGu6JiEjRiIUYgKqqKt544w0aGhrIZDLMmTOH559/npNPPnlAj9+wYQPf\n",
              "/e53+fGPf1zx85VWYm666SbuvPPOY752Gf+GMkBUeq7hDksiItLTsG0nHTx4kI6ODubOnQvA448/\n",
              "TkNDQ7mA95FHHuG0007rN8Ds3buXqVOnkkgkCIKAH/zgB6xYsaLP+/u+j+/3/GXR19aTTD6phHvM\n",
              "4eVI3X9LIwm02iIiMvyGLcS0trayevVqOjs7cRyHGTNm8OSTT5aLe++77z6uvfbawx538803M3fu\n",
              "XNatW8cvf/lLbr75ZlzXJQxD3vOe9/DFL35xuC5ZpF8D7f47FGFJRESObES3k0bDjTfeyO233z7a\n",
              "lyETwB0/+U8e3tzUo/svFE86NWcCrjhnwaC7/4qIyNEb1iPWIhPFQLv/5go6DSciMlIUYmTSyhUi\n",
              "9mWCAQWPwXT/FRGRkaHZSTLhHOkU0pGKcysZru6/IiJy9PQTVyaMgYSTgRbn9tZ71EDvmpggjFi9\n",
              "dJ4KekVERpC2k2RCKIWThzc3kQ1CPMeUw8n1393Cvkyxf9D6TY1s29vOjLTP1JokNb7H1JokM9I+\n",
              "2/a2s/7ZHUDlrabuowb2Z/Nkg5D92bzGB4iIjBKtxMiE0D2clFZJavziKkkpnKw7f9ERi3OfeOkt\n",
              "WnN5frWthVwhPmw1p/uoAY0PEBEZXQoxMu4N9OTQ6rPm9VmcG0YxmaDAWwdDtjdncR1DbcqjEMWH\n",
              "bTWpoZ2IyNig7SQZ9450cijpGjK5kKBrZSUfHj7Ruml/B62dIRZwHTAG2nMhbZ0FplYnemw1QbFG\n",
              "ptTYTkRERodCjIx7pZNDlcLJnrYcOw90src9x6e+8+/UV3l0FCLC6NB9W7J5OrtqXxwDCdfFcxw8\n",
              "xxCEMa2dofrAiIiMQQoxMu6VTg7lwkPhpLS60pIJiK2lJunRmY94bW+mGG7ai8W5mVyB/dk8AAZw\n",
              "u8ZiABhjMAZaOwskXaM+MCIiY4xCjEwIvU8O7WrNda2uGKoSLnPqUkytSTJrSgrPMSyemSad8shH\n",
              "FmOgNuWRcE0xyXRjjMFayIUxVUlXfWBERMYQhRiZEEonh644ZwE1vks2H+IYQ0M6yfxp1eWCX891\n",
              "qEp6HOws8J1PnsU315zOgoZqav0EdVUJYgvdx4kV37fko5iLls5WDYyIyBiif1bKhFE6ObT6rHl8\n",
              "5BubSLiGGt8jji2xtThdW0WeA7sOdvLn39pMIbJkcgVyhZhZdT4d+YhcGOMYiwGi2JJKuCxRHxgR\n",
              "kTFHIUYmnIYan5TnsLc9x67WHNYWTxvVVSWoS3nsas0RWUtt3sNPuPieS1su5I0DnUytTpJwYzJB\n",
              "SGQtvudyxTnzWXveIvWBEREZYxRiZMJpz4XkoohMEOE6BscYImtpyeTZn80TxpbpNUmmdYWSGt8j\n",
              "7bu8cbCTKLZMqUowY4rPu5fM4MpzF3JcffUovyIREalEIUZG3ZEGNg72ue595nU6gohUwiEfxoTW\n",
              "Yi1Y6PofqKvyCKMYpyvkpJIe02p8qn2XB646iwb1gBERGfMUYmTUHM006SM911O/2832fVkiW6xp\n",
              "iW3l+7++r4OEWwwwdVUJGmqS+J5DUIjxE64CjIjIOKAQI6PiaKdJ95YrROxo6eCmx7fyenMGay1h\n",
              "V3LpnV+MgW4Hj4hjC06x2V02CKlNJairTugYtYjIOKGf1jIqBjKw8YYLlvT5+O6rOG+1dpLJhYeF\n",
              "lt5srzvEFhKOwbWQK8TENs/HzjpeqzAiIuOE+sTIiBvowMbuLf5zhYh9mYBcISqv4jy8uYnWzgLt\n",
              "AwgwlVggjiGyFosFDKvPmndMr01EREaOVmJkxHUf2BhbSxzbcoEtgO855Rb/7bnwsLqZ+iqP15qz\n",
              "zKr1ac4Eg/76SRfCmK5i32L/mJqUR43v4XtahRERGS8UYmTEpX2PhGPY254jH9kefVwaapIEYUw6\n",
              "5ZErRHzuey/1qJtp78yzbW87rmOYUevTnhv8LCODwTEwNZ1kejqJYwwHOwqkU57qYURExhH9xJYR\n",
              "V6mPS2wtLdk8mSAk5TmsPmMe3/vNznLdjAVaMgGtnQUiC1Fk2bm/g6iv40f9CLu68E5PJ/EchzCK\n",
              "CcKI1UvnqR5GRGQcUU2MjLj1mxrpzMekPIO1ltjGxYnRWDrzEdVJj9VnzSvXzVhg5/4O9ncUiLtV\n",
              "53bko/JJpIEwQCrh4CdcplQlCAox+7N5mjMBizVWQERk3NFKjIyoXCHiyd/uohBGxBgsljiG2MZ4\n",
              "jqEq5ZJKFLN1ZyHCcw3NbcWJ1EnXwRgHayOio6jkveyM4/ivf7KE7/3mDZ5+eTed+Yh0ymP10nlH\n",
              "1ZtGRERGl0KMjKgdLVneONhJIYqBQ83orC2+1VV55CPL/kyeTK5AWy4sr7aEscVzIOE6RGE84K+Z\n",
              "cAz11Ul+92YbDV1DItedv2jIugSLiMjo0HaSjKgnXnyLMIqJbTHAGIpvAIXY8taBHI6Brzz5e3KF\n",
              "mKjb9lEYW/JRjLV2wP/hViUc3jYzTW3KK594ArpqYjRaQERkPFOIkRGTK0T89Pd7cZ1ibDEUe7V0\n",
              "3xmKgb1tObbtbee4qSmqeoWM2EI+sqQSDknXlG/3PYPhcLEFxzEEYUxV0tXpIxGRCUQhRkbMjpYO\n",
              "drV2ko8qjwUo6SjEZIIIz3E4rr6KhNsznlggH8bl/3hdA45xeoSj0u3WQr4QEYQRFy2drZUXEZEJ\n",
              "RP8slRHR3B5w0+NbyQYD6+tSiGKa2wM6C1FxxlEvoYWwKwzFQBjHOF0nnIq9d4tia9nfkWfJrCk6\n",
              "fSQiMsEoxMiIWL+pkT/sy1BXlWB/R+GI97fAgY58sRGeQ5/LNgZwzaGtpKTn4DmGQhQTxpb6qgRr\n",
              "Vi7Q6SMRkQlIIUaGXfdZSbUpr8eJo/6Uj1EP4CBSbSpB0nNIeQ75yJILIxY21PD1jy3nuKnVx/YC\n",
              "RERkTBrWmpj3ve99nHrqqSxfvpx3vetdbNmyBYCFCxdy0kknsXz5cpYvX84jjzzS53Pcd999LF68\n",
              "mEWLFnHttddSKBz5X/EytnSfleS5Dgsajj1UlE41FctgLJcsn8uUqgSRhXTKY805C/jmmjMUYERE\n",
              "JrBhXYl59NFHqa+vB+CHP/whV111Fb/97W8BeOSRR1i+fHm/j9++fTs33XQTL7zwArNmzeKSSy7h\n",
              "3nvv5TOf+cxwXrYMsbTvUZVwyeQK+J5Tbvm/L5M/quczpWNNAAaMMVz9zhP4bxeerN4vIiKTyLCu\n",
              "xJQCDEBrayvGVDoE27fvf//7XHzxxcyePRtjDOvWrWPDhg1DfJUyHHKFiH2ZgFwhoj0XUlflsbs9\n",
              "x7bmDNv2ZioW63ZnDHhOH/+92GKGcR2DtTAllaChq+eLer+IiEwew14T8/GPf5yf/exnADz11FM9\n",
              "brfWcvbZZ/P3f//3zJgx47DHNjU1sWDBoRMlCxcupKmpqc+vFQQBQRD0uC2KomN9CZNOrhAd9YpG\n",
              "c3vA+k2N/MvWPXQWIhKuIVeIyeZDXGOIYkuM5UBH/4UurjF4bvH+veNO6fRRbC2uY7js9OMUXERE\n",
              "JqFhDzEPPfQQAA8++CCf//zneeqpp3jmmWeYP38+hUKBL33pS1x55ZU9As7Ruu2227jlllt63LZy\n",
              "5cpjft7JoncAqUq4XLRs9oBP9jS3B/zFhi1s29tOynNJeg572wMyuZCqpMuChmpaO0NaOwsEXWMD\n",
              "qhIOkYU4tuXAYoAotniuwXWLQyKjbpnHodjALuk5vH3OFNaet2hY/jxERGRsG7Fmd1deeSU/+9nP\n",
              "aGlpYf78+QAkEgluuOEGNm7cWPEx8+fPZ8eOHeWPGxsby4+t5Atf+AKtra093s4+++yhfSETVCmA\n",
              "PLy5iWwQ4jmGbBCyfvMOrv/uFvZlgiM+x/pNjWzb286MtM/UmiRVSZd8GOM6EIQxrZ0hs6akWDi9\n",
              "hoRrcI0htjAl5WEpFekeYq3FWphalWRadYLT59ezeGaaOfVVnDijhrXvOpFvrjlDR6dFRCapYVuJ\n",
              "OXjwIB0dHcydOxeAxx9/nIaGBlKpFAcPHizXy2zYsIEVK1ZUfI7LLruMd77znfzt3/4ts2bN4hvf\n",
              "+AYf+9jH+vyavu/j+z1/obmuthkGonsA8dxitq3xIYxitu1tZ/2zO7jhgiWHPa609ZRwTPkYdenx\n",
              "cVcIcRwHay2tnQVm1Pp4jsExhtjEWGuYWpWgMx+RK8TlZnUAhcjiuQ6xtZw0ewp3Xb6CtO+peFdE\n",
              "RIBhDDGtra2sXr2azs5OHMdhxowZPPnkk+zZs4fLLruMKIqw1nLiiSeWt5wArrnmGi6++GIuvvhi\n",
              "TjzxRG655RbOPfdcAM4//3w+9alPDdclT1rd+7iUAkiJ5zr4nsvTL+9m3fmLysGhUu3LvvaA+ppk\n",
              "+bGOMRhTDDOGYhFuHBeDSV1Vgn2ZAONAMuEyf1o1Ldk8BzvyFCKLY6DG95hR6/Onp87tsaWl8CIi\n",
              "IjCMIWbBggU899xzFT9X6hdTybe//e0eH1977bVce+21Q3pt0lP3Pi6V+J5TngCdSrgVa19y+YhM\n",
              "vvg81TPd4kqLtUxJJYqddykW4Tpde0Z1VR4HOvI4Bg52FI9eJ1yH2pTHCdPT/MPqU5iSSmrFRURE\n",
              "+qSOvVLu45INQmoqlJcEYUw65ZUnQFfeevLIhRH7swV27MsS2eLwRdPVjC6KoSrh0pmPCMKYIIw4\n",
              "dV49Z8yv5xev7aMzH5FOeaw+Y55GBIiIyIAoxAiphMuFy2bx8OYmwijusaUURsXAsXrpPFIJt9+t\n",
              "p6nVSfZnC3QUYlwDxjHYyBJbSHgODekkYWyLYWXpobBy4zEc6RYRkclLIUYAWLNqIZu3H2Db3nZ8\n",
              "z8X3nPKKyeKZteUJ0P1tPbV2FsrjADzXKa7EuIZ00iWylgv/aBbXnLfosLCSSrgKLyIiMmgjdsRa\n",
              "xo7u3XRLpqd97r58BVecs4B0yiuvmFxxzgLuunxFeXuntPWUD3s2q4utpS0XYkxx1eXEGTUsmFZF\n",
              "bcojk49oDyL+97M7eOBX28kE4Yi+XhERmZi0EjOJHKmZ3fS0zw0XLGHd+Yv63N7pa+spji2xLR6O\n",
              "rqtKYC281ZojF8Y4plgbE0WW7z63k9/sOMjd3YKRiIjI0dBKzCQxmGZ2R5pBtGbVQt42s5bmTMD+\n",
              "bJ5sUOzCWxoD0JBO0pIJyIUxCcfgOU7XFpNhRjpZ7jsjIiJyLBRiJone3XRrfI+pNUlmpP1Bh4pK\n",
              "W0+1VQnOnD+VdCpBHBe3lpyuCdOlzrt1VQmSnlvuO9N9O0tERGSwtJ00CRxNM7sjKW09feLchexp\n",
              "D5hV61OILdd/dwuv7m4jjC3GQBjHWFvsNdOQLjbC6913RkRE5GgoxEwCg21mNxB91dd8+ZKlPLHl\n",
              "Te795XaiyOK6hrrqBA3pJJ5T/Pq9+86IiIgcDf0WmQQG28zuSCp17C3V12zavp+7L1+BBTY8v5MZ\n",
              "6SRJ71Aw6t13RkRE5GipJmYSKJ0oyoURYdTzaHQpVFy0dPaAQ8VA6ms+8c4TWDKrlpZsvlz8uz+b\n",
              "pzkT9Og7IyIicrQUYiaJSieKjiZUDLS+Ju17A+o7IyIicrS0nTRJlE4UrX92B0+/vPvQrKKlg5tV\n",
              "NJj6moH0nRERETlaCjGTyFCEiqOpr9FYARERGQ7aTpqEjtTM7kiPHcr6GhERkaOllZgJLjcME6IH\n",
              "OixSRERkOCnETFBHmpPUl4GEnqGqrxERETkWCjET0ED6uPQOGoMNPSraFRGR0aaamAmorz4uDTVJ\n",
              "Xt3dxgO/3N7j/oMZDtnbsdTXiIiIHAuFmAmmUh+XQhSzu7WTxpYOWnMh9/5yO1/7v6+Uw8lQDocU\n",
              "EREZKQoxE0zvPi6FKGbn/g72dxSIbXEoYxRZvvvcTq7/7hbePNAxoOZ1mjgtIiJjjULMBFPq45IP\n",
              "i8efWzIBuTAm4Rg8x8EAnmuYkU6ybW87D/66ccDN60RERMYShZgJpnsfl3wY0ZYLcQwYY7DWYi3U\n",
              "VSVIei6+5/LzV5vxPaccenoLwpiqpKuJ0yIiMuYoxExA5TlJ7QFhbLFAGMeEscX3HBrSSaC4ypIr\n",
              "xJx/0nQ1rxMRkXFHIWYCKvVxufzs+biOwcbgGMO0miTzG6rxnOK3vbTKctW5JwzJcEgREZGRpD2C\n",
              "CWp62udzF56MBTY8v5MZ6SRJ79BqSmmVZfXSeRxXX63mdSIiMu4oxExwn3jnCfx708EjjghQ8zoR\n",
              "ERlvtJ00DuQKEfsywVEdcy5tLV1xzgLSKY8wtqRTHlecs4C7KnTuVfM6EREZL7QSM4Yd7fyj3rTK\n",
              "IiIiE5FCzBh1NPOPjiSVcBVeRERkwtB20lE6li2egdAoABERkf5pJWaQhmqLpz+V5h+VdB8FsO78\n",
              "RVpZERGRSWtYV2Le9773ceqpp7J8+XLe9a53sWXLFnK5HJdeeilLlizhtNNO44ILLmDbtm0VH9/Y\n",
              "2Ijruixfvrz89vrrrw/nJffrWKY9D0bv+Ue9aRSAiIjIMK/EPProo9TX1wPwwx/+kKuuuorNmzez\n",
              "du1aLrroIowx3H333VxzzTX8/Oc/r/gctbW1vPjii8N5mQPWfYuntEJS4xd7rpS2eG64YMkxf53S\n",
              "/KNsEFJTYXEnCGPSKU+jAEREZFIb1pWYUoABaG1txRhDKpXi/e9/P8YYAFauXEljY+NwXsaQGOgW\n",
              "z1DUyHSff6RRACIiIpUN+z/lP/7xj/Ozn/0MgKeeeuqwz995551ccsklfT4+m81y1llnEUURl156\n",
              "KV/84hdx3cq/vIMgIAh6bulE0dAU3g5mi2cowsWaVQvZvP3AEZvUiYiITFbDfjrpoYceYufOnfzd\n",
              "3/0dn//853t87tZbb2Xbtm3cdtttFR87Z84c3nzzTZ5//nl++tOfsnHjRv7xH/+xz6912223UVdX\n",
              "1+PtueeeG5LXUdriGalpz4NtUiciIjLZGGutHakvVlVVxRtvvEFDQwNf+9rX+Od//md++tOf9th2\n",
              "6s+GDRv47ne/y49//OOKn6+0EnPTTTdx5513HuulA3DHT/6Thzc39aiJgeIWT3Mm4IpzFgxJTUxv\n",
              "uUKkJnUiIiK9DNt20sGDB+no6GDu3LkAPP744zQ0NDBt2jRuv/12NmzYcMQAs3fvXqZOnUoikSAI\n",
              "An7wgx+wYsWKPu/v+z6+33OFoq+tp6MxWls8alInIiJyuGELMa2traxevZrOzk4cx2HGjBk8+eST\n",
              "vPnmm3z2s5/lxBNP5N3vfjdQDB+bN28G4Oabb2bu3LmsW7eOX/7yl9x88824rksYhrznPe/hi1/8\n",
              "4nBd8hGVtng07VlERGT0jeh20mi48cYbuf3224f8ebXFIyIiMrrUaOQoaYtHRERkdGl2koiIiIxL\n",
              "CjEiIiIyLinEiIiIyLikECMiIiLjkkLMKMkVIvZlgiGZtSQiIjIZ6XTSCGtuD1i/qZF/2bqHzkJE\n",
              "VcLlomWz1WdGRERkkLQSM4Ka2wP+YsMWHt7cRDYI8RxDNghZv3kH1393C/sywZGfRERERACFmBG1\n",
              "flMj2/a2MyPtM7UmSY3vMbUmyYy0z7a97ax/dsdoX6KIiMi4oRAzQnKFiH/ZuoeU5/YYHgnguQ6+\n",
              "5/L0y7tVIyMiIjJACjEjJBOEdBYikl7lP3Lfc+jMF0cZiIiIyJEpxIyQtO9RlXDJh3HFzwdhTFXS\n",
              "Je2r1lpERGQgFGJGSCrhcuGyWeTCiDDqGWTCKCYIIy5aOlvzmERERAZI/+wfQWtWLWTz9gNs29uO\n",
              "77n4nkMQFgPM4pm1XLFqwWhfooiIyLihlZgRND3tc/flK7jinAWkUx5hbEmnPK44ZwF3Xb5CfWJE\n",
              "REQGQSsxI2x62ueGC5aw7vxFZIKQtO9pC0lEROQoKMSMklTCVXgRERE5BtpOEhERkXFJIUZERETG\n",
              "JYUYERERGZcUYkRERGRcUogRERGRcUkhRkRERMYlhRgREREZlxRiREREZFxSiBEREZFxSSFGRERE\n",
              "xiVjrbWjfRHD6cMf/jALFy487PYoinjuuec4++yzcV21/x/r9P0aX/T9Gj/0vRpfJtP3a8GCBfy/\n",
              "/+//2+99JnyI6UtbWxt1dXW0trYyZcqU0b4cOQJ9v8YXfb/GD32vxhd9v3rSdpKIiIiMSwoxIiIi\n",
              "Mi4pxIiIiMi4NGlDjO/7/M3f/A2+74/2pcgA6Ps1vuj7NX7oezW+6PvV06Qt7BUREZHxbdKuxIiI\n",
              "iMj4phAjIiIi45JCjIiIiIxLkybEvO997+PUU09l+fLlvOtd72LLli0AvPbaa7zjHe9gyZIlnHXW\n",
              "Wbz88sujfKUCfX+/Fi5cyEknncTy5ctZvnw5jzzyyChfqZTcf//9GGN4/PHHAdi7dy8XXnghixcv\n",
              "ZtmyZTzzzDOje4HSQ+/v1/nnn88JJ5xQ/rt1xx13jO4FCtD3zzz97upiJ4kDBw6U3//BD35gTz31\n",
              "VGutte9+97vt/fffb6219nvf+54988wzR+HqpLe+vl8LFiywW7ZsGZ2Lkj5t377drlq1yq5cudL+\n",
              "8Ic/tNZa+4lPfML+zd/8jbXW2ueee84ed9xxNp/Pj95FSlml79d5551Xfl/Gjr5+5ul3V9GkWYmp\n",
              "r68vv9/a2ooxhr179/Kb3/yGK664AoDLLruMnTt3sm3btlG6Simp9P2SsSmOY6655hruuuuuHsc+\n",
              "H330UdatWwfAWWedxdy5c/nFL34xWpcpXfr6fsn4od9dh0yaEAPw8Y9/nOOPP56bbrqJ73znO+zc\n",
              "uZM5c+bgeR4Axhjmz59PU1PTKF+pwOHfr+63n3LKKVx99dU0NzeP4hUKwO233865557LGWecUb6t\n",
              "paWFQqHA7Nmzy7ctXLhQf7fGgErfr5K//uu/5pRTTuGjH/0of/jDH0bh6qSS3j/z9LvrkEkVYh56\n",
              "6CF27tzJ3/3d3/H5z39+tC9HjqDS9+uZZ57hpZde4oUXXmD69OlceeWVo3yVk9vWrVt57LHH+NKX\n",
              "vjTalyID0N/36zvf+Q6vvPIKL730Eu9617v44Ac/OApXKL3pZ94RjPZ+1mhJpVJ29+7dtra21hYK\n",
              "BWuttXEc21mzZtnXXnttlK9OekulUnbfvn09bnvrrbdsOp0epSsSa62955577OzZs+2CBQvsggUL\n",
              "rO/7dsaMGfaee+6x1dXVdteuXeX7nnXWWfYnP/nJKF6t9Pf96s33/cP+zsnoKv3M27Nnj353dZkU\n",
              "KzEHDx7krbfeKn/8+OOP09DQwMyZMzn99NNZv349AI899hjz5s3jbW9722hdqtD39yuVSnHw4MHy\n",
              "7Rs2bGDFihWjcIVSct1117Fr1y4aGxtpbGxk5cqV3HvvvVx33XWsXr2ab3zjGwA8//zzvPnmm5x3\n",
              "3nmjfMWTW1/fr2uvvZY9e/aU7/fYY48xa9YsGhoaRvFqJZvNVvyZp99dh3ijfQEjobW1ldWrV9PZ\n",
              "2YnjOMyYMYMnn3wSYwzf/OY3ueqqq7j11luZMmUK999//2hf7qTX1/drz549XHbZZURRhLWWE088\n",
              "kYceemi0L1f68NWvfpU1a9awePFikskk69evJ5FIjPZlSQVBEPCBD3yAIAhwHIfp06fzxBNPjPZl\n",
              "TXr9/czT764izU4SERGRcWlSbCeJiIjIxKMQIyIiIuOSQoyIiIiMSwoxIjIm5PN5Pv/5z/O2t72N\n",
              "t7/97Zxyyik8+OCDo31ZIjKGTYrTSSIy9l111VUEQcBvf/tbampqaGxs5KKLLiIMQ66++urRvjwR\n",
              "GYN0OklERt1rr73Gaaedxs6dO3v0JnnqqadYt24dDz30ENdffz2nn346L7zwAr7vc99997F8+XKg\n",
              "2G327rvvplAokE6nueuuuzjttNN44IEHWL9+PTNmzGDr1q34vs+jjz7KiSeeOEqvVESGkraTRGTU\n",
              "bdmyhcWLFx/WXG3VqlXs3LmT5uZmXn75Za688kq2bt3K5z//eT72sY9hreVXv/oVGzZs4JlnnuGF\n",
              "F17gf/yP/8Hll19efo7nn3+eW2+9ld/97nf8yZ/8CV/96ldH+uWJyDDRdpKIjAsLFy7kve99LwAf\n",
              "+chHWLt2LTt37uRHP/oRv/3tbznnnHPK992/fz+dnZ1AMQidcMIJ5ffvuuuukb94ERkWCjEiMupW\n",
              "rFjBa6+9RktLS4/VmGeffZbjjz+eGTNmHPYYYwzGGKy1XHnlldx6660VnzuVSpXfd12XMAyH/gWI\n",
              "yKjQdpKIjLrFixfzp3/6p6xdu5aOjg4AGhsb+exnP8tNN91U/vhnP/sZAN///veZNWsW8+bN4+KL\n",
              "L2b9+vU0NTUBEMcxv/nNb0bnhYjIiNJKjIiMCQ899BBf+tKXOOWUU0gmk7iuy1/91V/xyU9+kp//\n",
              "/OcsXbqUBx54gL/8y78kmUyyYcMGjDG8613v4h/+4R/40Ic+RBiG5PN5PvCBD3DmmWeO9ksSkWGm\n",
              "00kiMub9/Oc/54YbbuDFF18c7UsRkTFE20kiIiIyLmklRkRERMYlrcSIiIjIuKQQIyIiIuOSQoyI\n",
              "iIiMSwoxIiIiMi4pxIiIiMi4pBAjIiIi45JCjIiIiIxLCjEiIiIyLv1/7/goWUsiQc0AAAAASUVO\n",
              "RK5CYII=\n",
              "\">\n",
              "      </div>\n",
              "      <script type=\"text/javascript\">\n",
              "        (() => {\n",
              "          const chartElement = document.getElementById(\"chart-c396f1ea-8fe4-4e9c-a4f8-0fd03540e63d\");\n",
              "          async function getCodeForChartHandler(event) {\n",
              "            const chartCodeResponse =  await google.colab.kernel.invokeFunction(\n",
              "                'getCodeForChart', [\"chart-c396f1ea-8fe4-4e9c-a4f8-0fd03540e63d\"], {});\n",
              "            const responseJson = chartCodeResponse.data['application/json'];\n",
              "            await google.colab.notebook.addCell(responseJson.code, 'code');\n",
              "          }\n",
              "          chartElement.onclick = getCodeForChartHandler;\n",
              "        })();\n",
              "      </script>\n",
              "      <style>\n",
              "        .colab-quickchart-chart-with-code  {\n",
              "            display: block;\n",
              "            float: left;\n",
              "            border: 1px solid transparent;\n",
              "        }\n",
              "\n",
              "        .colab-quickchart-chart-with-code:hover {\n",
              "            cursor: pointer;\n",
              "            border: 1px solid #aaa;\n",
              "        }\n",
              "      </style>"
            ]
          },
          "metadata": {}
        },
        {
          "output_type": "display_data",
          "data": {
            "text/plain": [
              "from matplotlib import pyplot as plt\n",
              "_df_5.plot(kind='scatter', x='High', y='Low', s=32, alpha=.8)\n",
              "plt.gca().spines[['top', 'right',]].set_visible(False)"
            ],
            "text/html": [
              "      <div class=\"colab-quickchart-chart-with-code\" id=\"chart-65d496b2-ac41-4021-a475-4bf7a95c9b94\">\n",
              "        <img style=\"width: 180px;\" src=\"data:image/png;base64,iVBORw0KGgoAAAANSUhEUgAAAigAAAGkCAYAAAAbl967AAAAOXRFWHRTb2Z0d2FyZQBNYXRwbG90\n",
              "bGliIHZlcnNpb24zLjcuMSwgaHR0cHM6Ly9tYXRwbG90bGliLm9yZy/bCgiHAAAACXBIWXMAAA9h\n",
              "AAAPYQGoP6dpAABneklEQVR4nO3de3xcdZ0//tfnc86ZM5OZXNokvdBLCr2g24KUe0WlXlBAVHZZ\n",
              "RLGFIgpV8Stf3O9DWRdc3X3I+v0+xGVh/YquC0JAQQF1VfgpfldAbcutWFtBGmjS0jbNtcnMZObM\n",
              "Oefz+f1xZqaTZCa3ZpJJ8nr6qKSTzOQcQpNXP5/3+/0RWmsNIiIiogoip/sCiIiIiIZiQCEiIqKK\n",
              "w4BCREREFYcBhYiIiCoOAwoRERFVHAYUIiIiqjgMKERERFRxGFCIiIio4szIgHLHHXdM9yUQERFR\n",
              "Gc3IgNLW1jbdl0BERERlNCMDChEREc1uDChERERUcRhQiIiIqOIwoBAREVHFYUAhIiKiisOAQkRE\n",
              "RBWHAYWIiIgqDgMKERERVRwGFCIiIqo4DChERERUcRhQiIiI5qC066Mr4SDt+tN9KUWZ030BRERE\n",
              "NHU64w6at7fiid1HkHJ9RCwDF61bhE0bmtAQs6f78vK4gkJERDRHdMYdfPYHO/HAjv1IOh5MKZB0\n",
              "PDTvaMMND+5EV8KZ7kvMY0AhIiKaI5q3t6KlI47GmI150RCitol50RAaYzZaOuJo3tY23ZeYx4BC\n",
              "REQ0B6RdH0/sPoKwacA0Bv/4Nw0J2zTw+J72iqlJYUAhIiKaAxKOh5TrI2QW/9FvmxKpjI+E403x\n",
              "lRXHgEJERDQHxGwTEctAxlPD3qe0Rsr1EbYkYnZl9M8woBAREc0BYcvAhesWIu358PwgpHi+wpH+\n",
              "NPYeieNIfxrdiQy+/dvXKqJYlgGFiIhohhvrTJPNG1Zg1YJqdCYcdMUd7OtKoivhwFMaIUMiZMiK\n",
              "6eipjHUcIiIiGreRZprEbBMJx0PMNhG2DABAQ8zGXVeuR/O2Nty/vQ0ZX8EyJGojFuqjIZiGhOer\n",
              "fEfPjResmbZ7Y0AhIiKagXIzTVo64gibBkKmRNLxcN+2VvzohQNBvYmvhw1ia4jZ2LpxJX7xp8MI\n",
              "GRLzYyFIIfKvW9jRs3Xjyny4mWrc4iEiIpqBis00iYVNpD2FQ0fTOBJ3Sg5iSzgeHE8hEjIGhZOc\n",
              "SujoYUAhIiKaYUrNNOlOOHA8BUMCmWwAKTaIbaSOHgD58DKdHT0MKERERDNMsZkmSmv0pz1IAUgp\n",
              "oXXwGDB8EFuxjp4cz1dwPB8XrV00bds7AAMKERHRjFNsBcTzFZTSgAa01hACg7Zvhm7bFHb09CQz\n",
              "SDoeepIZdCQcNNVHcfmZS6f8vgoxoBAREc0whSsg6YyH9r4UWrsH4CoNV2l4vka1bQ4KKEO3bXId\n",
              "PZvOaUIsbMLxVNCmrIH2vjQ+fu/z+Ndfvzpt7cYMKERERDPQ5g0rsHx+FPu6B9CdzMBTGrk4ogEM\n",
              "uIMHshXbtmmI2bjxgjX43tVnYlFtGEDQ9WNnO4KmcyYKAwoREVEFGDpsbbThaw0xG2c01SFkSJhS\n",
              "wBACIVPCMgSkCJ5/uC+NnmQGnQkHqxdUY9OGpqKv9aPnD6CtO4kF1eGKOeW4rOW5K1asgG3biEQi\n",
              "AICbb74ZV1xxBfbu3Yurr74aXV1dqK2txb333ou1a9eW81KIiIgq0tBha5YUaIiF0J3MFJ1jkpN2\n",
              "fTz9ahfmR0OorbKgtIYUAkprdCcyQV1JxkNjjY3Lz1g67PmFrzOWU46neiZK2fuHHnroIZx22mmD\n",
              "Hrv++utx3XXXYcuWLfjxj3+MLVu24Lnnniv3pRAREVWMtOujrXsAt/xkN17vSsA2JIQQONCXxutd\n",
              "SViGwOK6SH6rZfu+Htx15fp8yCjs5JFC5OtNpBBYWBNGNBQMart70xmoiVglW4bHc8rxrAooQ3V0\n",
              "dOD555/Hr371KwDAZZddhhtuuAEtLS1YtWrVVF8OERHRlCpcMTncl0LS8RAyJfqzxa0KgCEAXwOp\n",
              "jI+FNeGi4+dznTxJx0N0+MII0q5Cxle4/v4XggLZEisxo72O4ynEwuaUz0Qpew3KVVddhVNOOQXX\n",
              "XnstOjs7ceDAASxevBimGdyoEALLly/H/v37iz7fcRz09/cP+uX7Ix+GREREVIly4+kf2LEfccdF\n",
              "yvWDIOIqZLLhBAjCiVIafSkXSuthc0yA4qcT56RdD11JBwMZD6mMX3Ki7GivM50zUcoaUJ5++mns\n",
              "2rULL774IhoaGnD11VeP+zVuu+021NbWDvr17LPPluFqiYiIyqtwPH1txIKvdNGPEwg6cVxf5Yet\n",
              "FRs/X2qWycGjaWgNLK2LjKnotdTrjFZcW05lDSjLly8HAFiWhRtvvBHPPPMMli1bhsOHD8Pzgn/B\n",
              "Wmvs378//7FD3Xzzzejr6xv06+yzzy7nZRMREU26ocWoAkA2e2DYcTjZ32udf7Po+Pmhs0w8pRG1\n",
              "DUQsA40xG+HQ4G2ZYisxpV4nFjax6Zwm3FlQ9zKVyrahlEwm4bou6urqAAA/+MEPsH79eixYsACn\n",
              "n346mpubsWXLFjzyyCNYunRpyfoT27Zh24P/xRjG9I3eJSIimoihxagaQTDROvubArngIkXwrtxW\n",
              "y+Vrlw7basnNMtm6cWX2EEAfH/3ODphy+CGAQOmi16GvE7PNaR11X7aAcuTIEVx22WXwfR9aa5x0\n",
              "0km47777AAB33303tmzZgq997WuoqanBPffcU67LICIiqghDi1GlELAMiYynhuaTPCEF+lIuMp4a\n",
              "daslbBkIWwbSrn9cRa+515luZQsoJ510Enbu3Fn0fSeffDK2bdtWrk9NRERUMdKun1+RuHDdQjyw\n",
              "Y3++GFUKUTKcAMFKSpVl4MNnLCs5x2SoXNFr7vMUzjYZaSWm0kzfOcpERESz2NABbBHLwPlrGtBU\n",
              "H8W+riQSaRcZf6R4AlgSuHDtonxr8Vht3rACO/b1oqUjDtsMRtc7XhBOpqvodbw46p6IiGiSFbYT\n",
              "Jx0v3+b76M6DAIAV9VUlO3iAoDDWlICngF+9fKTkuPtSKrHodby4gkJERDTJmre3Yu+ROOZHLYRM\n",
              "A1IIRO1gi2VfZwJKA/WxEHqSGXjqWKcOcKxeVggBrYGkM7EprjHbxKYNTbjmvBVwlZ72otfxYkAh\n",
              "IiKaRG/0DqB5+370pVzE0x4AjZqwhVjYREfcwUDm2GrIoD6bwqOIEYzhAASitjGuKa7FtpZyE2QZ\n",
              "UIiIiOagzriDz/3wJfQOZAAASmsoDXQlM+hKZoZ9vC74pwjySJ5SQDgkcfG6xWMOFrmtpZaOOMKm\n",
              "gZApS57lU+lYg0JERDRJmre3orUrAVMG2zMjlJkMo3Fs/okGYBgCb15cM66C1sJJtWOZIFvJGFCI\n",
              "iIgmQW5SbMQyYUhRUEsyvtcRAOZVWbjmrStw9+YzxrziMXRSbaFSE2QrGbd4iIiIjlPa9bG/ZwAD\n",
              "GQ+mIaD0sfN09DhWUQwJfHfzmXjrqoZB2zqFs1RKbfcMnVQ7VKkJspWKAYWIiGiCOuMO7v3963hi\n",
              "zxE4ro+ORAYhKaCUhmUI+EpjlFEneRJB3cnvWjrxrjcvzL9+qYLXoSsrQyfVDjXaBNlKMzOukoiI\n",
              "qMK8crgf137/ObT3pwEI5I6+SWSCKbElFjJKUtl/Nu84gKqQiQ+8ZQm+/LM9Yy54nS0TZHMYUIiI\n",
              "iMapM+7g2vuew6GjaRgyCCee0oOKYj1V+vmlSAC+r/Hgswfw2EsHkXJ8LKwJ58NGbpZKruB16ITZ\n",
              "2TBBNodFskRERKNIuz66Ek6+wPTe3+9D+1EHhgRMKYaFk4mQApBSwDQEGqIW2o86cH09roLX2TBB\n",
              "NocrKERERCUUqwG54M0L8Is/HQagIYWclHACAJYh4SuN2ogFIxtK0p4PpTXkkFagkQpeG2I2brxg\n",
              "DbZuXDlqYW0lY0AhIiIqouTQs2f3I5524WvA9yewj1OCpzTCpkR9LAQpBKQM5qgopSGNwQFlLAWv\n",
              "YcuYkcEkhwGFiIhoiL6BDO548lXsPRLHgmo7v81imwrdiTQmMZfkhU2J5fVVMGXwucKWgYGMBzWk\n",
              "T3kmFrxOBAMKERFR1iuH+3HrT3dj54GjcLP9wWnXxwl1EYQtA93JDFx1bMbJ8YpYEhlPQWSLbHNb\n",
              "OZ6vYBkSi2oi6E5mZnzB60QwoBARESEIJx++exviaW/QIX7JjI/XOhM4qSGKvpQLIYIWYk8Fha3F\n",
              "5pzYpkDG08emySJ73g6OBZsqS6KpPor9PQNIuz48XyPhuPB8wPF8nLywGl/50Fr8ctdhPL6nHamM\n",
              "j1jYxOVrlxadgzLbMKAQEREBuPWnuxFPewgZAkIIOJ7KhwqlgYNHU3B9Ba2PhQzbDIpkMwUpxZKA\n",
              "r/SgFRaRTSaFgcXXQdfO8vlVeKM3BcdXUArDQsiaC6pnfMHrRDCgEBHRnJZ2fRzqG8BLb/RlW30l\n",
              "dEHdR+6tlDu48EQKIONrhAyBRbVhvNGTgkIQZoTI/gKyc1JEPtyY2bkpOlsACwC2JXH1hiZseduJ\n",
              "RUPITC94nQgGFCIimpMKW4j7Ui4ynoIUgNIamezqSSkSQChbOJvxNQYcH3VVFlY2xtA7kEE6O/be\n",
              "NiWWzotACoGMp3DwaAoZT8FXGlIi+Ly+wuoF1djythNn/bbNeDCgEBHRnDO8hTioOlE6aOEdicj+\n",
              "n681BAS01ugdcHHminn494+djphtIuF4uOd3+/DQ8weA7FZO2DLQVF+Fzn4HvQMuIpaB6oiFi9YW\n",
              "P1tnrmNAISKiOSXt+vjO0y3Ye6QfC6rDAIDuZGbMz5cCmB8NoT/tQWfDR8Qy8E+XrsuHjLBl4Jq3\n",
              "nYgX9h8dNnYeAjhzxTz806XrsHx+1ZzbuhkrBhQiIpoTcls6j+9ux76uJLQGBBwMZDxkfA2jREfO\n",
              "UL4OAsqCmjCU0uhLuaiOWFhYbaMr4eRrSHJj55u3tc3JLpzjxYBCRESzXuGWjmXIfCdOdzIDDcA2\n",
              "BKRhwPN9DKmFhRSAEAL+kHn2UggoaKQ9hWUREx++e3t+HP5F645t28yGsfPTgYcFEhHRrNe8vRUt\n",
              "HXE0xmzURCxoDG4Fzvi66Jk3AkDIlLCMoPMGCAKL4yn0JDM4Enfg+Qp7jySQdDyYUgTj8He04YYH\n",
              "d6Ir4QBAfkWF4WTsGFCIiGhWyp1A3DeQwRO7jyBsBuHgjZ6BYePjNYLQ4fjDH1dK51dPpABqIxaU\n",
              "DuaVrF4QhSkFFtaEMS8aQtQ2MS8aQmPMRktHHM3b2qbiVmclbvEQEdGsMvQEYssQ6Io7qIuG0J3M\n",
              "wPEULCmRGeOBOrlunbBl4M2La/BvHzkNtmXAkgIfvns7qkJm/qyeHNOQsE0Dj+9px9aNK7lyMgEM\n",
              "KERENGsUO4E4nfGRyHhIuT5EdgtnpHASymaNjArOypkftRG1DVy8bvGg4tauhIOU6yNkFt+MsE2J\n",
              "VMZHwvEYUCaAAYWIiGaNwloTKQWU0oiEDKQ9Hz1JF4Ae9ZA/VwXTX0MGsLg2jPuvPQf1RepHYraJ\n",
              "iGUg6XiIFmnIcTyFWNhEzOaP2olgDQoREc0KadfHE7uPwJACHfE0WjoSeK0ziZaOBAQETEOM6QRi\n",
              "DWBelYXFdWF4CrBLjJkPWwYuXLcQac+HN2RFxvODU4cvWruIqycTxFhHRESzQlv3AN7oTSKZORYW\n",
              "DAEIKdCbcmGMKZ4EJxU3xGz0pz3EwsaIKyCbN6zAjn29w4axOZ6P1QuqsWlD03Hf11zFFRQiIprR\n",
              "0q6P7a91Y8t/7hgUToBgqJpSGqYMtm6kKPEiBaQQUFqPaQUkN4xt0zlNiIVNeEojFjax6Zwm3Hnl\n",
              "eg5jOw5cQSEiohkn7frYeySBR188gN/+pRP7ewdQqu5VacBTwdZNMD322AnFhW/nhAyJ7mRmzCsg\n",
              "HMZWHgwoREQ0Y7zRO4D/+9sW/NcfD6E/7Y/5eYVTYIUIggowPJwIAPXVNv76tCXjHkcfLlGrQhPD\n",
              "gEJERBWvM+7g7qdew/3bWocNUxsrQwoYIphR4rj+sHN3pAiGry2sCfOsnArAGhQiIqo4Hf0p7NjX\n",
              "jY7+VH62SfNxhJOcuqoQmuZXwR6y0tEQC+HkhdVYUhvB650JToCtAFxBISKiirGtpQuf/9FLONTn\n",
              "5B+LhiQynhp2iN94hU2J+mgISmuk3SHbQ9ncwwmwlYMBhYiIKsK2li5c+R87htWFDO3MmQgBYOm8\n",
              "CDSAA70pDDmYGL0pFynXx/L5VZwAWyG4xUNERNOuM+7g4/c+O8ZJJWMnAcRsCSGCduPuhAPHGxx4\n",
              "TClgSYG0p/Jn9URCI88/ofJjQCEiomnVGXdw7b3PIuVNdjwBmhqqUBWysq3DDnoHXADH5qFIEQQU\n",
              "IQSkAPpSLtKuxwmwFYABhYiIplza9dGVcJB2fTRvb8Ur7fFJe21R8M+DvSl0JRxUhQysaIgB0BAA\n",
              "LEPCMoJg4msNX2soreH6Cic2xDgBtgJw/YqIiKZMZ9xB8/ZWPLH7CFKuj7Al0RF3kDnO7pxCuuCf\n",
              "ntIIGRK2ZaCtewCWIVEdttBYbUNpje5EBn0pNzvATaCuysIdHz2NLcYVgAGFiIimRK5deO+ROEKm\n",
              "RNiS6E5kcDS77TIZCoewWRKYF7VRHwvBlBKer9DW4yOedlEfDcE0JBbWhNFYbSPj+egZcLH5nCYs\n",
              "qauatOuhiWNAISKiKXH3U69h14Gj8JSCRjDddWg3zfEwpUBTfRV6BzIwpURjtQ0pjh2+YxoStREL\n",
              "RwdcdMTTCFvmoMP91hQZbZ92fY6vnyYMKEREVHZv9A7ggR37kfZ8CGBSg0nOR89ahq3vXImPfmcH\n",
              "TCkGhZOciGVARgXef8oiPLW3C6mMj1jYxOVrlw6aHjt0KypiGbho3SJOmJ1CDChERFRWadfHt3/b\n",
              "AsfzAQ0c/1ST4SIhA1s3rkR91EbEMpB0PESL5AjHU4iFTdz03pNx03tPLro6ktuKaumII2waCJkS\n",
              "ScdD8442bN/Xg7t4SvGUYEAhIqKyyK1CPL67Ha93JsqyaiIA2KbA5nOWY8m8oHbkwnUL8cCO/fB8\n",
              "BdM41qzq+cFWzuVrl+YDSbFtm+btrWjpiKMxZuefH7WD57d0xNG8rQ03XrBm8m+GBmGbMRERTbrc\n",
              "KsT92/fj0NEUvEleNjElEA0ZqKsysX75fFx3/sr8+zZvWIFVC6rRmXDQk8wg6XjoSWbQmXCwukid\n",
              "SaG06+OJ3UcQNo1B4QYYPAZ/2Kh8mnRcQSEioknXvL0Vrx6JI53xjvuAPyBYKcm9iiGAqpCJxXUR\n",
              "XLR2eF1IQ8zGXVeuR/O2Njy+p71knUkxCcdDyvURMov//Z1j8KcOAwoREU2q3CqE6/lwfA1DABDA\n",
              "8eQUHbwETEOgPmojZht4+LpzUVsVKvrxDTEbN16wBls3rhxXF07MNsdUw8Ix+OXHLR4iIppUbd0D\n",
              "ONyXQtzx4SuNjK+PK5wAQTgxsp05EUsi42u4YyhqCVsGGmL2mFc7wpaBC9ctRNrz4fmD96VyNSwc\n",
              "gz81GAGJiGjSdMYd3PKT3UikvQm/Rq45WA9529ca8yMhZHxd1lWMzRtWYMe+XrR0xGGbxqBZKaPV\n",
              "sNDk4QoKEREdl6Hn6rzelcBYFxgEggFrdkHNR9iSg8bV59/WQNQ2yr6Kkath2XROE2JhE54KAtGm\n",
              "c5pwJ1uMpwxXUIiIaEKKnavTnchAAsiMocnFEIBlSggIaH1su2ZBTRgHeweKdv4c6EnhLcvqyr6K\n",
              "MdEaFpo8DChERDRuxYaZxdMeegcygD626jESUwqI7CaOzj5DAEg6HjQEQkZQu6LUsdezDIEzltdN\n",
              "2SpG2DIYTKYJt3iIiGjcCoeZzYuGELVNzI+GYIhjk2IFgsP7SvG1hq80PKXg+YAUgG0IxNMepAAM\n",
              "aSBkGAgZAoYAGmMhzI/aeGpvF+eQzAEMKERENC6lhplJIVAbOdb2q7P/J8SxYleZfcMQACCgtIbW\n",
              "QMgUOGVJLdYsroHrKyit4esgvPg6241TbQ+aQ0KzG7d4iIhoXEYaZlZfHUJ3MpPvwMmFFBT8PmJJ\n",
              "fPTsZXimpRsDjo8q28D71y3Gpg1NcDwfH7zz9+hLuYDOhp4qC/WxEEwp0e95nEMyR/ArTERE4zLS\n",
              "MLOQYaAqZGAg48M0BHwVrJAEWzYCpiGx6Zzl+Pv3/xXSrl+0AHXTucvRvH0/5kcthEwjfypxsbN0\n",
              "aPZiQCEionHJDTMrdSCfbUrMi4aCVRZDwjYFHE8j4yusWVCdPzenVAFqbg7J3o44QoaPsBkMZuMc\n",
              "krmFAYWIiMYst+rx4bOWlRxmdvKiGnzlQ2vxy12H82fh1ETMoufmFKM1cMqSauw9EkdXwgEA1IQt\n",
              "XHb6Elx3/krOIZkjGFCIiGiQYlsvQ2eeRCwD569pwKlLavDU3q6iB/KtuaB63HNECtuXI5aB6rAJ\n",
              "x1XI+D52Hewv961TBWFAISKag8YaQi5atwgXnbIIX/7ZnwfNPEk6Hh7deRCrFlTjP68+E7ZlFA0h\n",
              "450jUti+nNs6qg4HW0ctHXE0b2vDjResmbx/EVSxGFCIiOaQ8YaQ5h1t+NELB5ByFRZWHwsNUftY\n",
              "aPjR829MSmgo1b4MAKYhYZsGHt/Tjq0bV7JIdg5gQCEimiOKTX8dLYRkPB8tnQlUhcyyh4aR2pcB\n",
              "DJqBwoAy+3FQGxHRHFFs+uu8aAj10RDa+9Nwh3TkAMi2+AqkXR9KDx9gP5mD03Lty5lih/AAcDyF\n",
              "SMjgDJQ5ggGFiGgOGGn7ZKQQIqWAFMF5OMUCymSGhlz7ctrz4fmDQ0puBko5TzGmysKAQkQ0B4y0\n",
              "fTJSCJFCwM4+R6nB7ytHaNi8YQVWLahGZ8JBTzKDpOOhJ5lBZ8LhDJQ5hutkRERzwEjTX3MhJJVR\n",
              "QQgpyDCerxAyJOrqghH2Q2eeTHZoaIjZuOvK9Wje1pafoTK0fZnmBgYUIqI5YLTpryOFkGKD18oZ\n",
              "GhpiNm68YM24Z6jQ7MKAQkQ0R+RGyI91+utkDF47HuOdoUKzCwMKEdEcMZbtk+Ubq3D5WUsBDdTH\n",
              "7OMevEY0UVMSUO655x58/OMfx2OPPYZLL70UGzduRFtbG2prawEAV199Nf7n//yfU3EpRERzWqnt\n",
              "k864g2/++i/DBrix7oOmS9kDSmtrK7773e/i3HPPHfT4N7/5TVx66aXl/vRERFRE4UrISAPctu/r\n",
              "wV1XrmdIoSlX1jZjpRQ+8YlP4M4774RtT+w/bsdx0N/fP+iX7/uTfKVERHNXqQFujTE7f/4N0VQr\n",
              "a0C5/fbbcd555+GMM84Y9r4vfvGLOOWUU3DFFVfg9ddfL/kat912G2prawf9evbZZ8t52URE0yrt\n",
              "+uhKOEi75f/L2FjPv5mKayEqVLYtnt27d+ORRx7B008/Pex9999/P5YtWwatNf793/8dl1xyCf78\n",
              "5z8XfZ2bb74ZN91006DHbrnllrJcMxHRdCp1kN9Y60CKnVA8Gp5/Q5WqbAHlmWeeQWtrK1avXg0A\n",
              "aG9vx3XXXYfDhw/jU5/6FABACIEbbrgBf/d3f4fu7m7U19cPex3btodtDxkG/5AQ0exyPHUgxxNs\n",
              "RhrgBgSj7GNhk+ff0JQr2xbPpz71KRw+fBitra1obW3Fueeei+985zv45Cc/iSNHjuQ/7pFHHsHC\n",
              "hQuLhhMiorliPHUghVtAuWDzwI79SDoeTCnyweaGB3eiK+GM+Hl5/g1VqimPxI7j4P3vfz8cx4GU\n",
              "Eg0NDfjZz3421ZdBRFQxxloH8rdnLsWPnj8waKWkrsrE3iMJLKwJ558btYNwkQs2N16wZsTPP9IA\n",
              "N55/Q9NlygLKb3/72/zbzz///FR9WiKiijeWOpBE2sPnfvgS2rqT+S2guOOipSMBwxBYOOQ5hcFm\n",
              "68aVI66A8PwbqkTcVCQimmZjqQNJuz5auxJYUH1spcS2JDr7Hfi+Qncyg4U14UHPG0+BK8+/oUpT\n",
              "1jZjIiIa3Wh1IGkvaPENm0FgUFoDCE4hllIAAPpSbv7xHMdTiISMcRW4hi0DDUVG3BNNNQYUIqIK\n",
              "sHnDCqxaUI3OhIOeZAZJx0N30sGRuIMTasNwPB8dCQevdSbR0pHAkf40lNKojVgAgtCi1LGAwgJX\n",
              "mukYUIiIKkCuDmTTOU2IWBJdCQddiQxcT2HvkTiSjg9faQAaSmt0JzPY3zOA2ogJKQDf1+hNOkg6\n",
              "HnqSGXQmHBa40ozGgEJEVCEaYjY+dm4T5kdtmFKgMRqCEIDjaWgASgOur6E1YEoglfHxemcSrgIU\n",
              "gPZ4Bm/0DsA0BDad04Q7eYYOzWAskiUimmaFE2Cbt7fi9a6gbdjTGof60iisLNEAPKXhqYIHAJhS\n",
              "QGsN19foSWZw8amLGU5oRmNAISKaJkMnwNqmRE8yA1MKdCcz6Eo40EWeJ4BBj9umhBRBsaxSCom0\n",
              "h1t+shsPXb9hKm6DqCwYUIiIpkGx0fb9aRe9AxloDUgZbOkMJQBYhkDG1/nfZ7MJAEBKCal87Dxw\n",
              "FH0DGdRWhabkfogmG2tQiIimQeFo++qwiYTjoTeZgdLB6ohSQfgYamhmMaSAGPKRQgoopXEkPvKY\n",
              "e6JKxhUUIqIpVjjaHgD29wzA8dSglZBiWzs5fsG8E0MOjzFaaRiGxMJq1qDQzMUVFCKiKVY42r47\n",
              "mYHjKZhSwBDF1kyGM0TBmsmQ4WxKKSgNrF9Wx+0dmtEYUIiIplhutH3a89GXciEEIIQARPFtHQCQ\n",
              "2fcZAoiFTZy6tBYx20TG18h4PlylkPF8ZHyN6rCJf7p03VTeEtGkY0AhIppi+dH2roJSOggnAAQE\n",
              "cjs2hgiKYU0B1EctWIaEEEBdVQhXnbsC39tyFh799Ftx9onzYRgS0IBhSJx94nz8+FNvxZqF1dN4\n",
              "h0THjzUoRETTYPOGFdj2eg9eaO0FfAVIiWAcm4AU2cFsSkNKATs7qv7Ehlrc8dHTsKSuCkAw2O2h\n",
              "6zegbyCDI3EHC6ttbuvQrMEVFCKiadAQs/Gtj52OM1fUAQLQ0JBCoD4WwsqGKOZXhQABVFkGqsMW\n",
              "Np+7At/efEY+nBSqrQphzcJqhhOaVbiCQkQ0TRpiNv79Y2fg080vYm9HP0KGgUjIwIAb9BifuXw+\n",
              "/umv12H5/Coe+EdzDgMKEdE00hp4y7JatHTE0Z10gCRQGwnhstOX4LrzV3JcPc1ZDChERNOkM+7g\n",
              "+vtfwMuH++D6Qf0JAAxkPLyw/+i0XhvRdGMNChHRNLn7qRbseuMoMp6GEIAUAkIAGU/jjweO4jtP\n",
              "vTbdl0g0bRhQiIimQdr18eiLB6G0DtqJpYQhg39ahoDSGo+8eBBp10fa9dGVcJB2/em+bKIpwy0e\n",
              "IqJp0J10EHc8CCHyc1Byco/1pVx8/Yk/4w8tvUi5PiKWgYvWLcKmDU2sTaFZjysoRETjNNqKxphW\n",
              "PPTgN3TB/4IHNHyl8ZOdh5B0PJhSIOl4aN7Rhhse3ImuBA8CpNmNKyhERGPUGXfQvL0VT+w+kj1L\n",
              "R2DDifW45m0rcFJj9bD326bEO09uxNXnrRg2v6Q+ZqMmbKFnIAPXV/DV4AMAfR2UzC6oDiOUPVQw\n",
              "agOer9DSEUfztjbceMGaqbx9oinFgEJENAadcQef/cFOtHTEISHQl87A8TRaOpK4f8d+vHlRDIYh\n",
              "0d6XhiUlUq6HhOPjtc4E7t++H5vPXT6obTgYd78ID+7YD2/IgX9eNqxELJkPJzmmIWGbBh7f046t\n",
              "G1dyPgrNWtziISIag3t//zpebe9H1DbQlXTgeINDxcvtCew+2I+M56Mv7SLu+BACMKWA4/lo3r5/\n",
              "2NZMVSgojC11QGDKVTjSn4bnq0GP26ZEKuMj4XiTfZtEFYMBhYhoiMIaks64g//zxCv47u9a0Zf2\n",
              "0NadgtKln9uf9jGQ8WEKZDtzghDiKYW92a2Z3Od4+tVuNMZsNFbbCJkyH1RyNbMaQHcyg/09A4NC\n",
              "iuMpREIGYjYXwWn24n/dRERZuRqSx3e3I+n4sC0Jx1VIZjz4vgbECMlkCF8f+xugEALQQMiQ+a2Z\n",
              "hOMFnTkhA1HbhFIKPb5CSApIKZHxFHytYQgg7Sl0JzNYWBOG5ys4no/L1y7l9g7NagwoREQIwsnW\n",
              "5hfw8qF+ZLKrFb7W0BoImxKGDA4dHitfaZiGhoCA1sFBgOGCrZmYbSJiGUg6HiIhjbjjw8iGEwCQ\n",
              "ElAqCDrQGr0DGZhSIOMrrF5QjU0bmsrwb4GocnCLh4gIwN1PvYZdbxyF4/kQAHQ2nADBCobr6yAs\n",
              "jIc+9jq1EQsZX+e3ZoIi2YVIez4yrg+tgVw1Su459dEQ6qMhSCmgNRAJGdh0ThPuvHI956DQrMcV\n",
              "FCKa89Kuj8d2HoSvNCxDwvXVsDqTCWST/AqMbUrURkz0DriDtmY2b1iBHft6sfdIP5QOJqBodew5\n",
              "jdU2TClhGgJVloFHPvVW1FaFJuOWiSoeV1CIaM7rTjjoT7sQImjxVRolO2vGKliFAWK2iZqIhd4B\n",
              "d9jWTEPMxl1Xrsfmc1egJmJCaw0BYH40hOX1VTClhOcrZDyFS049geGE5hSuoBDRnJZ2fbzemYTv\n",
              "awQlJrrg/8dOIOi+ERA4ZUkNTllaix37epB2g46bi9YWH1HfELNx4wVrcPmZS/E/fvgSWruTsIyg\n",
              "OLff8+B4PmtOaE5iQCGiOSnXsfPzPx7Ggd4UxlH/OkzIENAAlNY4s2ke/v1jp6MhZiPtHiuIHa3j\n",
              "Zsm8Kty9+Qw0b2vD43vakcr4iIVNXL52Kc/eoTmJAYWI5pzCqbCO68MdT3tOEXURC57SWL2gOh9O\n",
              "gGBa7HhagXOrKbk25LEEG6LZigGFiOac5u2taOmIoz4aQmv3wLi3cwBACkDp4J+10RDev27xpK10\n",
              "jDfYEM1GDChENKekXR9P7D6CsGlACgGlJxJPgnBiSoGPnr0MX3r/XzFQEE0ydvEQ0ZySm+AaMiWk\n",
              "FJBiYv06AsDaE2rwufesYTghKgMGFCKaU3ITXDOeghQCNeGJLSTXVVn4VkG9CRFNLgYUIppTCie4\n",
              "er5CQ8xG2Bz/Kspfn3YClsyrGvfzCg8iJKLSWINCRHNOboLrq+3BuTvuOGfYSwGYxvj+fpdra35i\n",
              "95HgkEDLwEXris9GISKuoBDRHJNbufjSxW9ClW0ilVEYT52sZQg0xGw8tbdrzKsgubbmB3bsR9Lx\n",
              "YEqBpOOheUcbbnhwJ7oSzkRuhWhW4woKEc0JQ1cwEmkXaVdhRWMVTCnQ2jUAP3sAjzf0IJ6s+VUW\n",
              "FtaG4bgqfyrxWApkc23NjTE7v/IStQHPV2jpiKN5WxtuvGDN5N0s0SzAFRQimvWGrmBIAfSnPaQ9\n",
              "H+1H0/liWY2gddiSwbnClhQIGQKGEGiMhbBkXnA+juOp/KnEoylsax66LWQaErZp4PE97axJIRqC\n",
              "AYWIZp2hhaj3/v51vNrej/poCPOiIUSsYAaKKQUcT6E7kckWy0q4SufH3ntaw1dA2JL5OhHPV0h7\n",
              "Ps5f3TCmaylsay7GNmV+NYaIjuEWDxHNGkO3cSwpMD9q4Y9v9MHXQDLjoyZsYn40BJGdBCsE0Jdy\n",
              "0RALYfn8KnQnM+hJZmBIAcuQADSqwxYcT+HogIu+tAutgV/8qR1Pvdo1aqFrrq056XiIFvkQx1OI\n",
              "hc0xrcYQzSVcQSGiGaNYi27usdc649ja/AKat7chmV2NOHA0hefbjiLja/hKw/EUOhMZvN6VRNgS\n",
              "8JSG6wePv9aZRHcyg9qIidqIiY+ftwJPfv4duP4dK1FblQ0oKRdaa9RFLNimHFOh69C25kKer+B4\n",
              "Pi5au4jD3oiGYGQnoopXrEX3HWsaAGj8v5c70ZlwkHQ8KB102RhSwsso+L4adM6OAKABuL5GX2pw\n",
              "zYenFLoSDnoHMjh1aR2uO3/loMP7vvGrV/DoiwexoDo87kLXXFtzS0cctmnANoM6FsfzsXpBNTZt\n",
              "aCrLvzeimYwBhYgqWuHJw2HTQMiU6E+5uPcPrVBKB2FEKeQab1xfozPuFD0AcOhjufFsUgaFsEIG\n",
              "M07OWF43bMvm6Ve7EbHMEQtdt25cWXQlpCFm464r16N5Wxse39OOVMZHLGzi8rVLOQeFqAQGFCKq\n",
              "aMVadBOOB6U0fA0opRCSApnssLXxjFzTACKmwPL6KKQQkFLg6ICLp/Z24SbXz4eN8RS6ltqqKVyN\n",
              "STgeYrbJbR2iEbAGhYgqVrEWXaU1+lIucmf8aQ0IGfxmQucSi+DAQNOQkEIU7aopPL+nmPG0HYct\n",
              "I+gYYjghGhEDChFVrGIrF0rrIJQUnkKsg22aiXA8he5kZtDvh4YNFroSTT0GFCKqWMVWLgSC1mBd\n",
              "OJ9eABNZPxEADCnQl3KhtB4xbGzesAKrFlSjM+GgJ5lB0vHQk8ygM+Gw0JWoDBhQiKhi5VYuUm6w\n",
              "5dLel8ZrnUm4vkIuswgEYUUV330ZkUawIuMrje7EyGEjV+i66ZwmxMImPKURC5vYdE4T7rxyPQtd\n",
              "iSYZi2SJqGJ1xh0MZDwkHS+/DSMQdNoUcn09ofoTQwACAkIA1RET71+3eMSuGha6Ek0dBhQiqhjp\n",
              "7EpJzDYRT3v59mJDHpthEqx6BAf3AcDRARdmtounMLeMJbBIAdRELFx2+hLc9N6Txxw2wpbBYEJU\n",
              "ZgwoRDTtig1iq6sysfdIAo3VNlrTHszsoX1aa3hKwzQkFtaEEQ45qLIMnH9yAx578RDmRS30pTx0\n",
              "JzKjhhTTkFizsBrXnV98fgkRTR8GFCKaVsUGscUdFy0dCRiGwDyloLTOFscKCCEgodCXctFYbSNs\n",
              "Gsj4Glec1YQ9hxJo6YgjZEqYhoCvdH6Am5FdXsmOS4EA8NGzl+HT71zN+hGiCsQiWSKaVoWD2Gqr\n",
              "LFimRFXIhBAarqewr3MArq+R8TVcX0FDQwgBrYMC11xb8PL5Vfki1uqwhYhlQIhgK6ghGoJpSBhS\n",
              "ImQIRCyJa85bgVs/sI7hhKhCjXsF5Xe/+x02bNgAw+ByKBEdn9wgNktKdCYc9A64UGpwwavGsfoT\n",
              "T2korWHIYLiaUhqO5+PytUvzdSG5Itb9PQP4h8d24/WuBGzTQHXYRNpTyPgKaxZU49PvXDU9N01E\n",
              "YzLuFZQvf/nLWLRoEd7//vfj9ttvx65du8pxXUQ0ByQcDwnHQ89ABl2JDHxVvBvHksc6d5QGPF8j\n",
              "ZEp0JzNF24LDloE1C6vxrU2n59uCfR0UxG5mWzDRjDDuFZTf/OY3SKVSeOaZZ/Dkk0/i0ksvxcDA\n",
              "ANrb28txfUQ0i8VsE2nXh1NihHyOqwBTBusouZqSBdU2PnDqCWwLJpqlxh1QUqkUnnrqKfz617/G\n",
              "f//3f6OxsRHvec97ynFtRDRL5dqJLSkGT4QtQQOAACwpETYlIiET9117NpbUVY3p87EtmGjmGXdA\n",
              "qaurw1lnnYWbbroJt956K2pra8txXUQ0Cw1tJw4ZYtTVk5zl8yMIWyaODriosg1AB0GHwYNodhp3\n",
              "QPnmN7+JJ598En//93+PM888ExdccAHe/e53Y+nSpeW4PiKaJYq1Ew+4PtKuP6bnm1Ii4/roSTpI\n",
              "uyY++t0diFgGLlq3aMRtHiKamcZdJPvpT38ajz76KP785z/jfe97H/7xH/8RTU08JIuIBku7ProS\n",
              "Tj6AFLYTz4uGELVN1Edt1FWFRn0tKYKJsfu6B+CpoEDWlAJJx0Pzjjbc8OBOdCWcct8SEU2hca+g\n",
              "/PCHP8STTz6J3/zmN7BtGxdffDFrUIgor9hU2Av+agEe392OsGnANAb/vaih2kbvQCZf/FpMVciA\n",
              "qxRChsSSeWGEreBbV9QGPF+hpSOO5m1tuPGCNeW8NSKaQuMOKP/1X/+F97znPfjyl7+MZcuWleOa\n",
              "iGiGeqN3AJ/74Uto7UoiYgXbOEnHw4PPHkDS8bCoJpz/2IznozuRQX/ahSjxerYpsPaEWnz1Q+tw\n",
              "08MvYcDx8+EkxzQkbNPA43vasXUjR9YTzRbjDigPPPAAAODQoUM4dOgQTjjhhEm/KCKaWXKrJvdv\n",
              "a8PRVHB4nyEFqiMmoraJqOejb8BFTzKDSMhAZzyNnqRb8qycYKw90BAL418uOxXzoyGkXYWQWXxX\n",
              "2jYlUpmgM2gqAkrhoYYMRETlMe6A8sorr+Cyyy7DoUOHAABLly7Fj370I7zpTW+a9IsjosrXGXfw\n",
              "mQdfxN4jccTTXjCGHkBPMoOk42F5fRVCpoEq20DS8dDWnUTaU0XDiW0IuEpjflUI9bEQupMZ/HLX\n",
              "YWzduBIRK3h+tEgtrOMpxMImYnZ5jxcrtn3FIl2i8hh3keynPvUpfOlLX0Jvby96e3vxpS99CZ/6\n",
              "1KfKcW1EVMHSro+/tMfxye8/i+f29aBvwIWnNJAdRW/KoIW4O5EBAMyPWtnnKZQafeJrwJACcccb\n",
              "tHUDABeuW4i058PzB7cle76C4/m4aO2isq5m5LqQHtixH0nHY5EuUZmNO6D09vbiyiuvzP/+Ix/5\n",
              "CHp7eyf1ooiocnXGHXzz13/BBbc/hff969N46Y1+aAC52OBrwHGDQ/0Ajb6UGxzqlyk97yRXg+Ir\n",
              "DQQZB0rpQVs3mzeswKoF1ehMOPnVmZ5kBp0Jp+i4+4ka2n2UU6wLaV40hMaYnS/SJaLJM+71UMMw\n",
              "8Oc//xl/9Vd/BQD485//zIMDieaI3CrCK+39ODrglvw4DcDxgmUSpRXiaQ9dSQdaA1ICQxZBhhwO\n",
              "qCGFgMyuwOS2bsKWgbuuXI/mbW14fE87UhkfsbCJy9cunZQtlpG2b2K2iSd2HynahcQiXaLyGHdA\n",
              "+drXvoZ3vOMdOPXUUwEAf/rTn3DHHXeM+Jx77rkHH//4x/HYY4/h0ksvRUdHB6666iq89tprsG0b\n",
              "3/rWt/COd7xjYndARFMmt4ow4JQOJ0MpHXT3QAOWEdSnCBmcTJw7pXjox8+PWMNOKgbKd7ZOsSFy\n",
              "ue2b7ft68NUPrQ0m31ZIkS7RXDDugPK+970PL7/8Mnbs2AEAOOecc3DGGWcM2vYp1Nraiu9+97s4\n",
              "99xz84998YtfxLnnnosnnngCzz33HP76r/8a+/btg2VZE7wNIiq3tOvj5388jKTjIjO24a8AgiFr\n",
              "WgPRkIFIyEDPgAtTBkFk6OwTDcA2JKQQI27dTPbZOoXbN7kVksIZKz976WBFFOkSzSUT+tPU2NiI\n",
              "Sy65JP/7Uod9KaXwiU98AnfeeSc+//nP5x9/+OGH0dLSAgA466yzcMIJJ+Cpp54qOvDNcRw4zuDi\n",
              "M98fx3dHIpoUbd1JHOhNIeOPfrhfTsSSWDKvCvs6k3B8hYURG8lMcHqxFAICGrmXM6VAddhEVchE\n",
              "LGziorVT0x2Tdv1Rt29+/XIH3vPmRjz0/BvwfDXo43JFuoUrPUR0/CYl7gtRfMzS7bffjvPOOw9n\n",
              "nHFG/rHu7m64rotFixblH1uxYgX2799f9DVuu+02fOUrXxn0WOFqDBFNjebtbcgMLR4ZhRDB8omG\n",
              "husDbV0D+UCSizlSANVhE499+jycUBeZ8vkiCccb0/bNh9YvxQv7+9DSEYdtGrBNCccLwslkFukS\n",
              "UWDMAWXXrl0l3+e6w/ejd+/ejUceeQRPP/30xK4s6+abb8ZNN9006LFbbrnluF6TiAJjGTjWGXdw\n",
              "7+9fxwM7iv8lopTcD/C2noF8W7E3ZPHFEEHXT3XYQk3EmvStm7GI2eaYtm+Wz68qa5EuEQ025oDy\n",
              "oQ99qOT7IpHIsMeeeeYZtLa2YvXq1QCA9vZ2XHfddfjKV74C0zTR3t6eX0VpbW3F8uXLi762bduw\n",
              "7cF/8Nk1RHR8RutYyYWWeNrDZ3+wEy8fPjriWTmlaK3hqiCIZDuIASBfHKsAVFkSAxl/2s7SCVsG\n",
              "Lly3EA/s2D/q9k3YMspSpEtEwwldqoBkkm3cuBE33ngjLr30UmzZsgUrVqzAP/7jP+K5557DpZde\n",
              "itbW1jEXyd500024/fbby3zFRLNTsY6VjKcwkPEQCRmIWAYyvkbEMlBXZWLvkQSUUjiaHl/tlxTH\n",
              "imAjloSvNDyl86spGsFQtlULYkikPcTCJn76mfOm5Qd+V8LBDQ/uLLl9c+eV67lCQjTFpqXk/Otf\n",
              "/zo2b96M1atXIxQKobm5mR08RFOkWMdKyFToGcigd8BFLGyiMWYj7rho6UjAkMWagUeXCydSACfU\n",
              "hXGgJw1TCsjsAoVSx94/3W26DTGb2zdEFWbKAspvf/vb/NsLFy7Er371q6n61ESUVapjpTvhwPEU\n",
              "DAlkPIVIyIBtSXT2O/CySULi2LTYUnJRRiI47C9oLzYRtkwIASitIbIDrDWCTh4pREW06ZZrxgoR\n",
              "Tcy4R90T0cxVrGNFaY3+tAcpACllMGZeH5vmKhAEDSGOjaQvRePYScSAwOK6MCxDQCmNmrAZ1KFo\n",
              "nf0F1BYMZCv3WTpjFbYMNMTsirgWormMAYVoDsl1rGS8YC1EaY2M60MpDQEBrXU+iCgdhAoguxoC\n",
              "IGQEhwAOJRAUwhpSwJDBtNi3LKvF3ZvPxJpFNehMODCkhCUFMr5Cxlcwsx872WfpENHswLGHRHNI\n",
              "rmPl/m1tSLkeEo4PpYPiVSAIJ5Yl8VpnMr+KkmNIkf24oG7EkCJf8Do/GkI0ZGAg46MvlYEQBo70\n",
              "O/j8w3/E+WsacOqSGjy1twuGFPlD+MKWMaUD2YhoZmFAIZpjLj5lMf7z961IZLd1coMWNYKtnIHs\n",
              "HPtjjwKxsIn50RB6kxmkPYWIKdFYbeNdb1oAAHhqbxcSaQ/9jgcpJGqrLNjZ82weefEgVjRE8X8/\n",
              "djpqIla+zoR1HkQ0EgYUojmkM+7glp/sxoDjAQiGpKHEpIHCR13Px7vftACffucqWFLAVXpQuLjJ\n",
              "9fGNX/0Fj754EAuqg+4gz1dIOB7iaRc79/fi8m9vw+Zzm/KrJQwmRDQS1qAQzRGdcQefeeBFvLC/\n",
              "d9zPdTyNHzx7AI7no7YqVDRgPP1qFyKWkQ8n+3sG0JPMBIWzQqAv5eL+7a244cGd6Eo4xT8REVEW\n",
              "AwrRLJR2fXQlnHy9B3Bs/oks2NIRGL0zJ/exjufj+79vLfr+od1B3ckMHC8ohDWlhJFtJ55fFUJL\n",
              "RxzN29qO6/6IaPbjFg/RLBKcm7MP/9+edjieQlXIxEXrFuHyM5fiid1HYJsSCSfY2sl2Apfa4Snq\n",
              "N3/pwE3vPXnY6knheTaRkEZfyg26gfJhKCi4DVkGbFfh8T3t2Lpx5aRu84zlXCEimjkYUIhmoGI/\n",
              "jF853I9r73sO7UcdABpSCoRNA9/f1opf7j6MfV1JuP6xNKLz/zc2SgenEd/+q7/guvNXDuq6CVsG\n",
              "3vPmBfjBcwdgezI7NyUbTrSG0sC8KgtSiEmfGjvSuULsDCKauRhQiGaQUj+MLzplMa79/nM4dDSd\n",
              "/1jf13D9oBi2d2D4ieMT4WuNR148iF0H+3FX9nya/DXtaUfS8dA3kIFCsH+spYDSQNiUqI+GAGBS\n",
              "p8YWO1co6Xho3tGG7ft68tdIRDMPa1CIZojcD+MHduxH0vFgSoGk4+H+7W24+j934HBfEE40JnJy\n",
              "zshydSpSCDTEjtWRFF6T4yosqgmjKmQC+tg2Un00hOXzq/LFs5M5NbbwXKF50RCitol50RAaYzZr\n",
              "XYhmOK6gEM0QQw/5K2zjzRRs3UzsaL+R5Qpqg3H4ArZp4PE97XB9f9jBgzURCwMZF23dA5ACsIzg\n",
              "ZOD+tJc/HXgypsaWOlcIAExD5q9xsmtdiGhqMKAQzQBDfxjn2ngdT0EMacOZ7HACID/ePne4n21K\n",
              "DDgenthTPCBUhSw0VoeR8RSqbAOOqyb9dOBi5woVmu4Tkono+DCgEM0Apdp4DSngq3JEkuJqI1b+\n",
              "9OGIFayMlAoIEcuAZUjcu+Us2JYx6d01hZ1D0SJ5pxJOSCaiiWMNClGFKTbDpPCQP6WzbbwAXF/l\n",
              "z8eZbIULM57SsE2J+lgoX0dy4bpFqAqZ+YMHh3I8hUjIQH3MLsvk2Ny5QmnPh+cPvobJrnUhoqnH\n",
              "v1oQVYjR2mWHtvEqBK2/k0mKYBtHA5DQ8NSx+pN5VSH0p47VkWw570QYUuCBHfvh+WrQNk8uIFy+\n",
              "dmlZA8LmDSuwY18vWjrisE0Dthms6kxmrQsRTQ8GFKIKMFK77NN7u3BGUx3+3ysdg9p4CwesSQEY\n",
              "AnCLL2aMSVDQKqBUEEhOaoxBaY3DfWlk/OCk46g9uI5kugNCQ8zGXVeuR/O2Njy+px2pjD/ptS5E\n",
              "ND2E1uOZI1kZbrrpJtx+++3TfRlEk+abv/4LHtixf1A3DACkMx72dQ8gZEjMj4ZgSIGeZAYJx8sX\n",
              "wxoyKGL1Fca93ROsjFjQAI5mZ6XkVkzqYyHMi1joTbn4yJnLsOVtJxatI+lKOIMCQiRk4KK1Uz8o\n",
              "jZNkiWYXrqAQTbOR2mWPplworeEphdrsJNZY2MTRAQcHjwYH7vkKIxbKiiHj7E0pUG0bSHkKS+rC\n",
              "sAwD+3sGBnX/aABdiQx6khmsW1KLLW87sWTYaIjZuPGCNdi6ceW0BoSwZTCYEM0iDChE06xYu6zS\n",
              "Gp4fzA4JRsYLZDwfRwdc9Ke9koWpQ+VakHOzUWrCJqrDFu7efDr++RevoKUjjrQ7uCC3kNLB9tNY\n",
              "MCAQ0WRiFw/RNCvs0HF9hfa+FFo6Eni9MwnHU1AqmA178GgaPQMuXF8Nm3UiSx1JnB0rqxGElaqQ\n",
              "iVjYxKoF1bjryvX4yJnLkPF1foXFlMGMk7ApEbYkTCnQEU/j3t/tK9v9ExEVw4BCNM1y7bIDGQ/7\n",
              "ewbQMxBs6+RoAK6v4XgKpgy2a4I1lUDu7ZIhBUE4qY1YcJXKt942xGxseduJWFBtwzQELEPAMiSk\n",
              "EBBCQCAYygYIPL6nveQqCxFROTCgEFWAzRtWIBIykMr4ENn1kcKCVw1kV1LEoMdMKWAaAqYhcWJ9\n",
              "FWxDQAAIGRJSZOtPEISa/pSLAcfHQMZDVyLYtonZJsKmDDp3ho6kBaChIQWQ8YKx+kREU4UBhagC\n",
              "5LZ5orYB6GDFZHAcCYJGxlP5wwClCAKKgIDWQMg0MC9qY340hKXzw4iGzPxqiykFasIW6iIWHt15\n",
              "EDc8uBNdCQdhy8D71i4CACg1uK5Fa509idhAlc2JrEQ0tRhQiKZQsSmxANDWnUR7fxoDGR9e4XwT\n",
              "KWAV/CnN1ZKI7CF8QghoBDNKct0+m89twi//xzvwkbOXYl6ViVWNUZy8qBrL5lehodoedtLvNW87\n",
              "EYvqbPgqmEzrq+B13Oz0WMsQnMhKRFOOfyUimgKFU2IHMh5CpsRFaxdhy9tOhNbAFx/9ExLO8BoP\n",
              "X2kUPmoIwDCC4tWMp+BDQWsgHDLQncwMGo729KvdqApZCIcG/zEfetJvQ8zGPVvOxjX3PIf2/hR8\n",
              "HazOVFkGLEPg5EU1nMhKRFOOAYWozHJTYl9t74frK6Q9BaWB//v0a3jspUN458mN+MvheL4VuJTc\n",
              "+31fY0HMRl86qCkxDYEFNTY+cOoJ+eFoXQlnXCf9rllYjZ/ecB7u/d0+PL6nPXsKsTktA9eIiAAG\n",
              "FKKya97eir8c7kPaU/kTiA0hoDRw6GgKP3zuALTWMA0B1y8dUXI1KYYMtnhOqIvggjcvwAdPW4Ll\n",
              "86sGbcFM5KTfhpiNv7vwTbjh3as5kZWIph0DClEZvdE7gPu3taEv7UFlC1a1DkKGISW09uEpHbQJ\n",
              "A6OuoigN1FVZ+N6Ws4aFkkK51uWJHOTHgWtEVAlYJEtUJp1xB5/74UvZcfXBYxpB+3DGV9Baw5Ay\n",
              "/7ga4zk6HfEMvvTon7C/Z2DE2SSbN6zAqgXV6Ew46ElmkHQ89CQz6Ew4POmXiCoeV1CIJsnQw+qa\n",
              "t7eitSsZFLT6wSoJsufiKB0EFSGCgtTcY2P1XFsvPnDn77BsXgSXFNSeFOJJv0Q0kzGgEB2noR06\n",
              "timx8eRGPPlyB2xLQgoLnYlMvoYkd3ifr4IhaFUhA77ScH2FMR6xAyBoCT4Sd9C8ow3b9/XgrivX\n",
              "Fw0plXCQHxHReDGgEB2HfIfOkXjQoeP68HyNls4kgGBAWl2VBVMKeErnB6cBwbZOyBAImQb+9vQl\n",
              "AIAfvfAGegfcUT9vUCwbtBqfUBvOzzW58YI1RT+edSVENNOwBoVoHIYOWmve3opXj8SRznjBkLXs\n",
              "BNgcT2n0JjPZc26CaJJ7vxRAOGTi5IXVuO78lfj79/8Vtt38bnzkzKUwRjhXBwjCiRDBBFkpRX6u\n",
              "Cc/LIaLZgisoRGNQuI2Tcn1ELAMXvHkBntjTjoznI+Up6BI1JL4GUq5CxJKoCVuIp114SmNeVQib\n",
              "z20aVA8Stgz83YVvwp/b49j1Rl/J6zFkMDlWiuBAv6FzTYiIZjoGFKJR5LZxWjriCJsGQqZE0vHw\n",
              "4LP7kcj4yIyxcCTlKnjKRbVt4sTGGP7tI6dhybyqYR/XELNxzonzsfdIHCm3+Gt7voYQArVVFqQQ\n",
              "ReeaEBHNZPxuRjSK5u2taOmIozFm5+eJRG0gahvoPZIY12t5vsbqhdX494+dXrKLJu36+H+vdMA0\n",
              "JEIKyPjDQ4qvgSpToD4WGnWuCRHRTMSAQjSCtOvjid1HEDaNQcPOgKD2YxydwQCC4tbegcyIKx1t\n",
              "3QN4ozcF1y+9bQQAtZEQ+lMeHM/nXBMimnUYUIhGkHC8YWfauL5Cd8JBf9ob12tJAUghkHRGrhX5\n",
              "2UtvwFPBqkmuNTk3YrYwryQdF4vnVXGuCRHNSgwoRCMYeqaN6yvs7xmA4ymIUTptCgkEAQUI5p44\n",
              "no+06w8LKWnXx5MvdyJiGcdONxYFL5JNKLGQgcaaMB6+7lzUVoWO5xaJiCoSAwrRCArPtEm7Hg72\n",
              "pjCQLVwdRz6BJQFPA4YAepIZfPQ7OxCxDFy0LjgtOGabSDgeHNdHyvVRVxVC0klBA8O2eQSAuqoQ\n",
              "XF/DHc/4WSKiGYQBhWgUmzeswO9auvHHA72DJr3mosFoB/wBgKuDD9ICCBkSphRIOh7u296GH714\n",
              "AGHTgOtr2NkOIcuQsIxjw91yhAiGvymtEQ2xa4eIZi9+dyMaRUPMxunLa7Hn4FF42RWL3CRXQwp4\n",
              "vgoO+yuRUkwJWIaEBrCsLoJwKPhjZ5sKPUkHvUmFmG2isdpGKuNjIOPBUxrVYRP9KQ+GRHYom4an\n",
              "gZqwhYyvcNHaRezaIaJZi5NkiUaRdn38v5c7YcrhmzrB2TqDu3kkglWOiGXglCU1eOj6DVg6rwoN\n",
              "UTsfTgCgO5lBxtfByHpfIRIyMC8awtK6CLQGUhkfUgTTaINzeoKPVVqza4eIZj2uoBCNoq07iTeO\n",
              "puD5Kr+doxEEB5Xdf8ltw0gRrJbURCzURUwc7kvj/9vdDsdTgzqBlNboS7kQAhAIRtYrpSENgXDI\n",
              "REPMhusr1FVZ6Io7SHkKYVOisdrGB0qcXkxENJswoBCN4mcvHcpObgVsQyLjq/x2TuG2Tm7bR+ng\n",
              "/J0Bx0NNxMJvX+3Mj6KP2rnnZQ8OzG7dSCEgC1ZoqkIGPCVx37VnwzYNWFLAVZqnERPRnMEtHppz\n",
              "hh74N9rHPvlyB6psA7m+nVyR69ANH9uUMGXuVzB+PpXxkXYVNp7cgLTnw8tOhZVCQAhAqSDs1EaC\n",
              "kfU5jhds+dRHbTTEbNRWhdAQsxlOiGjO4AoKzRnFDvzLtfmW2i7JDWqbHw2hSzn5+SdSBisffnYF\n",
              "xcyeLpwjhIAQGgnHw4IaG1vOOxF/OhhHS0cctmnANiVCpkQirRAJSdRHj80y4eh6IiKuoNAckTvw\n",
              "74Ed+5F0vHybb/OONtzw4E50JZyiz8sNavN9jeX1VZgfDQUrHTrYzglqSLJ1KUXm0iutsXFNI5bU\n",
              "VeGuK9dj0zlNiIVNeEpjYbWNE+oiCJsS/WkPScdDTzKDzoTDIlgimvO4gkJzQqkD/zxfoaUjjuZt\n",
              "bbjxgjXDnlc4qK1am1hYE0ZjtQ2lNTxf4fWuJMIhA9BA2lOQQgdFr9DwlYZtGbj6rSsABO3KN16w\n",
              "Bls3rkTC8fLD2Zq3teHxPe1IZXzEwiZH1xMRgQGF5oCRDvwzDQnbNPD4nnZs3biy6JbK5g0rsGNf\n",
              "76DtGccLtmEW1YSRchXqqyz0pT30pVxoHdSYmKbA5nOWY8m8qkGvF7aM/OcJW8aw0MJtHSIibvHQ\n",
              "HFDswL9CuQ6bhFP88L+GmD1seyYWNrHpnCbcc83ZWLOwGr0pF5Yhsbg2jPnREGK2gdOWzcN1568c\n",
              "0zWGLYNFsEREBbiCQrPe0AP/hnI8hVh45LHxxbZncmHirivXD9qmqa2ycNHaZdymISI6DgwoNOsV\n",
              "1pF4vhq0zTPejpnC7ZmckcILERFNDAMKzQkj1ZFMVsdMsfCSdn2GFiKiCWBAoTkhV0cyVR0zE5m5\n",
              "QkRExzCg0Iw31lWKqdqKyc1caemII2waCJkyP3Nl+74e3HXleoYUIqJRMKDQjDXRVYpiWzGTaaIz\n",
              "V4iI6Bi2GdOMNNHJsOU21pkrYzkHiIhoLmNAoRmpcJViXjSEqG1iXjSExpidX6WYTGM9YPB4Z64Q\n",
              "EVGAWzw044xlleIXuw/j8jOXov44h5+NdxtpMmauEBERV1BoBhpplcL1FZKOi9auJD5893Z86K7f\n",
              "419//eqEtnwmso2Um7mS9nx4vhr0vtzMlYvWLmLLMRHRKBhQqGKU2kYZ+nhulSLt+fCUgsqeIuz6\n",
              "Cgd6BtCf9qA1EDKPry6lcBuptsqCbUrUVlmjbiNt3rACqxZUozPhoCeZ4SnFREQTwHVmmnaltlEu\n",
              "OmUxfvmnQ0UeX4TaiImWjgQ6+x1IKVAbseArhbSrIIDseTgWMMHumdw2kiUluhJOPvQIAdRGLJhS\n",
              "ljxgcKpnrhARzUZC6+xfP2eQm266Cbfffvt0XwZNgmIzQzKewoAbbJGYUqAqZB57POPBUxpSCgxk\n",
              "fPjZbRStAYUgQFRZBpbXV8GUxxYIe5IZxMImfvqZ88a0vdKVcPChu36P7oQDV2lIAQgIaGgoDVhS\n",
              "oD5m46c3nDdi4OAkWSKiieEWD02rUt04EkB/Ouh0qa2y8o8LAcTTHkwhsLIhivqYDUMK5Ko9tAY8\n",
              "pdGdyMBTx2pAxts9E7NNpDIeMr6CJQVMKWFk/2lJgYyvkHb9UYtdeUoxEdHEMKDQtCnVjZPxfPQM\n",
              "ZAAAPQMuWjoSONKfRsbzkXB8SAHEHQ9SCsyPhmAactB/yEpr9CQz2N89kA8pjqcQCRnj6p4RQkzK\n",
              "fRIR0fgxoNC0KdaN4/oKB3pTUAUbj77S6E5mgseVhpAi2NLRGt0JB46nEDIlZDZPSAGYUsDxVLCS\n",
              "MoHumYTjIWwZCBkSntLwlIKvg396SiNkSIQtg/NMiIjKhEWyNG2KzQzJBY4cAcA0BKCDVRBoDWhA\n",
              "GEEa6U97QX2IEJAieLfra0gR1Ir0JDPwtcaacXbPxOxgVonSGr7S6Eu50BqQQqC2yoIhBeeZEBGV\n",
              "EVdQaMoMbRfOzQxJuR7SGQ+eUuhPexACMLLLIYYUEBD5AAIAvgaqbRPQQSARENBaQ2sgbEoIIeAp\n",
              "QGVXWS5euwh3jvOAvty1ub5CfTSEVQtiWLkgilULYqiPhuD6ivNMiIjKiH/9o7Ir3Ua8CAMZHwMZ\n",
              "hZ5kEgKAGvJcX2kAClIKKK2hAcRsAwoIVjWgoZSGD0ADyGQ7bgxDwFMaAsBfOhITuu7NG1Zgx75e\n",
              "tHTEYZsGbFPC8YLtIs4zISIqL66gUFmVmsZ637ZWXP7tbfjRC29AICg4GRpOjq2YaGitISAwryqE\n",
              "H163AVed24TqiIWIZQAQCBnBykmu40YKASmCj3+9MzGhs3ly80w2ndOEWNiEpzRiYRObzmka94oM\n",
              "ERGNT1lXUN773veivb0dUkpUV1fj3/7t37B+/XqsWLECtm0jEokAAG6++WZcccUV5bwUmiaFbcS5\n",
              "Tp2oDaRcL9jOAVBqEI/SyNeXVIdNCCGw+ZwmrFtSi3VLarF140rs7xnA3z/6J+w80AtoQEFAKwWt\n",
              "g9bixhob/Smv5FC10TTEbNx4wRps3biS80yIiKZQWQPKww8/jLq6OgDAY489hi1btuCPf/wjAOCh\n",
              "hx7CaaedVs5PT9OsVBux0hrx7IyT0aYEKg0IrdE34OHMFfMGbauELQNrFlbja39zCi7/v3/AgOsD\n",
              "BYWs9bEQTCkHzUCZaLgIWwaDCRHRFCprQMmFEwDo6+ub0FwJx3HgOIPPUPH9kY+8p8owtI1Y6aBe\n",
              "RGkN1x/7AGMNIGob+KdL1xXdVlk+vwqLaiOIOy5qI1Z+eyeHJwgTEc08Zf+OfdVVV+G///u/AQC/\n",
              "/OUvBz2utcbZZ5+Nf/mXf0FjY2PR59922234yle+Muixc889t3wXTJMm10bcn3IRT7voT3vBwX7Z\n",
              "YtexEgAaq20sn19V9P25jpsHduwPVlDksXCSm4Fy+dqlXAEhIppByl4ke9999+HAgQP453/+Z3zh\n",
              "C18AADz99NPYtWsXXnzxRTQ0NODqq68u+fybb74ZfX19g36dffbZ5b5smgRhy8DbV9ejM+GgK5GB\n",
              "4ym4voY7tBp2DEZr6eUJwkREs8uUrXlfffXV2Lp1K7q7u7F8+XIAgGVZuPHGG7FmTekTZm3bhm0P\n",
              "XtY3DP5NuNKUOhQv5Sr4anwrJkMZUuCj5y4f8WN4gjAR0exStoBy9OhRDAwM4IQTTgAA/OQnP0F9\n",
              "fT3C4TCOHj2ar0/5wQ9+gPXr15frMqjMSs042bShCTHbxBO72wEBmEJkZ5qMXhhbyJDB9o5tjh5K\n",
              "2XFDRDR7lC2g9PX14fLLL0cqlYKUEo2Njfj5z3+OI0eO4LLLLoPv+9Ba46STTsJ9991XrsugMuqM\n",
              "O/jMAy+ipSOOiGXAtgwk0i7u29aKP7zWjVsveTP60y6kACxDwpAanq8wlvpYSwJ1URumFKiJWOMq\n",
              "cGXHDRHRzFe2gNLU1IRnn3226Pt27txZrk9LU6Qz7uBTzc9j5/6jkFIgmfFhCMDLbue8sL8H//DT\n",
              "3dBaA9lR9K6vBh0CWIopgZMWVEMC6Ew4HClPRDQHse+Sxu2Vw/249vvP4eDRNADA9zVyGzcCwUnC\n",
              "0MCf3ghay32loZUeNim2FCEE4mkXGU+xwJWIaI5iQKFx6Yw7uPb7z+FQNpwMlYsqhiGhfJVdQRk+\n",
              "xn4kvtJwXIXLTl+C685fyQJXIqI5iGfx0Ljc+/vX0d6fzp4yXJyvNPxsrckEOopRXxUCoLHrYP9x\n",
              "XCkREc1kDCg0ZmnXxxN7jgAIJrUasnhE0QB8nV1NKVFzkt8KGqIhGsKiuggWVIfR0hGf0CF/REQ0\n",
              "8zGg0JglHA8ZTyEoMdEwDYESGWUQgWMnE+c+vFjDcTRkoLE62M4xDQnbNPD4nnakXR5tQEQ01zCg\n",
              "0JjFbBNVIRNhUwbdOBoImRKjHbFkSIGQIbPB5lhgya2uCAQrJ8vnVw06VLDwkD8iIppbGFBozHJn\n",
              "3lhGcEKwqzS83F7OCJTWgMCgkCKFwIqGKOZVWVhYbWNxXWRQOAGCQ/4iIYOH/BERzUEMKDRmadfH\n",
              "+089AasWViNsSlRZBtQYDv5TGvB8DZGtW5EC+OjZy/CL//F2XLWhCZ4OBrgVyh3yxxkoRERzE/9q\n",
              "SqMaOs7eNIAVDVH0DrhI9XgQCLZrjk1DGc5TGkr70AhWYraevxJhy8DmDSuwY18vWjrisE0Dtinh\n",
              "eEE44QwUIqK5iwGF8ood+NcZd/DZH+xES0cclpRIez7iaQ+tegCWIWCbEjVhC+39Tr6+pFRIUcFO\n",
              "D/52/RIsmVcFgIf8ERFRcQwoNOKBf83bW9HSEce8KguHjqbheApCAIYQcH2NjKeRdp1joWSEhCIA\n",
              "mIZAJDR4y4aH/BER0VAMKHNc4QpJ2DQQMiWSjofmHW34w2vd6Ek6CJsG+lIeHE/BlAIi37ajoJQe\n",
              "dPhfqbknhhSoj4ZgSIGn9nbhJtcfFkJ4yB8REeUwoMxxuRWSxpid76KJ2kGRaktHHL7SmB8LoSOe\n",
              "wbEm4YCACFqMS6WS/McBJzZUIWKZSDpevnWYYYSIiEphQJnD0q6PJ3YfQdg08uFEaQ2lNaQUCFsG\n",
              "OhMOvH4Hmewyia8UDClgSgGN4ONGOqJYCmTbkoMw4ngKsbDJ1mEiIhoRf0rMYQnHQ8r1ETIlPF+h\n",
              "O5lBX8qF1oAQwaA0X2kM+McmuWpkO3KyFa9hSyKTfV/IAKSQyPhqUGapjViQQuRbhy9fu5SrJ0RE\n",
              "NCIGlDksZpuIWAb6Uy6O9B8rgBVCQGmN/nQwwTVsSWQ8le/C0QgOATSFgOv5+eLXYGabhiEEdHY+\n",
              "itKAbUn0JDNsHSYiojHjoLY5LDcZti/lIu36MKWAKSUMIQb9hxGzTcyPhiDEsQadXFDxVLDSsmJ+\n",
              "FeqjIUgRFNHmWpBNKaAUEAub2HROE+68cj1bh4mIaFRcQZnjPnzmMnzn6X3ZE4g1RHYVxFc6f2ZO\n",
              "PO1h1YIY6mM2uhMO4mkveL8AaqoshE0D4ZCJcMhEY7UNpYLalKMDLqpsA/duOQv1MZvbOkRENGZc\n",
              "QZnjbMvA/GgINeGgTgQIzsmpj4YQMiUgBLQOimdDhsTi2ghWLYihsdrGiQ1RXHn2MrhK5UfVSyFg\n",
              "GhJKaaRdD+9c08hwQkRE48YVlDkuZgcdNQLAknmR/OpHEFZS6E5mAIF8eAEApTRcX+HidYuxaUMT\n",
              "XtjfN2hU/UDGR18qA0DgF39qx1OvduUHv3F7h4iIxoIrKHNcrg4l7flQSsM0ZD6M1GW7bwwp0J3I\n",
              "IJ520ZPMoDPh5Itdc6PqN53ThFjYhOMp9KVdCAjUVVmwCwa/3fDgTnQlnGm+YyIimgkYUAibN6zA\n",
              "qgXV6Ew46ElmkHQ89CQz6E5m0BgLIWIZ6E46OHg0hbTr42/WLxlU7JobVf/Tz5yHi09ZhCrLQFN9\n",
              "FRpiNqK2iXnREBpjNlo64mje1jbNd0tERDMBAwoNWwXxlEbYkqiyTTi+RlXIxNJ5kXwg2XWwv+Rr\n",
              "Pf1qFyLWscFvOWZ2WNvje9qRdv0SzyYiIgowoMxBaddHV8IZFBQKV0Ee/fRbceHaRUi7PhZW25gX\n",
              "DSFmW2iI2VhQXXolpHDwWzG2KfNj7omIiEbCItk5ZKRTi3OrI7lumydf7hg0Aj+ncCVk68aVg7pz\n",
              "coPfko6HaJFaWI65JyKiseIKyhyRO7X4gR37kXQ8mFKULF6d6EpIYcFtru04Jzfm/qK1i9hyTERE\n",
              "o2JAmSMKTy2eFw2NWLyaWwnJeKroazmeQiRkFF0JKVVwW9j5Q0RENBoGlDmg2KnFOcWKV49nJaRY\n",
              "wS3H3BMR0XixGGAOKNyyUVpDaQ0pRH7eSeGWTS50bN6wAjv29Q4awOZ4akwH/uUKbrduXImE4yFm\n",
              "m9zWISKicWFAqXBp1z/uH/Ix24RlCHTEHWQ8Ba0BIYDaiIX6WKho8WpuJaR5Wxse39OOVMZHLGzi\n",
              "8rVLxzwRNmwZDCZERDQhDCgVqlTHzeVnLoVtGeMKLPG0FwSdtAdDAlIGKyk9yQwSaRfhkInLz1g6\n",
              "7PW4EkJERNOFAaUC5TpuWjriCJsGQqZEf8rF3U+/jm8//RrmV4VQHbbGfL5N8/ZWpDI+IiEDjqeg\n",
              "tYaAgIZGylWYHzNG3LLhSggREU01FslWoKEdN4YU6Eo6SLk+0q5Ce38ah46mcN+21lHPt8kVyFaF\n",
              "TDTNr0J9NJSvPTGkQMw2YZuSs0mIiKiiMKBUmKEdN56v0NqdhOvr/McoDSQzHtKewqvt/SOeb1NY\n",
              "IGsaEgtrwli1IIaVjVGsWhBDY7UN19ec7kpERBWFAaXCDB2S1pXI5MNJduEDAoAlBRxPwfX1iOfb\n",
              "FJtpIoXIn1o80kwTIiKi6cKAUmEKA4XSGv1pF0AQSgoJISAFkPZ8DDheyRUQTnclIqKZiAGlwhQG\n",
              "ioznQ2mdDyc6u8tjSAEhBAQElAZCo9SQcLorERHNNAwoFSgXKHoG3HwoyVWgSAGYMogsSmsAetQV\n",
              "EE53JSKimYaFBxWocEja/dvb0DuQyScUKQAFQPk+fAUsqYtgy9tOHNNrcqYJERHNFFxBqVC5QPGz\n",
              "z56H9cvnoa7KQixsQggB39fQWmDJvAj+85qzxrUCErYMNMRshhMiIqpoXEGpcEvqqnD35jPyI+cH\n",
              "HA+2KXHhukXYct6JI4aTyRiTT0RENB0YUKbBeIPDeLdnSo3JH+sZOkRERNONAWUKHW9wGMvI+WJj\n",
              "8pOOh+Ydbdi+rwd3sSiWiIhmANagTJFccHhgx34kHQ+mFPngMNq4+vEYOiY/apuYFw2hMWajpSM+\n",
              "4tRZIiKiSsGAMkWmIjgMHZNfyDQkbNMYceosERFRpWBAmQJTFRyGjskfyjYlUhmf5+4QEVHFY0CZ\n",
              "AlMVHIqdu1OI5+4QEdFMwYAyBaYqOPDcHSIimi0YUKbAVAYHnrtDRESzAQPKFJmq4MBzd4iIaDYQ\n",
              "WueOo5s5brrpJtx+++3TfRnj1pVw8hNhUxkfkZCBi9aWb4AaJ8kSEdFMxWrJKTTVB/aNZbAbERFR\n",
              "JWJAmQYMDkRERCNjDQoRERFVHAYUIiIiqjgMKERERFRxGFCIiIio4jCgEBERUcVhQCEiIqKKw4BC\n",
              "REREFYcBhYiIiCoOAwoRERFVHAaUMku7ProSDtKuP92XQkRENGNw1H2ZdMYdNG9vxRO7jyDl+ohY\n",
              "Bi5aV76DAYmIiGYTrqCUQWfcwWd/sBMP7NiPpOPBlAJJx0Pzjjbc8OBOdCWc6b5EIiKiisaAUgbN\n",
              "21vR0hFHY8zGvGgIUdvEvGgIjTEbLR1xNG9rm+5LJCIiqmgMKAUmo14k7fp4YvcRhE0DpjH4X69p\n",
              "SNimgcf3tLMmhYiIaASsQcHk1oskHA8p10fILJ79bFMilfGRcDyELWMyLp+IiGjWmfMrKJNdLxKz\n",
              "TUQsAxlPFX2/4ylEQgZiNrMhERFRKXM+oEx2vUjYMnDhuoVIez48f3BI8XwFx/Nx0dpFXD0hIiIa\n",
              "wZwOKOWqF9m8YQVWLahGZ8JBTzKDpOOhJ5lBZ8LB6gXV2LShaTJvg4iIaNaZ0wFlPPUi49EQs3HX\n",
              "leux6ZwmxMImPKURC5vYdE4T7rxyPeegEBERjaKshRDvfe970d7eDiklqqur8W//9m9Yv3499u7d\n",
              "i6uvvhpdXV2ora3Fvffei7Vr15bzUorK1YskHQ/RIpnB8RRiYXNC9SINMRs3XrAGWzeuRMLxELNN\n",
              "busQERGNUVlXUB5++GHs2rULL730Em666SZs2bIFAHD99dfjuuuuw6uvvoovfOEL+cen2lTUi4Qt\n",
              "Aw0xm+GEiIhoHMoaUOrq6vJv9/X1QQiBjo4OPP/889i0aRMA4LLLLsOBAwfQ0tJS9DUcx0F/f/+g\n",
              "X74/eTNEWC9CRERUecpeg3LVVVdh2bJluOWWW3D//ffjwIEDWLx4MUwz2DYRQmD58uXYv39/0eff\n",
              "dtttqK2tHfTr2WefnbTrY70IERFR5RFaaz0Vn+j73/8+HnroIfzTP/0TrrzySvzlL3/Jv+/ss8/G\n",
              "v/zLv+Bd73rXsOc5jgPHGTyL5JZbbsEdd9wx6deYdn3WixAREVWAKZsWdvXVV2Pr1q1YunQpDh8+\n",
              "DM/zYJomtNbYv38/li9fXvR5tm3DtgevYhhGecJD2DIYTIiIiCpA2bZ4jh49ikOHDuV//5Of/AT1\n",
              "9fVYsGABTj/9dDQ3NwMAHnnkESxduhSrVq0q16UQERHRDFO2FZS+vj5cfvnlSKVSkFKisbERP//5\n",
              "zyGEwN13340tW7bga1/7GmpqanDPPfeU6zKIiIhoBipbQGlqaipZzHryySdj27Zt5frURERENMPN\n",
              "6UmyREREVJkYUIiIiKjiMKAQERFRxWFAISIioorDgEJEREQVhwGFiIiIKg4DChEREVWcKTuLZzL9\n",
              "zd/8DVasWDHdlzEq3/fx7LPP4uyzzy7beP7pNJvvj/c2M/HeZq7ZfH+8t2Oamprwuc99bkyvPSMD\n",
              "ykzR39+P2tpa9PX1oaamZrovZ9LN5vvjvc1MvLeZazbfH+9tYrjFQ0RERBWHAYWIiIgqDgMKERER\n",
              "VRwGlDKybRtf/vKXYdv2dF9KWczm++O9zUy8t5lrNt8f721iWCRLREREFYcrKERERFRxGFCIiIio\n",
              "4jCgEBERUcVhQJmg9773vTj11FNx2mmn4e1vfzt27tyJdDqNSy+9FGvWrMFb3vIWXHDBBWhpaSn6\n",
              "/NbWVhiGgdNOOy3/67XXXpviuyiu2L0BwIoVK3DyySfnr/ehhx4q+Rrf+973sHr1aqxcuRKf/OQn\n",
              "4bruVF3+iIrdW3d396Cvw5o1a2CaJnp6eoY9v5K/bjn33HMPhBD4yU9+AgDo6OjAhRdeiNWrV2Pd\n",
              "unV4+umnSz735z//Od70pjdh9erV+Ju/+Rv09/dP0VWPzdB7u+aaa/J/3s477zw899xzJZ8rhMAp\n",
              "p5yS/7o988wzU3TVYzf0/jZu3IgTTzwxf83f/OY3Sz53pn3tzjnnnPx9rVu3DkII7Nq1q+hzK/Vr\n",
              "V+p74t69e/HWt74Va9aswVlnnYU9e/aUfI1K/V5Z7N6m/Gecpgnp7e3Nv/3oo4/qU089VadSKf2L\n",
              "X/xCK6W01lrfeeed+vzzzy/6/H379una2tryX+gEFLs3rbVuamrSO3fuHPX5r7/+ul68eLE+fPiw\n",
              "VkrpD3zgA/quu+4q09WOT6l7K/R//s//0ZdccknR51fy103r4Po2bNigzz33XP3YY49prbW+5ppr\n",
              "9Je//GWttdbPPvusXrJkic5kMsOeG4/H9YIFC/TLL7+stdb6M5/5jP67v/u7qbr0URW7t5/+9Kfa\n",
              "dV2ttdb/9V//pZuamko+H8Cgr3+lKXZ/559/fv7tkczEr12hH/3oR3rdunUln1+pX7tS3xPf+c53\n",
              "6nvuuUdrHdzbmWeeWfT5lfy9sti9TfXPOK6gTFBdXV3+7b6+PgghEA6HcfHFF0MIAQA499xz0dra\n",
              "Oj0XeByK3dt4/PjHP8YHP/hBLFq0CEIIbN26FT/4wQ8m+SonZiz39r3vfQ/XXnvtFF7V5FBK4ROf\n",
              "+ATuvPPOQS1/Dz/8MLZu3QoAOOuss3DCCSfgqaeeGvb8xx9/HOvXr8eb3vQmAMCnP/3pivm6lbq3\n",
              "D37wgzBNE0Dw5+3gwYPwPG+6LnPCSt3fWM3Er12hmfpnrpiOjg48//zz2LRpEwDgsssuw4EDB4qu\n",
              "NFTy98pipvpnHAPKcbjqqquwbNky3HLLLbj//vuHvf+OO+7Ahz70oZLPTyaTOOuss3D66afjq1/9\n",
              "KnzfL+fljkupe7vqqqtwyimn4Nprr0VnZ2fR5+7fvx9NTU35369YsQL79+8v+zWP1Uhftz/84Q/o\n",
              "7e3FJZdcUvL5lfp1u/3223HeeefhjDPOyD/W3d0N13WxaNGi/GOlvh7Fvm6HDx+uiB/4xe5tqDvu\n",
              "uAMXX3xxPrAU8+53vxtvectbcNNNNyGZTJbjUidkpPv74he/iFNOOQVXXHEFXn/99aLPn8lfuwMH\n",
              "DuCpp57K/0AvpVK/dkO/Jx44cACLFy/O/3cohMDy5cvH/Geu0r5XjvT9vtw/4xhQjsN9992HAwcO\n",
              "4J//+Z/xhS98YdD7vva1r6GlpQW33XZb0ecuXrwYBw8exHPPPYcnn3wSzzzzDL7xjW9MxWWPSbF7\n",
              "e/rpp7Fr1y68+OKLaGhowNVXXz3NVzkxI33dvve97+Gqq64q+UOuUr9uu3fvxiOPPIJ/+Id/mO5L\n",
              "mXRjubfm5mY8/PDD+M53vlPyY9ra2vDCCy/gD3/4Azo7O/G//tf/KsfljttI93f//ffjlVdewa5d\n",
              "u/D2t799xOBcicbytbv33ntxySWXoKGhoeTHVOrXbrZ8TyxmtHubkp9xx7VBRHnhcFh3dXVprYMa\n",
              "hjPOOGNce6YPPvhgybqH6VZ4bzmHDh3SsVis6Mf/7//9v/X111+f//0vfvELfd5555X1Gieq8N7i\n",
              "8biOxWL5ffyxqJSv27e+9S29aNEi3dTUpJuamrRt27qxsVF/61vf0lVVVfrw4cP5jz3rrLP0r3/9\n",
              "62Gv8fDDD+v3ve99+d/v2bNHL1myZEqufyQj3ZvWWv/whz/Uq1at0m1tbWN+zT/84Q8j1jxMpdHu\n",
              "r5Bt28P+LGo9c792Sil94okn6ieeeGLMr1lJX7tCue+JR44c0dXV1fnaKKWUXrhwod67d++w58yU\n",
              "75VDv99P1c84BpQJ6O3t1QcPHsz//rHHHtNLlizRSin9jW98Q59++um6p6dnxNc4cuRIvlAxnU7r\n",
              "v/3bv9W33HJLWa97LErdWyKRGPQf4ze+8Q399re/vehrvPbaa8MKv+68885yX/qoRvq6aa31f/zH\n",
              "f4z6zaFSv25DFRZXXn311YOKZE844YSiRbL9/f26sbFxUKHl5z//+am65DErvLeHHnpIr1q1Sre2\n",
              "to74nJ6eHp1MJrXWWvu+rz/3uc/pzZs3l/tSJyR3f67r6vb29vzjP/7xj/Xy5cuLPmcmfu201vrJ\n",
              "J5/Uy5Yt077vl3xOpX7tRvqeeP755w8qkj3jjDOKvkalfq8c6d6m8mdc6c1aKqmvrw+XX345UqkU\n",
              "pJRobGzEz3/+cxw8eBCf//zncdJJJ+Gd73wngOCcgh07dgAAbr31VpxwwgnYunUrfve73+HWW2+F\n",
              "YRjwPA/vete78KUvfWk6bwtA6Xs7cuQILrvsMvi+D601TjrpJNx33335533iE5/ABz/4QXzwgx/E\n",
              "SSedhK985Ss477zzAAStktdff/103VJeqXvLFXx973vfwyc/+clhz5sJX7eRfP3rX8fmzZuxevVq\n",
              "hEIhNDc3w7IsAIPvrbq6Gv/xH/+BSy+9FJ7nYd26dfj+978/zVc/so997GNYtGjRoH3w3/zmN6iv\n",
              "r8e3v/1tHDp0CF/96lfxyiuv4Prrr4cQAp7n4fTTT8cdd9wxjVc+Osdx8P73vx+O40BKiYaGBvzs\n",
              "Zz/Lv3+mf+2A4M/cNddcAykHVxvMhK/dSN8T7777bmzZsgVf+9rXUFNTg3vuuSf/vJnwvbLUvb3x\n",
              "xhtT+jOOZ/EQERFRxWGRLBEREVUcBhQiIiKqOAwoREREVHEYUIiorFasWIGXXnpp0GMbN27ET37y\n",
              "E9x666144IEHRn2Ne++9F5deeml5LpCIKhK7eIho2nz1q1+d7ksgogrFFRQimjZbtmzBv/7rvwIA\n",
              "4vE4rrjiCrzpTW/C29/+dlx//fXYsmVL/mMTiQQ++tGP4pRTTsGZZ55Zcuw7Ec0OXEEhorK74oor\n",
              "EIlE8r8vdnDaV7/6VUQiEbz88stIJBJ461vfOuj8lueeew4vvfQSTjzxRHzxi1/E17/+ddx9991T\n",
              "cv1ENPW4gkJEZffQQw/hpZdeyv8688wzh33Mb37zG1xzzTUQQqC6uhpXXHHFoPdv2LABJ554Yv7t\n",
              "1157bUqunYimBwMKEVWk3ITfnHA4nH87N52SiGYvBhQiqgjvete78P3vfx9aayQSCTz88MPTfUlE\n",
              "NI0YUIioItx6662Ix+N485vfjAsvvBBvectbUFdXN92XRUTThGfxEFFFcF0Xvu8jHA4jmUzife97\n",
              "Hz772c8Oq0UhormBXTxEVBF6e3tx0UUXwfd9pNNpfOhDH8KHP/zh6b4sIpomXEEhIiKiisMaFCIi\n",
              "Iqo4DChERERUcRhQiIiIqOIwoBAREVHFYUAhIiKiisOAQkRERBWHAYWIiIgqDgMKERERVZz/Hw06\n",
              "XhL+M2JbAAAAAElFTkSuQmCC\n",
              "\">\n",
              "      </div>\n",
              "      <script type=\"text/javascript\">\n",
              "        (() => {\n",
              "          const chartElement = document.getElementById(\"chart-65d496b2-ac41-4021-a475-4bf7a95c9b94\");\n",
              "          async function getCodeForChartHandler(event) {\n",
              "            const chartCodeResponse =  await google.colab.kernel.invokeFunction(\n",
              "                'getCodeForChart', [\"chart-65d496b2-ac41-4021-a475-4bf7a95c9b94\"], {});\n",
              "            const responseJson = chartCodeResponse.data['application/json'];\n",
              "            await google.colab.notebook.addCell(responseJson.code, 'code');\n",
              "          }\n",
              "          chartElement.onclick = getCodeForChartHandler;\n",
              "        })();\n",
              "      </script>\n",
              "      <style>\n",
              "        .colab-quickchart-chart-with-code  {\n",
              "            display: block;\n",
              "            float: left;\n",
              "            border: 1px solid transparent;\n",
              "        }\n",
              "\n",
              "        .colab-quickchart-chart-with-code:hover {\n",
              "            cursor: pointer;\n",
              "            border: 1px solid #aaa;\n",
              "        }\n",
              "      </style>"
            ]
          },
          "metadata": {}
        },
        {
          "output_type": "display_data",
          "data": {
            "text/plain": [
              "from matplotlib import pyplot as plt\n",
              "_df_6.plot(kind='scatter', x='Low', y='Close', s=32, alpha=.8)\n",
              "plt.gca().spines[['top', 'right',]].set_visible(False)"
            ],
            "text/html": [
              "      <div class=\"colab-quickchart-chart-with-code\" id=\"chart-86689421-334b-4dd8-b355-28ce7175448f\">\n",
              "        <img style=\"width: 180px;\" src=\"data:image/png;base64,iVBORw0KGgoAAAANSUhEUgAAAicAAAGkCAYAAADqnIU2AAAAOXRFWHRTb2Z0d2FyZQBNYXRwbG90\n",
              "bGliIHZlcnNpb24zLjcuMSwgaHR0cHM6Ly9tYXRwbG90bGliLm9yZy/bCgiHAAAACXBIWXMAAA9h\n",
              "AAAPYQGoP6dpAABdQUlEQVR4nO3de3hc1X03+u9ae+/ZM9LoZsmWbfkiY2yS+lILMNiQBJpAAoUm\n",
              "aYiT1LGJ0yQEzpueUpfnvOF9c2l62qR52jpvCklKOE+5mRBCaNIkBdqkaYCk2ECAGDtJQeAbtmXJ\n",
              "us9t39Y6f+yZ8UgeSSN5xhpJ38/zqDHjmdFSha0va/3W7ye01hpEREREVUJO9wKIiIiICjGcEBER\n",
              "UVVhOCEiIqKqwnBCREREVYXhhIiIiKoKwwkRERFVFYYTIiIiqioMJ0RERFRVZmQ4+epXvzrdSyAi\n",
              "IqIKmZHh5PDhw9O9BCIiIqqQGRlOiIiIaPZiOCEiIqKqwnBCREREVYXhhIiIiKoKwwkRERFVFYYT\n",
              "IiIiqioMJ0RERFRVGE6IiIioqjCcEBERUVVhOCEiIqKqwnBCREQ0w2W8AKcSDjJeMN1LKQtzuhdA\n",
              "REREU9Mz7GD3nkN4Yv9JpL0AMcvAtWsXYtvm5WiJ29O9vCnjzgkREdEM1DPs4E8eehEP7j2CpOPD\n",
              "lAJJx8fuvYfxqW+9iFMJZ7qXOGUMJ0RERDPQ7j2H0Nk9jPlxG021EdTaJppqI5gft9HZPYzdzxye\n",
              "7iVOGcMJERHRDJPxAjyx/ySipgHTGPmj3DQkbNPA4we6ZmwNCsMJERHRDJNwfKS9ABGz+I9x25RI\n",
              "uwESjj/p966G4loWxBIREc0wcdtEzDKQdHzUFql7dXyFeNRE3C79x3w1Fddy54SIiGiGiVoGrlnb\n",
              "iowfwA/UiN/zAwXHD3DtmoWIWkZJ71dtxbUMJ0RERDPQ9s3tOH9BHXoSDvqSLpKOj76ki56Eg1UL\n",
              "6rBt8/KS36vaimsZToiIiGaglriNO7d2YNulyxGPmvCVRjxqYtuly3HH1o6Sj2KqsbiWNSdEREQz\n",
              "VEvcxq1Xr8bNV65EwvERt82Sj3JyJlNcO9n3niqGEyIiohkuahlTDg6VKK49WzzWISIimsPKXVxb\n",
              "Dtw5ISIimuO2b27H3oP96Owehm0asE0Jxw+DyWSLa8uBOydERESzVKkN1cpVXFsu3DkhIiKaZabS\n",
              "UK0cxbXlwnBCREQ0g2W8YESYyDVU6+weRtQ0EDElko6PB/YcxtOdp/C371+P+pg1Zvg4m+LacmE4\n",
              "ISIimoHG2h1Jul6+oZppSPiBQsLxMZzx8MLhfly160nEbRPz62z8wfrF09KefiIMJ0RERDPMeLsj\n",
              "KTdAY8zKB5MjfSlkfAWlNDQArYFExkfGV7j/mUPYc7APd05DXcl4WBBLREQ0w4zVbn5erQXHD5DO\n",
              "FsD2Jl04voIAoLOvFQAsQyBQGlKIaWlPPxGGEyIiohlkvHbzEdOAFAIJx4evFAbTHoQAAqUhCp4n\n",
              "hIAUwLDjI2LIc96efiIMJ0RERDPIeO3mpRCI2yaU1sh4AbQGRDaW5HZODCkghICAgNaAZZxuT18t\n",
              "GE6IiIhmkFy7eddXRX8/FjFgmwYG0x6U1gi0ygcTKQBT5sKKhhCAFyjEIsY5bU8/EYYTIiKiGWSi\n",
              "dvNeoLB90zLcuKkdDTELWgOGyNaaZHdNtNZQGqizTbiBOuft6SdSPTGJiIiISjJRu/mbrliJlriN\n",
              "LRuX4P9+6CW83pNA0vHhKw2osLbEMCSU1rigtf6ct6efCHdOiIiIqsRk2s3//Zb1eF9HG2ptY8x2\n",
              "822NNbhr+0X4yOZ2LJtXg7htwjAkam0TS5tiuHFz+7S0p58Id06IiIimWa6h2mMvdyHlBqiJGLhu\n",
              "3aKiDdLe6E/hvv86hCdf6UHGU7BNiWvWtOIjl7ejrbHmjPce3ZbekgKe0tPann4iDCdERETTqGfY\n",
              "wScf+CV+c2IQXqDzj9/11Gt4uvMU7tp+EVriNnqGHdz1ZCce3HsUjh9ACoG6qAnPMvDPLx7DvmND\n",
              "4zZTq4a29KXisQ4REdE0uuvJTux7YwCOpwCE/UiEAFxf41dHB/DNJ1/Ld4R9cO8ROH6QvQ4MDGd8\n",
              "DKU9NNVYVdlMbaoYToiIiKZJxgvw3V++AT/bWj5QCH+tAVMCSms8+sIx3PuLg3j15BACHfYyMaSA\n",
              "KSVMKeD4CoNpH7ZpVF0ztaliOCEiIiqzUgtbX+0exmA6bH6mCz58peGp8IhnMO3hh/uOI+MFcH0F\n",
              "X2k4XnhlGAh3WQbTHiKGqLpmalPFmhMiIqIyGT0pOGpJXLl6Pj5yWTvamk4Xq2a8MEQ88tzR0zNv\n",
              "CvrLaw0oHfYmgQC6BjNwC+pRgDDAKK1hSgmtgYyvUB+zqqqZ2lTN/K+AiIioChROCrakRMYPcHzA\n",
              "R2d3Ag/sOYLtm5bhhouW4rGXj+OJ/SeRcn2cHHJOv4EGcgNwhAgDigYgoeGO2oDJxRSlAV8pmFJU\n",
              "ZTO1qWI4ISIiKoPcpOCmGgvHBzLhNGABGELA8QPc98xhPPTcUVhSoCZiwpACgT69G6IBCH3m+7rF\n",
              "u9TnKQ0YUmL1grqqa6Y2VRWtOWlvb8cFF1yADRs2YMOGDXj44YcBAK+++iouu+wyrF69Ghs3bsSB\n",
              "AwcquQwiIqKKGky5+Nd9JxAxJQbTPhw/3M0whMgf0Ti+wnAmHNpXFzURj5owpcjPuhEYWXcixvl8\n",
              "hQSA91/UVpXN1Kaq4jsnDz/8MDZs2DDisU9+8pO46aabsGPHDnz3u9/Fjh078Nxzz1V6KURERGWV\n",
              "qzH50b4TONybghBhEMnmDbiBghq1G5L2FA6dSmBZcy3qoyb6Uh6M7P1hUwooHV4nlkLkX5+rPdFF\n",
              "dlaWzovif1/3O7PiOCfnnN/W6e7uxvPPP49t27YBAG644QYcPXoUnZ2dRZ/vOA6GhoZGfATBzL8m\n",
              "RUREM1th75GMG4TBRGkESsMPdLZgtfgOSNrX6OxJQmvANmVYQ6I1FtTZaInbqItZWL2wDkIISJGt\n",
              "MdFhLUruI+eKVQtmVTABzkE4ufHGG7Fu3Tp87GMfQ09PD44ePYpFixbBNMNNGyEEli1bhiNHjhR9\n",
              "/Ze+9CU0NDSM+Hj22WcrvWwiIqJx5WpM5sdtzIvbaIxZ+dSQuw6cO6opJlAa/SkXrhdAayDQQNdQ\n",
              "Bq6vcENHG/7PB383bLYGjAgo+Q+Eweejb22v6Nc5HSoaTp566ins27cPL7zwAlpaWvCRj3xk0u9x\n",
              "++23Y3BwcMTHJZdcUoHVEhERlSbjBXhi/0lETQOmEf4obYnbiJpyxE7JWMFEZD+UBvzsrZzGmImW\n",
              "WhuAxr5jQ6iPRbBhSQOUxojalML37VjWiPNa6sr+9U23ioaTZcuWAQAsy8Ktt96Kp59+GkuXLsWJ\n",
              "Eyfg+9mmM1rjyJEj+eeOZts26uvrR3wYxuzaviIiopkl4YSFrRHz9I9R05BYNq8GzbWREQFFFjnX\n",
              "GbUBAgGgtSGKljobC+qi+Vb0f/WH68L5OYGG1hqGDI95BID6qIm/uWF9xb7G6VSxcJJMJjEwMJD/\n",
              "54ceeggdHR1YsGABLrzwQuzevRsA8Oijj2LJkiU4//zzK7UUIiKisorbJmKWAdcfec/XNCQWNcaw\n",
              "oM6GbQpIhIWtQBhSIoY4I6wIIAwd2UhjGjLfin7ZvBp895bLcMmKeTCyOzSGIXHJinn47i2XYXXr\n",
              "7Ns1ASp4W+fkyZO44YYbEAQBtNY477zzcP/99wMA7rrrLuzYsQNf/OIXUV9fj3vuuadSyyAiIppQ\n",
              "rmNr3DZLKi6NWgauWduKB/cegR+o/NEOAPhB2Fp+zaJ6/PrEMJxsgNEaZ3R5BU7Xp6iCQyDblPlW\n",
              "9Ktb6/DwJzdjMOXi5LCD1jobDTWRs/+iq1jFwsl5552HF198sejvXXDBBXjmmWcq9amJiIhKMrrd\n",
              "fMwycO3ahdi2efmEPUO2b27H3oP96Owehm0asE0Jx1dIuz58pXGwN4WGmAUnUBhMe0WvAY9Yy5CT\n",
              "b3Hv+ArxqDmiFX1DTWTWh5IcDv4jIqI5qfAqcNLxYUqBpONj997D+NS3XsSphDPu61viNu7c2oFt\n",
              "ly5HPGrCVxrxqInlzTXwAoWk46M/5SHtBphXQqjoT3lQWsMPFBw/mDWt6KeC7euJiGhOKrwKnDuW\n",
              "qbXDY5lcQeqtV68e9z1a4jZuvXo1br5yJRKOj8G0i+u++nM4voIhAZltqtaXdCdcjwZwathBoDVW\n",
              "zaJW9FPBnRMiIppzil0FziksSM14pTX9jFoGtAZu+86vkPHD6pFAhU3ZJMa+UnzG+0QMbLt0+axq\n",
              "RT8V3DkhIqI5p9hV4EKFBamlHK30DDv4H996AfveGMw/lit09UtckxTAI5/chAX1sRJfMXtx54SI\n",
              "iOacsa4C5zi+QixijChIHc/uPYfw6slhAKUP7Btt7eJ6BpMshhMiIppzcleBM34APxgZUCZbkPp6\n",
              "9zDu/cUhDKY9BLr0I5xCEsAX37duCq+cnXisQ0REc9JYV4EdP5iwIDXjBTjcm8K3nz2Ebz37Rr6X\n",
              "SSmKzdv54MYlWNvWOKWvYzZiOCEiojkpdxV49zOH8fiBLqTdAPGoiT9802K8u6Ot6JFOri/Kj/ad\n",
              "wBv96UmFkhzTCKf4Ka0RaGBJYwx//q43leNLmjUYToiIqCpNtmvrVBReBT7cm8QPXjqOH/+mGz/Y\n",
              "d+KMhmy5viid3WHX17HqVUqhNAAILGmK4p92bJzTN3OKYTghIqKqcjZdW6dqOOPj8z/4NTq7hxE1\n",
              "DURMmW/ItudgX7jDku2L0hA1cbA3NanaEtMQCAIN0xBorY8iakpcs3Yhdly+gsGkCIYTIiKqGoW7\n",
              "E2OFhEr8MJ+oIdu9Pz+IH/+mG5aUODHkZHc+SiMAQANSAh+7rB0fv2JlRXeDZgPe1iEioqpRGBKa\n",
              "aiOotU001UYwP27nu7aWW6kN2VKuj5Tnw/Emf5wTKI1F9TF8/IqVaInbDCYTYDghIqKqUO6uraUa\n",
              "ryGb0jqcuZPxMJR2MZj2EUw0wW8UKYC2phj+6aOsLSkVj3WIiKgqlLtra6nitgnblEhkfMQiBqQQ\n",
              "8AKF3oSDoYwPN9uOfrJqbQPz62xcv24Ra0smieGEiIiqQq5ra9LxUVvk57jjK8SjZsldW0uRK77t\n",
              "S7roT7noS7mos02kvACOpya9S2IIoKnGQmNtBPd99BI08whnSnisQ0REVaGcXVtLkSu+fXDvEURM\n",
              "iYgh4QUKp5IuUm4wqWBiSQFDCjTVRAAhcP26xWhrqmEwmSLunBARUdU4m66tk5HxAnzzqU68enII\n",
              "LXEbUgrURAwcH0gjPYWCV19pWKaE0hoXtNaXbZ1zFcMJERFVjbG6tm5ZswTbNi9H3DZxKuFM+Spu\n",
              "7hjn8f1deL0nCaU1BlIeAEzqevBoQgBLmqJ49/q2ivZjmSsYToiIqKoUdm3NdYgdzvh44JnJN2Yr\n",
              "7DJ7KuHgT7/9Eg6dSkKKcLfjbEkBxCMG6mIRPPCxS9HWWHPW70kMJ0REVKWiloGoZUypMVvPsIN7\n",
              "f3EQ/3agCyk3QMYLkHIDuIGCKUVZgokQQMwyUBu1EI+aaC5WxUtTwnBCRERVbaLurbufOYxbr16d\n",
              "f/5vTwzhY/c/h64BB1praIycAuwrfVZHODnNtRE01VjoT3llLdQl3tYhIqIqNtnGbD3DDj5233M4\n",
              "3p+BEBoQOKNHSanBxJAibD0/imUILJ0Xg20a6E95ZS3UpRB3ToiIqGpN2L3VAFKOn2/Mdu8vXkfX\n",
              "UAaGFDBE2DZ+KnKhxJBhmKmJGLAMiZpIeNTkBRrxqJEv1GUBbHkxnBARUdUq1pjNDxR6ky4G0x78\n",
              "QMMwBO79+UH80aXL8KN9XVAK0NDwz+Lz1kVNaAApJ4CVnST8B+sX528M5YpseZRTGQwnRERUtXKN\n",
              "2R7ceyTfmO1IXwqOr5A7sLENA99+/iie6jyF4wOpKbWaF9kPBcCUAnXZIter37wA797QhmXzRjZU\n",
              "YyipLIYTIiI6a4VXdsv9g7uwMZvjK2S8AEIIaAhELYklTTEAwKsnE/An3z8NQBhzBIAlTTH847aL\n",
              "sLAhyp2RacRwQkREU5ZrajbZ/iOTkWvMdu8vDuKbTx8ERNgqvj5qorHGgpRhhYjrB5PeNTEKKl4X\n",
              "NkTxTzs2YnVrXVnWTVPHcEJERFMylf4jwNR2WVriNnZcvgL/8tJxaA04foChjI/BtA9AQwqBoIRk\n",
              "InB6lyRiSqycXwsNQCmN3qSLx/adwOqrGU6mG8MJERFNyWT7j5ztLkvcNhExJY72paB02ARNKw1f\n",
              "A2deGD6TKQBpSKjsDZ6GmAVDZm8BSeSvJd985Uoe50wz9jkhIqJJm0r/kdwE4KTjw5Qiv8vyqW+9\n",
              "iFMJZ8LPGbUMNNdG4AUaAhpekAsmpRHZq8Vaa9imRHM8MuL3bVMi7Ya7OjS9GE6IiGjSxus/Apz5\n",
              "g75wl6WpNoJa20RTbQTz43Z+l2UiGS9Ab9KFKQWmMDgYgQobq9XYJpY118CUI9fu+AqxiIG4zUOF\n",
              "6cZwQkREk5brP+KOcT2m8Af9ZHdZisl4AY70pZBy/CnPxWmtt/HhS5bCNuUZp0B+oOD4AdvQVwnG\n",
              "QyIimrTR/UcKQ0fuB/2WNUsQtQycSjgl77KMDga5OpUf7TuB7iEHw2dx5GJHJD7+1vPwm64EOruH\n",
              "YZsGbFPC8cP1sg199WA4ISKiKSnsPzLeD/piXV4LOb5CPGqecZySq1N55eQwEhkPbinXccaxeUUz\n",
              "2ppqcOfWDux+5jAeP9CFtBsgHjXZhr7KMJwQEdGU5PqPTPSDfjK7LIV27zmEV04OI+36Zx1MAOAT\n",
              "bzsvv+5br16Nm69cyTb0VYrhhIiIpqzUH/Sl7rLkZLwAP9p3oiw7JgDQUhvBefNH9i+JWgZDSZVi\n",
              "QSwREZ21qGWgJW6P+cM+t8uy7dLliEdN+EojHjWx7dLluKNIs7aE46N72ClLMAGAGtsYt+CWqgt3\n",
              "ToiI6JwotssChEEk4wUjgs1g2kUiU55+IwLhNeJiBbdUnRhOiIjonIpaBoYzPr7xs048sf8kUq6P\n",
              "iClx7ZqF2PGWFYjbJu75+aEpTRceTSDsbVJrs3/JTMLvFBERnVP5WzhdQ/AChYyvoDTw9Sdfw73P\n",
              "HEJz3Max/vRZfx6BsCtsxJT4/bWLuGsygzCcEBHROZPxAnzzqU7894lBOIGG4ytIERZAehpIOAFS\n",
              "bjg756yJcNfkzYvq2b9khmE4ISKiiss1U3t8fxcOnkpmZ9wAEUNASgnXP12sWo5gYkqBhpiFGy5s\n",
              "w01XrGT/khmG4YSIiCoqd4zT2T0My5BQWucDiKc0LKjy7JQAWFAXwa4PbMCKllo0j3N7iKobwwkR\n",
              "EVVU4dA/KQX6ki4CFc7kURrwAl2W4tfFDVH84E/ewl2SWYB9ToiIqGJGD/1TSsOQYsRzpjBg+Ax1\n",
              "toF7//gSBpNZguGEiIgqJuH4+aF/fqBwpC8FZ4xJxlMhAFy4rBGP/l+XY3Vr3YTPp5mBxzpERFQx\n",
              "hUP/Eo4Px1ewpIApxZRDihTA0uYavG1lCz761nac18JQMtswnBARUcXkhv7t3nMEwxkPAoAGEEyx\n",
              "AnZBnY36qIlHb7kMDTWRsq6VqgePdYiIqKJ+f91iREwJN9DwVNjbxJ9COImZAkprXL9+MYPJLMdw\n",
              "QkREFdMz7ODzPziAjBdATPz0cUUjZtEJxjT78FiHiIgqJneNeGF9FKYU6Em4k34PAWDJvBhu6FiC\n",
              "bZuX80bOHMBwQkREU5Lxgvx04WLNzkZfI26ssXAq4UID+dqTsRhSYGF9FL+/thVbNi7Dsnk1bKg2\n",
              "hzCcEBHRpORa0T+x/yTSXoCYZeDatQvP2NUovEYMABHTQMSU8AIFXZBMaiIGAqXhBwqGFLhx8zJ8\n",
              "YONyBpI5jOGEiIhKVtiKPpoNG0nHx+69h7HnYB/u3NqRDyiF14hrbUAKgfqoib6UB8sIu8NKIbCi\n",
              "pRZ+oNCTcLH1kqW47V1vmuavkqYbC2KJiKhkha3om2ojqLVNNNVGMD9uo7N7GLufOZx/bu4accYP\n",
              "4AdhT5OWuI2oKeEH4XXimGVgIOWhN+nigtY67Lh8xXR9aVRFGE6IiKgko2tICpmGhG0aePxAFzLe\n",
              "6QnD2ze34/wFdehJOOhLunB8hbqohYgpYJsGam0T8aiJbZcuxx0Fuy40t/FYh4iISjK6hmQ025RI\n",
              "u2GRbK5WpCVu486tHdj9zGE8fqALaTdAQ42FD21cii0bl8A2jTELamnuYjghIqKSFNaQxCIaSmtI\n",
              "ISBF2MHE8RXiURNxe+SPlpa4jVuvXo2br1w57u0eohyGEyIiKknUMvDWVS341t4j6B7OABAQAmiI\n",
              "WWiImXD8AFvWLBkzeEQtg6GESsJwQkREJekZdvDi0QG4gYLSGkIA0BqnEg76Uy7WL2lk91YqC4YT\n",
              "IiIqye49h3C4N4kVzTUYzPgYTHvQWkDIcFLwRcsaWdBKZcFwQkQ0x03U6TX3nNxNnYhloNmUaI5H\n",
              "AA1IKTCQ8vDkq6ew0wt4dENnjeGEiGiOKrXTKxDe1Ek4PlKuj56EA62RrzdpjkeK3tQhmiqGEyKi\n",
              "OWgynV6BcOck7FMSwJACQggordGXdJF0fNTHLNTHrDNu6hBNBZuwERHNQZPp9AoAjzx/FICGgIAh\n",
              "wg9TSphSIOMFGEx7uHbNQu6aUFkwnBARzTGT7fSae35jLIKoJeEpDV8pBEoj0Boa4YThLRcvOfdf\n",
              "DM1KDCdERHPMZDq9Fj4/FjGwbF4Nmmsj+cZr4TA/C/NqIrC5a0JlwsNBIqI5ZvS04NFGd3od+XwT\n",
              "rfVRzK+zoZTO39Qp1hmWaKq4c0JENMcUmxac4wcKjh+MqB8p9nwpBExDQil9xvOJzhZjLhHRDFZK\n",
              "j5Jitm9ux96D/ejsHoZtGrBNCccPg8mqBXVndHqd7POJzgbDCRHRDDSZHiXFFJsWHI+a2LJmSdH3\n",
              "mOzzic6G0FrrSn+Se+65B3/8x3+M733ve3jve9+LK6+8EocPH0ZDQwMA4CMf+Qj+7M/+rOT327lz\n",
              "J3bt2lWp5RIRVbViPUpcXyHjBzh/Qd0ZPUomMtndl6nu1hCVquI7J4cOHcLdd9+NTZs2jXj8K1/5\n",
              "Ct773vdW+tMTEc06hT1KcleBa+2wXiTXo+TWq1eX/H6TnRbM6cJUaRUtiFVK4eMf/zjuuOMO2PbU\n",
              "tvwcx8HQ0NCIjyAIyrxSIqKZYbI9SohmooqGk127duHyyy/HRRdddMbvffrTn8a6devwwQ9+EK+/\n",
              "/vqY7/GlL30JDQ0NIz6effbZSi6biKjsMl6AUwnnrENDsR4lSmu4gYIbKEQMMaJHSaXWQVRJFTvW\n",
              "2b9/Px599FE89dRTZ/zeAw88gKVLl0Jrja997Wu4/vrr8etf/7ro+9x+++3YuXPniMc++9nPVmTN\n",
              "RETldraFq6MV9hyxTYWehIP+lAelsuWDAmiKWXD8091dE46PjBfgob1H8G8HuuD4CjUR86zWQVRJ\n",
              "FSuI/cY3voG//Mu/zB/ndHV1ob6+Hl/4whdwyy23jHhuNBrFsWPH0NzcXNJ7syCWiGaCcheu5nzl\n",
              "x/+NB/YcQdr1kfbUGb8vBbC2rQGXrmjCU6/0YjDt4VTCQaA0pACkFIhaBixDYnXr1NdBVCkVO9a5\n",
              "5ZZbcOLECRw6dAiHDh3Cpk2b8M1vfhOf+MQncPLkyfzzHn30UbS2tpYcTIiIZorJDtcr1fbN7bAN\n",
              "WTSYCABaA/uPDWL3niMYSnvoGc7AV+EMHJUdhJN2A2RcH6+cnPo6iCrlnPc5cRwH1113HRzHgZQS\n",
              "LS0t+MEPfnCul0FEVFETFa5GDIkf7juOj17ejoaayKTeezDtoi+ZGfP3hQhDSKABLwgQnD7xyQ/p\n",
              "M6WAG2gYgcLjB7pw85UreQOHqsY5Cyc/+9nP8r9+/vnnz9WnJSKaFrnCVdMQ8AMFKQWkEPAChd6E\n",
              "g4G0B62BG77xX7h+/eKSaj9y9Sv3/dchOEXqWfPhIxtGtNYYTHsjniA0ECgN0xAQIgxRKcdHwvEZ\n",
              "TqhqsEMsEVEFZLwAiYyHoYwPKcIgUGebSHkBHF8BOhyal/IC7N57GHsO9o1b+5GrX3n15BCG0sVv\n",
              "4owuIBRCnC6ULfJkIQSCQMM2JYf2UVXh4D8iojLrGXZw2yP7kPEUlA4PUpTWOJV0kXIDGCIMBk01\n",
              "ETTX2iXVoOzecwivdA1BKY0zK02Ka4iaMAwJkf3nEdcfRNiLCgCuWcuhfVRdGE6IiMosVwjb1hRF\n",
              "zDKgdHjEkuOpcLeiOR7WmkzUPC3jBfjhr44j4QQYKnaeU4QpBRpjFhpiVnhDJ/u4Rnibxw80AgUs\n",
              "aoxix+UrzvZLJiorhhMiojIqLISNWiaWNddgXm0EUoj8c6QQWDKvBqY8/VewbcqizdN6hh38/b//\n",
              "FgdPpeAGCsFYxzQFbFNg3ZIG9Kc9GFLAMmT+yEdk/6+GRltjDP+0YyOvEVPV4SEjEc155RxkN7qD\n",
              "qyklWuujaI5H8HpPEn6gYQgBKUa+zvEV4lFzRO1Hrs7kla7BM+pJxmIbAi3xKL58w3o8tu8EHj/Q\n",
              "BSlEfkfGNiViEQPXrlmIHW9ZwWBCVYnhhIjmrHJ3bwVOd3BNZDzYpszf0jGlRH3URG/SBYAROyl+\n",
              "oOD4AbasWTIiHOWOh5prbQykfSh9+kZOMS21EVimRDxqYtm8Gtx69WrcfOXKfPACwGnCNCMwnBDR\n",
              "nFSse2vS8Uu6OTOe4YyPhpiJzp5hdCccSCHQELPQXBtBY8xCf8qDaUgMpMLw4vhhMFm1oA7bNi/P\n",
              "v0/h8VAk283V9VXRYCIAWNkalt6ki2vXnC5wHT1BmKGEZgLWnBDRnFSJ7q35wNOThJG9xutn+5q8\n",
              "diqJ3qSLDUsbse3SZYhHTfhKIx41se3S5bhjVBgqPB6SQqA+akIKEd70KficAmHTNduQ6E26Z4Qc\n",
              "opmIOydENOdM1L01d3Nmsl1Tc4Gntc5Ga72N3oSLwXQ4lC8INFa11uFrH74QLXEbOyeocykc8Fdr\n",
              "Ay1xGyk3QMZXMCSgs1eKZXbNC+pt/EGJzdyIqh3DCRHNOaOLVkcrvDlTajgpFnha66OYX2dDZTu1\n",
              "DqS9fO3H6OOW0aKWgWvWtuLBvUfgBwqmIbFsXg16k2Hg8aAxryaCP7pkKd69oQ3L5tXwyIZmDYYT\n",
              "IppzRu9KjFbs5sxExgo8UoQFsVHTmHTg2b65HXsP9qOzexi2acA2JSxDIm4bWNHSgK/+0Qa0NdaU\n",
              "vEaimYI1J0Q05+R2JTJ+AD8Y2W81d3OmsKi0FLnA4/rF+7c6vkIsYkwq8LTEbdy5tQPbLl0+okZl\n",
              "+6Z2/OP2ixhMaNbizgkRzQmje5kU25UY6+ZMKYodwygdtq1XShe9KlyKlrh9xpVgHt/QbMdwQkSz\n",
              "2ni9TO7c2oHdzxzG4we6kHYDxKMmtqxZUlJRaS7sWFLAUxpx28wHnldODsMLFDJekB+8t6gxht9f\n",
              "v2jKX8dENSpEs4nQWpfaeLBq7Ny5E7t27ZruZRBRlSvWy8T1FTJ+gPMX1OV7mUymQ2wu7Pxo3wn0\n",
              "DDvI+ApRU2J+XXhbZvPKZtz68EvoGsyMaBkfNSV+p60Bd22/aETwKWd3WqLZgjsnRDRrFfYyyd2g\n",
              "qbXDupJcL5Nbr149YldivLCQbyd/chiJjJefc5MMFDK+wv3PHMLDzx1FTyIDAaDwlrLjK+x7YwDf\n",
              "fPI1/K/rfqci3WmJZguGEyKalSbby6SUsJALOxKA0oBlSAghoLWGpzSEALqGwh0T2xDwlUbhnD4v\n",
              "0Hjkl2/gxsvacdsj+8renZZotuBtHSKalSbTyyS3I/Lg3iNIOj6kAIbSHh7Ycwif+taLOJVw8mEn\n",
              "YkoMOz6EAER2Po7IDvIbdoL8UY4XaAQ6nIOT+wCAgZSHr/301bJ3pyWaTRhOiGhWmszV3tyOSFPM\n",
              "guMHODGYQW/SRcIJ8Kuj/fjmk6+hN+Eg4fgwpYTWp4NJngaUOv25cr8KQ0z4kX0anjgw8Y5Oboow\n",
              "0VzEcEJEs1KpvUwA4In9J2FJieODGfSlPKjsPQGlNRxf4Z9+cQhb/7896B7O4PhAGoHWyN0l0FrD\n",
              "9QN4SqNYDtI6/Cic2JdwfFimOPPJGLmjQzRXMZwQ0ay1fXM7zl9Qh56Eg76ki6Tjoy/poifh5HuZ\n",
              "5I5/0p6PjK9gSQFTShhShMP7NOArjd5hF7URA0prBErDDzQCpeAGCkEJdx5zT6mP5gpvy9esjWi2\n",
              "YTghollrrA6rhVOA47YJ25RIOAGkGHlc4xdUs3pKo7U+iphlwBBh2HCDkQWvE6mJGKi1LdRFTbi+\n",
              "Klt3WqLZhtGciGa1iTqsRi0DV17Qgtd6EjALgomGzl8VNkR4NCOFyA/f6004Je2YFJpfF0HSCfD+\n",
              "C5dg37GhsnWnJZptGE6IaE4Yr8PqjstXYPeeo3D8ABoqfz1YI2ygJoSAEICU4RC/ebURJB0PSbf4\n",
              "0cxYugbSuHB5M266YiUATLk7LdFsx3BCRHNaxgtgmwY+tHEJHn7uDfhKAdldEkMC0BpaA/VRE1II\n",
              "eIHC0b7UpIMJAMQiJv7uA+vz4YMzc4iKYzghojlpdNM1yxCYF48g5fiwLQOmIXByMANXAQIag2kP\n",
              "Woc3eKZyzVcKoC5qwTZHBhDOzCE6E8MJEVVENc+MKTZzx/EUUq6PWMSEZQicGMwgUBpShN1g3UDj\n",
              "VNLNv0euPf0YbVTOELMM1Ngmb+EQlYB/SoiorGbCzJixZu7URU30JBwsrq/BUNpDU20UxwccpIvs\n",
              "lGig5Js6UVPANiVv4RCViFeJiahsRreBN6XIz4zJtYGfbhPN3IkYEr86PoRoxMBg2i8aTHJKCScC\n",
              "Ya3JBQvreQuHqEQMJ0RUNoU7EtU6M2aimTuWIaGUhikl+lPelD+PRBhM5tVG8JHN7fm+KkQ0MR7r\n",
              "EFFZTHYKcKXWMFGdS27mTtLxUVskK3iBgpQCjh9ATabDWladbaAmYsJXCita4vjqH21AW2PNpN+H\n",
              "aC5jOCGispjMFOByh5NcnctjL3ch5QaoiRi4bt2ionUuuZk7D+49Aj9QI4KUH4Tt6DuWNOCV7gQm\n",
              "E03WLq5D0gsQBEAsYuDaNdVVZ0M0kzCcEFFZTLQj4fgK8Wj5b6v0DDv45AO/xG9ODMIraNl611Ov\n",
              "4af/3Y1vbLvwjJ2L7ZvbsfdgP17tHkbEkIiaEm6g8x1av/CeNfjM9/fj2YN9E35+CUBK4K4bL0Zz\n",
              "rV21N5SIZhLWnBBRWZQ6BbjcP7TverIT+94YgOvrsIurCHuRpD2FfW8M4vp/+Dn+z49fGVGMqzWw\n",
              "rq0O0MCphIM3BtLIeAHe19GGO7Z2YHVrHb7ygd9FdIzJwSMIoCEWQXOtjahloCVuM5gQnSXunBBR\n",
              "2eR2JM7VzJiMF+CfXzgGpTUi2eMZN1AjbtEMpDw8sOcw9hzsw51bO6A18j1OYpaBuqgJx1NwgwD7\n",
              "jg3lX2dbBprjUfQMZ+COM0RHCoEbLmxjICEqI4YTIiqb3BTgczUzpjfpYNjxs7NvwtbySoe3ZJAd\n",
              "1qcB1MeM/G0hDX1Gj5O6aLi7k3vOrVevRjzbME0pG16gRjRgyxEA1i9pyM/KIaLyYDghorKaaApw\n",
              "WenTv8hNERa5hws2O44NOIgYAt976Q2YUpZ8oyhXODu/zkZzPILehIuhjAelNZQGNrbPw9c+fCGL\n",
              "XonKjOGEiCriXMyMaY7bqI9a6E+50NkwUuwAxg8UXB9IOGkY2Rk3dVHzjIAy+kbR6GOq+piFiCmR\n",
              "8cJjKgYTosqYdEGs7/v4+7//e9xyyy0AgNdeew0//elPy74wIqKJRC0D77uwDYYMj3TGqgwprEFR\n",
              "GhjKeDjSlzqjcNfxFWIRI3+jKHdMte3S5YhHTfhKoy5m4cbN7fjaNgYTokqZ9M7Jpz71KQRBgJ//\n",
              "/OcAgObmZnzwgx/E888/X/bFERGNJ+MF2HLxUjx/uB//3TWMlFu81XzuqEcKQAgBrTQynkJv0kVr\n",
              "fRTA6RtFW9YsGbHjc06PqYgIwBTCyZ49e/DSSy+ho6MDANDY2AjPm3qLZyKiyRo9XNAyBNa1NeDY\n",
              "QBpv9KcBhEEkVxCbCyaGFNAaiJgCTqDRl3RREzHgFfQ4GetG0bk4piKi0KTDSTQaHfHPQRBAqRJn\n",
              "hhMRTdLolvS54YKd3cOImgYipoTjKbzWk0D7vFoIAQwkPbiBguOf/rtJaUBlrwQLCFiGRKAUvEBX\n",
              "9EYREU3epMPJ+vXrsXv3biil0NnZiS9/+cu48sorK7A0IprLRu+OxCwD165diKTrn3EVuNYOj2UO\n",
              "9SWxsqUWaTfA/HobB3uSxQtklYbQGrYpcdf2C3H+gjruihBVkUkXxO7atQtPP/00urq6cNlll0EI\n",
              "gb/5m7+pxNqIaI7K7Y48uPcIko4PUwokHR/3P3MQu/cchinlmFeBT2XrSMYKJkB4zKN0WH/yk193\n",
              "M5gQVZlJ75zE43HcdddduOuuuyqxHiIi7N5zaMTuiBcoDGc8JJwgOwMng0BrNGav9koRtpk3JXBi\n",
              "MI2UW9pRc33UqvikZCKavEnvnNx1110YHBwEEN7cufjii/HUU0+VfWFENDdlvABP7D+Zb5TmBQpH\n",
              "+lLoS3kIss1MlA53Vzq7E+jsTqBrMIOk4+P4YKbkYAIAlinyfU2IqHpMOpx87WtfQ0NDA37xi1/g\n",
              "5Zdfxl//9V/jtttuq8TaiGiWyngBTiUcZLxgxK8BIOH4SHsBIqaEHygc6U0i5QYIlMbo2nsNwPUV\n",
              "ehIOXj+VHDGVeCICgOfrEX1NiKg6TPpPpGmGL/npT3+KG2+8Ee9617tw++23l31hRDT7FBa5Jhwf\n",
              "aTecixO1woBw7dqF2HLxEsQsA0NpD12DaaS8MJHk29KPUnocGUkIwFOqIpOSiejsTDqcSCnx8MMP\n",
              "4+GHH8a//uu/AgBc98yBWEREhQqvAFtSoj/lws12aI0YEkpr7N4bTg9+2+pmPLjnKDKeGjOUFCrl\n",
              "OaPZpsTqCkxKJqKzN6VjnYceegif+MQnsHz5crzyyit4+9vfXom1EdEsUljk6isFT2lEDImIIeGr\n",
              "cGjf/LiNzu5hBOp087Rc6BgvfERMEU4iLlHMkti+aTnu2NrBviZEVUhorae0K5p7mRCT+SuhPHbu\n",
              "3Ildu3ad889LRJOTa6BmSYEP3LUHScdHQ42Fzu4ElNYwZfjfR75SkELg/AVxDKQ8xCyJlBsg5QbZ\n",
              "KcBjfw5Thg3VHD8Y93k577+wDX/2ztVoa6wp01dJROU26WOdEydO4GMf+xj+8z//EwDwjne8A3ff\n",
              "fTcWLVpU9sUR0cw0uoFaxBDoHnbQVBOBUhpah11ac4QI28qrbGO03AA+AaA5buH4QAZuoKG1HhFA\n",
              "BMJworWGEAKWBPxAF91lqYkY+Ob2i/CWVfMr/eUT0Vma9LHOTTfdhLe85S04ceIETpw4gbe85S24\n",
              "6aabKrE2IpqBijVQS3kBkk6AE0MZKK0hBFAYIXT2MSkEHF/BNiWaYha6hjM40pdGoMLQYsrTkUYi\n",
              "LGr1lYKvNKKmRHtzLZpqLQhkZ+kIoCFm4sbNy/DU//N7DCZEM8Skd06OHj2KH/7wh/l//vSnP40N\n",
              "GzaUc01ENIONbqAGALW2CTc7Bbg34aIuaqI/5UFpBYFw16ShxoJSGunsleK+VAqGEAiyWyWBCiCl\n",
              "QF3UQJ1twTIlTgxm4AcaNbaBebUWUm4AKQQuWTEPn73uzWiKR9Bca/M2DtEMM+lworVGV1cXFi5c\n",
              "CADo6urCFMtWiGiWGd1ArdD8ehtDGQ+9SRcCgAIQKEBAI2JKGFKgJ+GgJiKRcny01kfRWm+jN+Fi\n",
              "MO1BZfucvHlRA7724QsRt00c6UvhBy8dw49/0420GyAeNTjAj2gWmHQ4ue2229DR0YFrr70WAPDE\n",
              "E0/gb//2b8u+MCKaeQobqJ1B5wrowyMcA8jXj2gAtRED16xtw+P7uwAt8uGmtT6K+XU2lNYYTHsY\n",
              "SHv5CcWrW+tw27vehE+9fdWIycVENLNNOpxs374dHR0d+NnPfgYA+PM//3OsWbOm3OsiohkobpuI\n",
              "WQaSjo/aURsXvUkXXqAQMSXOm18LaEBKAT9Q6Bl2cM2ahdhx+Qr84FcnEDHDvidKa0gh8h9R08i3\n",
              "my8MIVHLYCghmkWm1LN57dq1WLt2bbnXQkQzXNQycM3aVjy49wj8QEFKEd7OgcZAKmzW2BCz8leI\n",
              "ASBiGohFTPz4t934xNvOg5W92eP6KrzVI8LXNMcjcHyFeNRku3miWa7kP+EdHR3j9jR54YUXyrIg\n",
              "IprZtm9ux9Ov9uI3JwbhBRqBDq8O5yil4QcKZrYrrFIalhEO4OsayoS9UTI+DBl2pFZaoy/pIpHx\n",
              "EI2Y2HLREu6SEM1yJYeTv/iLv0BfXx/OO++8EY+//vrrmDdvXtkXRkSVk2uOVokaDa3D671eoOEX\n",
              "6YrWl3KRcn3EIgYSTpDvb9IQs/DtZ48g7QaIRQw4vgqvGENAQyPtKcyLG2w3TzQHlBxOHn/8cVx9\n",
              "9dW44oorRjze29uLJ554Au95z3vKvjgiKq/RzdFiloFr1y4s6+2Wu558Db85MVQ0mABheEl5Cmlf\n",
              "5fuWKK2Rcn089NxRNEYttNZH0ZsMb+loDRhSIGYZsE3JIx2iOaDkJmzPPvssbrjhhjMef9/73oen\n",
              "nnqqrIsiovIr1hwt6fjYvfcwPvWtF3Eq4ZzV+w+mXOw/Nojv/vIovGDs9gL5WTnZXwTZ8OEHGhlP\n",
              "oTvhoDfpork2gvMXxLFyfi3OXxDH/DobXqCRcPyzWicRVb+S/xPE98f+C0HKSTeaJaJzrHhzNMAP\n",
              "FDq7h7H7mcO49erVk37f354Ywuf+ZT9eemMQnq8mNR1YQECKsCW9zJa0KQ2cSjhIOj6WzavJr5XF\n",
              "sERzR8mpwvM8DA0NnfH44OAgPM8r66KIqLzGa45mGhK2aeDxA13IZLuzluq3J4bwgbuewXOH+hEE\n",
              "kw0mQK1tQGvAkgKmlDCyAcUUQMYPO8oCYYBy/ADXrlnIYliiOaDkcPKhD30I27dvR39/f/6x/v5+\n",
              "fPSjH8WHPvShiiyOiMqjWHM0pcNbM7lhe7n+IZPxuX/Zj+GMj4gRTgaezIxyDaA/5SFsyha+UmRr\n",
              "UAINQGv0p1z0Jhz0JBysWlDHYliiOaLkcPKZz3wGjY2NWLp0KTo6OtDR0YGlS5eirq4On/3sZyu5\n",
              "RiI6S7nmaK6v4AUKXYNpdHYn8FpPEp3dCfQMO7AMMakjk8GUi5feGIQUp492pzLIIlDh/+rslePm\n",
              "eATNcRtShjN3YhED2y5djju2drAlPdEcUfLfRIZh4L777sPnPve5fE+TCy+8ECtXrqzY4oioPHLN\n",
              "0R545jD6Ui4cX0GKsOYjUBoJ30eDb53ReXU8J4cdKKUhpIDWGq6vprQ2DcANAgACUVPma2JMQ6DG\n",
              "MvDoLZehoSYypfcmoplp0pVlK1euZCAhqjKl9C3Zvrkd3/3lG+hPeTAkIITMD+2MWRIpN5hUUWxr\n",
              "nQ0hEPYzmeSeiZE9vsldN5YAmmojaK6NwDQk/EDB9RU+cNFSBhOiOYhl70Qz2GT6luSOduJRM98a\n",
              "XgqBhpqwNfxQ2sfjB7pw85UrJ9w9yX1eQwBTKYcPlA6Pg0R4pTgeNWEZEo6vMJTx4fgBa0yI5jCG\n",
              "E6IZKte3pLN7GFHTQMSU+b4lew724c5RNRoJx4cbaMyP24hFjBFD9QAgYggkMj56Ew7ammpK+ryT\n",
              "KYAFwjk5AAB9eiLxhcsa8bZV8/H4gS6k3QDxqIkta5aUtTEcEc0sDCdEM9Rk+5aMnBhs5kOJH4RX\n",
              "dvuSLoQAdtzzHK5bt2jMcHDvL17HK11DaKq1MJgd5lcqPer0RwrgL9+zBmvbGnHzlSsr1lKfiGaW\n",
              "c9I97Z577oEQAt///vcBAN3d3bjmmmuwatUqrF27lh1miSZpKn1LckWxGT+An70i4wcKR/pS6E04\n",
              "UFqjNmIi7QZ4YM8hfPKBX+LYQCr/+p5hB3/7xG9x99MH0Z/28FpPCl6JNbCmAGoiRn6nRQCwTYkF\n",
              "dVEsbIjl19cStxlMiKjyOyeHDh3C3XffjU2bNuUf+/SnP41NmzbhiSeewHPPPYc//MM/xMGDB2FZ\n",
              "VqWXQzQrFOtbUqiwb0nuh33GC3Dd+sV45vU+vN6TgG2GuyhpL4CAQMySmB+PYCDtIeEEePFIP959\n",
              "xy+wfdNyXLtuET7/gwP4bdcQ3HFa04+lKW5jYX0UvlL5icRDaZ8dX4moqIr+raCUwsc//nHccccd\n",
              "+PM///P849/5znfQ2dkJANi4cSMWL16MJ598EldddVUll0M0a4w8ojnz9wtbvY8umrUMgZXz4+ge\n",
              "zuDkkA8pBObVRtAQNXFsMAPHUxAyrA8ZTHt4YM9hPPLCUaSdIN/BdTIEgMZY+FeNKSVMKfMdX7es\n",
              "WcKdEiI6Q0XDya5du3D55Zfjoosuyj/W29sLz/OwcOHC/GPt7e04cuRI0fdwHAeOM3IgWRBMrsU2\n",
              "0WyTO6J5cO+R/E5ETuEP/uGMf0bRbMoJsG9gAFrrbFFseHvmaH8KGT/cFRFBeJNHSKCx1sKhnhRi\n",
              "EQkv0BAovdnavJiFpc01ODaQhm0q2GZ4I4e3cYhoPBULJ/v378ejjz561vUkX/rSl/CFL3xhxGOF\n",
              "R0REc9X2ze3Ye7Afnd3DsE2j6A/+B54ZWTTrBQonhzJwfQ2FbNDQyM+wAZCvCwm0hlKAyCYRx1dh\n",
              "F9cS19cQM/HDP30LbNPA7mcO8zYOEZWsYuHk6aefxqFDh7Bq1SoAQFdXF2666SZ84QtfgGma6Orq\n",
              "yu+eHDp0CMuWLSv6Prfffjt27tw54jG2yycCWuI27tzaUfQH/5aNS+B4AR57uWtE0WxvwkHGVzAN\n",
              "QGkBpQGlxo4bAsBg2oeU4dVfQ5S+b/JHG5eirTG8knzr1at5G4eISia0Hn25rzKuvPJK3HrrrXjv\n",
              "e9+LHTt2oL29HX/xF3+B5557Du9973tx6NChkgtid+7ciV27dlV4xUQzR65DbMYL8MjzR/HE/pNI\n",
              "OD66hzOojZhY1BCF0hqdPUkESp++NZNtgjbWXwJCAJYhYRsSKc9HQ9REX2ri4YASwBN/9jasbq0r\n",
              "15dIRHPItJTJf/nLX8b27duxatUqRCIR7N69mzd1iM5C1DIwnPFx2yP7CupLwsF5QxkPbqCglUJQ\n",
              "sEuSHfw7Lq0B11cQABbUReH4CobITg0egwCwtLkGy+aN3ciNiGg85yyc/OxnP8v/urW1Ff/+7/9+\n",
              "rj410ZxQrClbU42P3qSLtBsWkecOZSa7Xer5CvPrbGxaMQ///puTONybKhpsTCkQtw384YY2Ht0Q\n",
              "0ZSdkyZsRFQ+GS/AqYQzosHa6KZsfrbwdSjj549tphJKchSAo30p1ERMPPGnb8O3b9qERQ02DAEY\n",
              "ErCMMJTUR028eVEDb+EQ0Vlh9yOiGWK8IX8A8k3Zcl1fHV9BCMA0BLwpNE4bzQtUfjDgpSua8cM/\n",
              "eSvu/flBPH6gC66vUGObuHZN8aGDRESTwXBCNANMNOTv7z+wPt+ULeH4cHwFUwoIIaB0iT3mJ+D4\n",
              "Cqns++dazd92zZvwqXes4i0cIiorHusQzQCF9SRNtRHU2iaaaiOYH7fR2T2MR557A9esbUXaCzCQ\n",
              "Cgf4CSGgtYbnn/2uiSHCq8QRU57Rbp4zcYio3BhOiKZZsRqS0b9fypC/D1y8FO0ttfCVhtJhp9iM\n",
              "r1COfROR7W9y7ZqFDCFEVHE81iGaJuPVkBTWbJQ65M+2DPzDhzbg+jt+joGUh3INeRAI29u3Ncaw\n",
              "4y0ryvSuRERjYzghmgYT1pBsWQ/bMhC3zZKH/FlS4ETKhT1GiJkqAWBxUwz/tGMjC12J6JxgOCGa\n",
              "BsV6ktTaQMbzse+NAbz7zl+gNhtKrl27EG9b3YLvvXis6JC/tOujtS6C3/u7n6E/5U35unChwg6y\n",
              "Fy1vwje2XcRgQkTnDMMJ0Tk2Vg2JHygcH8gg4wVwfYW6qJnfTVneXIvlzbU43JscMeQv7fpwA4V9\n",
              "x4YQqNKH8o1HAGiJR9BSZ2Mw7WEo459RBEtEVEksiCU6x8aqIelNuvkrwFIIxCwjfyPn0KkEfmdh\n",
              "HT508VLEoyZ8pRGPmli1IA4/0NAasMr0p1kDGEx7kEIgahpIu+HcHiKic4X/OUR0jhWrIVFaYzDt\n",
              "hYP4AEgBSCng+AF6hx0MpD18+/mjWNFSi3f+TivevaENrXU23v+Pz8BXGkIAXnnamQAIZ+oorfP1\n",
              "LNw5IaJziTsnROdA4XXhqGXgmrWtyPgB/CBMFErr/KwapYE620TXYBqvnkygN+Uh0IAfaAykPHz7\n",
              "uaP43L8cwMlhB0nHh9YaqkxHOjlCAEppOH7A68NEdM7xP4eIKmis68LXrV+MvQf70dk9DNs0EDEE\n",
              "lNZQWiNqSqS8AGk3GBE4NMIjobaGKF7pGsL//ud9OJVwx50QPBUCgG0Z6E26WLWgjnNyiOicYzgh\n",
              "qpCJrgv/5XvW4LF9J/D4gS6k3QANMQsp10fElBjO+NA4fWtGI+zS6vgK/SkPCTfAC0cGYFsG3Aka\n",
              "mkgB1EQMLG6M4WhfGq4fnBFoch1gNcIhfq11Nq5fv5hzcohoWjCcEFXIWNeF/UChs3sYj+07gVuv\n",
              "Xo2br1yJhOPjxEAan3zgeRwfdPLvkcsQUgCWKREojb6Um580nJ4omQCIWhIL66O4Z8dGPPL8G3hs\n",
              "/wkMpX04foCMp+AF4YDAxqiF9/zuInzo0uVYNq+GRzlENG0YTogqoNSW8zdfuRJRy8BwxsdfP/Zb\n",
              "pLwwKOiCnQ0BwDIkBASgFVTB7010omMIIO0qpD0F2zJGhKFckWtvwgEE0FzL+ThEVB1YEEtUAaW2\n",
              "nM9d0c3tsrTW2YgYEqYhYMjwUEcjbB+vtT7jRo5AWLwqMAYhEIsYSLs+dj9zGMDIQX1Ry0BbUw3a\n",
              "GrlTQkTVg+GEqAJy14Vdv/j9XsdXiEXC9vS5XRbbkJBCoM42oBVGbJ/4SiMzxnsBGDOdNMUsLJ9X\n",
              "g1jExOMHusYcLkhEVE0YTogqoNh14Rw/UCOu6B7uTeLEYBrdCQev9SQxlPERaF3SLZxiTzEEYEog\n",
              "Ygi0NkSzx0iSzdSIaMZgzQlRhWzf3D7iunCu5bzjB/kruj3DDj77LweQdAIAGoYU8NX4qURkP3KR\n",
              "R4++eSOBQAs01kQgRbilwmZqRDSTcOeEqEJa4jbu3NqBD21cipgl4QVhQNh26XLcsbUDLXEbu/cc\n",
              "wus9CTTVWBBChM3PxsgmhdeKTUOMWWcSKIGoKdFcGwFw5k4NEVG1439GEVVIrgHbj3/dDcdXiJgS\n",
              "v7eqBb+/ftGIWpOoaaAuZiLlBUiNczU41/dEA/ACDSnDf7BNiYwfTis2somlLmrB8RWGMv6InRoi\n",
              "opmA4YSoAkY3YJNSoHsog7t/cRD3PHMYS5tiePubFiDh+LBNCVNK1EQMpL3gjGOaYqQMd06EBNrm\n",
              "1eBdb27FuzvaUGsbeOS5N/KN3eJRE1vWLGEzNSKaURhOiMok4wX5/iGFDdg0gKN9qfC2jQY8X6Fr\n",
              "KINHX3gDKVehscZCLBL2OjGlgNLh1eFiwk6xAhJAXdTE+y9agp3vvGDEcc3oXiY8yiGimYbhhOgs\n",
              "jZ6fE7UkehNutl+JRNdgGmkvCItYdW5GTgDblFBKYSDlosY2oLSGgIApxw4nIQ2lBVa11uGmK1YW\n",
              "DR+5HiZERDMRwwnRWRh9fGOZAoMpD/2pMJzUx0wMpr2iRa69SS/8RaDxencyey34zCeKgkeN7FWd\n",
              "i5c34WsfvpBHNUQ0KzGcEJ2F3PFNU42FwbSPnoSXnS4cXt/tGXbgldCwZPQzcjdxwtqS8P1qIgYi\n",
              "hsSqBXUMJkQ0qzGc0KxUWP9RqeON3G0bS0ocH8jA8cO5OEIISBEGir6UV9J72aaEVgputnmJIQWU\n",
              "1jBEeDXYMgRa66P4A04KJqI5gOGEZpXR9R8xy8C1axdW5Ad6bn5Oxg/g+AqmFBDZpmdCCjiltHgt\n",
              "YBgGTChohFOINQQgBD7x1na876IlnBRMRHMGwwnNGqPrPyKmRNLxsXvvYew52Ic7s43PyiVum4iY\n",
              "AkNpL7tjIsPhfIEas5HaWHylYEmZ7+i6oqUGGU9BaY2Pv+087pQQ0ZzCDrE0axRe322qjaDWNtFU\n",
              "G8H8uI3O7uH8VN5y6Bl28I2fdaI34SLQgK8A1w/g+gqBPl1DMua04FECBbhBGEaEAExDwlcaNTZb\n",
              "zhPR3MNwQrNCYbdV0xj5r3U4+M4o21Te3A7Ng3uPwDZPH7ME+vS8GyA8mpGy1HgSXjMOtEZDzIJS\n",
              "mi3niWjO4n+S0ayQq/+ImMXzduFU3rP9YV+4QxPucCicSrgjnmNKASkE3FETiSekw92WnoTDlvNE\n",
              "NGcxnNCsELdNxCwDScdHbZHyjHJN5S22QzO/zkbK8ZHywiAiAAgBeJMNJtnXxaMmb+UQ0ZzGYx2a\n",
              "FaKWgWvWtiLjB/BHhYJyTuUttkMjhcCixihyp0ka2evE2SOdUg52BMLdlhUttfjnWy7DrVevZjAh\n",
              "ojmLOyc0a2zf3I69B/vR2T0M2zRgmxKOr8o6lbdwhyZiKvQmHAxlfGiN/MA+Swq0N9fg4KkkFIr1\n",
              "fD2TBmAZEn+wfjEaaiJnvU4iopmMOyc0a7TEbdy5tQPbLl2OeNSErzTiURPbLl2OO87yGnHGC3Aq\n",
              "4QAArlnbipTr43BvEn1JD0E2leR2SAKtMZT2J/05VrfGWWNCRATunNAs0xK3yzqVt1hTt43tTXD8\n",
              "AOlcjUkAKKEhhEDMCJuneYFCzDKQUH5+R2U8jTUmvs6W9EREABhOaJYqdSrveG3uizV1G0p7eOjZ\n",
              "Iwj06Z0SjfBIR0Ij0BKB0hjKeHj/hW14+fgQDhwbKnq0Y4nwtYEGPnDRUrQ11Zztl01ENCswnNCc\n",
              "VEqb+9FXhgFgOOPld0KkACxTQutcA7Ww06uUAkoD/3bgJJa31KKpxsJQxoevTh//WIaEhoZSGlHL\n",
              "wEcub5+G/y8QEVUnhhOac0ppcx+3zTOuDCutMZTxISWgVLjjYQEIlM4Hltz/mlJgfp2No30prFoQ\n",
              "R2dPEvUxC4mMj6FswBEId3i2XboMbY3cNSEiymFBLM05pbS5L3ZlWGVDiBQSucavSmkESoe9TZA9\n",
              "4lFAQ8xCxDRgmwZOJV2sXBDHcMZDxJRY3BBFczyCupiF313SiJuuWDkd/28gIqpaDCc0p5Ta5t6S\n",
              "AjHLgOuf7pkipYAQgIaGFGEYCVQ2kOD0lWHbkmiuDa8D26aEF2j81XvX5m8RBRqoj1nYXoZbRERE\n",
              "sxGPdWhOKbXNvac0rlnbigf3HoEfKJhGODG4PmqiL+kBAJprIxACOJVw88GkJmJg+byafPDJdaZd\n",
              "Nq+mrLeIiIhmM+6c0JySa6JWuCNSyPEVYhEDcdvE9s3tOH9BHXoSDvqSLpKOD0NKiOxAP8uUqIta\n",
              "qLXDkBGz5IhgUqwzbdQy0BK3GUyIiMbBcEJzymTa3Bdr6tZQY+GPL2/HRy9rR33Mgq80FtZH0dYY\n",
              "Q8wyMJTxkXR89CVdDu8jIpoiHuvQnDOZNvfjNXXbWdAjJeH42P3MYTx+oAtpN0A8amLLmiUc3kdE\n",
              "NAVC61L6V1aXnTt3YteuXdO9DJoBijVZy3gBjvSl8IOXjuHHv+lG2g0Qixi4ds3Csw4T4zV1IyKi\n",
              "0nDnhGalYk3W3ra6BYDGU6/05h+7+s0L8O6ONiybV1OWMFFqZ1oiIhobwwnNOoVN1iKmhGVIDKY9\n",
              "3Ptfh6A1MD9uIxYJJwt/+/mjeP7IAO7c2sFQQURUJVgQS7PO7j2H8MrJYUADvQkXJwYy6Ek48AIN\n",
              "rTUCrYs2XiMiourAcEKzSsYL8MN9J5DIeOhPe1DZPvFBdq6N0sBg7nGMbLyW8YLpXDoREWXxWIdm\n",
              "jZ5hB998qhOHTiWhsrNrhBT5bq5A2MXVCxSU0pBG+Giu8VrC8Xm0Q0RUBRhOaEYZ6zZMrs7kla5B\n",
              "qIL7Z77S+V2SHK1xOq3gdBfXuM0/DkRE1YB/G9OMUOz2zbVrT1/9zQ3za661MZDyoRDukgiERzlS\n",
              "IB9aRG5CH043XtuyZgl3TYiIqgTDCVW9wts3UdNAxJRIOj527z2MPQf78Pdb1ueH+UUsA6YhwuJX\n",
              "nB7GV7ibIgCkvQBexi/aeI2IiKYXwwlVvdyuyPy4nZ9bU2uHux6d3cO4778O5Yf5SSHQELPQm3Qh\n",
              "EYaSXC5pjFlw/AA1ERNKg11ciYiqFMMJVbWMF+R3RaQU8AMFKQWkEPmbNj97pSdf1Fprhy3nU26A\n",
              "jK9gCJ0vjjUMgQ2LmvB3W9bDtgx2cSUiqlIMJ1TVEo6PhOMj6XjoSTjQOqwZaYhZaK6NwDYlMp7C\n",
              "u9YswPdePA4/UDANiWXzatCbdMNrw4FCY00E2y9dzl0SIqIZgOGEqlrGC9CXdOH4AQwpICCgtEZv\n",
              "0kXS8VEXtdBQY2HH5Svw8rHhgq6wAqYhELcNrGhpwFf/aAPaGmum+8shIqISsAkbVbVHnj8a3v3V\n",
              "4b+shhQwpYQlBTKewmDaxdVvWgDbNPC/f//NWDm/FqcSLo71Z3Aq4eL8BXX44vvWMZgQEc0g3Dmh\n",
              "qvVGfwoPPHMYngpv3jiBhggCmNmuakpruL7GYwe68L2XjqMv6QLQmBezYFsG/EDhtZ4EPvcvB3Dn\n",
              "1g4e5xARzRDcOaGq1DPs4E+//RIG0h6CbDgBsh1elYYXaOTalaTdAEnHQ8YP4PoKQ46PqCUxL25z\n",
              "dg4R0QzEcEJVafeeQ3i9JzHiKvBoCuFVYcdXGEz70BoINJByA3R2J3ByKAMAnJ1DRDTDMJxQ1cld\n",
              "H/aVhhQTP78/6Z4RYAINnBp2cKQvBVOK/OwcIiKqfqw5oXOm2FycwseA8Oqw4wVIuT4yXgApxBmz\n",
              "cUYb73czvkJf0sXiphhn5xARzRD825oqrthcnLetbgGg8dQrvRjOeEh7AYQAbEPCMiWGMz6U0jCk\n",
              "hIAeN4CMRSH8Fzzl+bj6TQvYcI2IaIZgOKGK6hl28D++9QI6uxOIWhJR08BQ2sO9/3UIWgMRUyDl\n",
              "qrHfQI3zewUKZvmNfLnWsAyJd3e0TWn9RER07jGcUMX0DDv4Hw/+Er88PAApgKQTzr1RWiNQYVt5\n",
              "3x1/TyQoccuk2NMEgNqIidZ6G8vmsc8JEdFMwXBCFREGkxfwyyP9AAAhZb6zq9LhNeBykQKn5+dI\n",
              "ASnCUNMYsyAEcP36xTzSISKaQRhOqCJyk4SlEBBCwBACEAKBUgjU+EWspbKM8H2jlkDSVQgCDa01\n",
              "Ah2GFA1g9YI6bNu8vAyfjYiIzhWGEyq73FXgmGUg6QZQWkPrsHlaoKYeS2wj3G8RQsDP1qLMq43g\n",
              "+vWL8B+/7UbPsIOMrxAzJebX2bh+/WIO+iMimoEqGk7e+c53oqurC1JK1NXV4R/+4R/Q0dGB9vZ2\n",
              "2LaNWCwGALj99tvxwQ9+sJJLoXMo4fhIewFsy0B91ERf0oOv1VnvlgQasIywNY8UEoHWiEUM7Hzn\n",
              "Bdj5zguQcHxYUsBTesR1ZSIimlkqGk6+853voLGxEQDwve99Dzt27MCvfvUrAMDDDz+MDRs2VPLT\n",
              "0zSJ2yZsUyKR8TGvNoKBlFdyYet4AqVhSg2R732ice2ahfkQwjBCRDQ7VDSc5IIJAAwODkKIyZdB\n",
              "Oo4Dx3FGPBYEbENerXI9TfqSLvpTLnpTEoHSY171nQwNINAaOlu30tYYw463rCjDqomIqJpUvObk\n",
              "xhtvxH/+538CAB577LERj2utcckll+Bv/uZvMH/+/KKv/9KXvoQvfOELIx7btGlT5RZM4yrW5TWn\n",
              "Z9jBnzz0Ijq7hxExJSKGhBNM/TgnakoIAbiBhsoO/wuCcOekrSmKf9qxkfUkRESzkNB6gt7gZXLf\n",
              "fffh4YcfxmOPPYYjR45g2bJl8DwPn/nMZ/Dyyy+PCC6Fiu2cfPazn8VXv/rVc7FsyirW5fXatQtH\n",
              "FJx+5cf/jQf3HsH8uA3TkPCVwqlhFz0JZ4J3D68BR80wzOSuBK9qrYPSGj1DDvpTHmptAwvqbFyz\n",
              "diF2XL6CwYSIaJY6Z+EEAGKxGN544w00NzfnHztx4gRWr16N4eHhkt9n586d2LVrVyWWOOeMtxOS\n",
              "U7gjEjUNREwJ11fI+AHOX1CHO7d2IG6beM+dv0DS8dFUGxnx+q7BTEkBJWZJQGtk/LCgdX6dDcdX\n",
              "cPwAK+fH8f++dy2WzathbQkR0SxXsWOdgYEBpFIpLF68GADw/e9/H83NzYhGoxgYGMjXozz00EPo\n",
              "6Oio1DJoDKXshOTkepbMj9uQMixGjUUM1CkTnd3D2P3MYWzbvBxpL0DEPHPQ9by4hVMJZ8LjHcdX\n",
              "iJgSbU1R2KaEF2jEoya2rFnCK8FERHNIxcLJ4OAgtmzZgnQ6DSkl5s+fjx/96Ec4efIkbrjhBgRB\n",
              "AK01zjvvPNx///2VWgYVUWwnJOn42L33MPYc7MOdWzvyQSDXs8SUEj0JB8MZH1oDQgANMQuWIfH4\n",
              "gS5svXQpLEMg4waoHTX9V0KEoSbb40QjPMaRMiyQztWTSCFQGzHx8Cc3obnWnnBHh4iIZqeKhZPl\n",
              "y5fj2WefLfp7L774YqU+LZWgcCfEzPYNqbUBP1D5nZBbr14NADjcm8LxwTSGM37+9YYIW8T3JV0Y\n",
              "UiDh+Piju/eiZ9hB0vXh+ArN8QikFJAF135rbAOur/LBRGSb2PtCQQqBRQ02lBawTQNRy2AoISKa\n",
              "o9ghdo7J7YRETSMfTHJMQ8I2DTx+oAs3X7kSwxkfn/3+fiSywSR3ETzQ4U6HKSUcX8H1FeptE021\n",
              "EWS8AKeSLk4lXRgi7OYaMSXmx8P6ET/Q2dk64bvpbPfYhhoLXgDEowbiNv+1JCKay84sEKBZLde9\n",
              "tVhtCADYpkTaDYtkd+85hNd6EvlQogFAhCFFacALwhbyQgCNtRHUWCMDT65TvdYaC+qjOG9+PBzK\n",
              "pzR8pbIfGrYp0RAz4fjBiKZqREQ0NzGczDFx20TMCo9XinF8hVjEgCUFnth/EhFTwpDidEDRp5up\n",
              "5f7XEAK+0uhJOHB8hagpYRrhjsmq1jjam2txfCCNi5Y1Yvum5bAtA4EKd0ziton6mIX+lIdVHNJH\n",
              "RERgOJlzopaBa9a2IuMH8IORAcUPVH73wlMaaS9A1JKQUsCQgJkNKYV9fgUABY1Dp5LoTbjZXREN\n",
              "iTDIQJ8+Lnry1VPY+c4L8JM/exs+/pYVOG9+LepjFupjFrZduhx3FBTiEhHR3MXD/Tlo++Z27D3Y\n",
              "j87uYdimAduU+X4iud2L3A5L0vHRELPQl3RhSgFTCmit4QSnb94EClDqdCdYP9uuPmKK/I2cwuOi\n",
              "tqYa/K/rfgc73zlxjxUiIpp7uHMyB7XEbdy5tQPbLl2OeNSEr8J+IoW7F4U7LA2xcJCfn60VcYtM\n",
              "8Rv9iEbY5VVm5ynljosKi12jlpH/XERERDncOZmjWuI2br16NW6+cuWYuxeFOyz1MQtpN8Bg2it5\n",
              "Vo7nB1A6nIvj+AG2rFnCIEJERBPizskcN97uReEOS33MQl3UhGVKRAwBo4QB074CehPhbB0WuxIR\n",
              "Uam4czJLlTIzp5TXFO6wHOlL4Y/vfQ4nhzIQAmee5YyiAdRGDfzBuqVsP09ERCVjOJllJjMzZzKv\n",
              "iVpGOHTPlFAq13p+7HQiBVBrm7j/o5egrammEl8qERHNUjzWmUVyM3Me3HsESceHKUV+Zs6nvvUi\n",
              "ThWZDDyZ10QtA+9asxBAOA9nvJMdUwq01tlo5m4JERFNEsPJLFI4M6epNoLabEv5+XE7PzPnbF/z\n",
              "0beswMJGO9/9tZgaSyIetXD9+sUsgCUiokljOJklSp2Zk/GCs3pNS9zGPTsuweLGGETB1olA+C9T\n",
              "xBCIRkxc0MoCWCIimhrWnMwSk5mZk9vNmMprAGB1ax3+5VOX496fH8QPXz6B/qSLjK8QMyXm19m4\n",
              "fv1iFsASEdGUMZzMEoUdXWuLZALHV4hHzRFN0KbympyWuI3brnkTPvWOVUg4Piwp4CnNbq9ERHTW\n",
              "eKwzS5Q6M6cwOEzlNcU+b0vcRkNNhN1eiYioLLhzMouUMjOnHK8hIiKqJO6czCKlzMzJeAFOJZx8\n",
              "kWspryEiIjqXhNa61FEpVWPnzp3YtWvXdC+jqo3u9lpKo7WpdJUlIiIqNx7rzFJRy8gHjFyjtc7u\n",
              "YURNAxFT5hut7TnYhzsLJhEzlBAR0XTjsc4sNProZirN2YiIiKYLd05mkWJHN1f/zgI8vr9rwkZr\n",
              "N1+5krsmRERUFRhOZonc0c2rJ4cRMSWiVnh0861njyLp+FhYHy36urEarREREU0XhpNZ4q4nX8O+\n",
              "owPwlQIgIATQELPQVGthMOWhL+miPmad8brxGq0RERFNB9aczAJv9Kfw4N4jyPgBNAAIQGmNvqSL\n",
              "roEMYhGJlOfD9YMRryu10RoREdG5xP9cngXu+6+DcPwAphQwZDZvCgGtNRxfodY2YEqJnmEHsYjJ\n",
              "RmtERFTVuHMyw2W8AD/771OQQmB0wxohwuOdpBNgSVMMWy9ZxkZrRERU9bhzMsMlHD/cHYkYSDgB\n",
              "lFCQYmTmVFrjHW9aMGJQHxutERFRtWI4qTKT7dKa8QIkMh4Sjg+lAccHpAiPeDSAQGnYloGPXNYO\n",
              "AGy0RkREVY/hpEqU0l6+2Gtue2QfMp6CBmBKINCA0oAXaFiGgG1KbL90Gdqaas7tF0RERDRFrDmp\n",
              "ArkeJQ/uPYKk48OUIt9e/lPfehGnEk7R1+U6v7Y1RRGzDGgIGFLAzH5XpQA2LG3CTVesPIdfDRER\n",
              "0dlhOKkCU2kvn/ECPLH/JKKmgahlYllzDebVRiCFgBQShhSotS383QfWs+CViIhmFIaTaVYYMsZr\n",
              "L5+bk5OTcHykvQCR7DaJKSVa66M4f0EcKxfUYmlTDLW2CdtkfQkREc0sDCfTbHTIGK2wvXyhuG0i\n",
              "ZhlwfTXicSkETCnhBhqxiMHOr0RENOMwnEyzsUJGjuOroiEjahm4Zm0rMn4APxj5WnZ+JSKimYzh\n",
              "ZJqdTcjYvrkd5y+oQ0/CQV/SRdLx0Zd00ZNw2PmViIhmLIaTKjDVkNESt3Hn1g5su3Q5O78SEdGs\n",
              "IbTWo7ueV72dO3di165d072MsjqVcLD7mcN4/EAX0m6AWMTAtWvG73NSaLLN24iIiKoVqyUncK5+\n",
              "6LfEbdx69WrcfOXKKX0+dn4lIqLZguFkDFPp2FoOuZCR8QKcSjjcCSEiojmH4aSIXMfWzu5hRE0D\n",
              "EVPmO7buOdiHOytYzzFdoYiIiKhasCC2iKl0bC2HqbaxJyIimk0YTkaZasfWcpiuUERERFRNGE5G\n",
              "mWrH1rM1naGIiIiomjCcjDLVjq1na7pCERERUbVhOBllutrCT1coIiIiqjYMJ0VMR1t4zsohIiIK\n",
              "MZwUMV1t4Tkrh4iIiO3rJ3Su28KfbRt7IiKimY4FDBM4123hz7aNPRER0UzHcFKlOCuHiIjmKtac\n",
              "EBERUVVhOCmQG7bHRmdERETTh8c64LA9IiKiajLnd044bI+IiKi6zPlwwmF7RERE1WVOhxMO2yMi\n",
              "Iqo+czqccNgeERFR9ZnT4YTD9oiIiKrPnA4nHLZHRERUfeb8lsD2ze3Ye7Afnd3DsE0Dtinh+GEw\n",
              "4bA9IiKic29O75wA0zeBmIiIiIqb8zsnAIftERERVROGkwIctkdERDT95vyxDhEREVUXhhMiIiKq\n",
              "KgwnREREVFUYToiIiKiqMJwQERFRVWE4ISIioqrCcEJERERVheGEiIiIqgrDCREREVUVhhMiIiKq\n",
              "KkJrrad7EZP1vve9D+3t7VN+fRAEePbZZ3HJJZfAMNiufibg92xm4fdr5uH3bOaZid+z5cuX40//\n",
              "9E8nfN6MDCdna2hoCA0NDRgcHER9ff10L4dKwO/ZzMLv18zD79nMM5u/ZzzWISIioqrCcEJERERV\n",
              "heGEiIiIqsqcDCe2bePzn/88bNue7qVQifg9m1n4/Zp5+D2beWbz92xOFsQSERFR9ZqTOydERERU\n",
              "vRhOiIiIqKownBAREVFVmRPh5J3vfCfWr1+PDRs24K1vfStefPFFAMCrr76Kyy67DKtXr8bGjRtx\n",
              "4MCBaV4p5Yz1PWtvb8cFF1yADRs2YMOGDXj44YeneaVU6J577oEQAt///vcBAN3d3bjmmmuwatUq\n",
              "rF27Fk899dT0LpBGGP39uvLKK7FixYr8n6+vfOUr07tAyhvr775Z+3NMzwH9/f35X//zP/+zXr9+\n",
              "vdZa69/7vd/T99xzj9Za60ceeURffPHF07A6Kmas79ny5cv1iy++OD2LonEdPHhQb968WW/atEl/\n",
              "73vf01pr/dGPflR//vOf11pr/eyzz+q2tjbtuu70LZLyin2/rrjiivyvqbqM9XffbP05Nid2Thob\n",
              "G/O/HhwchBAC3d3deP7557Ft2zYAwA033ICjR4+is7NzmlZJhYp9z6h6KaXw8Y9/HHfccceIa43f\n",
              "+c53cPPNNwMANm7ciMWLF+PJJ5+crmVS1ljfL5pZZvPPsTkRTgDgxhtvxNKlS/HZz34WDzzwAI4e\n",
              "PYpFixbBNE0AgBACy5Ytw5EjR6Z5pZQz+ntW+Pi6devwsY99DD09PdO4QsrZtWsXLr/8clx00UX5\n",
              "x3p7e+F5HhYuXJh/rL29nX/GqkCx71fOpz/9aaxbtw4f/OAH8frrr0/D6mgso//um80/x+ZMOLn/\n",
              "/vtx9OhR/NVf/RX+5//8n9O9HCpBse/ZU089hX379uGFF15AS0sLPvKRj0zzKmn//v149NFH8ZnP\n",
              "fGa6l0IlGO/79cADD+C3v/0t9u3bh7e+9a24/vrrp2GFVMyc+7tvus+VpkM0GtVdXV26rq5Oe56n\n",
              "tdZaKaVbW1v1q6++Os2ro2Ki0ag+derUiMeOHz+u4/H4NK2Icr7+9a/rhQsX6uXLl+vly5dr27b1\n",
              "/Pnz9de//nVdU1OjT5w4kX/uxo0b9Y9//ONpXC2N9/0azbbtM/7c0fTL/d138uTJWftzbNbvnAwM\n",
              "DOD48eP5f/7+97+P5uZmLFiwABdeeCF2794NAHj00UexZMkSnH/++dO1VMoa63sWjUYxMDCQf/yh\n",
              "hx5CR0fHNKyQCt1yyy04ceIEDh06hEOHDmHTpk345je/iVtuuQVbtmzBP/7jPwIAnnvuORw7dgxX\n",
              "XHHFNK94bhvr+/WJT3wCJ0+ezD/v0UcfRWtrK5qbm6dxtQQAyWSy6N99s/nnmDndC6i0wcFBbNmy\n",
              "Bel0GlJKzJ8/Hz/60Y8ghMBdd92FHTt24Itf/CLq6+txzz33TPdyCWN/z06ePIkbbrgBQRBAa43z\n",
              "zjsP999//3Qvl8bx5S9/Gdu3b8eqVasQiUSwe/duWJY13cuiIhzHwXXXXQfHcSClREtLC37wgx9M\n",
              "97IIGPfvvtn6c4yzdYiIiKiqzPpjHSIiIppZGE6IiIioqjCcEBERUVVhOCGic6K9vR0vvfTSdC+D\n",
              "iGYAhhMiIiKqKgwnRDRt/u3f/g0XXngh1q9fjyuuuAK//vWvAQBbt27Ft771LQDA17/+dUQiESST\n",
              "SQDA29/+dk43JprlGE6IaFp0d3dj69atuO+++7Bv3z7cdNNNeP/73w+tNa666ir85Cc/AQD8+Mc/\n",
              "xsUXX4wnn3wSqVQKv/rVr7B58+ZpXj0RVRLDCRFNi71792LdunVYt24dAODDH/4wjh8/jmPHjuGq\n",
              "q67Cf/zHfyAIAvz617/Gzp078ZOf/ARPP/00LrnkEjZyI5rlZn2HWCKaeZYtWwbbtvHggw/ioosu\n",
              "wjve8Q789V//NQzDwDve8Y7pXh4RVRh3TohoWmzatAkvv/wy9u/fDwD49re/jba2NrS1tQEArrrq\n",
              "Knzuc5/DVVddhaamJliWhUceeQRXXXXVdC6biM4B7pwQ0Tnzrne9a8SRzFe/+lXceOON8H0fTU1N\n",
              "eOSRRyCEABCGk2984xv5MHLVVVfh7rvvxu/+7u9Oy9qJ6NzhbB0iIiKqKjzWISIioqrCcEJERERV\n",
              "heGEiIiIqgrDCREREVUVhhMiIiKqKgwnREREVFUYToiIiKiqMJwQERFRVWE4ISIioqrCcEJERERV\n",
              "5f8HOFyGcZAzhfQAAAAASUVORK5CYII=\n",
              "\">\n",
              "      </div>\n",
              "      <script type=\"text/javascript\">\n",
              "        (() => {\n",
              "          const chartElement = document.getElementById(\"chart-86689421-334b-4dd8-b355-28ce7175448f\");\n",
              "          async function getCodeForChartHandler(event) {\n",
              "            const chartCodeResponse =  await google.colab.kernel.invokeFunction(\n",
              "                'getCodeForChart', [\"chart-86689421-334b-4dd8-b355-28ce7175448f\"], {});\n",
              "            const responseJson = chartCodeResponse.data['application/json'];\n",
              "            await google.colab.notebook.addCell(responseJson.code, 'code');\n",
              "          }\n",
              "          chartElement.onclick = getCodeForChartHandler;\n",
              "        })();\n",
              "      </script>\n",
              "      <style>\n",
              "        .colab-quickchart-chart-with-code  {\n",
              "            display: block;\n",
              "            float: left;\n",
              "            border: 1px solid transparent;\n",
              "        }\n",
              "\n",
              "        .colab-quickchart-chart-with-code:hover {\n",
              "            cursor: pointer;\n",
              "            border: 1px solid #aaa;\n",
              "        }\n",
              "      </style>"
            ]
          },
          "metadata": {}
        },
        {
          "output_type": "display_data",
          "data": {
            "text/plain": [
              "from matplotlib import pyplot as plt\n",
              "_df_7.plot(kind='scatter', x='Close', y='Adj Close', s=32, alpha=.8)\n",
              "plt.gca().spines[['top', 'right',]].set_visible(False)"
            ],
            "text/html": [
              "      <div class=\"colab-quickchart-chart-with-code\" id=\"chart-ffb3b1a2-e08b-48db-b29f-873dfb23f847\">\n",
              "        <img style=\"width: 180px;\" src=\"data:image/png;base64,iVBORw0KGgoAAAANSUhEUgAAAicAAAGkCAYAAADqnIU2AAAAOXRFWHRTb2Z0d2FyZQBNYXRwbG90\n",
              "bGliIHZlcnNpb24zLjcuMSwgaHR0cHM6Ly9tYXRwbG90bGliLm9yZy/bCgiHAAAACXBIWXMAAA9h\n",
              "AAAPYQGoP6dpAABnZUlEQVR4nO3deXxc9X3v/9dZZpNGmyVv2NhmsUnAEJvVQBbSFAolNyUlblJi\n",
              "gxuIgSw3XNL7y9IsD5I0S3sLN4UmIWnCJkIgoSG5aaBN7k0gJbbZbIydABZ4xbYk21pGmpkzc875\n",
              "/v44mrEkS7ZkS9b2fvZhYkYzo6+tWn7z/X4+n69ljDGIiIiIjBP2WC9AREREpDeFExERERlXFE5E\n",
              "RERkXFE4ERERkXFF4URERETGFYUTERERGVcUTkRERGRcUTgRERGRcWVChpNvfvObY70EERERGSUT\n",
              "Mpxs3759rJcgIiIio2RChhMRERGZvBROREREZFxROBEREZFxReFERERExhWFExERERlXFE5ERERk\n",
              "XFE4ERERkXFF4URERETGFYUTERERGVcUTkRERGRcUTgRERGZYvLFgH1dHvliMNZLGZA71gsQERGR\n",
              "46M149G4dhtPbGomVwxIxRyuWDyLFRfOpyGdGOvllWnnREREZApozXh8/KH1PLhuB92ej2tbdHs+\n",
              "jeu287EfrmdflzfWSyxTOBEREZkCGtduo6klw/R0grrKOJUJl7rKONPTCZpaMjSu2T7WSyxTOBER\n",
              "EZnk8sWAJzY1k3QdXKfvX/2uY5NwHR7fvHfc1KAonIiIiExyXZ5PrhgQdwf+az/h2uQKAV2ef5xX\n",
              "NjCFExERkUkunXBJxRwKfjjgxz0/JBV3SCfGR5+MwomIiMgkl4w5XL54Jnk/wA/6BhQ/CPH8gCvO\n",
              "mEUy5ozRCvsaHxFJRERERtXKCxewbmsbTS0ZEq5DwrXx/CiYLJxRxYoL54/1Esu0cyIiIjIFNKQT\n",
              "3HXNUlZcMJ900sUPDemky4oL5nPnNUvH1ZwT7ZyIiIhMUPliVMSaTrhDOpJpSCe45dJF3HTJKcN6\n",
              "3fGmcCIiIjLBHOuk12TMGTSUDDfwjAaFExERkQmkNOm1qSVD0nWIu3Z50uvarQe46yiPaMbTaHvV\n",
              "nIiIiEwgozHpdbyNtlc4ERERmSBGa9LreBttr3AiIiIyQYzGpNfxONpe4URERGSCGI1Jr+NxtL3C\n",
              "iYiIyAQxGpNex+Noe4UTERGRcSBfDNjX5R3x+GTlhQs4dUYVrV0eB7oLdHs+B7oLtHZ5RzXpdTyO\n",
              "tlcrsYiIyBgabgtvadJr45rtPL55L7lCQDrpsvyMuUfd9jveRttbxhhzXD/jCLj11lu5/fbbx3oZ\n",
              "IiIix2SgmSUFPyTvB5w6o+qIM0tGcmDavi6vT+BJxR2uOGNs5pxo50RERGQM5IsB332qiS3Nncyo\n",
              "SpY7ZSoT0XFKqYX3lksXDfoeh5v0OlzjabS9womIiMhxVDrGeXzTXrbu68YYcOwC9ZXxckDp3cJ7\n",
              "0yWnHNeQMJKB52gpnIiIiBwnu9qyfOJHG9i2r5u4a2MMGGB/T2HrvGkV5YDSu4V3rMPC8aZwIiIi\n",
              "MspaMx7/+tRr/OjZHXTmA2KORU0qjmNbhMbgWBZ5P2R/d4GZ1UkgauFNJ90htfCOh8v6RpLCiYiI\n",
              "yCha07SPDz/wHF3ewRbhQmDY3+31hBNwLLAt6MgVmV6VIAwNnh+w/Iy5hw0b4+myvpE0qnNOFixY\n",
              "wGmnncaSJUtYsmQJDz/8MABbtmzhoosuYtGiRZx33nls3rx5NJchIiIyJl7e08l19z7bJ5iUhAaC\n",
              "0GBb4IeG0BiC0LC/a2gzS3a1ZVn9wHPcv2Y7Ga845pf1jaRR3zl5+OGHWbJkSZ/HbrzxRlavXs2q\n",
              "Vav4yU9+wqpVq3j22WdHeykiIiLH1ecee6k8edUiqi/pLTQQsyyqK2K0dRewLKhKuVy5ePagux+t\n",
              "GY+7n2yice128n70jp15n7qKGNOrElQZd0idPuPZcZ8Q29LSwnPPPceKFSsAuPrqq9m5cydNTU3H\n",
              "eykiIiKjIl8MeH1fhhd3dQBRMIn+caggDKlNudRUxPibixbwfz72Vm65dNGgweTGB57nnqe3lYNJ\n",
              "9B7Rjsv2/VmwGJPL+kbSqO+cXHvttRhjOP/88/n617/Ozp07mT17Nq4bfWrLspg3bx47duzg1FNP\n",
              "PeT1nufheX23poJgYv5mi4jI5Na7BqQjV6QYRAHCEGWTgXZPjIED2SKLZlSx+h2HbxtuXLuNP+7p\n",
              "wJiD72X1/MQQhaL9XQXSCXdCd/qM6s7JU089xcaNG3nhhRdoaGjguuuuG/Z7fO1rX6OmpqbPj2ee\n",
              "eWYUVisiInL0StNeH1y3g27PJ+722yrpSSj9N1BqUjFWXjCfO4cwDfaXL+2lGBjs/n9797xvaKKi\n",
              "2rwfHPfL+kbSqIaTefPmARCLxbjlllv43e9+x4knnsiePXvw/ejqZWMMO3bsKD+3v8985jN0dHT0\n",
              "+XH++eeP5rJFRESGrXHtNppaMkxPJ6irjFOTipOKHfxr1pT/cVA64fB//vvgxzi9dXk+2UJ0cmBb\n",
              "NnZPyul/CU0QhuSL4XG/rG8kjVo46e7upr29vfzvDz30EEuXLmXGjBmcffbZNDY2AvDoo48yd+7c\n",
              "AY90ABKJBNXV1X1+OM7E/M0WEZHJoyNb4NXmDB3ZAvliwBObmkm6TnmIGsDc2lQ5RECUTUpZIu7a\n",
              "fH/VecyprRjS50snXCriTs/7GGJO34BSel9jYOGM9HG/rG8kjdp+T3NzM1dffTVBEGCM4eSTT+b+\n",
              "++8H4O6772bVqlV89atfpbq6mnvuuWe0liEiIjKiXt7TyRd+tokNuzoIQ4NtWyw+oZqOXLEcHkqS\n",
              "cZdTGirZ0ZbD80Mc28Kx4C1za/n7vzyTRTOrhvx5kzGHPz9zFt996nUKvsFxIO7Y+GHUglyqazl3\n",
              "wTT+5YNnT+g5J6MWTk4++WTWr18/4MdOO+001qxZM1qfWkREZFQ8u20/q37wLNlCgG2BZVsEQcj6\n",
              "He1YFjRUJqjsV+eRjLs0pBMk4zbf/KslnDitgpqKeJ/nRIWsHlhQX5kY9Dhm5YUL+K+m/by4s51C\n",
              "EGJZB0tsXRvOnFs74YMJaEKsiIjIEZV2S57Z1lZ+zACuZWG7NmEY4gWGA1mP+nS8z9GOH4TRtNdz\n",
              "5rJ4bm2f941mlrzGv72wi858EYCaVJyrz57D6necckjIaEgnuHvlOXz3ydd49IU3el5jUVsZG/Q1\n",
              "E5HCiYiIyGG8vKeT5d/5PZl+U15DE91/k3BtbNvGCQOCEJo7c6TiMRKujedHwWSgaa+tGY/r73uW\n",
              "l3Z19KmT3d9d4Pv/tZXnd7Rz98pzBgwon73ydG697DT2d3tgoD49+G7LRHTch7CJiIhMFK0Zjw/d\n",
              "+8whwaS3YtAzAda2sG2LK888gXTSxQ8N6aTLigHahPPFgP/961fY1C+YlAQGNr/RTuOa7YN+3mTM\n",
              "YU5tBXPqKiZVMAHtnIiIiAxoV1uWj/3wBXZ3HP6OmtBE3TMmNDiOzd/+2WkkYs6AtwSXhrQ9vmkv\n",
              "W5q7ysGk9wTZUmuw5xv+fdMebrrk8IPZJiOFExERkV5ea81wz39t5Rcv7qaj147JQNNdS4LQEBo4\n",
              "98TacrFr/0Cxqy3LJ360gW37uog5dp/3MoBVGtJmHWwN7s77E3bK67FQOBERESGqLfnUoy+ycVfn\n",
              "gCFksGAC4AeGqqTLl69afMjHSrslD6zdTnu2iOvYVA1Qs1pqBe4tEbcn7JTXYzH1fsUiIiL9rGna\n",
              "x3X3Plu+QXg4LOD8k6bx5asWHzK3pDXjsfqB5/jj7k7yPe9d8EMODPZ5eiUgC7jyjNlTbtcEFE5E\n",
              "RGQK68gW2LirndUPPEfBP9zeyMAqYjaNN1zA2fOnHfKxXW1ZbnrgOTbtzhzyscE+U+/HZ9UkWfXW\n",
              "k4a9pslA4URERKacl/d08pl/28jGXR0Ew88kAMypTXLP35w/4G7J3U828eC6HeSKR7cTM6smyX0f\n",
              "On9SzCw5GgonIiIypby8p5P3fWcNXZ4/rNdZgGNbpJMuC6en+fYAM0hKRa+b32jHG2Lqqatw6cz7\n",
              "VMRcZlQnuGLxLFZdfNKUDSagcCIiIlPMF362qRxMDteB058BalIxVi6bz4oL5/cJD6Wi18a1OzjQ\n",
              "XaD85kN843PnTePL713MvGmTb2bJ0VA4ERGRKSFfDNjdkWXDzg6g12yRIaQTx4alJ9bxzb9ecsgt\n",
              "wgdbhLvpyBWxrGj2yVDe17bggxfMZ9Vbp/ZOSX8KJyIiMqntasvy/d+9zm9fbSXrBRSC4deBXHPe\n",
              "PD5x6aIBd0seWLOd9lwR17YIjcGxLIwxR8wmjgXXXTSfv738TcNez2SncCIiIpPSrrYsd/znKzy2\n",
              "YXe56LX3SUtp8NnhNk/SCYfvrDibty6c0efx1ozHR3/4AluaM2TyPpZlYeiZFmsMtsVhC21dG5ac\n",
              "WMdH3rnw6H+Bk5jCiYiITCqtGY9v/WYLDz2zszxbpKR/XjBEE1kt0/djNSmXvz73RG4Y4JbfXW1Z\n",
              "Pv7DF3hxZwe2Bb6JdkEcx8YY8MPonezS8U6vn1tAMmazctn8SXOD8GhQOBERkUnj5T2dXH//s+xu\n",
              "yw+90LXfE0+fXcX3rjv3kNqSqEX4tZ4W4aDPawMDxg+JOTZBaAhMtDtieoWeVMzhfefM4aZ3nMKc\n",
              "ur7vLX0pnIiIyKTQmvG4/r5n2d0+9GDSWypm876z5x5SW1J6748/tJ6NO9vJ+wfv2+n9eUIT3bET\n",
              "cyyC0GBbFqFlqEvFeN85c7nu4gWHBB4ZmMKJiIhMCvc+/Tp7O/M4dhQOjhRQbAtOnJbi9r9aQl1l\n",
              "jBNqBm/jbVy7jS3NGfwwxLUt/J6Ckv6fww8Njg2WZVGVjLGgoZJ//sAS7ZQMk8KJiIhMePliwBOb\n",
              "mwErKkYdwmtCA+960wzOGWD0/CHvvamZuGsDFpYVtRb7oelTTFuqKzEGaisGnociQ6NwIiIiE16X\n",
              "51PwQ2wrCguObZULUwdjAa5tH/J4vhjQ5fmkEy7JmEOX55MrBiRjNpYFxSAs15r0+QwGbGDJibXc\n",
              "ec1SHeEcA4UTERGZ8NIJl4q4S9K1yRZDHCvqwulf7Fri2lBXkeDJLfu4tRiQjDm0ZjzufXor/7F5\n",
              "L54fUhF3uWLxLJafO5dUzKEzVyQ0ptyBM1AL8nknTeNfPni2dkuOkcKJiIhMeMmYw9sWNvDg2u2E\n",
              "oRn0WMcG6ipizKhO4vkhuUK0S7JtXzfX3/8se9u96Hl29J73r93O2q0HePuieh5cu7On0PVgi3Bv\n",
              "s2uTCiYjROFEREQmvNaMx/M72ij2pIb+uxqODXPrUqQTMWwrGsXWmfdJJ106cgVW3fMMzZ0ejg22\n",
              "bWOMIVcICJyQV5sznD67qldtiYWF6TPYrSLukIw5pBP6a3Uk6HdRREQmtNaMx0cffJ6NOzuwiHY2\n",
              "6AkQYQghUJOMUZ2Ml1/jByG5YsDcuiTv+9bvacuVbiiOCmotKwoohcDgBCFPvdpKXUWMbMEmVwww\n",
              "xsK1oCrhUp+OUwwMxcDQ5fm6uG8EKJyIiMi41b84tb8omLzA8zvaALCdKFSEoSHu2syuT7KzLU9H\n",
              "zicZ90i6TnScUwzwg2hXpDPvl9/PDw2hiV5rWRaWZcgXA/J+SCruYFsWc+pShKHBtq3yLkyXVyCd\n",
              "dLVzMkL0uygiIuNOVJz6Ok9sbqbQqzi11JpbCi33Pr2VppZMdNRiWThWVAlrrGjXI5MPmF2dpC1b\n",
              "oCIWBZNUzOaEmiSvtXZRXxmnKx8QmIPHQaEBP4iGqVmWRRAYkq7Nn50xk4ef20VV6OI6B7t8/CDE\n",
              "8wOWnzFXuyYjROFERETGlY272ll9/3O0ZjywomOWpOtw35pt/L9XWjhnXi2/f+0A2YJPc8Yj7kQ7\n",
              "GKExlK72K+16dOSKuI7FjKoE73rTdH79civ5YsCLb3SQcG1sx8K2LayeoW2ldwhCg+sYwjAELC5f\n",
              "PItVF5/E8zs6aGrJkHAdEq6N50fBZOGMKlZcOH/sftMmGYUTEREZF6K7a5q49/fbyzNKHAwGi66C\n",
              "Dwbash28tKuDdMKlJhUjCA25IIzahrEwxmBZBwNKGEaFrRj48fNvkIo5uD3332Q9n10HcqQTDm1B\n",
              "iGWi+pRS4asfGIIQ5tQlWXXxSTSkE9x1zVIa12zn8c17yRUC0kmX5WfM1bC1EaZwIiIiY25XW5ZP\n",
              "/GgDm99oLwcTi+hCvf7DSgzQXfAJjMGxIOwJJbYNxdBgWwYLiyCMbiT2A8PeXDTWvrsQUJ10y6+L\n",
              "jnkcUjGHXDHA5mCbsMEwpzbFD1adVw4eDekEt1y6iJsuOeWwtTBybBRORERkzJRqSx5ct4P23MHC\n",
              "VKv0j0GGqMXsKFgkHAsvMFhW9PRpFTE68z6hiY5pKuIO3Z7f8/Ho6OdAttgTQqLOnozns6C+grZs\n",
              "kY5ckYIfUlsR44Pnz2PVW08acEckGXMUSkaRwomIiIyJ57Yd4ObG59nXVTgkgxjAOsz0ecuysHtm\n",
              "jSQcC8/v+bnrELN9soXoxVkvwBCNqXeiHmOMidp+nZ46FT8w5P2AmGOTTjicNKeGb/71Eo2fH0MK\n",
              "JyIiclxt3NnO//eTF3m5ueuwzxssm0Sj6S2snkv25tSl2NvpkfcD9nTkysPR4ODmSzEIsa1Se7CF\n",
              "bRtsyyJh2xTCaB5KOumy/BzVj4wHCiciInJctGY8/vevXuGhZ3cOOP59qFw7Kng1RAEjxOCHIcVe\n",
              "qcSmb3GrIZphEnN6imV7jnjirsOqnuMb1Y+MHwonIiIy6koFrxt2tB11MHFti5gNxRCCIMAYSMRs\n",
              "tu/P9bQRHxQO8Ho/NFhWGM0uCUOwYOGMqkHrSmTsKJyIiMioac14NK7dRuPaHbRlC0cdTBwr6pRJ\n",
              "xCwOdBfJegGObVEMQoKeGSUlA9XR9ky0j3Zawmiaybnz63RR3zilcCIiIqOiNFp+S0uGzlyxZzza\n",
              "0FlAfWV0H44BqlMu+WLIzKoEqXqHl3d3Uhgg7JQGqZl+j7m2RX1lnLwfsnBGWsFkHFM4ERGREVe6\n",
              "jO/5HW3RzBED9jDTybSKGLNrU3R7Pn5ouOdvzmPn/iy3PrKB11q7By2YhYPBpHdIScUcqlIx/uqM\n",
              "WSp6HecUTkREZETtasvy8YfWs3FnOwB2zzU0wz3SyXjRvBLPD6lMOBzoKnLrjzewp8M7bDDprfS8\n",
              "OTVJ7vnQ+cybVqGi1wlA4UREREZEqb7kgTXbac8VCQ3li/gszJADRYkxkC34HOgukC3YXPOva8nk\n",
              "/fLx0GFmtJVZRK3GP1h1HotmVg371yRjQ+FERESOWakbZ2trF515P7rfxhgCYwj8o6uCDYxh674s\n",
              "AF4xKHfgmH7/O5hkzOaa80/kI+9cqCOcCUbhREREjlo0fn4rP1y3nY68H91ZY6LiU8u2yvfkDEX/\n",
              "nZDeLx2oNXig10DU2fOWE2u586+XMqdOU14nIoUTERE5Ki/v6eT6+59lT1v+4K6GKU1kNdjDrIA9\n",
              "mv2V/p05SdfiLXPr+JcV6sSZyBRORERkWPLFgO37s3zo3mfY0+FFXTjlm3wP/m8wxF0Tx6LPyPnh\n",
              "KE2ChWi35toLF7D6HacomExwCiciIjIkpYLXxzftZU97nowXFae6tkUYDL/gtSTuWOSOsi4FonAz\n",
              "ozrJ9649h8Vzao/6fWT8UDgREZEjas143NT4PH/c3UkhCMu1JAYoDDOYlKa1ljZWjjaYVCUcZlYn\n",
              "uXzxLFZdrBH0k4nCiYiIHNHdT77Gxl3thOGhtSTDbhE+mhf1M6s6wf3XX6C5JZOUwomIiAwoXwzo\n",
              "8nxitsVP179BEBrijg0W+EPcLbGt6NjFdWzyxXDIbcBHcumbZ2puySSmcCIiIn2Uakue2NRMrhjg\n",
              "OtCWLfQcx0S7Jj1jTA4rbgNWNB52QX0led9nd1sOLzj6tTnAtHSCZ7a3kS8G2jWZpBRORESkrDXj\n",
              "8fGH1tPUkiHpOsRdm6znl+tDjDEwhGACPR04JsS2LfZ1ebRli0d9KzFATdLhhNoKPD8kV4h2dRRO\n",
              "JieFExERKWtcu42mlgzT0wlcJ9r1SMUdWjo9QqAYhMTc6PHBBqDZlgUWVCYcOrI+YWDY310YUqAZ\n",
              "iAXMq09RnYxuKO7M+6STLumE/gqbrPSVFRERIKoxeWJTM0nXKQcTiMLGtMo4+7oLBAas8NB6E6en\n",
              "Rta2rWh3xEBH1j9YY3KUwaQ26TC7tqK8Hj8I8fyA5WfM1a7JJKZwIiIiAHR5PrliQNy1D/nY9OoE\n",
              "mXwRL4hGwNo9rcAWkIrZzKlL0ZHzac8WMMaUJ8UerfrKGLNrUuztzNOZ90m4Np4fBZOFM6pYceH8\n",
              "Y3h3Ge8UTkREpqBSJ0464ZZ3INIJl1TModvzqew3MsS1baalExT8kNrKGN35gPZsAcuC6lScIISY\n",
              "Y5NOutiWxb6uAjC0m4P7e+/SE/i7K08HoHHNdh7fvJdcISCddFl+xlxWXDhfM00mOYUTEZEppH8n\n",
              "TirmcMXiWeW/8C9fPJMH1+3AD8I+Rzt+EFIMQlYum89Nl5xCl+fj+QE/fnYXj2/eS0e2SEeugOeH\n",
              "fYpeDUPr7AGojDvcvfIc3rpwevmxWy5dVP58vYOUTG4KJyIiU8RAnTjdnk/juu2s3XqAu65ZysoL\n",
              "F7BuaxtNLRkSrjPgcUoy5pRDwi2XLmLpibXc8MBzFAe5IGewYOLYFsZEs1Pef+5cPv6niwbcEen9\n",
              "+WRqUDgREZkiBurEqUxEuyJNLRka12znlksXcdc1S4d8nNKa8fjoQy+Ug8lgxzj9d09sC05uqOSd\n",
              "p03nuosWMKeuYpR+1TIRKZyIiEwBg3XiQDS9NeE6PL55LzddEt3oO9TjlH996jW6eqaqWaWp9gOk\n",
              "k97BxAI+eP48/u7dp2tHRAakcCIiMgUcrhMHIOHahww2O9JxSr4Y8B9/aD7k8cMVwVrAWXNr+MSl\n",
              "ixRMZFAKJyIiU8DhOnEAPD8c9mCzLs/HD8JDP2CB1a+V2AZqK2K875y5rH7HKeq2kcNSOBERmQKS\n",
              "MeewnThHM9gsnXCpTMSIOR7FIJptUj7a6bV98pY51Xxr5TnUVya0WyJDMvD+noiITDorL1zAqTOq\n",
              "aO3yONBdoNvzOdBdoLXLO6rBZqXAU5lwsXtCiTEHfwDEXZt//KslzKmtUDCRIVM4ERGZIhrSCe66\n",
              "ZikrLphPOunih4Z00mXFBfO585qlR3XUsvLCBbxpVjXVqRjx0gz7HlVJlweuP59FM6tG6pcgU4Rl\n",
              "zNHeeDB2br31Vm6//faxXoaIyIQ10ITYo7Wvyyu3Hnfni7iOzeVnzOSGt6u2RI6Oak5ERKagkRxs\n",
              "NpzWY5GhUDgREZERoUmuMlKOS83JPffcg2VZPPbYYwBccsklnHTSSSxZsoQlS5Zwxx13HI9liIiI\n",
              "yAQw6jsn27Zt43vf+x7Lli3r8/gdd9zBVVddNdqfXkRERCaYUd05CcOQG264gTvvvJNEQkVRIiIi\n",
              "cmSjGk5uv/12Lr74Ys4555xDPvbpT3+aM888k/e///28/vrrg76H53l0dnb2+REEwWguW0RERMbQ\n",
              "qIWTTZs28eijj/K5z33ukI898MADvPzyy2zcuJG3ve1tvPvd7x70fb72ta9RU1PT58czzzwzWssW\n",
              "ERGRMTZqc06+/e1v86Uvfal8nLN3716qq6u57bbbuPnmm/s8N5lM8sYbb1BfX3/I+3ieh+d5fR77\n",
              "/Oc/zze/+c3RWLaIiIiMsVEriL355pv7hJBLLrmEW265hXe/+900Nzczc+ZMAB599FFmzpw5YDAB\n",
              "SCQSh9SrOI5a1URERCar4z7nxPM8rrzySjzPw7ZtGhoa+PnPf368lyEiIiLj1HELJ7/97W/LP3/u\n",
              "ueeO16cVERGRCUYX/4mITAH5YsC+Lo98Ud2OMv5pfL2IyCTWmvG49+nXeWJzMwU/pCLucsXiWay4\n",
              "cL4u5ZNxS+FERGSSenlPJ9ff9yx7O/OAhW1B0nW4f8021m49wF3XLFVAkXFJxzoiIpNQa8bj+vuf\n",
              "ZXd7HgsLx7IAyBYD8n7Iq3s7aVyzfYxXKTIwhRMRkUno3qe3srfdw7Eh5tg4toVr28RsC88PKQaG\n",
              "xzfvVQ2KjEsKJyIik0y+GPAfm/cCYNt9v81bVnS8k/cDsp5Pl+ePxRJFDkvhRERkkunyfDw/xLZh\n",
              "oCHgFhahgbhrk06o9FDGH4UTEZFJJp1wqYi7JGMOxhwaUEJjAMMVZ8wiGdPEbRl/FE5ERCagw80t\n",
              "ScYcLl88k5hjE3cs/NDghyGBMRSDgCA0zK5OseqtJ43BykWOTPt5IiITSGvGo3HtNp7Y1EyuGJCK\n",
              "OQPOLVl54QLWbW3j1eYMThCSLwYEgQEs5tQl+cGq89RGLOOWwomIyATRmvH4+EPraWrJkHQd4q5N\n",
              "t+fTuG77IXNLGtIJ7rpmKY1rtvP45r1kPZ+Ea3P54lmsuvgkBRMZ1xROREQmiMa122hqyTA9ncB1\n",
              "olP5ygT4QUhTS4bGNdu55dJF5ec3pBPccukibrrkFLo8n3TCVY2JTAiqORERGcdKtSUd2QJPbGom\n",
              "6TrlYFLiOjYJ1xl0bkky5tCQTiiYyIShnRMRkXGof21JzLHYl/GorYwP+PyEa5MrBHR5vkKITHgK\n",
              "JyIi48xAtSX5QkBXwSdXDKiY4eD2G67m+SHppKu5JTIp6FhHRGSc6V1bUlcZpzLhMi2doDYVoxgY\n",
              "Wju9Ps/3gxDPDzS3RCYNRWwRkXEkXwwGrS2ZUZUk4wW0ZYvEYzZJ18Hzo2CycEYVKy6cP0arFhlZ\n",
              "CiciIuNIlxcd3cTdQze2XcdmdnWStmyBiphDITCkky7Lz5h7yJwTkYlM4UREZBxJJ1xSMYduz6dy\n",
              "gKzhh4bZtSkeWb2MYmjUHiyTkmpORETGkdLo+bwf4Adhn4/1ri2pqYirPVgmLe2ciIiMM6XR800t\n",
              "GRKuQ8K1VVsiU4p2TkRExpnS6PkVF8ynMhEVvVYmHFZcMJ87e42oF5msFE5ERMYhY6AYhBSCED8I\n",
              "CY0Z6yWJHDc61hERGWde3tPJdfc8Q0unRymStHR53P3Ua/yuaR93rzxHuycyqWnnRERkHFnTtI93\n",
              "3/k7mnsFE4h2UnLFkBd3tvPdJ18bs/WJHA8KJyIi40C+GPDUlhZW/mAdfjj484LQ8OgLbwx4wZ/I\n",
              "ZKFjHRGRMdSa8fjn//sqP9/wBh35IwcOA3Tmi+zv8phTVzH6CxQZAwonIiJj5MmXW7j5wefIFodX\n",
              "7GoMYI3OmkTGA4UTEZHjbFdbljv+81UeXf/GUb2+OuVSP9D4WJFJQuFEROQ4ac143P1kEw+u20nu\n",
              "KGtGbOB9Z8/VZFiZ1BRORESOg9aMx8cfWs+LO9vwDlfxegSL59aw+h2njODKRMYfhRMRkVGWLwZ8\n",
              "96kmXt3bQWjAtqyjGqr2vnPm8Okr3qwZJzLpKZyIiIyS1oxH49ptPL5pL1v3dROGBgM49tCrWW0L\n",
              "zppTw1feu5jFc2pHba0i44nCiYjIKCgd4zS1ZIg5NsZEbcChARMYLOBIeyenz67irg8u5eSGquOw\n",
              "YpHxQ+FERGQUNK7dRlNLhunpBLZtcaC7gGXACg2BiXZEDneyoyMcmcoUTkRERli+GPDEpmaSroPr\n",
              "RIO4a1IxDnQXcG2LMDCEBlzbwg8PJhSLaLfkG+87S0c4MqUpnIiIjLAuzydXDIi7B28IqU/H6fZ8\n",
              "PD/E6nWmY1uQcG2uPGs2H7nkVE6enh6bRYuMIwonIiLHIF8M6PJ80gm3PHsknXBJxRy6PZ/SrDTX\n",
              "tplXX8H+rkJ0xGPDvPoK3nXaDK67eAFzajWKXqRE4URE5Cjsasty3++38eSrreSLIamYwxWLZ7Hi\n",
              "wvk0pBNcvngmD67bgR+E5aMd17apr4wTGMPVS+dw62WnaZiayAAUTkREhqE14/Evv3mVH67dQSGM\n",
              "JrbWVMQoBiGN67azdusB7rpmKSsvXMC6rW00tWRIuA4J18bzQzw/YNGMKla/4xQFE5FB2Ed+ykEd\n",
              "HR187GMf493vfjcAf/jDH3jooYdGZWEiIuPNy3s6ueKbT3Lv76NgAhACbdki7d0edRUxmloyNK7Z\n",
              "TkM6wV3XLGXFBfNJJ1380JBOuqy4YD53XrNUXTgihzGsnZMbb7yRxYsX89vf/haAk046iWuuuYa/\n",
              "/uu/Ho21iYiMG2ua9rHyB8/06a7pLecb9ncVSMVdHt+8l5suOYWGdIJbLl3ETZecckhdiogMblg7\n",
              "J6+++iqf+9zniMViAKRSKcxRjGAWEZkoOrIF/mPTHlb+YN2gwaSkLVsk7ljkClGRbEky5tCQTiiY\n",
              "iAzRsHZO4vF4n3/P5XIKJyIyKW3c1c7nH3uJP+zOUDxCKCkxQLbgU1uZIJ1QSZ/I0RrWn553vvOd\n",
              "/P3f/z35fJ5f//rX3HHHHfzlX/7laK1NROS4a814/P0vNvPYi3uO6vV5P+SKM2Zpl0TkGAzrWOfL\n",
              "X/4ytm1TXV3NZz/7WS6++GI+//nPj9baRESOq4272rnyn3931MEEYNH0KlZcOH8EVyUy9VhmAp7L\n",
              "3Hrrrdx+++1jvQwRmSSi9uAt3P/77YTH8D6zqhP84r+/TZ04IsdoWDsnX/jCF2hvb8cYw5VXXklD\n",
              "QwOPPvroaK1NRGTUvbynk6v+5b+49xiDSUXc4f7rL1AwERkBwwonP/vZz6itreXXv/41ruvy9NNP\n",
              "85WvfGW01iYiMqpaMx7X3/csu9vzx/Q+p89K89hHL2bRzKoRWpnI1DasgljbjrLMk08+yfLlyznt\n",
              "tNOwLGtUFiYiMppaMx43Nz7HG0cZTFwbTptVxZf/YjFnz582wquLDHRvj8hUMKxwUllZyTe+8Q1+\n",
              "9KMf8fTTT2OMoVAojNbaRERGXEe2wPPbDvCPv3qVV/Zmhv36uGNx1wfP5oIF06ipiB/5BUehNePR\n",
              "uHYbT2xqJlcMDrm3R2SyG1Y4uffee7nrrrv4h3/4B2bOnElTUxMrVqwYrbWJiIyYl/d08rc/3sCm\n",
              "3cMPJCXpuMP3/+Y8LjipfgRX1ldrxuPjD62nqSVD0nWIuzbdnt/n3h4FFJnsjqpbZ/fu3QCccMIJ\n",
              "I76goVC3jogMx8t7OvnLb/+ebCE46vc4fXbVcSl4veNXr/Dguh1MTyfKtxkD+EFIa5fHigvmc8ul\n",
              "i0Z1DSJjbVgFsX/84x8544wzWLx4MWeccQZnnnkmr7zyymitTURkRHzhZ5uOOpgkHFg6r/a4BJN8\n",
              "MeCJTc0kXadPMAFwHZuE6/D45r3ki0cfskQmgmGFk4985CP83d/9HQcOHKCtrY2/+7u/46abbhqt\n",
              "tYmIHLOObIH1O9uH/TrHgvn1Fdx8yUK+d+25x+UopcvzyRUD4u7A35oTrn3IvT0ik9Gwak7a2tq4\n",
              "5ppryv/+gQ98gK9//esjvigRkZHSnPEIhng3jmtbGGNYcmItX7v6LOZNqziuXTLphEsq5tDt+VQO\n",
              "kIU8PySddHVvj0x6w9o5cRyHP/zhD+V//8Mf/oDjqL1NRMavmVUJHHtoIw+qki7nzp/G3deey6KZ\n",
              "Vce9fTcZc7h88UzyfoAf9B0J5wchnh/o3h6ZEoYVv7/61a/y9re/nbPOOguAl156iQcffHBUFiYi\n",
              "MlSHmwdSUxFn6Ym1PLOt7bDvkYo5XHfhgjFv11154QLWbW2jqSVDwnVIuDaeHwWThTN0b49MDcPu\n",
              "1mlpaeGZZ54BYNmyZTQ0NIzKwg5H3ToiAkOfB/Jqc4ar/uXpQYtiK2I2j9x0EYvn1ByvpR/Wvi6P\n",
              "xjXbeXzzXnKFgFTc4YozNOdEpg5d/CciE9JA80AKfkjeDzh1RtUh80Bebc7wyUc2sOmNTkrf9Czg\n",
              "zDnV/K+/WjIuR89rQqxMVUM61qmrqxtwTL0xBsuyOHDgwIgvTETkcBrXbqOpJdNnHkhlIqrNaGrJ\n",
              "0Lhme595IItmVvF/Pv42OrIFXmvpwliGU6dXjdqU15GQjDkKJTIlDSmcbNiwYZSXISIydEOdB3LT\n",
              "JacMWINy9oLRuQtHREbGkMKJ4zjs3buXc889t8/jzz33HLNnzx6VhYmI9Nb7iGM480C08yAy8Qwp\n",
              "nHzqU5/ihhtuOOTxrq4uPvWpT9HY2DjiCxMRgYGLXi998wzijkW+GGoeiMgkNKQ5J6+88grvfOc7\n",
              "D3n8kksu0ZGPiIyaXW1Zbmp8nsa12+n2fFzbotvz+dFzO8kVA7LFsZ8Hki8G7OvyhjRSfjjPFZnK\n",
              "hvSfFblcbtCPDaXZ55577uFDH/oQP/3pT7nqqqtoaWnh2muv5bXXXiORSPCtb32Lt7/97UNftYhM\n",
              "aqXdksa1O2jLFog5No5tU5V0qUy4+EFIc2eeioRLa5c3JvNAhtrGPNznisgQd05s22bPnj2HPL57\n",
              "925s+/BvsW3bNr73ve+xbNmy8mOf/vSnWbZsGVu2bOGee+7hmmuuoVgsDnPpIjIZlVqEG9fuoCNX\n",
              "xLIgNIb93QV2HMjiByGuY5OKuyRcmw+cdyLppIsfGtJJlxUXzOfOfm3EgznanYzSGh9ct6PPjk7j\n",
              "uu187Ifr2dflHdVzRSQypJ2Tm266ife973384Ac/4LTTTgPg5Zdf5sMf/jCrV68e9HVhGHLDDTdw\n",
              "55138slPfrL8+COPPEJTUxMA5513HieccAJPPvkkf/qnf3rIe3ieh+f1/cMbBNoSFZmsSi3C0ypj\n",
              "ZPI+WBaOFd15k/dD9ncXmFmdJOHaFAPDqotP4mN/snBY80COdSdjOG3Mw215FpEh7px89KMf5U//\n",
              "9E9ZunQpdXV11NXVcc455/Anf/InfPzjHx/0dbfffjsXX3wx55xzTvmx/fv3UywWmTVrVvmxBQsW\n",
              "sGPHjgHf42tf+xo1NTV9fpQm1IrI5NK7RTjuOljWwaNjy7KwLejIFQmNwfNDUnGnHEga0okhB5Nj\n",
              "2ckYahtzvhgM67kictCQL/677bbb2LdvH//5n//Jf/7nf9LS0sJtt9026PM3bdrEo48+yuc+97lj\n",
              "WuBnPvMZOjo6+vw4//zzj+k9RWR86t0ibFsWNakYxvQKKFgYA4VicNRFr713Muoq41QmXOoq40xP\n",
              "J8o7GUNd40B6tzEP57kictCw+uwqKio477zzhvTc3/3ud2zbto2FCxcCsHfvXlavXs1tt92G67rs\n",
              "3bu3vHuybds25s2bN+D7JBIJEom+26y6CVlkckonXFIxh27PpzIB9ek43Z6P54dYliE00cj5A9kC\n",
              "i2ZWD7vo9ViGtw22xv76tzEP57kiEhnyzslw3XzzzezZs4dt27axbds2li1bxne/+11uvvlmli9f\n",
              "zne+8x0Ann32Wd544w3e8Y53jNZSRGSCSMYcLl88k7wftQi7ts28+gqmVcaxiHZQalIxVi5bcMSi\n",
              "14GKXUdiJ6P/Gnvr38Y8nOeKyEFjEte/8Y1vsHLlShYuXEg8HqexsZFYLDYWSxGRcWblhQtYt7WN\n",
              "ppZMuUU45thUpWIsqK/knz+whDl1FYO+/nDFrsPd9RjOGgdrYx7Oc0UkoluJRWTc2dfl0bhmO49v\n",
              "3kuuEJCKO1xxxpG7aYZyU/EDa7bx4LodfbpnINrJaO3yWHHB/CF1zwxnjUf76xGZqoYUTv7pn/6J\n",
              "T37yk/yP//E/Drmd2LIsGhoaWLlyJXPnzh21hfamcCIyNfS+T2coRx93/OqVIwaPFRfO52M/XD/o\n",
              "TsZQZ6QczRqH++sRmaqGVHOSTqcBqK2tPaStt7q6ml27dnHVVVeN5jpFZAoaTovwUItd0wmXu65Z\n",
              "yooL5h/18LajXeNwnisylQ2p5uTGG28E4Itf/OKgz/mbv/mbkVmRiMgwlHYjPD8YcrFrQzrBLZcu\n",
              "4qZLTjnsToZ2OkTGxpDCyZe+9KXDfvwLX/gC99xzz4gsSERkKPoXviZjNt2eT9yxqRygoHWgYtdS\n",
              "R82R3lt34YgcX0MKJ5lMBoBdu3bxf//v/+U973kPlmXx85//nHe9612jukARkd7yxYDt+7v5/M82\n",
              "83prV7nwNesF5AoBHUGRdMIhGT/47a3Utrv8jLlH3AEZqKi2NEF27dYD3HUURz8iMjxDCif/+I//\n",
              "CMBll13Ghg0bOOGEE4BoR2XVqlWjtjgRkZLeuxl7OnJ0ewF1FTGqUi6ubVOZgFTcZtv+LLvac0yr\n",
              "TAy7bTdfDPjuU6+xpTnDjCrdhSMyVoY152T37t3lYAIwe/Zs3njjjRFflIhISbRTkuXzj23i9X1d\n",
              "JBybXDEADO25IrliwLz6ClzbJhlzaUgnKPghFQkHrxgd5Sw/Y+5hj2RKweeXL+1l2/5ujAHHtqhP\n",
              "x3F7bl4f6gRZETl2wwonc+fO5Ytf/CI33HADAN///vePW/uwiEwth+yUFHzqUnEq4g4WFo4dXQTo\n",
              "+SH7u6KbiiEaFx9zbO5ddR6JmHPYYtb+wSdm29FdPhgOdBfo9vxy8IG+RbUKJyKjZ1jh5N577+W/\n",
              "//f/zpIlSwC49NJLue+++0ZjXSIyhfWu+4i7PTslBtpyRbIFH8uC0Bgsy8ayDB25ItOrEtiWVS58\n",
              "re/Vstu/62aw4FOdcjmQLRAacHreq3fw0V04IsfHsP6EzZo1i0ceeaT8777v84tf/EIzTkRkxPSv\n",
              "+8CCfZkCjmNhA15gSDgWfhjdtWNZ0U3FoTGEoelT+LqrLct9v9/Gk6+2ki+GpGIOb1/UwAs72tm+\n",
              "v/uQ4JMrBqTjDu15H8cCy6IcfPq/t4iMnqOK/6+88grf//73eeCBB5gzZ47CiYgcs8HqPuoq4wd3\n",
              "Smwb2zL4oSkXu2IMtm3RkStS8EMWzqjiijNn85VfbObBdTvx/ADbsqhKuhSDkAfX7qAQhJxUX4Hr\n",
              "2n2CT96PAkzStcn70UV9xkRHPMUg1F04IsfJkMNJNpvl4Ycf5l//9V/ZunUruVyONWvW8KY3vWk0\n",
              "1yciU0DvY5yB6j6qki7t2WK0U0J0hcacmiRt2SJtuQIVMYeqZIwrzpjFWxfV8z9/8iKv7u2kEBgc\n",
              "O3p+Ju/j+SF+GBIaQ0feZ3pV4pDgk/F8FtRX0JYtcqC7gGVBVdLlzxfP1pwTkeNkSOHkwx/+MP/2\n",
              "b//G29/+dj796U9zxRVXsHDhQgUTERkRjWu30dSSYXo6gW1bh9R9pOIH78AxPTsl3YUALDh33jS+\n",
              "/N7F5AsBX/n3P3Dn/9tC0HNjmAXYloVtWRhjyq+3LKt8XFOTinGgu1AOPsZEr6mvjBOEIVefPZdb\n",
              "LztNRzkix9GQwsmPfvQjzj33XG688Ub+7M/+DMuyDrkAUESmjpEc6z7QnTjVSZcD2WK57iOT91nQ\n",
              "UMn+jEdbtkgq5lCVipVv9t2X8Vjx/XVk8j69bzI1REWsCdfuCSkGPwTLMhhjEYaG+nScbs/vE3w6\n",
              "ckUKQciimdWsfofahkWOtyGFkz179vDwww/zpS99idWrV3PttddSLBZHe20iMs6Mxlj3Ls8/5E6c\n",
              "hnSCbCHoU/fRmStGOyUL6vjyVYuZN62iHBo+0vg8mbxPzLEoBob+V60Xg5CE6/T8h5UhNODaYNvR\n",
              "rsq8+gpaOwcOPjrGETn+hnwr8fXXX8/vf/97nnjiCfL5PIVCgYsuuohvfetbo71GERll+WLAvi6P\n",
              "fDEY9OOv7M3w0Qdf4MF1O+j2fFzbKo91/9gP17Ovyzuqz51OuKRiDoWeIALRwLN50yqor4xjQbnu\n",
              "Y8UF8/mXD57NoplV5WDSkS2wYVcHthWFDYD++7phTw2LMQbXtnCsaEZKe7ZIt+fTmfPLwecnN1/E\n",
              "zz56MbdcukjBRGSMDLtb5/TTT+d//a//xde//nV+9rOf8YMf/ICPfOQjo7E2ERllR9oJGWweSFXS\n",
              "xXXsERnrnow5XL54Jg+u24EfhOWjHdu2qEm5+GHI+w5T99Gc8QhDg2Vb5eFsfth/7wT8wBAaQzLm\n",
              "8ObZ1Zwzr5Ynt+wjVwiGNEVWRI6fo54k5LouV199NVdfffVIrkdEjpMjXXB323vO4Is/3zzgILRc\n",
              "MWDetApcxx6Rse4rL1zAuq1t5W6dXE9NS2gMCTd6v8Gmss6siopogyAEG1zHimae9MsnpfdaccE8\n",
              "Vr/jFBrSCW4dwdoZERk5QzrWEZHJp3eHTF1lnMqES11lnOnpBE0tGb7ws5fKH69JxaJdCccmZlvk\n",
              "/ZD93YXye/Ue6340GtIJ7rpmKe9dOof2XJHOfFTTVp2MUZuK8egLb3DjA8/zRlv2kNfWVMRZMreG\n",
              "0EAYhlhYxF0b1z54uJN0LW5460n8+pNv57NXnl7eHUnGHBp6TZIVkfFB4URkChqoQyY0Bj8Mse3o\n",
              "L/f1OztI9OyM2JaFZR2cyGr3TE4NTbQ9UWr3TSfcI9avDKY0Ej4VszmloZLTZlUxuyZJYAyZfJH1\n",
              "O9p4z11P879/9eoh9S1fee+ZVCVdCoGh4Af4oelpDY7e9yc3XcRnrzydObUVx/6bJyKjThdEiExB\n",
              "vTtk/CBkX1eBznwUNmzLIhmzCUJzsP7DsgacBxKGhpBorPufL5zFt3/bNOxOngEnwzo2VQb2dubx\n",
              "/BDbojyb5IG121i79QB3XbO0/L6LZlbxk5sv4vOPbWL9znbC0OA4NueeWMuXr1rMoplVx+X3VURG\n",
              "hsKJyBRU6pBpzxbY2Vag2DO1LOqMMRSCEAx4xQBSMYBB54F4QcgJNUnWvL6fPe05UjH3kPqV3kGi\n",
              "t4EmwwahoTXj0Zo5uDsSQhRQbItpFfEBC3AXzazi4RsvpCNboDnjMbMqQU1FfFR/H0VkdOhYR2QK\n",
              "SsYc3rawgdYur08wgZ62WwOODR35In4Qtfi6ts28+gpqUzHAIuk6ZIsBXfkiL73RyaY3OmnPFsn7\n",
              "AQnX7lO/0rhme5/PXzr6uffpreW6luqUSxAeOqMEomFqgYFiEI20jzk2j2/eO+DRUU1FnEUzqxRM\n",
              "RCYw7ZyITFFBGPbpaOkfCuKujTEWLZk8yZh78KI9C04/oYpdB7K0ZfsOYwwM7OsqkC0EzO/p5und\n",
              "yZPJ++XW5GzBpznjkXBt/NCwqy03YDDp70C2SMKNLvMbrINHRCY27ZyITCJDLUbNFwOe2rIvGlxm\n",
              "9Rzn9PxwbQvXjnYp6ipiXH32XNJJFz80pJMu7106h+YOj7bc4J05uUJQ7uYpdfJs35/l4w+tLw9x\n",
              "sy2LIDR0ez6vtXZFrcpDYIhuD84Xg3IRrYhMLvqTLTIJDGWsfO/7cLo8n4Iflm/sdXrdlWVZFoEx\n",
              "BIGhIu5w62Wncetlp7G/ywML7v/9NlqPMA3WQPliPc8PSSddfr5hV/kIx3Vswp5prcXg0JkkIjK1\n",
              "KZyITHC72rJ84kcb2Lava8Bi1Nvecwa/fGl3n+By6ekziLs2SdcmWwx7Ltg7GFDCMAQsLl8865Cj\n",
              "mL2d+SEdv4TGUCgGeH7Ae998Ar/6QwtJ18G2rahl2bKoSrrs6yoc+c0GkHBtHeuITFIKJyITVGsm\n",
              "Kij94TM76MgViTk2jm1TlXSpTLj4QcirzRk+dO+zeH7QZwrsj57dSSJm49hWuZbEtqIW4dAYghDm\n",
              "1CX5b2+Z02eKrGNbhOGR1wZRUe2BbIFFM6t5z5I5/HT9brIFn9YuD2Oi+3JS8aMLFjZQ0TNXRUQm\n",
              "H/3JFpmAntt2gJsbn2dfV6G8i1EMoqmt3Z5fHi1fDEI6cgVOnZ4m3jMGvnQfTnPGozIRwy74OJZF\n",
              "3g8IjAEMc2pTfOeDZ/OjZ7fzyt5OZlQliLtOdBTjWAT+kfdOqlMuK5ctYMWF88kXAw50F/D8AMe2\n",
              "sKwoBHXkhne7uU0Uakq7Oto1EZmcFE5EJpCX93Tytz/ewKbdmUM+FhqwjCmPlp9elegpjLWwrb73\n",
              "9LqOTSrmkIrZvHfJPH71cgtZzyfu2lx8aj3dXsDK768rF7125n3qKmJMr0pQ3XMUc7h44thw1VtO\n",
              "KNe83PGrV4BoZ8axonBirOgyvhKbaJ7JYErBJDTRrs6qi08a6m+biEwwCiciE8TLezp533d+T5c3\n",
              "eFeLIRox35ErUlcZIwzBtqMbfvtLuDaFwLDqrSfxsXctZPv+LA89s40fPbOLvN83JgShYX9Pi/Cc\n",
              "2iTdhYBsYfB1JBybxzbs5g97u/in5WfxxKZmalNxOvNF8uUjpL7tywZw7Sh89C6QdUpLt6JXzKlJ\n",
              "8YNV5+n2YJFJTOFEZIL4ws82HTaYlER/uZvy8LSk6xyycwKUu2jSCZdM3ueLP9/MizvbDgkmQDlI\n",
              "5IsBHTmf+dMq2H4gS64QHLKDYlvgBQZDwKt7O7nv99vIFnziMZu5qRRt2WL5Xp7SqhwbalNxMp6P\n",
              "bQCi46O4YzO9Okm+EI3av+KMWax660kKJiKTnMKJyATQkS2wfmf7kJ9vDLRni8yuTZD1AvwgLN+T\n",
              "A1HNiecHLD9jLsmYw7d/28SW5k6CXlsW0UV/Pe9HFFBCE7UIp+IO+eKhwYSe52AMudDgh4YfP7+L\n",
              "Ls8nDMF1ojt6FjRUYGOxr8tjf3cBx7aZWZNkJj339RjD/u4CKy6Yz02XnFJugVaNicjUoCFsIuNQ\n",
              "/2FqzRmPcBjDQErFqD9YdT6LZlXT2uVxoKdY9kB3gdYuj1Omp/nzs2bTkS3wxKZm4o5TDiMDKX2o\n",
              "4Ids358d0mySYmBoyxaJ2dHeSxCGHOgusOtADiyorYjh2NEtx+3ZIrlCQGfeZ393gYUzqlhx4XyS\n",
              "MYeGdELBRGQK0c6JyDgy2DC19yyZjW1bBMGRE0HMtrj/Q+ezeE4tAHdds5TGNdt5fPNecoWAVMzm\n",
              "hJokzZ15rr/3WRKuTUvGoyYVo//pT+/dk5KjmZeWijlYlkXeD7GIwteuthwJ1+asubWcM6+WJ7fs\n",
              "I1cISCddlp8x94i3GYvI5KVwIjJO9L6ht/dMktIwtdNmVrFpd+dh38MCKhMOv/5DSzmcNKQT3HLp\n",
              "Im665BQ27Gjj1h9vYOuOLBAVyyZjDlnPJ++HVCVc9vfcl1OaRVLKK6bX5xhOQLGArkLAgvqKcr2J\n",
              "H0Y1L9ddOJ9VF0c1JLf2mmCrXRKRqU3HOiLjROPabeXx7nWVcSoTbp+bfS3r8JHAAk6dXkllInbI\n",
              "jb0d2QIv7mznfzy8gT3tHpZlcHraYHKFAMuCoh9igIrYwW8LxvR0APX8u90rrAyVa1sYA7ZlMbM6\n",
              "yakz0sytTTGzKlEOJoCOb0SkTDsnIuNAvhjwxKZmkq5TLlwNTVQYatsWcdfmleZuplfGyXhF8gMM\n",
              "QYs5FvGYQ2CiwNHl+Wzb180XfraJDbs6yuEDort0bMsCy8IYQzEE2zJ05ItMS8Up+AUGmrM23Dtw\n",
              "nJ7bBC3rYDuzbVnlSwQ14VVEBqLvDCJjpP9FfLli1C7r90x67cgVy0cryZhNEBoqEi4zapK8ureT\n",
              "IIzmgti2HQ0v62khLrUIv7K3k9X3P0+2EGBbfY9ivMCQIMS2bSzLwraiT5R0HTryxQGDyXDUV8Sw\n",
              "LIu2bIEwhLp0rNzO3L9TSESkP4UTkeNsoKLXS988g7hj0e0FNHfm8fwwqvfoGfPemffBgFcMqE7F\n",
              "qK2IcyBbxO4ZBW96LtILQ0N3wccYwwf/9Zny5xxo8mohMCR7TnAsLIIwpBiEFIZQdHs4DRUxqivi\n",
              "5IoBdq8jnW7Px/OjYFLqxBERGYjCichxNFjR64+e20nCtWnPFSj4ITHHLt8SbIjChWVDR75IXWWc\n",
              "hnSCbCHo6X4xGGNIJhyaMx6ZfJH2bN87awZqETZAEIaEBvye85pggAFsg7Gtvsc86YSNhUVNZZxi\n",
              "YKhOxfhvZ80GUCeOiAyLwonIcdS76LVUW1K6iG9vZ55iYKLQYAyWAYMhNNGxTmXPJNeWTJ5kzKUh\n",
              "neBAd4Fs0cd1bOrTcbxiQHsWYjYUh5AzjmWXxLEtXKA6GaM+HafLi8LHI6uXUQxNn64bdeKIyHAo\n",
              "nIgcJwMVvUJUJ4IFCdchQ5GqpEu+GJaPQ+oqYtRXxvF6dlSuPHNWeSdiZnWCuoo0LV0FisWAPR0e\n",
              "FvTsuhxj4chh1KUcZtVUYNtRYW3vOpKaivghz0/GHIUSERkyhRORUZLvt1vQu+gVOKTwtbRLknAc\n",
              "5tZVEIam/Jc/RDcDp5Mut152Grdedhrb92f5u5++xGv7uknGbGw7el9DdEwzWDw51thiW2BZNp15\n",
              "n4Rrq45EREacwonICNvVluW+32/lt6/sw/PD8pTX5efNJRVz6PZ8Em7IjgPZvoWvgcEY2N/tUZNy\n",
              "ScYP/vHs3+HSmvH4/GMvsX5HO7YF3Z5FVcItB4/QRG28A53a9H9oOGEl7tjc9cGl/OGNzvLEWdWR\n",
              "iMhIUzgRGSGtGY+7n3yNB9ftwPMDbMsinXAp+iGN67bz+9f3c96COh7fFA1I8/wQt9RtYwyBZVGX\n",
              "csl4Prvac0yrTAy4M9Ga8fjogy/w/I42ACzbJjSG9lzfItjQQNyxynUs0DeIlH8+hHRiAW+ZW8M/\n",
              "LH8Li2ZWcdnps3Qhn4iMGoUTkRFQ6sLZuLMdzw+iqahAxvMpBCFJ1+b5bW38YXcHQWjIF8OebhcL\n",
              "Y6KOmaRrM7M6SSJXpOCHVCQcvGJY3plYfu5cAO59+nWaWjLYVhRsnF7D1MKeka6lqa79g8llp8/g\n",
              "139swbItTGgIzMCdPBZQEXeIOxZzp1XwzQ8s4eTpVX2eozoSERktCiciI6Bx7Ta2NGfwwxDHtnB6\n",
              "6j/CMCRbCMj1DELz/JDaVIxcsUBowMb0KXp1HZtUzCHm2Ny76jwSMYd8MeDHz+3kQ/c+R7bg05zx\n",
              "SDhWz4aHoTRQ3rIsHDt6vNQe3Dt3pOI2a7e2ERqwAkPctTF+OOAMlKjN2LD8gnmsfscpOq4RkeNK\n",
              "4UTkKOWLAbvbs7Rni/z7S3t7Cl2tPjf79q75sC0LC4tplXE6ckWKgaEmGWNmTbJc9AqUJ7zWpxNk\n",
              "8j5/++ON5bkojhPdTJwNoqFrgTE4linPRIGB24NtC7KFkNI4tqguxTBQU49rw4l1FXTmi1TEXQUT\n",
              "ETnuFE5Ehqk14/HVX/6Bf9+4p08QiPe0B5uemfMGQ9BrSpnp2SVxHZvaijj7ujwyns/MXu/dv/D1\n",
              "279t6jMXJTQG17EIQtNT9GpRDA22Fe2S+IPMLek9LK2URwYKMRZwUn0lybhLITA8vnkvN11yio5v\n",
              "ROS4UjgRGYbHN+7h4z96gYEGqRaCEIueyakD3CAcGpiWiu6YqU/H6cwVKQQh+7sKVMSdQwpfB5qL\n",
              "YlsWNakYB7oL5cv0KmM2HTl/yB03huim4OhiwegxC0jFHebUJMtdQgnXLl8gqHAiIseTwonIEK1p\n",
              "2sfNP3zhsM+JprsOPAY+FXOor4wGlLm2TV1lnIIfUpVy+xS+llpy93V5feailNSn43T3zEwJ/Oii\n",
              "v+EyxjA9nWB/t0ddKk5DdQLX7vt5SsdLujlYRI43fdcROYLSMLX/8fD6Ib+mfylHTcpldk2qvAPi\n",
              "B9EleyuXzR+0JTedcMtzUSp7lX24ts30qgTb92ePephaaKAjVyQVdwl6Onx6083BIjKWFE5EBtH7\n",
              "9uAur8jeTGHIr406dixSMZvOnE8hMINOVB2sJTcZc7h88UweXLcDPwhxHRs/CGnt8tjXNfS1DCRm\n",
              "R8dQFXGHU2dU8fq+LhKuo4mvIjIuKJyIDKA06KypJUMq5gzYbns4JzVUEHcdbMuiNeNRDEIqEw75\n",
              "AY5vDmflhQtYt7WNppYMMdumLVsgfxTHOP1ZlgUm6vK54/1v4cfP7dLEVxEZNxRORPrZ1Zbl4z98\n",
              "gY27OrBti+5CQDox9KONirhDMub2+Xc/tLnnb84j4TrEbKt8a++RNKQT3HXNUu59eisPrttBITj2\n",
              "YAJQDA1xxyYZc0jEHG65dJEmvorIuKFwItIjGj/fxIPrdpAr9oSA0GAsaM/6Q3oP24I5Nck+j5UK\n",
              "S42BB9ZEx0S5YlC+c2ewHYp8MWD7/iw/37CLX/2xhUy+GN04zPAv7uv9GseC+nQiGq/fq+BVE19F\n",
              "ZLxQOBHh4Pj5F3e29el+CXqmuA404r0/G5g/rWLAC/v+fOGsPsPU4q5Nt+fTuG47a7ce4K5rlpYD\n",
              "SqnW5Rcb97CrLYcfRpcHmp6LcMwwoknShWIQHeMYovbgE+tS0XFTl8cVZ8xSIBGRcUfhRITS+PnO\n",
              "aKS8bWF6DSgLj5AFUi587X1v4UfP7KKpJUMhMIcUloLpM0wNoDIRhZemlgyNa7Zzy6WLeL0lwyce\n",
              "3hCFksDgByGWZZErRvfvOLbBYeDbhns7a041b5lby5rX97OzJ+BUxFymVcbp8gIVvIrIuKZwIlNe\n",
              "adhZ3HEwJsDGAju6m8bq91wLsCyoq4hRnYyRK/jUVCa4/IzZvPXU6TSu2X5IYenyc+fyoXuf6zNM\n",
              "rcR1bBKuw2Mb3uD//nEvL+3O9Pm4bUHMscCAZwxBCHHXJvTD8q06vXPKjKoE3/ng2Zy9YFr517bj\n",
              "QJafr3+DX73cooJXEZkQFE5kyuvqGWiWiNlYFuUR8b0nqJYYIOXazKhK4jp2tKvRM0W1IZ0YsLB0\n",
              "sGFqJaExbNufG+RjUc1KwrVxLAvfHDp0zSI6rrnmghP5yDsX9gkcyZjDoplV/O3lb+Jj71qoglcR\n",
              "mRAUTmTK6z3srDrpciBbxDHRDoUfGPxeCaUi7jB/WkV5B2SgKar9C0sHG6YWGkPBD9nbkT/s+oyJ\n",
              "7swp3dPTf7dkZnWSf73uXBbPqTns+6jgVUQmioH/U05kCikNO8v7AbWpGEnXphhGYcDuda6Titl9\n",
              "gkmp2PWKM2YBsK/LI18MDvv+fhDiByHNnXmaWrpoaukaUnmrH5ryMU7ciQa8NVTGWTQzjR+G/PoP\n",
              "zcf+GyEiMk5o50SEvsPOqpIxYj0j6wNjSMWiW4S9YnDIlNf59ZV0F4r8xV1PH7Y9uPT+rzZn6MoX\n",
              "y7sgw24JtsA3kHSjEfalmhXdHiwik4l2TkQ4OOxsxQXzqamIUZ2KcdL0Sm5460n8+pPv4P98/K1c\n",
              "e+EC0kkXPzSkky7vXToHgJ+u30235+PaVrk9+GM/XM++Lq/P+//T8rNYUJ+KdmRsC9ex++zMDIVr\n",
              "W9RXxpnXawen9+3BIiKTwajunFx22WXs3bsX27apqqrin//5n1m6dCkLFiwgkUiQSqUA+MxnPsP7\n",
              "3//+0VyKyBENVtBa0v9j3/5tE9v3dx+xPbg143Hv06/z+Oa97NifBaAmGaOuMsaOAzkKPZ03h5N0\n",
              "baqTMaZXR8PTetPtwSIy2Yzqd7NHHnmE2tpaAH7605+yatUqXnzxRQAefvhhlixZMpqfXuSoHK5w\n",
              "tPSxUvvx4dqDH9+8lz950wxufvB59nbmAYsgjOpGDmQL5IoB6bhDexAedm7JmXOqWXbyNH66fjdh\n",
              "aLCdg+FEtweLyGQ0quGkFEwAOjo6osvGhsnzPDzP6/NYEBxadChyPJXajwdrD4450NZd4Ib7n6M1\n",
              "4+HYFrYFAVGdiWUo16iUwk7/gGJb8Jdnz+HTV7wZgJfeyNDUktHtwSIy6Y36PvC1117Lb37zGwB+\n",
              "+ctf9nncGMP555/P17/+daZPnz7g67/2ta9x22239Xls2bJlo7dgkSEYrD04Xwx4oz1HttA3QEfh\n",
              "xMI1IX5oCIkKvjKez4L6CvZ3FWjLFaiIu9RVxnjnwhmsvuRk5tRWlN/jrmuWDjjkTcPURGSysYwZ\n",
              "yq0hx+6+++7j4Ycf5pe//CU7duxg3rx5FItFPve5z/HSSy/1CS69DbRz8vnPf55vfvObx2PZIoO6\n",
              "41ev8OC6HeWak3wx4LXWrkHH3SfcaMhbwQ/Lz3EsmF6VxA9DTmlI8+X3LmbetIrDHtHkezqJNExN\n",
              "RCar4xZOAFKpFLt27aK+vr782J49e1i0aBGZTOYwr+zr1ltv5fbbbx+NJYoM2b4uj4/9cH35qGVf\n",
              "l1ee3moDYb/n2xYkXAeDoehHdSauDSdNT3Pl4tnaARER6TFqxzrt7e1ks1lOOOEEAB577DHq6+tJ\n",
              "JpO0t7eX61Eeeughli5dOlrLEBk1pfbjxjXb+feX9pSDiWtbOBYUgr73B4cGDAYLC8uycCzDtRfO\n",
              "5/+7/M3aARER6WXUwklHRwfLly8nl8th2zbTp0/nF7/4Bc3NzVx99dUEQYAxhpNPPpn7779/tJYh\n",
              "MqpK7cd/evpM/uKu/wILYj3dO3Z4aJFrEBqMCQlCmFOb4iPvXKhgIiLSz6iFk/nz5/PMM88M+LH1\n",
              "69eP1qcVGRMn1qVwHJsgOHiYE3NsTBD2qUEJw2gI/Zy6JD9YdZ6OcUREBqCpTSIjoKYizpK5NTy7\n",
              "rY0gDLHt6Ogm7tgUe+aYJFybE+tSXL54FqsuPknBRERkEAonIiOgNeOxaGaa57a3UQgMBAab6C6c\n",
              "0EBVwuFfV53HW+bW6hhHROQIFE5EjlFrxuPjD0VdOw2VCTryRTw/JCQatrZ0Xi1fv/osFs2sGuul\n",
              "iohMCAonIseoce02mloy5XknM2uiuSX5QkBHrsDbF05XMBERGQbdSizSS74YsK/LI18c2hUJg92x\n",
              "49o26WSMVDzG45v3Dvn9REREOyciAD03B2/lPzbvxfNDKuIuVyyedcTBaEe6Yyfh2uQK0URX1ZqI\n",
              "iAyNwolMeS/v6eT6+59lb3t0TYJtR7cP3792O2u3HuCua5YOGlAGu2OnxPND0kmXdEJ/1EREhkrH\n",
              "OjKltWY8rr/vWXa35bEsg+NEN2fnCgH5gs+rzRka12wf9PXJmMPli2eS9wP8oO/Aej+Ibg2+4oxZ\n",
              "2jURERkGhROZ0u59+nX2duZxbIuY4+BYFq5t49oWhcBQDMIj1oysvHABp86oorXL40B3gW7P50B3\n",
              "gdYuj4Uzqlhx4fzj+CsSEZn4FE5kysoXA57Y3AxY2JbV52OWZWFZ0XOynk+X5w/6PqU7dlZcMJ90\n",
              "0sUPDemky4oL5nPnYY6ERERkYDoIlymry/Mp+CG2FV3IB1FAKV3XZ2ERhIaEax+xZqR0x85Nl5xC\n",
              "l+eTTrg6yhEROUoKJzJlpRMuFXGXpGuTLYaEYTRmPui5DKcUV96+aPqQg0Yy5iiUiIgcIx3ryJRV\n",
              "KmaNOTZxx8ILDH4Y7ZuU7uqzLHhxVwf7uryxXKqIyJSicCKT0lCHqa28cAGLZlUP+LGYbTF/WgXb\n",
              "93cftmNHRERGlo51ZNzLF4Mh13Hsasty3++38eSrreSLIamYc9hhag3pBP+0/Czec9fTFIMiFtFu\n",
              "SU0qRkPPOPpCYHh8815uuuQUHdmIiBwHCicybrVmPBrXbuOJTc3kisFhg0ZrxuPuJ5t4cN1OPD/A\n",
              "tiyqki7FIKRx3eGHqSViDpUJl6pkNFDNtvt272jKq4jI8aVjHRl38sWAV/Zm+OiDL/Dguh10ez6u\n",
              "bdHt+TSu287HfrieN9qy5WOb0q3AD67bgecHOHbUBpzJ+3TmitRVxGhqGXyYWmnKqx8YXMc+pK3Y\n",
              "80NScUdTXkVEjhN9t5Vxo3S/zeOb9tCS8cgWAqZVxKlKuriOTWUC8kWfjbvaec9dT1PZEypqK1xe\n",
              "bc4QGnDsaIgagDEGzw/pyPkkXGfQo5lSYeyD63bgB2GfC/xKU16XnzFXuyYiIseJwomMCy/v6WTV\n",
              "vc+wt6NvV8z+7gLZgs/8+koAdrfnyRcDCn5IVdIl4xVpaunCsS2MMVi9dj2iQWqGjlyRE2qShz2a\n",
              "WXnhAtZtbaOpJUPCdUi4Np4fBRNNeRUROb50rCNjrjXjseqeQ4MJRC292WJIa8Zjf3cBzw9xe2pC\n",
              "UjGHmlQM2wI/DAmNKQ9QMz3/Z2FhDOSPcDSjKa8iIuOHdk5kzEX32xwMJpYFxvR9Tlu2UK4lMYBt\n",
              "gW1HuyS2bREGBiwIAkMYBvTMUSs/1ysGXHHuiYc9mtGUVxGR8UHhRMZER7ZAc8ajNuXyy017y4/3\n",
              "q0UtCwxYocGyLUIDdRWxcuFqTSrG/i4PC4sQUw4mJaEBPzT8+Vmzh7Q2TXkVERlbCidyXG3c1c4X\n",
              "f7aJzbszhMZEYaT/NgnR2Pj+j4Ym+kcq5lBfGe95zFCTitGeLVAMTHmnpBRQLKIgA/DLjXtYdGnV\n",
              "KP3KRERkpCicyHHRmvG441ev8qNnd5SDQ6ngKez1vAFySvRcC2pTMXLFgBNqkgA0d+bpyBUJQ0Ng\n",
              "DFGTTWlGiaE6GaM+HSfuOhzoLmiQmojIBKFwIqNuV1uWT/xoAxt2tPXZ0QiJQschWyT9WBZ88IJ5\n",
              "3HTJKXzykY282pyhK18sX9AH4No2xSAk7sC8+hRx19EgNRGRCUrdOjJqot2SV/iLu57mhe1tBL2C\n",
              "CVZPQDlCMAGYkU7wiT9dxJzaCu66ZikLZ1QSGINtW7iOTX06wUkNFcRdm2Jo6Mj5GqQmIjKB6Tu1\n",
              "jIrS1NYtzRk6csU+HTgGsMwRN0ywgIq4QzrplkNFOuHSnvWZVZWkOhXrM2q+Oumyv7tAe7bA9KpE\n",
              "+XENUhMRmVi0cyKjonHtNppaMkyrjLpqHLvvTsYQNkwwQH06RjEwdHk+AF2eT64YkIg5h4yab0gn\n",
              "iDs2fmg40F2g2/M50F2gtcvTIDURkQlEOycy4vLFgCc2NZN0HeKuE+2ahEd+HRxsJS7tsuzvLjK3\n",
              "rqLPzkkq5tDt+VT2m4vmOja1FXGKQTQ9Nl8MSSddlp8xd9BbiUVEZPxROJFjli8G7O/ywIL6ykR5\n",
              "dyPu2uXbgfd1FY7qvXNewKVvnlE+jjnSPTh+GLJy2XwNUhMRmcAUTuSotWY8vvWbLTy2YXf52KU6\n",
              "GeMv3jKbuGORLQa4joUfDOUQJ9K/ldgAHdki+7q88s7HUO7B0SA1EZGJS+FEjsrGXe18+L7naM70\n",
              "HTvfli1w/9odxGzI+UMPJYOxLfjlpj1sae3mrp47bkr34DSu2c7jm/eSKwQ6vhERmUQUTmRYWjMe\n",
              "dz/5Gvc8vZX+GyKmpwMnNAZ/iDUmA3Gs6EeARX1lnPrKOE0tGRrXbOeWSxcBugdHRGQyU7eODNmu\n",
              "tiw3NT5P49rthwSTkVK60C/AIuna1FfGcR2bhOvw+Oa95ItBn+cnYw4N6YSCiYjIJKKdEzmi1oxH\n",
              "49ptPLBmO+254pAGpx0NxwLLiuaW1FXEysEENOFVRGQqUTiRwzo4TK2TzryPNeCVfMdudk2CirhL\n",
              "1guYlo4POOG19zA2ERGZvHSsI4dVHqZWEe8ZptYzfn4EWcDVS+fy7rNmUwxDwn5bM6UJr1ecMUu7\n",
              "JiIiU4D+M1QOkS9Gxycx2zo4TC0WDVMLTE9NyDGe7TjWwQLaObUpVr31JIAjtgiLiMjkp3AiZbva\n",
              "stz3+6389pV9eH5IzLHYl/GorYwThgbHAm8I7cE20Y3Dg3F6bv6zLDihNskPVp1Xbv9Vi7CIiCic\n",
              "SLk9+MF1O/D8ANuyotZc16arEE17dZ1oF+NwFSc1SYdZNSlsy6K5M09btlh+rm3BjKoEiZhDGBoS\n",
              "rs3li2ex6uKT+oQOtQiLiIjCyRRXKnjduLMdzw9wbQsDZDyfYmBTnXRpy/oUgoCEa+MH4SFtxG+e\n",
              "VUUy5rCzLUuXFz0vFXexLDixroJP/tlpnDWnhpqKePnI6EihQxNeRUSmLoWTKa5x7Ta2NGfwwxDH\n",
              "tnDsqEY6NCF5PyThHvx/EW+QyWrb9mf58U3L+PUfWvoex5xz6HGMQoeIiByJwskUlS8G7O/2eHzT\n",
              "XuKuTakGxBiDHxqC0GCAA9nigK93LIg5NqExeH7Azzfs5rNXnq7jGBEROWYKJ1NMaaDaE5ua6fJ8\n",
              "WjJ5KnuOYILQ4BtDaI7cLmx6/a9tWfzm1VZuvSzQzoiIiBwzhZMppFRf0tSSIek6xBwLY6AjX8SC\n",
              "PpNfByt6tXoqYkMDxSAEy6Iq4eIVQ01vFRGREaFwMoWUBqpNTyfKY+FrUkX2dxcPO/O1d4eO6fXE\n",
              "wEBFzCYZc0jFHU1vFRGREaEJsVNEvhiUB6rZtoUfhoTG9IyjP7yEa/fMJomUfmpbMLMqgR+Gmt4q\n",
              "IiIjRv+pO0V0eT5dnk+24NPa5WFMdETjhwbXioamlY51LKLgUW4ZtsCyLazARB+zo+falkVnvsii\n",
              "mdWa3ioiIiNG4WSKyBcDDnQX8PwAx7awLIvQRF05FuDY0eGNMRB3LGzbpuCHBMYQhtHj9T0X8rVn\n",
              "C4TGUJOKsXLZfE1vFRGREaVwMkkcabjZj5/bCUTHOI4VhRNjgR9ELcOBMdRXxMkVA/J+iB2GYEWX\n",
              "3xQDQ8y1qYy7+KGhKhVjQX0l//yBJcypqzjuv1YREZncFE4muN6twbliQCrmcMXiWX12M0r1JrWp\n",
              "OJ35YhQ+rCioWD0X8NFrZ2R/d4GOXJEgNEyriLFwZhX7ujyKgdFdNyIiMuoUTiaw/q3Bcdem2/Np\n",
              "XLedtVsPcNc1S2lIJ+jyovtxUnGH2opYOXwYEw1S84OQ0EBHzqci7hBzbNIJh5MaavjmXy9hTm3F\n",
              "kMfOi4iIHCuFkwkqXwz47lNNbGnuZEZVstwaXJkAPwhpasnQuGY7t1y6iHTCJRVz6PZ8KhMuM6uT\n",
              "TK9KEIYG27Y40F2g4IdUpaJ5JQONntdwNREROV4UTiaQfDFg+/5ufr5hN7/6YzNb93VjDDh2gfrK\n",
              "eDmguI5NwnV4fPNebrrkFJIxh8sXz+TBdTvwgxDXsbEtC9ux8IOQYhCyctl8jZ4XEZFxQeFkAijV\n",
              "lfzixT3sas/hB4ZUPLrXBqIakW7PZ960inJASbg2uUJQntq68sIFrNvaRlNLhoTrkHBtPD/E8wMW\n",
              "zqhixYXztTsiIiLjgsLJONe7rsQrBvhBiGVBrhjVibg2OJZF3g/Z311gZnUSiG4QTifd8tTWhnSC\n",
              "u65ZSuOa7X1vDlZxq4iIjDMKJ+NcaeR8fWWcbfuz2LaFa9sYY/CCaE6J41jYFnTkiuVaEs8PWH7G\n",
              "3D47IQ3pBLdcukjHNyIiMq4pnIxjfUbOW9ElfaVx85YVzSsJjKEYRr3AxsD+rgJ+GJaPagai4xsR\n",
              "ERnPFE7GmXwxYH+3F920Z0GuGBB3bWw7mklSqjMBoscM1KRitGeLWBZUpVyuXDxbRzUiIjJhKZyM\n",
              "E60Zj7ufbOLfXniDjOcDUJWMYYwh6TpUJlyqky4HskWMMdGEV2OwLYv6yjgGuHrpHG697DTtioiI\n",
              "yISmcDIOtGY8bnzgeTbuao9uCraie27aswUAMpZPOuHQkE6QLUTj5S1MFFwSDvu7CyyaUcXqd5yi\n",
              "YCIiIhOewsk40Lh2G3/c09Fz6Z7dE07AGEMhCAmNYVd7jmmVCRrSCQ50F8gWfVzHZmZVgnefdYKO\n",
              "cUREZNJQOBlj+WLAL1/aSzEw2DblYAI9Ra92VAhbEXepSDh4xZAT6lJc+qYZvGfpHOZNq9BuiYiI\n",
              "TCoKJ2Osy/PJFgLgYCdOb6XakmTM4d5V55GIOWoBFhGRSU3hZIylEy4V8ShoGA524pQYYwCoTDjU\n",
              "pxMKJSIiMunZo/nml112GWeddRZLlizhbW97G+vXrwdgy5YtXHTRRSxatIjzzjuPzZs3j+YyxrVk\n",
              "zOHPz5xFzLEIw4NhBKKfh6Eh7tr8+eLZCiYiIjIljGo4eeSRR9i4cSMbNmzg1ltvZdWqVQDceOON\n",
              "rF69mldffZVPfepT5cenqpUXLuD0E2qwLCgEYc+PgEIQYtsWb55dPehANRERkclmVMNJbW1t+ecd\n",
              "HR1YlkVLSwvPPfccK1asAODqq69m586dNDU1DfgenufR2dnZ50cQBKO57BGRLwbs6/LIF4+81oZ0\n",
              "grtXnsOHLl5AXUUc2wLbsqiriPM3Fy3g7pXnqBNHRESmjFGvObn22mv5zW9+A8Avf/lLdu7cyezZ\n",
              "s3Hd6FNblsW8efPYsWMHp5566iGv/9rXvsZtt93W57Fly5aN9rKP2q62LPf9fhtPvtpKvhiSijlc\n",
              "sXjWEVt9G9IJPnvl6dx62WnlCbGqMRERkaloVHdOAO6//3527tzJV77yFT71qU8N+/Wf+cxn6Ojo\n",
              "6PPj/PPPH4WVHpvWjMdXfrGZS29/iu//11Zeb+0mky/SmS/SuG47H/vhevZ1eUd8n2TMYU5tBXPq\n",
              "1CIsIiJT06iHk5LrrruO3/zmN8ydO5c9e/bg+9GIdmMMO3bsYN68eQO+LpFIUF1d3eeH44yvv7Rb\n",
              "Mx4ff2g9D67bgecHOD334GTyPp25InUVMZpaMjSu2T7WSxURERn3Ri2ctLe3s3v37vK/P/bYY9TX\n",
              "1zNjxgzOPvtsGhsbAXj00UeZO3fugEc6E0Xj2m1sae4kNODYFq5t9/yw8PyQjpxPwnV4fPPeIdWg\n",
              "iIiITGWjVnPS0dHB8uXLyeVy2LbN9OnT+cUvfoFlWdx9992sWrWKr371q1RXV3PPPfeM1jJGXb4Y\n",
              "8MSmZuKOgzFBn0FqlmVhWYaOXJETapLkCgFdnq/jGhERkcMYtXAyf/58nnnmmQE/dtppp7FmzZrR\n",
              "+tTHVZfnkysGJGI2lgWh6TtILZrwCnk/pDoVI53Q3DsREZHDOW41J5NVOuGSijn4gaE66RKaQwep\n",
              "QXSB3xVnzNKuiYiIyBEonByjZMzh8sUzyfsBtakYSdemGBr8MCQIQ4LQ4Do2i2ZUaZCaiIjIECic\n",
              "jICVFy7g1BlVtOWKVCVjVCVcjAE/NCRchxUXzOPOa5ZqkJqIiMgQqABiBDSkE9x1zVIa12zn8c17\n",
              "iRdsplcneOei6Vx38QLm1FaM9RJFREQmDIWTEdKQTnDLpYu46ZJT6PJ80glX9SUiIiJHQeGkl3wx\n",
              "OOZgkYw5CiUiIiLHQOGEaMJr49ptPLGpmVwxGPJ9OCIiIjLypnxBbO/R892ej2tbdHv+sO7DERER\n",
              "kZEz5cNJ49ptNLVkmJ5OUFcZpzLhUlcZZ3o6oftwRERExsCUDiel0fNJ18F1+v5WuI6t+3BERETG\n",
              "wJQOJ6XR83F34N+GhGuX78MRERGR42NKh5PS6PmCHw74cc8PScUd3YcjIiJyHE3pcNJ79Lwf9A0o\n",
              "fhDi+YHuwxERETnOpvyWwMoLF7BuaxtNLRkSrkPCtfH8KJgs1H04IiIix92U3jmBg6PnV1wwn3TS\n",
              "xQ8N6aTLigvm6z4cERGRMTDld05Ao+dFRETGE4WTXjR6XkREZOxN+WMdERERGV8UTkRERGRcUTgR\n",
              "ERGRcUXhRERERMYVhRMREREZVxROREREZFxROBEREZFxReFERERExhWFExERERlXFE5ERERkXLGM\n",
              "MWasFzFcf/mXf8mCBQvGehlyBEEQ8Mwzz3D++efjOLoWYLzT12ti0ddrYtHXKzJ//nw+8YlPHPF5\n",
              "EzKcyMTQ2dlJTU0NHR0dVFdXj/Vy5Aj09ZpY9PWaWPT1Gh4d64iIiMi4onAiIiIi44rCiYiIiIwr\n",
              "CicyahKJBF/84hdJJBJjvRQZAn29JhZ9vSYWfb2GRwWxIiIiMq5o50RERETGFYUTERERGVcUTkRE\n",
              "RGRcUTiREXPZZZdx1llnsWTJEt72trexfv16ABYsWMBpp53GkiVLWLJkCQ8//PAYr1R6u+eee7As\n",
              "i8ceewyAlpYWLr/8chYuXMjixYt56qmnxnaB0kf/r9cll1zCSSedVP7zdccdd4ztAgUY/Pveli1b\n",
              "uOiii1i0aBHnnXcemzdvHuOVjk/uWC9AJo9HHnmE2tpaAH7605+yatUqXnzxRQAefvhhlixZMnaL\n",
              "kwFt27aN733veyxbtqz82Kc//WmWLVvGE088wbPPPst73/tetm7dSiwWG8OVCgz89QK44447uOqq\n",
              "q8ZmUTKogb7v3XjjjaxevZpVq1bxk5/8hFWrVvHss8+OzQLHMe2cyIgpBROAjo4OLMsau8XIEYVh\n",
              "yA033MCdd97Zp73xkUce4aabbgLgvPPO44QTTuDJJ58cq2VKj8G+XjJxtLS08Nxzz7FixQoArr76\n",
              "anbu3ElTU9MYr2z8UTiREXXttddy4okn8vnPf54HHnigz+Nnnnkm119/Pa2trWO4Qim5/fbbufji\n",
              "iznnnHPKj+3fv59iscisWbPKjy1YsIAdO3aMxRKll4G+XiWf/vSnOfPMM3n/+9/P66+/Pgark4H0\n",
              "/763c+dOZs+ejetGhxaWZTFv3jz9+RqAwomMqPvvv5+dO3fyla98hU996lMAPPXUU2zcuJEXXniB\n",
              "hoYGrrvuujFepWzatIlHH32Uz33uc2O9FBmCw329HnjgAV5++WU2btzI2972Nt797nePwQqlP33f\n",
              "O0ZGZJQkk0mzb9++Po/t3r3bpNPpMVqRlHzrW98ys2bNMvPnzzfz5883iUTCTJ8+3XzrW98yFRUV\n",
              "Zs+ePeXnnnfeeeZXv/rVGK5WDvf16i+RSBzy507GVun7XnNzs6mqqjLFYtEYY0wYhmbmzJlmy5Yt\n",
              "Y7zC8Uc7JzIi2tvb2b17d/nfH3vsMerr60kmk7S3t5cff+ihh1i6dOkYrFB6u/nmm9mzZw/btm1j\n",
              "27ZtLFu2jO9+97vcfPPNLF++nO985zsAPPvss7zxxhu84x3vGOMVT22Dfb0+/OEP09zcXH7eo48+\n",
              "ysyZM6mvrx/D1Up3d/eA3/dmzJjB2WefTWNjIxB9vebOncupp546Risdv9StIyOio6OD5cuXk8vl\n",
              "sG2b6dOn84tf/ILm5mauvvpqgiDAGMPJJ5/M/fffP9bLlcP4xje+wcqVK1m4cCHxeJzGxkZ16oxT\n",
              "nudx5ZVX4nketm3T0NDAz3/+87Fe1pR3uO97d999N6tWreKrX/0q1dXV3HPPPWO82vFJd+uIiIjI\n",
              "uKJjHRERERlXFE5ERERkXFE4ERERkXFF4URERo3v+9x222286U1vYvHixSxZsoTVq1fz2GOP6ToD\n",
              "ERmUunVEZNRcf/31HDhwgDVr1lBXV4cxhp/85CccOHBgrJcmIuOYdk5EZFQ0NTXx4x//mHvuuYe6\n",
              "ujogGte9fPlyTj755D7PfeCBBzjrrLM466yzuPLKK3njjTcAWLt2Leeccw5Llixh8eLFfPvb3wYg\n",
              "k8nw4Q9/mPPPP5+zzjqL1atXUygUju8vUERGjcKJiIyKF154gYULF9LQ0HDY523atIn/+T//J48/\n",
              "/jgbN27koosu4oYbbgDga1/7Gn/7t3/Lhg0b2LRpEx/4wAcA+OQnP8nb3vY2nnnmGV588UXCMOSb\n",
              "3/zmqP+aROT40LGOiIyp3/zmN1x++eXMmTMHgI985CN86UtfIggC3vnOd/LlL3+ZLVu28Cd/8ie8\n",
              "9a1vBaIJxGvWrOH2228HIJfL4TjOmP0aRGRkKZyIyKg4++yz2bJlC/v37x/WOHXLsso/v+WWW/iL\n",
              "v/gLfv3rX/PZz36WxYsX861vfQtjDI8++iiLFi0ajaWLyBjTsY6IjIpTTz2Vq6++muuvv758z0gp\n",
              "VLz++uvl573zne/kiSeeKN/N9J3vfId3vetdOI7DK6+8wkknncSHP/xhPvvZz7J27VoArrrqKr7x\n",
              "jW/g+z4AbW1tNDU1Hd9foIiMGu2ciMio+cEPfsBXvvIVLrjgAlzXJQxD3v72t3PFFVeUn7N48WL+\n",
              "8R//kcsvvxyAE088ke9973sA3HXXXfy///f/iMfjOI7DP/3TPwFwxx138OlPf5olS5Zg2zau6/IP\n",
              "//APukBNZJLQ3ToiIiIyruhYR0RERMYVhRMREREZVxROREREZFxROBEREZFxReFERERExhWFExER\n",
              "ERlXFE5ERERkXFE4ERERkXFF4URERETGFYUTERERGVf+f1xp3ZSp1A7OAAAAAElFTkSuQmCC\n",
              "\">\n",
              "      </div>\n",
              "      <script type=\"text/javascript\">\n",
              "        (() => {\n",
              "          const chartElement = document.getElementById(\"chart-ffb3b1a2-e08b-48db-b29f-873dfb23f847\");\n",
              "          async function getCodeForChartHandler(event) {\n",
              "            const chartCodeResponse =  await google.colab.kernel.invokeFunction(\n",
              "                'getCodeForChart', [\"chart-ffb3b1a2-e08b-48db-b29f-873dfb23f847\"], {});\n",
              "            const responseJson = chartCodeResponse.data['application/json'];\n",
              "            await google.colab.notebook.addCell(responseJson.code, 'code');\n",
              "          }\n",
              "          chartElement.onclick = getCodeForChartHandler;\n",
              "        })();\n",
              "      </script>\n",
              "      <style>\n",
              "        .colab-quickchart-chart-with-code  {\n",
              "            display: block;\n",
              "            float: left;\n",
              "            border: 1px solid transparent;\n",
              "        }\n",
              "\n",
              "        .colab-quickchart-chart-with-code:hover {\n",
              "            cursor: pointer;\n",
              "            border: 1px solid #aaa;\n",
              "        }\n",
              "      </style>"
            ]
          },
          "metadata": {}
        },
        {
          "output_type": "display_data",
          "data": {
            "text/plain": [
              "<google.colab._quickchart_helpers.SectionTitle at 0x7ab4c1994700>"
            ],
            "text/html": [
              "<h4 class=\"colab-quickchart-section-title\">Values</h4>\n",
              "<style>\n",
              "  .colab-quickchart-section-title {\n",
              "      clear: both;\n",
              "  }\n",
              "</style>"
            ]
          },
          "metadata": {}
        },
        {
          "output_type": "display_data",
          "data": {
            "text/plain": [
              "from matplotlib import pyplot as plt\n",
              "_df_8['Open'].plot(kind='line', figsize=(8, 4), title='Open')\n",
              "plt.gca().spines[['top', 'right']].set_visible(False)"
            ],
            "text/html": [
              "      <div class=\"colab-quickchart-chart-with-code\" id=\"chart-e9200f8b-5be6-4690-a8a1-7badfac502d4\">\n",
              "        <img style=\"width: 180px;\" src=\"data:image/png;base64,iVBORw0KGgoAAAANSUhEUgAAApcAAAFrCAYAAACE1KJuAAAAOXRFWHRTb2Z0d2FyZQBNYXRwbG90\n",
              "bGliIHZlcnNpb24zLjcuMSwgaHR0cHM6Ly9tYXRwbG90bGliLm9yZy/bCgiHAAAACXBIWXMAAA9h\n",
              "AAAPYQGoP6dpAAB2EElEQVR4nO3dd3iUVfo38O+UzKT3TkhCCr2E3gQVpCy6giLqWgBfK/a2tt+6\n",
              "6q5tV1fX3bUXFAuCooiCBVF6b6ETIIT0nkzqTKY87x8zz5OZZCaTMslMJt/PdXGZqTlzTCb33Ofc\n",
              "95EJgiCAiIiIiMgF5O4eABERERF5DwaXREREROQyDC6JiIiIyGUYXBIRERGRyzC4JCIiIiKXYXBJ\n",
              "RERERC7D4JKIiIiIXIbBJRERERG5DINLIiIiInIZBpdERERE5DIMLomI2nDgwAFceeWVCA8Ph7+/\n",
              "P4YMGYIXX3wRer3e3UMjIvJIDC6JiBz47bffcNFFF2Ho0KE4ceIEqqur8e677+Ljjz/GggULYDKZ\n",
              "3D1EIiKPw+CSiMiBZcuWYeHChXj55ZcRGxsLlUqF6dOn47vvvsMvv/yC1atXY/PmzZDJZPj888+R\n",
              "kpKC0NBQXHXVVSgtLZWeR6vV4qmnnkJqairCwsIwffp0HDp0SLr92WefxUUXXYTnnnsOcXFxCA8P\n",
              "x5133gmDweCOl01E1CUMLomI7MjKykJWVhaWLl3a6rYhQ4ZgwoQJ+OGHH6TrVq5cif379+P8+fNo\n",
              "amrCTTfdJN121113Ye/evdiyZQvKyspw7bXXYs6cOaiurpbus2fPHgQEBODChQvYvXs3vvrqK3z6\n",
              "6afd+RKJiLoFg0siIjvKysoAAP369bN7e0JCgk128qWXXkJ4eDjCwsLw6quvYuPGjcjLy0NFRQU+\n",
              "+eQTvPnmm0hISIBSqcS9996LkJAQm+C0f//+ePTRR6FSqTBw4EDMnDkTe/fu7d4XSUTUDZTuHgAR\n",
              "kSeKiooCABQUFGDIkCGtbs/Pz8eAAQOky/a+zsvLg0KhAABMnDjR5vFNTU3Iz8+XLsfHx9vcHhAQ\n",
              "gNra2i6+CiKinsfgkojIjoEDByItLQ0rVqzAZZddZnPb6dOnsXfvXtx7773SdTk5ORg+fLj0NWDO\n",
              "bgqCAAA4cuQIEhMTe2bwRERuxGVxIiIH3nrrLaxevRpPPfUUSkpKoNfrsX37dsyfPx8zZ87Etdde\n",
              "K933qaeeQmVlJaqrq/HnP/8ZM2bMQGJiIpKSkrBgwQLcc889uHDhAgCgtrYWP/74I4qKitz10oiI\n",
              "ug2DSyIiB2bNmoVt27bh6NGjGDx4MIKDg3Hrrbfipptuwrp166QlbwC47rrrMG7cOCQlJUEul+Pz\n",
              "zz+Xbvviiy8wduxYzJo1C0FBQRg0aBDef/99KatJRORNZALf3YiIOm3z5s249NJLodfroVRypxER\n",
              "ETOXREREROQyDC6JiIiIyGW4LE5ERERELsPMJRERERG5DINLIiIiInIZBpdERERE5DIMLomIiIjI\n",
              "ZTwmuHzjjTfcPQQiIiIi6iKPCS7FY9GIiIiIqPfymOCSiIiIiHo/BpdERERE5DIMLomIiIjIZRhc\n",
              "EhEREZHLMLgkIiIiIpdhcElERERELsPgkoiIiIhchsElEREREbkMg0siIiIichkGl0RE1OeV1mrx\n",
              "5DdHcDRf4+6hEPV6DC6JiKjPe/Xn01i5Nw9//N92dw+FqNdjcElERH1eTkWDu4dA5DUYXBIRUZ8X\n",
              "H+IrfV1ep3PjSIh6PwaXRETU5+lNgvT18cIaN46EqPdjcElERH2epkEvfX280Laop0arb3l3ImoD\n",
              "g0siIurzqhubpK+tM5fbzpRh5LO/4L+bzrhjWEQAAL3R5O4hdAiDSyIi6vOqrTKXW0+X4Xx5PQDg\n",
              "tk/2AwD+tTHLLeMiOpJfjeHP/Iw7P90PTWPvyKIzuCQioj5PXBYP8/dBrc6A2z7ZhxqtHjpD78oY\n",
              "kffZfLoMOoMJPx8vwf0rD7l7OO3C4JKIiPo0vdGEWp0BALDqzsmIC/HFubJ63G7JWgKATOau0VFf\n",
              "d7a0Tvp6f06lG0fSfgwuiYioT7NeakyNCsT7i8fB10eOPeeb/5ALQu/b90be4YxVcFnfZIRWb3Tj\n",
              "aNqHwSUREfVp4n7LYF8lFHIZhvcLwauLRrW6X0VdU6vriLqT0SQgu6zO5rqKes//OWRwSUREfZrG\n",
              "Uike6q+SrrtiZDwenzsYIX4+0nWltdoeHxv1bQVVjdAZTFAp5YgKUgMAKnvBhxwGl0RE1KeJmctQ\n",
              "fx+b65ddkorDf52FEf1CAABltTy5h3rWmdJaAEBKZACiAs3BZUW95/8cKt09ACIiIncSg0vrLKVI\n",
              "JpNJGaNSBpfUw8RinrToQGlvcCWXxYmIiDxbdaOYuVTZvT3aElyW1erw4oaTmPrybyiobgQACIKA\n",
              "J785ivtWHoLR6ghJoq7SG0349lABAGBIXDDCA8w/nwwuiYiIPNi6zEL8/YcTAIBQO5lLAFaZSy3W\n",
              "HS5EQXUjVu7JBWCuNF+5NxffZxbicF51j4yZ+ob3t2XjVHEtwgNU+NOERCm4LPfGPZfJyckYNGgQ\n",
              "MjIykJGRgVWrVgEAzpw5gylTpmDgwIEYP348jh8/7vLBEhERudKL609KXwf72d8pJmYuC6u1KLEU\n",
              "9Xx7qAAmk4D8qkbpfnvOV3TjSKmv+XJvHgDgiT8MRniAChFS5tLzt2d0KnO5atUqHD58GIcPH8Z1\n",
              "110HALjzzjtxxx13ICsrC48//jiWLl3qynESERG5lFZvRHFNcwV4UkSA3fuJmcsj+RoIlpXvgupG\n",
              "7L9QJS2PA8CucwwuyTVKa7XIrWyATAbMHR4LAIiwFPSIy+JavRH3fnEQp4tr3TZOR1yyLF5aWor9\n",
              "+/fjpptuAgAsXLgQeXl5OHv2rCuenoiIyOXyqxqkr99fPA4LMvrZvV9MsC8AoLzONmP07aF8m8zl\n",
              "vpxK6Ay2Da6bDCbpaEmi9jp4oRoAMCgmCMG+5u0a4rJ4RX0T9EYT7vn8IH44UoTbVuzzuAb/nQou\n",
              "Fy9ejBEjRuDWW29FWVkZ8vLyEBcXB6XSvKQgk8mQmJiI3Nxcu4/X6XSoqamx+Wc0en7HeSIi8h45\n",
              "5ebgclh8MGYNjYFKaf9PYnpMkM1lsar8hyNFOF/e3OBaqzfhcG61zX0fXn0Y417YiJzyeheOnHoj\n",
              "QRDafbrOgQvm06HGJIVJ10VIey51eOzrI9h0qhRqpRz/WpQBH4VnldB0eDRbt27FkSNHcPDgQURG\n",
              "RmLJkiUd/qYvvfQSQkJCbP7t3bu3w89DRETUXlX1TfjxaJH0Bz6nwhzwJTtYDhcFqpVIivCXLs8Z\n",
              "FoP4EF/Uag1Ye6jQ5r6HrIp6Kup02HC0CHqjwGIfwhNrjmLc87/iXIsTd+w5cKEKADA2sTm4FDOX\n",
              "eZWN+PZQARRyGd66cQwmDAjvngF3QYeDy8TERACAj48PHnzwQWzbtg39+/dHUVERDAYDAHN0npub\n",
              "K923pSeffBIajcbm34QJE7rwMoiIiNr2r42nsezzg7jpgz2oqm+SgkvrwNGRIbHB0tf9w/wxf7R5\n",
              "Cb1OZ/67J/6Bz7QKIn89WQKxO1FJDU/36et+P12KOp0Bq/fntXk/rd6IYwU1AIBxydaZS7XN/f61\n",
              "aBRmDolx/UBdoEPBZX19Paqrq6XLK1euxOjRoxEdHY0xY8bgs88+AwCsWbMGCQkJSEtLs/s8arUa\n",
              "wcHBNv8UCkXnXwUREZETYkPq/ReqsPCdndK+NmeZS8DcZ1DUL8wPV4+23Z95+Yg4ALbB5U/HiqWv\n",
              "S2o8v8KXuk9jk1Fqwr/+SBEEwXFP1GMFGjQZTYgMVCExvPmDT7CfEsG+5u2Hz/xxKBaMtr9H2BN0\n",
              "6ISekpISLFy4EEajEYIgICUlBStWrAAAvPvuu1i6dClefPFFBAcHY/ny5d0yYCIios4o1pizh34+\n",
              "CmSXNe+BTI50HlwOjbcKLkP9kB4ThOH9gqUM09zhsXju++Mo1GhRWqOFr0qBHWebq8eZufQ+h3Kr\n",
              "cDivGkunJEMmk7V5X+visfyqRhzOq8ZoqyVva+KS+JjEMJvnlclkWH7LeGga9Zgx2DMzlqIOBZcp\n",
              "KSk4dOiQ3dsGDRqEXbt2uWRQREREriQIAoosweWKWyfg6bXHcMrSwqVdy+JxzUU98aF+AIAFGf1w\n",
              "rKAGIX4+iAn2RXp0EE6X1OJwXjUa9UY0WVXwMrj0LjqDEVe9tROA+efHXrBnMgnYnFWKMYlhuFDR\n",
              "YHPbD0eKnAaX1kviorFJnre/0h7PKi8iIiLqBppGPXQGc7A3MiEEq++ajAUZ8bhhYqLUJL0t/UL9\n",
              "cNmQaFyUFol+luDymrEJGNU/FDdMNNcXZPQPBQBk5lfj5+PmJfFJKeZgQGy+Tt5hw9Ei6Wsxe93S\n",
              "W5vP4v99vB9/++EEcivNwaW4rL3haBFMdo4LFQQBB3MtxTxJ9oPP3qBDmUsiIqLeSMxaRgSooFYq\n",
              "oFYq8O/rR7f78TKZDB8sGW9zXai/Ct/dM1W6PKp/KFbtz8Pu7EqcKDQHHEunJGN3diVKanQQBMHp\n",
              "8il5viaDCR9uPy9dPl1Si1qtHvetNK/szhhs/hDy6i9ZAIBvDhZIvSqvHpOArw/ko0ijxcHcKoxL\n",
              "ts1EXqhoQHldE1QKOYbFh/TQK3I9BpdEROT1xP2WsSG+3fY9RvU3BwPisma/UD9cMigagDkgqW7Q\n",
              "I8zSToZ6pxqtHneuOGCTrTxZWIPV+/Ox+XQZAEj/tbY1y3xdekwgZg2NwbeHCvDDkaJWwaX4szMi\n",
              "IQS+Pr230JnL4kRE5JUEQcAH27KxL6dSylzGBndfcDkwJgi+Ps1/VucOj4WvjwJh/uasFZfGe7ci\n",
              "TSOufWcXdmVXIEClwL+vywAAZJfX44Nt2QCAeSNiMWFAOBRy2wx1tqWJfmK4P64Yae4ssP5oEYwt\n",
              "lsYPeMGSOMDMJREReanfT5fi+fUnAQD3zzC3xuvOzKWPQo7h8SHYb8k+iWdCxwT7oqpBj5IaHQbH\n",
              "dtu3p250rqwON32wB0UaLaKC1Fi+dDyG9wvBCxtOoqxWhyKNFgEqBf55zSgEqpXQNOhxobIeG0+U\n",
              "4L+/NR+FnRjuj7gQPwT7KlFWq8O+nEpMSomQbj+Q01wp3psxc0lERF6p1Kq35Paz5QCAuG4MLoHm\n",
              "op7IQLUUIIhnkxdrGh09jDzcC+tPokijRWpUAL5ZNgXD+5m3QAy3alF146QkBKrNObsQfx+MTAjF\n",
              "ZKvAcVp6JPqH+UOllGPOMPOnjB+ONJ/wpGnUI6vU3MGgt2cuGVwSEZFXqtUapK8PWs78junGZXEA\n",
              "mDcyDgq5DEsmJ0lLo2Lror//cBK/nijp1u9PrldRp8MWy57Jd28eh/5Wjc1vnpyE4f2C8fcFw/H4\n",
              "3MGtHjs5NQJ/uXwI/rlwJJYvHQ+55WficsvS+KaTpdJ9D+VWQRDMrY2i2tHBwJNxWZyIiLxSeV3r\n",
              "U3HiQvy69XuOSQzD6b/Ptdlzd+f0FBwr0OBogQaf7bmAy4Z6dgNssiXujRzRLwRp0YE2t80YHNNm\n",
              "Q3OZTIbbpqW0un58cjhkMnMXg7JaHaKC1FKgOdEDzwrvKGYuiYjIK5XV2gaXg2ODMH5A9y83KhVy\n",
              "m5ZDyZEBeHjWQLtjIs+39lABALj0uMUAtRIplpOhjhdqYDCapN6Zl4+Md9n3cRcGl0RE5JXKrDKX\n",
              "U9MisPL2SVAr3dPeRVzm7AvB5bYzZZjx6mZpKbm3OpJfjcN51TiYWw25DPjjqDiXPr+4b/N4YQ12\n",
              "ZVegor4J4QEqTEmNcPJIz8dlcSIi8krldU0AgI9vGS/1m3QX8RSgivomGE1Cq1Y13qJeZ8DNH+4F\n",
              "ALzxaxYuHhjl5hF1zvtbs/HChpPS5alpkYgOcu1+3eHxIfjucCGOFWiQY2lV9IfhsfBR9P68H4NL\n",
              "IiLySmKW0BOKI8IDVJDJAKNJQFVDEyID3T+m7vDe1mzp60a9qY17eq6dZ8ttAksAmJ/huiVx0bB+\n",
              "5krzg7lVaGgyAgD+OKr3L4kDXBYnIiIvZDQJqKy3BJceEMgpFXJEWE7ncbQ0fra0DscKND05LJfb\n",
              "c75C+rq0pnc2jd940lzRf1FaJIJ8lQgPUGHOMNcXYYnHO5bU6FCrNSAmWI3xyb2/mAdgcElERF6o\n",
              "sr4JJgGQycxZQ08gZitL7QSXDU0GLHx7Jxa9swuaBn1PD81lqq3GXlHfhFpt73st4rnw8zPisemR\n",
              "i/HTg9MQZDkb3JVC/HxwzdgE6fLlI+K9ZrsEg0siIvI6YhuicH8VlB6yh62top5NJ0uhadSjUW/E\n",
              "+Yp6m9t+P12KP3+ViUe/yoRWb+yRsXZWVUOTzeULFQ1uGknnCIKAE0Xm4HJYfAiig3xdvtfS2vML\n",
              "hmNSSjhUCjmuG9+/275PT+OeSyIi8jqetN9S1FZwuf5IkfR1QVWjdNLPxzvO49nvT0i3XTIoCld4\n",
              "aKsaQRBQZclcRgepUVqrQ25lg1QV3RvkVTaiVmuASiFHekyg8wd0ka+PAp/fNgl1OgNC/FyfHXUX\n",
              "z/g4R0RE5EJi5tKTCmccBZd1OgN+P918UktBtTnb9+bvZ20CSwDIr3L/EZJPfXsUI5/9GfP/tx2F\n",
              "1c3jadQb0WQwF/GIwXFOiyyspzteaN7zOjA2sMeqthVymVcFlgCDSyIi8kKlnpi5tAS62eV1qKxv\n",
              "Xj7+9UQJdIbmyuqCqkb886dTeOXn0wCAB2am4+5LUgHAJpjrSZpGPV5YfwK7syvw1f481GgNyMzX\n",
              "2GRcxaylj0KGIXHmSujcXrYsLi2Jx/WebKsn4rI4ERF5nbxKc1CTENa9xz12hBjobj5dhokv/oo/\n",
              "TUjEvTPS8IMlQIsJVqOkRodPdl2QHvPUvMG4Y3oqPt9jvq7AQeayVqvHSz+ewvxR8fD1UaBGq8e0\n",
              "dNf0mBQEAU+sOYIfjxXj5+Ml0BsF6bbM/Grp6ypLwBzqr0JypPn87d6XuTQHl0Pjg908kt6NwSUR\n",
              "EXmdPEsQ1j/M380jaWadRdUbBazYdQGr9+fBYAnWbr1oAF7ccEq6zwMz03HHdHPGsl+oOUgucJC5\n",
              "/Ot3x/HtoQJ8sSdXuu7Xh6cjLTqoy+NeuTcPPx4rBgDkVtpmIo/kN7dOEivFw/x9kBhuPtrQEzKX\n",
              "hdWNeO7747hjeirGJrV9/Ke4LD6MwWWXcFmciIi8jpS5DPeczOWw+BDEBKsxcUA4Plo6DqMTQ6HV\n",
              "m2AwCUiPDsSlLU4RunpMc+NuMQNbUN2IfTmV0DTatvhZl1nY6vvtOlfR6rqOyiqpxXPfH291vXgu\n",
              "dm5lg5SxFCvFQ/1VSI4wB/VFNVq3V7ivPVyAn4+X4PE1R2AyCQ7vV16nQ0mNDjIZpGV96hwGl0RE\n",
              "5FWMJkFaPk4M95zMZYifD3Y+MRNf3jEJMwbH4JtlU/DB4nG4fEQcnr1yGOJD/Wzuaz128bZarQGL\n",
              "3tmFv6w9Jt1WUN0Io52gac/5SulrTYO+zSDvtY1ZmPDCr7hgtYyt1Rtx/8pD0BlMmJZubiguGhQb\n",
              "hAGWAPOIpfF7tSW4DPP3QXiACoFqJQQByK9yXfaytEaL30+XQhAcB4ktiRnVs6V12JxV6vB+4pL4\n",
              "gIgABKi5sNsVDC6JiMirlNRo0WQ0QSmXIS7EczKXgLkyWCYzN8qWyWS4bGgM3rxxDKamRdoENMkR\n",
              "/tL9AMBfpUSYf3NF8fdWmcoNVkU11nZnV+LHo0VY/NFeZPz9F/zp/d12g7Ij+dX4729nUFqrwy/H\n",
              "zafTNBlM+MvaYzhVXIvIQBX+de0omy0GsSG+GJVgLnoRM6RV0rK4CjKZTAqOXdXr8qdjRZj1+lbc\n",
              "snwfVu7Na/fjrJvSv7sl2+H9TnC/pcswuCQiIq8iLon3C/PrtSeezBsR1+q64Bbtaup0BpTWaPHf\n",
              "387YfY7yOh2WfX4QW7PKIAjAodxq5FXa7tk0mQQ8/d1xiDHnyaIaGE0CbvxgN74+kA8AeHXRKEQH\n",
              "+doUR8WH+GHmEPORiB9tP4+sklqbZXEAVkU95v8fBy5U4d4vDiIzr7pdc1CkacTzP5zA9jPlePKb\n",
              "I7jrs4PSdoCvD3QguLTaQrDnfKXD79+835KV4l3F4JKIiLyKWHTiScU87fX9vRfh/+YNwe3TUlrd\n",
              "1jIDeKakFn/97jhqtAaMTAjBjRMTWz0mKkiNuy9JlQpUdpwrt7l99f48m2DrRFENThbVYF9OFXx9\n",
              "5HjnpjG4xLIXNMFqPuNCfXHFyDhcOigKTUYTHlmdifK65mVxAFZFPfX48WgR/vT+bvxwpAh3fnqg\n",
              "1Z7RlpoMJtz16QF8sP08bvpwD1buzYNMBiyZnAS5DDiYW93uYqEayxGUoZZxvbfNfvaSmUvXYXBJ\n",
              "REReRaoU96D9lu01IiEEt09PgdxOxvW+GWk2l//721n8dLwYSrkM/1g4EunRzSfKfHnHJHx79xTs\n",
              "fGIGHps7GJdZsow7zjYHl9UNTfjHT+bq9FsvGgDAvC/xdHEtAGB4fAjmDm/OoPa3Ko6KC/GFTCbD\n",
              "ywtHIsTPB0cLNPjxqHl5PkzMXFqKetYfLcLdXxxEk8G8VaG4Rou/fneszX2Tb2zKQma+BipLI/Po\n",
              "IDU+u3Uinps/HFNSIwEAd352AA+tOoyv9redxRQD2Tstlfc/Hi1qFZjW6wzSsZusFO86BpdERORV\n",
              "xGXx/h5UKe4K91yahk9vnYClU5IBAL+dMhen3H1JKobEBSPVKrgclRCK0Ylh0ikzU9PMAdmucxVS\n",
              "UPfqL6dR1aDHwJhAPPGHwQj2VcJgErDxhHnfZbKlYEdkk7m07GWNCfbF3+YPAwAYLEVFYoYw0RJc\n",
              "ltc1QRCAGycm4ovbJ0Ehl+G7w4X4dPcF2HO8UIN3LHsj37g+Axsfmo7fHr1Eeg03TUqCTGZewv/2\n",
              "UAEeX3MEtVrHmVAxuJyYEo5p6ZEwCcBHO87b3OdkUQ0Ewdxr1JNOdeqtGFwSEZFXEYNLT6oUdwVf\n",
              "HwWmpUdhqFWbnLToQNxjyWiO7BeKYF8lxieHwU+lsHlsRv9Q+KsUqKhvwp7zlfjhSCE+t/TE/Nv8\n",
              "4fBRyKX2Oz8dN/e0HNAiuBSDdbnMnEkUXTkqHn8YHitdDgswZy7TogIhJmD/PGcQnl8wHBMGhOOJ\n",
              "uYMBAM+vP9mqb2eNVo9HVmfCaBIwb0Qs/jAiDukxQQi0KnaaOzwW2x+fgX8sHAEAMAnmlkmOiMFl\n",
              "iJ+PlL1ctS8P58ubK+Olk3m439IlGFwSEZFX6c17LttjcJy5MbpMBvxj4UioleZAMsTfBzufnIkv\n",
              "bp/U6jEqpRwLRpv7Zl7/3m7c+8UhCAJwzdgETEqJANB6r2FyhG1wmR4dhMtHxOGO6alQWp27LZPJ\n",
              "8PyC4YgMVMNHIUOSJWMZHeyLt28ai09vnYB7Lk2Tqt9vmzYAk1LC0WQw4V+WIy4BoKJOh1s/3idV\n",
              "qD/7x2EO56BfqB+uG5+ISwaZTyE6UWQ/uDSaBNRqDeb58fPB1LQIjOofika9EQvf3iktjx8vEINL\n",
              "Lom7AoNLIiLyGlq9UTpX3Nsyl6IR/ULwwMx0vHrNqFYnzgSqldJSeEv/b+oAm8t3TE/By1ePkC5P\n",
              "S4+0uV2s9hYp5DK8eeMYPPGHwa2eOyJQjQ0PXIQf7puG6CBf6fo5w2JbHUMpk8nw1LwhAIBvDxfg\n",
              "WIEGe89XYt5/tmFfThWC1Ep8fMsERAf7whkx23rKknlsqc4SWAJAsK8PZDIZ3l88FoNjg1BZ34Sv\n",
              "LFXnx4vMleJD2TzdJRhcEhGR1xAbdgeqldLeP28jk8nw0KyBWDg2oUOPS4sOxNxh5uXrx+cOxlPz\n",
              "hthkIMVCGVHLzKUz0UG+GBTbvuMmRyaE4spR8RAEYNnnB/Cn93ejpEaHlKgAfLVsMob3a9/y9GDL\n",
              "9zvpILgUl8T9fBRQKcXiIF/cNCkJAHA4rxpV9U3IKq4DwGVxV2ELeiIi8hpiH8f+4bZNyMns39dn\n",
              "oKxWZ7eS3tdHgbgQXxRptADQ7afU/HnOIPx0rFj6fzY/Ix4vXjWiQ99XzDSeLq6FySS0qrK33m9p\n",
              "LaN/KAAgM68af19/Ak1GEwbHBnldEZi7MHNJREReo3m/JYMEe3x9FG22aLpzurm/Zk8sD/cP98dj\n",
              "cwchNtgXL141Av++LqPDAe2AyAColHLUNxnxj59PocyyJULkKLgcFBsElVKOGq0B3xwsgEwGvHDV\n",
              "CH4gcRFmLomIyGt4a6V4T1kyJRnRwb4YZcnsdbfbpqXgNjsN49tLqZBj5uBo/HisGO9uycbyHTlY\n",
              "OCYB981IQ3yon8Pg0kchx9C4YBy2NJD/04TEVvtXqfOYuSQiIq8hZS4ZXHaKTCbDvBFx6BfaezK/\n",
              "/7thDN65aSxGJ4aiyWDCyr25uPeLgwCaM5ctj84EbD+APDJrYM8Mto9gcElERF5DPJ2Hmcu+QyGX\n",
              "Ye7wWHyzbAo+XDIOAHCs0HxGunj0Y7Bf64XaOy9OQWK4P16/bhQi2DjdpbgsTkREXkEQBK89nYec\n",
              "k8lkuGRQNHx95NDqTbhQUe9wWRwwV4ZvfezSnh5mn8DMJREReYXqBj3qdOa+hgle2kCd2qaQy5Ae\n",
              "bW5PlFVS22ZwSd2HwSUREXkFcb9ldJAavj4KJ/cmbyX22jySr8G+85UAgAjLkZTUM7gsTkREXiGv\n",
              "ipXiBAyKMQeXb20+BwCIDFThDyPi3DmkPoeZSyIi8gqsFCcAGNjilKBXF41CJAt2ehSDSyIi8grW\n",
              "p/NQ3zXYKrj885xBuGRQtBtH0zdxWZyIiLxCHk/nIQAxwb74y+VDYBIE3N6FBu3UeQwuiYjIK3DP\n",
              "JYm6cuoPdR2DSyIi6rXOltbi4dWZKKnRoqTGfK40l8WJ3IvBJRER9VrfHirAkXyNdDk9OhCxwb5u\n",
              "HBERMbgkIqJeK6fcvBR+58UpuH58IvqF+kEul7l5VER9G4NLIiLqtc6X1wMAxieFY0BkgJtHQ0QA\n",
              "WxEREVEvJQgCcirMwWUyA0sij8HgkoiI3E5nMKJGq+/QY8pqdWhoMkIuY4U4kSfpdHC5fPlyyGQy\n",
              "rF27FgBwySWXYMCAAcjIyEBGRgZef/11V42RiIi8mCAIWPzhXkx96TdcsGQi2yPbsiSeEOYPlZK5\n",
              "EiJP0ak9lzk5OXj//fcxadIkm+tff/11LFiwwBXjIiKiPuJgbjX2nK8EAHy4/Tz+Nn94ux6XU84l\n",
              "cSJP1OGPeiaTCbfddhv++9//Qq3mWZ1ERNQ1n++5IH391f58aBratzx+3pLlHBDBJXEiT9Lh4PK1\n",
              "117D1KlTMXbs2Fa3PfHEExgxYgSuu+46ZGdnO3wOnU6Hmpoam39Go7GjQyEiol6uXmfAD0eKAACR\n",
              "gSo06o1YuS+3XY89U1IHAKwSJ/IwHQoujx07hjVr1uAvf/lLq9s+/fRTnDp1CkeOHMG0adNwxRVX\n",
              "OHyel156CSEhITb/9u7d2/HRExFRr3aiqAZNBhNig33x2NzBAIBPduZAbzS1+TiTScCBC1UAgNGJ\n",
              "Yd0+TiJqvw4Fl9u2bUNOTg7S09ORnJyM3bt344477sDbb7+N/v37AwBkMhnuvfdeZGdno6Kiwu7z\n",
              "PPnkk9BoNDb/JkyY0PVXQ0REvcqxAvPpOsP7heDKUfGIDFShSKPF+iNFeGLNEdy/8hDe35qNh1cf\n",
              "xk/HimEyCQCAM6V10DTq4eejwND4YHe+BCJqoUMFPcuWLcOyZcuky5dccgkefPBBXHHFFSgpKUFM\n",
              "TAwAYM2aNYiJiUFERITd51Gr1a32ayoUio6OnYiIermjUnAZDF8fBW6alIR//3oGz6w7Dk2jee/l\n",
              "usxCAMA3BwuQEhWAuy5ORb3OAAAYkxQKHwUrxYk8iUtO6NHpdLj88suh0+kgl8sRGRmJdevWueKp\n",
              "iYjIix0vqAEADI8PAQDcNCkJb20+JwWWAJAaFYBJKRFYl1mI7LJ6PPb1Eem28cnhPTtgInKqS8Hl\n",
              "5s2bpa/379/f1bEQEZEX0DTqoZTLEKBu+09MY5MRZ0prAZiXxQEgMlCNqzL6YdX+PMhkwJZHL0Wi\n",
              "pRr8iT8Mxsq9ufhg23mU1uoAABMH2F8hIyL34dniRETkMrkVDbjyze1oMphw60UD8PCsgZDJZHbv\n",
              "e6q4BibBXCUeE9y8VerOi1Pw84lizB0WKwWWABDk64M7pqdiyZRkrDtcCK3BhEkpzFwSeRoGl0RE\n",
              "5BJGk4CHVx9GtaVP5X9/O4vLR8ZhcKz9gpvcygYAQEpUoE0AmhIViMN/ne3w+6iVCiwa19+FIyci\n",
              "V+IuaCIicol3t57D/gtVCFQrEaAyF2mW1Ogc3r/UcltssG+PjI+IegaDSyIi6rLjhRq8vjELAPDM\n",
              "H4dKvScr6x0HlyU1WgCwWRInot6PwSUREXWJVm/EQ6sOQ28UMGdYDK4Zm4CIQBUAoKKuyeHjSixF\n",
              "OTHMXBJ5Fe65JCKiLnlr8zlkldQhMlCNF68aAZlMhogAczay3E5w+emuHLyzJRs6g/nYXwaXRN6F\n",
              "wSUREXXJ5tOlAIDH5w5CRKA5qGzOXNouizc0GfDKz6dRozVI1zG4JPIuXBYnIqJOEwQBZ0vrAACj\n",
              "E0Ol6yPF4LLeNnP57aECm8AS4J5LIm/D4JKIiDqtUKNFQ5MRSrkMSREB0vXisrh15lIQBHyyM6fV\n",
              "c0QHMXNJ5E0YXHaC0STgme+O4av9ee4eChGRW4lZy+TIAJszvsMtmUvrPZe7zlUgq6QOKmXz/VQK\n",
              "OfwsbYuIyDswuOyE/TmV+GTXBTy//iQEQXD3cHq9rJJa3PzhHjy8+rC7h0LkFYymnntfEoPL9OhA\n",
              "m+sjxcxlvU56n1xuyVpeZ9UAvclo6oFRElFPYnDZCSeKagCYz8+tspxEQR2nN5rwn01ncPl/tmHb\n",
              "mXJ8c7AAWr3R3cMi6tW+3JuL9P/bgFX7cnvk+521nA2e1iK4FAt6tHoTGpqMyKtswKaTJQCAJVOS\n",
              "emRsROQeDC474aQluASA8+V1bhxJ75VX2YAr/7cDr23Mgt7YnGVhFoOo8yrrm/DChpMwCcBz359A\n",
              "QXWjze1avREf7zgvBYSdcaGiHss+O4DTxebnEDOXLYNLf5UCvj5yaVyf7r4AkwBMS49EWnQQkixn\n",
              "hvv5cEmcyNswuOyEk0XNb8zZZfVuHEnv9camMzhZVINQfx/8+7oM6XqdnsElUWf997czqLVUYjc0\n",
              "GfHKT6ek2/RGE+75/CCe/f4EnvzmaKe/x9ubz+HHY8V48/ezMJkEKchsGVxa97rMq2zAl3vNmdQl\n",
              "k5MBAO/dPA6TUyLwyf+b0OmxEJFnYnDZQQajCadLmoPLnAoGl51RaMmoPPPHoVgwup+0wZ+ZS6LO\n",
              "qdXqsWqfucjwvhlpAIAtWWUwmQSYTAIe+/oINp0y96M8lFuNbw/lY/mO8x3+PnvPVwIADuZW4XRJ\n",
              "LWq0BgSoFBgUE9TqvuLS+Ifbz6NGa0BiuD8uHRwNABgUG4SVd0zChAHhHX+xROTRGFx20PnyejQZ\n",
              "TDaXqeM0jea9qqH+5j8+akuVqfXcElH7rT1ciIYmI1KjAnDfjHT4+ShQ1aBHVmkt/vbDCXx7qAAK\n",
              "uQyBaiUMJgEPrcrEc9+fsNnm40xpjRbZlve8/KpGfJ9ZCAAYmxwOpaL1nxOxOboY1C6enASFXNbV\n",
              "l0pEHo7BZQeJxTziGySXxTun2lIIFeLnAwBQW/ZmicfBEVH7CYKAz3dfAADcODEJKqUc45LDAACP\n",
              "rM7Ex5Yq7X8tGoWZQ6JtHptV0v79l3tzKm0uv73lHABgooPs4y1Tk20uL7KqEici78XgsoPE/ZaT\n",
              "UsxvpjkV9TD1YNsPb1EjZi4twaWKmUuiTjuYW41TxbVQK+VYOCYBADApJQIAcLzQ/IH4WcsWlPHJ\n",
              "toHglqwyPL32GLafKXf6ffZk2waXYie2ls8pmpIaKQWYt0xNlj5MEpF3Y3DZQeIS0qwhMVAr5dDq\n",
              "TdicVdot3yu7rA6Hcqu65bndyWgSUKszFx00Zy7NFaM6BpdEHfb5HnPW8o+j4hHib/6dEj8AA8AD\n",
              "M9OxdOoAAMDk1Aibx35zsACf7r6Amz7cg/tWHkJpjdbh9xH3W/5heKx0nb9KgZEJIQ4f8/TlQ7H6\n",
              "zsl44g+DO/iqiKi3Urp7AL2NGFyOSAjBkinJeG9rNp5ZdxxNBhNmDY112X6iXecqsHT5XpgEAXuf\n",
              "ugxhASqXPK8nELOWABDMzCW5iMkkoLhGi/hQP3cPpUdVNzThhyNFAIAbJyZK14/uH4ZbLxqA6CA1\n",
              "7pieIl2fGhWID5eMw9nSOrz04ymb5/o+sxCbT5XikdkDcfPkZJv3s8r6JqmY8dkrhyElKgBavQkz\n",
              "B0fDt412QnK5jEU7RH0MM5cdUFGnQ2mt+ZzcQbHBuH9mOmKC1cirbMRdnx2UsgdddTC3Crd+sg86\n",
              "gwl6o4Byq7N5vYFYzBOgUkjHxUnV4gwuqRM0jXrc8MFuTHn5N/x6osTdw+lRXx/IR5PBhKFxwcjo\n",
              "HypdL5fL8PQVQ3HnxamQyWw/9M4cEoNrrfY/KuQyrL1nKkb1D0WtzoBnvz+Bq97agXrLCgMA7LPs\n",
              "t0yPDkRMsC/+PGcwnr5iKKakRXbvCySiXofBZQeI+y2TIvwRqFYiUK3EF7dPkm7PKW/o8HPuya6Q\n",
              "mhADwPFCDZZ+tBcNTc2FLdZfewMxuLTef6VWsqCHOqewuhGL3tmJ3Zb9gIfyvG8riT1NBhP2ZFfg\n",
              "H5ZeljdOSmwVRLbFejUkLsQXGf1D8c2yKXh+wXAE+SpxJF+DdZZqcKB5vyWzkETkDIPLDhCXxIfE\n",
              "BkvXpUYF4rG5gwA0B03tVVjdiOve243LXtsCrd6InPJ6LP5wL2q0BoxNCkM/y/Jeo5cdiSjOU7BV\n",
              "cKmSgktmLqn9ThXX4Oq3diKrpPkDWlG14z2D3mTFrhxc995u6I0CAlQKzM/o1+HnmJpm3n95/4x0\n",
              "AOYM5k2TkqSiIOtWa3tzKgAAE1MiQETUFgaXHSAGl0Pjg22uFzNwHQ0uc6zeuH8+XozlO86jor4J\n",
              "w+KD8dHS8QgLMD+vtwWX1W1mLhlcUvvsPFuORW/vQnGNFunRgfjzHPOHvEJNo5NHeodsq/ePuy9N\n",
              "Q6C641vo37h+ND69dQIWjUuwuX5AZACA5uCyRqvHCUvVuaO2Q0REIhb0dIDY43JInP3gsqaDwWVF\n",
              "fZP09ap9edBbTqe5fVoKQvx8pDN3tX1gWZx7LqkjvjtcgEe/yoTeKGDCgHC8f/M4nCo2/34WafpG\n",
              "5lJ8X3hq3mDcMT21U88RGajGtPSoVte3DC4P5FTBJADJEf5SY3QiIkcYXLZTk8GEc2XmpbchcbbH\n",
              "nHU2c2ldqLPzXIX09aBY8/OLFZjelrmUelz6WweX5tfK4JLsMZoEqXJ5XWYhHvjyMADg8pFx+Nei\n",
              "UfD1UUhV4kUaLQRB6ND+w95IfF/wa6NSu7PE4DK3ogFGk4Dd583vT9xvSUTtwWXxdjpbWge9UUCw\n",
              "r1LaCynqbHBZVtu6ClwplyE1KhBA8x8Nbwsu2y7oYXBJtkprtBj7/EY89e1RAObqaAC4fnx//Pf6\n",
              "0dKHsJhgX8hk5g8o1qsC3kp8X2irDVBnxYf6QaWQo8loQmF1o9TfcsIA7rckIucYXLbDjrPleG1j\n",
              "FgBgcFxwq4yIKzKXopSoAGmJ2E9lCS69bVm8gcvi1H4/HClCdYMeX+zJhckk4Hy5eQXhqtH9ILfq\n",
              "w6hSyhEZqAbQN4p6xPcF8X3ClRRyGfqHmz9EHy3Q4Gi+BgD3WxJR+zC4dEIQBNy+Yj9+PWnunTe0\n",
              "xX5LoDlIatQbOxQcldeZsytXjoqXrhtkVYku7bnsU5lL73qt1HXWhSpZpbUoqDIX7IhLt9biQ8z7\n",
              "AftCUY+2G5fFgeb5ffKbozCYBKRHByIhrG81qCeizmFw6USj3mjTZ7LlfksACPJtDpI6kr0UM5dz\n",
              "hjUfpeajaM7EeMqeS4PRhIVv78Syzw645PnaakXEzCW1VGfVyHv9kSKYBHMD/qggdav7xoWYg5/i\n",
              "PlDU0517LgEgPcb8Xif+vj4ye6DX72MlItdgcOmEdWCZHOGPSwdHt7qPQi5DkK85u9JWcJlf1YAz\n",
              "luPTAKDcsucyIcxPOgf4+vHNx7c1L4u7N+DKqWjAgQtV+PFYMUwmocvPZ7cVkXj8o5HBJdmq0Tb/\n",
              "TolNvZMiAuwGOnGhfSdzKe257IZlcQC47aIBGJMYCgAYmxRm8yGYiKgtrBZ3okFnfgMPUCmw+c+X\n",
              "OrxfiJ8ParUGh8GlIAhY9M4ulNRo8cGScbh0ULS0LB4ZpMZ7i8chr7IBw+JDpMd4SkGPdRZIZzB1\n",
              "eY+XWMgUbnVCiNryWnV6Bpdky/p36kKF+RSsAVGtl8QBSMV2eZUdPy2rtxE/dHZX5jIiUI2v75qC\n",
              "zPxqpEUHMmtJRO3GzKUT9U3mJTk/VdtxuLNelyU1OhRptDAJwL1fHMLOcxVSli4iQIVgXx+bwBIA\n",
              "/FWeseeyyCoL1NWxlNXqUF6ng0wGqSoeAFTMXJID9j6wDYiwH1yKbbzEo1q9WaPlvcm/mzKXgPl8\n",
              "8tGJYTZbf4iInGFw6USD5Q08QN32G7izivHssubj6RqajLh9xX4AQJCv0mErEWnPpZurxUtqmjOX\n",
              "Xc2iHi80V50OiAxAgFWhhooFPeSAvQ9syXaKeYDmAw5yKupt9mp6G0EQun3PJRFRZzG4dELcc+nf\n",
              "zsxly+BSqzfixQ0npb1iEwaEY3BskPS89ooSRJ6yLG594klXM5fHLUfIDW+RpVWzoIccEH+nxOMd\n",
              "AfuFdYD5xJmYYDUEAThtObHHGzUZTRC3P3fXnksios5icOlEvU4MLjuXuXxnyzm8tzUbX+7LAwCM\n",
              "7BeC5beMR0ywOagU+/LZIxX0eNCeS1dlLoe1OJ9dxSbq5ID4OzUqIRS/Pjwd7948ttUWEmtiuzDx\n",
              "LGxvpLUq8mPmkog8DYNLJxraua/JUXB5prTO5nJKVCDiQvywfOkEjEsKw40TE+GIp/S5LK6xzlx2\n",
              "LfgTM5ctgwO15fhHBpfUUk2j+XcwxM8HadFBTquWh1o+uJwo8t7gUvyQp5TL4KPg2zgReRZWizsh\n",
              "Ll8HOFkWD3YQXNZpbfd9pViqXIfGB+PrZVPafE5P2XNpUy3ehUC3XmeQqn2HOshcclmcWrLXdL8t\n",
              "Q+PMH1wy8zTdNiZ3435LIvJk/MjrRHszl6H+5j98e89X2rRBOVfWInPpoBDBHk9YFtcZjDbnNHdl\n",
              "LBWW1kt+PgqbNkQAl8XJviaDSfqZa29wOWFAOOQyc+Yyt8I7WxKJHzi535KIPBGDSyekPZdOqsVn\n",
              "DYlBZKAauZUNmP/mDuzOroBWb0RBtW0z57YKeFryhGXx0hrb88+7sixe1WAOLsVA3FpzQQ+rxamZ\n",
              "9UpAoG/7FlqigtSYkhoJAFiXWdAt43I3Zi6JyJMxuHRCfBN3tiweHeyL7++bihH9QlBZ34SbPtiD\n",
              "F9afhCAAwb5KPDVvMN67eWyHGhGLfzga3LgsXtTiGD17mcsv9uTi6bXHnJ7eI57ME+qvanUbM5dk\n",
              "jxhcBvkqoZC3/3fnyox4AMB3hwshCF0/VcrTdPe54kREXcHg0ol6ndhE3fmbeFyIH1bfORl/HBUP\n",
              "g0nAp7svAABSowNxx/RUzO7g8Wm+KvP/nka9sct/IM+U1OL9rdkd7iNZ1OIYvZZZ1CP51fi/tUfx\n",
              "6e4LOFrQ9h63ajFzaWd5k62IvNe5srpOn5jT0f2WornDY6FSynGmtA6nir2voTqXxYnIkzG4dKK9\n",
              "BT0iP5UC/7k+A/fNSJOuiw327dT3FrMSgmA/o5dTXo8HvjyE8+X1Tp/rgS8P44UNJ/HsuuMdGkNx\n",
              "i8yldXBpMgl4+rvjEOPeinrbJfSWqhvMgUJYQBvBJU/o6bVMJgH3fHEQs17bIh3xqWnUY/7/dmDm\n",
              "v7ag0mrvbnuJ54p3NLgM9vXBpYOiAJizl96meVmcb+FE5Hn4zuSEmLl0tufSmkwmw8OzBuL68f0B\n",
              "ADMGR3fqe1uf3GNv3+Wrv5zGd4cL8fGO806fS2zLsnJvHl775TSOOckyiqzbELUcx+r9ecjMq5Yu\n",
              "iwU7joh7LkP87CyLK3i2eG/37tZsrD9ShDOldfjnT6cAAMcLNKjTGdBkNOG9rdkdfs6aTmYuAWB+\n",
              "Rj8AwPeZhU63bPQ23HNJRJ6MwaUT4pt4R8/vlclkeOnqEdjxxAxcMzahU9/bRyGHj0JmMw6RzmDE\n",
              "5tNlAID8qsZWj7XW8hi8//x2FkuX75OyQm0RM5dKue04qhua8A9LACHOjRg8OiJlLu0V9Pgwc9mb\n",
              "1Wr1eH1jlnT5qwP5OJRbZdNr8pOdOdLWiPbq7LI4YP5QF6hWoqC6EQdzqzr8eE8mLou3Z7sOEVFP\n",
              "Y3DphJS5bOeyuDWZTIZ+oX4dKuJpyVGvy53nKqSgsWVFekvny1ovm5fX6fDaL1l27m1LLOjpH+4P\n",
              "oLla/NVfTqOqQY+BMYFYZAmeK+vbDlar26gWV1kaQRtNAgwMMHudkhotmowmBPkqcfUYc8bw2XXH\n",
              "bU7JadQbcaygY43NCywfnCICW2e7nfH1UWD2sBgA3rc0Ln7I82Xmkog8EINLJzq659LVHJ0v/svx\n",
              "EunrAieZy+xyc6/N8clhOPPCH/D5bRMBACt25ThdHi+xLIsnR4jBpRHHCjT4fE8uAOBv84cj2rKn\n",
              "tNLZnkuxWtzOsrjaau8Ys5e9T5UlKx0eoMITcwcjUK1EZr4G3x+xDepyKpzvD7Z2KLcaADAyIbRT\n",
              "4xKXxtcfLYLei36upMwlg0si8kAMLp1ocPPyk/h9rfc6Gk0CNp5oDi5rdYZWJwNZO2fJXKZEBsJH\n",
              "IcfUtEhcOSoeJgH4v2+PwuhgP5rBaEKppTAj2dL8vVFvxMq9uRAE4IqRcZiUEoEwS2shZ5lLMQBp\n",
              "K3MJsGK8N6qqF7PSKkQH++L+meaCNr3R/LM1a6g5g5jbgapxvdGEIwXVAIAxiWGdGtfU1AhEBKhQ\n",
              "Wd+EHWfLO/Ucnkjbye06REQ9gcGlE+IJPQEdKOhxJSlz2dQccB3Oq0J5nQ5BvkppL1pb2ctsyylB\n",
              "4tGTAPCXy4dI2aUv9+XafVx5XROMJgEKuQz9w5ozl+Jez4VjzMvh4Zbqb2eZS01DcwDSklIhh9jG\n",
              "kL0ue5+W+2mXThkgnUYV5KvElNQIAMCFDmQuTxXVQqs3IcTPp0MnW1lTKuT4wwhzC7BfrD6Q9XYs\n",
              "6CEiT8bg0gnxhB53LYv7So3Um4tyfrYsic8cHI1Ey17I/KoG3LFiP+a9sa1VZbnYqiglKlC6LjrY\n",
              "F4/MHggA+MePp1BR1zowFCvFo4PUCFSbX//xwhoUVDdCpZRjYko4AEiZSzEz6Yi4LG6voAcA1Erz\n",
              "a2XmsvcRi7nEnwWVUo7n5g+DQi7DtPRIJEeYg8MLHTiOUSzCyegfCnkHGqi3NHOwOWv6y/FivL4x\n",
              "C1uyyjr9XJ6CfS6JyJN1Orhcvnw5ZDIZ1q5dCwAoLS3F3LlzkZ6ejuHDh2Pr1q2uGqPbmExCc4bA\n",
              "TW/icSHm/YxiQYIgCPj5eDEAYPawWPQL9QMAvLX5HH45UYITRTWtmpmLS5EDIv1trr95UhLSowNR\n",
              "ozVI2UhrxZYG6rEhvtKeSDE4mDggXCpyEost2upjaDQJzZW/DoLL5lN6eARkb2Nvy8O09Chse+xS\n",
              "vHZtBpIse3ZzKxvafSCAGFx2dklcNDk1AmqlHOV1TXhj0xnc+/nBLj2fJ2Dmkog8WaeCy5ycHLz/\n",
              "/vuYNGmSdN0TTzyBSZMm4cyZM1i+fDluuOEG6PXOW914MusiGndlLu+dkQa5zFyQsPl0KbJK6nCh\n",
              "ogEqpRwXD4xCvzBzcHnYqt+kdVP1JoMJtVpz1jMy0PZcc6VCjiFxwQDstxESK8Vjg31b/RGblh4p\n",
              "fS1mqzSNeodFE7VavdRs3V5BD8AjIHuz6haZS1F8qB98fRRICPOHXGbew1xmJ0tuj1jMMzoxtEtj\n",
              "8/VRYFh8sHS5tkVrrt6Ixz8SkSfrcHBpMplw22234b///S/U6uZgZfXq1bjrrrsAAOPHj0d8fDy2\n",
              "bNniupG6Qb1lKVomA3zddBLGsPgQ3DJ1AADgr98dx7rMAgDAtLRIBKiVUubSWo5VcCn+0ZfLzKeW\n",
              "tCTu2ayxUxAkLovHhvi2anmSHh0kfR3qr4LYbanawdK4mNkKUCmkILIl8ZQeLRup9wpf7s3F7Ne3\n",
              "ILuszmpZ3HFWOi7E/LOa246l8fI6HXIrGyCTARldDC4B4MaJSTaXe3vluLtXVIiI2tLhiOm1117D\n",
              "1KlTMXbsWOm6iooK6PV6xMY2n52dnJyM3Fz7hSI6nQ41NTU2/4xGz1sKbbDst/T3UXSpV2VXPTRr\n",
              "IGKDfZFb2YA3fz8HAJhjOad8VP9QAEBKZABuvcgchFpnLiutMkr29q2JwaW9anOxgXqcneAyxupI\n",
              "S4VcJp0X7qiRenUbxTyi8ADny+vkGYwmAa9tzEJWSR0+3pljtSzu+P+vuDSebafvqiirpBY1Wr2U\n",
              "tUyLCrT7oaijrh7TD2uWTZYut9Xw32gScKKwpt3L9+4gdmYI8nXPigoRUVs6FFweO3YMa9aswV/+\n",
              "8pcufdOXXnoJISEhNv/27t3bpefsDmLm0s9NS+KiQLUSz80fJl2Wy4CZQ8xHSo5NCsNvj1yMDQ9M\n",
              "w0WWpWqb4NISqIUF2P+j31ZwKS6Lx9hZFhf3gorE53d0BKR41nS4g3GI3wdo7q1JnmvXuQqpTdWG\n",
              "o8VSQVjLZXFrYq/KXdkVdm8/WVSD2a9vxb1fHHLZfkuRTCbD2KRw6eevqo22WY+vOYJ5/9mGH44U\n",
              "ueR7u5ogCMiz7KMWC/qIiDxJh4LLbdu2IScnB+np6UhOTsbu3btxxx13YPXq1VAqlSguLpbum5OT\n",
              "g8TERLvP8+STT0Kj0dj8mzBhQtdeSTcQ/3hGduJ0EFebMywWa5ZNwfyMeDw1bwgirPZPpkQFwtdH\n",
              "gQGWitycinrpLGXxj2i4gz/6wX7mwNlecCkGeXEhfjbbAtRKeateleFSxbj94DLbEvAmt9FSJiZY\n",
              "bfN9yXOtPVwgfV1ep5N6qdrrYSq6eGAUAGBrVpnds76P5psL0fbnVOLABXNw2dX9li2Jy/aOsuPl\n",
              "dTp8fSAfALB6f55Lv7erVDXopdO5EsIYXBKR5+lQcLls2TIUFRUhJycHOTk5mDRpEt577z0sW7YM\n",
              "ixYtwjvvvAMA2LdvHwoKCnDxxRfbfR61Wo3g4GCbfwqF5+0dEs/s9pQ38LFJYXjj+tG4bVqK3dsT\n",
              "wvyglMug1Zuk/ZLisrijjKG051JrW+QgCIKUuWy5LB4b4ttqm0BUkDkwLLQcRdnyGEep12ZbwWUQ\n",
              "M5e9gVZvxE/HzB8kB8cG2dzmKEMOmH9+A9VKVNQ34Vhh65OhxK4GDU1G7M+pBACMSXJN5lIkZS4d\n",
              "fAj6fHfzVp7gTpxn3hPEeYoJVvP4RyLySC6rUvnHP/6BnTt3Ij09HUuXLsVnn30GHx/PfHNur/wq\n",
              "85t4QljrohlPpFTIkdhiX1tlXdvL4sEOlsWrGvRSv8noFn/ErPdbioZaqs6PFmjQZDBh1mtbMO8/\n",
              "26TlUjGzlRod2OqxLZ+3pKZ91cTkHr+dKkWdzoD4EF88PGugzW2OCnoAc1GP2Ex908lS6XqdwYjs\n",
              "sjqb03tMAhCkViItyvHPS2c0nyZlP7j8weq4yhKNZ37IyeWSOBF5uC5tJty8ebP0dUxMDH755Zeu\n",
              "jsejNGcue0dwCQDD40OQXVaPtYcLcFF6pJShEU/RaUkslmgZXBZZelxGBKigVirgp2pexrS3xD4i\n",
              "IQSAeWkzt7JBWga/89MD+Pz2ie3LXIYwc9kbrD1kXhK/MqMfpqZF2tzmrDXO3OGx+OVECT7dfQG3\n",
              "T09BoFqJf/50Gh9uP9/qvhmJXWuebk/znsvWwaXBaLI5+7zIU4NLyxgTwzt3ahERUXfjCT1tKOiF\n",
              "weX/s1SMf3uoAHmVDc0FPQ72XDoq6CmxakMEAL5W7YPs7asTizWyy+txqrhGun7/hSrc8/lBqZrY\n",
              "+gjKlrjn0vNpGvRSw/0Fo+MRoFYi2Kpi2VlXhStHxSMlMgCV9U34cJs5oNx8utTufUdbOiG4kpjB\n",
              "r7SzLF5YrZXOQgfMP4f29oa6GzOXROTpGFy2wdP2XLZHRv9QTEuPhNEk4J0t56wylw6CS0ug2GQw\n",
              "2Rwbab3fEjAvubd8jLXwAJUUhIvHU/YLNe8B/dWyBBof4iud6mOPuOeyqkHPU3o81IZjRWgymjA4\n",
              "NgiDY81bIS5Kj3TyqGZKhRwPW44dfX9bNvKrmrPcLY128X5LwKrwzE7m8nyFeExqAOQywGASUF7v\n",
              "ni0a28+UI6uk1ua6khotvs8sxFrLaV2JEb3nQy8R9S1skuaAVm9EuWW/YG/KXALAvZemYduZcny1\n",
              "P186mtHRnstAlRJymXmPW02jXtpbWWzVhqglR1nQUQmhyK9qxG8nzcHlJYOiMLxfCJ785igA27PN\n",
              "7Qn194FKKUeTwYTSGh36MzPjcb6zVInPz+gnXffclcNRrNHaXNeWecPjMDTuHE4U1eChVYdhr52k\n",
              "XNbdmcvW3RHEwwdSowLRoDOiuEaLYo0W0UGtfwe609nSOtz04R4AwAtXDcfZ0jpsP1OOM6V1Nvfj\n",
              "sjgReSoGlw6IWcsAlUJaOu4tJqZEYEJyOPbmVEoZyAgHwaVcLkOQrw80jXpoGvWItgSTxS0yl9YG\n",
              "ONg3OSIhBOuPFqG+yZx17Bfmhz9NSEROeT3e3ZqNCQPC2xy3TCZDTLAaeZWNKK3VMrj0MEWaRuw5\n",
              "b67ivjIjXro+KkiNb+6e2u7nkctl+PPcQbhl+T7sy6lqdfs/rxlpaXfl+hZg4t5ju5lLS3CZEhmA\n",
              "slodimu0KNJoMTLB5cOQlNZocTivGmdK63C21HzSkfXv1/99e0z6WiYDBscG42xpLXwUcqS1URxH\n",
              "RORODC4dKKhuXhJ35+k8nXXvjDQs/qi5MX1bza1D/MzBZY22OZvTfPRjc9b239dl4FiBBrOGxNh9\n",
              "npGWoh6ReDTlk/OG4E8TEtsVLMYE+SKvspEV4x7oUG41BMH8/9nesaMdccnAKIxPDmsVXEYEqHDt\n",
              "uP5deu62tFUtLhbzJEcGILeyAYfzmj9kdYec8nrM+fdW6Ay2R1GKe1oBIDnCH5NTI3BRWhSmpEYg\n",
              "LECFijod9Eah133oJaK+g8GlA2IxT79etiQumpYeiVEJIci0NKZu62Qce0U9YsYz1mpZfMHoflgw\n",
              "2vHS5/B+tsFlvFUA0lbzdGtixbg4/46U1GjR0GR0mEUl1xPbSsWHdP13QiaT4c9zBuPad3cBAP4+\n",
              "fxh2n6/EsotTu/zcbWmrz6W4LJ4cEYDTweb9jt1ZMf725nPQGUyIC/HFxAHhCPVX4eOdOdLtH98y\n",
              "HpcMim71OOsDFIiIPBGDSwfE4wqjg3rnG7lMJsO9M9Jx+4r9CFAp4K9y3CLGXnAp9viLtbMs7kiw\n",
              "rw9SogKkHpudyW6lWvZlnimtdXgfncGIP/53O0prdRgcG4Rh8SFIjwlEenQgpqRGwq+N10qdV27p\n",
              "mRrhohOrJgwIx5LJSTicr8FVYxJw8+RklzxvW8Q9lw1NRmj1RmmPscFoQp7lA82AyABpO8iFCvvF\n",
              "Rl1VUN2INQfNJwH974YxGJsUBpNJwOd7LkgV66NddPQlEVFPY3DpQIWlStRVf0jd4bIh0fi/eUPs\n",
              "nqhjTToC0lLkUKvVo9ZyvFxHgkvAXNSTXVYPhVzWqcB8YIwYXNY5vE9+VaN0NOep4lqcKm4ORKel\n",
              "R+LTWyd2+PuSc+JSsqP9u53x3PzhLnuu9ghSK6GUy2AwCahqaEKcJQtbWd8Eo0mQfm7HW/YHb8kq\n",
              "Q2OT0eUfWH4/VQqDScC4pDCMtVTFy+UyjO4fhr2W04m47E1EvRVbETkgVopH9uIlKJlMhtunp+CP\n",
              "o+LbvF/LIyDFPpNBvkoEqjv2+WOEZWk8NtjXpn1Rew2MMR8neLakDoK9MmI0F1tFBqrx9o1j8Mis\n",
              "gbhsiHn58GRRjd3HUNc1f+Dq3b8TUsW41b7LMsvve3iAyhLkhaJ/uB8amoz41dL9wJXEQwqGxgfb\n",
              "XP/ywhFIjQrAC1f1bNBNRORKDC4dEJcAe3Nw2V7iEZBiQF2sMf831k4bImcuHhQFH4UME51UhjuS\n",
              "HBEApVyGWp3B4X63PEsT6Yz+IfjDiDjcNzMdL149AkBzBopcr6Ku7Z6pvUWEdEpP8zaQlr/vMpkM\n",
              "80eZ9xd/d7gQrlZULXZjsN06khIViE2PXIIbJya5/HsSEfUUBpcOiIFWb14Wby8x2/jbqVIIgiBl\n",
              "VTq6JA6Y90weeHoWXl00qlNjUSnlUvFPyybSInvN7cP9VZBZ+nU6Ojeauqai3rV7Lt1Fqhi3Kuop\n",
              "rxVXKppfm9huaUtWqbRlxFUKLb9j9lp9ERH1dgwuHRD/2ET1gczlzMEx8FcpkF/ViIO51W32uGyP\n",
              "YF+fLp0JLe67POtg32VelTlzad3cXqmQS6eviB8MyLWa91z27t8Je+eLiz8z1r/vA2OCMDg2CHqj\n",
              "gB+PFbl0DF39HSMi8mQMLu1oMpik/Yd9YVncT6XAnGGxAMwnsBTVtG5D1JPEfZeH8qrt3p5fKQaX\n",
              "tn0zxf9XDC5dz2gpgAG8IHNpaaReaSe4jGxRhCaeOuTKpXHz6oD5dyy+i/1CiYg8EYNLO8TCBYVc\n",
              "1mcqNv84Kg4A8MvxEimrEuuCfoadcamlt9/GEyV2lyPFZfH+4bbjiwxi5rK7VDU0QRDMp8S01ZC/\n",
              "N5DOF7daFi+zsywONP9e7D5f4bKG6lUNeqlxenSw9394JaK+h8GlHeW1zS1XurK825tMSY2Er48c\n",
              "xTVabD5dCsB9S3YjE0IwODYITQYT1lrOshbV6wzS3j+Hmcta7rl0NbGYJ8xfBUUv/52wVy3uqIAv\n",
              "Icwf45LCIAjAD0dck70srG7udqBWsicrEXkfBpd2lHtBy5WO8vVRYEpqJABzUQxgu6exJ8lkMlw/\n",
              "3nwE4DeHbINL8VjOYF9lq6wyl8W7T4VVq57ezt4pPW21HptvKexZl+ma4LJ5SZz7LYnIOzG4tMNe\n",
              "5WhfcOng5qPmLkqLRFp0oNvGMtNyfvmJQg2arM5eFtsQ2TunXAwMyhhcupw4p65soO4uzeeLW7ci\n",
              "chxczhsRB4VchiP5GodFZh1RLHZjcNOeZiKi7sbg0g5x2bUvVIpbmzE4Gkq5DHIZ8OJVI9o81ae7\n",
              "JYT5IdhXCb1RsDkKsrkNUeusqvhhQFziJNf476YzeODLwwB6fzEP0Lpa3GgSpCVycd+utYhAtbQP\n",
              "+P2t2Z3+vtUNTaio06GQxTxE5OUYXNohZi694Q9pR/QL9cOqOydh/f3TkBjROjPYk2QyGYbFm/tv\n",
              "Hi9oPnVHylyGtR5fVJC455KZS1faca5c+jrGC7Jt0p7LhiYIgjmwNFmKlcIdFCstuyQVALDmYL60\n",
              "NaMjGpoMuPw/2zHr9a3Yk10BAEhy8+8YEVF3YXBph3i2r9jMuy8ZmxSOIXHBzu/YA4ZZjsY7XqiR\n",
              "rrPX41LEPZfdQ6s3b0tIiw7E/5s6wM2j6ToxgGwymFCnM2DD0SLpekdHlo5NCsOklHAYTAK+78Te\n",
              "y9X78lBQ3YjK+iYczK0GAIxP7twpVkREnq5jB0f3AWdL63AkXwOFXCb1fiT3GG45Oeh4YXPmsrkN\n",
              "kePMZUV9E5oMJqiU/OzkCo1NRgDA364cZnfeexs/lQK+PnJo9SbMf3MHssvqAZi7FLRldGIYdmdX\n",
              "tqslkcFoQn2TESF+PtAbTXh/23mb2wPVSgyODer8iyAi8mD869vCd5bWN9PTI/tEA3VPJmYuTxTV\n",
              "SOeF5zlooA6Yi00iA1UwmgS8tjGr5wbq5eqbzAcK+Km8p22OmL3MLqtHoFqJx+YOwts3jW3zMeIe\n",
              "7NJaLZbvOI9fT5TYvZ8gCLjrs4MY//yvOFtai+8zC1FQ3QjrDk6jE0MdZkmJiHo7vrtZEQRB6qu4\n",
              "YHQ/N4+GUqIC4esjR0OTETkV9dA06qWTk+wtiysVcjy/YAQA4J0t51xS2UvNmcsAtfcsdIxODINC\n",
              "LsNNkxKx+c+X4O5L0uDr03bwLDY835ZVjue+P4HbVuzHg18eglZvtLnfrydL8evJEjQZTfjucCHe\n",
              "2XIOAHDPpWlQWQLKCVwSJyIv5j1/LVzgYG4V8iobEaBSYPZQLom7m0Iuw5C4YBzKrcaxAo3UGiki\n",
              "QOUw0Jk7PBbjk8OwL6cKmXnVbm2n5C2kzKWT4Ks3eeP6DGnZur3EzGWtziBdt/ZwISrqm/DuzWPh\n",
              "r1LCaBLw0oaT0u2f7MxBjdaAILUSt09PQU5FA346VoTLhsa47sUQEXkYZi6tfGtp2D1neKxXLQH2\n",
              "ZtLSeGEN8iodtyGylm45mzy7nJnLrjKaBKmgx5syl0qFvMNHu0a1OHc8NtgX/ioFtp0px5KP9qJG\n",
              "q8fGEyXILq+X7iNm2m+anIRgXx+8cs1I7HxipscUzRERdQcGlxZNBhN+OGKuGl2QwSVxTzHc0o7o\n",
              "WKEG+VWO91taS7FU+YuFGtR5jVZLvv59/ANXy+By0bgEfHrrRAT5KrEvpwo3vr8Hj6w+DAC4+5JU\n",
              "6fhUlVKOW6YmAzCfhNXyeYiIvA2DS4stWWWobtAjKkiNKakR7h4OWUi9LgtrkGsp5nHWgzM1yrwU\n",
              "zuCy6xosS8ByGaDu49X3gWolfH2a5yAhzA9jk8Kw8vZJCA9Q4WiBBvVNRijlMiyenIzp6VEAgEVj\n",
              "ExAd1Pv7gxIRtZf3rHN1kVjIc+WoeFZxepCBsYFQymWobtBj1zlL82kn7XBSosyZy/MV9TCaBCjk\n",
              "7jtpqLdrsBTz+KuUbj2xyRPIZDJEBaml7Rn9Qs0/h8P7hWD1nZPwys+nUVnfhD+OikdsiC/+PHcQ\n",
              "hsQF4drx/d05bCKiHsfgEkCtVi+1FbmKVeIeRa1UID0mCCeLanDGUv3tLHOZEOYPlUKOJoMJhdWN\n",
              "XtGb0V3EYp6+viQuigpU2937mxYdhHdvHmdz38hANZZ6QdN5IqKOYooOwM5zFdAZTBgQGSAVkJDn\n",
              "aPn/JDmi7ZOTFHIZkiPNAeW5Mhb1dEWjlLlkcAnY7ruMC+VSNxGRPQwuAey2nPU7JTWizy/9eaLh\n",
              "VsGlSilHbDvOt06JNO+7PMd9l11Sb7UsTs3BZXSQGmolA24iInsYXALYk20+S3xSCgt5PNGwfs3H\n",
              "8vUP84O8HXsoxX2X2cxcdkkjl8VtRAWaP9g4a4dFRNSX9fngUtOgx8li89nVE1N4aoYnGhIXDDGh\n",
              "nORkSVyUwopxl6jXWTKXXtTjsisGxZp/rsQuBkRE1Fqf/4uxN6cSgmDOdLFdiGcKVCsxICIA2eX1\n",
              "SGxncY6UuWQj9S5psPS59Pei03m6YvbQWHxz9xQMieXebCIiR/p85nL/BfOSOM/69WxjksIAAINj\n",
              "g9p1/1TLnsuSGh3qrI7ro44R+1z6qxlcAoBcLsOYxDCe4EVE1IY+n7k8lFsNoDl4Ic/0xB8GY1p6\n",
              "JOYOb9+Z7yH+PogMVKG8rgnny+oxIoHLmJ3RwGpxIiLqoD6dudQbTTiSXw0AGJMY6taxUNsiA9WY\n",
              "n9GvQxW6YsU4l8Y7r8FS0BPAanEiImqnPh1cni6uhVZvQrCvUgpEyHuI+y7ZjqjzxMwll4GJiKi9\n",
              "+nRweTC3CgCQkRjWrvY21Lukx5j3Z67al4uccgaYnSEGl8xcEhFRe/Xp4PJwXjUAYHT/ULeOg7rH\n",
              "NWMSMDAmECU1Ovzp/d3IrWhw95B6HXFZnJlLIiJqrz4dXB4vMPe3HNGPxR7eKMTfB5/fNgmpUQEo\n",
              "0mjxp/d3I6+SAWZHSJlLVosTEVE79bngUtOgx5u/n8UdK/bjrOX0luEMLr1WVJAaK2+fhJTIABRU\n",
              "N+KGD3ajtEbbbd9PEAScK6uDySR02/foSdKeSx8uixMRUfv0ueDSYDLh9Y1Z+OVECYwmAREBKsQE\n",
              "q909LOpG0cG++OL2SUiK8EdeZSNuW7EfjZagydWeWHMUM/+1BWsO5nfL8/e0ekufS2YuiYiovfpc\n",
              "cBkRqMbFA6Oky0PjgyGTsZjH28WG+GLF/5uAMH8fHMnX4OHVh12eXfzucAFW7c8DAOw4W+7S53aX\n",
              "Rj37XBIRUcf0ueASAK4a00/6emgcj3HrK5IiAvDuzePgo5Dhx2PF+GjHeZc9d25FA/7v22PS5VPF\n",
              "tS57bnfJq2xAiWULQaDax82jISKi3qJPBpeXDYmRvk6KCHDjSKinTRgQjkdnDwIA/H661CXPqTea\n",
              "cN+Xh1CnM2BgjLlf6tnSOtTpDDAYTS75Hj0tM68at6/YD63ehFH9Q5EezT6wRETUPn0yuPT1UeDf\n",
              "12XgqtH9cLVVFpP6BvGozwsuak302sYsZOZVI9hXiY+WjkewrxIGk4Dhz/yMa97ZJe1bdBVNgx73\n",
              "rTyEn44Vu+w5V+7NxdNrj2HXuQrc+el+zH9zB04V1yI8QIW3bhzDPrBERNRufbYEdMHoflgwmoFl\n",
              "X5QU7g8AKKxuRJPBBJWy85+xcsrr8c6WcwCAlxeOREKYPwbHBWPv+UoA5l6qD646jPduHuuyvb1f\n",
              "7M3F95mF+D6zEF/cNhFT0iK79HyltVr8Ze0xGE0CPt19AQAglwFXjU7AQ7PS0S/UzxXDJiKiPqJP\n",
              "Zi6pb4sKUsPPRwGTABRUN3bqOX46VoypL/+GNzadgSAAEweEY96IOPPzB9p2H9h4ogRZJa473/z3\n",
              "U83L+U9+e7TLz/fdoUIYrYqb5g6Lxc8PTse/rh2FhDD/Lj8/ERH1LQwuqc+RyWRItGQvcyo6dyzk\n",
              "p7tzUFDdiG8PFQAApqQ2Zw9nDzPv6Y0L8cW0dPP1rqoe1zToccBybCkA5FY22ASGHSUIAr46YK5w\n",
              "f37BcOz/y2V45+ax0tGZREREHdXh4HL27NkYOXIkMjIyMG3aNBw6dAgAkJycjEGDBiEjIwMZGRlY\n",
              "tWqVywdL5CpJEebgsjNHQjYZTDhwocrmukkp4dLXfxwZjzeuz8AP912EqZYl653nXBNcbj1TBqNJ\n",
              "kMYvCEBNo77Tz5df1Yiskjr4KGT446h4RAay5ysREXVNh/dcrl69GqGhoQCAb7/9FkuXLkVmZiYA\n",
              "YNWqVcjIyHDl+Ii6hRicOSvq0RmMOFlUi1EJIdKeyWOFGmj1zVXgaqUco6zOp5fLZZifYd7PO9WS\n",
              "0dyTXQmD0QSlomuLBeKS+JxhsfhiTy7qdAZUNTQhLEDVqefLtRyHmRjujxA/thsiIqKu6/BfOjGw\n",
              "BACNRsMG5NQrJVpaUOVWtr0s/r/fzmLBmzvw0Y4c6TqxWEcsoB6TGAZfH/tNxofGByPEzwe1OgNe\n",
              "25gFnaHzJwMZTQI2Z5UBAC4dFI1Qf3MwWNXQ+cyleNZ6/3DurSQiItfoVLX44sWL8fvvvwMANmzY\n",
              "YHO9IAiYMGECXn75ZURFRdl9vE6ng06ns7nOaOye4/iI7BErxs+Xtx1cbrfslfxwWzaWTE6CUiGX\n",
              "gsuHLhuIBr0RV46Kd/h4hVyGGycm4q3N5/DW5nP46XgxXlgwApNTIzo85sz8alTWNyHIV4lxyWEI\n",
              "D1Ahv6oRVfVNHX4uUX6VuaApIYwV4URE5BqdWqNbsWIF8vLy8Pzzz+Pxxx8HAGzduhVHjhzBwYMH\n",
              "ERkZiSVLljh8/EsvvYSQkBCbf3v37u3cKyDqhCGWk5myy+tRo7Wf+TMYTThZVAMAKNRo8etJ85L0\n",
              "8UINAGBKWgQenztYei5H/jxnEP77p9GIClIju6wef3p/N/7325kOj1lcEp+eHgUfhRyh/ual8KqG\n",
              "zgeXeVWWzCWrwomIyEW6tAFsyZIl+P3331FRUYHExEQAgI+PDx588EFs27bN4eOefPJJaDQam38T\n",
              "JkzoylCIOiQqSI2kCH8IAnA4t9rufbLL6232Vq7YlQNNox4lNease3srqmUyc7HMrw9fjD9N6A8A\n",
              "eHdrdofH/JsluJwxOBoAEGZZFv/HT6cw9eXfcDRf0+Hn5LI4ERG5WoeCy+rqahQWFkqX165di4iI\n",
              "CPj6+qK6ulq6fuXKlRg9erTD51Gr1QgODrb5p1DY37NG1F3GJJpP6mlZ+S06VmAO1gZEBkAuA3ae\n",
              "q8CGo0UAzG2Ggn07VgAT4ueDJ+cNAQDUag3Q6tu/FaRYo8XxwhrIZMAlg8zbTcIsmcvyuiYUVDfi\n",
              "4dWHnT5nZX0T1h8pwpPfHMW17+zCQUtgzWVxIiJylQ7tudRoNFi0aBEaGxshl8sRFRWFH374ASUl\n",
              "JVi4cCGMRiMEQUBKSgpWrFjRXWMmcokxSWH49lABDubaBpfVDU3wVylxrMC8JH7JoCgUVQfhp+PF\n",
              "eOXn0wCAtE6etR2kVkKllKPJYEJZra7dGUPxHPRRCaGIsLQLEoNL0ZnSOvxn0xk8Nndwq8cbTQJu\n",
              "+XgftloKglrisjgREblKh4LLpKQkh3sjxX6XRL3FWEvmcnd2Ba57dxf6h/tDBuCbQwWYkhoBncG8\n",
              "JD48PgSzh8bip+PFqLQUzwzsZJNxmUyGqEA1CqobUVbX/uCy5ZI4AIQFtM6cvrPlHOYMi7VpjQQA\n",
              "58vrpMBycGwQJqVE4OOdOdLtYuU5ERFRV/GEHuqzBsUGISnCH3qjgD3nK/H1gXx8dSAfRpOAbWfK\n",
              "pUry9JhATEoJxyCrgHJgTOcyl4B5vycAlNXqnNzTrLK+CdvOmAND6+Ay1CpzmRjujytHxcMkAI9+\n",
              "ldmq5VFlvbloKTnCHz89OB3PXjnM5vWwpRgREbkKg0vqsxRyGX56YDq+uXsK3rg+A4/OHog/TUiU\n",
              "bheDv/5h/pDJZFg8JUm6LS2688cjdjS4/HhnDrR6E4bFB2NYfHNlephVtjEpwh/PXjkMkYEqnCmt\n",
              "wxu/2lajixXl1gHpe4vHIj06EH+5fEinXwsREVFLnepzSeQt/FQKjEkMk4p7AGDz6VIUabQAgEC1\n",
              "Uloyvmp0P/xn0xnojQIGx3Y9uCyvcx5c1ukM+MSyfH33JWk2GUbrPZdJEf4ID1Dh+QUjcNdnB1ot\n",
              "j1dbgkvbgDQAGx++uNOvg4iIyB5mLolasC5uSQjzkwI6f5USP9w3DT89MA0B6s5/LosKbH/mcuWe\n",
              "XGga9UiJDMDc4bE2t1kf+ZgUbj5xaO7wWJvlcaNJANB8ik9nj4kkIiJqLwaXRC0khDe35WlZcBMV\n",
              "pEZ0sG+Xnj+yncviOoMRH2w398O86+JUKOS2+yKts5BiNhQAnrtyGAJUCpwprUNWSS2A5mXxlhXm\n",
              "RERErsbgkqgF68xld7TokTKXTpbFfz9VhpIaHWKDfbFgdL9Wt/tZnWfe3yogDgtQSUFxcY15eV88\n",
              "IjKMVeFERNTNuOeSqAXrbKV10OYq7S3oybcczTh+QDhUytafA2UyGf6xcATyqxpt9owCQGyIL04V\n",
              "16LEsndUXBYPZeaSiIi6GYNLohb6W51Wk9ANmctoq+BSEASHbYAqLNnGiDb2SV43PtHu9bGWpXsx\n",
              "c1nNZXEiIuohXBYnaqG7M5eRlmVxncGEWp3B4f0qLMvm1vsp2ys2xBxcltTYZi65LE5ERN2NwSVR\n",
              "CzHBvogL8UWovw+SIwJc/vx+KgV8fcy/etWW5ub2lNc5z1w6ImUuNS0yl6wWJyKibsZlcaIWFHIZ\n",
              "1t8/DQaTCb5WRTOu5K9SQqtvQoPeeeZSPEu8I2IsmcsijRaCIKBaylwyuCQiou7F4JLIjvBuzvCJ\n",
              "ld4NTUaH9xEzl5GBnc9cltRoUaszwGDpd8kzxImIqLtxWZzIDQLU5uCy0UFwKQiCdIJPZCcyl2Jw\n",
              "WdWglyrG/XwU3ZaJJSIiEjG4JHIDP5V50cBR5rJOZ4DOYAIARHQicxnq7yO1LzpVbG6kzmIeIiLq\n",
              "CQwuidzAX1oWt7/nssKyJO6vUsBf1fHdKzKZTMpeniquAcAel0RE1DMYXBK5gbgs7ihzWS4V83Q+\n",
              "IIyzFPVsP1sBAIgJ7vjyOhERUUcxuCRyA2fL4s3FPJ0PCEf0CwEAZOZVAwBG9Q/t9HMRERG1F4NL\n",
              "IjcQl8UbHS2L11sylwGdDy7HJYfbXG55RCQREVF3YHBJ5AZ+KnNwWe8oc1lrzlxGBXV+WXxcsm0w\n",
              "ycwlERH1BAaXRG7grBXRwdwqAEBcSOePn4wMVCMlynzCUHp0IEL8WC1ORETdj8ElkRv4S3suWy+L\n",
              "nyurw5asMshkwPyM+C59nwmWpXEuiRMRUU/hCT1EbtDWCT2f7MwBAMwcHI2kLp5tfu+MNJgEAffO\n",
              "SOvS8xAREbUXg0siN/BX2Q8uNY16fH0gHwCwdMqALn+fhDB//POaUV1+HiIiovbisjiRG/ir7S+L\n",
              "f7U/Dw1NRgyMCcTUtAh3DI2IiKhLGFwSuUFzK6LmzKXRJOCTXTkAzFlLmUzmjqERERF1CYNLIjew\n",
              "tyy+6WQJ8iobEeLng6tG93PX0IiIiLqEwSWRGzQvizcHlx9bCnmun9Bf6oNJRETU2zC4JHKD5syl\n",
              "ec/lqeIa7DxXAYVchsWTk904MiIioq5hcEnkBi1bEX28IwcAMGdYDPqFdr5xOhERkbsxuCRyAzFz\n",
              "qTOYUF6nw7eHCgAAt0ztevshIiIid2JwSeQGAermFrM/Hi2CzmDC4NggjEviSTpERNS7MbgkcgO1\n",
              "Ug6x09CFigYAwJC4YLYfIiKiXo/BJZEbyGQyqddlQXUjACDMX+XOIREREbkEg0siN/FTmZfG86vM\n",
              "wWV4gI87h0NEROQSDC6J3CRAbc5c5leZl8XDA9TuHA4REZFLMLgkchOxHVFVgx4AM5dEROQdGFwS\n",
              "uUmQr9LmMvdcEhGRN2BwSeQmLZulRwQyuCQiot6PwSWRm/QP97e5zMwlERF5AwaXRG5iHVzKZEAo\n",
              "g0siIvICDC6J3KR/WHNwGernA4WcDdSJiKj3Y3BJ5Cb9w5v3XIb4sVKciIi8A4NLIjeJC2kOLvVG\n",
              "wY0jISIich0Gl0RuYr0MXqczuHEkRERErsPgksgD1DO4JCIiL8HgksiNEsLMS+MTBoS7eSRERESu\n",
              "oXR+FyLqLp/fNhGf7LyA26cPcPdQiIiIXILBJZEbJUUE4K9/HOruYRAREbkMl8WJiIiIyGUYXBIR\n",
              "ERGRy3Q4uJw9ezZGjhyJjIwMTJs2DYcOHQIAnDlzBlOmTMHAgQMxfvx4HD9+3OWDJSIiIiLP1uHg\n",
              "cvXq1Thy5AgOHz6Mhx9+GEuXLgUA3HnnnbjjjjuQlZWFxx9/XLqeiIiIiPqODgeXoaGh0tcajQYy\n",
              "mQylpaXYv38/brrpJgDAwoULkZeXh7Nnz7psoERERETk+TpVLb548WL8/vvvAIANGzYgLy8PcXFx\n",
              "UCrNTyeTyZCYmIjc3FykpaW1erxOp4NOp7O5zmg0dmYoRERERORBOlXQs2LFCuTl5eH555/H448/\n",
              "3uHHv/TSSwgJCbH5t3fv3s4MhYiIiIg8iEwQBKErT+Dn54ecnBykp6ejsrISSqUSgiAgLi4O27dv\n",
              "b3fm8umnn8Ybb7zRlaEQERERkZt1KHNZXV2NwsJC6fLatWsRERGB6OhojBkzBp999hkAYM2aNUhI\n",
              "SLAbWAKAWq1GcHCwzT+FQtGFl0FEREREnqBDey41Gg0WLVqExsZGyOVyREVF4YcffoBMJsO7776L\n",
              "pUuX4sUXX0RwcDCWL1/eXWMmIiIiIg/V5WVxV7n66quRnJzs7mG4jdFoxN69ezFhwgRmcdvAeXKO\n",
              "c+QY58Y5zpFznKP241w519vmKCkpCQ888ECb9/GY4LKvq6mpQUhICDQaDYKDg909HI/FeXKOc+QY\n",
              "58Y5zpFznKP241w5541zxOMfiYiIiMhlGFwSERERkcswuCQiIiIil2Fw6SHUajWeeeYZqNVqdw/F\n",
              "o3GenOMcOca5cY5z5BznqP04V8554xyxoIeIiIiIXIaZSyIiIiJyGQaXREREROQyDC6JiIiIyGUY\n",
              "XLoJt7oSkSfge1Hb9Hq9u4dA1OswuOxB58+fx4kTJwAAMpnMzaPxTPX19e4eQq+g0+ncPQSPlZeX\n",
              "h+LiYncPw6OdOnUK33zzDQC+Fzly7Ngx3HzzzTh69Ki7h+LxcnNz+TvnRF97z2Zw2QMaGxvx4IMP\n",
              "Yt68eXjggQfw9NNP4/jx4+4elkepq6vD7bffjrvuugsFBQUAmFGxp66uDnfeeSeef/55VFVVAeA8\n",
              "ierq6vDwww/j8ssvx5IlS/DPf/4TAOfHWl1dHR555BHccMMNMBqN7h6ORxLn6NZbb8Xnn38uvVfz\n",
              "56i1hoYGPPTQQ5gzZw4WL16MV155BWVlZe4elkfpq+/ZDC57wP/+9z+UlJTg5MmTeO+991BQUIDn\n",
              "n38eGo3G3UPzCKWlpbjvvvtw4MAByOVyrF27FgAzKi3l5ORg6dKl+P3333HmzBns2LEDAOcJAA4c\n",
              "OIDLL78cRqMRmZmZePTRR/HCCy+gvr6e82Oxf/9+TJw4Efn5+Thw4AAWLVrk7iF5nB9//BHTpk2D\n",
              "TCbD5s2b8corr+D06dMA+HtmzwsvvICqqiqcPHkS//znP/Hrr7/itddeQ0NDg7uH5hH68ns2g8tu\n",
              "In4yaWxsxJkzZ3DFFVcAAAYMGICIiAjs3r0b77//vjuH6DH8/PywbNkybN68GePGjcP+/fuRmZkJ\n",
              "ADCZTG4enefw8/PDPffcg8zMTMTFxWHLli24cOECgL7xSbgt0dHRePPNN/HGG29AJpOhsLAQ1157\n",
              "LXJzc909NI+hUqmQmpqKG264ATKZDFu3bsXPP/+MY8eOuXtoHiMlJQWrVq3Cq6++Cj8/P5w8eVLa\n",
              "qsNMr63q6mocO3YMd999NwAgIyMDUVFR+P7776UEQV8XGBjYZ9+zGVy62KlTp3D77bfjhRdewIUL\n",
              "F+Dn5weFQoGNGzfi8OHDqKysREVFBa6++mocOXIE5eXl7h5yjzt//jw2bNggXQ4KCsKoUaMQHByM\n",
              "Sy+9FL6+vtKbk1zed39ET58+jXvvvRfvvvsuampqEBMTg6lTp8LPzw8LFixAbm4utmzZAqBvfBK2\n",
              "1nJu+vfvj+HDh6Ourg7PPPMMnnnmGURERODqq6/GF1980SczKdZzpNFoMHLkSMyePRsff/wxpkyZ\n",
              "gqeeegobNmzAtGnTsHHjRncP1y1a/hwNGjQIAwcOlPbHzZs3D7/88gsAQKFQuHOobifO1XvvvQeN\n",
              "RoPQ0FBotVq89957qKysRFlZGXx8fDB27FgcO3YMjY2N7h5yj8vNzcXevXuly5GRkZg0aVKffM/u\n",
              "u3+5u8HGjRuxcOFCDBkyBOfPn8c999yD77//Hi+99BIA4JlnnsGsWbMwYcIEzJw5E3l5eYiMjHTz\n",
              "qHuOIAh44YUXkJaWhn/961/YuXOndL147NXw4cMxfvx4nDlzBr/++iuAvpkx+Oqrr7BgwQLEx8fj\n",
              "p59+ws0334wtW7ZApVIBAC6++GIMGjQIO3bskAoOvP2TsKjl3CxevFh6ww4ICMAVV1yBnJwcvPzy\n",
              "y3j00Ufx9ttve/0beUst5+imm27C/v37ccsttyA4OBiLFi3C9u3b8cYbb+DPf/4z/v73v7t7yD2u\n",
              "rZ8j8f0oIiICaWlpOHfunDuH6nbWc/Xjjz/ihhtuwLFjx7B8+XJkZ2fj9ttvx6xZs3DZZZfhkksu\n",
              "we7du+Hn5+fuYfcYQRDw7LPPIjk5GW+88Ya0lUIQBGke+tp7NoNLFzp9+jSmT5+Ohx9+GO+++y4u\n",
              "v/xyfPLJJygsLMTHH3+M119/Hb/++ivuuusujBgxAj4+Pn0qo5KXlwe1Wo0vvvgCU6ZMwffffw+9\n",
              "Xi/94Rd/0WbPno20tDRs2rQJL7/8Ml5//fU+V0V+5swZ3HDDDXjqqafw5ZdfIj09HWvWrMGZM2ek\n",
              "+9x4440wGAzYtWsXXnnlFXz++ede/WYlajk3aWlpWLNmDbKysiCTyTB+/HjpvgsWLIBCoehzWZSW\n",
              "czRo0CAsX74cGo0G77zzDh566CHpvgsXLoS/v3+f/x0Tf46sf8ciIyNx5MgRhIaGAvDuYKAtLedq\n",
              "yJAhePvttyGXy/Hbb7/hb3/7GzZt2oQbb7wRI0aMQHh4eJ9q4SQGi8uXL4efnx+2bNkCo9Eo/W0T\n",
              "t3f1pfdsBpcuIggCGhsbERkZibq6OiiVSsyaNQtJSUlYvnw5APN+nrCwMGzatAnXX389Zs6cCX9/\n",
              "fzePvOckJCRg8eLFuO666zBkyBDk5+dj/fr1AMzzJ/4iJiQkwGAw4D//+Q/WrFmDyy67DAEBAe4c\n",
              "eo8yGAzIzc1FVFSUlNVdtGgRGhsbpWwuAAwaNAhKpRIPPfQQVq5ciZEjR3p9hq6tudm0aZPNfXfv\n",
              "3o1rrrkG06ZNk4KDvsDRHOl0Oqxbt84mo7R3717cfvvtuPTSS/k7Zud3bNiwYQgJCenTRYZt/TyJ\n",
              "7ayGDRuGiIgIbN68Gffffz8uu+wy+Pj4uHnkPWfo0KG47bbbsGTJEqSmpmLPnj04cOCAdLu4vasv\n",
              "vWczuHQBMTCKiorCvn37pHYDaWlpGDNmDGpqalBdXY3GxkasWLEC99xzD+699148/vjjbh55z5LL\n",
              "5YiOjgYAzJkzB/3798fGjRtRWFhok7389ttv8fHHH+O9997Dvn37kJGR4cZR9yxBEKBUKpGamooV\n",
              "K1ZI8zJx4kQkJSUhOzsbgLln2kcffYQff/wR77//Pg4ePIiRI0e6c+jdrr1zk5eXh2uvvRb33Xcf\n",
              "li1bhr///e99Zu9uW3OUnJwsLe+WlJRg0aJFuP/++/vce1F7f44AoLKyErNnz8a4cePcNVy3cvbz\n",
              "dP78eQCARqPB66+/jrvuugv33nsv7rrrLncOu8cplUokJCQAABYvXgydTofff/8dlZWVAMzzaDAY\n",
              "8OGHH/ad92yBOqSoqEjQ6XSCIAiC0WhsdfvUqVOFV199VaipqREEQRAOHDggDBw4UGhoaJAe7+0c\n",
              "zZH4tfjfH3/8UViyZInw9ddfC4IgCMePHxcEQRDKysp6crhuc/bsWennwmQy2fxXEAQhPj5e+PDD\n",
              "D6XLGzduFNLS0qTLWVlZPTTSnteZuUlNTZUur127todG6j5d/flZvXp1D43Ufbo6R31JV+fq9OnT\n",
              "PTRS97E3R9Zfi3/bPvroI+GGG24QDhw4IAiCIBQWFgqC4N3v2S31jY/zLrBy5UqMGTMG99xzj9RW\n",
              "SC6Xw2Qy2eyZeP7557F+/Xq8++67AMx7VTIyMtDU1AQAiI2N7fnB9xBncyRmj8T/zp07F+PGjcNL\n",
              "L72E0NBQ/PDDDzCZTF5f5LRq1SpkZGTgsccewx/+8AcA5uW2lm2X3nzzTbz22mvSklxeXh5mzZol\n",
              "/Sylp6f36Lh7QlfmZvbs2dBqtQCA+fPn9+i4e1JXf37EOfLmPpddnaO+tF/QVe9HAwcO7NFx96S2\n",
              "5kiw2tIl/m275ZZbEB0djcceewwhISH47rvvAHjne7ZDbg5uPV5DQ4Pw6KOPCtOmTRO2b98uCIIg\n",
              "pKSkCK+88orN/fbv3y/ccccdgl6vF7777jvhpptuEiZPniyMHDlS2L17tzuG3mPaO0cHDhwQ7rjj\n",
              "DqGiokIQBEHIzc0V+vfvL0yePFnYsmVLj4+7p9XV1QkPPvigcOmll0qvNzQ0VPjyyy9t7nfgwAHh\n",
              "L3/5iyAIgvDvf/9b+NOf/iSMHz9eGD16tLBv374eH3dP4Nw4xzlyjnPUfpwr59o7RwcPHhSefvpp\n",
              "QaPRCIJg/tsWHx8vTJ48Wfj99997etgegcFlO3z44Yc2S7VvvfWWMH/+fOnyP//5T2HgwIHCRx99\n",
              "JF1nMBiEzMzMnhymW7V3jj7++GNBEARBr9cL69evF955552eHqpbbdu2Tfq6oqJCmDt3rrBx40bp\n",
              "updeeklIS0sTPv30U0EQzMssdXV1wo4dO3p8rD2Nc+Mc58g5zlH7ca6ca+8crVy5UhAEQWhsbBTe\n",
              "fffdPve3rSWZIHhpHXwXvPnmm4iIiEB6ejrGjh2L6upqhIaGwmg0QqFQ4M4770RKSoq0Cf7cuXNI\n",
              "TEyUquNMJpPXFxB0dY76CnGeBg4ciDFjxsBgMECpVGLTpk149NFHkZycDIPBgH79+uGhhx6CTqfD\n",
              "kCFD+sTPEufGOc6Rc5yj9uNcOdfVOSILd0e3nmT9+vXC+PHjhQULFghPPPGE4O/vL6W5BaF50+41\n",
              "11xj82lGpNfre2ys7sI5ah9n83Tq1CmpuKusrEwYP368sG7dOul2g8HQ42PuKZwb5zhHznGO2o9z\n",
              "5RznyLUYXFqUlJQIV111lc0Py5w5c4Snn37a5n5VVVXChAkTBJPJJBw9elR47rnnhMrKyp4erltw\n",
              "jtqnvfNk7frrrxdWrVrVE8NzK86Nc5wj5zhH7ce5co5z5HpKd2dO3Umr1UKn0yEwMBDR0dF44okn\n",
              "MGbMGCn1n5qaikGDBgFo7mW5e/duGAwG/PWvf8WGDRuwePFihIWFufmVdB/OUft0ZJ6s6fV6PPnk\n",
              "k8jJycGkSZPcMPLux7lxjnPkHOeo/ThXznGOupd3b55ow5tvvonBgwfjtttuwx133AEAmDBhApTK\n",
              "5nj75MmT0qkVYquBLVu2IDMzE0ajEVu2bMEDDzzQ84PvIZyj9unoPIneeOMNjB49GiaTCRs3bkRi\n",
              "YmKPjrsncG6c4xw5xzlqP86Vc5yjHuDu1Kk7/P7778KECROEU6dOCSUlJcKYMWOEF1980abB+Zkz\n",
              "Z4T09HTpckFBgSAIgvDzzz8LR44c6fEx9zTOUft0ZZ52794tnDhxosfH3FM4N85xjpzjHLUf58o5\n",
              "zlHP6DOZy+rqaunrCxcuYOrUqRg0aBCio6Pxyiuv4MCBA9i2bZt0n/Pnz2PBggXQaDRYsGAB7r//\n",
              "fhiNRsyePRsjRoxwwyvofpyj9unqPD3wwAMwGo2YOHEihgwZ4oZX0H04N85xjpzjHLUf58o5zlHP\n",
              "8/rg0mAw4Omnn8acOXNwzz334Mcff0S/fv2wfv166T4zZsxAamoqtm/fLp0Lvn37drzxxhu49NJL\n",
              "MW3aNHz99ddQKBTuehndinPUPq6ap6+++srr5olz4xznyDnOUftxrpzjHLmRu1On3Wnfvn1CRkaG\n",
              "cO+99wpHjx4V3nzzTSE1NVXQ6XTCgAEDpIbegiAImZmZQlJSklBbWysIgiDMmDFDuOGGG4Sqqio3\n",
              "jb5ncI7ah/PkGOfGOc6Rc5yj9uNcOcc5ci+vDi5PnTol/Pvf/5Yu5+XlCTNnzhTOnj0rfPzxx0JE\n",
              "RISg0+mk22fMmCEcOnRIEARBqK+v7+nhugXnqH04T45xbpzjHDnHOWo/zpVznCP38voTempraxEU\n",
              "FATAfErM/PnzsWvXLgQFBWHevHkIDAzE5Zdfjl9//RXFxcVYt24d/Pz83DzqnsU5ah/Ok2OcG+c4\n",
              "R85xjtqPc+Uc58h9vH7PpfiDBQBZWVlIT0+Xrvv888+xcOFCrF+/Hqmpqdi4cWOf/MHiHLUP58kx\n",
              "zo1znCPnOEftx7lyjnPkPn2iibrYFHXPnj0YP348AOCzzz7DgAEDcN111+Gqq66CSqVy8yjdi3PU\n",
              "Ppwnxzg3znGOnOMctR/nyjnOkXt4feYSAORy88s8ffo0TCYTFi9ejHfeeUf6geIPFueovThPjnFu\n",
              "nOMcOcc5aj/OlXOcIzdx96bPnpKTkyPIZDJh/PjxwgcffODu4XgkzlH7cJ4c49w4xzlyjnPUfpwr\n",
              "5zhHPc/rC3pERqMRr776Kh588EGo1Wp3D8cjcY7ah/PkGOfGOc6Rc5yj9uNcOcc56nl9JrgkIiIi\n",
              "ou7XJ/ZcEhEREVHPYHBJRERERC7D4JKIqJ2Sk5MxaNAgjBo1CmlpaZg/fz527tzp9HFr167F7t27\n",
              "e2CERETux+CSiKgDVq1ahczMTJw9exZLlizBvHnzsGfPnjYfw+CSiPoSBpdERJ109dVX46677sKr\n",
              "r76KTZs2YfLkyRg9ejSGDRuGDz/8EACwYcMGrFu3Dq+88goyMjLwwQcfAAA+/fRTTJw4EWPGjMH0\n",
              "6dORmZnpzpdCROQyfeKEHiKi7jJx4kSsW7cOY8aMwfbt26FQKFBZWYnRo0djzpw5mDdvHq688kpk\n",
              "ZGTgwQcfBADs2LEDK1euxNatW6FWq7Ft2zbccMMNOH78uHtfDBGRCzC4JCLqArGbW0VFBW699VZk\n",
              "ZWVBqVSioqICx44dQ0JCQqvHfPfdd8jMzMTEiROl6yorK9HY2MjzjYmo12NwSUTUBfv27cPw4cNx\n",
              "1113Yd68eVizZg1kMhnGjBkDrVZr9zGCIGDJkiV48cUXe3i0RETdj3suiYg66bvvvsPbb7+NRx55\n",
              "BFVVVUhKSoJMJsPWrVtt9lAGBwdDo9FIl6+88kp89tlnyM3NBQCYTCbs37+/x8dPRNQdeEIPEVE7\n",
              "JScnQ61Ww9fXF/X19Rg6dCieeOIJTJkyBRs3bsTdd9+NgIAAZGRkICsrC4899hgWLFiAffv2YenS\n",
              "pVCpVLjnnntw22234csvv8Qrr7wCg8GApqYmXH755Xj11Vfd/RKJiLqMwSURERERuQyXxYmIiIjI\n",
              "ZRhcEhEREZHLMLgkIiIiIpdhcElERERELsPgkoiIiIhchsElEREREbkMg0siIiIichkGl0RERETk\n",
              "MgwuiYiIiMhlGFwSERERkcswuCQiIiIil/n/qVvTiCSZaPQAAAAASUVORK5CYII=\n",
              "\">\n",
              "      </div>\n",
              "      <script type=\"text/javascript\">\n",
              "        (() => {\n",
              "          const chartElement = document.getElementById(\"chart-e9200f8b-5be6-4690-a8a1-7badfac502d4\");\n",
              "          async function getCodeForChartHandler(event) {\n",
              "            const chartCodeResponse =  await google.colab.kernel.invokeFunction(\n",
              "                'getCodeForChart', [\"chart-e9200f8b-5be6-4690-a8a1-7badfac502d4\"], {});\n",
              "            const responseJson = chartCodeResponse.data['application/json'];\n",
              "            await google.colab.notebook.addCell(responseJson.code, 'code');\n",
              "          }\n",
              "          chartElement.onclick = getCodeForChartHandler;\n",
              "        })();\n",
              "      </script>\n",
              "      <style>\n",
              "        .colab-quickchart-chart-with-code  {\n",
              "            display: block;\n",
              "            float: left;\n",
              "            border: 1px solid transparent;\n",
              "        }\n",
              "\n",
              "        .colab-quickchart-chart-with-code:hover {\n",
              "            cursor: pointer;\n",
              "            border: 1px solid #aaa;\n",
              "        }\n",
              "      </style>"
            ]
          },
          "metadata": {}
        },
        {
          "output_type": "display_data",
          "data": {
            "text/plain": [
              "from matplotlib import pyplot as plt\n",
              "_df_9['High'].plot(kind='line', figsize=(8, 4), title='High')\n",
              "plt.gca().spines[['top', 'right']].set_visible(False)"
            ],
            "text/html": [
              "      <div class=\"colab-quickchart-chart-with-code\" id=\"chart-1ebe9027-991c-4874-b694-846a1f369c1e\">\n",
              "        <img style=\"width: 180px;\" src=\"data:image/png;base64,iVBORw0KGgoAAAANSUhEUgAAAqIAAAFrCAYAAAAKDusSAAAAOXRFWHRTb2Z0d2FyZQBNYXRwbG90\n",
              "bGliIHZlcnNpb24zLjcuMSwgaHR0cHM6Ly9tYXRwbG90bGliLm9yZy/bCgiHAAAACXBIWXMAAA9h\n",
              "AAAPYQGoP6dpAACA/UlEQVR4nO3dd3yT1f4H8E+Stuneg7Z00MmmrLJEQQQUvYAgV0QFVEBwXPdV\n",
              "r+s6rngVB9eNIv5wICiKCKKCMsreZZbdQffeTTOe3x/J87RpkzZt0yZtP+/XKy8znic5OYb0m+85\n",
              "53tkgiAIICIiIiLqYHJbN4CIiIiIuicGokRERERkEwxEiYiIiMgmGIgSERERkU0wECUiIiIim2Ag\n",
              "SkREREQ2wUCUiIiIiGyCgSgRERER2QQDUSIiIiKyCQaiREQd6KabbsKrr75q8fH//ve/cc0117Rj\n",
              "i4iIbMfB1g0gIuoqxo0bh2uuuQavvfaa0f3z58+HRqPB119/jS1bttiodURE9ocZUSIiIiKyCQai\n",
              "REQdaNy4cXj++eel2wcPHsTw4cPh4eGBYcOG4Z133oFMJmt03ssvv4zg4GD4+vri/vvvh0aj6chm\n",
              "ExG1CwaiREQ2UlJSgptuugl/+9vfUFhYiK+//hqffPJJo+MOHDgANzc3pKWlYf/+/fj+++/x1Vdf\n",
              "2aDFRETWxUCUiMiKli1bBm9vb6PLt99+a/LYTZs2wdHREc8//zycnJzQu3dv/OMf/2h0XFhYGJ58\n",
              "8kk4OTkhLi4OEyZMwMGDB9v7rRARtTsGokREVvTkk0+ipKTE6DJnzhyTx2ZmZiIsLAxyed1XcWRk\n",
              "ZKPjQkJCjG67ubmhvLzcqu0mIrIFBqJERDYSGhqKjIwM6HQ66b60tDQbtoiIqGMxECUispFbbrkF\n",
              "tbW1WLp0KWpra3H+/Hn873//s3WziIg6DANRIiIb8fb2xq+//oqffvoJvr6+mDNnDu69914olUpb\n",
              "N42IqEPIBEEQbN0IIiLSe++99/Dxxx/j3Llztm4KEVG7Y0aUiMiG/vzzT2RkZEAQBBw+fBjLli3D\n",
              "nXfeaetmERF1CG7xSURkQykpKbj77rtRUlKCwMBA3HXXXXj66adt3Swiog7BoXkiIiIisgkOzRMR\n",
              "ERGRTTAQJSIiIiKbYCBKRERERDbBQJSIiIiIbKJTBqLLly+3dROIiIiIqI06ZSDKvZiJiIiIOr9O\n",
              "GYgSERERUefX4kA0MjIS8fHxSEhIQEJCAtauXYuamhpMnz4dcXFxGDRoECZOnIiLFy+aPD81NRUK\n",
              "hUI6PyEhAZcuXWrzGyEiIiKizqVVOyutXbsWCQkJ0u2amhosWrQIN910E2QyGT744AMsWLAAO3bs\n",
              "MHm+h4cHjh8/3pqXJiIiIqIuwipD887OzpgyZQpkMhkAYOTIkUhNTbXGU0OlUqGsrMzootVqrfLc\n",
              "RERERGQ7rQpE586diwEDBuC+++5Dfn5+o8eXL1+OadOmmT2/srISw4cPx5AhQ/DKK680GVguXboU\n",
              "Xl5eRpeDBw+2ptlEREREZEdaHIju2rULJ06cwNGjR+Hv74958+YZPf7666/j4sWLWLp0qcnzg4OD\n",
              "kZmZiUOHDmHbtm1ISkrC22+/bfb1nn32WZSWlhpdEhMTW9psIiIiIrIzLQ5Ew8PDAQCOjo549NFH\n",
              "kZSUJD22bNky/Pjjj9iyZQtcXV1Nnq9UKhEYGAgA8PX1xb333mv0HKaO9/T0NLooFIqWNpuIiIiI\n",
              "7EyLAtHKykqUlJRIt9esWYPBgwcDAN555x2sWbMGW7duhbe3t9nnyMvLg1qtBqCf//njjz9Kz0FE\n",
              "RERE3UeLVs3n5uZi5syZ0Gq1EAQBUVFRWL16Na5evYonnngCUVFRGD9+PAB9JvPAgQMAgBdffBEh\n",
              "ISFYvHgxdu/ejRdffBEKhQIajQbXX389nnvuOeu/MyIiIiKyazJBEARbN6KlHn/8cbzzzju2bgYR\n",
              "EXUzv57MRvLVEjx2QxycHTlNjKitWlVHlIiIqDt69LvjqNXqcDm/Ep/NHWbr5hB1etzik4iIyEK1\n",
              "Wh0AYOuZXOy9WGDj1hB1fgxEiYiILFCjNq55fTit2EYtITLtYl4FXvnlDEqr1bZuisU4NE9ERGSB\n",
              "shrjP+6phZU2agmRafO+OIjMkmpcLa7Cik4ydYQZUSIiIguUNcgypRdW2aglRKZlllQDAP44k2vj\n",
              "lliOgSgREZEFGg53phUZB6KX8yvw5Z4rqK41v201UXupUGmMbpfXdI7heQaiREREFiir1v+hD/fV\n",
              "7xyYX65CpeGP/67z+Zj2wR78+5cz2HQiy2ZtpO7rXE6Z0e0Dl4ts1JKWYSBKRERkATEjGubrAi8X\n",
              "RwBAelEVvjmQhnu+PIRyQ1CaXVpjszZS93U2u9zo9t5LhTZqScswECUiIrKAGIh6Ojsi0k+fFX1h\n",
              "wyk899MpaHUCfFz1wWlRZa3N2kjd19lsfUbUz80JAHCloMKWzbEYA1EiIiILiIuVvFwcEe7nBqCu\n",
              "hNPjE+OwZFw0AKCkioEodTwxEL0uPgAAkFumsmVzLMZAlIiIyAJSRtTFEb389YGok0KO5bMT8I8J\n",
              "sfB1UwIAiqo6xyIR6jp0OgHncvRD8+PiAwEAuWWdY4oI64gSERFZQKwj6uXiiJlDeqK4sha3DgnF\n",
              "kHAfAICvm35ovphD89TBMoqrUFmrhZODHCOjfAEAhZW1qNXo4ORg3zlHBqJEREQWqJ8R7eHljFen\n",
              "9zd63MdVPzePc0Spo4nD8nFB7ghwV8JRIYNaKyC/QoVQbxcbt65p9h0mExER2Ym6xUqmczi+hkUi\n",
              "xYY5oleLqzrN8Ch1buKK+T49PCGTyRDo4QygcwzPMxAlIiKygFhHVCzd1JCPIRCtqtWiuLIWU5Yn\n",
              "YfyyHTh4pXPUc6TOS8yI9g72BAAEeernK+cxECUiIuoa6g/Nm+KhdICDXAYAOHClEGU1GlTVajF/\n",
              "1UEcSmUwSu1DEAScNRSz7xPsAQAI8hQzova/cp6BKBERkQXql28yRSaTwdswT/RAvSxoVa0W8784\n",
              "iCNpDEbJuq4WV2H+qkPIKKqGXKYfmgfqAtEcZkSJiIg6vxNXS6SdkzydTQeiQN3KeTEDevuwMIyO\n",
              "9kNlrRbzvjiEzSeyodMJ7d9g6tK0OgFf7L6CSe/uws7z+XBSyPHvqf2k6SF1GVEGokRERJ3a9pQ8\n",
              "TP1gj3Tb08V8wRlx5fypTP1Q6YCeXlg5bzhGR/uhQqXBg98exb9/Od2+DaYu79Ndl/DKpjOoqtUi\n",
              "sZcvtjw6FnNHRUqPi3NEczrBdrMMRImIiMzQ6gS8sSVFun3niHAoHRRmjxdXzotiA93h4qTAF/OH\n",
              "4/7rogAAPxy5Co1Wh7yyGqw7nIGqWk37NJ66rH2GfeTvvy4K3y0ciegAd6PHexgyonsvFeKm5Un4\n",
              "cPtFXCmo7PB2WoKBKBERUT1JF/Kl+ZwbkzNxLrccns4OSH5xEv5z64Amz/VpEIjGBekXjzg7KvD0\n",
              "5N7wUDqgqlaLlJxy/Pe3c/jnDydwx4r9KKyw/0Ul1Dq1Gh3mfLYfi786AkHQT8uoVJn/8SEe05Ss\n",
              "kmoAwHWxAZAbFsjVNyTCBzf17wEHuQxns8vw1u/nMH7ZDizdcraV76L9tDgQjYyMRHx8PBISEpCQ\n",
              "kIC1a9cCAC5cuIDRo0cjLi4Ow4cPx+nT5oceVq5cidjYWERHR2PhwoVQq7kdGhER2V5RZS3uXnkQ\n",
              "Mz/eh+LKWrz9x3kAwOJx0fByNT83VOTrWheI+rs7GQWmcrkMgyP0uzAdSSvGhTx97cfkq6WY9ck+\n",
              "ZBRVWfOtkJ3YeT4fey8V4rfTOcgtU2HplrMY8O/f8d/fUhodm1+uwpg3/sJT3yebDUgFQUBWiX7I\n",
              "PcRMsXpnRwU+vmsoDj9/A96cORDXxgVAIZdhcJi31d6XtbQqI7p27VocP34cx48fx+233w4AuP/+\n",
              "+7Fo0SKcP38eTz/9NObPn2/y3CtXruCFF15AUlISLl68iNzcXKxYsaLVb4CIiMha6s+pe3jNMVwt\n",
              "rkaghxL3jO5l0fmjo/2kLRWnDAhu9PiweoFouiHw9HR2wOWCSsz8eK9UD5K6ji0ns6Xrj609jk93\n",
              "XoZOAD7ecQk7zuUZHbvrfD6ySmvw/ZGr+PZgusnnK61Wo1qtBQD08HJu8rW9XZ3w9+FhWH1vIg4/\n",
              "dwPG9w5s47uxPqsMzefl5eHw4cO46667AAAzZ85ERkYGLl682OjYH374AVOnTkWPHj0gk8mwePFi\n",
              "rFmzxuxzq1QqlJWVGV20Wq01mk1ERGRE3BUJAHZfLAAAPHJDLFyczM8LrW90jD9OvDQJp16ejFem\n",
              "9W/0+FBDILr7YgFKqvSjgRseHIO4IHfklatw75eHoOWq+i6jRq3FH2dypdv7LuvndsYbpmw8+f0J\n",
              "o2kZ53PLpev/2XwW5TWNR4wzDcPy/u5OcHa07HMJ6KeNNDW/2VZaFYjOnTsXAwYMwH333Yf8/Hxk\n",
              "ZGQgODgYDg76lYQymQzh4eFIT28czaenpyMiIkK6HRkZafI40dKlS+Hl5WV0OXjwYGuaTURE1KSG\n",
              "+8RH+rni78PCWvQczo4KuCtNr6wfFOYNuazudfzdlYgKcMf394+GQi5DdmkNCjhftMv47VQOKkzM\n",
              "B/3inuGIC3JHQYUKT68/IQ3Dn82pC0SrarX4/XRuo3ObG5bvbFociO7atQsnTpzA0aNH4e/vj3nz\n",
              "5rVHuyTPPvssSktLjS6JiYnt+ppERNQ9NQxEn5gUD0eF9db1uisd0MewDSMAhPvqgwkvV0f4GeaT\n",
              "5pczEO0KBEHAZ0mXAQC9e3hI90f5uyHU2wXv3T4YTgo5tp3Nw+wV+/HKL2ew35AxHRcfAAD4+Xhm\n",
              "o+fNLtVnRIObGZbvLFr8rys8PBwA4OjoiEcffRRJSUkICwtDdnY2NBp91C8IAtLT06VjG56flpYm\n",
              "3U5NTTV5nEipVMLT09PoolDYX2qZiIg6p7yyGmw5mQ1BEKRANCbQHUtnDMAtAxvP82wrcXgeACL8\n",
              "3KTrgeL+4OX2X/uRmrfvciFOZ5XB2VGOV6fXTdMYHukLAOgb4ol/3hgPQL8T1xd7rqBWowMAPDVZ\n",
              "f/+eiwWNPg/i0Hy3zIhWVlaipKREur1mzRoMHjwYgYGBGDJkCL7++msAwPr169GzZ0/ExMQ0eo6Z\n",
              "M2di48aNyMnJgSAI+OSTTzB79uy2vQsiIqJW+tdPJ7Hkm6NY/ucFaY7oTf174I7EcMhkjUvjtFX9\n",
              "QDTM11W6HuBuCEQ7wf7g1LzPdumzobOGhiEhzBtOhsz6sMi6///3jumFmxssapPLgH4hXkgI84ZO\n",
              "ADYlZxs9ni0OzXt1w0A0NzcX48ePx8CBAzFgwADs3LkTq1evBgB8+umn+PTTTxEXF4c33ngDq1at\n",
              "ks5bsGABNm7cCACIiorCyy+/jDFjxiAmJgYBAQG4//77rfiWiIiILLftrH7l8nvbLqDQkBH1cXVq\n",
              "6pQ2qR+IhtcLRAM99EOtHJrv/C7klmP7uXzIZMB91/SCo0KOif2C4O/uhHHxdSvX5XIZPrxzCFLf\n",
              "uBnOjvqQTPxMTEsIAdB4eD6ri2VEze9TZkJUVBSOHTtm8rH4+Hjs27fP5GOff/650e2FCxdi4cKF\n",
              "LXlpIiIiq1NrdUa3/zIEpX7u7ReIhnq7INTbBZkl1YgNrNsRp25onoFoZ/d50hUAwKS+QYj010+/\n",
              "+HDOEOh0gskC9ADwy0PX4OVfzuDB8frR5FsGhuC1zWeRfLUUVwoq0cvwPNmGEmPB3t10jigREVFX\n",
              "0bCIvFifsT0zojKZDB/dOQRv3TYQg+oVGA/w4BzRriCvvAY/HdNnMRddG2X0mLkgFABigzzw9YIR\n",
              "GBXtB0D/eRgT4w+gLiuq1QnIKdN/PkK7SEaUgSgREXVb5vbfbrhnvLUNCvPGrAZloQINgSiH5ju3\n",
              "r/aloVarw+BwbwyN8G3Tc02XhuezIAgC8sproNUJcJDL4G+YU9zZMRAlIqJuSwxE+4d6Gt3f3oGo\n",
              "KQGGOaLdZWj+SkElTmWW2roZLXYxrwLVtaY31tlwLBMf77gEAFg4NsrkMS0xqV8PODvKcaWgEicz\n",
              "S6X5oT28nKFoIrvamTAQJSKibutSvj4QHRdnvPWhLQLRQI+6OaLm9hnvKgRBwIS3d+CW93cjrdB0\n",
              "Vtoenckqww3v7MTN7ycZbTxQVFmLj3ZcxKNrj0OjEzA9IQQ39uvR5tdzVzrghj5BAICNx7O6XDF7\n",
              "gIEoERF1Y1cKKgAAUQFuRnPuWrJ1orWIc0RrNTqUVTfejacrKaiohbiT6Y5z+bZtTAtcyNPvfHQ5\n",
              "vxLzvjiIsho1tpzMxrDXtuLN384B0JdkeufvCU3OB22JKYbyTjvP59etmO8ixewBBqJERNSNiUPz\n",
              "vfzdEOpj2yyTs6MCns76YjYZxVXNHN25pddbJCbuJtQZFNfbeet0VhkW/N9hvLvtPHQCEObrgpen\n",
              "9sMLt/SxWhAKAKOj/SCTARfyKnAsvQQAM6JERESdXqVKg1xD8fhe/m6Y1DfIxi0C4g1bQS74v8NS\n",
              "9qsrSi+qG47fc7EAmgZltOxVSbUaADA80gceSgccvFKE87kVcHNSYNPDYzFvdKTVN0HwdnXCgFAv\n",
              "AMBvp3MAAMFdKBBtUR1RIiKirkLMhvq6OcHb1QnzR0dCpdFJJXNs4c3bBuGeVQeRWliF7w9fxSM3\n",
              "xDZ5/PaUPHx/JAM6QxwnkwG3Dg7FJCvMT2xP6YV1QXZZjQYnMksxJNyniTPsQ0mVGIj64qnJvXH3\n",
              "ygNQaXSYnRgOLxfHdnvda2L8ceJq3cKu0C5SQxRgIEpERN1U/WF5AHBQyKVi4rbSy98Nd46IwH9+\n",
              "PYuUnLJmj3910xlcblCC6nhGif0Hog3qt17Mregkgah+aN7b1RGJvXzxf/cmYmNyFh6+vn0/N+N7\n",
              "B+Ijw2p8AAjuItt7AhyaJyKibqphIGovxOH5vZcKMendnfj3xtMmj9PpBGku6TM39cbLU/sB0O+8\n",
              "U2oYQrZX4tC8m5N+UZi4W5C9E4fmvV30VRVGRvnh9VsHwLsdN0AAgGERPpgzIly63ZXmiDIjSkRE\n",
              "3ZIYiEYF2Fcg2jtYH4iWVqtRWq3G+dwKTO7XQ9pxR5RXroJaqy9uvuCaXnBQyPHJzkvILq3Bhdxy\n",
              "DItsWzH19iRmREdE+eGvlDzklHWO+bDi0Ly3a/sNw5sik8nw6rT+8HV1gqtS0a7TADoaM6JERNQt\n",
              "iUPaUXaWEQ1wVzaqY/rKpjPQ6oxri141ZEODvZ3hoND/OY8N0gex53MrOqClzSutVqNGbVz8vUat\n",
              "lRaJjeilD5Y7S0ZUzDS3dwbUFIVchicnx+OBcbadPmJtDESJiKjbEQQBV/L1wVovf3cbt8aYTCZD\n",
              "z3qlpFwcFTibXYZ1hzOQVliJu1cewDt/nMPZbP0c0vr1T+OD9O/lfG55xzbahLzyGlz75nbMXXnQ\n",
              "6P6UHH3bPJQO6B2s39Equ6RzBKLF9eaIknVwaJ6IiLqdospalNVoIJMBEX6utm5OI/ULAD05OR6v\n",
              "bjqDZb+fw7BIHyRdKEDShQLp8Z4+de0XM6Ji4fWGKlQaFFfWIsy3/d9z0vkClFarcTC1CNml1dIC\n",
              "mw3HMgEA18UHSIXZs0vtf2hepxPqZUQZiFoLM6JERNTtiPNDQ7xcbLKLUnOeu7kvFHIZ/v23vpg7\n",
              "KgJRAW4orKzF76dzGx1bP3sa18zQ/P1fHcb4ZTtw8mr77/Fev1D9vkv667UaHX4+rg9EZw7tKdXD\n",
              "LKvRoFLVPrtJVddq8dup7DY/f3mNBuLOq11pjqatMRAlIqJu57KdLlQSJfbyxYXXbsK80ZFwVMjx\n",
              "ws19pceiAtzQP9RTul1/aD420B0yGZBfrjLaCx0AzmaXYc/FQmh0AtYeTm/393DgSpF0fa8hEP0r\n",
              "JQ/FVWoEeCgxNsYf7koHeCj1g7M5Ze0zPP/KptNY/PVR/OfXs216npJq/bC8q5MCSgf7+/HSWTEQ\n",
              "JSKibsdeSzfVJ5fLpF16xsUHYFx8AABgTmI4xsUFSsfVH5p3UzogOkA/TzQ5o8To+b47WBd8bj6R\n",
              "DbWVdjOq1ejw8JpjmPfFQXzw1wXsv1yIcznlRrVCxYzo+qNXAQAzBodKC6x6GIbnc6y8YOnr/Wl4\n",
              "Y0sK1hzMAAB8e6BtwXexuGKe2VCr4hxRIiLqdi5LC5XsNxCtTyaT4YM5Q7D3YgEm9AnCkbRifLD9\n",
              "IgDjoXkASAjzxsW8ChzPKMGEPvptS6trtfjRMDfTUSFDcZUaSRfyMaKXfh9zZwcFcstrkF5YhcLK\n",
              "WoyJ9oeXhfMg914qwC/JWQCAnefzjR6LC3LH5fxKZJZUIzmjBNtT8gDoh+VFPbyccSGvwqpbmm49\n",
              "k4vnN5wyus9R0batN+uK2Xf8ivmujIEoERF1O50hI9qQu9JB2jFpSLi3tP94w+LmCWHe+OHIVRyv\n",
              "lxHdfDIb5TUahPm6YELvIHy5NxUf77iEf6w5jqpaDRwUctRq6jKks4b2xFuzBlnUrkOp+iH4QWHe\n",
              "6OnjgkNXipBXrkJckDuev7kvlv95AUfSivHchpPQ6AQMCPWS5rIC+nm6AHC1uHWBaFWtBodSi1Fd\n",
              "q8Hkfj2QW6bCP39IbnSch7NlgbUgCCb3i+dCpfbBQJSIiLoVrU5AaqF+2Fgcxu5sHBRybHxojMmA\n",
              "KSHMG4B+q0+dToBcLsMaw7D87OHhGBPjjy/3puJQarF0Tq1GBwe5DD5uTsgvVxkFsc0Rn2dOYhhu\n",
              "Hx4OQRBQVauFm2Hu58ErRTiSVoxTmfpyUzOHhBqd37+nF9YezsCfKbl4bGKcxa8L6IPGGR/tlUpC\n",
              "LZ0xABuPZ6G4Sg0PpQPK6y1QKq6qRa1GBycH07MSVRotnvvpFHacy8Ondw/D0AjjLUeLK1m6qT1w\n",
              "jigREXUrWSXV+oBEIe/UWyWaCkIBoHcPDzg7ylFeo8Ebv6XgVGYpjqQVQyGXYdbQnhjU0wuR9UpW\n",
              "LZ+dgKR/jkfKqzfipwdGAwBSCystmkNaVqOWgtbhhp2cZDKZFIQCMNoRylEhw9QE40D05gHBcJDL\n",
              "cCqzDBfz6lb7f3cwHWPe+KvRcH99R9OLpSAUAF76+TT2XS6Eq5MCXy0YYXSsIAC5TSyIenb9Sfxw\n",
              "5CoKKmrx0sZT0DXYQKCoynbF7LuyVmdEV61ahXvvvRc//fQTpk+fjhEjRkCl0q/Q02g0OH36NJKT\n",
              "kzFw4MBG58pkMvTv3x8KhX7V2fvvv4+xY8e2tilEREQWE4flw/1coZC3bd6gPXJQyDGhdxA2n8zG\n",
              "il2XpWzoDX0CEeipXxg0LSEUy/+8gH4hnpg6KEQKakO8XODqpEBVrRZphVWICXSHRqvDgStFyCyp\n",
              "Rl5ZDXLL9MPuCrkc//rpJADAz83J7DSHoRE+cFLIUavV4fregY12jfJ1c8LYWH9sP5ePRasPI8BD\n",
              "CZ0gSJnWz5Mu47q4AJPP/fNx/dzUSX2DsO9SoZQBfXVafySEeSPEyxlZ9RZBZZZUm62h+seZutJY\n",
              "pzLLsDE5C9MH1wXNmYapA2LtU7KOVgWiqamp+OyzzzBy5EjpvgMHDkjXf/jhB7z88ssmg1BRUlIS\n",
              "vL29W/PyRERErSYWTw/z6bzZ0OYsn52AMTH++NdPJ1Feow/OZieGS4/ff10UBMAoCAX0K/VjAt1x\n",
              "4mopLuaVIybQHcv/vID3/7rY6DV6eNYFZOPiA81maJ0dFbg2zh/bzuZhzogIk8f8fVgYtp/Lx+WC\n",
              "Sqm0luhwajFUGm2jkklFlbXYdCIbAHDnyAjEBrnjw+2XMD0hBDMMw//rHxiNA5eLsPZQBvZdLjRb\n",
              "OF+l0aLCEMTef20UPt11GW/9fg439u8h1ZnNMGyp2hGbAXQnLQ5EdTodFixYgPfffx9PPPGEyWNW\n",
              "rlyJ++67r82NIyIisjZxX/MeXTiz5aCQ447EMGxMzsT+y0UI9XbBtbF1WUVXJwc8bmY+ZkyAGIjq\n",
              "h8m3nMoBoF8gFRPojiNpxbiUXynV/XzrtoG4sX+PJtvz9qwEZBRXob9hgVVDN/bvgW8XjkBxpVq6\n",
              "L9BTiSVfH0VBhQqHU4sxJsZfeiyntAa3fbIXRZW1CPFyxphoP/0lxh+Jkb5SUBzs5YLpg0Olnaiy\n",
              "zGwlWmIYdpfLgEduiMXG5CxkllTj//am4v7rogEAVw3lqOqXy6K2a/Ec0XfeeQdjxozB0KFDTT6e\n",
              "kZGBnTt34q677mryeSZMmIBBgwbh8ccfR2VlpdnjVCoVysrKjC5arbalzSYiIgJQN0+wh2fXzYgC\n",
              "+mlw/57aD/1CPPH0Tb0tnoYQY9ivXiypdDGvAnIZsGp+It68bRDuqJdZDfV2waxhYc2uSPdydTQb\n",
              "hIptHR3tj5sHBkuX4ZG+0pD8jnN5Rse/tvkMrhZXI9zXFV/emwgHhRwOCjlGR/tL9UnrC/XW/+gw\n",
              "VyKqyLAQycfVCa5ODnhiUjwA4IPtF1FcqV/klG343IT5du3PTUdrUSB66tQprF+/Hs8//7zZY778\n",
              "8kvccsst8Pf3N3tMWloajhw5gr179yI/Px9PPfWU2WOXLl0KLy8vo8vBgwdb0mwiIiJJXUZUaeOW\n",
              "tL/ePTyx+R9jMXVQiMXnxAbqSyudyylH0gX9QqFBYd5SXdFx8XXF9OsvRGoPE/roX2vD8SyoNPok\n",
              "1KHUImw6kQ2ZDPjkrqFGpaDMERelmSsRVWyoEepjmL966+BQ9An2RHmNBu//dRFZJdUQBMDZUY4A\n",
              "967/uelILQpEk5KSkJqaitjYWERGRmL//v1YtGgRPv74YwD6MgqrVq1qdlg+PFz/a8rNzQ0PPPAA\n",
              "kpKSzB777LPPorS01OiSmJjYkmYTERFJcqRAlJktUwb19IJcBqTklGPFrssAYDSsHx3gJhXRHxXV\n",
              "voHoDX2CEOzljPxyFTYcy4ROJ+CVX84AAGYPD0PfEM9mnkGvd7D+uINXilBeo270uDglwNewIl4h\n",
              "l+FfU3oD0O/QdCxDv3Cqp4+r2bmw1DotCkSXLFmC7OxspKamIjU1FSNHjsSKFSuwZMkSAMBff/0F\n",
              "jUaDiRMnmn2O4uJiVFXp51nodDqsXbsWgwcPNnu8UqmEp6en0UVcbU9ERNRSOdLQfNedI9oWgZ7O\n",
              "uMGwI9OlfP3UuYl9g6THZTIZ/jtzIBZdG4W/tSDT2hpODnLcd00vAMCnuy7jhyNXcTKzFO7KuuFz\n",
              "Swzq6YWoADdUq7XYbFjgVF9RVeMaoWNjAzA43Bu1Wh3+u+UcgK69wM1WrFpHdOXKlbjnnnsglxs/\n",
              "7SeffIIXX3wRAJCSkoKRI0di0KBBGDBgAAoLC/Hee+9ZsxlEREQm1ai10sKUrrxYqa3uHlW3un3O\n",
              "iPBG8zvHxPjjX1P6mC0Ob02zE8Ph4eyAy/mVeP5n/badD18fA/8WDJHLZDL8fVgYAODbg+nQNqgR\n",
              "WmKYI9qwtNT80ZEA6n68cMW89bVpZ6UdO3YY3f72229NHrd48WLp+qhRo3DixIm2vCwREVGriMPy\n",
              "Lo4KeDpzc0FzxkT7Y3x8AIqr1Hj2pt42bYu70gF3j4zARzsuoVajQ4SfK+aPiWzx88wYEop3t57H\n",
              "iaulWPbHOTx9Y937KmowR1Q0ZUAw3vztHDJLxJJfDEStjTsrERFRtyFmtoK9nDnXrwlyuQyr7knE\n",
              "hgfHWLxHe3uaPyZSyr4+N6VPo5qilgj0cMZ/Z+rrm3+84xJ+OnZVeqxYWjVv/F4dFXJ8u3AEbh4Y\n",
              "jDBfF4yLN11Yn1qPPweJiKjbEDOiQZwf2qkEejjj87nDkFtWYzRftaWmDw7F+dxyfLTjEp5efxKR\n",
              "fm4YHO6DYsN0DR8T23dG+LnhwzlDWv2a1DRmRImIqNuQFipxfminc21cAGYNC2tzJvvJSfG4oU8Q\n",
              "ajU6LPrqCLJLq6XyTQ3niFL7YyBKRETdRk432FWJmiaXy/De7ATEB3kgv1yFFbsu1xW0ZyDa4RiI\n",
              "EhFRtyEFohya79bclQ64/7ooAMDpzDKpkoKpoXlqX5wjSkRE3UY2h+bJoHcPfZH7E5klqFHrANQV\n",
              "tKeOw4woERF1G7nMiJJBdKAbHOQyKQhVyGXwYEmvDsdAlIiIugWNVoe88rryTdS9KR0UiAl0l24P\n",
              "CfeGXM6SXh2NgSgREXULBRW10An6zJdfC3bloa6rdw8P6Xp7b1dKpjEQJSKibkHcHSfIQwkFM18E\n",
              "wNet7gfJTf2DbdiS7ouBKBERdXkLVx/GzI/3AgCCOCxPBjOGhEIuA27s1wMBHsyS2wJn5RIRUZem\n",
              "1QnYeiZXus35oSTqH+qFnU+Nhz+natgMA1EiIurSCipURre5vSfVF+brausmdGscmicioi4tyzA3\n",
              "VFSr0dmoJUTUEANRIiLq0rINtUNF0weH2qglRNQQh+aJiKhLEzOik/sF4fmb+3IolsiOMCNKRERd\n",
              "mpgRjfBzYxBKZGcYiBIRUZeWXarPiHK1PJH9YSBKRERdWmaJuK2ni41bQkQNMRAlIqJOIae0Bn97\n",
              "fzfe2JICjdbyle/ZhjmiId7MiBLZGy5WIiKiTuGX5CyczCzFycxSpBZU4pO7hzZ7Tq1Gh3xDHVFm\n",
              "RInsT6szoqtWrYJMJsOGDRsAAOPGjUOvXr2QkJCAhIQEvPvuu2bP3bRpE3r37o3Y2FjMmDEDZWVl\n",
              "rW0GERF1E4dSi6Trv53OwZms5v927LtcCEEAXBwV8HNzas/mEVErtCoQTU1NxWeffYaRI0ca3f/u\n",
              "u+/i+PHjOH78OB577DGT51ZUVOC+++7Dhg0bcOHCBYSEhODVV19tTTOIiKibEAQBh9OKAdQtOlp3\n",
              "OEN6XKcT8NqmM/jgrwsQBEG6779bUgAAdySGQy6XdXCriag5LQ5EdTodFixYgPfffx9KZcv3Zt2y\n",
              "ZQsGDx6M3r17AwAeeOABrFmzpsXPQ0RE3cel/EoUVdZC6SDHa9P7AwB+PHoVNWotAGD/5UJ8vvsK\n",
              "lv1xHu9uPQ8A2JichTPZZfBQOuCh62Ns1nYiMq/Fgeg777yDMWPGYOjQxnNznnnmGQwYMAC33347\n",
              "Ll++bPL89PR0RERESLcjIyORnZ0NjUZj8niVSoWysjKji1arbWmzqRPLLavB2WxO3yDqzsRh+YQw\n",
              "b4yPD0SotwvKajT47VQOAOCXE9nSsf/76yJOXi3Fsj/OAQAWj4uGL4fliexSiwLRU6dOYf369Xj+\n",
              "+ecbPfbVV18hJSUFJ06cwNixY3HLLbdYpYFLly6Fl5eX0eXgwYNWeW7qHO76/ACmfrAbV4urbN0U\n",
              "IrIiQRBwKb/Cor3f91wsAACM6OULuVyGvw8LAwB8dygdaq0OW07pA1EXRwUAYMk3R3C1uBpBnkrc\n",
              "O6ZXO70DImqrFgWiSUlJSE1NRWxsLCIjI7F//34sWrQIH3/8McLC9F8KMpkMDz30EC5fvozCwsJG\n",
              "zxEeHo60tDTpdmpqKoKDg+HgYHoB/7PPPovS0lKjS2JiYkuaTZ2YIAi4XFAJtVbA3kuNP09E1Dkl\n",
              "Z5RgzmcHMOHtnbh9xT5U1ZoeFQMArU5A0gV9IHptXAAAYNawnpDLgP2Xi/DN/jSUVKnh7+6EpTMG\n",
              "AACuFutLNj12QxxcnBTt/G6IqLVaFIguWbIE2dnZSE1NRWpqKkaOHIkVK1Zg4cKFyM3NlY5bv349\n",
              "goKC4Ofn1+g5brzxRhw9ehQpKfoJ5B999BFmz55t9jWVSiU8PT2NLgoFv1S6i7IaDbQ6/cKDw/VW\n",
              "zBJR55RaUIkHvzmKaR/uwb7L+h+Xx9JL8PT6k2bPOZ5RgtJqNTydHZAQ5g0ACPF2wXWGoPT1X/V/\n",
              "T6YMCMakfkFSVjQ6wA23De3Zju+GiNrKKnVEVSoVbr75ZqhUKsjlcvj7+2Pjxo3S4y+++CJCQkKw\n",
              "ePFieHh44PPPP8f06dOh0WjQv39//N///Z81mkFdUHFlrXT9UGqxDVtCRG313cF0vLTxNFQaHWQy\n",
              "YOaQnhgb649HvjuO305lQ6dLaLSyPae0Bl/svgIAGBsbAAdFXf7k9uHh2H4uH7WG4vZ/GxQCVycH\n",
              "3Da0J749mI4XbulrdDwR2Z82BaI7duyQrh8+fNjsca+88orR7alTp2Lq1KlteWnqJgrrBaJXCiqR\n",
              "X65CgEfLqzUQkW1llVTjXz+dhE4Aronxx/O39EHvHp5Qa3V4dO1xqLUCCipVCPSo2/2ouLIWt7y/\n",
              "GwWGgvTjewcaPeeEPoHwd1eioEKFHp7OGBruAwB46W998djEOC5QIuoE+FOR7Fr9jCjA4Xmiziq1\n",
              "sBI6AYjwc8XqexPRu4cnAMBRIUeg4cdlTmmN0Tlv/n4OBRUq9PRxwb+m9Ma0hBCjxx0VcswZEQ4A\n",
              "mDk0VMqmOijkDEKJOglu8Ul2rajKOBA9lFqMmwYE26g1RNRa+eXiNpvOjYbfe3i5ILdMhaySGgw0\n",
              "TOk8ll6M7w6lAwDe+XsCEnv5mnzef1wfg8RIX4yIMv04Edk3ZkStTBAE/GPNMdz/1WFotM2XJKGm\n",
              "iRlRN8Oq10PMiBJ1Snll+kC0/tC7KMSwU1JOqX6lu1Yn4PkNpyAI+nmk5oJQQJ/9vCbWH46cC0rU\n",
              "KfFfrpWVVquxMTkLv5/OxY9HM23dnE5PzIiOi9fPDTudVYoKlfkyL0Rkn/LK9cPugSbmePcwBKLZ\n",
              "hqH5r/en4XRWGTydHfDslN4d10gi6nAMRK2sfpC0/M8LUGm4C1RbiBnRviGe6OnjAp2gH7Ijos4l\n",
              "zzA0H+jZOBAN8XIBoA9E88prpB2RnrqxN/zduTiRqCtjIGpllaq6wDOzpBprDqTbsDWdX5EhEPV1\n",
              "c8LwSP3wHMs4EbW/sho1Np3IkvZyb6umhuaDvcWMaDW+3p+O8hoNBvb0wpzEcKu8NhHZLwaiVtZw\n",
              "2PiD7Reb3DGEmiYGoj6u9QLRK5wnStSeKlQazPlsPx769hi+3p/W/AkWaGpoPrje0Pyl/AoAwLSE\n",
              "UCgaLGoioq6HgaiVVRoC0ZhAd4T7uqKgohar9qTatlGdWHGVGoCYEdXXCDyWUQw1F4IRtYtajQ6L\n",
              "vzqCU5llAIAz2WVWed6mhuaDDUPzuWU1yCiqAgCEertY5XWJyL4xELUyMRD1dnHEYxNjAQCf7ryE\n",
              "0mq1LZvVadUNzTsiJtAdPq6OqFHrcCqz1MYtI+p6dDoBT36fjN0XC6T70gurWv181bVanM8tR41a\n",
              "i/Ia/XdjgImh+UAPJeQyQK0VcOKq/t92Tx8GokTdAQNRKxOH5t2UDpg6KBRxQe4oq9FgpWGLOrKc\n",
              "RquTAngfVyfIZDIMjdAPzx/mPFGiViuurMXC1Ydx5+f7cbVYH2gKgoDXNp/FxuQsOMhl+OeN8QCA\n",
              "1FYGolqdgLtWHsCkd3dh84lsAIDSQQ5P58blqx0UcoT5uhrdF+bj2ug4Iup6GIhamZgRdVc6QCGX\n",
              "4eHr9VnR7w9nQKsTbNm0TqfEEITKZIC3q36XFHF4nvVEiVonvbAKMz/ei61ncrHnYiGmfrAHqQWV\n",
              "+HTXZXyxR/+DedmsQbhzRAQAoKBC1aqSaV/tS8WRNP0PxtWGeaaBnkrIZKbnffYN9pSueygd4OnC\n",
              "/VaIugMGolZWWatfYeqm1Bdgn9QvCJ7ODsgurcH+y4W2bFqnI2ZDxaAeAKID3AEAuYb5ZkRkueMZ\n",
              "Jbj1oz24XFCJUG8X9An2RFFlLcYt24E3tqQAAJ6/uQ+mDw6Fl4ujtE1mWmFli14nq6Qab/1+Trqd\n",
              "nFECwPSKeVH9QDTUx8VswEpEXQsDUSurPzQPAEoHBf42SL8/8mdJl7mCvgXE7LKHsi4zonTUf2RV\n",
              "ViopQ9RdbE/Jw+wV+1BYWYt+IZ746YHRWHH3UDjV25FoybhoLBgbJd2O8NMPj6e1YHheEAS8+PMp\n",
              "VNZq0S/E0+ixIeHeZs/rW+9Yzg8l6j4YiFpZ/aF50e3DwyCTATvO5WPmx/u49aeFKmqMg3pAH9gD\n",
              "+pW9RGSZHefycP9XR1Cj1mFcfADW3T8KgZ7OCPN1xbK/D0JUgBuWzhiAp2803sUo0s8NQMsC0d9O\n",
              "5WDb2Tw4KmR49/YEo8cWXRtt9rz6gWiAiRJPRNQ1MRC1soYZUQAY2NMbn88dBnelA85ml+FoeomN\n",
              "Wte5iH3p7lw/EDVkRBmIElkko6gKD397DLVaHaYM6IHP5g4z+n6aOigEfz0xDneYKB4vZkQPpRZB\n",
              "rdUhrbASW05mm53vXlajxksbTwMAllwXjbggDzw1Wb/o6bEb4poMMHt41g3bV9VyxIOou+BscCur\n",
              "NBGIAsCEPkGY0CcQPx/Pwl8peUjs5WuL5nUqFSayy9LQPLdOJbLIMz+eQLlKg8Hh3lg+ezAcFZbn\n",
              "H8Tvqb9S8vC393cjs6Qa5TUaPDIhFo9NjGt0/B+nc5FXrkKknyseGB8DALj/2iiMjw9En2CPJl9L\n",
              "JpMhPsgD53LLcfOA4Ba8QyLqzJgRtTJxi093w2Kl+q7vHQhAP1eLmmdqmoM4NK9SMyNKzbuYV4Gd\n",
              "5/MhCN2zYoVaq8Oei/pFkm/dNqhFQSgAjI72x/LZCfB2dURKTrlUC/T9vy5g36XGiy/FYvSjov3h\n",
              "7Kj/t+qgkKNviKdFi4/WLBqJbxaMwMS+QS1qJxF1XgxErUwamndqnGy+Li4AchlwLrccmSXVbXqd\n",
              "dYcycO+Xh6TyKF1RuYnsMofmqSXu+fIg5n1xEHO/OCgFSd1J/X3iW7sAaFpCKLY+dh1uHxaG6Qkh\n",
              "mJYQAp0APLr2mLThhCjL8L0W4mV+dXxTfN2cMCbGnyvmiboRBqJWZiqLJ/J2dUJckH546nxueZte\n",
              "552t5/FXSh5mfrwX//whGYUVXa+ckemMqP4jW6vVddssF1kmv1yFjCJ9YJR0oQCT3t2Fz5Mud6t6\n",
              "vvV/sIn/dlojwEOJ/942EO/NHozXbx2AqAA35Jap8OT3yUb/DrNL9fvJh3B7TiKyEANRKzM3R1Tk\n",
              "566vy1dSVWvycXPUWh12ns9HhUqDrJJq5JTVSI+tO3wV17+9U9q9pKuom+ZQf45o3ZQHZkWpKWcN\n",
              "e6T38HTGiF6+qFZr8drms5jx0R6k5Fhn/3R7J/4bUTrIrZZldFM64IM7hsDJQY6/UvLwxZ5U6TEx\n",
              "Ixrs3bqMKBF1PwxErczUqvn6xB2Ciist33u+qLIWd35+APO+OIjZK/ZJc7P6hXhi/ZLR6BvsidJq\n",
              "NZZuOdvG1tuXcpPlm+o+sgxEqSliIDokwhtrFo7E67cOgIfSAclXS3HL/3bjf39e6PJZdbHebluy\n",
              "oab0DfHECzf3AQC8seUsTl4thSAIyCrVB6KhzIgSkYUYiFqRIAjSzkqmhuYBwMfVEUDLMqKvbTqD\n",
              "g1f0W1qeyizDiz+fAgAMCffB0Agf/O+OBABo1TZ89qzSRPkmB7kMhk2WuHKeGjmXU465XxzE8YwS\n",
              "KRDt08MTcrkMc0aEY+vj12Fi3yBodALe2Xoe28917YWDUkbUsfHiyba6a2QEbuzXA2qtgIfXHEV+\n",
              "uQo1hkWEPVo5R5SIup9WB6KrVq2CTCbDhg0bAAD33HMP4uLiMGjQIIwZMwaHDh0ye65MJsOAAQOQ\n",
              "kJCAhIQEJCUltbYZdkWl0Unzz9xMrJoHAB9DRlTcR705pVVqbDqpH3J/anI8FHKZFOwONuxSIq5O\n",
              "re5itffqyjfV9aVMJuPKeTLrye+Tset8PqZ/uAdns/XzsPvU2zqyh5czVtw9FPNHRwIAPtp+yRbN\n",
              "7DD1h+atTSaT4b8zB8Jd6YDUwirsPJ8PAPB3V0r/RomImtOqOqKpqan47LPPMHLkSOm+W2+9FZ99\n",
              "9hkcHBywadMmzJo1C6mpqWafIykpCd7e3q15ebtVPyNpatU8AHi56DOixVWWBaI/J2eiVqND7x4e\n",
              "eGBcNJQOcry2WT8EPyTcBwDgYghEVRoddDoBcnnXWHFqrgKB0lGOarWWQ/PUSP2505fyKwAAfRps\n",
              "MymTybBkXDS+PZCOw2nFOJJWjKERPh3azo7SXkPzIi9XR8QFueNoegl2XywAAIRwfigRtUCLv510\n",
              "Oh0WLFiA999/H0pl3S4ZU6dOhYODPmAYOXIkMjMzodG0fahYpVKhrKzM6KLV2mfmT1qo5KQwGwxK\n",
              "GVELh+bXHsoAAPx9WBhkMhnuu6YXnpocjycmxiHSX7/9notTXfahxg6Gq0ur1VaZe2dqZyUA0t7Y\n",
              "HJqnhuqXDdLoBPi4OposJRTk6Yxx8QEAgOSMko5qXoerkTKi7ZehjA5wBwDsvqAPRIM5LE9ELdDi\n",
              "QPSdd97BmDFjMHToULPHLF++HFOmTJECU1MmTJiAQYMG4fHHH0dlZaXZ45YuXQovLy+jy8GDB1va\n",
              "7A7R3EIlAPBxEzOizQeipzJLcTqrDE4KOW4dHApAn815cHwMHp4QKx3nXO+PjK2H5/deKsCw17ZK\n",
              "Wdu2MFcKq253JWZEyZinYcRBNDzS1+xqcbHEUEEXLH0mEjOizo7ttxwgyhCIFhpqigZ7caESEVmu\n",
              "Rd9Op06dwvr16/H888+bPebrr7/GunXrsGLFCrPHpKWl4ciRI9i7dy/y8/Px1FNPmT322WefRWlp\n",
              "qdElMTGxJc3uMGK5oaYC0Zasmv/+sD4bOrFfEHzcnMweJ5fLpKG3arVtA9E5nx2AWitg5e4rbX6u\n",
              "ihozgSjniJIZDRfsNbWVrrjveX55Fw5EOyQj6mZ0e0CoV7u9FhF1PS2aI5qUlITU1FTExuqzcTk5\n",
              "OVi0aBGys7OxZMkSrF27Fi+//DL+/PNPBAWZ36ItPDwcAODm5oYHHngAixYtMnusUqk0mgIAAAqF\n",
              "fU6Er6oVM6Lm22fp0HyNWosNx7MAALcPC2v2tV2cFFBpdEY7qXS0vHrz8xwVbZunKggCKmrNBaIc\n",
              "mifTyhosAhzRy8/ssQHuhkC0K2dEpVXz7Z8RBQCZDBhv2MqYiMgSLfp2WrJkCbKzs5GamorU1FSM\n",
              "HDkSK1aswJIlS7Bu3To8//zz2LZtmxRomlJcXIyqKv1WezqdDmvXrsXgwYPb9i7sRJVhWNzVsYmh\n",
              "eUP5pspaLWqbGFr+/XQOSqvVCPV2wZgY/2Zf20VaOW+7LOGG45nS9bburFJVq4U4zbThHFFu80nm\n",
              "lNUYZ0T7BHuYPbZ7ZETbd7ESAET4uUrXQ7xc4NvE6A0RUUNW+3a68847UVNTg2nTpkllmQoL9YXX\n",
              "P/nkE7z44osAgJSUFIwcORKDBg3CgAEDUFhYiPfee89azbApMRCtv3ioIU9nR6kOZlNZ0XWGYfmZ\n",
              "Q3tCYcEqeCkQtWFG9GJehXRdnKbQWuL8ULms7r2JpKF5BqLUQHlNXUZ09vAwOCjMf8X5u3eDQFTd\n",
              "/kPzjvX6eEQTUyGIiExpVfkm0Y4dO6TrarX5OY+LFy+Wro8aNQonTpxoy8vaLUuG5uVyGbxcHFFc\n",
              "pUZxlRqBnvoVpr+dysbeS4V45qbeKCivxZ6LhZDJgFlDe1r02mItUVsOzdf/gy72RWvVL93UcLGJ\n",
              "tFjJxvNhyb6oNFqpoPqeZ65HoIeyyePFjGhhZW2XKntWX00HZEQBYOmMAdhwLBP/Muy2RERkqTYF\n",
              "omRMyog2MTQP6OeJ6gNRfUZUpxOw+OujAAC1VoCbIaM6NjYAYb6uZp+nPjELa8uMaJ5RIKpt0x93\n",
              "c6WbAA7Nk2nilrAyGRDs6dzsZ8/PXT+ErNUJKK6qhZ9704FrZyRlRNtxjigA3JEYjjsSzU/JIiIy\n",
              "h4GoFVWpms+IAoB3g20+z+WWS4+tOZguXb/HsPuLJVyayYgKgmC2jI21NBzirFZrm6wg0JSmSmGJ\n",
              "w4xNzbGl7kdcqOSudLDoB5CjQg5fNycUVdYiv0LVNQPRDlg1T0TUFtxr3oosmSMK1K2cP5JWDJVG\n",
              "KxWCrq+Xvxuuiwuw+LWb2+bzP5vPYuirW5FTWmPy8bbS6gSpjqCosg3D8yWGnadMB6LMiFJjYkbU\n",
              "09mxmSPrBHTxeaLiYqX2rCNKRNQWzIhakbgHvLntPUU9ffQryj9LuoL1RzOlbOZjN8RBLgOOZZTg\n",
              "vmt6tWhYu6mh+bIaNVbvS0OtVocDVwoxLSHU4ue1VHFVLbQ6ATKZPlCsUetQpdIC5hctN2nb2VwA\n",
              "QL8G2zMC9Qvac44o1SkzLFTyMDGdwxx/Dyecy+3KgSgzokRk3xiIWlG1IQPo2kxG9MnJ8fB2dcLa\n",
              "QxlGe2NP7h+E3j0aB16WcHE0X9B+6+lc1Gr1f5Byy9onIyr+Ifd1dYKDQoYatarVGdFKlQa/ncoB\n",
              "AMwc0jhodlJw1Tw1VlZtyIi6tDwj2lV3V6pbNc+MKBHZJwaiVlRp4dC8h7MjHpsYh4evj8H2c/n4\n",
              "4UgGgr1cEB/UyvQh6s0RNTE0v/lktnQ9t6x9/uCKgWiAh9Iwd1PV6hJOf5zJQVWtFhF+rhgS7tPo\n",
              "8bpV8wxEOyNBELDjXD76hXoi0MN6+5KLGdEWDc0bVs7nlHbRQLSDVs0TEbUWv52sqNrCoXmRg0KO\n",
              "iX2D8Ondw/Dvqf3atJjI2czQfGmVGkkX8qXblmZEf0nOwuKvjhjVZWxK/UDU1bBYq7UZ0dOZZQCA\n",
              "63sHmuwT7qzUuf2Vkod7vjyE5346ZdXnFRcrebpY/vs63jACseNcHgRxB4UupEZaNc+heSKyTwxE\n",
              "rUisndlcRrQ9mCto//uZHKi1dX9g8yzIiAqCgIfXHMNvp3PweZJle8aL2yQGuCvhagjEqxpkRMtq\n",
              "1Jj58V48+2PTdWTFzJafmR1aWNC+c9t/Wb/RxaHUIqsGf61ZrHRj/x5wcVTgckEljqYXW60t9oIZ\n",
              "USKyd/x2sqKqFmZErcncFp+bTuiH5cfG6rcJzS1vPiOaWlglXc8urbbo9etnRMU6qA0zop/uvIQj\n",
              "acX4/vDVJgMQMaDwMBNQcNV85/PbqRx8tT8NAHDiaikAfWWErAZVHNoSmNYNzVv+789d6YCbBvQA\n",
              "APxw5GqrX9tecbESEdk7BqJWZGn5pvYgvmb9OqJFlbXYc1FfGuq+a3oB0GdEm/tjL54DAKkFVU0c\n",
              "Wcd4aF7MiNYForllNVi5W59d1egElKvMD9vXBaKmAwrurNS5lNWo8fCao3hhwymkFlTiVGap9Njp\n",
              "etcv5JYj4ZWteHXTGaTklBl9Di16HWlo3vKMKADMGhoGAPglOdts+bPOSgxEWb6JiOwVv52syJIt\n",
              "PtuLs4mh+d9P50CrE9A32BMjo/ykx5sKAgFg76W6AOBMdhl0uuazVKYzonVteW/beWm+GgCUVJqf\n",
              "e1ouleExlxHl0Hxnsj0lT5oesvN8vtHn4nRWmXR91d5UlFarsXL3Fdz4XhLuXnnA4jnNgiDgiiGT\n",
              "35KheUC/P3pPHxdUqDT4/XROi861d+KPNWZEicheMRC1IjEj6trMFp/twVRB+00nsgAAtwwKhrOj\n",
              "QhqyzGvij3vShXzsOFe3uKlCpcHV4uaH503OETUE5hfzKrD2UAYAwMkwrF5UVWviWfSazYhysVKn\n",
              "8seZXOl6w0BPDES1OgFb6x0HADoBuFpsWUb+z7N5SM4ogZODHGMM01AsJZfLcNvQngCA749ktOhc\n",
              "eyfuPtbeW3wSEbUWv52sRKcTbDs03yAjWlChwr5L+kUhtwwIAQAEeepL5ZgrVZNXVoP7/u8wqmq1\n",
              "SOzli9499OWkzmSXmjy+PqOMqLhq3rBY6c3fUqATgIl9gxAX5A4AKK40H4iWWRyIMiNq72rUWuxI\n",
              "yZNu7zV8JvsE61erbzubi9FL/8Ttn+5DfrkKSgc5buzXQzq+sML850Sk1urw+q9nAeinoIR6u7S4\n",
              "nTOH9JTaZ2nw2xnUzRHlVz0R2Sd+O1lJTb3snC2G5hvuNb/zXD50AjAg1Avhfq4AAH9D8e67Vh7A\n",
              "pzsvNXqOYxklqNXoEBXghtX3JmJgTy8AkIrLm6PSaFFqmJ+nD0TrMqIHrxThjzO5kMuAp2+Ml7Y3\n",
              "LW4yI9p0PUixFA3riNq/fZcKjYbiRbOHh0mfr6zSGhxO069Yv3VwKD65eyiu7x0IQD/PuTnf7E/D\n",
              "5YJK+Lk54YFx0a1qZ5ivK0ZF+UEQgJ+OZrbqOexRDYfmicjOsaC9ldQv3u5sgy99FyfjnZWuFFQC\n",
              "AAaFeUnHBHvVFQ9/8/dzuGNEuFGwdyG3XH9OT284OypwR2I4vj9yFRuOZ+HWIT1xXVyAydcuMGSt\n",
              "HBUyeLk4SlUD1h2+ivWGP+p/HxaGmEAPKRA1F2DUanRSFsdsIMqh+U7jjzP6HzE+ro4orqqbF9w/\n",
              "1BPzRl+DkqpaXMirwPncchSU1+LOkeEAAF9D6a7CZgLR0io1lv95AQDw+KQ4s/OKLXHb0J7Yd7kQ\n",
              "b289j092XsK6xaPQL8Sr+RPtGDOiRGTv+O1kJeLcTFcnRYv2iLeWhnNE04v0w4vhvq7SMTOG9ET/\n",
              "UP2QqFYn4PvDxuVqzudWAABiDcPng8N9MH90JADgXz+eRKWZRU7SsLy7EjKZzGiLU61OwKgoPzw1\n",
              "OR5AXYBhLiNav4C+ezND8+K2pWSf6s/7vCMx3OixmED9tA9vVycMj/TFnSMi8MgNsVLWXqwh21xG\n",
              "9IPtF1BcpUZckDtuHxbWpvbeNKAH3A3Z/MpaLTafyG7mDPsn1RHlHFEislP8drKSSgv3mW8vDeeI\n",
              "ZhjmuYX51AWi18T6Y9PDY/H6rQMAAGsPpRs9x3lDRjQusG6r0ScnxaOnjwsyS6rx1u/nTL52/fmh\n",
              "AKSheUAfCK9ZNBJ+hgDD21WfsSoys2penB/q5qSAwkxALy544tC8fTueUYyCilp4ODtgxpBQ6f5A\n",
              "DyW8mimx5GtBIJpRVIUv96YCAJ67uS8cFG37OnN1csDHdw2R5piezGx+brQ90+oEqVqBLUZpiIgs\n",
              "wUDUSmy5UKn+64pzwjIMGdGwehlR0XXx+iH21IIqqaaoRqvD5Xz9cH5cvT3v3ZQOWDpDH7j+375U\n",
              "HElrvPtMw0C0fjA+PNLX6FgxwChpJiPa1BAryzd1Dr+f1mdDJ/QORM96P4gCPZXNnmvJ0PzO8/lQ\n",
              "awUMi/AxO22kpcbGBuDTu4cC0Bfe78zbftbW+/fBjCgR2St+O1mJVEPUBrsqAXUZUbVWQFmNWpq3\n",
              "aSoQDTBkJ2u1OpQY5u2lFlahVquDi6MCPX2MVx2PjQ3AbUN7QhCAp9efaFRXtKmM6PBIH6Njm5sj\n",
              "2lzpJqBuaL6GBe3tliAIUqmmSf16SFNHAMv+jfi5i58T81vSns3Wl34a1uDHTlvFBXnASSFHabUa\n",
              "GUXmS5fpdALUdjw9pP4caqc2ZouJiNoLv52sxNYZ0fp/6M/l6IfYPZ0dTA6BOjnI4WMYIhe3/EzJ\n",
              "0f9Rjwl0NznH9fmb+0DpIMfFvApp/qkov0L/HGKA61Dv/OG9jIOE5lbN12VEzQcr4iImlUbHBUt2\n",
              "6kJeBdIKq+DkIG+UrYwKcG/2fF83/WepqInyTWIg2ifYw+wxreHkIEdvw3OeyCwxeUytRocb3t2J\n",
              "v72/225/EIkjBg5yWZunLRARtRd+O1mJrTOiSgc5/A1ZpH/+cAIApLJNpog1RfPK9BmnDcf0xe8T\n",
              "e5nOLnm7OkkLSMpqjOd3NsyI1s/CRvm7GR3r42bZHNGmtmn0cHaAGOuWVJnfoYlsR1ykNDbGX8qQ\n",
              "v3v7IIyM8sUTk+KaPd+v3tC8qeFxnU5AiuEHV19DTVJrGhCqXy1vbp7oxbwKXM6vREpOOb7en2b1\n",
              "17eGutJN/JonIvvV6m+oVatWQSaTYcOGDQCAvLw83HjjjYiNjUX//v2xa9cus+du2rQJvXv3Rmxs\n",
              "LGbMmIGysjKzx3YWts6IymQyLJs1CI4KmVS6qf5CpYbEoDG3rAY5pTX4K0Vc3Wx+5bEYHIo1Q0V5\n",
              "UiCqD2793ZX47dGx2PvM9ZDJjLOr9eeICoKAqloNXthwCjvO6Yue1w3Nmw9E5XIZvC2oR0q2I843\n",
              "HhJRNzXj1sE98d2iUdLK+KaInxOVRif926ovvagKVbVaODnI0avBjx1rEJ8zu8T0LmQX8sql6x/t\n",
              "uCT9ELUnUukmRy5UIiL71apANDU1FZ999hlGjhwp3ffMM89g5MiRuHDhAlatWoU5c+ZArW6craqo\n",
              "qMB9992HDRs24MKFCwgJCcGrr77a+ndgJ8Thag+l7UqzjosPxP9mD5ayhabmh4oCDUFjXrkKaw9l\n",
              "QCfos6ExgeaHOc0Fog0zogDQu4cnQkzscCMOzWt0AspVGqw9lIGv9qdh4erD2HupwKKheaBu9X1x\n",
              "E3vWk+3kGaZ89PB0buZI01ydFFImz9R8YnFYPj7Io12GnZtbtX8xr0K6XlRZi5NX7W+FPTOiRNQZ\n",
              "tPgbSqfTYcGCBXj//fehVNYFHuvWrcPixYsBAMOHD0dISAh27tzZ6PwtW7Zg8ODB6N27NwDggQce\n",
              "wJo1a1rbfrtQXavFOsNe6jf0DbJpW24aEIzlswdjUJg3piWEmD0uyLByObu0WirjdOeIcLPHA5Dm\n",
              "m5ZV12V/BEGQAtFAj+YzXc6OCrgZssa/nsiWhnDVWgH3f3UExzNKADQfiIoBrbnV9w3ll6ss2qWH\n",
              "rCO3TB+IWrJC3hSZTGY0PF+fTidIGyVYe36oqLlV+2KpM1Fzhfdt4VK+Plju4dW6HwNERB2hxYHo\n",
              "O++8gzFjxmDo0KHSfYWFhVCr1ejRo26P6MjISKSnpzc6Pz09HREREUbHZWdnQ6MxPbSlUqlQVlZm\n",
              "dNFq7WtxwPqjV1FcpUaYrwsm19sn21b+NigEPz84psldYcSgcfOJbGSV1sDH1RE39m+67eIiofoZ\n",
              "0XKVRhoCtGTIFQDmiUXyfzqJA1eKAAC9e3igvEaDHefyjV7LHHGxVbEFc0SrajWY/N4uu15Y0tXk\n",
              "GuYeB7UyIwoAvoY5z2mFlUb3f7rrMradzYWTQo47R0SYOrXN/MTFUmZW7V8wZETFEZCCCvOr+21F\n",
              "LLU2NNynmSOJiGynRYHoqVOnsH79ejz//PPt1Z5Gli5dCi8vL6PLwYMHO+z1LbHzvD54mpMYYbYI\n",
              "u70RAwQxkLttaM9m96P2MjE0L2ZDPZQOFs+PfXJSPP4+rCd0gr7odnyQB9YsHGk016/5oXnL54im\n",
              "F1WhqLIWmSXV+PNsnkVtpNarUWulz0iQR+sDUXER0lM/nMDqfakQBAEarQ4rd18GAPx7aj8MCvNu\n",
              "c3tN8XWvG5pvuFhKpdEirVA/FWdElB+Aum1u7cmRtBIAwNAIBqJEZL9aFIgmJSUhNTUVsbGxiIyM\n",
              "xP79+7Fo0SKsW7cODg4OyMnJkY5NTU1FeHjjod7w8HCkpaUZHRccHAwHB9OBx7PPPovS0lKjS2Ji\n",
              "Ykua3e6ySvS1BuOCmi9LYy8aDpk23ILRFGlovqZxIBpgwbC8SC6XYemMgbhlYDAAYNrgEPi4OeHL\n",
              "e4ZLw7HNZdLEjKglQ/M5pXULTr4/kmFxO6l1xM+E0kEOT5fWz5n+15Q+uKFPIGo1Orz482ks/voI\n",
              "fjmRhYKKWvi7O2HWsJ7WanIj4udQrdXPZa7vSkEltDoBHs4O6BuiD5btLSNaodLgnKEk2xAGokRk\n",
              "x1oUiC5ZsgTZ2dlITU1FamoqRo4ciRUrVmDJkiWYNWsWPvnkEwDAoUOHkJmZieuuu67Rc9x44404\n",
              "evQoUlJSAAAfffQRZs+ebfY1lUolPD09jS4KhX2tAhUD0VCfxotz7FVgvUzVqCg/i2o7ikGFqYyo\n",
              "fwsCUQBQyGX43+zB2PLIWCwaGwUAiPBzw/olo/H6rQNwfe/AJs+vy4g2PzQvzlcEgF3n841uk/WJ\n",
              "/Rvk6dyoakJLeLs64bO5w/DiLX3hqJDh99O5eGxtMgBg6qBQOLZjbUxnR4W0Q1jDWqZXDBUBogPc\n",
              "EWDInBbaKBAtrVbjzd9ScKHBnNUDlwuhE4CePi5tmh5BRNTerPZN/t///hd79+5FbGws5s+fj6+/\n",
              "/hqOjvqs1YsvvigFqR4eHvj8888xffp0xMTE4OrVq3jhhRes1YwOV1WrkYIhU6vE7VX9DOacZhYp\n",
              "ieoWK7UtIyqSy2XoE+xptOo50t8Nc0aENxtktGSxkjhfEQB0AvCjYaELtY+6+aGtW6hUn0wmw73X\n",
              "9MKPS8YgKsDNcB8wc2hoM2e2nbQLWIPPWEaxflg+3NcVfoZ50bYamn/ztxR8tOMSXv7ljHTf3ksF\n",
              "eHTtcQDANTH+NmkXEZGl2lRraMeOHdL1oKAg/PHHHyaPe+WVV4xuT506FVOnTm3LS9sNMRvqoXRo\n",
              "doGNPXF2VODOEeHILauxeIGV+P6MAlFDJijAwoVK1uLrZvlipRxDhq6njwuuFlfjhyMZWHxdVJuy\n",
              "dWRe3Yp562XiBvT0wtbHrsPeSwVQyGRNLsSzFj93J2SWVDfKiIrbfob5ukgL9No7I5pfrsKy38/h\n",
              "5oHBuNawU1VmSTXWHdZPNTlwpRAVKg3+PJuLJ79PhlorYHikD565qXe7touIqK1sV/Syi8g0FLzu\n",
              "TNlQ0X9uHdCi471czS9Wak1GtC3Eofm88hpkFFU1WTM11zBHdN6oSLy99Rwu5VfiWEYJhnA1cbsQ\n",
              "t41ty0IlUxRyGcbGBjR/oJWYqyUqZkTDfFzhZxiab++M6Bd7rmDt4QysO5KBpybHY8l10fh4x0Wo\n",
              "tfqFVGqtgEfWHMOfKfrFeDcPCMbbfx9ktPUvEZE9YqXjNuqM80Nbq26xUt3iDVsFouKwaUZRNca+\n",
              "uR37LhWaPVbMiEYHumFKf/0CqR+OXG3/RnZTeVYcmrclc7VEMwybV4T5ukoZ0QqVpl1Lg/15Vl9v\n",
              "VxCAN387h4Wrj2DdIf1nWKwcIAahC67phffvGMwglIg6BQaibSQGoiHeXX9BQP06omJJG9sFosbT\n",
              "IJra77t+TcvbhupXWv+SnMWaou1E/DfR2mL29sJPyojWDbsLgoCrxYaheR9XeDo7wMkwn7m9itpn\n",
              "FFXhfG4FFHIZnr2pNxwVMmw7m4tarQ4jevniqUnxAPRzZ1+4pS+ev6Uv5J2kjBwREQPRNsosFgPR\n",
              "7pMR1eoEVBr2/7bVHFFxaF5UUm06CFBrdSg0BBI9PJ0xMsoPod4uKK/R4PfTOSbPodbT6QScydKX\n",
              "DYoLap9djzqKj4mMaH65CiqNDnIZEOytrwogDc+Xt8880W2GbOiwCB/cf100vl04Ev7uSijkMjw+\n",
              "MQ5jYvzw77/1xVf3jsB91/RqlzYQEbUXBqJtlCkOzXeDQNTZUQ5HhT7TUlathlYnSIs0LNne05qc\n",
              "GuyffSqzrFHhcQDIK1dBEABHhQw+rk6Qy2WYatj6dPeFgg5pa3dyMb8C5SoNXJ0UiO/kgaifiTmi\n",
              "4vzQYC8XqbKDGIgWmtmFqa0Op+p3SBoXry9pNjzSF9ufvA7bHr8OI6L8IJPJMH9ML1wTyxXyRNT5\n",
              "MBBtA0EQcLlAX1OwZzeYIyqTyaSsaFqhfrcinaAfEhTn03Wk+aMj0c9QULy0Wi0NmdaXLQ4TezhL\n",
              "w5XRhpqp2aWsJ2ptx9L1QdPAnl5GZbk6I3Gbz8J6C5Hqr5gXifNExd2WrC3dMCc1JrCu1q+Hs6PR\n",
              "TmRERJ1V5/5LYWMZRdXIL1fBUdEx5WTsgz6Yu+Oz/Xhv23kA+mF5WwQd/57aD5v/MRYDQvV9fzKz\n",
              "1Ojx6lotXt18FgAQW2/XqxAv/XzerNLGgSu1zVHDtpKDu0BFgmDDvG9x1AMAjmeUAAAifOuCwBG9\n",
              "9Nt8frzjEsprmi8n1lLSKn3frv9jl4i6HwaibXAotQgAMCDUq9usUA2v98fwu0P6Goa9DXuC20p/\n",
              "QyB68EqRdJ9WJ+DRtceQnFECb1dHvPS3ftJjPQyBaE5pjcnhfGq9Yxn6jGhXKI0llgQrqqxFhUqD\n",
              "8hq1VG1himF7WgC4Z0wkIvxckVeuwnvbLli1DWU1apQYauWG+ZgvUUZE1FkxEG2Dw2n6wGd4pK+N\n",
              "W9Jx7r8uGt6udYuWAKBPsG3nAk7sq587t/ZQBvIMNSw/2XkJv5/OhZNCjs/mDjMaxgz20gfTVbVa\n",
              "o1JU1DY6nYBLhu0vxSkTnZmns6P0Wc8oqsL6I1dRodIgKsANY+vtWOTsqMDLU/U/dL7cm4qz2WVW\n",
              "a4NYKsrPzQluSpZ9JqKuh4FoGxwyLCIY1o0C0cn9emDXP8cb3dfXxhnR8fGBSAjzRrVai4+2XwKg\n",
              "L88EAC/c0qfRDwUXJ4VU/imbw/NWU2pYwAbUzZvs7MINWdG0wir83z59ibB7Rkc2Ko80Lj4QN/Xv\n",
              "Aa1OwAsbTkGns06mXQxEezaxYQMRUWfGQLSViiprcTGvAgAwNKLzD0O2hGeDhRJ9bByIymQy/HOy\n",
              "vpbiNwfScCG3HOdzywEAE/ua3r60hyErml3CBUvWIq4a93JxbFTVoLMSh8O/OZCGKwWV8HB2wIwh\n",
              "PU0e+8ItfeHqpMDhtGKsP2qdDRPExVHhDESJqIvqGn8tbOBImj4bGhPobpMV47YmLhBycpAjyg5W\n",
              "746O8cfoaD+otQIeXnMMOkG/s484H7QhccHSPV8ewpzP9nOuqBWI21z6daF/D+I80SRDqa/bh4WZ\n",
              "HSIP8XbBIxNiAQD//S0FGq2uza9ft50oFyoRUdfEQLSVDqeK80O7VzZUNLCnPhCNC3K3mzI9Txqy\n",
              "oik5+mxogmHrQ1PqB6h7LxWirJpzRdtKLHMk1tXsCuqvVJfJgLmjIps8/t5resHD2QEFFbXS57At\n",
              "xNJNzIgSUVdlHxFEJySumB8W0X3mh9Z36+BQXBsXgAfHxdi6KZIh4T64oU+QdHtQE4Fow52wsss4\n",
              "V7StxK0wxfqbXUH9APCGPkEI92s6IHRUyKWKAeKP1dYSBAEXcisatYOIqCthINoKNWqtVLOyO62Y\n",
              "r8/PXYnV9ybipgHBzR/cgZ6YFAeZYR3JoJ7eZo9zaVBui3NF204cmvftShnReiWT7hkdadE5wwxz\n",
              "xg8Zpu805VRmKUqqTG9Pe6WgEpkl1XBSyJv8UUVE1JkxEG2F5IwSqLUCAj2ULDJtZ/oEe+K5KX0w\n",
              "e3gYRvQy/yNhQp9AONWbUsDi9m0nLlby70JzRMN9XXHLwGDMHNITo6L9LDpHrKJxJLUYgiAgo6gK\n",
              "Ko220XEpOWX42we7Mfm9XY2qN9Sotdh+Lh8AMLyXD0s3EVGXxW+3VjhsyHQMj/SFTCZr5mjqaAvG\n",
              "RjV7TISfG5JfmoRXNp3BmoPpzIhagbgnu18XKd0EAHK5DB/MGdKicxLCvOEglyGnrAYrdl3G0i0p\n",
              "8HVzwqhoP0T4uiLc1xWxQR5IziiBIAC5ZSrcs+oQNj18DRRyGb49mI7XNp1FtVofvF4XF9Aeb42I\n",
              "yC4wEG0FaX5oN12o1FW4OCmkjDYzom1X0AUXK7WGi5MCA3p64Vh6Cd41bINbVFmLzSeyzZ6TklOO\n",
              "NQfTsf9yETafND5uXHxgu7aXiMiWGIi2kFYnSKWbuuv80K4khPVEraawQj803x3LmTV0XVwAjqWX\n",
              "oEatL+H0xMQ4uDgpkF5UhaPpxTiVWbf7UmKkLw6mFuGFn08DABzkMjw2MQ6X8ivg6qRAbKC7Td4D\n",
              "EVFHYCDaQudzy1Feo4GbkwK9e9h2a0tqO7GME3dYartCw9B8V9lVqS3GxQdK+857uTjigfExUBh2\n",
              "Y7qUX4EJb++Ujn3ztoG45f3dqFBp0NPHBe/fMRiDwznaQkTdAwPRFhKzoUMifOymfia1npQRLa2B\n",
              "IAic89tKGq0OJVVqAF2roH1rDQj1go+rI4qr1Bgd7ScFoQAQHWCc4Yz0d8OKu4fiUGox5o+JhJeL\n",
              "Y0c3l4jIZlociE6aNAk5OTmQy+Xw8PDA//73P4SHh2PChAnSMVVVVbh8+TLy8vLg62s8fJ2amoro\n",
              "6GgMGDBAum/9+vWIjo5uw9voOJfy9XX9bL2/OllHkJc+e6fS6FBcpeawcisVGUoQyWSAtyv7UCGX\n",
              "4aYBwfj2QDpu7N94m9kZg0Px47FMDA73BmDYGSzGv4NbSURkey0ORNetWwdvb28AwE8//YT58+cj\n",
              "OTkZx48fl45ZtmwZdu7c2SgIFXl4eBgd35mkFep3Oonws/22ltR2SgcF/N2VKKhQIaukmoFoK4kr\n",
              "5n1cnYyyf93ZCzf3xcwhPTHEEGzW959bByA2yANTE0I6vmFERHakxWPLYhAKAKWlpSaHMleuXIn7\n",
              "7ruvTQ2zV6mFlQCAyGZ2WKHOI8hTnxXNL1fZuCWdl7hFKoeV67g4KTA0wsfkd6SLkwJLxkUj1Jt1\n",
              "iImoe2vVHNG5c+di+/btAIBff/3V6LG9e/eiuLgYt9xyi9nzKysrMXz4cGi1WkyfPh3PPfccFAqF\n",
              "yWNVKhVUKuMAQattXBy6I2h1+uLUAJrd6o86j0APJU4DyCvnyvnWKqvWzw/1dOa0cyIislyrVtus\n",
              "Xr0aGRkZeO211/D0008bPbZy5UrMnTsXDg6m/yAFBwcjMzMThw4dwrZt25CUlIS3337b7GstXboU\n",
              "Xl5eRpeDBw+2ptltllVSDbVWgJNCjmAvZjK6igAPZkTbqqzGEIgyI0pERC3QpmXf8+bNw/bt21FY\n",
              "WAgAqKiowLp163DvvfeaPUepVCIwUF+g2dfXF/feey+SkpLMHv/ss8+itLTU6JKYmNiWZrdauiEb\n",
              "GubrwnlwXUigh76EUx4D0Vary4gyECUiIsu1aBytpKQEVVVVCAnRT7DfsGED/Pz8pEVJa9euxaBB\n",
              "g9C7d2+zz5GXlwcfHx84OjpCpVLhxx9/xODBg80er1QqoVQa1yU0N4zf3sT5oVyo1LUEco5om5XV\n",
              "6OeIerpwaJ6IiCzXor8apaWlmDVrFqqrqyGXyxEQEIBNmzZJk/FXrlyJhQsXNjrvxRdfREhICBYv\n",
              "Xozdu3fjxRdfhEKhgEajwfXXX4/nnnvOOu+mndWtmOf80K4kwFCAnRnR1mNGlIiIWqNFgWhEREST\n",
              "8zP37t1r8v5XXnlFuj5jxgzMmDGjJS9rNy4baohGMiPapYgZUS5Waj3OESUiotbg1kAtcDa7HAC4\n",
              "tWcXE+CunyOaX66CIAg2bk3nJJZvYiBKREQtwUDUQqVVamSW6Pcj781dlboUMSNao9ahXKWxcWs6\n",
              "JykjyvJNRETUAgxELXQ2pwwAEOrtwqLdXYyzowIehgAqr0yFi3nl+NdPJ/HZrss2blnnwaF5IiJq\n",
              "DaYvLHQ2Wx+I9mE2tEsK8FCivEaDp9efwNH0Yogj9FMTQhDk6WyV18gtq8GLP5/ComujMDTC9Pa3\n",
              "nZU0NM/FSkRE1ALMiFpIDET7BnN+aFcUaChqfyRNH4S6OOpLhO29VGC11/jxaCZ+P52L5zec7nJz\n",
              "UUsNq+a9WL6JiIhagIGoBdRaHQ6nFgNgRrSrGh6pz1De0CcImx6+BnNHRwAA9lwstNpriHVKz2aX\n",
              "4WRmqdWe19Z0OgHlNSzfRERELcf0hQX+uyUFlwsq4eHsgMReXWtIlfQenxiHBddEwctVH0gVVdbi\n",
              "052XsfdiAQRBkGrltkVhZV2d0u8OZWBgT+82P6c9qKzVQGdI8HKOKBERtQQzos24mFeBz3dfAQC8\n",
              "PWsQ/NyVzZxBnZFMJpOCUECfIXVSyJFVWoNUw0YGbVVUWStd33g8C5VdZIW+uKuSk0IOpQO/UoiI\n",
              "yHL8q9GM1ftSAQA39AnEpH49bNsY6jAuTgoMDvcGAOy5aJ15ogUV+kBUJgMqVBpsPpltlee1NWlX\n",
              "JRcHq2SOiYio+2Ag2oTSajV+OHIVAHDPmF42bg11tDEx/gCst2CpsEI/ND9lQDAAYO2hDKs8r61x\n",
              "e08iImotBqJN2JichapaLeKC3DE62s/WzaEOJv4/33epEDpd21a563SCNDR//7VRcJDLcCStGBdy\n",
              "y9vcTlsTh+Y9OD+UiIhaiIFoE+4YHoZP7hqCp2/szSHHbmhQmDfcnBQorlLjjKF8V2uV1aihMQSz\n",
              "8T08MKFPIAD9oqXOrKiyFh9uvwigrgQWERGRpRiINsFBIceN/YMxoU+QrZtCNuCokGOYoazTsfTi\n",
              "Jo/dd6kQh1KLzD4uzg/1cHaA0kGB2cPDAQA/Hr2K6lotfjuVjWW/n8PhJp7D3lwtrsJtn+zF8YwS\n",
              "eLs64pEJsbZuEhERdTIs30TUhKgAN+w8n4+rxdVmj6lQaXDHZ/sBACmv3ghnQzH8+sT5of6GqgvX\n",
              "xgWgh6czcspq8Nja4/jtdA4AYMupbPz5xDgrvwvrOZ5RgqNpxZDLgI93XkJumQohXs5YfV8iYgK5\n",
              "2QMREbUMA1GiJoR6uwAArpaYD0SL65VlulpcZRSQ6XQCPt11Ge9tOw8A8HNzAgAo5DJcG+ePdYev\n",
              "SkEoAKQVVkGrE6CQ299UkO0pebjny0NG98UGumP1fYkI9nKxUauIiKgzYyBK1ISePq4AgMwmMqLi\n",
              "9pYAkFpQF4gKgoDH1h3Hz8ezpMf93J2k6yOj/LDu8FWj59LoBOSU1UgBsD3544w+YO4b7AkfN0d4\n",
              "Ojti6YwB8HZ1auZMIiIi0xiIEjWhp48+IMxsIiNaUlUXiKYV1RW/zyqtMQpCARhtiDAiqq4Sg4ez\n",
              "A7xcHHG1uBoZRVWtDkR1OgH//T0FlSoNhkf6Ylikr1WCWkEQkHRBX8bqqcnxGN87sM3PSURExECU\n",
              "qAliEJdfrkKNWmty/mdJdd3QfHphpXT9TJZ+pb04FxQACsrrtvkM9XZBmK8LMoqqMaKXH2rUWlwt\n",
              "rm5yPmpzjqYX49OdlwEAX+9PBwBE+Lli2axBGB7Z+u1p0wqrcLW4Go4KGbe5JSIiq+GqeaImeLs6\n",
              "wtVJH3xml9aYPKZ+RrT+dqBiIDo6xg/XxQUAAKYlhBqde4OhIsPkfkEI89UHvRlFrd9SNN1wbpCn\n",
              "EoN6ekEhlyGtsAoLVx9GWr0guaV2G3aXGhzuAzclf78SEZF18C8KURNkMhlCvV1wIa8CmcXV6OHp\n",
              "jE0nsvDNgXRczq/ANwtGGs0RTa8XRJ7JLgWgn1N596gInLxaiiHhPkbP//SNvXHLwGAMCfdBniFb\n",
              "KmZEz+eW48u9qZiTGI7+oV4WtVecy3pdXADevG0QymvUuOvzA0i+Wop3tp7H8tmDW9UP+y4XAgDG\n",
              "RPu36nwiIiJTGIgSNSPURx+ILvn6CCADyg07CQHAphNZ0Al1uy5dLa6CRquDg0KOs9n6XZP6hnhC\n",
              "6aCQapLW5+yowNAI/f3ifNSMoiqs2nMFS7ekoFajQ1m1Gh/MGWJRW8UgNtRbv8jKw9kRj02Mw/xV\n",
              "h3C2BUX50worEezlAicHOQRBwJFUfR3V4b18mjmTiIjIci0emp80aRIGDhyIhIQEjB07FseOHQMA\n",
              "REZGIj4+HgkJCUhISMDatWvNPsfKlSsRGxuL6OhoLFy4EGq12uyxRLYWYpgnWq7SoLxGgzBfF1xv\n",
              "WKxzOqvMaGherRXw+Lpk/Pe3FCk72jfY06LXEVfoH0wtwsu/nEGtRgcA0taglrhaUmV4rroFStEB\n",
              "7gD00wa0FmxVmnQhH9e9tQO3vJ+E87nlyCypRk5ZDRRyGRLCvC1uCxERUXNanBFdt24dvL29AQA/\n",
              "/fQT5s+fj+TkZADA2rVrkZCQ0OT5V65cwQsvvICjR48iKCgI06ZNw4oVK/Dggw+2uPFEHSE20F26\n",
              "vnLeMIyPD8TprDL8lZKHU1mljRYwbUyuWykf6u1icXkjcY4oACgd5Jjcrwc2JmcZBbrNETOi9QPR\n",
              "EG99ZrNWo0NmcTXC/VybfI49F/XD8OdzKzD1g92Y0Fs/j7VfiCdcnTiIQkRE1tPivypiEAoApaWl\n",
              "Ld6D/YcffsDUqVPRo0cPAMDixYvx+uuvMxAluzV7eDi8XBxxTaw/Aj2cAQBxPdzhIJehpEotDXn/\n",
              "+2994aZ0QF65CnllNSiorMX0BouTmhLgrsTkfkEoqVLjP7f2R3mNBhuTs4zmoDZFpxOQZSgz1dO3\n",
              "LthUyGXo5eeGc7nl2HA8E6Oi/ZpcQX/G8H4CPJTIL1dh88lsAMCwCK6WJyIi62pVemPu3LnYvn07\n",
              "AODXX381ul8QBCQmJuKNN95AQEBAo3PT09MREREh3Y6MjER6errZ11KpVFCpVEb3abXa1jSbqFVc\n",
              "nBSYMaSn0X1KBwXigjxwJrtMqjEaG+SBMTGtX8wjk8nw6d3DpNtXCvSr3C0NRPPKVVBr9bsyBXko\n",
              "jR6LCtAHou9sPQ/5NuC3R69FXJDpLTnF1f6f3DUUB68UYdkf56DVCRgRxUCUiIisq1Xlm1avXo2M\n",
              "jAy89tprePrppwEAu3btwokTJ3D06FH4+/tj3rx5Vmng0qVL4eXlZXQ5ePCgVZ6bqC36hRjP/fRy\n",
              "cbTq84vPV6HSQK3VNXv81WL9/NBgL2c4KIz/aYvzRAFAJwAfbb9o8jnyymtQUKGCXKaf27pkXDQ2\n",
              "PDAGr03vj4mGUlNERETW0qY6ovPmzcP27dtRWFiI8PBwAICjoyMeffRRJCUlmTwnPDwcaWlp0u3U\n",
              "1FTpXFOeffZZlJaWGl0SExPb0mwiqxjYYOGOt6t1A1FP57oBizILsqKm5oeKIv3djG5vTM5CakHj\n",
              "uqJiNjTS3w0uhvqpA3p64a6REZDLWzYNh4iIqDktCkRLSkqQlVW3EGPDhg3w8/ODs7MzSkpKpPvX\n",
              "rFmDwYNN1yucOXMmNm7ciJycHAiCgE8++QSzZ882+5pKpRKenp5GF4Wi8e42RB1tVL0tOgFYfc91\n",
              "B4UcHoZgtMSCQPR4RgkAIDaw8ZB77x51942O9oNOAD7ecanRceL8UEtX+hMREbVFi+aIlpaWYtas\n",
              "WaiuroZcLkdAQAA2bdqE3NxczJw5E1qtFoIgICoqCqtXr5bOW7BgAaZOnYqpU6ciKioKL7/8MsaM\n",
              "GQMAGDduHO6//37rviuiDhAdYJxldHOy/g8kLxdHlNdoLFo5v8ew+9HoaL9Gj/UP9cLy2QmI8HOD\n",
              "Vidg78d7sf7oVfzjhlijvejTDTtDxdSrFEBERNReWhSIRkREmJ2fKdYTNeXzzz83ur1w4UIsXLiw\n",
              "JS9NZHdkMhn6BntKWcSWVpCwhLerI64WVzc7NJ9XVoMLeRWQyYBRJgJRwHh70dHRfth7qRCf7ryE\n",
              "V6b1l+4XA15fN+tmd4mIiEzhXvNEbXBtXOPKENbk7aIPCEuqmy5qv/eSvvZnvxBPi6YIPHR9DADg\n",
              "u0MZyCurke4XV+hbe+EVERGRKQxEidrg4etjMKlvEP47c0C7PL8YEDY3NL/rfD4AYLSFe8GPivLD\n",
              "0Agf1Gp0+CzpsnS/GIh6MhAlIqIOwECUqA3clA5YMXcYbh9uvvJDW3gZVuI3VUu0VqPD1rO5AIAb\n",
              "LCyxJJPJ8NB4fVb06/3p0jaizIgSEVFHYiBKZMe8LciI7rlYgPIaDQI9lBgW4WPxc4+LD0C/EE9U\n",
              "q7X4YvcVAHVlohiIEhFRR2AgSmTHxICwqYyouAXnjf17tKjWp0wmw4OGrOj6o1eh0epQrtIAqAuA\n",
              "iYiI2hMDUSI75m3B0Pzh1CIAlg/L1zeil37bzuzSGhRW1i2I4hxRIiLqCAxEiexY3WIl06vm1Vqd\n",
              "tKOSub3jm+Lr5gRnR/3XwFlDGSo3JwUcFfxqICKi9se/NkR2zEsq32Q6I5pVUg2NToCzoxyBHsoW\n",
              "P79MJpMK2ov1UDk/lIiIOgoDUSI75q7U7zlRpdKafDzVsBNSuK9rq/eCD/VxBVC3zzyH5YmIqKMw\n",
              "ECWyYy6GbUOrajUmH08rrAQARPi5mXzcEg0zouK8VCIiovbGQJTIjomBaI1aZ/Lx1AJ9RjTSz7XV\n",
              "r9HTRx+IXs7XB7Ucmicioo7CQJTIjrk66gPRWq0OGm3jYNSaGVERA1EiIuooDESJ7JiYEQWAKnXj\n",
              "eaJpRWJGtA2BqA8DUSIisg0GokR2TOkgh7gGqabWOBCtUWuRbghEI9owNM+MKBER2QoDUSI7JpPJ\n",
              "4OIoLlgyDkQ3HMtErUaHnj4ujYLJlgjydJZeAwC8XJ1a/VxEREQtwUCUyM65OBlKONULRAVBwJd7\n",
              "UwEA80ZFtrp0EwAo5DI8MC5auu3p7NDq5yIiImoJBqJEds7VME+0ut4c0X2XC5GSUw4XRwX+Piys\n",
              "za/xwPgYjIzyhVwG9A/1avPzERERWYKpDyI7Jw6bV9fLiH65JxUAMHNoKLysUPdTIZfhmwUjUVqt\n",
              "hq8bh+aJiKhjMCNKZOcaFrXPKKrC1rO5AID5oyOt9joKuYxBKBERdSgGokR2ruHQ/Op9qRAEYGys\n",
              "P2ICPWzZNCIiojZhIEpk5+oPzVeqNPjuUAYA4J4xkTZsFRERUdsxECWyc3VD81r8eCwT5TUaRPq5\n",
              "YlxcoI1bRkRE1DYtDkQnTZqEgQMHIiEhAWPHjsWxY8dQU1OD6dOnIy4uDoMGDcLEiRNx8eJFk+en\n",
              "pqZCoVAgISFBuly6dKnNb4Soq3KtN0f0yz1XAADzRretZBMREZE9aPGq+XXr1sHb2xsA8NNPP2H+\n",
              "/Pk4cOAAFi1ahJtuugkymQwffPABFixYgB07dph8Dg8PDxw/frwNzSbqPsSh+a1ncnEpvxLuSgfc\n",
              "NrSnjVtFRETUdi3OiIpBKACUlpZCJpPB2dkZU6ZMgUymz9CMHDkSqampVmmgSqVCWVmZ0UWrbbzn\n",
              "NlFXJRa0T75aCgC4bWhPeDhzG04iIur8WlVHdO7cudi+fTsA4Ndff230+PLlyzFt2jSz51dWVmL4\n",
              "8OHQarWYPn06nnvuOSgUCpPHLl26FC+//LLRfSNHjmxNs4k6JXFoXnTLwGAbtYSIiMi6WrVYafXq\n",
              "1cjIyMBrr72Gp59+2uix119/HRcvXsTSpUtNnhscHIzMzEwcOnQI27ZtQ1JSEt5++22zr/Xss8+i\n",
              "tLTU6JKYmNiaZhN1Sg0D0ZA27CtPRERkT9q0an7evHnYvn07CgsLAQDLli3Djz/+iC1btsDV1dXk\n",
              "OUqlEoGB+tW+vr6+uPfee5GUlGT2NZRKJTw9PY0u5rKnRF2Rs2Pd510mAwI8lDZsDRERkfW0KBAt\n",
              "KSlBVlaWdHvDhg3w8/ODr68v3nnnHaxZswZbt241mkfaUF5eHtRqNQD9/M8ff/wRgwcPbl3ribqB\n",
              "+hlRPzclHBWsukZERF1Di+aIlpaWYtasWaiuroZcLkdAQAA2bdqEzMxMPPHEE4iKisL48eMB6DOZ\n",
              "Bw4cAAC8+OKLCAkJweLFi7F79268+OKLUCgU0Gg0uP766/Hcc89Z/50RdRH1A9EeXsyGEhFR19Gi\n",
              "QDQiIgIHDx40+ZggCGbPe+WVV6TrM2bMwIwZM1ryskTdWv2h+SAPZxu2hIiIyLo4xkdk51yd6n4v\n",
              "BnkxECUioq6DgSiRnas/NM+MKBERdSUMRInsXP2hec4RJSKiroSBKJGdq58RDfRkRpSIiLoOBqJE\n",
              "dq5+IOrvxowoERF1HQxEieycS/05op4MRImIqOto1V7zRNRxlA4KvDFjANRaHYfmiYioS2EgStQJ\n",
              "zE4Mt3UTiIiIrI5D80RERERkEwxEiYiIiMgmGIgSERERkU0wECUiIiIim2AgSkREREQ2wUCUiIiI\n",
              "iGyCgSgRERER2QQDUSIiIiKyCQaiRERERGQTDESJiIiIyCZkgiAItm5ES82YMQORkZG2bobNaLVa\n",
              "HDx4EImJiVAoFLZujl1iH1mG/WQe+6Z57KPmsY8sx75qXmfro4iICDzyyCNNHtMpA9HurqysDF5e\n",
              "XigtLYWnp6etm2OX2EeWYT+Zx75pHvuoeewjy7GvmtcV+4hD80RERERkEwxEiYiIiMgmGIgSERER\n",
              "kU0wEO2ElEolXnrpJSiVSls3xW6xjyzDfjKPfdM89lHz2EeWY181ryv2ERcrEREREZFNMCNKRERE\n",
              "RDbBQJSIiIiIbIKBKBERERHZBAPRToDTeInIHvC7qGlqtdrWTSDqdBiI2qkrV67gzJkzAACZTGbj\n",
              "1tinyspKWzfB7qlUKls3wW5lZGQgJyfH1s2weykpKfjxxx8B8LvInFOnTuHuu+/GyZMnbd0Uu5ae\n",
              "ns5/cxbobt/bDETtTHV1NR599FFMmTIFjzzyCF544QWcPn3a1s2yKxUVFVi4cCEWL16MzMxMAMzU\n",
              "NFRRUYH7778fr732GoqLiwGwj0QVFRV4/PHHcfPNN2PevHl48803AbB/GqqoqMATTzyBOXPmQKvV\n",
              "2ro5dknso/vuuw/ffPON9F3Nz5KxqqoqPPbYY5g8eTLmzp2Lt956C/n5+bZult3prt/bDETtzAcf\n",
              "fIDc3FycPXsWK1asQGZmJl577TWUlpbauml2IS8vDw8//DCOHDkCuVyODRs2AGCmpr7U1FTMnz8f\n",
              "27dvx4ULF7Bnzx4A7CMAOHLkCG6++WZotVokJyfjySefxH/+8x9UVlayf+o5fPgwRowYgatXr+LI\n",
              "kSOYNWuWrZtkd7Zs2YKxY8dCJpNhx44deOutt3Du3DkA/LfW0H/+8x8UFxfj7NmzePPNN7Ft2za8\n",
              "8847qKqqsnXT7EZ3/t5mIGoHxF881dXVuHDhAm655RYAQK9eveDn54f9+/fjs88+s2UT7YaLiwuW\n",
              "LFmCHTt2YNiwYTh8+DCSk5MBADqdzsatsw8uLi548MEHkZycjODgYOzcuRNpaWkAusev66YEBgbi\n",
              "ww8/xPLlyyGTyZCVlYW///3vSE9Pt3XT7IqTkxOio6MxZ84cyGQy7Nq1C7///jtOnTpl66bZjaio\n",
              "KKxduxbLli2Di4sLzp49K00XYga5TklJCU6dOoUHHngAAJCQkICAgAD88ssvUiKBAHd39277vc1A\n",
              "1IZSUlKwcOFC/Oc//0FaWhpcXFygUCiwdetWHD9+HEVFRSgsLMSMGTNw4sQJFBQU2LrJHe7KlSv4\n",
              "9ddfpdseHh4YNGgQPD09MX78eDg7O0tfZnJ59/w4nzt3Dg899BA+/fRTlJWVISgoCGPGjIGLiwum\n",
              "T5+O9PR07Ny5E0D3+HVdX8O+CQsLQ//+/VFRUYGXXnoJL730Evz8/DBjxgx8++233TZDU7+fSktL\n",
              "MXDgQEyaNAlffvklRo8ejX/961/49ddfMXbsWGzdutXWzbWJhp+l+Ph4xMXFSfP5pkyZgj/++AMA\n",
              "oFAobNlUmxL7acWKFSgtLYW3tzdqamqwYsUKFBUVIT8/H46Ojhg6dChOnTqF6upqWzfZJtLT03Hw\n",
              "4EHptr+/P0aOHNktv7e7519uO7B161bMnDkTffr0wZUrV/Dggw/il19+wdKlSwEAL730EiZOnIjE\n",
              "xERMmDABGRkZ8Pf3t3GrO44gCPjPf/6DmJgYvP3229i7d690v7i1Wf/+/TF8+HBcuHAB27ZtA9D9\n",
              "MhHff/89pk+fjpCQEPz222+4++67sXPnTjg5OQEArrvuOsTHx2PPnj3SQoqu/uta1LBv5s6dK32x\n",
              "u7m54ZZbbkFqaireeOMNPPnkk/j444+7/Be+KQ376a677sLhw4dxzz33wNPTE7NmzcLu3buxfPly\n",
              "PPXUU3j11Vdt3eQO19RnSfw+8vPzQ0xMDC5dumTLptpU/X7asmUL5syZg1OnTmHVqlW4fPkyFi5c\n",
              "iIkTJ+KGG27AuHHjsH//fri4uNi62R1KEAT8+9//RmRkJJYvXy5N5xAEQeqL7va9zUDURs6dO4dr\n",
              "r70Wjz/+OD799FPcfPPN+L//+z9kZWXhyy+/xLvvvott27Zh8eLFGDBgABwdHbtVtiYjIwNKpRLf\n",
              "fvstRo8ejV9++QVqtVoKFMR/lJMmTUJMTAz+/PNPvPHGG3j33Xe71Wr6CxcuYM6cOfjXv/6F7777\n",
              "DrGxsVi/fj0uXLggHXPnnXdCo9Fg3759eOutt/DNN9906S81UcO+iYmJwfr163H+/HnIZDIMHz5c\n",
              "Onb69OlQKBTdMjvTsJ/i4+OxatUqlJaW4pNPPsFjjz0mHTtz5ky4urp2q39jgPnPUv1/Z/7+/jhx\n",
              "4gS8vb0BdO3AwZyG/dSnTx98/PHHkMvl+Ouvv/DKK6/gzz//xJ133okBAwbA19e325W8EgPLVatW\n",
              "wcXFBTt37oRWq5X+tolTzLrT9zYDURsQBAHV1dXw9/dHRUUFHBwcMHHiRERERGDVqlUA9POPfHx8\n",
              "8Oeff2L27NmYMGECXF1dbdzyjtOzZ0/MnTsXt99+O/r06YOrV69i8+bNAPT9J/6j7dmzJzQaDf73\n",
              "v/9h/fr1uOGGG+Dm5mbLpncYjUaD9PR0BAQESJniWbNmobq6WsoQA0B8fDwcHBzw2GOPYc2aNRg4\n",
              "cGCXz/w11Td//vmn0bH79+/HbbfdhrFjx0pBRHdhrp9UKhU2btxolK06ePAgFi5ciPHjx3ebf2OA\n",
              "5f/O+vXrBy8vr267gLKpz5JY/qtfv37w8/PDjh078I9//AM33HADHB0dbdzyjtW3b18sWLAA8+bN\n",
              "Q3R0NA4cOIAjR45Ij4tTzLrT9zYD0Q4mBlEBAQE4dOiQVKIhJiYGQ4YMQVlZGUpKSlBdXY3Vq1fj\n",
              "wQcfxEMPPYSnn37axi3vWHK5HIGBgQCAyZMnIywsDFu3bkVWVpZRVvSnn37Cl19+iRUrVuDQoUNI\n",
              "SEiwYas7jiAIcHBwQHR0NFavXi31yYgRIxAREYHLly8D0Nej++KLL7BlyxZ89tlnOHr0KAYOHGjL\n",
              "prc7S/smIyMDf//73/Hwww9jyZIlePXVV7vVPOOm+ikyMlIaYs7NzcWsWbPwj3/8o9t9F1n6WQKA\n",
              "oqIiTJo0CcOGDbNVc22muc/SlStXAAClpaV49913sXjxYjz00ENYvHixLZttEw4ODujZsycAYO7c\n",
              "uVCpVNi+fTuKiooA6PtSo9Fg5cqV3ed7W6B2k52dLahUKkEQBEGr1TZ6fMyYMcKyZcuEsrIyQRAE\n",
              "4ciRI0JcXJxQVVUlnd/Vmesj8br43y1btgjz5s0TfvjhB0EQBOH06dOCIAhCfn5+RzbXJi5evCh9\n",
              "JnQ6ndF/BUEQQkJChJUrV0q3t27dKsTExEi3z58/30Et7Xit6Zvo6Gjp9oYNGzqopbbV1s/QunXr\n",
              "OqilttPWPuou2tpP586d66CW2papfqp/Xfzb9sUXXwhz5swRjhw5IgiCIGRlZQmC0LW/txvqPj//\n",
              "O9CaNWswZMgQPPjgg1IpJrlcDp1OZzTH47XXXsPmzZvx6aefAtDPr0lISEBtbS0AoEePHh3f+A7S\n",
              "XB+JmSnxvzfeeCOGDRuGpUuXwtvbG5s2bYJOp+vSC7jWrl2LhIQE/POf/8RNN90EQD/c17BM1Ycf\n",
              "foh33nlHGhLMyMjAxIkTpc9RbGxsh7a7I7SlbyZNmoSamhoAwLRp0zq03R2trZ8hsZ+6ch3RtvZR\n",
              "d5njaK3vo7i4uA5td0drqp+EetPKxL9t99xzDwIDA/HPf/4TXl5e+PnnnwF0ze9ts2wcCHcpVVVV\n",
              "wpNPPimMHTtW2L17tyAIghAVFSW89dZbRscdPnxYWLRokaBWq4Wff/5ZuOuuu4RRo0YJAwcOFPbv\n",
              "32+LpncYS/voyJEjwqJFi4TCwkJBEAQhPT1dCAsLE0aNGiXs3Lmzw9vdkSoqKoRHH31UGD9+vPRe\n",
              "vb29he+++87ouCNHjgjPP/+8IAiC8N577wl33HGHMHz4cGHw4MHCoUOHOrzdHYF9Yxn2U/PYR5Zh\n",
              "P1nG0n46evSo8MILLwilpaWCIOj/toWEhAijRo0Stm/f3tHNtgsMRK1s5cqVRsPFH330kTBt2jTp\n",
              "9ptvvinExcUJX3zxhXSfRqMRkpOTO7KZNmVpH3355ZeCIAiCWq0WNm/eLHzyyScd3VSbSUpKkq4X\n",
              "FhYKN954o7B161bpvqVLlwoxMTHCV199JQiCfpinoqJC2LNnT4e3taOxbyzDfmoe+8gy7CfLWNpP\n",
              "a9asEQRBEKqrq4VPP/20W/1tM0UmCF20HkAH+fDDD+Hn54fY2FgMHToUJSUl8Pb2hlarhUKhwP33\n",
              "34+oqChpgv+lS5cQHh4urRTU6XRdfoFEW/uoOxD7KC4uDkOGDIFGo4GDgwP+/PNPPPnkk4iMjIRG\n",
              "o0FoaCgee+wxqFQq9OnTp1t8jtg3lmE/NY99ZBn2k2Xa2k9kYOtIuLPavHmzMHz4cGH69OnCM888\n",
              "I7i6ukqpdkGom5B82223Gf1KEqnV6g5rq62wj5rXXB+lpKRIi9by8/OF4cOHCxs3bpQe12g0Hd7m\n",
              "jsK+sQz7qXnsI8uwnyzDfrIuBqKtkJubK9x6661GH6zJkycLL7zwgtFxxcXFQmJioqDT6YSTJ08K\n",
              "L7/8slBUVNTRzbUJ9lHzLO2j+mbPni2sXbu2I5pnU+wby7Cfmsc+sgz7yTLsJ+tzsHVGtrOoqamB\n",
              "SqWCu7s7AgMD8cwzz2DIkCHSEER0dDTi4+MB1NUK3b9/PzQaDV588UX8+uuvmDt3Lnx8fGz8TtoP\n",
              "+6h5Lemj+tRqNZ599lmkpqZi5MiRNmh5+2PfWIb91Dz2kWXYT5ZhP7Wvrj+Jwwo+/PBD9O7dGwsW\n",
              "LMCiRYsAAImJiXBwqIvjz549K+02IpZn2LlzJ5KTk6HVarFz50488sgjHd/4DsI+al5L+0i0fPly\n",
              "DB48GDqdDlu3bkV4eHiHtrsjsG8sw35qHvvIMuwny7CfOoCtU7L2bvv27UJiYqKQkpIi5ObmCkOG\n",
              "DBFef/11o2LzFy5cEGJjY6XbmZmZgiAIwu+//y6cOHGiw9vc0dhHzWtLH+3fv184c+ZMh7e5o7Bv\n",
              "LMN+ah77yDLsJ8uwnzoGM6ImlJSUSNfT0tIwZswYxMfHIzAwEG+99RaOHDmCpKQk6ZgrV65g+vTp\n",
              "KC0txfTp0/GPf/wDWq0WkyZNwoABA2zwDtof+6h5be2jRx55BFqtFiNGjECfPn1s8A7aD/vGMuyn\n",
              "5rGPLMN+sgz7qeMxEK1Ho9HghRdewOTJk/Hggw9iy5YtCA0NxebNm6Vjrr/+ekRHR2P37t3SPvG7\n",
              "d+/G8uXLMX78eIwdOxY//PADFAqFrd5Gu2IfNc9affT99993uT5i31iG/dQ89pFl2E+WYT/ZkK1T\n",
              "svbi0KFDQkJCgvDQQw8JJ0+eFD788EMhOjpaUKlUQq9evaTi6oIgCMnJyUJERIRQXl4uCIIgXH/9\n",
              "9cKcOXOE4uJiG7W+Y7CPmsc+Mo99Yxn2U/PYR5ZhP1mG/WRbDEQNUlJShPfee0+6nZGRIUyYMEG4\n",
              "ePGi8OWXXwp+fn6CSqWSHr/++uuFY8eOCYIgCJWVlR3dXJtgHzWPfWQe+8Yy7KfmsY8sw36yDPvJ\n",
              "trizUj3l5eXw8PAAoN/dZ9q0adi3bx88PDwwZcoUuLu74+abb8a2bduQk5ODjRs3wsXFxcat7ljs\n",
              "o+axj8xj31iG/dQ89pFl2E+WYT/ZDueI1iN+CAHg/PnziI2Nle775ptvMHPmTGzevBnR0dHYunVr\n",
              "t/wQso+axz4yj31jGfZT89hHlmE/WYb9ZDssaN+AWKD2wIEDGD58OADg66+/Rq9evXD77bfj1ltv\n",
              "hZOTk41baVvso+axj8xj31iG/dQ89pFl2E+WYT/ZBjOiDcjl+i45d+4cdDod5s6di08++UT68PFD\n",
              "yD6yBPvIPPaNZdhPzWMfWYb9ZBn2k43YepKqPUpNTRVkMpkwfPhw4fPPP7d1c+wS+6h57CPz2DeW\n",
              "YT81j31kGfaTZdhPHY+LlUzQarVYtmwZHn30USiVSls3xy6xj5rHPjKPfWMZ9lPz2EeWYT9Zhv3U\n",
              "8RiIEhEREZFNcI4oEREREdkEA1EiIiIisgkGokREVhYZGYn4+HgMGjQIMTExmDZtGvbu3dvseRs2\n",
              "bMD+/fs7oIVERPaBgSgRUTtYu3YtkpOTcfHiRcybNw9TpkzBgQMHmjyHgSgRdTcMRImI2tmMGTOw\n",
              "ePFiLFu2DH/++SdGjRqFwYMHo1+/fli5ciUA4Ndff8XGjRvx1ltvISEhAZ9//jkA4KuvvsKIESMw\n",
              "ZMgQXHvttUhOTrblWyEisirurERE1AFGjBiBjRs3YsiQIdi9ezcUCgWKioowePBgTJ48GVOmTMHU\n",
              "qVORkJCARx99FACwZ88erFmzBrt27YJSqURSUhLmzJmD06dP2/bNEBFZCQNRIqIOIFbKKywsxH33\n",
              "3Yfz58/DwcEBhYWFOHXqFHr27NnonJ9//hnJyckYMWKEdF9RURGqq6u51zURdQkMRImIOsChQ4fQ\n",
              "v39/LF68GFOmTMH69eshk8kwZMgQ1NTUmDxHEATMmzcPr7/+ege3loioY3COKBFRO/v555/x8ccf\n",
              "44knnkBxcTEiIiIgk8mwa9cuozmfnp6eKC0tlW5PnToVX3/9NdLT0wEAOp0Ohw8f7vD2ExG1F+6s\n",
              "RERkZZGRkVAqlXB2dkZlZSX69u2LZ555BqNHj8bWrVvxwAMPwM3NDQkJCTh//jz++c9/Yvr06Th0\n",
              "6BDmz58PJycnPPjgg1iwYAG+++47vPXWW9BoNKitrcXNN9+MZcuW2fotEhFZBQNRIiIiIrIJDs0T\n",
              "ERERkU0wECUiIiIim2AgSkREREQ2wUCUiIiIiGyCgSgRERER2QQDUSIiIiKyCQaiRERERGQTDESJ\n",
              "iIiIyCYYiBIRERGRTTAQJSIiIiKbYCBKRERERDbx/+jpL6xDx7joAAAAAElFTkSuQmCC\n",
              "\">\n",
              "      </div>\n",
              "      <script type=\"text/javascript\">\n",
              "        (() => {\n",
              "          const chartElement = document.getElementById(\"chart-1ebe9027-991c-4874-b694-846a1f369c1e\");\n",
              "          async function getCodeForChartHandler(event) {\n",
              "            const chartCodeResponse =  await google.colab.kernel.invokeFunction(\n",
              "                'getCodeForChart', [\"chart-1ebe9027-991c-4874-b694-846a1f369c1e\"], {});\n",
              "            const responseJson = chartCodeResponse.data['application/json'];\n",
              "            await google.colab.notebook.addCell(responseJson.code, 'code');\n",
              "          }\n",
              "          chartElement.onclick = getCodeForChartHandler;\n",
              "        })();\n",
              "      </script>\n",
              "      <style>\n",
              "        .colab-quickchart-chart-with-code  {\n",
              "            display: block;\n",
              "            float: left;\n",
              "            border: 1px solid transparent;\n",
              "        }\n",
              "\n",
              "        .colab-quickchart-chart-with-code:hover {\n",
              "            cursor: pointer;\n",
              "            border: 1px solid #aaa;\n",
              "        }\n",
              "      </style>"
            ]
          },
          "metadata": {}
        },
        {
          "output_type": "display_data",
          "data": {
            "text/plain": [
              "from matplotlib import pyplot as plt\n",
              "_df_10['Low'].plot(kind='line', figsize=(8, 4), title='Low')\n",
              "plt.gca().spines[['top', 'right']].set_visible(False)"
            ],
            "text/html": [
              "      <div class=\"colab-quickchart-chart-with-code\" id=\"chart-fda9020c-9db4-4418-aa4f-236537c98585\">\n",
              "        <img style=\"width: 180px;\" src=\"data:image/png;base64,iVBORw0KGgoAAAANSUhEUgAAApcAAAFrCAYAAACE1KJuAAAAOXRFWHRTb2Z0d2FyZQBNYXRwbG90\n",
              "bGliIHZlcnNpb24zLjcuMSwgaHR0cHM6Ly9tYXRwbG90bGliLm9yZy/bCgiHAAAACXBIWXMAAA9h\n",
              "AAAPYQGoP6dpAAB0qklEQVR4nO3dd3hb1fkH8K+G9957JF7ZcZydkEDIogmFhFFogCSUFQqUUVqg\n",
              "hUJbIPwIZbRN2YTVMsMmISQhZO/hxJlO4r2nvGWN+/vj6l5btmxJtmzZ8vfzPHmw5Svp+GBbr95z\n",
              "3vcoBEEQQERERETkAEpnD4CIiIiIXAeDSyIiIiJyGAaXREREROQwDC6JiIiIyGEYXBIRERGRwzC4\n",
              "JCIiIiKHYXBJRERERA7D4JKIiIiIHIbBJRERERE5DINLIiIiInIYBpdERDa67LLL8Pjjjzt7GERE\n",
              "AxqDSyIiIiJyGAaXRES91NLSgkceeQTDhg1DUFAQZs2ahf379wMABEFAWFgYNm3aJF/r7e2NpUuX\n",
              "yve/++67cdtttzll7EREjsbgkoiol/7whz9gw4YN2Lx5M8rKyrBkyRLMmzcPhYWFUCgUmDt3Ln78\n",
              "8UcAwI4dOxATE4Nt27ZBr9cDADZv3owFCxY481sgInIYBpdERL1gNBrx9ttv4+mnn0ZycjLc3d3x\n",
              "+9//HsOHD8eHH34IAFiwYIEcXP7444+46aabkJCQgH379iEnJwc5OTmYN2+eM78NIiKHUTt7AERE\n",
              "g1llZSWam5uRlJRkdntycjLy8/MBiMHlbbfdhpKSEvz444947bXX0NjYiE2bNiE2NhYZGRkICQlx\n",
              "xvCJiByOmUsiol4IDQ2Fp6cnLly4YHb7hQsXEB8fDwCIjY3FiBEj8N5776GwsBBTp07FwoULsWnT\n",
              "Jvz444+YP3++M4ZORNQnGFwSEdnBYDCgpaVF/tfa2oqVK1fiL3/5Cy5evIjW1la89NJLOH/+PG66\n",
              "6Sb5fgsWLMBzzz2HOXPmQKVSYdasWTh9+jT3WxKRy2FwSURkh+eeew5eXl5m/xYtWoQFCxZgzpw5\n",
              "CA8Px/r167F582bExcXJ91uwYAE0Go0cSHp4eOCSSy6B0WjEjBkznPXtEBE5nEIQBMHZgyAiIiIi\n",
              "18DMJRERERE5DINLIiIiInIYBpdERERE5DAMLomIiIjIYRhcEhEREZHDMLgkIiIiIodhcElERERE\n",
              "DjNggstXXnnF2UMgIiIiol4aMMFlXl6es4dARERERL00YIJLIiIiIhr8GFwSERERkcMwuCQiIiIi\n",
              "h2FwSUREREQOw+CSiIiIiByGwSUREREROQyDSyIiIiJyGAaXREREROQwDC6JiIiIyGEYXBIREREN\n",
              "UJomHR774gQO51U7eyg2Y3BJRERENED9/ftT+OhAPq59da+zh2IzBpdEREREA9ThvBpnD8FuDC6J\n",
              "iIiIBqj6Fr2zh2A3BpdERDTk6QxG/JBVgprGVmcPhchMfYvO2UOwG4NLIiIa8tYfLsSqD49g4cs7\n",
              "UFzb7OzhEMm0eqOzh2A3BpdERDTk7c8RK3HL67W4bM3PuOuDQ/ghqxRavcHJI6OhzGgUzD4XBKGL\n",
              "KwcWtbMHQERE5GynS+rkj1sNRmw6WYZNJ8sQ7OOO926dgrGxAU4cHQ1VlY1as8+bdQZ4uw/80G3g\n",
              "j5CIiKgPtegMyC5vAADsefRyaJp1+PJoEb44UojKhlZ8d6KYwSU5RUlti9nnDS16BpdEREQD3dnS\n",
              "ehiMAoJ93BEV4InoQC+MjPJHfLA3Hv8qC2dL6509RBqiSjTm+3/rWvQI93fSYOxg957LxMREpKWl\n",
              "IT09Henp6fjkk08AANnZ2ZgxYwZSU1MxefJknDx50uGDJSIicrSsYg0AYHS0PxQKhXx7WqQfAOAc\n",
              "g0tykuKOmUvt4GhL1KPM5SeffIL09HSz2+666y7ceeedWLlyJT7//HOsXLkSBw8edMQYiYiI+sxB\n",
              "UzHPmBjzpe/UCDG4LNa0QNOsQ4CXW7+PjYa2U+32AgODpy2RQ6rFy8vLcejQIdx8880AgGuvvRYF\n",
              "BQU4f/68xeu1Wi3q6urM/hkMrMgjIqL+db68Ad9kFgMA5o+KMPtagJcbogM8AQDZZcxeUv/afKoM\n",
              "nx8uNLutYZA0VO9RcLl8+XKMHTsWt912GyoqKlBQUICoqCio1WIiVKFQID4+Hvn5+Rbvv3r1agQE\n",
              "BJj9O3DgQM+/CyIioh54ZWs2jAIwb2QEMuKDOn091bQ0foZL49TPXth0FgBw68xEzEkLAwDUD5Jl\n",
              "cbuDyx07duD48eM4cuQIQkNDsWLFCruf9LHHHoNGozH7N2XKFLsfh4iIqKf0BiO2ni4DANx3ebLF\n",
              "a6R9l90V9ew+X4ltZ8odP0AassrrWnC2rB4KBfC7y1Pg6yluyWh/FGSjVo/b3j2IrCKNs4bZJbv3\n",
              "XMbHxwMA3Nzc8MADDyA1NRVxcXEoKSmBXq+HWq2GIAjIz8+Xr+3Iw8MDHh4eZrepVKoeDJ+IiKhn\n",
              "TpfUo6nVAH9PNcbGWG41lBouBpfnTa2KOqpq0GLlugMwCsDeRy9HuL9nn42Xho49F6oAiEVmQT7u\n",
              "8PUQwzVpWdxoFPDwZ5nYeqYcZ8vqse3hy+CmGjjn4tg1ksbGRtTW1sqff/TRR5gwYQLCw8ORkZGB\n",
              "Dz/8EACwfv16xMbGIjnZ8jtBIiIiZzuQKxbyTEoMhlKpsHhNcrgvAOB8heXgcvOpMugMAgxGAQdz\n",
              "a/pmoDTk7D5fCQCYmRQKAPD3NAWXWrGg558/ZWNjVincVAq8cmP6gAosATszl2VlZbj22mthMBgg\n",
              "CAKGDx+O999/HwDw+uuvY+XKlXj22Wfh7++PdevW9cmAiYiIHOGQHFx23mspGR7mAwCoqNdarBjf\n",
              "kFUqf3wwtxqLx0X1wUhpKBEEoS24TBaDSylzWd+ixw9ZJXh5SzYA4JklYzExIdg5A+2GXcHl8OHD\n",
              "cfToUYtfS0tLw969ex0yKCIior5U36LDAVMLosmJXb84+3m6IcLfA2V1WlyoaDAr+qltasUeUxAA\n",
              "AIfyqvtuwDRk5FY1oVjTAneVUv7Z9DVlLg/mVuPrY2J3g1tnJuJXk+OcNs7uDKw8KhERUR8rr2vB\n",
              "r17fh6rGVoT4uHe531IiLY1f6LDvct3uXOiNAmICvQAAp4rrBk2Taxq4pKzlhPhAeLmL9Sh+poKe\n",
              "CxWNaNYZcElyKP68aKTTxmgNg0siIhoyzpc3YOl/9uB0SR1Cfd3x7q1T4OnWfUFpUpgpuKxolG+r\n",
              "aWzF27tyAAB/XjwSsUFeMArA8YLaPhs7DQ1ScHmJaUkcaFsWB4BgH3f8e9kEqAfYPsv2Bu7IiIiI\n",
              "HOhksQbXvbYHRbXNSAzxxhd3z8TY2O6zlkBbcPnOrhwU1jQBAN7YeRENWj1GRvnjitGR8mk+uVVN\n",
              "ffcN0IAiCAIEQXDoYxqNAvZeFCvFZ7QLLv0824LLGyfHIdDb3aHP62gMLomIaEhYu+08apt0GB8b\n",
              "gPV3z0B8iLdN90sxLYu3Goz4xSs7kVPZiHd35wIAHpqfCqVSgfhg8bHyqxlcujpBELB642lMenoL\n",
              "pq3eihJNMwBg6+kynC/vXbP9UyV1qG3SwddDjfHt3vj4tMtc3jQtoVfP0R96dLY4ERHRYHOqWDyn\n",
              "+Y9XjECIr4eVq9tMGRaMlTMS8e6eXNS36HHrugNo1hkwPjYA80aGAwDiTMFlQXUTGrV6s2CAXMuG\n",
              "E6V4fftF+fP1hwsxItIft79/CL4eanx857RO59TbSloSnzos2GzZe1xMAH41KRZpkf7yHt+BjJlL\n",
              "IiJyeU2teuSZsorSqTu2UquUeOqq0fj9/FQAbUvfDy1Ig0Ih9seUMpffnyjB2Kc24TfvHkRdi85R\n",
              "w6cBokVnwLMbTgMQ9z4CwDeZxXh+0xkAQINWjxXvHMDFDn1Rm1r1qLfh52FXhxZEEqVSgeevG4/b\n",
              "LhnW6++hPzC4JCIil5dd1gBBAEJ83BFqR9ayvV+Oj5Y/npwYhNkpbQGAFFwCgFEAfjpTjqVrdyOn\n",
              "shHkOt7elYOi2mZEBXji+99dApVSgXNlDThX1gB/TzVGR/ujqrEVt7x9AKWaFgDA98dLMH31T7j8\n",
              "H9vR3Gro8rG1egMOmnqvdgwuBxsGl0RE5PKks8HtzVq2lxjqgxlJIVApFfjDwhFy1hIA4oLNlyo9\n",
              "3ZS4UNGIJWt3y0udNLiV17Vg7bbzAIBHrhiBqAAvszcYT1w5Cu/9ZgqGhfqgqLYZy9/Zjx+ySnDP\n",
              "/45A06xDRb0Wx7rpJnA0vxYtOiNCfT2QGuHb199On2JwSURELu9sWe+DSwB4/ZaJ+On3l2LKMPPG\n",
              "697u5nssv7vvEkyID4SmWYcV7xxAXhUzmIPdmk1n0dRqQHpcIK4yZbH/vmQM7p2TjB8fnI3rJ8Uh\n",
              "1NcD7/9mCiL8PXCurAGrPjxi9hjSqVCWtJ3KE2L2xmUwYnBJREQuT8pcjuhlcOnn6YaEEB+r1yWH\n",
              "++GjO6ZhRKQf9EYBR/Nre/W85FzHCmrx+ZFCAMBffjlKPos+NsgbDy9Mk1tRAWJx1/u/mSofFern\n",
              "qcYD81IAAAfzuj5/vuN54oMZg0siInJ5Z+Rlcf8+ew5p3+WE+EAAgKebCqOixOcrNrWrocFFEAR8\n",
              "fCAfy97cB0EAlqRHmx0B2pW0SD+su3UyxsUG4G9Xj8aCUZEAgCN5NTAYO/fGrG/RIbNQAwCYkRzi\n",
              "2G/CCdgrgYiIXFpVgxaVDVooFOjTvWxvr5iEd3bn4KH5afJtkQGeACAXd9Dgsft8Jf7z83nsPi82\n",
              "NZ8yLBhPXDnK5vtnxAfhm3svAQAYjAL8PNSo1+qx7Uw55o2KMLt2/8VqGIwCEkO8ERtkW//VgYyZ\n",
              "SyIiclmHcquxI7sCgJhZ7Lg30pFSIvyw+ppxCPNrq0aPMvUkLGFwOagczqvGzW/vx+7zVXBXKfGn\n",
              "RSPw0R3T7OqP2p5KqcDicVEAgPs+OooDOeZ7L3dfEJfEZwzyKnEJg0siInJJmQW1uO61vXjwk0wA\n",
              "QFpE7/Zb9kSUv5i5LBkiy+KH82rw5NdZaNDqnT2UXnlnVy4EAZidGoYfH5yNO2cnQaXsXZHNU1eN\n",
              "xuzUMDTrDLh13QEcbrf/co8pO+oK+y0BBpdEROSiNmSVmH3e22Kenhhqy+LXvroH7+3NwzPfn3b2\n",
              "UHqsVNOCH06WAgAe+8UIJIZaL+CyhaebCm/cMhEzkkLQ2GrAyncOILOgFuX1LThbVg+FApieNPj3\n",
              "WwIMLomIyEVJxz1K+rKYpyvRpmXxyoZWaPVdN9B2NdvOlDt7CD323fFiGIwCJicGYWSUY39mPN1U\n",
              "eGvFJEwZFox6rR4PfXoMey+IWctRUf7yqT+DHYNLIiJyOXqD0WzZEeh9j8ueCPJ2g4dafKkt02j7\n",
              "/fmdpbRu8GZqj5uqti9NDeuTx/d2V+PNWyZBqQAuVDTiy6NFAAb/qTztMbgkIiKXc7K4Dk2tBni6\n",
              "KZEY4o3kcF8khvR/Fa5CoUBUgH37LgVBGPR7FgFAZzA6ewg9klUkBpdjYgL67DkCvN3kTPrPZ8WC\n",
              "MwaXREREA9iRfDFrOSMpFD88MBsb758Ftco5L3nyvksbs3kfHSjAmCc34etjRX05LIdr1ZsHk+fL\n",
              "G5w0kp6rb9Hhouk8+LF9GFwCwKSEtn6Z/p5qTB/uGvstAQaXRETkgnJMAUJapB883VRwc1JgCQBR\n",
              "AeK+y8Iay5lLrd6ABz4+ird2XgQA/HhKLCZ59ecLEITODbcHqtrmVrPPO+55HQyyisQxxwR69bjt\n",
              "kK0mtgsuF46OhLvadUIy1/lOiIiITPKqmgAACcHOb0idHC42bpdOCepox7lKfHWsGGs2nYXeYJSD\n",
              "sjOl9fKpLYNBbZPO7PNTJYMxuJSWxPu++Kt9cLlobFSfP19/YnBJREQuJ79aDC7jB0BwKe3dO1lk\n",
              "OVCUzpTW6o04mFuD8vq2wp+PD+T3/QDtVKppwfnyzoFyTaN55lIK8AeTE6b/R329JA4AsUFeWJIe\n",
              "jTlpYbgkxXX2WwIMLomIyMUYjAIKa0zBpROKeDoaHS1mwS5WNuLGN/bixc3nzL6+yxRcAsDnhwsB\n",
              "QF4i/SazeMAV9yx7ax/mvbij057K2mbzzKX0/2Aw6Y9iHolCocDLN07AulunOHXbRl9wre+GiIiG\n",
              "vBJNM3QGAW4qhbzf0ZlCfT0QaTqpZ9/FavxzazYO59XAYBRwolBjFqStPyIGl3PSwjA8zAdNrQZ8\n",
              "l1nc7eNXN7bijR0XoOmwLN0XKuq1uFjRaDZWSW2TmLlMMAX0BdVNg2rPaH8W87g6BpdERORS8k3L\n",
              "sXFB3r0+ss9RRkaZ99hcue4ARv7lB/zy37ssXj86OgA3To4DAHx0sKDbx35k/XE8u+EM3th5wTGD\n",
              "7cbpdvsoOzZKrzEFt2OixcCssdUg3+ZIfRWwnjTtdY0O8OzzYh5Xp3b2AIiIiBwpz7TfMm4A7LeU\n",
              "RJgylwDg66FGfYu41O2hViI53Be/HB+N5zaeka8ZHxeI0dH+WLPpLDILarHtbDkMBgFzR4ZDoWgL\n",
              "mE+X1GHzqTIAbc2///rtSZRqWvDKjRN6VYG8dtt57MquhJ+nGgFebgjycUdlQ9t+0DOl9ThfXo/k\n",
              "cDFwrjFlLiP8PRHu54Hyei0KqpscdupMi86Av313ChtPlODdW6dgXGyA2Vz0Vn8uibs6BpdERORS\n",
              "5ErxAbDfUnLn7OE4kFONuy4djkmJwcitbERyuC9iTdlVncGI/2w7j7oWPW6ZloDZKaFQKBSYPyoC\n",
              "G06U4tZ1BwEA//r1BPxyfLT8uP/edl7++FRxHU4UarBudy4A4JpzFZg/KgIAUFbXAm93Ffw83Wwa\n",
              "7+ZTZViz6azV6w7l1sjBpbQsH+jthrhgb5TXa3GxsgExQV7wUCvhoVbBTaWwKyBs0Rng6aZCcW0z\n",
              "7v7wsFw9/8z3p5Fb1Yirxkfj8StH2fx43enPYh5Xx+CSiIhcSsEAqhSXDA/zxU8PXyZ/nhTma/Z1\n",
              "N5US/719GupbdJjR7qSWGybHY8OJUvnzt3ZexJXjoqBQKHC+vB4bTpQAABQKoKqxFWt+bAsIvz5W\n",
              "hIQQb/xzaza+P1GCEZH+2Hj/LKtjbW414E9fngAAXJMRg4z4IGiadXjt5wuoNxUXRfp7orSuBSWa\n",
              "tsbwUuYyyNsNcUFeOJxXgwc/yTR7bA+1Es8uHYtrJ8Z2O4a8qkb848dz+CazGAtGReBwXg2qGlvh\n",
              "7a5CU6sBB3KrxfnYlWNTcCkIgtWgVgoux8QyuOwt7rkkIiKXklctFmUkhPg4eST2GRsbYBZYAsCs\n",
              "5FCMjQmAm0oMjDILNfLpQ2u3XYAgAAtGRSDZFKzuOFch33djVikWvrwD3x0vgSCIS+gtOoP89ROF\n",
              "GhTXdm7svvdiJSrqtYgK8MSzS8fi5mkJuGdOMpZmxMjXzBkRDkBsSySpkTOX7l1uSdDqjfjrtydR\n",
              "1dD1OeurN5zGpWt+xjemQqYfT5WhqrEVo6P9semB2Z2O8ex4MlBH+y9WYdxTP+KhT47JRUcdNWj1\n",
              "cuN9Zi57j8ElERG5DEEQ5GXxgZS57CmlUoGv75mJk3+9AtdmiNm+bzNLkFfVKB8Ped/lKRgV3db0\n",
              "Oz0uEIkh3jAYBQgCsGhsJDzdxJd7KRjcdrYcv/z3Lsx47icsWbsbb+64iCJToLnjnNgaac6IcHi6\n",
              "qeTHvWPWcHi6KTE81AcT4gMBACXtjrSUlsWDvN0R3m6P6eerpuPM36/Asb/Mx6gof9S16PGPDu2Y\n",
              "JPlVTXjDdFLRpalheP66cRgR6YdfT4nH+rtnIC7YG9dPijO7T/sA15Lt5ypQr9Xji6NFmPfiDvyQ\n",
              "VdrpmpNFGggCEBXgiVAW8/Qal8WJiMhl1Dbp5GIZVwguATHAdFcqMGdEGNYfKcSBnGo0txpgFIDL\n",
              "0sIwNjYAw0LbsrRPLxmDVoMRm06W4poJsUiL9MPcf/yMCxWNKKptRmKoD7440nZu+bGCWhwrqMU/\n",
              "Np/Fp3dNx85sMfs5u0Nj77hgb2x56FJ4uqlwpkRsol6qEQPSFp0BJaaPA73dMD88Aq/9fAFXpUdj\n",
              "UmIwAMDTTYWnrhqNX72+F58fKsRD81M7BXIfHcyHIACzUkLx3m+mAAB+1SGYvGv2cCSF+eBv355C\n",
              "saYFhTVN3fYzlZbu3VVKVDZoserDw7gmIwYvXDceSlM3gRMs5nEoZi6JiMhlSJXi4X4e8HJXWbl6\n",
              "cJliCtJOl9bJPSbvuzwZAHBtRiyGh/rg8cUjMSYmABnxQXjsFyORFikW28QEicFXUU0zWnQG/HRa\n",
              "rDB/45aJ+PvVozEi0g8tOiOe/u40LlQ0QqkApid1PjUmNshb7NsZIGYmS2rFwG3d7lzUtegR6e+J\n",
              "lAhfRAZ4Yvejl+ORK0aYfw/DgjE+NgCtBmOn04dadAZ8dkhsu3TT1Pgu50GtUuKKMVFIiRC/twIr\n",
              "zdqljOwzS8fgt5clQaVU4IsjRdiXUyVfk8ViHodicElERC5DOvZxIFWKO0q4vycSQ7whCIDeKGBG\n",
              "UggmJogBZ1ywN356+DLcPmu4xfvGBIrBYFFtM3ZmV6Kx1YCoAE/MGxmBW6YnYs114wFALpSZEB+E\n",
              "AK+uK8ul4LJeq0deVSP+Y6pa/+MVafBQdx/Ur5iRCAD4cF8+dIa2/ZLrdueisqEVUQGemDsywtp0\n",
              "IDZIbJBfWNN532h70r7S4WE++OMVIzDf9NinS9qOsGSluGMxuCQiIpeRXyUWZQykHpeONGVYsPzx\n",
              "vaaspS1iAsVArKi2GZ+YmrJfMSZSXhYeE+OP6IC2fZIdM44d+Xqo4ecp7qx7dP0J1Gv1GBsTgCXp\n",
              "Md3eDwAWj4tCqK87Suta8ONJMYNa2aCVA9SHF6TZdByi9P+4sKYZeoPloh6DUZD3ZEqnNUnZ3LOl\n",
              "YtP0LafK5JN5uCzuGAwuiYjIZcg9LoMHV6W4rWanhgEQl8inDw+x+X4xpizfjnMV2HK6DAoFcPO0\n",
              "BPnrCoUCf148Ch5qJf6+ZIxZENuVaFOwtveiuLz858Uj5WC1Ox5qFZZNEZe939uTCwB4ecs51Gv1\n",
              "GBPjj6UTrAeoQFvm8sujRZj1/DacL6/vdE1lgxZ6owCVUoFwP3F/Z1twWY+i2mbc878jEATghklx\n",
              "CPNjMY8jsKCHiIhcRp4LL4sDwOKxUfBaocLEhCC7mpHHBIrzUV4vtgCaPzKiU6/NxeOi8It22Uxr\n",
              "IgM8cbZMDOgWjo7ANDuC3ZumJeA/P1/AgdxqfH2sCB8dELOpjy8eZfPzxwa1/T8u0bTggU+O4Yu7\n",
              "Z5qdSiTtt4z094TalA2VgstzZQ3YeroMWr0RY2MC8PTSMTaPn7rHzCUREbkMuYG6iwaXCoUCc0dG\n",
              "INDbviMVpcyl5O7LkixeZ2tgB4htewBArVTg0V+MtGs8Ef6euGJMJADgoU8zYTAKWDDKvgC1fb9L\n",
              "Xw81sorq8NIW8xZH0n7L6MC2Jf+EYG+4q5Vo1hmw3lQ1P3dkuE1L8WQbziQREbmEFp0Bpaa+iwku\n",
              "uueypyLaLfdeNzEWE+KDev2Y4+MCAQC3zRpm1grJVitNhT0GowC1UoHHFtkXoAZ6u+O1mzPw5vJJ\n",
              "eOH6cQCA17ZfwP6LbVXgUjW7tN8SEKvNU8LFrG1mQS2Atkp8cgwuixMRkUsorGmCIAA+7ioE+9iX\n",
              "2XN1apUSv7s8GecrGvD3qx2z/PurSXGYlBCE5HBf6xdbMDEhCGNi/JFVVIdbpif0KEC9YkxUu/HE\n",
              "4tNDhXjo00xsfGAW/D3d5GXx6EDzzO242ECcLK6TP3dEsE1tmLkkIiKXIJ/ME+Jj137EoeKhBWn4\n",
              "z00THdb/U6VUICXCr8dzrVAo8PINE/DHK9Lwx4XdV6fb4i+/HI2EEG8U1TZj9YbTANq2SXTcFnD/\n",
              "3BT54zAX7InqbAwuiYjIJbRVinNJfLBIDvfFby9Ldkhw5+uhlrOyW06XAwCyyxvE5+lQvBQZ4Il1\n",
              "t05GmJ8H/rgwrdfPTea4LE5ERC7BlRuok20mJojL2xX1WpRomuXTe1IiOi/dz0kLx8E/z+vX8Q0V\n",
              "zFwSEZFLkIJLV22gTtb5eKjlhvEbT5RCEIBgH/dOZ5hT32JwSURELiHPdDoPM5dDW6opS7nhRAkA\n",
              "9LjgiHqOwSUREQ16LToDCkxnTLvq6Txkm9QIsUn6obwaAJDbDlH/YXBJRESDmt5gxL3/O4pWvRGh\n",
              "vu5mDbNp6EkxBZfy5wwu+x2DSyIiGrQEQcCjX5zAltNlcFcrsXZZhnzMHw1NqR2Kd1I7BJvU9/gb\n",
              "SEREg9bXx4rx+eFCKBXAv389AVPtOD6QXFNqhB8i/D2gVIiN1ScP4+k7/Y2tiIiIaNDan1MNALh1\n",
              "5jAsGB3p5NHQQODppsL3v5sFo1FAuD+3SDgDg0siIhq0TpeIR/hNiA907kBoQGHrIefq8bL4unXr\n",
              "oFAo8NVXXwEALrvsMgwbNgzp6elIT0/HSy+95KgxEhERdWI0CjhbWg8AGBHp7+TREJGkR5nL3Nxc\n",
              "vPnmm5g2bZrZ7S+99BKWLFniiHERERF1K7+6Cc06AzzUSiSytyXRgGF35tJoNOL222/Hv/71L3h4\n",
              "MO1MRETOcaZUXBJPjfBjhTjRAGL3b+OLL76ImTNnYuLEiZ2+9uijj2Ls2LG44YYbcPHixS4fQ6vV\n",
              "oq6uzuyfwWCwdyhERDSEnS6RlsTZaoZoILEruMzKysL69evx+OOPd/raBx98gDNnzuD48eOYNWsW\n",
              "rrzyyi4fZ/Xq1QgICDD7d+DAAftHT0REQ1Z2uRhcpjG4JBpQ7Aoud+7cidzcXKSkpCAxMRH79u3D\n",
              "nXfeiVdffRVxcXEAAIVCgXvvvRcXL15EVVWVxcd57LHHoNFozP5NmTKl998NERENGQXV4nGPiSE8\n",
              "7pFoILEruLz77rtRUlKC3Nxc5ObmYtq0aXjjjTdwxx13oKysTL5u/fr1iIiIQEiI5Wa2Hh4e8Pf3\n",
              "N/unUql6950QEZHLyirSYO4/fsbGEyXybYU1TQCA2GAvZw2LiCxwSJ9LrVaLxYsXQ6vVQqlUIjQ0\n",
              "FN98840jHpqIiFyY3mDEbe8dgp+nGv/69QQoFAqL1312qAAXKhrxxNcncVlaOAyCgJomHQAgJpDB\n",
              "JdFA0qvg8ueff5Y/PnToUG/HQkREQ8yZ0npsP1cBAHh88ShEBpifqFLZoEVtUyuOFWrkz9/fm4vL\n",
              "0sIBAIHebvDzdOvfQRNRt3hCDxEROc1xU9AIACeKNGbBpSAIWP72AZwyncIjeW37Bfk6Zi2JBh42\n",
              "BiMiIqc5UVQrf5xVpDH72pnSerPAMsjbDcPDfFDTpMMLP54FAMQGMbgkGmgYXBIRkdOcaBdQdgwu\n",
              "2xfvAGKz9PvnpgBoqxSPDeLJPEQDDYNLIiJyihadQT4bHDAPNAFgY1ap2edxwd745bhopEW09bVk\n",
              "5pJo4GFwSURETnG2tB46gwA/TzWUCqC8XosP9uaiRWfAvotVyC5vgLtKiRd/NR5ThgXjwfmpUCoV\n",
              "eHB+ivwYzFwSDTws6CEiIodp0Rmw6WQpIv09MXW45V7HkpzKRgDAqCh/CAAO5FTjia9P4pWt5+Hn\n",
              "Kb48XT8pFtdkiP8kC0dHYtrwYBwv1GB8bECffS9E1DMMLomIqNeKa5vxwb48fHQgH7VNOvh5qHH8\n",
              "qQVd9q0E2pqgxwV7429Xj8ZHBwrw9s6LKNa0oLJBC3eVEvfMSe50P4VCgfd/MxU6gxE+HnwZIxpo\n",
              "+FtJRES98uG+PDz5zUkYjIJ8W71WD02zDoHe7l3er6hWLMqJCfSCt7sat10yDMunJ+C748VYf7gI\n",
              "C0dHILqLVkPuaiXc1dzZRTQQMbgkIqJe+epoEQxGARnxgVh1aRIe/iwTdS16VNRruw0uC2ukiu+2\n",
              "ANJNpcTSCbFYOiG2q7sR0QDHt31ERNQrUgbyiStHYcHoSIT7iw3OKxq03d/PFFzGsOKbyKUwuCQi\n",
              "oh7TGYwoq2sB0BYkhvqK2cqK+q6DS6NRQKEpKI1jxTeRS2FwSUREPVaqaYFREPdAhvp4AADC/MTM\n",
              "ZWVDa5f3q2zQolVvhFKBTueJE9HgxuCSiIh6rMBU8R0T6AWlUqwMt5a5rG5sxes7LgIAIv094abi\n",
              "SxGRK2FBDxER9Zi8b7JdVXeor5jBrLSw51KrN+DXb+zD2TLxZJ5QP49+GCUR9Se+XSQioh6Tinna\n",
              "V3yHmQJGS5nLV7Zky4ElIPa4JCLXwuCSnEJvMCKnshGCIFi/mIgGLEuZy7AuMpfHCmrx2vYLAIB7\n",
              "5yRjdmoYfjMzsX8GSkT9hsvi5BTPbzqLN3ZcxDsrJ+HyERHOHg4R9ZDcCN1K5rJFZ8DvPz0GowBc\n",
              "nR6Nhxem9e9AiajfMHNJTnGmVFwWyyqqc/JIiFxHQXUT/v1TNv7vhzMoN7UHau90SR1WvHMA32QW\n",
              "O+w525+yI5H2XFY1tsJoOrXnxc3ncKGiEWF+HvjrVaMd9vxENPAwc0lOoWkSW5SUWXgBJKKeuf/j\n",
              "oziSXwsAyC5rwFsrJslf++lMGe7731E0thpwvrwBvxwX1e25313JrWzEPzafw32XJyMqwBP51WK1\n",
              "+PAwX/maEFO1uMEo4KtjRUgO98WbO8Xq8NVLx3Z7ag8RDX4MLntIEIQe/WEmkaZZBwAoq+v+BA8i\n",
              "sk1eVaMcWALAltNlOJxXjYz4ILy9KwfPbjgN6ejvotpmnCyuw5iYALuf5/9+OIONWaVo0upx2yXD\n",
              "IAhi1jKsXdW3m0qJUF8PVDZo8dCnmfD1UEMwLYfPG8VtMESujsviPVBRr8WM537Cb/972NlDGbRq\n",
              "TcFleT0zl0SO8K1pqXtWSihumBQHAHjiq5P405cn8PT3YmD56ylxmDcyHACw6WSp3c9RUa/F5lNl\n",
              "AIAd2RX4+VwFACA9PrDTtX/55ShcmhoGAGjQ6uGuUuLhBdxnSTQUMLjsgS+OFKJE04INJ0pR09j1\n",
              "CRRkmdEotMtcMrgk6i1BEPD1MTG4/OX4aDy0IBXBPu44VVKHjw4UQKEAHl88Es8uHYvF46IAABuz\n",
              "Su3u1rD+SCH0pvSnziDgDVMj9AlxgZ2uvWp8NN77zRTcNXs4AGDlzES2HSIaIhhc2kkQBKw/Uih/\n",
              "vvdilRNHMzjVa/WQXtMq6rUwGNmOiKg3zpTWI7u8Ae5qJa4YE4kIf0/869cToFIq4OOuwlvLJ+H2\n",
              "WcOhUChw+YgIeLmpcL68AdtNmUdbCIKATw4WAABGRPqZfS3dQnApefQXI/Djg7PxyBUjevS9EdHg\n",
              "w+DSTieL63CurEH+fM+FSieOZnDSNOnkj40CUNXIfZdEvSFVf89JC4O/pxsAYGZyKDY/OBvb/nAZ\n",
              "5o5s2+cY4OWGm6bGAwBWrjuIdbtzoDMYrT7H/pxq5FQ2wsddhbdXTkZSmA8AwF2l7HbvpkKhQGqE\n",
              "H1RK7lEnGioYXNrp88Ni1lJqtbEzu9IsWOoNQRAsHpfmaqQlcUk5i3qIesRoFCAIgrzf8qrxMWZf\n",
              "Hx7mi3A/z073u2P2cLirxT//f/32FP7903mrz/XxgXzxOdKjERPohe9/NwuPXDECa64fB083VW+/\n",
              "FSJyIQwu7aAzGOUMwRNXjoRSAeRVNWH6c1uRU9nY68f/9FABJj29BZ8eKuj1Yw1ktc3m+1S575LI\n",
              "fj9klWD0k5uweuMZFNY0w8ddhbmmYh1rIvw98epNGbg6PRoA8Nr2CygwtRSyRNOkw4YssQDoxsli\n",
              "1tPTTYW7L0vC1ekxXd6PiIYmBpd22H62AtWNrQj19cDisVH4+5IxCPV1R1OrAQdzq3v9+Psuio/x\n",
              "3/35vX6sgay2Q6aX7YiI7PePH8+hWWeQi2oWjI60K4M4d2QEXr4hHTOSQqDVG/GXr7O6LPD58mgh\n",
              "WvVGjIzyx7hY+9sXEdHQwuDSDlIhz5L0aKhVStw0NQELR0cCQLfv+m1VohFPusgsqEWpxnWzeR2X\n",
              "xZm5JLJfQoiP2edXjY+2+zEUCgX+dvUYuKuU2Ha2At8eL+l0jSAI+NhUyHPj5Dj29yUiqxhc2qi2\n",
              "qRVbT5cDAK7JiJVvTwgRW2vkVfU+uGyfwdt8yv4edINFpz2X7HVJZDc3VVuQF+TthktSQnv0OMnh\n",
              "vrj38mQAwF+/OdmpvVpBdTPOlNbDXaXEEi6BE5ENGFza6NvjJWg1iMtCo6L95dvjTX3b8nuZuRQE\n",
              "Qc5cAsCmk2W9eryBTAou/TzFA6JY0EP2sqW62dU1tRrkj++Zkww3Vc//nK+6NAmpEb6oamzFMxtO\n",
              "m33tfEU9ACAp3BcB3m49fg4iGjoYXNpIqsa8NsP8nXtcL4NLg1GAwdRUvEXX9oK572KVw6rQB5pa\n",
              "07niqRFir7wyZi7JDm/tvIhRf/kBT31zEg1avbOH4zTNOjG4XLssA7fPGt6rx3JXK7H6mnFQKMSO\n",
              "GLuy21qsXSgXixWHh/l0dXciIjMMLm3QojPgmOnM3nkjzc/FlTKX1Y2tqG+xLxjUNOswffVW3Pru\n",
              "QZSY9lgG+7gjNcIXeqOArWdcM3spZS7l4JKZS7LDppOl0BkEvLsnFwte3I6tp13z98SaZlPm0svd\n",
              "MX/GJyYEYfm0BADAn748IT/+hQqxr29SmK9DnoeIXB+DSxtkFWnQajAi1Ndd3mMp8fN0Q7CPOwD7\n",
              "s5eH86pRXq/FjnMVOFGkAQBE+nvKRUI9Oft3MJCqxdMixBerygYt9FzmJBsIgiAfYhDs445iTQtu\n",
              "e+8Q7vnfkSG3d7epVczaermpHfaYf7hiBKICPJFf3YSXt5wD0D64ZOaSiGzD4NIGh/JqAIjv7C1V\n",
              "SkrZS3srxk+X1MsfS8vuUQFtweX2cxVy9sCVSJnLYWG+UCkVEASgsoFntJN1lQ2t0DTroFQAWx+6\n",
              "FHfNHg6VUoHvj5dg3j+247XtF7Budw7Kh0AHAulvg7e74xqY+3qo8fSSMQCAt3blIKtIg4sV4rI4\n",
              "M5dEZCsGlzY43C64tEQKLu2tGD9VXCd/vNO0xykiwBOjo/0RE+iFFp0RO7NtP/t3sKioF5fBQ33d\n",
              "EWY66YjtiMgW2WXiG7L4YG8E+bjjsUUj8fU9MzE2JgB1LXo8t/EM/vrtKbyyNdvJI+17TTrHB5eA\n",
              "2P/yynFRMBgF3PXBYVSZqse555KIbMXg0gZH5OAy2OLXIwPE49WkoMlWp0rqOt0W5e8JhUKBBaPF\n",
              "vZ2uVjVe16KTX6wSQnwQ4S8Gl+V2zh0NTdnl4hJtcriffNuYmAB8+dsZeOLKUfJtxbXNne7ratr2\n",
              "XDr+6MUnfzkaAV5uKDLNY3SAJ7zdHbf8TkSujcGlFVq9QQ6GksMtLwsFeYt7LqubbF/abdDqkVvV\n",
              "+chIKVCVlsa3nilzqf2IuaZjMkN9PeDroUa4v/j9MnNJtjhnylymRpj/LqpVStx2yTC8fstEAEBt\n",
              "s2t2WpAYjAK0evHvglcfnOsd5ueB564ZCw/T+eNTh4c4/DmIyHXxragVjdq2PY++HpanK9hH7P3W\n",
              "sflwd44X1kIQgAh/D0wfHoIfTpYi3M8TM5PFRsiTE4Ph5aZCbZMOhTXNSAx1jSWpXNPWgWGh4lYC\n",
              "OXPJ4JJskG0q5kmJsPxGL9BL/F101TZeEqkNEYA+yyj+YmwULksLR151IxJDXOPvDxH1DwaXVjS0\n",
              "iBWZ3u4qqJSWjz0L9hEDpGobX9B2nKvA7z4+CkDcx/nyjRM6XaNSKuDnqUazzoDGVtfp5SdlLqUX\n",
              "qwg/KXPJZXHq2p7zldAZBRzKqwYAjI2xfL51oGkVwdUzl1KluEIBeLr13QKUl7sKIyL9rV9IRNQO\n",
              "g0srpCbNPl1kLQHbM5eCIODV7RfwwqazMArA+NgA/OXK0V1e7+OhBuq1ZidxDHZycGnKxIabMpds\n",
              "pE5dySrSYNlb++XP54+KMNtz2V6g6QSZ2qZWGI0ClF28IRzs5P2Wbiqe9U1EAw6DSyuk4NKvm+BS\n",
              "2nNpLbh8ZP1xfHqoEABww6Q4/PXq0fDsZr+UtJfKlYLLHNM+02FycMnMJXUvp7Jtb7JCAfxhYVqX\n",
              "1waYlsWNAtDQqoe/p2seVygti/fFfksiot5icGlFo02ZSzG4rNfq0ao3wl3deZkqp7IRnx4qhFIB\n",
              "/H3JGCybEm814+DjYQouXeiIu66WxSuYuaQuVLd70/berVPkk50s8XRTwdNNiRadEZomncsGl019\n",
              "WClORNRbrBa3ot4U2HVVzAMA/p5ukFbfattVjBuNgtzK48ujRQCA2alhuGlqgk1LWV6mjfqukrms\n",
              "a9GhxrQvNbFDQU9lQyt0LlQVT44jdWu4aWo8ZqeGWb0+0Mu079KFi3r6ooE6EZGjMLi0wpbMpVKp\n",
              "sNiOaN2eXMx87if85+fz+MoUXC6dEGPzc/u4S8viljOXgiDgfHkDDEbB5sd0pkpTL0s/D7Vc4Rrk\n",
              "7Q43lRho29snlIaG6kbx5yLEtEJgjbzvstl1T31qy1xy8YmIBh4Gl1ZI1eJ+nt3/EQ8yvfC1X8Jb\n",
              "tzsHAPD8D2eRX90EH3cV5o+KsPm5vdy733O5bncu5r24HR8dyLf5MZ1Jmptg37YgQalUINyPvS6p\n",
              "a/LPjY3BpbTvUuPCFePSG05v7rkkogGIwaUVbdXi3f8RD5aLetpe0KQmx4BYiPDUVaPt6knnY7q2\n",
              "sYvgcv0RsTjoSH6NzY/pTNLyppTllYT5SUdAMnNJnUnnzgebjgq1RgouXXlZvEXHPZdENHBxTcWK\n",
              "BnnPZfeFAUGmdkTSsnhlg1Ze5r1idCSuSo/GorFRdj23tJ+q2cKyeHFtM06aziYfLBk/KQPVcXmz\n",
              "7QjIwfF9kGUF1U3wcFPKmWhH6ernpivSsrhrZy4ZXBLRwMXg0opGObi0krn0MW9HdNp0bviwUB+8\n",
              "ZjqSzl7e3WQut54plz8u1fRdUCYIAr47XoL0uEDEBXv36rG6Wt6MMLUjKmfmctCqb9Fh1vPbAAA5\n",
              "qxc5tPeiHFz62hpcSgU9rr/nksviRDQQcVncCluqxYF254t3CC5HRnXdNsWatsxl5+Byy6ky+eO+\n",
              "XE7ee7EK9310FH/68kSvH6uqofOeS6AtuBwsGVjqrLi27f9dTYfl6F3ZlTiUW92jxzUYBdQ09WzP\n",
              "pSsvi7NanIgGMmYurZAKerqrFgfaXvi+O16C8+UNcuPn3hyd5m3KljZ26HPZqNVj74WqtjFq9ahv\n",
              "0cGvD3r6XawQv49iU0ul3pCChI7Lm+HSnktWiw9aWn3bG6Di2mb596Ggugk3vy2ernP26SvgobYv\n",
              "GKppaoVgaobQca9uV9qqxV03uGS1OBENZMxcWiEFdtaqxZPDfQGIey13na+U+1tmxAf1+LnlzKXO\n",
              "PHO5M7sCrQYjEkK85XFZy/ptPV2G33+aaVbNbgtpyb2upfeN3Lsq6GlbFmfmcrCqa277+Wj/RmRH\n",
              "doX8cfuTdmwl/bwGeLnBTWXbnyupz6XGlTOXOnG+eUIPEQ1EPQ4u161bB4VCga+++goAUF5ejiuu\n",
              "uAIpKSkYM2YMduzY4agxOpWtBT2Xpobhy9/OwGs3Z+DlG9Lx3DVj8fotEzEzOaTHz+3lZtpz2SFz\n",
              "ufmUuN9y3sgIRJoCs1JN11m/7ecqcNcHh7H+SCGe23jarjGUSMGlA7JAcr/CDsvi8vniDC4HrfqW\n",
              "tp+PknZ7gHecawsuz5bW2/240lYKW4t5gLbiupyqRrmq2tVwWZyIBrIerank5ubizTffxLRp0+Tb\n",
              "Hn30UUybNg0//PADDh48iKVLlyInJwduboP7+DVbWxEpFApM6EWW0hL5+Md2ey4NRgHbzrYFl+fK\n",
              "6pFd3oDSbgKzv3ydBb2p0fpnhwsRGeCF6zJiER9ivUCntE7MQmn1RrToDPB0U+FMaR3+/t0p3HbJ\n",
              "MFw+wva+ndXSnksf85Yy0hGQNU06aPUGu5dOyfnqWzpnLnUGI3afb9u+ca7M/uDS3mIeAJgQF4RI\n",
              "f0+U1rXgrZ0Xce/lKXY/70DHanEiGsjszlwajUbcfvvt+Ne//gUPj7Yg4dNPP8WqVasAAJMnT0Z0\n",
              "dDS2b9/uuJE6SYONy+J9wdtCE/Wj+TWobmyFv6cakxKDbCqGKTEVW0xKCIIgAP/cmo2HPj1m0xja\n",
              "Z6GkAOLlzdnYfb4Kd31wGFtPl3V1VzOCIMjL4h2zUIHebnA3LXmyYnxwqmuXuSw2/cx8d7xY/v0B\n",
              "epa5lLLdthbzAGLA9diiEQCAtdsuoETT+/3CA420VYaZSyIaiOwOLl988UXMnDkTEye2tdepqqqC\n",
              "TqdDZGSkfFtiYiLy8y2fHKPValFXV2f2z2AYeMtXgiDYdPxjX/G2cLb4ltNi1nLOiHC4qZTysvia\n",
              "TWfx1DcnOz2GVm9Aq+nM7pduSMeyqfEAxMbrNVb2XwqCYNbmqK5Fh4p6LbaYAkqdQcDdHx7B9nZL\n",
              "n11pajXITeU7BgoKhUJeGi9nUc+gVNchc5lVpMFjX4gdBqYkBgMAzvYgc3mqRLxPTKB9bbCuGh+N\n",
              "SQlBaNYZ8NzGMxAEAVlFGpdZJpe2qTjj7xIRkTV2BZdZWVlYv349Hn/88V496erVqxEQEGD278CB\n",
              "A716zL6g1RuhM4jLydZaEfUFbwtni0uB3dyR4nJ0REBbw+p39+TicJ75aT0N7V70owO98OzSsUiL\n",
              "8INRAHadr+z2+eta9GaBbV2zDl8eLYTeKGBcbACuGB2JVoMRd75/CLutPJa0vOmhVlrMtrCoZ3Br\n",
              "v+cyp7IRd75/CC06Iy5NDcN/bs4AABRUN3faP9wdQRDkPZuXpNi3d1mhUOCpq0ZDoQC+PlaMW989\n",
              "iCv/tQsvb8m263EGqsIaMRsbG+Tl5JEQEXVmV3C5c+dO5ObmIiUlBYmJidi3bx/uvPNOfPrpp1Cr\n",
              "1SgtLZWvzc3NRXx8vMXHeeyxx6DRaMz+TZkypXffSR9o/0Lo44SWH1LmsllngCAIKNE043x5A9RK\n",
              "BS5NDQMgLnW7qdoaVr+x44LZY8h7Rt1VUCnF6y5NE+9rLePYcam9rkUv76G7ZkIM/vnrCZg3Mhxa\n",
              "vRF3vH+o20r09g3ULTXYjmBRz6DWfs9ldWMrijUtGB7qg3/+egJCfT3kIz6zyxtsfsyLlY0oqm2G\n",
              "u0qJacPtL4wbExOAGybFAQB+Piv+rL+3J9fuxxloGrR6eYtJbw82ICLqC3YFl3fffTdKSkqQm5uL\n",
              "3NxcTJs2DW+88QbuvvtuXH/99XjttdcAAAcPHkRRUREuvfRSi4/j4eEBf39/s38q1cDbO9Q+MFMq\n",
              "HXfiiK2kDJ8gAC06I/KqmgCILyhSo+iRUf449pcF2PzgbADAj6fKzLJ/0ou+b7s9o7NT2oJLQWoi\n",
              "aEFJh5N/6pp18pGWCaE+cFcrsfamDMQEeqGp1YBTpuMoLalssFwpLpGODGSvy8GpfeYSEPcov7li\n",
              "kvxzmhYhHiZwzo59l1LWclJikPxGy14PL0wz2y/dm0MNBoqCavHvQJC3G/z7oLctEVFvOazP5f/9\n",
              "3/9hz549SElJwcqVK/Hhhx8O+krxehsbqPeV9j3sGlv18v5HaZ+lxMdDjZQIPwwL9YEgABcq2voJ\n",
              "Nlg4YWhSYhC83FSoqNfidEnXL/alHQoh6lp0qDAFiWG+YibKQ63CsFAf8fruiorksVtexmM7osGt\n",
              "feZSpVTgn7+egKQwX/m2VFNwac++Sym4nG3K0vdEqK8Hnlk61uI4LSnVtGCPlS0ezpZvCi7jmbUk\n",
              "ogGqV1HTzz//LH8cERGBH3/8sbfjGVCkgCiiQzDXX5RKBbzcVGjWGdDcakCxKdiLCrQ8ntggL+RU\n",
              "NqKwpgmAuIzYIGcu2wJ9TzcVpieF4Kcz5diRXYFR0ZZPEeqYuaxt0snL26G+bZ0CIgNsqFg3jT26\n",
              "i7FL7YhYLT44SdXir9yYjoz4oE7LtWmRYqBpa8W4Vm/AvovikZFSpr2nrhofjeGhPrjyX7ugsdKv\n",
              "9YY39iKvqgnv/2ZKr4LaviRlLrkkTkQDFU/o6UZRjfhH3Jmb5qVel42termlUHSA5fFI45Q2+wPt\n",
              "Wil1yL5Keza3n+1632Vph+Ayv6oJBlO/zPbL222N3K23Q4oM6CK4lAp66pm5HIykjGBMoJfFoCfN\n",
              "dAyqrZnLQ7k1aNYZEObn4ZClbGl53lpwKW09+eRgQa+fs68wc0lEAx2Dy25IQVpMoPOCS692vS5L\n",
              "rGYuxRcbS8FlxybwUnB5KK/arBdhe1LmUvr+L1aKxRhB3uZH8UkV67Ysi3cVGLcV9DBzORhJwWVX\n",
              "59unmI5HrajX2nQEqbwknhJmsQDMXv6m4FI6DMAS6Y0TAORV239UZX9hcElEAx2Dy25I54M7NXMp\n",
              "9brUGlBsyv5FdZH9a8tcNsm3dXV8ZWKoDxJCvKEzCNh7oQqWSJnI1AgxMJD2crZfEgfaMpe2LIt3\n",
              "NfZw02NomnUu04twKNiVXYl5L26XA8auDhvw8VAjLlj8+bTlpJ7t8n7LUIeM089DDSlGrWuxnL2s\n",
              "amh7Y5Nb2QSjsetiN2dicElEAx2Dy27Imcsg5/0RlzKXNU2tcmYwyp5l8ZauTxhqqxovt/h4UkCY\n",
              "GikuS1rabwm0BZcd92hKxDZK3Y/d31MNTzee0jNYtOgMyKtqxM1v78f5du2FujvJKi1CXBrPLKjt\n",
              "8poGrR5Ftc04U1oPhQKY1cv9lhKlUiFXVtd1sTTevoF/g1aP8xW2t03qL7VNrcg3Ld0nmArpiIgG\n",
              "Gh7v0I2BkLkcFeWPo/m1+MePZ+Xgrus9l2IQXFrXAr3BCLVKabFaXHJpahg+2JcntyRqv/zY1KqX\n",
              "T11JDTff8yb1LJRI+ygrG7TQGYxmS+aAdGa4eDpPRID5fSUKhQJhfh4oqG5GRUOLTeeeU/+qbNBi\n",
              "+dsHcKGiQf7/2VF3/WBnJodgy+kybD9XgbsuTer09dMldbjmP3vkow3HxgTYdeyjNQFebtA067rc\n",
              "d1nRYP6m5nBejVzlPlB8f6IEeqOAkVH+Tt2uQ0TUHWYuu9DUqpeDuRgnBpd/WJiGqABP5JqyFV5u\n",
              "Kvh7WX4BD/P1gLtKCYOxLVNoqc+lZHpSCNxUChRUN8uPL5GWxH091Iju8CLWMXMZ4uMON5UCggC5\n",
              "D2Z7xaYgPdTXAx7qrvuZSkv3DVouiw9E+y5W4VRJnRxYKhSQ21BJuusHOyctHABwMLe6U19MAFi7\n",
              "7bwcWAK9rxLvyFpRT8ef3fbbSwYCQRDw5ZEiAMDSCdFOHg0RUdcYXHahyLS07O+pdmqj4kBvd7x0\n",
              "Q7q8Xywq0LPLAgelUiEHwtLSeINWfCG1lLn08VBjUoJ47vOeC+a9/eSemgGenYLZUD/zbJJSqZCb\n",
              "oFsq6pGLebooRJL4SpXxdhwRSP2nrln8/zI7NQyZTy7AhWcWYdvDlyG0i8b4HSWG+mBYqA90BkE+\n",
              "6UlSUN2EDSdKzG5zdCsge4PLynrrhUd9rUVnwLaz5Xjiqyxc8n/bcCivBgoFcNX4GGcPjYioSwwu\n",
              "uzAQ9ltKpg0PwT2XJQNoq7rtSqJpOXlHtlgQIbci6mIvXHp8IAAgq8j8dJ22PZKenYLrMN/OS9ty\n",
              "tXeHfZdavQFbTeehd2z+3pHUrL6r6vWOKhu03e7fI8eSgrIwXw8EeLnJWcrxsYE2P8ZlpqNHn990\n",
              "Rs5oA8AXR4pgFIAJ8YEI9fVAfLA3JsTb/ri2kIPLpu6DyxDTUnzHZfL+YjAKeGvnRdzy9n5M+Ntm\n",
              "3LruID7Yl4ei2mZ4qJW4a3ZSly29iIgGAu657IK033Kg7Gt6aH4qxsUGYHxcYLfX3TglHtvOVuCD\n",
              "vXm4a/bwtibqXZwyNDYmAACQVaQxu13KQEb6eyI60AtJYT5t1eJ+nYPL+GBvHMmvxenSevxibBQA\n",
              "4Oez5fjrt6eQUyneb1ZK95W/UnBpa+bytx8ewcG8anx/36wuG8GT40jBpRSkSZ66ajSOFdTihslx\n",
              "Vh/j9lnDsSmrFBcrGnHdq3vwwe1TkRTmi8P5NQDEM+uvSo+BSqnotHe3t/zlzKXlny8puBwZ5Y9d\n",
              "5yvlI0v7k8Eo4OHPMvHl0SL5tqgAT1w+IhxzR4Zj+vBQuciPiGigYnDZBemFRsrIOZtSqcCC0ZFW\n",
              "r5s/MgIjIv1wprQe63bnol7b/RGWY6LF4PJsaT1a9Ua4q8UX9Patg1RKBV65cQKu/NcuAJYD7qnD\n",
              "Q/DVsWLsu1AFYZ6Ax744gY9NjajD/Dzwp0UjsCS9+6U8X3f7gsu86kYIArDtbDmDy34gtfDpuE0i\n",
              "Ltgbhx6fZ1M/yphAL3x29wzc8vZ+XKxoxPWv7cW6lZNx1BRcTogP6hS8Oor0uF21IpJ+50dFm4JL\n",
              "J5xzv+lkKb48WgS1UoHfL0jDpalhGBnl55Ben0RE/YXL4l2Qz9C2kKUbyJRKBe69XFxCX7c7B1UN\n",
              "4r6xrjKXccFeCPByQ6vBaNZ/sG3PpRhIjokJwH9vn4pnlo6xWEE7I0k8bvJoQQ3OlNbj44MFUCqA\n",
              "2y8Zhp9+fymWToi1+gLZtixuW0GPtAewqz6d5FhdZS4B2BX8xAR64bO7pmNsTACqG1tx9drdqG/R\n",
              "w9tdhRGRfVedLQXF1qrFR0WJb1QqG1ohCH3b6/KHrBKzrR2HcsUge9nUeNx9WRJGRfszsCSiQYfB\n",
              "ZRekXouDLbgEgF+MiUJSmA/qWvTyC2lXey4VCgXGxIgvpu2XxtvvuZTMTA7FTVMTLD5OfLA3YgK9\n",
              "oDMI+N/+fADAiEh/PH7lqC5PbenInoKeVr1Rriw+lFcNrZ4V5n1N6g/piAK3EF8P/O+Oqchot69y\n",
              "fGwg1A5eCm/P1oKeEabjJlsNRvkNTF/4IasUqz48gl+9vlcOMLOKxd/BcXbsYyUiGmgYXHZBzlxa\n",
              "KF4Z6FTtspeSrjKXgJiVBICDpqwJ0Ja5jLBShCNRKBRy9vKLI4UAgJSI7ouPOrJnz2X7VjYtOiMy\n",
              "CzTdXE2OUNdN5rIn/Dzd8NIN6fLnaX2YtQS6Dy7rWnRyIVlckLf8ZqyvinqaWw34+3enAIhHUt7+\n",
              "/iEU1TbjVLFYWCe94SMiGowYXHZB2m81GDOXAPDLcdFIaNeI3FKfS8llqWL/wa1nyqA3GKHVG1Bl\n",
              "6vHZ1XGNlsxIFoPLxlYxi2hvA2opuKxuasXHB/JR29R1KxipwbuES+N9T5pzfwfuiUwI8cGa68Zh\n",
              "RKQfVsxIdNjjWiLvubQQXEqnDEX4e8DHQy3/3vdVUc/GrBIU1TYjKsATaRF+qKjX4sY39qJBq4eH\n",
              "WonkMPvemBERDSQMLi0QBEFeIhuswaVapZTbF7mrld02L5+cGIRgH3fUNulwIKda3hLgoVYi0Nv2\n",
              "QGJGknk1eLKVtkkdSdnVn89W4NEvTuDaV/d0eW3H7NPei5VdXEmO0t2ey964flIcfnhgdqeG7I4W\n",
              "4iMFjJ3ftEjBpfQzKx0UYOlQAEe4YDpacu7IcLy1YhJCfNxRUC0W0Y2I9OvT7QFERH2Nf8EsqGvW\n",
              "o9UgnkLS8TSawWRpRgx+PSUeD81P7fY6tUqJ+SMjAAA/nCw1229pTzFBhL8nksLaAgRrPTk76ljR\n",
              "fqGiEUaj5YIKKfvkZ7rPkbxatOi477KvCILQtueyixOiBrpwU+eHqkbxmNL2LkjBpSljKG2H6avM\n",
              "Zb4pkIwP9kZcsDfeWD5R7tQw2rRNhYhosGJwaUFFgxhc+Xuq4ek2eHvKuamUWH3NWKyycI5zR1eM\n",
              "EdscbTpZKje37kmjZil76a5WIj7Yvgb0Ph6d5/pUSZ2FK9vayYyM8keEvwdaDUYcyauxeC31XlOr\n",
              "AXpToN9XrYL6WrC3O9RK8ZjSjkFj58yl2Ei9z4LLKrH3a3yw+GZsYkIw/nnjBIyNCcANk6z3CyUi\n",
              "GsgYXFogLQuH21jM4gpmJIfA10ONsjotfsgqBQBEBdjfQF5qlN6TpT1LRUfSSUMdSVW8/l5umD5c\n",
              "3Ou59yL3XfYVKZh3UyngNUjfcInHlJpOkqrrEFyalqmTTMGltB3mRFEd9B2ynI6QXy2eW97+DdgV\n",
              "YyLx7X2XWD0ogYhooGNwacFgrhTvKQ+1CpePEAt7fjgpBpc9yVzOHxWB1deMxf9dO87u+1pq9L4r\n",
              "2/JeSinYCfByw3RTlTqLevpGbVMrvj5WDEBsQzSY+y5KbxjL6tqOKW3RGVBgCvakzOWkxGAAwI5z\n",
              "FVj25n6z63urrkWHGtMRlPEhzj9elojI0RhcWjDYi3l6Sloal1g7C9wShUKBX0+Jx8go+1upWMpc\n",
              "niyus9jIuv3+v+nDxWxpZmEtmlr7ri/hUPXwZ8fx3MYzAAbvkrhEOnGrvF2hzqmSOhgFcRuM9IZy\n",
              "2vAQrF2WAV8PNQ7kVmPRKzu7fKNjr/wqMZAN8XHvtkUYEdFgxeDSgqEaXF6WFibvNQN6lrnsDUuZ\n",
              "S02zDtWNnat75aMIPd0QF+wlN3A/lMt9l4625XSZ/LHfoA8uxZ/p8naZyJe3ZAMALk0LN8vKLh4X\n",
              "hW/unYkRkX6oamzFinUHcNG0fN4bUpaUWUsiclUMLi3Yn1MNAGZ9IocCb3c11lw3Xv7c0hniffr8\n",
              "HfbySZnTCxWNna5tv+dSoVBgmmnf5R4ujfepjv+PBpu2PZdicPnz2XLsOFcBN5UCDy/o3FVheJgv\n",
              "vrpnJsbHBsBgFByyr9fSfksiIlfC4LKD8+X1OFZQC5VSgV+MiXL2cPrdnBHheO6asbhr9nCMju7f\n",
              "U0KUSvO9fNKJLRcsZIvaMpditlM6HWjPBfa7dLTh7dpLtT9/fjBq23Ophd5gxLMbTgMAVkxPREKI\n",
              "5T6bnm4qTDP9fJ0p6d3336o34tvj4v7Vvu7rSUTkLNzw08Hnh4sAAHPSwobcsrjkxinxzh4CACAp\n",
              "zBfbz1XIPQjba9tzKS7TzkoNhUIBHC/UoLCmCbFBzAo5ilbXVi0dO8izbRHtCno+OVSAc2UNCPR2\n",
              "w32Xp3R7v5GR4hutM6WWW2PZQm8w4slvspBVVIdAbzfcOHlg/J4RETkaM5ftGIwCvjwqnot93cRY\n",
              "J49maFMqgKRwMbNjOXNpWhb3FIPLcD9PTDFV+G48UdpPoxwapCKp8bEB+Mf1461cPbBJBT0XKxrx\n",
              "4o/nAAD3z01BgJWTqEZEiVn0MyX1FgvM2ttyqgwbTpSY3daqN+I37x3CRwcKAAD/d+24ft/TTETU\n",
              "XxhctrPrfCXK6rQI8nbD5SMinD2cIc3LTYUk02kplvdcdj4t5spx4jaG7zq8sFPvNJnOil97U4bd\n",
              "R3oONBF+YkDXajCiqrEVw0N9cPO0BKv3Gx7qCzeVAvVaPQprmnE4rxpfHi3EyWKN2XXfHS/G7e8f\n",
              "wm//ewTl9W1FQ898fwo7zlXA212FV2/KwMLRkR2fgojIZTC4bOfzw2LW8qrx0fJRbOQcnu2Cy4Ka\n",
              "pk5HO7avFpdcMSYKCgWQWVBr9sJOPWcwCtDqxWVxb/fBv4sm0NsNi8a2BXaPLRoJNxua/burlfLP\n",
              "44YTJbjutb148JNMLF27R24tVFGvxcOfZcr3OVcqZtw/P1yI9/bmAQBeuXECfjF26O3lJqKhhRGU\n",
              "iaZZh02m5uHXTeTxa87m6aZCqK87/D3VEAQgz/QCDgDl9S1oMe0D9G/XGifMz0PeG7fvYnX/DthF\n",
              "NbcL6r3dB3elOCD2Yf3PTROx5aHZWH/3dMwfZfsKhdS79cP9eZBWxlsNRvx7m9jK6HBetfxzCYjF\n",
              "gScKNfjTlycAiMvv9jwfEdFgxeDS5LvjxWjVG5EW4YcxMf1bJU1t7p8rFlY8vXQMFAqFfByftO9S\n",
              "EAQ88VUWAGBcbIBcLS7haT2OJe23VCgADxfK5ieH+2FiQrBd9xkXGwAAKKhuBgBMiA8EAKw/UoS8\n",
              "qkacLTXfG7w/pxp3fXAIrXoj5o4Il3+2iYhcneu8WvTS+sNthTyD+Xi7we7B+anIfHIB5qSJR1HK\n",
              "+y5NFeNfHyvGppNlcFMp8H/Xjuv0/0o6Z3wfzxl3iGbTfktvN9WQ/73oeOb3sinxuDQ1DAajgH/9\n",
              "dB5ny8RK8lGmDOfGrFIUa1owPNQHL92Y3qnVFhGRq2JwCSCvqhFH8sXelldPiHb2cIa89kcMthX1\n",
              "NKC8rgVPfnMSgJjhtHTE5ORhwVAqgJzKRpRquO+yt6RiHi8XWBLvrVFR/lC3CxBHRvnjwfli4/Uv\n",
              "jxZhv2krxuJx5nsqn146xmxvMBGRq2NwibYTeTLiAxHux/YgA0lSmNSOqBFfHyuGplmH0dH+WHVp\n",
              "ksXrA7zc5ID07CBv+D0QMLhs4+mmkt/QqJUKpET4Ij0uEJePCIfBKKDKdEzponYFO74eakwbFuKU\n",
              "8RIROQuDSwBH8sTzqO3dg0V9r/2eS+nYvMvSwqDupsJXan5fY+FMcrJP27L44K8UdwRp32VSmC88\n",
              "1GLA/cC8tr2UAV5uSGx3bOzckeFcDieiIYfBJYAj+WJwmWHaoE8DR3ywN9RKBZpaDThaIP5/igro\n",
              "/szzYB93AJAzSdRzUkEPM5eiuSPFvcCzU0Pl28bFBmKe6fa0SD8oFAo89ctRmJIYjMcXj3LKOImI\n",
              "nGnIpyM0zTqcKxOLRTISgpw8GurITaVEQog3LlQ0IqtILJiIDux+60KIKbisbtT2+fhcndSKyBXa\n",
              "EDnC5SMi8NPvL0VMkPkbnD8vHoUGrR63zhwGAFg5cxhWmj4mIhpqhnxwedSUtUwI8Uao79A8S3yg\n",
              "SwrzNTulx1rmMkgOLnV9Oq6hQNpzyeCyzfCwzqcUDQv1wcd3TnfCaIiIBp4hvyx+sljMho2PDXTu\n",
              "QKhLSR2OHIy2Elwyc+k4bQU9Q/59KBER2WjIB5fnTf0T0yL9nDwS6srwUB/5Y293ldl54pYE+4gZ\n",
              "6Gruuey1ZtOeS283Zi6JiMg2DC5NwWVyeOelLhoY2mcuowI8rTbzDvIRewoyuOw9tiIiIiJ7Deng\n",
              "0mgUGFwOAkmhbf9vogO7XxIHgBBmLh2Gey6JiMheQzq4LNY0o1lngJtKgYRgb+t3IKcI8HaTi62i\n",
              "Aqw3uZdaEdU262AwCn06NlfXzOCSiIjsNKSDy2xT1nJYqE+3TbnJ+aSTeqxVigNAkLe4LC4IQG0T\n",
              "s5e90aRjQQ8REdlnSEdU5039LVPCWcwz0C0YHQkPtRIzkqwfpadWKeXzybk03jtyQQ8zl0REZKMh\n",
              "nY44XSK2IeJ+y4HvtkuGYfn0BLjZmGEO8XGHplmHqsZWpFi/nLrAPZdERGSvIZu5FAQBu85XAgCm\n",
              "DOOZ4oOBrYEl0LbvkueL945cLc5WREREZKMhG1yeK2tAeb0Wnm5KTOSxjy5HOqWnsl1w+fnhQvz5\n",
              "yxNoMe0jJOvaCnqG9CIHERHZYUgGl5kFtfjoQD4AYOqwEHgyK+Nyhpkarx/JE4/3XLvtPB7+LBP/\n",
              "3Z+PbzKLnTm0QaVJJ+65ZJ9LIiKy1ZALLo1GAde+ugfv7skFAMxKCXXugKhPLBgVAQDYcqoMqzee\n",
              "xppNZ+WvfdsPwaUgCPjX1mz8kFXa58/VV5pbDahuEDO/vh7MXBIRkW2GXHDZ0KpHVKAn3NVKhPq6\n",
              "Y9HYKGcPifpARnwQwv08UK/V4/XtFwEAv5k5DACw+3wlKur79tzxH7JK8Y/N57Dqw8MQhMHZa/Pz\n",
              "wwVobDUgLthLbgVFRERkzZBLR/h7umHnHy+HIAgQBECp7P4oQRqclEoFrhgTiff35gEA/n71aNwy\n",
              "PRGH82uQWVCLDSdKsGJGYp89/yHTcjwgtkMKMTWBHyy0egPe3JkDALj9kuHsA0tERDaz+xVjwYIF\n",
              "GDduHNLT0zFr1iwcPXoUAJCYmIi0tDSkp6cjPT0dn3zyicMH60gKhYKBpYu77ZJhmJkcglduTMct\n",
              "0xMBAFeNjwYAfH2sqE+f+0h+W3B5sbKxT5/L0QRBwJ+/zEJ+dRNCfNxx/aRYZw+JiIgGEbszl59+\n",
              "+ikCAwMBAF9++SVWrlyJzMxMAMAnn3yC9PR0R46PqMcSQnzw39unmd125bgoPP39KRzJr0VBdRPi\n",
              "HHDsZ15VIxRQID5EfKz6Fh2OF2rkr+dUNGJy4uBpd/XO7lx8frgQSgXw8o3prBQnIiK72P2qIQWW\n",
              "AKDRaKBQMPtHg0eEvyemDQvB3otV+PZ4MX57WXKvHi+/qgnzX9yBVoMRSWE+mDsyAjqD0exM8wuV\n",
              "Db0ddp8RBAEvbcmGWqnAypmJOJZfi2e+PwUA+PPiUZiVEubkERIR0WDTo5TE8uXLsW3bNgDAhg0b\n",
              "zG4XBAFTpkzBc889h7Awyy9MWq0WWq15QYXBwN6D1D/mjYrA3otVOJZf2+vH2na2HK0GIwDgQkUj\n",
              "LlRclL8W4e+BsjotcioG7rJ4TmUj/rk1GwCwbncO9EYBRgG4fmIsfjMz0bmDIyKiQalHu/Tff/99\n",
              "FBQU4Omnn8YjjzwCANixYweOHz+OI0eOIDQ0FCtWrOjy/qtXr0ZAQIDZvwMHDvTsOyCyU4S/WFxT\n",
              "26zr9WPtNp3y9NvLkrB2WQauyYjBpIQg/OP68Vhz3XgAA3vPZU67sdU06VDfokdGfCCeXjqGqxJE\n",
              "RNQjvdpMtWLFCqxatQpVVVWIj48HALi5ueGBBx5Aampql/d77LHH8NBDD5nd9sQTT/RmKEQ2C/QS\n",
              "T+/RNPUuuDQYBey7WAUAWDA6EulxgVg8rq21VWFNEwBxT6bBKEA1AAvI8qrEMc4bGYG5I8NxokiD\n",
              "B+elwkPNpulERNQzdmUua2trUVzc1oD6q6++QkhICDw9PVFbWyvf/tFHH2HChAldPo6Hhwf8/f3N\n",
              "/qlUfDGj/hHo7QYAqG3u+bnj9S06/PnLE6hr0cPPQ40x0f6drokO8IKfhxo6g4Ad2RU9fq6Otp0t\n",
              "x9Vrd+Pzw4W9fqz8ajG4TAr3wa+nxOPZpWMR5je42iYREdHAYlfmUqPR4Prrr0dzczOUSiXCwsLw\n",
              "3XffoaysDNdeey0MBgMEQcDw4cPx/vvv99WYiXolwMsUXPYwc9mg1WPZm/txokisCJ+RHGKxD6RS\n",
              "qcANk+Pw1q4cvLH9Iuakhfd80ACaWvV45vvT+O9+8ehSBYDrJvauTVBelbgsnhDMJulEROQYdgWX\n",
              "CQkJXe6NlPpdEg10UuZSqzeiRWew+2z5J77KwokiDYJ93LFyRiJunBzX5bW/uWQY3t2Ti70Xq3Cq\n",
              "uA6jLGQ4bXG8sBa/++gock3L2ABQVNvco8dqT1oWTwzpfUsmIiIiYAie0EPk66GGSqmAwSigtkmH\n",
              "yADbg0tBELDldBkA4F+/noCZyd2fTR8d6IVLU8Ow9Uw59lyo7FFwKQgC7vrgMEo0LYgK8MSfFo3E\n",
              "fR8dRUW91q7gOLusHgdza5Bf3YSC6iZUNmjlYqN4BpdEROQgDC5pyFEoFAj0ckNVYytqm1sRGeBp\n",
              "8boWnQF1zTqE+7d9PbeqCfUterirlZgyzLbG6BMTg7D1TDmO9rD1UWldC0o0LVApFdh4/ywEeLnh\n",
              "D59nokVnRKmmBWdK67D+SBGev3YcgnzcLT5GbVMrFv9zl9w2qaOoAK8ejY2IiKgjHhhMQ1KAt/V9\n",
              "lw9/lokpz27FyeK203aOF9YCAEZF+cPNxvO2J8QFATA/EtIe58vFJuyJId4I9HaHQqFATKAYDBbV\n",
              "NuM/P1/A5lNl+OxwQZePUVjTjFaDEV5uKqyckYgnrhxl9vWBWMlORESDE4NLGpICOxT1CIKAQ7nV\n",
              "+PdP2cg37UP87ngJAOA/2y7I95OOdRwfG2Dzc42LDYBSAZRoWlCisX+fZHaZGFwmh/vKt8UEicvY\n",
              "RTXNcsX3zuzKLh+jpkmsjI8P9sZTV43GbZcMw+erpsPPU41VlybZPSYiIqKucFmchqRAb3H5+FRJ\n",
              "HU6V1OGro0VykHY0vxZrb8qQry1uFxBKmctxsYE2P5ePhxojIv1xqqQOx/JrETXWviXobFPmMiXc\n",
              "T75NylyeKa2XA+QDOdVd7sGsMV0jFTMBwKTEYBx9Yr7FSnciIqKe4qsKDUlS5vKfW7Pxz63ZyK9u\n",
              "goda/HXYe7FKboAOABfKG9Co1WPNpjM4Yto3Oc6OzCUATIgPBAAcLai1e6wXpOAyol3mMlDcB7o/\n",
              "p0q+Tas34nCe5aX3WlPmMsjbfE8mA0siInI0vrLQkBTQLoPn66HGKzem48gT8xHs446mVgM2nCiV\n",
              "v17Xosfs57dh7bYLMBgFXJ0ebbZEbYsJ8eK+y6N27rsUBAHnyusBAElh7ZfFxczlyeI6s+t3nbe8\n",
              "NF7TKGYug3zcLH6diIjIURhc0pAkHQEJAJMSg3B1egx8PNSYPjwEAPDpIfPimKrGVsQEeuH1Wybi\n",
              "5RvS7T53W8pcHi/UoFVvuWLbkhJNC2qbdFAoOgSXgeatgzzdxF/lXV3su5T2XAZ6W64mJyIichQG\n",
              "lzQktd97KFVzA8D0JDG4LKwR91n6e6oRFeCJ++emYOvvL8XC0ZF2B5YAMCzEBwFebtDqjThTWmf9\n",
              "DibP/3AGAJAeFwgv97a9lElhPmg/jEVjxTPNs4o1qGnsfKxl27I4M5dERNS3GFzSkGQWXJqyigAw\n",
              "K8W8KfpdlyZh72Nz8eD8VLtP8mlPqVS07bu0sd/l0fwafHWsGEoF8NQvR5t9LcTXAzNMgTAATEwI\n",
              "QlqEHwQB2H2hc/ayraCHmUsiIupbDC5pSDIYBfnj8XGB8scJIT4YEdlWlR0daLnBek9IGVJb911K\n",
              "Z5fPSQs3G6NkSXqM/HFckDcuMQXGlpbGuyroISIicjQGlzQkTUwQA71QXw8EeJkvFUtLzEDnvY29\n",
              "YW/FeGW9FgAQ1UWAe8WYSPnjYaE+cnC5M7sSgiCYXStlLrksTkREfY19LmlISgjxweYHZyPU16PT\n",
              "134xJhIvbj4HoK0q2xGk7GNeVROqGrQIsfDc7VU0iNlGS2MEAD9PN3y2ajqqG1sRF+yNEF93uKuU\n",
              "KKptRm5VE4aF+sjXsqCHiIj6CzOXNGSlRPhZPIs7JcIPd80ejpUzEhHdxbnjPRHg5Sa3MLJl32Vl\n",
              "g5i57Cq4BIDJicFYOFrMYHq7q5GREAgA2JVdIV+jNxhR36IHwMwlERH1PQaXRBY8tmgknrpqdI8q\n",
              "w7uTIS+NW993aUtw2dGslDAA5kdB1ja3nZ/ecQsAERGRozG4JOpHbc3Ua61eKwWXYX62L2Vfkizu\n",
              "u9x7oQp6g9hPUyrm8fdU80QeIiLqc3ylIepHY2PEYyPPlNZbvbayvvs9l5aMiQlAgJcb6rV6ZBaK\n",
              "1eZyMY+FLQBERESOxuCSqB+F+4mBYm1TK4xGocvrGrV6NOsMAOwLLlVKBWYmi/0vpZZEUlN1FvMQ\n",
              "EVF/YHBJ1I+kAM8oAHUtui6vk5bEvdxU8PGwr6nDTNPS+K7zYlHPhYpGAECcAyvfiYiIusLgkqgf\n",
              "uauV8DEd4ygtV1siF/PYsd9SMitZLOo5ml+LBq0eWcXi8vgY05I8ERFRX2JwSdTPpOyl1HvSkop6\n",
              "+yvFJfEh3ogJ9ILeKOB4QS1Omk76GR3t34PREhER2YfBJVE/C/IR2wHVdhdcWmmgbk26qeXRzvOV\n",
              "yK1qAgCMjmbmkoiI+h6DS6J+Jp3vXdPY9bJ4RV0LgJ4Hl+NjxUDy4wP5AIDoAE8Es1qciIj6AYNL\n",
              "on5mbVk8p7IR7+3NAwAkhflYvMaa8bGBpucQA9jR3G9JRET9hMElUT8LNh3B2FVw+cjnx6Fp1iE9\n",
              "LhA3T0vo0XN0LN6ZmRTSo8chIiKyF4NLon7WlrnsvCx+qrgOB3KroVYq8J+bMuDppurRc/h4qOHv\n",
              "KbYwCvFx73GQSkREZC8Gl0T9LMi764KeD/eLy+ELR0ciOrB3fSmfu3Yc5o4Ix9f3zuSxj0RE1G/s\n",
              "685MRL0mHcPYsaCnrkWHr44WAQBumd77TOOisVFYNDaq149DRERkD6YziPpZVwU9XxwuRFOrASnh\n",
              "vpg6LNgZQyMiIuo1BpdE/axtWbwtcykIAj7YJy6J3zI9AQqFwiljIyIi6i0Gl0T9LMhC5nLvxSpc\n",
              "qGiEt7sKSyfEOGtoREREvcbgkqifSXsutXojmlsNAIAPTVnLpRNi4Ofp5rSxERER9RYLeoj6mY+7\n",
              "Cm4qBXQGATVNrahrUWDTyTIAjinkISIiciZmLon6mUKhgL8pO1nXosPO7EoYjALS4wIxItLfyaMj\n",
              "IiLqHQaXRE7g72UKLpv1qGzQAgCG9/CoRyIiooGEwSWRE0in59Q161DTKBb2BJsKfYiIiAYzBpdE\n",
              "TiBnLlt0qDIFl1KhDxER0WDG4JLICdqWxdsylyEMLomIyAUwuCRygraCHj2qm5i5JCIi18HgksgJ\n",
              "/L3a9lxWS3suGVwSEZELYHBJ5ATtWxExuCQiIlfC4JLICaQ9l9WNrahv0QNgtTgREbkGBpdETiC1\n",
              "IsqtagIAKBVAgBePfSQiosGPwSWRE0iZy7yqRgBAkLc7lEqFM4dERETkEAwuiZxA2nOpMwgAWClO\n",
              "RESug8ElkRMEmKrFJdxvSUREroLBJZETSJlLCSvFiYjIVTC4JHIC/w7FO1wWJyIiV8HgksgJPNRK\n",
              "uKvafv3CfBlcEhGRa2BwSeQECoUCAgT587kjI5w4GiIiIsdhcEnkJFKlOACMiw1w4kiIiIgcx+7g\n",
              "csGCBRg3bhzS09Mxa9YsHD16FACQnZ2NGTNmIDU1FZMnT8bJkycdPlgiV+LtrgIA3DwtHgoFe1wS\n",
              "EZFrUFu/xNynn36KwMBAAMCXX36JlStXIjMzE3fddRfuvPNOrFy5Ep9//jlWrlyJgwcPOnq8RC7j\n",
              "g9umYMe5Svx2TpKzh0JEROQwdmcupcASADQaDRQKBcrLy3Ho0CHcfPPNAIBrr70WBQUFOH/+vMMG\n",
              "SuRqJiYE48H5qfBQq5w9FCIiIoexO3MJAMuXL8e2bdsAABs2bEBBQQGioqKgVosPp1AoEB8fj/z8\n",
              "fCQnJ3e6v1arhVarNbvNYDD0ZChERERENID0qKDn/fffR0FBAZ5++mk88sgjdt9/9erVCAgIMPt3\n",
              "4MCBngyFiIiIiAYQhSAIgvXLuubl5YXc3FykpKSguroaarUagiAgKioKu3btsjlz+cQTT+CVV17p\n",
              "zVCIiIiIyMnsylzW1taiuLhY/vyrr75CSEgIwsPDkZGRgQ8//BAAsH79esTGxloMLAHAw8MD/v7+\n",
              "Zv9UKu47IyIiIhrs7NpzqdFocP3116O5uRlKpRJhYWH47rvvoFAo8Prrr2PlypV49tln4e/vj3Xr\n",
              "1vXVmImIiIhogLIruExISOhyb2RaWhr27t3rkEERERER0eDEE3qIiIiIyGEYXBIRERGRwzC4JCIi\n",
              "IiKHYXBJRERERA7T6z6XjnLNNdcgMTHR2cNwGoPBgAMHDmDKlClsy9QNzpN1nKOucW6s4xxZxzmy\n",
              "HefKusE2RwkJCbj//vu7vWbABJdDXV1dHQICAqDRaODv7+/s4QxYnCfrOEdd49xYxzmyjnNkO86V\n",
              "da44R1wWJyIiIiKHYXBJRERERA7D4JKIiIiIHIbB5QDh4eGBJ598Eh4eHs4eyoDGebKOc9Q1zo11\n",
              "nCPrOEe241xZ54pzxIIeIiIiInIYZi6JiIiIyGEYXBIRERGRwzC4JCIiIiKHYXDpJNzqSkQDAf8W\n",
              "dU+n0zl7CESDDoPLfpSTk4NTp04BABQKhZNHMzA1NjY6ewiDglardfYQBqyCggKUlpY6exgD2pkz\n",
              "Z/DFF18A4N+irmRlZeGWW27BiRMnnD2UAS8/P5+/c1YMtb/ZDC77QXNzMx544AEsWrQI999/P554\n",
              "4gmcPHnS2cMaUBoaGnDHHXdg1apVKCoqAsCMiiUNDQ2466678PTTT6OmpgYA50nS0NCAhx56CIsX\n",
              "L8aKFSvw/PPPA+D8tNfQ0IDf//73WLZsGQwGg7OHMyBJc3Tbbbfhv//9r/y3mj9HnTU1NeHBBx/E\n",
              "woULsXz5cqxZswYVFRXOHtaAMlT/ZjO47Af//ve/UVZWhtOnT+ONN95AUVERnn76aWg0GmcPbUAo\n",
              "Ly/Hfffdh8OHD0OpVOKrr74CwIxKR7m5uVi5ciW2bduG7Oxs7N69GwDnCQAOHz6MxYsXw2AwIDMz\n",
              "Ew8//DCeeeYZNDY2cn5MDh06hKlTp6KwsBCHDx/G9ddf7+whDTgbN27ErFmzoFAo8PPPP2PNmjU4\n",
              "e/YsAP6eWfLMM8+gpqYGp0+fxvPPP48tW7bgxRdfRFNTk7OHNiAM5b/ZDC77iPTOpLm5GdnZ2bjy\n",
              "yisBAMOGDUNISAj27duHN99805lDHDC8vLxw99134+eff8akSZNw6NAhZGZmAgCMRqOTRzdweHl5\n",
              "4Z577kFmZiaioqKwfft25OXlARga74S7Ex4ejrVr1+KVV16BQqFAcXExfvWrXyE/P9/ZQxsw3N3d\n",
              "kZSUhGXLlkGhUGDHjh3YtGkTsrKynD20AWP48OH45JNP8MILL8DLywunT5+Wt+ow02uutrYWWVlZ\n",
              "+O1vfwsASE9PR1hYGL799ls5QTDU+fr6Dtm/2QwuHezMmTO444478MwzzyAvLw9eXl5QqVTYvHkz\n",
              "jh07hurqalRVVeGaa67B8ePHUVlZ6ewh97ucnBxs2LBB/tzPzw/jx4+Hv78/5syZA09PT/mPk1I5\n",
              "dH9Ez549i3vvvRevv/466urqEBERgZkzZ8LLywtLlixBfn4+tm/fDmBovBNur+PcxMXFYcyYMWho\n",
              "aMCTTz6JJ598EiEhIbjmmmvwv//9b0hmUtrPkUajwbhx47BgwQK8++67mDFjBv70pz9hw4YNmDVr\n",
              "FjZv3uzs4TpFx5+jtLQ0pKamyvvjFi1ahB9//BEAoFKpnDlUp5Pm6o033oBGo0FgYCBaWlrwxhtv\n",
              "oLq6GhUVFXBzc8PEiRORlZWF5uZmZw+53+Xn5+PAgQPy56GhoZg2bdqQ/Js9dF+5+8DmzZtx7bXX\n",
              "YuTIkcjJycE999yDb7/9FqtXrwYAPPnkk5g/fz6mTJmCuXPnoqCgAKGhoU4edf8RBAHPPPMMkpOT\n",
              "8Y9//AN79uyRb5eOvRozZgwmT56M7OxsbNmyBcDQzBh89tlnWLJkCaKjo/HDDz/glltuwfbt2+Hu\n",
              "7g4AuPTSS5GWlobdu3fLBQeu/k5Y0nFuli9fLv/B9vHxwZVXXonc3Fw899xzePjhh/Hqq6+6/B/y\n",
              "jjrO0c0334xDhw7h1ltvhb+/P66//nrs2rULr7zyCv7whz/g73//u7OH3O+6+zmS/h6FhIQgOTkZ\n",
              "Fy5ccOZQna79XG3cuBHLli1DVlYW1q1bh4sXL+KOO+7A/PnzMW/ePFx22WXYt28fvLy8nD3sfiMI\n",
              "Ap566ikkJibilVdekbdSCIIgz8NQ+5vN4NKBzp49i9mzZ+Ohhx7C66+/jsWLF+O9995DcXEx3n33\n",
              "Xbz00kvYsmULVq1ahbFjx8LNzW1IZVQKCgrg4eGB//3vf5gxYwa+/fZb6HQ6+YVf+kVbsGABkpOT\n",
              "sXXrVjz33HN46aWXhlwVeXZ2NpYtW4Y//elP+Pjjj5GSkoL169cjOztbvuamm26CXq/H3r17sWbN\n",
              "Gvz3v/916T9Wko5zk5ycjPXr1+PcuXNQKBSYPHmyfO2SJUugUqmGXBal4xylpaVh3bp10Gg0eO21\n",
              "1/Dggw/K11577bXw9vYe8r9j0s9R+9+x0NBQHD9+HIGBgQBcOxjoTse5GjlyJF599VUolUr89NNP\n",
              "+Nvf/oatW7fipptuwtixYxEcHDykWjhJweK6devg5eWF7du3w2AwyK9t0vauofQ3m8GlgwiCgObm\n",
              "ZoSGhqKhoQFqtRrz589HQkIC1q1bB0DczxMUFIStW7fixhtvxNy5c+Ht7e3kkfef2NhYLF++HDfc\n",
              "cANGjhyJwsJCfP/99wDE+ZN+EWNjY6HX6/HPf/4T69evx7x58+Dj4+PMofcrvV6P/Px8hIWFyVnd\n",
              "66+/Hs3NzXI2FwDS0tKgVqvx4IMP4qOPPsK4ceNcPkPX3dxs3brV7Np9+/bhuuuuw6xZs+TgYCjo\n",
              "ao60Wi2++eYbs4zSgQMHcMcdd2DOnDn8HbPwOzZ69GgEBAQM6SLD7n6epHZWo0ePRkhICH7++Wf8\n",
              "7ne/w7x58+Dm5ubkkfefUaNG4fbbb8eKFSuQlJSE/fv34/Dhw/LXpe1dQ+lvNoNLB5ACo7CwMBw8\n",
              "eFBuN5CcnIyMjAzU1dWhtrYWzc3NeP/993HPPffg3nvvxSOPPOLkkfcvpVKJ8PBwAMDChQsRFxeH\n",
              "zZs3o7i42Cx7+eWXX+Ldd9/FG2+8gYMHDyI9Pd2Jo+5fgiBArVYjKSkJ77//vjwvU6dORUJCAi5e\n",
              "vAhA7Jn2zjvvYOPGjXjzzTdx5MgRjBs3zplD73O2zk1BQQF+9atf4b777sPdd9+Nv//970Nm7253\n",
              "c5SYmCgv75aVleH666/H7373uyH3t8jWnyMAqK6uxoIFCzBp0iRnDdeprP085eTkAAA0Gg1eeukl\n",
              "rFq1Cvfeey9WrVrlzGH3O7VajdjYWADA8uXLodVqsW3bNlRXVwMQ51Gv1+Ptt98eOn+zBbJLSUmJ\n",
              "oNVqBUEQBIPB0OnrM2fOFF544QWhrq5OEARBOHz4sJCamio0NTXJ93d1Xc2R9LH0340bNworVqwQ\n",
              "Pv/8c0EQBOHkyZOCIAhCRUVFfw7Xac6fPy//XBiNRrP/CoIgREdHC2+//bb8+ebNm4Xk5GT583Pn\n",
              "zvXTSPtfT+YmKSlJ/vyrr77qp5E6T29/fj799NN+Gqnz9HaOhpLeztXZs2f7aaTOY2mO2n8svba9\n",
              "8847wrJly4TDhw8LgiAIxcXFgiC49t/sjobG23kH+Oijj5CRkYF77rlHbiukVCphNBrN9kw8/fTT\n",
              "+P777/H6668DEPeqpKeno7W1FQAQGRnZ/4PvJ9bmSMoeSf+94oorMGnSJKxevRqBgYH47rvvYDQa\n",
              "Xb7I6ZNPPkF6ejr++Mc/4he/+AUAcbmtY9ultWvX4sUXX5SX5AoKCjB//nz5ZyklJaVfx90fejM3\n",
              "CxYsQEtLCwDg6quv7tdx96fe/vxIc+TKfS57O0dDab+go/4epaam9uu4+1N3cyS029Ilvbbdeuut\n",
              "CA8Pxx//+EcEBATg66+/BuCaf7O75OTgdsBramoSHn74YWHWrFnCrl27BEEQhOHDhwtr1qwxu+7Q\n",
              "oUPCnXfeKeh0OuHrr78Wbr75ZmH69OnCuHHjhH379jlj6P3G1jk6fPiwcOeddwpVVVWCIAhCfn6+\n",
              "EBcXJ0yfPl3Yvn17v4+7vzU0NAgPPPCAMGfOHPn7DQwMFD7++GOz6w4fPiw8/vjjgiAIwssvvyz8\n",
              "+te/FiZPnixMmDBBOHjwYL+Puz9wbqzjHFnHObId58o6W+foyJEjwhNPPCFoNBpBEMTXtujoaGH6\n",
              "9OnCtm3b+nvYAwKDSxu8/fbbZku1//nPf4Srr75a/vz5558XUlNThXfeeUe+Ta/XC5mZmf05TKey\n",
              "dY7effddQRAEQafTCd9//73w2muv9fdQnWrnzp3yx1VVVcIVV1whbN68Wb5t9erVQnJysvDBBx8I\n",
              "giAuszQ0NAi7d+/u97H2N86NdZwj6zhHtuNcWWfrHH300UeCIAhCc3Oz8Prrrw+517aOFILgonXw\n",
              "vbB27VqEhIQgJSUFEydORG1tLQIDA2EwGKBSqXDXXXdh+PDh8ib4CxcuID4+Xq6OMxqNLl9A0Ns5\n",
              "GiqkeUpNTUVGRgb0ej3UajW2bt2Khx9+GImJidDr9YiJicGDDz4IrVaLkSNHDomfJc6NdZwj6zhH\n",
              "tuNcWdfbOSITZ0e3A8n3338vTJ48WViyZInw6KOPCt7e3nKaWxDaNu1ed911Zu9mJDqdrt/G6iyc\n",
              "I9tYm6czZ87IxV0VFRXC5MmThW+++Ub+ul6v7/cx9xfOjXWcI+s4R7bjXFnHOXIsBpcmZWVlwtKl\n",
              "S81+WBYuXCg88cQTZtfV1NQIU6ZMEYxGo3DixAnhr3/9q1BdXd3fw3UKzpFtbJ2n9m688Ubhk08+\n",
              "6Y/hORXnxjrOkXWcI9txrqzjHDme2tmZU2dqaWmBVquFr68vwsPD8eijjyIjI0NO/SclJSEtLQ1A\n",
              "Wy/Lffv2Qa/X4y9/+Qs2bNiA5cuXIygoyMnfSd/hHNnGnnlqT6fT4bHHHkNubi6mTZvmhJH3Pc6N\n",
              "dZwj6zhHtuNcWcc56luuvXmiG2vXrsWIESNw++2348477wQATJkyBWp1W7x9+vRp+dQKqdXA9u3b\n",
              "kZmZCYPBgO3bt+P+++/v/8H3E86RbeydJ8krr7yCCRMmwGg0YvPmzYiPj+/XcfcHzo11nCPrOEe2\n",
              "41xZxznqB85OnTrDtm3bhClTpghnzpwRysrKhIyMDOHZZ581a3CenZ0tpKSkyJ8XFRUJgiAImzZt\n",
              "Eo4fP97vY+5vnCPb9Gae9u3bJ5w6darfx9xfODfWcY6s4xzZjnNlHeeofwyZzGVtba38cV5eHmbO\n",
              "nIm0tDSEh4djzZo1OHz4MHbu3Clfk5OTgyVLlkCj0WDJkiX43e9+B4PBgAULFmDs2LFO+A76HufI\n",
              "Nr2dp/vvvx8GgwFTp07FyJEjnfAd9B3OjXWcI+s4R7bjXFnHOep/Lh9c6vV6PPHEE1i4cCHuuece\n",
              "bNy4ETExMfj+++/lay6//HIkJSVh165d8rngu3btwiuvvII5c+Zg1qxZ+Pzzz6FSqZz1bfQpzpFt\n",
              "HDVPn332mcvNE+fGOs6RdZwj23GurOMcOZGzU6d96eDBg0J6erpw7733CidOnBDWrl0rJCUlCVqt\n",
              "Vhg2bJjc0FsQBCEzM1NISEgQ6uvrBUEQhMsvv1xYtmyZUFNT46TR9w/OkW04T13j3FjHObKOc2Q7\n",
              "zpV1nCPncung8syZM8LLL78sf15QUCDMnTtXOH/+vPDuu+8KISEhglarlb9++eWXC0ePHhUEQRAa\n",
              "Gxv7e7hOwTmyDeepa5wb6zhH1nGObMe5so5z5Fwuf0JPfX09/Pz8AIinxFx99dXYu3cv/Pz8sGjR\n",
              "Ivj6+mLx4sXYsmULSktL8c0338DLy8vJo+5fnCPbcJ66xrmxjnNkHefIdpwr6zhHzuPyey6lHywA\n",
              "OHfuHFJSUuTb/vvf/+Laa6/F999/j6SkJGzevHlI/mBxjmzDeeoa58Y6zpF1nCPbca6s4xw5z5Bo\n",
              "oi41Rd2/fz8mT54MAPjwww8xbNgw3HDDDVi6dCnc3d2dPErn4hzZhvPUNc6NdZwj6zhHtuNcWcc5\n",
              "cg6Xz1wCgFIpfptnz56F0WjE8uXL8dprr8k/UPzB4hzZivPUNc6NdZwj6zhHtuNcWcc5chJnb/rs\n",
              "L7m5uYJCoRAmT54svPXWW84ezoDEObIN56lrnBvrOEfWcY5sx7myjnPU/1y+oEdiMBjwwgsv4IEH\n",
              "HoCHh4ezhzMgcY5sw3nqGufGOs6RdZwj23GurOMc9b8hE1wSERERUd8bEnsuiYiIiKh/MLgkIiIi\n",
              "IodhcElEZKPExESkpaVh/PjxSE5OxtVXX409e/ZYvd9XX32Fffv29cMIiYicj8ElEZEdPvnkE2Rm\n",
              "ZuL8+fNYsWIFFi1ahP3793d7HwaXRDSUMLgkIuqha665BqtWrcILL7yArVu3Yvr06ZgwYQJGjx6N\n",
              "t99+GwCwYcMGfPPNN1izZg3S09Px1ltvAQA++OADTJ06FRkZGZg9ezYyMzOd+a0QETnMkDihh4io\n",
              "r0ydOhXffPMNMjIysGvXLqhUKlRXV2PChAlYuHAhFi1ahKuuugrp6el44IEHAAC7d+/GRx99hB07\n",
              "dsDDwwM7d+7EsmXLcPLkSed+M0REDsDgkoioF6RublVVVbjttttw7tw5qNVqVFVVISsrC7GxsZ3u\n",
              "8/XXXyMzMxNTp06Vb6uurkZzczPPNyaiQY/BJRFRLxw8eBBjxozBqlWrsGjRIqxfvx4KhQIZGRlo\n",
              "aWmxeB9BELBixQo8++yz/TxaIqK+xz2XREQ99PXXX+PVV1/F73//e9TU1CAhIQEKhQI7duww20Pp\n",
              "7+8PjUYjf37VVVfhww8/RH5+PgDAaDTi0KFD/T5+IqK+wBN6iIhslJiYCA8PD3h6eqKxsRGjRo3C\n",
              "o48+ihkzZmDz5s347W9/Cx8fH6Snp+PcuXP44x//iCVLluDgwYNYuXIl3N3dcc899+D222/Hxx9/\n",
              "jDVr1kCv16O1tRWLFy/GCy+84OxvkYio1xhcEhEREZHDcFmciIiIiByGwSUREREROQyDSyIiIiJy\n",
              "GAaXREREROQwDC6JiIiIyGEYXBIRERGRwzC4JCIiIiKHYXBJRERERA7D4JKIiIiIHIbBJRERERE5\n",
              "DINLIiIiInKY/wdkpJkCvIfljgAAAABJRU5ErkJggg==\n",
              "\">\n",
              "      </div>\n",
              "      <script type=\"text/javascript\">\n",
              "        (() => {\n",
              "          const chartElement = document.getElementById(\"chart-fda9020c-9db4-4418-aa4f-236537c98585\");\n",
              "          async function getCodeForChartHandler(event) {\n",
              "            const chartCodeResponse =  await google.colab.kernel.invokeFunction(\n",
              "                'getCodeForChart', [\"chart-fda9020c-9db4-4418-aa4f-236537c98585\"], {});\n",
              "            const responseJson = chartCodeResponse.data['application/json'];\n",
              "            await google.colab.notebook.addCell(responseJson.code, 'code');\n",
              "          }\n",
              "          chartElement.onclick = getCodeForChartHandler;\n",
              "        })();\n",
              "      </script>\n",
              "      <style>\n",
              "        .colab-quickchart-chart-with-code  {\n",
              "            display: block;\n",
              "            float: left;\n",
              "            border: 1px solid transparent;\n",
              "        }\n",
              "\n",
              "        .colab-quickchart-chart-with-code:hover {\n",
              "            cursor: pointer;\n",
              "            border: 1px solid #aaa;\n",
              "        }\n",
              "      </style>"
            ]
          },
          "metadata": {}
        },
        {
          "output_type": "display_data",
          "data": {
            "text/plain": [
              "from matplotlib import pyplot as plt\n",
              "_df_11['Close'].plot(kind='line', figsize=(8, 4), title='Close')\n",
              "plt.gca().spines[['top', 'right']].set_visible(False)"
            ],
            "text/html": [
              "      <div class=\"colab-quickchart-chart-with-code\" id=\"chart-93e9d808-ff6b-4feb-acb1-72e13dec061b\">\n",
              "        <img style=\"width: 180px;\" src=\"data:image/png;base64,iVBORw0KGgoAAAANSUhEUgAAApcAAAFrCAYAAACE1KJuAAAAOXRFWHRTb2Z0d2FyZQBNYXRwbG90\n",
              "bGliIHZlcnNpb24zLjcuMSwgaHR0cHM6Ly9tYXRwbG90bGliLm9yZy/bCgiHAAAACXBIWXMAAA9h\n",
              "AAAPYQGoP6dpAAB2f0lEQVR4nO3dd3zTdf4H8FdGk+69oJNONgVki4oMt+I6FRX03FtPPcdPTz31\n",
              "uFPPcZ5bhENPROXcggKyZe9NKXTTvVfm9/fHN99vkzZt0jZN2vT1fDx42Cbfpp9+TJtX3p+lEARB\n",
              "ABERERGRCyg93QAiIiIi8h4Ml0RERETkMgyXREREROQyDJdERERE5DIMl0RERETkMgyXREREROQy\n",
              "DJdERERE5DIMl0RERETkMgyXREREROQyDJdERN2wZMkSxMfHe7oZRER9DsMlEVEHDh48iOuvvx6D\n",
              "Bg1CYGAgkpOTccMNN2DPnj2ebhoRUZ/FcElEZMf69esxceJExMTEYOvWraivr8e+ffswe/ZsfPXV\n",
              "V55uHhFRn8VwSURkx1133YVrrrkGb731FpKTk6FQKBAaGoo//vGPWLhwYbvrW1pa8MQTT2DIkCEI\n",
              "CwvD9OnTsX37dvn+/fv349xzz0VoaCjCwsIwfvx4HD9+XL5/6dKlGDNmDEJCQjBixAh88cUXbvk5\n",
              "iYhcjeGSiKiN7OxsnDhxAvPnz3f6ax5//HH8/PPPWL16NUpLSzF37lzMmjULhYWFAIB7770XM2fO\n",
              "REVFBcrLy7Fo0SKEhoYCEOdvPvPMM1i0aBGqq6vxwQcf4M4778TmzZt748cjIupVDJdERG2UlZUB\n",
              "gNMLdsxmMxYtWoSXXnoJaWlp0Gg0ePTRR5GSkoLPPvsMAKDRaJCfn4+8vDyo1WpkZWUhJiYGAPD6\n",
              "66/j//7v/3DWWWdBqVTi7LPPxnXXXYclS5b0ys9HRNSbGC6JiNqIjo4GALnq6EhFRQWam5uRmppq\n",
              "c3taWhry8/MBiNVJhUKB888/H/Hx8Xj44YfR0NAAQKyUPvroowgNDZX/LVu2DMXFxS78qYiI3IPh\n",
              "koiojfT0dGRkZODTTz916vrIyEj4+voiJyfH5vacnBwkJiYCAJKSkvDRRx8hLy8P69evx+rVq+W5\n",
              "m7GxsXj33XdRU1Mj/2toaMDPP//s2h+MiMgNGC6JiOz44IMP8NVXX+FPf/oT8vLyIAgC6urqsHTp\n",
              "Uvzf//2fzbVKpRJ//OMf8Ze//AWnTp2CXq/HG2+8gZMnT+LGG28EIFYuCwsLIQgCgoODoVaroVar\n",
              "AQAPP/wwXnzxRezcuRNmsxk6nQ47d+7E7t273f5zExH1FMMlEZEd5513HrZv346ioiJMnDgRQUFB\n",
              "GD16NFatWoVrrrmm3fWvvfYa5syZgxkzZiA6OhorVqzA6tWrkZCQAABYt24dJk6ciMDAQIwZMwZT\n",
              "pkzBE088AQB46KGH8Pzzz+Puu+9GeHg44uLi8Pjjj6OxsdGtPzMRkSsoBEEQPN0IIiIiIvIOrFwS\n",
              "ERERkcswXBIRERGRyzBcEhEREZHLMFwSERERkcswXBIRERGRyzBcEhEREZHLMFwSERERkcv0mXD5\n",
              "1ltveboJRERERNRDfSZc5uXleboJRERERNRDfSZcEhEREVH/x3BJRERERC7DcElERERELsNwSURE\n",
              "REQuw3BJRERERC7DcElERERELsNwSUREREQuw3BJRERERC7DcElERERELsNwSUREA9qholo89b8D\n",
              "KKtv8XRTiLyC2tMNICIi8qSr3vsdeqMZJbUtWHzrRE83h6jfY+WSiIgGNL3RDADYmVvt4ZYQeQeG\n",
              "SyIiIgDNBpOnm0DkFRguiYiIAJjMgqebQNROXmUjLnxzI77ZW+jppjiN4ZKIiIioj3r8qwM4VlKP\n",
              "R5bv93RTnMZwSUREZGFm9ZL6mKMldZ5uQpcxXBIR0YDV0maeZVWT3kMtIbKvvsXo6SZ0GcMlEREN\n",
              "WHXNBpvPS+u41yX1HYLQPyvpDJdERDRg1bXYhsuyOp2HWkLUXmVjayU9yLf/bE3OcElERANWbZvK\n",
              "ZYmlctmkN+KrXQX4289H211D5C45ZQ3yx/1pPnD/icFEREQuVtdsO59t1aESHC6uxXd7i1GvE++L\n",
              "CNDgrnNTPdE8GuByyhvlj5sMJpjNApRKhQdb5ByGSyIiGrDaViU3nCiXP/ZRKWAwCSisbnZ3s4gA\n",
              "ACetKpeCALQYTfDX9P3o1vdbSERE1EukOZfRQVrUNBngp1FhenokbpiYiFPlDXj2u8M4U8tFPuQZ\n",
              "J0rrbT5v1DFcEhER9WnSavEZmdF46cqRUCsVUCjEYUdpm6KSOlYuyTOOtdnjsklvBKD1TGO6gAt6\n",
              "iIhowJKGxUP8feCjUsrBEgBiQ3wBACW1XEFO7lder0NFgx4KRetK8UadycFX9Q2sXBIR0YAlLegJ\n",
              "trPNS2ywGC4rGnTQG83QqFmPIfc5XiIOiSdHBAAQN1MXK5d9H39TiIhowJIql8F+Pu3uCw/QQKMS\n",
              "Xya5uTq5mzQkPjQ2CP4aFQCgUd8/KpcMl0RENGDJw+J2wqVCoZCHxhkuyd2OWSqXmbFBCLAs4mnS\n",
              "sXJJRETUJxlNZlz17hZsPVUJAAj2bR8ugdahcXsrxnVGE55ccQDLduT3XkNpQDpZVo9fDpcAAIYP\n",
              "Coa/VqxcNjBcEhER9U07TldhT34NAECjUiIzNsjudZ1VLn89XIovdhbghR8Oo7mfDFdS31dW34IF\n",
              "n+xEfYsR4xJDcV5mtFy5bPTWcJmcnIzMzExkZWUhKysLy5cvBwBkZ2dj6tSpyMjIwIQJE3D48GGX\n",
              "N5aIiMgVfj50BgBwTkYUdv7fLAwO9bN73aCQjiuXq4+UAgBaDGZsyi5vdz9RVzXpjbhtyS4U1TQj\n",
              "OcIfHy+YAI1aKc+5fP6HI5jx2nqssTz3+qpuVS6XL1+Offv2Yd++fbjuuusAAHfddRfuvPNOnDhx\n",
              "Ak888QRuueUWV7aTiIjIJUxmAasOiS/Ot509BCH+9ofEgdbKZVGbU3oMJjPWHS+TP/+1j7/Yk+cJ\n",
              "Qudng5vMAh5cthcHi2oR5u+DJbdORHiABgAQoG3dzeB0RSNuX7oLd326C2dq++YerC4ZFi8rK8Ou\n",
              "Xbtw0003AQCuvvpqFBQU4OTJk654eCIiIpfZcboKFQ06hPr7YGpqRKfXpkYFAgCyy+rx/oYcvL02\n",
              "GwCw/VQV6luMUFnOeV57tBRGk7l3G079kiAIuGXxDlzz/laYzB0HzFWHSrDmaBm0aiU+XjAByZEB\n",
              "8n1S5RIQp3GolQr8crgUs/65AYs2n+70cT2hW+Fy/vz5GDVqFG677TaUl5ejoKAAgwYNglotJmuF\n",
              "QoHExETk59uf5KzT6VBXV2fzz2TifBUiIup9Px8Uh8TnDI+Bj6rzl8GMGHEu5qmKRvx95TH8c/UJ\n",
              "FNc0Y/URcbHF3Kw4hPr7oLrJgF151ahrMeD/vjmIQ0W1vftDUL9R12LE+uPl2J1X3emuA8ctRz1e\n",
              "OTYO45PCbO6zrlyOjg/BTw9Ox/ikMDTqTfj1cAmUCvQpXQ6XGzduxIEDB7Bnzx5ERkZiwYIFXf6m\n",
              "CxcuREhIiM2/HTt2dPlxiIiInHH0TB1+2F8Mk1nAykNiMLx41CCHXxcTrEWQVg3rEc2c8gZ5vuVF\n",
              "I2Mxc2gMAHGBzzd7ivDf7fn4v28Ouv6HoH6pzCpQVjXqO7yuuEYc4o4Paz//17pymRjhj8zYIHx1\n",
              "1xQsvGoUXr5ylM3JUn1Bl8NlYmIiAMDHxwcPP/wwNm3ahISEBJw5cwZGo7iKSRAE5Ofny9e29dRT\n",
              "T6G2ttbm38SJE3vwYxAREXXsorc24YFle/HCD4dR0aBDiJ8PpqVFOvw6hUKB9JhAm9t+2F+M4toW\n",
              "+PmocHZ6JOaMsITLIyUosgSE/YW1KKhqcv0PQh4nCAIe+mIv7vt8D8xODEeX1bceH9pZuJTm9cbZ\n",
              "CZfSanGg9cQepVKBGyYmIi06sN31ntalcNnY2Iiamhr582XLlmHs2LGIjo7GuHHj8NlnnwEAVqxY\n",
              "gfj4eKSlpdl9HK1Wi+DgYJt/KpXK7rVEREQ9Yb2QYunWPADAbCeGxCXS0Ljkm71FAIDp6ZHw9VHh\n",
              "nPQo+PooUVjdjA3HW1eNr7JUSMm7HCqqw3f7ivHTgTM4Wd7g8PpSZyuXlsU5caH+7e6T9rkEgKSI\n",
              "9vf3NV06W7y0tBRXX301TCYTBEFASkoKli5dCgD44IMPcMstt+Bvf/sbgoODsXjx4l5pMBERUVfY\n",
              "23j6EieGxCVtK0MGkxhWZw0XK5Z+GhXGxIdi++kqed4cAPx08AzuOCelO02mPkyabwsAu/Oq2735\n",
              "aMuZyqXZLOBMjRhCB4f6trvfunKZFBHQ7v6+pkvhMiUlBXv37rV7X2ZmJrZu3eqSRhEREblKaZ3O\n",
              "5vNgX7VTQ+ISexusKxXAzKHR8udDIgOw/XSVzTX7CmpQVNOMuA720KT+afXR1i2odudV4/oJCThR\n",
              "2oDUqACo7VTDnalcljfooDeZoVIq5FOhrFlPqUzuB5VLntBDRERe50hxHS58cyN+OVxis6ACAGYP\n",
              "j4VG7fzL39TUSNw6LRkvXzlSvm18UhgiArXy522rSdKijJWWlenkHQqqmnD0TJ38+Z68aqw6VIIL\n",
              "3tyIh77YZ/drbCqXTfbDpTRXNzbY125A1apbh8VD/TXdabpbMVwSEZHX+W5/EY6V1GPF7kKU1reG\n",
              "y8yYINxxzpAuPZZKqcBzl43AjZOSEBUkBsrZliFxSdt5cAumJAMQh8bJe6w5Ku4SMGxQMABxi6r3\n",
              "N+QAEP9ff749v91RoOVWlfOqhg7CpWUxj70hcQCYnBKOu85Nwb9uGNuzH8BNGC6JiMjrHC8R5z4W\n",
              "1TTLw+JXjY3DL4+cg6Gxwd1+3BsmJCAjJhBzx8bZ3G4dLiMCNLgiazAUCmBvfo28xQz1f9IWVFeP\n",
              "i0OGZReB/YWte5o+/c1BjHr+F1z+7834x6pjaNabbN7cOKpcdjSFQqFQ4KmLhuHyMYNd8nP0NoZL\n",
              "IiLyOlK4LK5plue8RduZy9ZVf5qTiV8fORfRQbaPZT0sHhPsi+hgX0xICgfQumk79W+1TQZ5Xu3s\n",
              "4TG4cmy8fJ9aqcC8SYmIDfaF0SzgQGEt3lufg3+sOoayOscLeqQ3IB2dcd/fMFwSEZFXqW0y4Eyt\n",
              "GCirmwzIrWgEIG6I3lsCtWpEBopz4QZZziO/aFQsAIZLb7HueBlMZgEZMYFIigjA9RMS5Ptign3x\n",
              "tytHYdvTM7HlyfPxzCXDAABLfs9Fs6F1mLy6g3DZ2R6X/RHDJREReRXr7YAAYE9+DQAxAPQmqXoZ\n",
              "I4XLkYPk73+mlkPj/ZH1HqnSkLg03zYsQIObJycBAB6alS5fFxfqh9vOHoJMqy2KpNXe1U16uxuv\n",
              "OxoW728YLomIyKscK6mz+by22QCgdyuXAJAaJYZLaaV4bIgvRseHABC3rKH+xWwWcN2H23DRW5uw\n",
              "r6AGG06IG+TPHh4rX/OXy4bj2/um4drx8TZfq1AocM95qfLn52ZEiY8ptD4frXlbuOzSPpdERER9\n",
              "3bGSeru3t50n6Wr3z0hHTLAvrp/QevRxWnQgDhTWykPz1Dd9v78YeqMZV4+Lk8/pPlnegB2WOZZX\n",
              "vrsFggBEB2kxOi5E/joflRJZCaF2H3Pu2DhkxgZBqVAgLToQWX/9FfUtRlQ26hEW0LqdUF2LAfUt\n",
              "4kb/3jIsznBJREReRVrMEx6gkRdQaFRKRPdy5TIxwh+Pzsm0uW2IZaj8dAXPGe+rmvUm/Gn5PhjN\n",
              "AjZll+MfV4+Gr48Ke/PFarNaqYDRMpQ9c1gMlEpFZw9nQ9qyCBB3EahvMSK3otHm1CdpMU+Yvw/8\n",
              "Nd4RyzgsTkREXkMQBJywhMvzMqPk2y8dPchmI2p3SY4Uw2VuJSuXfVVts0EOj9/tK8b1H25DWX0L\n",
              "9uTVAABumz4Ez182HOOTwnDrtORuf59xSWEAgCf/dwB5Vs+H1j0uvaNqCTBcEhGRFymqaUa9zggf\n",
              "lQJnWbYCAoAFU5M90p4hUrjksHifJZ09r1ErEeLng30FNZj77y3YmC3OsRyfGIZbpg3BinumOjxH\n",
              "vDMvXD4CwwcFo6JBj5sX7UC55eQeb5tvCTBcEhGRF5GGxFOjAjE9PRIalRLT0iIwpoN5cb1NqlxW\n",
              "NurtLuSwJ6+yEX/57hDK6lscX9zHvLc+B+NeXI2TZQ2eborTpHAZFajFt/dNQ0pkAIprW+TtrKSK\n",
              "Y08F+fpgyR8nICHcD/lVTbhl8Q7Utxhaw6WXzLcEGC6JiMiLSIt5MmODkBDuj61PnY9FCyZ4rD2B\n",
              "WrV8ZKSz1ct//3YSS7fm4Y3VJ3qzaS7XYjDhH6uOoapRj0+35nq6OU5rtITLQK0aQyID8M2903B2\n",
              "WiQAICUyAJGBrpurGx3ki0//OAkRARocLq7D3Z/tlp8XrFwSERH1QdbhEgAiArXw9XH/XEtr0qIe\n",
              "Z+ddHjkjbqW0+kgpTHb2ROyrfjlcIn+sN/WfdksrtQN9xcU0If4+WHLrBPz9qlG9cpZ3cmQAltw6\n",
              "EQEaFbacrMQvh8X9MxkuiYiI+qDjlj0uh8Z2f26cqyVHiueO53awYlxnNOHFH4/g271FMJrMyLYM\n",
              "KVc06LErt8pt7eypr3cXyh8XVPWf1fENVpVLiVqlxPUTEzHSatshVxoVH4L3bx4PH5W48nx0fAim\n",
              "pEb0yvfyBO9Y805ERAOe3mjGqXKxOjg0NtjB1e6TGC6Gy4Jq+4HrpR+P4tNteQCAkXHB0BvN8n2r\n",
              "DpdgUkrnoeNYSR3eWH0CT140TF5A1Jt+PFCMwupm3HVOirwnZIvBhK05lfI1/Wl1fKOdcOkO09Oj\n",
              "8M2901DXbMCU1Ai5L70BK5dEROQVcsobYDQLCPJVy+d79wUJlnCZb6ead6K0Xg6WALArV9xbUaMS\n",
              "X55/OVRicwShPa+sOo5fDpfiM6vH6S0FVU24//O9+PvKYzhc3HoS0sGiWhjNgnzMYXFNM3RGUweP\n",
              "0rfYq1y6y8i4EExNi/SqYAkwXBIRkZeQVooPjQ3qUy/WUrgsqGrCe+tzsPaoOMeuxWDCg8v22ly7\n",
              "9lgZAHFfTn+NCsW1LThQWNvhY9c2G7DJsmVOYQeVUVf6YGOO/LH1inDpeMsLhsfCX6OCWQAKq/vH\n",
              "eepSuAzwQLj0VgyXRETkFdou5ukrpGHxM7Ut+MeqY7jtP7vQYjDhbz8fxbGSekQGauQV5b9ZwuWY\n",
              "hFDMyIwGIA6Nd2T1kVIYLItnpC1tekt1ox5f7mqdV5ld1nrMphQuxyeFIcmygCmvnwyNN7RZ0EM9\n",
              "x3BJREReQVrMk9mH5lsC4rF/fm1WrP/1xyNYulUcxv7nH7IwJj4UAOTV4cMGBeOCkbEAgFWdDI3/\n",
              "dKBY/tjVlcK233PDiXKb+aDZpQ3ydXss4XJcUhiSIzpfwNTXSJXLIFYuXYbhkoiIvMIxq2HxvkSh\n",
              "UMjVS8nn2/MBAHdMH4JzM6IQ32YD7eGDgzEjMwoalRKnKxqRXdYAQRBQVNMsh77aJgM2ZVfIX1PT\n",
              "ZJAXp/SU2Sxg/ic7cNZLa7Bo82nojWasOy5WVUfHiyuoT5aL4TKvsgmVjXpoVEqMjAvuf5VLDou7\n",
              "HMMlERH1ew06o3yiSk+O6OstbcMjAIyKC8HjFwwFYLvHYUpkAAK1agT5+mB6uriZ96pDJXh/wylM\n",
              "+/tv+H6/WK385UgJjGYBQ2ODEGwZ0i2qacbJsgYcKup4nqYzfjhQjE3ZFaho0OHFH49gzhsb5CH7\n",
              "O6anABBDpd5olofER8WHQKtWtVYuK3uvcllW14Lpr/yGV3851ul1eqMZh4pqO10UxWFx12O4JCKi\n",
              "fq+sTgyWgVo1Qvx8PNya9gxWm6EPDvFFsK8a/7phLDRq8WXY+ui/EVZ7K0pD4ysPleAfq8Qg9Zfv\n",
              "DgMAfjpwBgBwyahBiA8TA92LPx7BBW9uxJXvbkFOefeOYDSazPjnr+LpQLOGxSAyUIvcyibUtxgR\n",
              "4ueDi0bGIkirhsksILeyEbvzW+dbApArl/ZWx3dHaV0LWgy2K8//+esJFFQ14511OR18lejFH4/g\n",
              "0rc3Y9mOgg6vaV0t7tnN9r0JwyUREfV7FQ16AEBkoMbDLbEvyWpY/JdHzsGGx2fY7ElpXbkcObh1\n",
              "zujsYTFQKRU4eqZ125/4MD/UNOmx5aQ4JH7x6EFyON2UXQGTWYDBJMhD7/YIgoD1x8tQ06Rvd9/+\n",
              "whrkVzUhxM8H/7ohC+sfPw8PnJ+GiAANbp2WDLVKidToQADivEt5vmWiGC6lTeMLqppgNJnbPX5X\n",
              "bM6uwNn/+A0zXluPDSfK5dsPn3GuMitt8/TMtwc7vKZ1n8u+96akv2K4JCKifq+8XgcALj0H2pUe\n",
              "vzAT146Px4p7piLI1wdhAbYh2LpymWE1ZzQsQIPzh0bbXKtSKvDr4VIYzQKGDQpGalSgTTiVAvbX\n",
              "uwtxvKTe7pDw+uPluGXxTlz/4TabRTpA616bk4aEw1+jRqBWjUfnZGL3s7Px8KwMAEC6JVzuza/G\n",
              "8VJxruu4pFAAQEyQLzRqJYxmAX/98Qj+tTYbVY3tQ6w9tU0GuUrZpDfiqW8OwGAScKa2BQs+2YEn\n",
              "vj6AuhaDzWKhJr3jeaadnaJZ78F9Lr0VwyUREfV7FQ1iuJS29Olrgn198Oq1Y+Sh47YiAjTyauWx\n",
              "CaE2982blGjzeUltC348KA6JXzp6EAAgwGpId8U9UxEf5ofaZgMueHMjJv5tLR7+Yi+2nWo9QUf6\n",
              "+FhJPd7fYDu0vMtSiTwr2X5bASA9RgyX3+4rgiAACeF+iA4SN65XKhVypXbp1jy8vvoEzv7Hb1j4\n",
              "81H5TYA91Y16zH5jAya+vAZrjpTixR+PoqCqGYNDfHHL1GQoFMDyXQU4/7X18lA2AFTUdxxcg6zm\n",
              "UdY2Gexe46kTerwZwyUREfV7fb1y6YhCocDax87Fpj/PQKi/bVXznPQom8/L6nXYaBkivniUGC4v\n",
              "GzMYGpUSd0wfgqSIALx/03hMT4+EVq1Eeb0O3+4rxh1Ld8mn5hy0WvDz9m/ZyLZUH623FRqfFN5h\n",
              "e9OjxeqqNB1hfKJtEJXmXQKARq1Ek96EDzaewvRXfsMvHezb+dXuApTV61DXYsTtS3dh2Y58KBTA\n",
              "P64ZjecvH4Hld05BcoS//D0l5Q0tHbZTrWzdTH9fYU27+01mAU16sU+4oMd1GC6JiKjf6+uVS2dE\n",
              "B/nKp/lYUykV+OnBs/F/Fw+D9cFDKZEB8rzNobHBOPzXC/D0xcMAiMcKfnrbJOx/bg4+v2MSIgO1\n",
              "qG8xYtupKgiCIK8mT48OhMEk4PGvD8BkFnC6olHcVkgtbivUkTTLsLikbUVWWjEOAK9eMxqLb5mA\n",
              "MQmhaDGY8fT/DqK22baKaDYL+K9ljqi/RiUvdHpsTiamW8L1xCHhWPnQOfjjtCHQqlvjS0fVULNZ\n",
              "sPk+n27NRX6bFezWFdAALuhxGYZLIiLq9/p75dKREYNDcMc5KYgNbj0z3XpVOQD4qJTtjr309VFh\n",
              "amokZg+PAQCsPlKC/Kom1LUYoVEp8cktExCkVWNfQQ2W/J6LnblVAIAxlm2FOhIX6gdfn9YIMa5N\n",
              "uNRa3TdjaDRmDI3GV3dNQWpUACob9XhzzQmb6zedrEBeZROCtGrsemYWdj49Cz/cfzbuPS/V5jo/\n",
              "jQp/uWw4jvz1QlwwQvyZOgqXDXqjzVzLNUfLcO5r63Dbkp3ytABpSFyjUnb681LXMFwSEVG/5w2V\n",
              "S2fEWIXL4YOcP4lojiVcrjlSJp9VPnRQEBLC/fGUpdr52i/H8fVu8XjHySkRnT6eUqmQq5cBGhUy\n",
              "2+wteuXYOPioFLhmfDyCfcVV2Bq1Es9cMhwA8L89RTBYrST/1HJa0dXj4+GvUSPE3wej4kM6PCNe\n",
              "pVTI/687CpfSHEutWonFt0zAORlREATx/PbrP9yGE6X1rdsQcUjcpRguiYio3+vrWxG5Skxwa3ge\n",
              "Mdj5cDklNQIBGhVK6lrw8ebTAMShcwC4fkICJiaHo9lgwk7LSvEpDsIlAKRFieEyKzEUapVtnEiL\n",
              "DsLuZ2dj4VWjbG4/JyMKEQEa1DYbsP2UWCUtqmnGb8dKAQA3TbZdvNSZqEAxaJc3dBAuLUPiof4+\n",
              "mDE0Gkv/OBFrHz0XGZbFSPsKalBhCaYcEncthksiIurXBEGQq1feXrmUqoCAeP64s3x9VLjEsrJ8\n",
              "f0ENgNZqplKpwF3npthc33aY254Zli2SLhk1uMO2+rQJnSqlQh6ilxb2LNueD7MATE4JR1q086cr\n",
              "Oapc1lgql9ab6qdGBWJqqnjq0eGiWrz001EA4mlJ5DqsAxMRUb9W12KE3jLE6q1zLiXVVtvpdDVI\n",
              "XzchEV/uEoe9h0QG2KxCPy/Tdi9NXx/HlbzLxwzGtLRIRAR0rVp8wchYfLGzAN/tK8J5mVH4Yqd4\n",
              "es7Nk5O79DjW4dJkFqBS2g6hy5VLP9v2SceD/scyFB8eoMFzl43o0vemzrFySURE/ZpUuQrSqp0K\n",
              "Rf3ZrGFiCEwIb39WuSPjEkPlIeGbJydBaRXGVEoFXrhcDFgvzR3p1OMpFApEBmo7nBfZkWmpkRgx\n",
              "OBh1LUbc9p9dqGjQISpIizmWBTrOksLl/sJaTPrbGvxuObFIUtMsTpUI8bc9eUfqA8k956bazGWl\n",
              "nmPlkoiI+rWBspgHAK4ZH48gXx9M6GSD844oFAr8e944bDlZgZsnJ7W7f8HUZFwwItZmXmdv0KiV\n",
              "+PruqfjHqmNY8nsuAHHeZ9shdEes/39XNOixYPEOvHbtGFyRFQegtXLZ9qz59DaLj84fZlu1pZ5j\n",
              "uCQion7N27chsqZWKeW5k92RERMkDwvbExvingqen0aF5y8fgQtGxGJnbhXumJ7i+IvaGBTsiykp\n",
              "ETAJAsL8ffDL4VI89MU+nKltwV3npMirxUPbhMu2YTPF6ox3cg2GSyIi6tcGUuXS20xJjcCUVMcr\n",
              "0+1RKhVYdudkAOKG6S/9dBSfbDmNv688BqPJbHdBT1sj44K7PKxPjnHOJRER9WutlUvv3oaIOqZU\n",
              "KvCXy4bj8QsyAQCfb8+32Yqorf/8cSImp4Tj3Xnj3drOgYLhkoiI+jVWLklyw0Rxn8zi2hacqRPP\n",
              "HA+2U7k8NyMKX9w5BYkR7Y/bpJ5juCQion5tIM25pM6FB2gQZqlUSvt5hvqzou1uDJdERNSvtZ7O\n",
              "w3BJQEqU7VZD0axoux3DJRER9WsD5XQeck5qVOvq7xA/n3bnnlPvY7gkIqJ+y2wWUNloGRZnuCTY\n",
              "Vi4nDQm32Sye3IPhkoiI+q3aZgMMJgEAV4uTKNUqXHZ3myPqGYZLIiLqt6SV4sG+amjV3n30Izkn\n",
              "xWpYnOHSM7iJOhER9Vucb0ltJUcEYGpqBNQqJTKiOd/SExguiYioXyqv1+Ht304C4EpxaqVSKvD5\n",
              "HZM93YwBjcPiRETULy38+Si2nqoEwMU8RH0JwyUREfVLu/Kq5Y/nWU5mISLP47A4ERH1O7VNBuRX\n",
              "NQEA9v9lDkLsnB9NRJ7R7crl4sWLoVAo8O233wIAzjvvPAwZMgRZWVnIysrCG2+84ao2EhER2Th8\n",
              "phYAkBDux2BJ1Md0q3KZm5uLjz76CJMn206YfeONNzB37lxXtIuIiKhDh4vqAAAjB4d4uCVE1FaX\n",
              "K5dmsxm333473n77bWi1nEBNRETud6hYrFyOjGO4JOpruhwuX3/9dUybNg3jx49vd9+TTz6JUaNG\n",
              "4brrrsOpU6c6fAydToe6ujqbfyaTqatNISKiAehAYQ3WHSsDAIwYHOzh1hBRW10Kl4cOHcKKFSvw\n",
              "zDPPtLvv008/xbFjx3DgwAFMnz4dl156aYePs3DhQoSEhNj827FjR9dbT0REA8qWkxW44cNtqGsx\n",
              "YnR8CKamRnq6SUTUhkIQBMHZi9977z389a9/lYfDS0pKEBwcjBdeeAH33HOPzbW+vr4oKipCRET7\n",
              "o5d0Oh10Op3Nbc8++yzeeuut7vwMRETk5QRBwKpDJXjoi33Qm8yYmhqBD+efhUAtNz0h6mu69Ft5\n",
              "zz332ITI8847Dw8//DAuvfRSlJaWIiYmBgCwYsUKxMTE2A2WAKDVatvN11SpeCbsQNJiMOFkWQNG\n",
              "DA6GQqHwdHOIqA9adegMAAWyS+vx9m8noTeZAQAXjYzFm9dn8Sxxoj7KJW/5dDodLrnkEuh0OiiV\n",
              "SkRGRuL77793xUOTl3pw2V78eqQUr14zGteeleDp5hCRB5jMAhZtPoWPN51GYrg/lt81BSql+Gbz\n",
              "TG0z7vnvHliPrSkUwM2Tk/DcZSPk64io7+lRuFy/fr388a5du3raFhpAfj1SCgBYtPk0wyXRAPXm\n",
              "mhPy2eBl9TpsPlmBczOiAACbsitsguWD56fhjnNSEOTLPS2J+jpOViGP0qh5AimRNxEEAeuPlyPE\n",
              "3wfjEsM6vG7bqUo5WEqW78yXw+WWkxUAgOnpkbj2rARcNnoQp9AQ9RN8ZSeP0jJcEvVrz3x7EJe+\n",
              "vQmVDTqU1+twx9LduHXJTtzyyQ50tl50/fFyAMClowdh5UPTAQC/HC7FPZ/txqfb8uRwed+MNFw+\n",
              "ZjCDJVE/wsoluV2LoXVPU1YuifovQRDw2bZ8AMAfPtiKmiYDKhv1AIC6FiPqdUYEdzCMXVbXAgAY\n",
              "MTgEwwYF45yMKGw8UY6Vh0qw8lAJAMDPR9Vp9ZOI+iaGS3K7iobWbajMZg82hIh6RAqSAJBT3ggA\n",
              "GBobhFMVjdAbzahu1HccLuvFvwMxweLOIYtvmYB9BTX4/WQFtuRUYH9BLa6fmMA3oET9EMOlkwqq\n",
              "mnCoqBYXjozl8EwPSS8qAFDbbPBgS4ioJ87UtMgfq5UK3HlOCh6alY7zX9uAoppmVDbqkRQRYPdr\n",
              "Sy2Vy+ggXwCASqnA+KQwjE8KwwMz0yEIAv/WEvVTfEvopCf/dwD3/HcPNpwo93RT+r1yhksir1Bc\n",
              "2wwAGBMfgiN/vRB/vnAotGoVIgI1AIBqS2VTZzTh6W8OYrVllwigNVxKlcu2GCyJ+i+GSyeV1omB\n",
              "SDrPlrqP4ZLIO5ypEcPloBA/m+HrMH8xXFZZwuW6Y2X4fHs+Hv5iL6oa9WgxmFDXYgTQWrkkIu/B\n",
              "cOmkZr24CGVjdoWHW9L/WYfLBp0RBhMnXhL1R2dqxerj4FA/m9vDAyyVyyYxXBZUiSG0UW/Cu+tO\n",
              "oszyZl2rViLYj7OziLwNw6WTmvTiu+zTFY0oqGrycGv6t/IG23Pl61i9JOqXiuVwaVt9lMKltOCn\n",
              "yFLhBICl2/Kwv7AGABAT7MvhbyIvxHDppCZ96/Y5m1i97BHryiXAoXGi/qrYaljcmly5tITLwmrx\n",
              "OrVSAb3RjIU/HwUARAfZn29JRP0bw6UTTGYBOmPr0O1GLurpkbbhsobhkshlDhfX4oUfDqOwuvdH\n",
              "WOQ5l20ql61zLsXfbalyede5KQBaK54xwZxvSeSNONnFCc1Wm34DwJacChhNZqhVzObdUdHAyiWR\n",
              "KwmCgBOlDfjxQLF8pKIgAOcPjUZlow5jE8KQFOHv0iFok1lAqeWN4uAOKpdVjeL9RZage0VWHI6e\n",
              "qcdvloWRUaxcEnklhksnSPMtFQog2NcHtc0G7C+sxfgknhzRHQ06aZWoFmX1OtQ2MVwSdYfOaMJ7\n",
              "63Pw/f5inLJsYi756eAZ/GdrLqQTGMMDNBibEIpxSWG4Znx8j6uGZ2qbYTILUCsV7UJi64IeA+pb\n",
              "DPLK8LhQPzw6J0MOl6xcEnknlt6cIK0U9/NR4ey0SAAcGu8uQRDQaAmXcWFitYOVS6Lu+eVwKd5c\n",
              "k41T5Y3QqJWYNSwGD81MByBOPxEEIFCrhkalRFWjHmuPleHVX47jsa/29/h7Hy+pBwCkRgVCpbSt\n",
              "iIYHiKfyVDXq5SHxUH8fBGjVGDE4BNdPSAAAjEsM7XE7iKjvYbh0grSYx1+jxvR0MVxuyma47A6d\n",
              "0QyDSSylxFm2L6lh5ZKoW06WigFv9vAY7H5mFj5ecBYempmOQG3roNQd01Nw8IU5+ObeqXhsTgYA\n",
              "YPvpKrS0me7Tmd151ThUVGtz2zFLuBw2KKjd9eEBYiWzttmAg4Xi18VZbVf0tytHYfvTMzEpJcLp\n",
              "NhBR/8Fw6YTWcKnC9IwoAMC+gho8//1hPP/9YZjNgieb169IVUugdW88Vi6JuifPsi3a+KQwBFnO\n",
              "8FYqFRg+OFi+ZlJKOLRqFcYmhuG+GWmICtJCbzRjT361U9+jqlGP6z7Yikvf3ox7/7sbeZXi8PuR\n",
              "M3UAgKGDgtt9TYhf63nij399AIDtXphKpYJD4kRejOHSCc1W4TIu1A+pUQEwC8CS33Ox5PdcHC6u\n",
              "83AL+49GXWtfSitKGS6Juie3UgyXyRH+NrePigsBAGjUSmQlhMq3KxQKTLFUC7edqnLqexRUNcFo\n",
              "eQP988ESzHp9A1788Qj25InhdJidcKlSKuR5l5JxiZyjTjRQMFw6QVrQ46dRAQCmp0fZ3L8lh/te\n",
              "OqteJwbJAK0aof5idaO2We/JJhH1W/mWKmJieIDN7ROSwwEAk1Mi4OujsrlvSqolXOZUOvU9pK3D\n",
              "EsP9MT09EgaTgEWbT8un89gbFgeAx+Zk4trx8Vj76Ln46cGzcfv0IU7+VETU3zFcOkHaisjfEi6l\n",
              "RT2SLScZLp0lVS4DtWp56IyVS6Kuq20yoNoyXzmpTeXyghExeO/GcXjl6tHtvm6qJVzuLahGfYvj\n",
              "3z3pRK2MmEB8etskLL5lgs39UYH2txOaNykRr147BqlRgRgxOAQ+3LqNaMDgb7sTmuTV4uIk+fMy\n",
              "o7BgShLmT0kCAOzMrYLeyPOxndFgqVxah0su6KGuaDGY5EUiA1lelVi1jArSIkBru6ucQqHARaMG\n",
              "ITak/bzGpIgAJEf4w2ASsOVkJQ4U1uC2JTvbLdiRSOeAS9sNzRgajTevy4JCAVw+ZjCPbySidrjP\n",
              "pROkRShS5VKtUuKFK0ZCEAT8fPAMKhr02F9YIw9FUccaLJXLAK2KlUvqlr+vPIYlv+fi5StH4sZJ\n",
              "SZ5ujsccKhLneieF+zu4sr0ZQ6OxeEsuvt1bhFWHSwAAVU16fHPvtHbXljeIw9/WFcq5Y+MwYUg4\n",
              "ItrMqyQiAli5dIr1gh5rCoVCnsyeV9n7R615Aymo21QuGS6pC1YfKQUA/Pu3kwN2xOClH4/g6W8O\n",
              "AhArkV01IzMaAORgCQB782uQb+fvmDTnMqrN6u64UL928zmJiACGS6c0WeZc+mna/yGVttMorWtx\n",
              "a5v6q4aW1nApLejRG81d2nOPBq7C6iZ5U+4ztS34Zm+hh1vkGTvzWrcRkhbodMXEIeEIsgylB/uq\n",
              "ERkoViC/2Jnf7toyKVx2MLeSiKgthksndFS5BICYYPEPbpkLwuXWnEpc9vZmp/ef64+kox8DtGoE\n",
              "atXyyR4cGidn7MwVt8+RDoR5b30OjKaBV73UWd6MvXrNaFw9Lq7LX+/ro8Int07AwqtGYcuT5+Ol\n",
              "uSMBAF/uKoShTX/KlUueA05ETmK4dIK0FZG/pv0U1dbKpa5Lj5lb0YiZ/1yPd9adBAAYTWbc8NE2\n",
              "HCyqxZMrDvSwxX2X9bC4QqHgoh7qkh2nxXA5b1Iiwvx9kFvZhJ8OnvFwq9xPqvQPiQzo9oKaCcnh\n",
              "uGFiIoJ8fTBzWAwiA7WoaNBh7dFS+RpBEORwGc1wSUROYrh0QpPV2eJtSeGypIuVy0+2nEZOeSNe\n",
              "/eU4vtxVgO/2Fcv3nShtQK2Xhq0Gq3AJgIt6qEukcHluRjT+OE3cN/HddTkD7pQsaXs0V8159FEp\n",
              "8Yez4gEAn+8okG+vazFCZ5nXysolETmL4dIJnQ+Li+GyK8PiRpMZP1tVW/6x8hiW7yywueaXIyVt\n",
              "v8wrWA+LA0CwXLnkRurUudomA3LKxe13xieFYf7UZARq1TheWo81VtW2gaDFIAY+Vy6ouX5CIgBg\n",
              "U3Y5CizHSkpVyyBfNRfvEJHTGC6dIFcuO5tzWa9zunqy+WQFKhr0cvWuslGPfYU1AIBLRg0CAPx4\n",
              "wDuH+hrbVC5DWbkkJ0m/I0kR/ggP0CDEzwc3W/aafWd9DgRh4FQvWyuXrvsTnhghnsAjCK0Lezgk\n",
              "TkTdwXDphCb5hJ72cy6jArVQKACjWUCVk9W37y1D4FeNi0OiZY86vdEMhQK4//w0AOKpP1WN3lfN\n",
              "k4fFfTksTl2zL78GAGzOyr7t7CHw9VFif0ENtpysRHFNM+7+dDd253nvojizWZC3YLI3Vacn5k0U\n",
              "q5fSwp48y/GSg0L8XPp9iMi7MVw6oVlvu4m6NbVKiUjLFh0ltY6Hxpv1Jvxi2Vvuiqw4pEUHyvfF\n",
              "h/lh2KBgjBgcDJNZkK/zJq2bqFsql/4Ml+ScvQViYBxrFS4jA7XycO6/12Vj3kfbsOpwCe5cussT\n",
              "TXQLndXenq4eqp41XFzYU16vw9qjZdhXUAMAGB0f4tLvQ0TejeHSCZ0NiwPWQ+OOw+Xqo6Vo1JuQ\n",
              "EO6HcYmhNuEyLUr8+JLR0tB4sd3H6M9ah8XFvmTlkpwhCAL2W4JOVmKYzX13nZsCH5UC205VIdey\n",
              "CXilF1b9Jc1We8K6Olz6qJS41rKwZ9mOfOy1Uy0mInKE4dIJnS3oAYBYJ7YjKqtrQV2LAd/tLQIA\n",
              "XDEmDgqFAqlRradrSEHz0lGDAYj7XkpznrxF62pxMVRyKyJyRnZZA6qbDNCqlRg2KMjmvkEhfrh6\n",
              "XLzNbZkxttd4E2kbIo1KKe8T60rXT0gAAGw4UY7jpfUAgKzEUJd/HyLyXgyXTpAql/4+9o9ij7aE\n",
              "yzMdDItXNuhw3mvrcdGbm7DhRDkAYO5YMUDaVC4tHydG+GNMfAjMArDqkHct7GldLc7KJTlvc3YF\n",
              "APFkGa26/Zu8u89NhXXOMpi9d2N1qXKpdeFiHmtJEQGYnh4pfx4dpEV0kG8nX0FEZIvh0gGzWZD/\n",
              "mHc0LB4fJk52L6yyf7748ZJ6NOlNKKpphtEsYMTgYKRFi5WV1Kj24RIALh0ths8fvGjVuN5olhci\n",
              "tN3nkueLU2c2nxTD5dlpkXbvT44MwFVW1cu6ZqNb2uUJLS7e49Kev14xUv44w4urwETUOxguHWjU\n",
              "t75IBfnar1xKK77zOwiXpW3mYs7Naj2uLdRfg6yEUEQHaTFsULB8+8WWeZc7c6u8ZtW4NN8SsF7Q\n",
              "I55pXMdwSR0wmMzYdqoSADCtg3AJAH+7chTeu3EcAKCuxXufT9Iel65eKW5tSGQAPr1tIkbFheC+\n",
              "GWm99n2IyDvZT0skq28RA5FGpeywUiCFy4Lq1nBZVt+CN9dkY+OJcpuKpL9GhcvGDLb5+q/vngKj\n",
              "WbB5/LhQP4QHaFDVqEd5vQ7hARqX/UxdVVjdhOggX2jUPXsvIvWln48KPirxsTgsTo4cLKpFk96E\n",
              "8AANhlu9AWtLo1bibMtwrt5oRovB5JUbf7f0wh6X9kxPj8L09Khe/R5E5J0YLh2QAlFgB1VLoDVc\n",
              "ltbp0GIwwWQWcP2H23DKcppIYXUzAOCqsXF4aFY6YkNs5y+pVUrYmUaGAK0KVY2t8xQ94eiZOlz0\n",
              "1iZcNmYw3r5hbI8eS6omWVeArbciEgSh2+ckk/eSTovJiAmE0sEClgCNGkoFYBbE55t3h0vv+9mI\n",
              "yDtwWNyBejuBqK0QPx8EWYZ5C6ub8MIPh+VgaW10fAiSIgLa3d6RAMum7Y0eDJcHi2oBACfLGnr8\n",
              "WPbCpVS5NJkFj4Zo6ruk/WOlXRk6o1QqEOQrPqe8dd5lbxz9SETkSgyXDtRbAk9n4VKhUCDBUr18\n",
              "d10OvtxVCIUCeGxOhs11bSuWjkiLXlwVLs/UNuPln47IlSBnlFpe2Jv0PW+DVAWWzhMHxBdIabid\n",
              "2xGRPdIuDLFOnhIT7Cf+3njrvMtmVi6JqI9juHRAHhbXdj6DQBoa/59lH8sHZqThestRapIYJyov\n",
              "1qRFLx1V9H7PqcCFb27Eztwqpx7viRUH8dGm07jtPzudboO0GKlRZ3JwpWNSX0qVJQnPF6fOlNZJ\n",
              "lUvnzrcOliuX3vl8kofFezgHmoiot/CvkwOtw+I+nV6XGOEvfzw+KQwPzkxHRIDGJpS6snJpNgt4\n",
              "9ttDOFZSj28tgdaRjZY9Nk+UOj/EXVIrbuLe7ILKpfRi37YKzEU91JmSui5WLn29+/nU4mBrNCIi\n",
              "T2O4dKChxfGwOAAkWcJlkK8ab16XBbVKCYVCgWCrr4sKdK7yIpE2Gm/Ut68arjpcghzLvE6psuOI\n",
              "ddDVGZ2rREpHWjYZTDCbBae+piPysHjbyiXPF6dOyHMunXxz1jos7q1zLqXKJcMlEfVNXC3ugDyU\n",
              "62BY/PIxg3GkuA5XZMXJ8y8B2+qCWtW1LN/RsLggCPj3byflzzs6Gajt15iswuGJkgaMig9x+HXS\n",
              "C7sgAC1GE/w13X/KSFXgYFYuyUkms4AyyxGozizoAQbCsLhln0tWLomoj2Ll0gFnh8WDfH3w8pWj\n",
              "MHFIuM3tPXkB6GhYfN3xMhw5Uyd/7qhyWV6vw87cankhANC6CrwzRpMZFQ2tZ5s32amgdkV9B1Xg\n",
              "YJ4v7pWMJjMWbT6NfQU13X6MigYdTGYBKqUCUUFOzrm0PJ+8fUFPbx3/SETUU/zr5EBHgchZ954n\n",
              "nm4xe3hMl7/WXuVSEAT8a61Ytbx2vHjcXUWDXj5W0Z6bPt6OP3yw1eY2Z8JlRYMe1iPhTT1c1CO9\n",
              "2FuvFgeAUD9xg3hWLr3Lsp0FePHHI/jDB1uxO8+5RWdtSZXzqEAtVA72uJQEe/1WRBwWJ6K+jeHS\n",
              "AWkros42Ue/MRSNj8eMDZ+Nf13d9A/IAO5XL33Mqsa+gBlq1Eo9fmAmNZai9rN5+9bKmSY/jpfXt\n",
              "bj9c7DhclrSpiEpHYe7KrcJ9/92Dg4WOH8NaR0G9dVjcO465HGgMJjP+vvIYFq48KlcpDSYz3l+f\n",
              "A0A8Leeez/bYTMtw1pkuzrcEBs5WRBwWJ6K+iuHSAWeHxTuiUCgwMi6kWy8EgdKCHquK4du/ZQMA\n",
              "bpiYiOggX0RbtmfpaGi87crwySnhltvrHb7Yt33MJr0Jm7MrcM37W/HTwTP405f7uhQY5L7UckGP\n",
              "N9l4ohzvb8jBBxtO4eaPt0NvNOObvUUoqmlGkFYNlVKBsnodcsq7thG/0WTGmqOlAJyfbwl4/5xL\n",
              "nbSJOrciIqI+in+dHOjpsHhPSCf0SMPihdVN2HaqCmqlAneekwKg9UVX2jKorewy26plckQAfH2U\n",
              "aDGYkVfZ/hQha+3DpREfbMyxeuwGfL/fuW2QgNbVu22HxUM457JfK7ZaUFavM+JgUS3eXSdO3Xhg\n",
              "ZhrGJ4YBAPZ3Ye5laV0L5n28HV/vLgQAzBnh/LSS1jmXXj4szk3UiaiPYrh0QAp2bVc4u0PbBT3S\n",
              "EGF8mB8Gh4p7/sVYhgvP1DbbfYxsq8qlQiFWPDNjggAAx0raD5dbaxsuG3Um+VjLmUOjAQBvrsmG\n",
              "wdTxfE9rHR2lGcLKZb9WXm/7xubln44gt7IJof4+uHFSEkZbdiU44OQ0ii0nK3DxW5uw43QVArVq\n",
              "vH3DWFw1Lt7p9kRbFv6cKKlHmZPbdPUnHBYnor6O4dKB1hN6ujcs3hNt51xKL+LWq2alymXHw+Ji\n",
              "gPz7VaOw+5nZGJMQiqGxwQCAY1Yrzu1pWw2tadKj2BJin798BCIDNcirbMIKS3XJkTqHcy4ZLvsj\n",
              "6XkpHeO5J78GAHDbtCEI0KoxOiEUAHCgsMbhYzXpjbj7092obNRj+KBg/PDA2bhszOAutWd0fAiy\n",
              "EkLRbDDh9dUnAIhzQD/fnu/0nrB9mVS51HJBDxH1Ud0Ol4sXL4ZCocC3334LACgrK8OFF16I9PR0\n",
              "jBw5Ehs3bnRVGz1GEIQOq23u0Ha1eGfh8qNNp3G7nWMds8vEyuXQQcEID9BYPhYrl0e7WLk8VlIP\n",
              "QRArqvFhfrjHshL+X2uzHW7K3mIwySvaOxoWr+WweL8kPS8vGhkr3xakVWP+1GQAwBhL5fLomfpO\n",
              "dzUAgNyKJtTrjAj198H/7p2KIZEBXW6PQqHAM5cMAwB8uasAx0vq8X/fHMTT3xzEI8v3dfnx+hpp\n",
              "n0tfbkVERH1Ut/465ebm4qOPPsLkyZPl25588klMnjwZ2dnZWLx4MebNmweDoX+HBZ3RDINJXLDi\n",
              "iXApD4vrTRAEoTVcWp30kxrd+uK75miZvHULIO4RKH1NWnSgfLtcuSzpvHIphcsYy6IhaYV5cqQ/\n",
              "FAoFbpyUiNhgXxTXtmDZ9vxOH0uqACsUQGCbjdils8XrdUaH4YP6nnLLXqgzh8XI2wUtmJosv2lI\n",
              "DPdHqL8P9CazXEnvSH5VEwAgKSKgR3MKz0oOx0UjY2EWgIUrj+LLXWJ1/fecym4/Zl8hH//IOZdE\n",
              "1Ed1OVyazWbcfvvtePvtt6HVtoacL7/8EnfffTcAYMKECRg8eDA2bNjgupZ6gHUgCujByTTdJR3/\n",
              "aDIL0BnNclCMtAqXMzKj8fofxsifbz/d+uL54/5iAMDwQcE2Rz8OjRUrlwVVzXJl1h5pKyKpenSk\n",
              "WAyjyRHi574+KjwwU6xe/ntdjvyiZ4/0fQI1aijb7FcYHqCRXygLq5s6fAzyrPoWA+5Yugufbs21\n",
              "ub3c8jxJDPfHzZPFOZa3nT1Evl+hUCDF8hySwmNHpP//CWHOnSPemScuHAq1UoH1x8vl2wIdnLTV\n",
              "H3BBDxH1dV0Ol6+//jqmTZuG8ePHy7dVVlbCYDAgNrZ1WCw5ORn5+farWTqdDnV1dTb/TKaebdDd\n",
              "GzoLRO5gHWgbdUa5QmQ9LK5QKHDVuHjcMV18Md92SgyXgiDgi50FAIDrJiTYPG5YgEYeTu+oktSk\n",
              "N8rhekikWPWUzjiXwiUAXDs+AZGBGlQ06HCok43Z6ztYKS79DMmW8HG6ovMV7OQ564+XY/WRUjz7\n",
              "3WG8tUbcEksQBJvn5fOXj8D395+NMMsUDEmi5UjUvMrOw6UUPq2PUO2u5MgA3DwlyeY2Rwvz3lh9\n",
              "Ahe/talPT9Hggh4i6uu6FC4PHTqEFStW4JlnnunRN124cCFCQkJs/u3YsaNHj9kbCqrFxSttXyjd\n",
              "RalUwF/TutelvTmXkklDIgAA20+JJ6EcKKzFsZJ6aNRKzM2Ka3e9PO/yjP1wWVonfi9/jUpefStJ\n",
              "tpoHp1Er5bDZdtN1a1WN4gbpHU0vSGG47POsp1y8seYEXv/1OGqaDPLUkcjAjn9PpHDpqHJZYLk/\n",
              "0QXhEgAePD/d5jlX1dTxRv0Gkxlvrc3GkTN1+K4LW2y5WzNP6CGiPq5L4XLTpk3Izc1Feno6kpOT\n",
              "sW3bNtx555348ssvoVarUVJSIl+bm5uLxMREu4/z1FNPoba21ubfxIkTe/aT9IJ1x8oAAFNSIjzW\n",
              "ButFPZ2FywlDwqFQAKcqGlFW1yJXLS8eGStv9WPN0bxLKUjEBvvKw/OS5AjbF35pOyTr8NGWdNxk\n",
              "hmUbpLaGMFz2edKbhyTL//9//XYST6w4AEBclNXZ6uVEyxuQgg7CZW2TAf/89Ti2Wd4cJYS5JlyG\n",
              "BWjw0tyRcqW+xWBGs97+KIn1Vkl9de5vfYtBXtAT0UmYJyLypC6Fy3vuuQdnzpxBbm4ucnNzMXny\n",
              "ZHz44Ye45557cO211+L9998HAOzcuRNFRUU499xz7T6OVqtFcHCwzT+Vqm+9CxcEAWuPiaeDzBwW\n",
              "7bF2BFqFywo7w+KSED8fOTBuzK7A9/vEyst1E+wH/GGWyuWxDiqX0nGSMcG+8G8z3zQ1KtDm80EO\n",
              "tkMCgD351QCAcYmhdu/nsHjfJ4XL+VOS8eylwwEAvx4Rf0fsPSetOapcfrTpFN7+7aRclUsI7/mc\n",
              "S8kVWXHY+tT58lGpHVUvpSklQOdvlDxJ2us22Fctv/EkIuprXLaXxT/+8Q/8/vvvSE9Pxy233ILP\n",
              "PvsMPj7u3xvSVbLLGlBQ1QyNWomz0yM91g6palhQ1QSj5ajFiAD7L+Tjk0IBAP/89Tga9SYkR/jL\n",
              "xz221Vq5rIcgtD/CUXpxjQnW2lQuIwI07aYJSOc+l9TZPyVIEATstex9OC4pzO41UuUyl+Gyzyq1\n",
              "qmbfdvYQPHh+mnxfuH/nVTQpXBbVNNvddP9omz1XpUMCXEWhUCAsQPx7VN1oP1z+nlMhf1zcwaEE\n",
              "nlZcI7bL1f1DRORKPXrru379evnjmJgY/Prrrz1tT5+x1bJlyeSUiHaVO3eKDfbDoaI6LFx5FAAQ\n",
              "5u8jb1bd1vikMHy2LV+ublw3IREKhf2FSClRAfBRKdCgM6KwurndAgppzmVMiC/8fFp/fustjSQx\n",
              "UuWyg2rPqYpG1DYboFUr5VDbrj2WcFlc24JmvYmLFfogqXIZGyK+ubnr3FT86zfxmEdHYSw6SAut\n",
              "Wgmd0YwzNS1IbDO1wtTmDY6PyvV7OIb5a1Bap5Pn/1ozmszYnVctf15U07crl4NCnD9rnYjI3bgL\n",
              "bwdyysXNx0cMth+G3OWJCzMRF+qHigbxBbGz4cfxia1VSpVSgavHt1/II/FRKZEW3fExkPIel0G2\n",
              "cy7thUupcnmmzn7A2GDZCmZ0fEiHwTgsQINQy9zQXAdnnpP7mc0CyqQ3HJY3EwFaNV6+ciQAyGfd\n",
              "d0SpVMhvYKyHxs1mAc16k80w9J8vzHRp2yXSIQLVdobFy+p18lxGoLVC2NecsbRrECuXRNSHMVx2\n",
              "QAqXbecXult6TBC+vW8axlrmKna20CEh3E/eA3Pm0GhEB3Ve3ZD2u7R3DGSpXKWynXNpN1zKcy51\n",
              "aNIb8cqqY9icLQ4xbs6uwN9XHgMAnD80ptP2SI8jzS2lvqOqSQ+9ZTjb+nl146Qk7Hl2Nm6enNTR\n",
              "l8qkhWD7LcdAHiqqxew3NmDiy2vkNzi/PnIO7j0vraOH6BFpOoe9yuUZS+U1wFIxL6/XOTx1yhOK\n",
              "LSF8MCuXRNSHMVx2IKdMrJ6lRnX9+DlXiwrSYtkdk/HK1aPx3GUjOrxOoVDg4lGxUCkV+KPVJtYd\n",
              "kcOlnb0uS6xO5/HXdF65jLac4KM3mvHgsr14d30OHvxiL7adqsSdn+6C3mTGRSNjHVa3pMpltZN7\n",
              "DDbrW7dnot4lVRYjA7Xtqs/hAZoOp19Ymz1cfHPx5a4CfLzpFK58dwtyyhtRbzneFOjd4V5pXqi9\n",
              "OZfSMPiIwSHQWn6+0lr3P7daDCb8+7dsHO/gaFYpBMeGsHJJRH0Xw6UdDTqjHK5SPFy5lPj6qPCH\n",
              "CQnt5qq19eylw7Hj6ZmY7MT2SUMHWRb1tKlcCoLtEKj1/Lf06PZbCWnVKkRYqkJrjorbN1U16jHv\n",
              "o21o0ptwdlok3rw+Sz4asCOhfuJj1HayF6G1+z/fg+mv/MZFQG5Q2ma+ZXdcNmYwgnzVyKtswks/\n",
              "HYXBJCDIasVzoFaNIN/eWwQoVy7tPL/OyAtlfBFnGXIu8sDQ+A/7i/Harydw48fbUGZn94UzNaxc\n",
              "ElHfx3BpxynLkHhUkFY+H7m/8FEpERHoXAAYZqlcnq5otDm6sbrJYDMEGh/mB3+NCsG+avmc8bak\n",
              "eXgAMCY+BABgFoAxCaH44Obxne6BKJFX8zpRuTSazNiUXYEWgxkbs8sdXk89Iy/mCe5+qPHXqHH1\n",
              "uHgAgK+PEi9fOdJmfmVsLwemcKky3tj++SUvlAn1k1di9/a8S0EQsO54GU6WtVYppekBFQ16PPjF\n",
              "XhitVtYLgiAvnOKcSyLqy7hRmh2t8y09PyTem6KCtAgP0KCqUY/s0gaMsoRCaQg0IkAjD4H+/uT5\n",
              "0KiVHQ5/JoT74ciZOpybEYX3bhqHq979HT4qJRbfMsHp/fhCLJXLGifC5emKRjkA78mrxvwpyU59\n",
              "D+qeUnlrqp4FwD9fmIn4MD+clxmNtOhAmxXavb0CurM5l1KVcnCIL6osi+cKq3svXAqCgIUrj+HD\n",
              "jacQqFXjl0fOQVyoH06WNcjXbDtVhT9/fQBpMYFo1BlR12yUFx1xtTgR9WUMl3a0zrfsG0PivUWh\n",
              "UGBobBB+z6nE4eJaOVyW1rcPEqEO9jH80+xMZMYE4bazU+CvUWPVw+dAEASn5uJJwiyVpRonhsWP\n",
              "Ws1J22PZQ5N6j7yQpIcVM3+NGrdPb517K837BXpn+yFr4U4s6BkU4oe6FnEOaF5V7023WH+8HB9u\n",
              "PAVAnIbz1P8O4j+3TpDD5U2TE/HZtnz8b2/7YyjjQv3g68Otuoio72K4tGNfQQ0A2xc+bzUqLgS/\n",
              "51TiQFEtrrfcVmq1gbqzMmODkBlru4VMV4IlIO5DCNjfKqYt63mi+VVNqGjQySvlyfWKreYkupJ1\n",
              "VduZ/+89Ic/pbbYzLF7TGp6lU4LyKzs/B70n9lr+xkwaEo69BTXYeKIcS7fmyRXUR2ZlIDUqEDtz\n",
              "qxCgEU/jCdCqEKBV47wMz50YRkTkDIbLNnRGE3bmiucbT0n13Jni7jImIRQAcMCyPQxgvVm2e4fe\n",
              "pDPQa5oNKKxuwvUfbsMFI2LlowattV1NuyevGnNGxLqlnQORHC57YZXyORlR2HiiHDdOcrydUU9I\n",
              "86fbhssWgwmVlmrm4FBfGM3i0HNuL4ZLaRHajKHROH9oNBauPIa//ngEgFjBjwjU4tZpQ3DrNMe7\n",
              "PhAR9TVc0NPG3vwa6IxmRAVpvX5YHBA3NgfEM8alRT3S6TyO9sl0NalyWdNkwDPfHkJhdTMWbT5t\n",
              "93hKaeFDimVeLIfGe4/ZLLhsWNyed28ch+V3TsZVYzve9N8Vgv3E99LNBhP0xtaFMtJiHj8fFUL8\n",
              "fJAULj6nKhp0aLTaJsmVpIMChkQG4PbpKchKCIXJcryrve2+iIj6E4bLNqRjH6ekRHR5WLc/igv1\n",
              "Q0SABkazIJ/vXOqhyqW0z2VeZSM2nmhdAV7eZlP1qka9PHx4w4REAMCe/GpQ76hs1ENvNEOh6J3n\n",
              "RKBWjUkpEVA62Kqqp6y3Oapraa1e7isQnztJEf5QKBQI8feRn4vWpwm5iiAIOF3RGi5VSgVeu3a0\n",
              "vHhuILypJSLvxnDZhhQupw6AIXFAnBcpVS+vfPd3fL49v/Xoxy7MuXQF6QXdLIj/JNmlDTbXbTsl\n",
              "/j/KjAnCjKFRAMRhfYPVti3kOtKQeEyQb68vuulNKqVC3lezzmpo/Nu9xQCAC6ymVSRZjqrM64Wh\n",
              "8cpGPepbjFAogETL90mLDsKzlw6Hn4/Kph1ERP1R/32l6AXNehP2WqoYA2G+pWRqaqT88Ys/HsGp\n",
              "crGq0htDoJ2RFly01XZ+5e854tGSU1IjkBIZiGBfNVoMZhw7Y/9UE+qZ3lrM4wnBbeZdVjTosPmk\n",
              "+HyaazUsnxghDo3n98KKcWm+5eAQ21XfN09OwuEXLsCMoVywQ0T9G8OllV15VTCYBMSF+skVhYFg\n",
              "wdRkLFpwFtRKBZoNJjQbTBgdH4IMO6fx9CaNWimf7Qy0bsaeXdY2XFqmLqSKQ6ljE8MAcGi8t8h7\n",
              "QHrBxt3Soh5pu6Ef9xfDZBYwJj4EQyJb97WVKpfbTlXZbGTuCtZD4m319tQAIiJ3YLi0IoWWyQNk\n",
              "vqVEo1Zi5rAY/HveOPm2Zy4Z7vEXumvOSgBgW7ksrWvBqfJGKBTA5CFidXkcw2WvKrZs0xPnBeFS\n",
              "WtQjVS6/2y8OiV+RZbuY6Ox0sZr/27Ey3LxoByoaXHfOuLSYJzly4LyBJaKBheHSyu8DbL5lW3OG\n",
              "x+CB89Pw7KXDMXFIuEfa0KhvPYZyQrIYGrNLG+QV49Kc2JGDQ+Sti8YlhQJguOwtRTXivENvqlzW\n",
              "NhuQV9mIvfk1UCqAS8cMsrluckoE3rtxHAI0Kmw9VYnL3t4s73/bUwcKawEAGTHev48uEQ1MDJcW\n",
              "dS0GHLTs9TiQ5ltaUyoVeHROJm47u2/srZcSGQi1UoF6nVHee1Oab2n9BiArIRQKBVBQ1YyCqiab\n",
              "bWao505YFlTZG8btb4ItK8brmg34bp9YtZyWFml3262LRg3Cd/dPQ0pUAM7UtuC6D7aisLpnC3xM\n",
              "ZgF7LdtmjU8K69FjERH1VQyXFjtPV8EsAMkR/l5RoemvpqWJofHe81KhUSuRbAk00tC49XxLSZCv\n",
              "jzw/dPor6zD7jQ0unyc3UDXojPIw7vDBwR5uTc/Jcy6bDfh2n3i0YtshcWtp0UH47r5pGBobBJ3R\n",
              "LFfOu+t4ST0adEYEatUYGtv/+5OIyB6GSwt5f0urldPkfv+6fizeuj4LD8/KAABkxIh7/mWXNqCg\n",
              "qgmF1c1QKxWYkGw7bC8NjQPi9jFl9a6bIzeQHS+pgyCI21J5w/Ga0mrx33Mqcaq8EVq1EheMiOn0\n",
              "a4J8feRpIjnljTCazHjxxyP4bl/7c78d2Z0nnv41NjEUKi7eISIvxXBpYa8iRu4XEajFFVlx8obS\n",
              "0ry0E6X12GrZ3zIrIdTmTGoAGB0favO5tFcn9cyRYnFj/eGDvKPKJlUuDxaJ8x5nDY+x2Vy9I9Kp\n",
              "OSfLGvC/vUVYtPk0HvpiX5e//648cV7wWUmemdNMROQODJcAqhv1OGI5nWZKCsNlX2IdLqUtXEbY\n",
              "GZ6dNSwGg6xOj5GOsKSeOSyFSy8YEgdaV4tLLh8z2Kmvk07NySlvwH6rhT1VljPJndFiMOG3Y2UA\n",
              "gEkpDJdE5L0YLtH6AjokMgBRQf1/6M+byMPiZQ0orBb3W4wLaz8nNipIi61PzcSc4eIQZ1k9K5eu\n",
              "IL3pGj4oxMMtcQ2pcgmIJ/ZMS3NuGoxUucyrbMTO3Cr59lPlDR19STsrD51BfYsRcaF+mJjMcElE\n",
              "3kvt+BLvd7pCfIFIjer/q2G9TVJEADQqJZr0JuyyvKgPCul4wZV09nUZK5cuIZ2tLYWr/i7Yagh8\n",
              "5OBgBGqd+xMYHaRFkFaNep1RXj0PiJXMs6yCYpPeiOe+OwyTIODJi4biy50FqGjQo67ZgO2nxefv\n",
              "dRMSPL6HLBFRb2K4BHCqkxMzyLN8VEqkRAXgWEk9ztSK1cjOVvPHBIvhknMuXaNRJ55kE+TrHX8q\n",
              "rCuXXdnLVaFQICU60GZIHBAX+Ej0RjPmfbRd3g/zZFmDvKelRKNS4prx8V1vOBFRP+Idrxg9lCuH\n",
              "S++oznibjJggHLM6paezM66laQ2lXC3eY3qjGQaTuHl92wVU/ZV1uGy744AjIwYHy+FycIgvimtb\n",
              "kFPWWsXcklNhs9G6FCz/cFY8UqMCEeLng5FxIdzqjIi8nne8YvSQtFCEx7H1TdK8S0CcJ2dvw2uJ\n",
              "VLksY+Wyx6SqJQCbM9/7M+lUJ6Drm5g/MisDaVGBmDgkHPUtRtzw0TbkWM253J3b/oQojVqJv14x\n",
              "Er4+3tF/RETOGPDh0mAyo8CyUCSFlcs+Kd3qmLzYYN9O9weMCRYrl9znsuca9WK41KqVUKu8Y+2f\n",
              "Vq3C57dPAiBue9UVUUFa/NFyepW0YCy/qgnrjpdhRmY0dln2sLx+QgK+2FkAADgrKYzBkogGHO94\n",
              "xeiBgqommMwC/HxUcjChviXTKlx2NiQOADGWqmZVox46o6nTa6lzjTqx/7xlSFwyNS0SU51cJd6R\n",
              "qEAtJg0Jh1kAbl28E09/cxD7C8Rh8AVTk+VK79npPJSBiAaeAR8uW4fEA6BQcAVnX5QQ7g+tZVN1\n",
              "R/PVQv19oLFU2cpZvewRqXIZoGXlrS2FQoH//HEi/jhNrGR+vj0fzQYTQvx8kBkThGvPSkCovw8u\n",
              "G+3cPppERN6E4dISLlO4UrzPUikVSLfMu+xsGyJAfNGXF/Vw3mWPSHMuAzTeVbl0FV8fFf5y2XB8\n",
              "fvskDLZsgTVpSDiUSgWev3wE9v1lDhLCOY+biAYehktuQ9QvjE8UF18MGxTk4MrWTdalTdepe7x1\n",
              "WNzVpqZFYtUj5+DFK0bgL5cN93RziIg8bsC/ajBc9g9PXjQMl40ZjHGJjlf4Jkf4Y8fpKuRWNLmh\n",
              "Zd5Lqlz6e8lK8d4U7OuDm6cke7oZRER9AsOl1ZxL6rv8NCqbk1A6kxQh/r/Mq2x0cCV1psky59LZ\n",
              "U2yIiIiAAT4s3qw3yae+cM6l90iKEOe55VWxctkTDZZhcX/OuSQioi4Y0OEy11LZCvX3QViAxsOt\n",
              "IVdJZuXSJZq4WpyIiLphQIdLeUg8glVLb5JoqVxWNOjRYHXKDHWN1Hdc0ENERF3BcAkOiXubYF8f\n",
              "hFsq0dbVy6KaZmzOrvBUs/qdJmm1OBf0EBFRFwzocLk7TzwLOCWK4dLbyPMuK8V5l4Ig4NbFO3DT\n",
              "ou3YX1DjwZb1Hw16Vi6JiKjrBmy4LKppxvrjZQCAi0YN8nBryNWSwm3D5aGiOpwobQAA7Mmv9li7\n",
              "+pMmbqJORETdMGDD5fId+TALwJSUCKRGBXq6OeRi0skohdViuPzhQLF83/GSeo+0qb9p1HMTdSIi\n",
              "6roBGy5/PHgGAHDDpEQPt4R6Q7zVKT1ms4Af9reGy6MMl06RN1HnanEiIuqCARkua5sMOFUuLvSY\n",
              "nhbp4dZQb4gPEyuXBdVN2J1fjTO1LVApFQCA7NJ6mM2CS75PfYsB5766Dg8u2+uSx+tLmiyVS26i\n",
              "TkREXTEgw+WBohoA4qIP7m/pnRIs4bKouhnf7SsCAFw2ehA0aiWa9CYUVLtmg/V9BTXIq2zC9/uL\n",
              "caq8wSWP2Vc08PhHIiLqhgEZLvfl1wAAxsSHerQd1HtiQ3yhVAA6oxn/2yOGyyvHxSM9Wpxfe8xF\n",
              "Q+MFVc3yx9/sLXLJY7pbTnkDimua290uLehh5ZKIiLpiQIbL/YU1AIAxCaEebQf1Ho1aidhgXwDi\n",
              "8G54gAbTUiOQGRsEADh2xkXh0qoC+r89RS4bbneXigYdLv3XZlz45kY0W4bBAcBsFuQFPTz+kYiI\n",
              "umLAvWoIgoB9BbUAgCyGS68WH+aPYsvZ8RePioVapcRQS7g8Xlrnku9RYHV+eVFNM3bkVmFySoRL\n",
              "Htsd9uRVo9lgQrMBeOGHw4gO0iIySIvoIK18DSuXRETUFQPuVaOkrgUVDTqolQqMGBzs6eZQL4oP\n",
              "88OOXPHjy8fEAQCGxor/z102LF4tDifHBGtRWqfD//YUYlxiGL7cVYCpqRFI6ePbXB0qqpU//mJn\n",
              "Qbv7FQrA12dADnAQEVE3DbhwOSjED7ufmYWTZQ3w9eFCBW8Wb9nrclCIL85KCgMAuXKZW9GIFoOp\n",
              "x8+BQkvl8p5zU/H8D0fw88ESZMQE4aWfjkKhAD6efxZmDovp0ffoTQeswiUAnJ0WCX+NCvlVTSiq\n",
              "acb5Q6OhUCg81DoiIuqPBly4BICIQC0iArWOL6R+bdawaHyy+TTuPS8VSss2RFFBWoT5+6C6yYDs\n",
              "0gaMig/p9uM36oyobNQDAK4cG49FW06joKoZb63JBgAIAvDnrw9g1zOz+mRAEwQBBwvFcPnK1aMR\n",
              "FazFeRlRfbKtRETUf3C8i7zW6PhQHHrhAtw8JVm+TaFQWA2Nd3/epcFkxvbTlQCAYF81Qvx9cNXY\n",
              "eABAvWWVNQBUNupxqqKx299HojOaUFDVBJMLFwwV17agslEPtVKBy7MGY0Ymq5RERNRzA7JySQNb\n",
              "ZmwQtp6qtHsMZGF1E2KCfeGj6vh916dbc/HKquNyiJSOmrxqXBzeWitWLaOCtEiO8MfO3Grszqvu\n",
              "8RGjV7/3Ow4V1UGrViI1KhAZMYG4fXoKRsZ1v/IqVS0zYoI4RYSIiFymy5XLOXPmYPTo0cjKysL0\n",
              "6dOxd694MklycjIyMzORlZWFrKwsLF++3OWNJXKFjBhx3uXJNpuerzpUgrP/sQ5vrD7R4dcKgoB/\n",
              "/XbSpjo52rJfalJEgDy389yMKIxPCgcgrsjuiUadEYeKxCqrzmjGkTN1+HZfMf6x6liPHlcK18O5\n",
              "sI2IiFyoy5XLL7/8EqGhoQCAb775Brfccgv2798PAFi+fDmysrJc2T4il0uKECuN+VW2p/Qs+f00\n",
              "gNZ9UAVBgM5otqnq5VY2obxeB41Kia1PnY9jJfU28zafvGgoXvv1OO46JwWnLcPhe/J7Fi6lDc6D\n",
              "tGr88MDZWHmoBP9YdQyldS1depz1x8sQ4ueDsYliAD5RKobLTEvYJiIicoUuVy6lYAkAtbW13Zqj\n",
              "pdPpUFdXZ/PPZDI5/kIiF0i0DGMXVjXLcxgLqpqw7VQVAKCiXlyk8/jXBzD2r6tt9rLcYZlnmZUQ\n",
              "iohALaalRSLY10e+/6zkcHxx5xSkxwRhXJIU4hrw+Ff7YTSZu9XeIku4jAvzQ3JkAM7LjAIAVDbo\n",
              "nX6Mgqom3LpkJ659fys2nigHABy3hMuMWIZLIiJynW4t6Jk/fz4SEhLw7LPP4tNPP7W5fdSoUbjt\n",
              "tttQXl7e4dcvXLgQISEhNv927NjRnaYQddngUD/4qBTQm8wosVT/pCMiAaCyUQdBEPD17kI0G0xY\n",
              "brX/4/bTYgCdOCTc4feJDNTij9OGAAC+2l2IHw+c6VZ75XAZ6gcAiAjUAACqmvROL/DZk18NQQCM\n",
              "ZgH3fLYbu/Oq5coqK5dERORK3QqXS5cuRUFBAV566SU88cQTAICNGzfiwIED2LNnDyIjI7FgwYIO\n",
              "v/6pp55CbW2tzb+JEyd27ycg6iKVUoH4MMvQeGUTBEHA//YWyvdXNepRWN161rZlFyMIgoDtp5wP\n",
              "lwDwl8uG447pYsDccrKiW+0tqm6tXAJAuL8GCoW41VFVo3PVy735NQAAH5UCjXoTbvp4O0xmAcG+\n",
              "asQEc1suIiJynR5tRbRgwQKsW7cOlZWVSExMBAD4+Pjg4YcfxqZNmzr8Oq1Wi+DgYJt/KhVXq5L7\n",
              "SCu886sasSuvGnmVTfDXqKBQAGYB2HqqUr62rF4HAFh/ohxFNc3w81HJQ97OODtdHMb+PafSwZX2\n",
              "SXMuB1sql2qVEmH+YvWyvF6Hr3YV4G8/H0WLoeOpJdI80ucuG4Fhg4LRbLl2aGwwtx8iIiKX6lK4\n",
              "rKmpQXFxsfz5t99+i4iICPj6+qKmpka+fdmyZRg7dqzLGknkakmWcJlX2YQVu8Wq5cWjBsmhbXN2\n",
              "a5WxsLpZXCVu2WbopsmJXTpv+6ykMKiVChTVNNvM33RW22FxAIgIENs5/5PtePzrA/hw4yl8uav9\n",
              "8Y0AoDeacbhYXG1+dlok/nPrBMRbqqBDB3FInIiIXKtLq8Vra2tx7bXXorm5GUqlElFRUfjxxx9R\n",
              "WlqKq6++GiaTCYIgICUlBUuXLu2tNhP1mLRi/ERpvbyQ5+px8dhfUIOqRj02n7QOl03YcrISe/Nr\n",
              "oFUrccc5KV36XgFaNbISQrErrxq/51TguvDELn19cY04L1QaFgfE+ZzZZQ2osFrUs/FEOeZbbRgv\n",
              "OV5SD73RjBA/HyRF+EOhUGDZHZPx2fY8u9cTERH1RJfCZVJSUocLb6T9Lon6A2lYfM3RMgBAfJgf\n",
              "Jg0Jl0Ob9VzGoppmvLlG3Pty3qRERAf5dvn7TU2NwK68amzNqcR1E5wPl0arRUc2lUvLoh5rW3Mq\n",
              "oTeaoVHbDkjkWPbzHDYoSB4CTwj3x1MXDevyz0FEROQIj3+kAWlsQqhNCLtqXDyUSoXd0GYwCdiV\n",
              "Vw2NWom7z03t1vebnBoBQJx3KQjOH+F4prYFJrMAjUqJqMDWhTeRVh9PGhKOiAANGvUmu3tq1jSJ\n",
              "QTk8oP3PRkRE5GoMlzQgRQf74p/XjgEAKBTA1ePiANiGtvgwPySEt1YLr5+QgJjgrlctAWBcYhg0\n",
              "aiXK6nXIKXf+rPENlj0phw8OhlLZuvAmwiooZsYGYXp6JADIe1haq20WTxMK8fNpdx8REZGrMVzS\n",
              "gHXZmMH4eP5Z+OCm8UiKCAAARFpVLicOCUd8qDh87qNSdLtqCQC+PiqMt5yMY70S3ZFVh0oAABeO\n",
              "jLW5PTKoNQSnxwThnAxxRfrGbHvh0gAACPFj5ZKIiHofwyUNaLOGx2DOiNbgFtFmuDktOhAAcM34\n",
              "BHkroO6aahka35rj3H6XNU16OYheOMI2XFpXLtOjAzHdst3RoaI6VDTobK5tDZesXBIRUe9juCSy\n",
              "EuTbusZt4pAIPHB+Gp67bDievbTni1+mponhctupKpidOFln9ZFSmMwChsYGITkywOY+f01rOzNi\n",
              "ghAVpMXwQcEAbLdRAoDaZnHOJcMlERG5A8MlkZVYqzmVyRH+iA72xa3ThtiEue4aHR8Kf40KVY16\n",
              "+VzvzkhD4heNHNTuvozYQPljaaHO9Az78y5ZuSQiIndiuCSyMj4pDC9fORIr7pni8pNrfFRKTEgW\n",
              "j410dFpPfYsBmywVyLbzLQEgOsgXa/50DnY8PVO+7dx0ad5lhc2KdClchvozXBIRUe9juCSyolAo\n",
              "cOOkJIxPcu7s8K6aIs+77DxcrjteDr3JjJTIAGTEBNq9Ji06CNFWldbxyWHw81GhokGHo2daK6Os\n",
              "XBIRkTsxXBK50cQhYmiVzvruyI7TYvicOSza6QqqVq2Sw6v1qvGaJoZLIiJyH4ZLIjeSNkKvbzF0\n",
              "el1htXieeGqU/aplR85ps99li8EEndEMAAhmuCQiIjdguCRyI2k1eovBDKPJ3OF1RZZw2dXtj6T9\n",
              "LnflVqNJb0SdZUhcoQCCtD1flEREROQIwyWRGwVYBbxGncnuNYIgoLhGDJdxYV0Ll0MiAxAX6ge9\n",
              "yYxtpypt5ltan/BDRETUWxguidzIR6WE1nKmeb3O/tB4bbMBjXoxeMZ1sXKpUChaT+s5UcHFPERE\n",
              "5HYMl0RuFmipXnZUuZTmW0YEaODro+ry458r7XeZXc7FPERE5HYMl0RuFmiZd9nQQeWyu0Pikqlp\n",
              "kVApFThV3ihv1s5wSURE7sJwSeRmARopXNqvXBZJ4bKbZ5kH+/ogNUo8LnL76SrxNoZLIiJyE4ZL\n",
              "IjeTK5ctRrv3S5XLrq4Ut5YeHQQA2J0rhstQhksiInIThksiN2udc2k/XPa0cgkAadHi/pjSwqCe\n",
              "BFUiIqKuYLgkcjMpXNbbCZc7c6uw5kgZACA1umsbqFtLb3NkpHSmORERUW9juCRys4AOKpc55Q24\n",
              "Y+ku6E1mzB4eg7PTIrv9PaRhcQDQqJUYHR/S7cciIiLqCoZLIjcLkleLt4bLigYdbl28EzVNBoxJ\n",
              "CMW/rh8LVQ82PU+O9Jc/jgv169aWRkRERN3BcEnkZq2rxcVw2WIw4fb/7EJ+VRMSwv2waMFZ8NP0\n",
              "LAxq1a1fPyjEt0ePRURE1BUMl0Ru1na1+MpDZ7CvoAYhfj5YcutERAZqXfJ9Hjg/Df4aFZ6/fIRL\n",
              "Ho+IiMgZaseXEJErBWrFqqI05/JYibjR+dyswUiN6v4inrYenZOJP83OgELBM8WJiMh9WLkkcrNA\n",
              "rbjnpLRaPKesEUDPVod3hMGSiIjcjeGSyM0C2lQuT5U3AIBLq5ZERESewnBJ5GbWq8X1RjPyqpoA\n",
              "MFwSEZF3YLgkcjPrfS7zqxphMgsI0KgQE+yahTxERESexHBJ5GbSVkT1LUactJpvyfmRRETkDRgu\n",
              "idxMGhbXGc04blkpziFxIiLyFgyXRG4mDYsDwOHiWgBAckSAp5pDRETkUgyXRG7mo1IiwHICz+Hi\n",
              "OgBAXJifJ5tERETkMgyXRB4ghcmimmYAwOBQHtFIRETegeGSyAMSwvxtPh8cwsolERF5B4ZLIg9I\n",
              "CLcNl7EhrFwSEZF3YLgk8oB4qzmWkYEa+PqoPNgaIiIi12G4JPIA68rl4FAOiRMRkfdguCTyAOs5\n",
              "l5xvSURE3oThksgDEsJbA+UgrhQnIiIvwnBJ5AFBvj4I9fcBAMRxWJyIiLwIwyWRhyRZTuWJb7Mt\n",
              "ERERUX+mdnwJEfWGpy8airXHyjBjaJSnm0JEROQyDJdEHjIpJQKTUiI83QwiIiKX4rA4EREREbkM\n",
              "wyURERERuQzDJRERERG5DMMlEREREbkMwyURERERuQzDJRERERG5DMMlEREREbkMwyURERERuQzD\n",
              "JRERERG5DMMlEREREbmMQhAEwdONAICrrroKycnJnm6Gx5hMJuzYsQMTJ06ESqXydHP6LPaTY+yj\n",
              "jrFvHGMfOcY+ch77yrH+1kdJSUl46KGHOr2mz4TLga6urg4hISGora1FcHCwp5vTZ7GfHGMfdYx9\n",
              "4xj7yDH2kfPYV455Yx9xWJyIiIiIXIbhkoiIiIhchuGSiIiIiFyG4bKP0Gq1eO6556DVaj3dlD6N\n",
              "/eQY+6hj7BvH2EeOsY+cx75yzBv7iAt6iIiIiMhlWLkkIiIiIpdhuCQiIiIil2G4JCIiIiKXYbj0\n",
              "EE51JaK+gH+LOmcwGDzdBKJ+h+HSjU6fPo0jR44AABQKhYdb0zc1NjZ6ugn9gk6n83QT+qyCggKU\n",
              "lJR4uhl92rFjx/C///0PAP8WdeTQoUO4+eabcfDgQU83pc/Lz8/n75wDA+1vNsOlGzQ3N+Phhx/G\n",
              "xRdfjIceegjPPvssDh8+7Olm9SkNDQ244447cPfdd6OoqAgAKyr2NDQ04K677sJLL72E6upqAOwn\n",
              "SUNDA/70pz/hkksuwYIFC/DKK68AYP9Ya2howKOPPop58+bBZDJ5ujl9ktRHt912G/773//Kf6v5\n",
              "PGqvqakJjzzyCC644ALMnz8fr776KsrLyz3drD5loP7NZrh0g3//+98oLS3F0aNH8eGHH6KoqAgv\n",
              "vfQSamtrPd20PqGsrAwPPPAAdu/eDaVSiW+//RYAKypt5ebm4pZbbsG6deuQnZ2NLVu2AGA/AcDu\n",
              "3btxySWXwGQyYf/+/Xjsscfw8ssvo7Gxkf1jsWvXLkyaNAmFhYXYvXs3rr32Wk83qc9ZuXIlpk+f\n",
              "DoVCgfXr1+PVV1/F8ePHAfD3zJ6XX34Z1dXVOHr0KF555RWsWbMGr7/+OpqamjzdtD5hIP/NZrjs\n",
              "JdI7k+bmZmRnZ+PSSy8FAAwZMgQRERHYtm0bPvroI082sc/w8/PDPffcg/Xr1+Oss87Crl27sH//\n",
              "fgCA2Wz2cOv6Dj8/P9x3333Yv38/Bg0ahA0bNiAvLw/AwHgn3Jno6Gi88847eOutt6BQKFBcXIw/\n",
              "/OEPyM/P93TT+gyNRoPU1FTMmzcPCoUCGzduxC+//IJDhw55uml9RkpKCpYvX47XXnsNfn5+OHr0\n",
              "qDxVh5VeWzU1NTh06BDuvfdeAEBWVhaioqLwww8/yAWCgS4wMHDA/s1muHSxY8eO4Y477sDLL7+M\n",
              "vLw8+Pn5QaVSYfXq1di3bx+qqqpQWVmJq666CgcOHEBFRYWnm+x2p0+fxs8//yx/HhQUhDFjxiA4\n",
              "OBgzZsyAr6+v/MdJqRy4T9Hjx4/j/vvvxwcffIC6ujrExMRg2rRp8PPzw9y5c5Gfn48NGzYAGBjv\n",
              "hK217ZuEhASMHDkSDQ0NeO655/Dcc88hIiICV111FT7//PMBWUmx7qPa2lqMHj0ac+bMwZIlSzB1\n",
              "6lQ8/fTT+PnnnzF9+nSsXr3a0831iLbPo8zMTGRkZMjz4y6++GL8+uuvAACVSuXJpnqc1Fcffvgh\n",
              "amtrERoaipaWFnz44YeoqqpCeXk5fHx8MH78eBw6dAjNzc2ebrLb5efnY8eOHfLnkZGRmDx58oD8\n",
              "mz1wX7l7werVq3H11Vdj2LBhOH36NO677z788MMPWLhwIQDgueeew+zZszFx4kTMnDkTBQUFiIyM\n",
              "9HCr3UcQBLz88stIS0vDP//5T/z+++/y7dKxVyNHjsSECROQnZ2NNWvWABiYFYOvvvoKc+fOxeDB\n",
              "g7Fq1SrcfPPN2LBhAzQaDQDg3HPPRWZmJrZs2SIvOPD2d8KStn0zf/58+Q92QEAALr30UuTm5uLv\n",
              "f/87HnvsMbz33nte/4e8rbZ9dNNNN2HXrl249dZbERwcjGuvvRabN2/GW2+9hccffxwvvviip5vs\n",
              "dp09j6S/RxEREUhLS0NOTo4nm+px1n21cuVKzJs3D4cOHcLixYtx6tQp3HHHHZg9ezZmzZqF8847\n",
              "D9u2bYOfn5+nm+02giDg+eefR3JyMt566y15KoUgCHI/DLS/2QyXLnT8+HGcc845+NOf/oQPPvgA\n",
              "l1xyCf7zn/+guLgYS5YswRtvvIE1a9bg7rvvxqhRo+Dj4zOgKioFBQXQarX4/PPPMXXqVPzwww8w\n",
              "GAzyC7/0izZnzhykpaVh7dq1+Pvf/4433nhjwK0iz87Oxrx58/D000/jiy++QHp6OlasWIHs7Gz5\n",
              "mhtvvBFGoxFbt27Fq6++iv/+979e/cdK0rZv0tLSsGLFCpw4cQIKhQITJkyQr507dy5UKtWAq6K0\n",
              "7aPMzEwsXrwYtbW1eP/99/HII4/I11599dXw9/cf8L9j0vPI+ncsMjISBw4cQGhoKADvDgOdadtX\n",
              "w4YNw3vvvQelUonffvsNf/3rX7F27VrceOONGDVqFMLDwwfUFk5SWFy8eDH8/PywYcMGmEwm+bVN\n",
              "mt41kP5mM1y6iCAIaG5uRmRkJBoaGqBWqzF79mwkJSVh8eLFAMT5PGFhYVi7di2uv/56zJw5E/7+\n",
              "/h5uufvEx8dj/vz5uO666zBs2DAUFhbip59+AiD2n/SLGB8fD6PRiH/9619YsWIFZs2ahYCAAE82\n",
              "3a2MRiPy8/MRFRUlV3WvvfZaNDc3y9VcAMjMzIRarcYjjzyCZcuWYfTo0V5foeusb9auXWtz7bZt\n",
              "23DNNddg+vTpcjgYCDrqI51Oh++//96morRjxw7ccccdmDFjBn/H7PyOjRgxAiEhIQN6kWFnzydp\n",
              "O6sRI0YgIiIC69evx4MPPohZs2bBx8fHwy13n+HDh+P222/HggULkJqaiu3bt2P37t3y/dL0roH0\n",
              "N5vh0gWkYBQVFYWdO3fK2w2kpaVh3LhxqKurQ01NDZqbm7F06VLcd999uP/++/HEE094uOXupVQq\n",
              "ER0dDQC44IILkJCQgNWrV6O4uNimevnNN99gyZIl+PDDD7Fz505kZWV5sNXuJQgC1Go1UlNTsXTp\n",
              "UrlfJk2ahKSkJJw6dQqAuGfaJ598gpUrV+Kjjz7Cnj17MHr0aE82vdc52zcFBQX4wx/+gAceeAD3\n",
              "3HMPXnzxxQEzd7ezPkpOTpaHd0tLS3HttdfiwQcfHHB/i5x9HgFAVVUV5syZg7POOstTzfUoR8+n\n",
              "06dPAwBqa2vxxhtv4O6778b999+Pu+++25PNdju1Wo34+HgAwPz586HT6bBu3TpUVVUBEPvRaDRi\n",
              "0aJFA+dvtkBdcubMGUGn0wmCIAgmk6nd/dOmTRNee+01oa6uThAEQdi9e7eQkZEhNDU1yV/v7Trq\n",
              "I+lj6b8rV64UFixYIHz99deCIAjC4cOHBUEQhPLycnc212NOnjwpPy/MZrPNfwVBEAYPHiwsWrRI\n",
              "/nz16tVCWlqa/PmJEyfc1FL3607fpKamyp9/++23bmqp5/T0+fPll1+6qaWe09M+Gkh62lfHjx93\n",
              "U0s9x14fWX8svbZ98sknwrx584Tdu3cLgiAIxcXFgiB499/stgbG23kXWLZsGcaNG4f77rtP3lZI\n",
              "qVTCbDbbzJl46aWX8NNPP+GDDz4AIM5VycrKgl6vBwDExsa6v/Fu4qiPpOqR9N8LL7wQZ511FhYu\n",
              "XIjQ0FD8+OOPMJvNXr/Iafny5cjKysKf//xnXHTRRQDE4ba22y698847eP311+UhuYKCAsyePVt+\n",
              "LqWnp7u13e7Qk76ZM2cOWlpaAABXXHGFW9vtTj19/kh95M37XPa0jwbSfEFX/T3KyMhwa7vdqbM+\n",
              "EqymdEmvbbfeeiuio6Px5z//GSEhIfjuu+8AeOff7A55ONz2eU1NTcJjjz0mTJ8+Xdi8ebMgCIKQ\n",
              "kpIivPrqqzbX7dq1S7jzzjsFg8EgfPfdd8JNN90kTJkyRRg9erSwbds2TzTdbZzto927dwt33nmn\n",
              "UFlZKQiCIOTn5wsJCQnClClThA0bNri93e7W0NAgPPzww8KMGTPknzc0NFT44osvbK7bvXu38Mwz\n",
              "zwiCIAhvvvmmcMMNNwgTJkwQxo4dK+zcudPt7XYH9o1j7CPH2EfOY1855mwf7dmzR3j22WeF2tpa\n",
              "QRDE17bBgwcLU6ZMEdatW+fuZvcJDJdOWLRokc1Q7bvvvitcccUV8uevvPKKkJGRIXzyySfybUaj\n",
              "Udi/f787m+lRzvbRkiVLBEEQBIPBIPz000/C+++/7+6metSmTZvkjysrK4ULL7xQWL16tXzbwoUL\n",
              "hbS0NOHTTz8VBEEcZmloaBC2bNni9ra6G/vGMfaRY+wj57GvHHO2j5YtWyYIgiA0NzcLH3zwwYB7\n",
              "bWtLIQheug6+B9555x1EREQgPT0d48ePR01NDUJDQ2EymaBSqXDXXXchJSVFngSfk5ODxMREeXWc\n",
              "2Wz2+gUEPe2jgULqp4yMDIwbNw5GoxFqtRpr167FY489huTkZBiNRsTFxeGRRx6BTqfDsGHDBsRz\n",
              "iX3jGPvIMfaR89hXjvW0j8jC0+m2L/npp5+ECRMmCHPnzhWefPJJwd/fXy5zC0LrpN1rrrnG5t2M\n",
              "xGAwuK2tnsI+co6jfjp27Ji8uKu8vFyYMGGC8P3338v3G41Gt7fZXdg3jrGPHGMfOY995Rj7yLUY\n",
              "Li1KS0uFK6+80ubJcsEFFwjPPvuszXXV1dXCxIkTBbPZLBw8eFB44YUXhKqqKnc31yPYR85xtp+s\n",
              "XX/99cLy5cvd0TyPYt84xj5yjH3kPPaVY+wj11N7unLqSS0tLdDpdAgMDER0dDSefPJJjBs3Ti79\n",
              "p6amIjMzE0DrXpbbtm2D0WjEX/7yF/z888+YP38+wsLCPPyT9B72kXO60k/WDAYDnnrqKeTm5mLy\n",
              "5MkeaHnvY984xj5yjH3kPPaVY+yj3uXdkyc68c4772Do0KG4/fbbceeddwIAJk6cCLW6NW8fPXpU\n",
              "PrVC2mpgw4YN2L9/P0wmEzZs2ICHHnrI/Y13E/aRc7raT5K33noLY8eOhdlsxurVq5GYmOjWdrsD\n",
              "+8Yx9pFj7CPnsa8cYx+5gadLp56wbt06YeLEicKxY8eE0tJSYdy4ccLf/vY3mw3Os7OzhfT0dPnz\n",
              "oqIiQRAE4ZdffhEOHDjg9ja7G/vIOT3pp23btglHjhxxe5vdhX3jGPvIMfaR89hXjrGP3GPAVC5r\n",
              "amrkj/Py8jBt2jRkZmYiOjoar776Knbv3o1NmzbJ15w+fRpz585FbW0t5s6diwcffBAmkwlz5szB\n",
              "qFGjPPAT9D72kXN62k8PPfQQTCYTJk2ahGHDhnngJ+g97BvH2EeOsY+cx75yjH3kfl4fLo1GI559\n",
              "9llccMEFuO+++7By5UrExcXhp59+kq85//zzkZqais2bN8vngm/evBlvvfUWZsyYgenTp+Prr7+G\n",
              "SqXy1I/Rq9hHznFVP3311Vde10/sG8fYR46xj5zHvnKMfeRBni6d9qadO3cKWVlZwv333y8cPHhQ\n",
              "eOedd4TU1FRBp9MJQ4YMkTf0FgRB2L9/v5CUlCTU19cLgiAI559/vjBv3jyhurraQ613D/aRc9hP\n",
              "HWPfOMY+cox95Dz2lWPsI8/y6nB57Ngx4c0335Q/LygoEGbOnCmcPHlSWLJkiRARESHodDr5/vPP\n",
              "P1/Yu3evIAiC0NjY6O7megT7yDnsp46xbxxjHznGPnIe+8ox9pFnef0JPfX19QgKCgIgnhJzxRVX\n",
              "YOvWrQgKCsLFF1+MwMBAXHLJJVizZg1KSkrw/fffw8/Pz8Otdi/2kXPYTx1j3zjGPnKMfeQ89pVj\n",
              "7CPP8fo5l9ITCwBOnDiB9PR0+bb//ve/uPrqq/HTTz8hNTUVq1evHpBPLPaRc9hPHWPfOMY+cox9\n",
              "5Dz2lWPsI88ZEJuoS5uibt++HRMmTAAAfPbZZxgyZAiuu+46XHnlldBoNB5upWexj5zDfuoY+8Yx\n",
              "9pFj7CPnsa8cYx95htdXLgFAqRR/zOPHj8NsNmP+/Pl4//335ScUn1jsI2exnzrGvnGMfeQY+8h5\n",
              "7CvH2Ece4ulJn+6Sm5srKBQKYcKECcLHH3/s6eb0Sewj57CfOsa+cYx95Bj7yHnsK8fYR+7n9Qt6\n",
              "JCaTCa+99hoefvhhaLVaTzenT2IfOYf91DH2jWPsI8fYR85jXznGPnK/ARMuiYiIiKj3DYg5l0RE\n",
              "RETkHgyXREREROQyDJdERE5KTk5GZmYmxowZg7S0NFxxxRX4/fffHX7dt99+i23btrmhhUREnsdw\n",
              "SUTUBcuXL8f+/ftx8uRJLFiwABdffDG2b9/e6dcwXBLRQMJwSUTUTVdddRXuvvtuvPbaa1i7di2m\n",
              "TJmCsWPHYsSIEVi0aBEA4Oeff8b333+PV199FVlZWfj4448BAJ9++ikmTZqEcePG4ZxzzsH+/fs9\n",
              "+aMQEbnMgDihh4iot0yaNAnff/89xo0bh82bN0OlUqGqqgpjx47FBRdcgIsvvhiXX345srKy8PDD\n",
              "DwMAtmzZgmXLlmHjxo3QarXYtGkT5s2bh8OHD3v2hyEicgGGSyKiHpB2c6usrMRtt92GEydOQK1W\n",
              "o7KyEocOHUJ8fHy7r/nuu++wf/9+TJo0Sb6tqqoKzc3NPN+YiPo9hksioh7YuXMnRo4cibvvvhsX\n",
              "X3wxVqxYAYVCgXHjxqGlpcXu1wiCgAULFuBvf/ubm1tLRNT7OOeSiKibvvvuO7z33nt49NFHUV1d\n",
              "jaSkJCgUCmzcuNFmDmVwcDBqa2vlzy+//HJ89tlnyM/PBwCYzWbs2rXL7e0nIuoNPKGHiMhJycnJ\n",
              "0Gq18PX1RWNjI4YPH44nn3wSU6dOxerVq3HvvfciICAAWVlZOHHiBP785z9j7ty52LlzJ2655RZo\n",
              "NBrcd999uP322/HFF1/g1VdfhdFohF6vxyWXXILXXnvN0z8iEVGPMVwSERERkctwWJyIiIiIXIbh\n",
              "koiIiIhchuGSiIiIiFyG4ZKIiIiIXIbhkoiIiIhchuGSiIiIiFyG4ZKIiIiIXIbhkoiIiIhchuGS\n",
              "iIiIiFyG4ZKIiIiIXIbhkoiIiIhc5v8BuInLyF2CPLsAAAAASUVORK5CYII=\n",
              "\">\n",
              "      </div>\n",
              "      <script type=\"text/javascript\">\n",
              "        (() => {\n",
              "          const chartElement = document.getElementById(\"chart-93e9d808-ff6b-4feb-acb1-72e13dec061b\");\n",
              "          async function getCodeForChartHandler(event) {\n",
              "            const chartCodeResponse =  await google.colab.kernel.invokeFunction(\n",
              "                'getCodeForChart', [\"chart-93e9d808-ff6b-4feb-acb1-72e13dec061b\"], {});\n",
              "            const responseJson = chartCodeResponse.data['application/json'];\n",
              "            await google.colab.notebook.addCell(responseJson.code, 'code');\n",
              "          }\n",
              "          chartElement.onclick = getCodeForChartHandler;\n",
              "        })();\n",
              "      </script>\n",
              "      <style>\n",
              "        .colab-quickchart-chart-with-code  {\n",
              "            display: block;\n",
              "            float: left;\n",
              "            border: 1px solid transparent;\n",
              "        }\n",
              "\n",
              "        .colab-quickchart-chart-with-code:hover {\n",
              "            cursor: pointer;\n",
              "            border: 1px solid #aaa;\n",
              "        }\n",
              "      </style>"
            ]
          },
          "metadata": {}
        }
      ]
    },
    {
      "cell_type": "code",
      "source": [],
      "metadata": {
        "id": "Cij4SID65t6o"
      },
      "execution_count": null,
      "outputs": []
    },
    {
      "cell_type": "markdown",
      "source": [
        "## 19. NumPy"
      ],
      "metadata": {
        "id": "fRbMdl63FXvH"
      }
    },
    {
      "cell_type": "code",
      "source": [],
      "metadata": {
        "id": "dF2wx2yrFkpH"
      },
      "execution_count": null,
      "outputs": []
    },
    {
      "cell_type": "code",
      "source": [],
      "metadata": {
        "id": "dXZ7aibtIck-"
      },
      "execution_count": null,
      "outputs": []
    }
  ]
}